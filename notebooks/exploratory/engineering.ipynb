{
 "cells": [
  {
   "cell_type": "code",
   "execution_count": 1,
   "id": "dec765fd-7cf9-4b53-9647-18921634ffb3",
   "metadata": {},
   "outputs": [],
   "source": [
    "%load_ext autoreload\n",
    "%autoreload 2"
   ]
  },
  {
   "cell_type": "code",
   "execution_count": 2,
   "id": "e7e827e0-c324-49a5-9c8a-6acd8a4a32dd",
   "metadata": {},
   "outputs": [],
   "source": [
    "# setting project path\n",
    "import os\n",
    "import sys\n",
    "\n",
    "gparent = os.path.join(os.pardir, os.pardir)\n",
    "sys.path.append(gparent)\n",
    "\n",
    "# imports\n",
    "import pandas as pd\n",
    "import numpy as np\n",
    "\n",
    "from sklearn.model_selection import StratifiedKFold\n",
    "from sklearn.model_selection import train_test_split\n",
    "from sklearn.model_selection import cross_val_score\n",
    "from sklearn.preprocessing import OneHotEncoder\n",
    "from sklearn.preprocessing import StandardScaler\n",
    "from sklearn.preprocessing import MinMaxScaler, PolynomialFeatures\n",
    "from sklearn.compose import make_column_selector\n",
    "from sklearn.compose import make_column_transformer\n",
    "from sklearn.pipeline import make_pipeline \n",
    "from sklearn.metrics import accuracy_score, recall_score, precision_score, f1_score\n",
    "from sklearn.metrics import make_scorer, plot_confusion_matrix\n",
    "from sklearn.linear_model import LogisticRegression\n",
    "from sklearn.neighbors import KNeighborsClassifier\n",
    "from sklearn.base import clone\n",
    "from sklearn.tree import DecisionTreeClassifier\n",
    "from sklearn.ensemble import RandomForestClassifier\n",
    "\n",
    "from imblearn.over_sampling import SMOTE\n",
    "from imblearn.pipeline import make_pipeline as make_sm_pipeline\n",
    "\n",
    "from src import classes as c\n",
    "from src import functions as f\n",
    "import matplotlib.pyplot as plt\n",
    "import seaborn as sns\n",
    "\n",
    "# setting style\n",
    "sns.set_theme('talk')\n",
    "plt.style.use('fivethirtyeight')\n",
    "sns.set_palette(palette='Blues_r')"
   ]
  },
  {
   "cell_type": "markdown",
   "id": "2b7ec8ba-446d-4c17-8aaf-f92dbc62454c",
   "metadata": {},
   "source": [
    "## Importing the Data"
   ]
  },
  {
   "cell_type": "code",
   "execution_count": 3,
   "id": "959930a8-49d5-44fa-b4be-6f380b385b05",
   "metadata": {},
   "outputs": [],
   "source": [
    "path = os.path.join(gparent, 'data/processed', 'modeling.csv')\n",
    "df = pd.read_csv(path, keep_default_na=False)"
   ]
  },
  {
   "cell_type": "markdown",
   "id": "89d003b1-9e09-4cb4-b910-d21ec32be028",
   "metadata": {},
   "source": [
    "## Preprocessing and Harness Objects"
   ]
  },
  {
   "cell_type": "code",
   "execution_count": 4,
   "id": "3da125bd-dd01-4297-9b59-2d14aa585e74",
   "metadata": {},
   "outputs": [],
   "source": [
    "string_selector = make_column_selector(dtype_include='object')\n",
    "number_selector = make_column_selector(dtype_include='number', dtype_exclude='object')"
   ]
  },
  {
   "cell_type": "code",
   "execution_count": 5,
   "id": "ebeb1f01-cf21-40e5-9212-e1d2a6624c8b",
   "metadata": {},
   "outputs": [],
   "source": [
    "preprocessing = make_column_transformer((OneHotEncoder\n",
    "                                         (handle_unknown='ignore'),string_selector),\n",
    "                                          (StandardScaler(), number_selector))"
   ]
  },
  {
   "cell_type": "code",
   "execution_count": 6,
   "id": "86e5f7fb-1077-4446-8858-d935ef0f42d8",
   "metadata": {},
   "outputs": [],
   "source": [
    "sm = SMOTE(random_state=2021)"
   ]
  },
  {
   "cell_type": "code",
   "execution_count": 7,
   "id": "30b55b51-7e25-4099-ae62-ec44d025cef9",
   "metadata": {},
   "outputs": [],
   "source": [
    "# creating f1 scorer\n",
    "f1 = f.f1"
   ]
  },
  {
   "cell_type": "code",
   "execution_count": 8,
   "id": "d1f485cb-e7b7-406f-a812-3e0bff3a083c",
   "metadata": {},
   "outputs": [],
   "source": [
    "modeling = c.Harness(f1)"
   ]
  },
  {
   "cell_type": "markdown",
   "id": "67fc48c6-f67f-4c9b-9c72-107197d495cf",
   "metadata": {},
   "source": [
    "## Baseline Model"
   ]
  },
  {
   "cell_type": "markdown",
   "id": "e9149cb6-8807-4a31-bcfd-38c2007cc30d",
   "metadata": {},
   "source": [
    "Dropping engineered features to establish the baseline score."
   ]
  },
  {
   "cell_type": "code",
   "execution_count": 9,
   "id": "aaebf3c2-5022-4427-860c-3f41398fde9d",
   "metadata": {},
   "outputs": [],
   "source": [
    "# features engineered during eda\n",
    "feature_list = ['Weapon Flag', 'Reported Year', 'Reported Month',\n",
    "                'Day of Month', 'Day of Week', 'Reported Hour', 'Beat Flag']"
   ]
  },
  {
   "cell_type": "code",
   "execution_count": 10,
   "id": "47512aba-00a7-4890-bb5c-dd72df2992af",
   "metadata": {},
   "outputs": [],
   "source": [
    "excluded = ['Weapon Type', 'Officer ID', 'Initial Call Type', 'Final Call Type',\n",
    "             'Call Type', 'Officer Squad', 'Arrest Flag',\n",
    "             'Frisk Flag',  'Sector', 'Beat', 'Weapon Flag',\n",
    "             'Reported Year', 'Reported Month','Day of Month',\n",
    "             'Day of Week', 'Reported Hour', 'Beat Flag']"
   ]
  },
  {
   "cell_type": "code",
   "execution_count": 11,
   "id": "d13534dd-1c86-4fdb-ba31-f7e0022960d7",
   "metadata": {},
   "outputs": [],
   "source": [
    "baseline_df = f.framer(df, [], excluded)"
   ]
  },
  {
   "cell_type": "code",
   "execution_count": 12,
   "id": "c56efad5-e786-47a8-aff2-9515bf0dc541",
   "metadata": {},
   "outputs": [
    {
     "data": {
      "text/html": [
       "<div>\n",
       "<style scoped>\n",
       "    .dataframe tbody tr th:only-of-type {\n",
       "        vertical-align: middle;\n",
       "    }\n",
       "\n",
       "    .dataframe tbody tr th {\n",
       "        vertical-align: top;\n",
       "    }\n",
       "\n",
       "    .dataframe thead th {\n",
       "        text-align: right;\n",
       "    }\n",
       "</style>\n",
       "<table border=\"1\" class=\"dataframe\">\n",
       "  <thead>\n",
       "    <tr style=\"text-align: right;\">\n",
       "      <th></th>\n",
       "      <th>Target</th>\n",
       "      <th>Subject Age Group</th>\n",
       "      <th>Officer YOB</th>\n",
       "      <th>Officer Gender</th>\n",
       "      <th>Officer Race</th>\n",
       "      <th>Subject Perceived Race</th>\n",
       "      <th>Subject Perceived Gender</th>\n",
       "      <th>Precinct</th>\n",
       "    </tr>\n",
       "  </thead>\n",
       "  <tbody>\n",
       "    <tr>\n",
       "      <th>0</th>\n",
       "      <td>1</td>\n",
       "      <td>NA</td>\n",
       "      <td>1984</td>\n",
       "      <td>M</td>\n",
       "      <td>Black</td>\n",
       "      <td>Asian</td>\n",
       "      <td>Male</td>\n",
       "      <td>South</td>\n",
       "    </tr>\n",
       "    <tr>\n",
       "      <th>1</th>\n",
       "      <td>0</td>\n",
       "      <td>NA</td>\n",
       "      <td>1965</td>\n",
       "      <td>M</td>\n",
       "      <td>White</td>\n",
       "      <td>NA</td>\n",
       "      <td>NA</td>\n",
       "      <td>NA</td>\n",
       "    </tr>\n",
       "  </tbody>\n",
       "</table>\n",
       "</div>"
      ],
      "text/plain": [
       "   Target Subject Age Group  Officer YOB Officer Gender Officer Race  \\\n",
       "0       1                NA         1984              M        Black   \n",
       "1       0                NA         1965              M        White   \n",
       "\n",
       "  Subject Perceived Race Subject Perceived Gender Precinct  \n",
       "0                  Asian                     Male    South  \n",
       "1                     NA                       NA       NA  "
      ]
     },
     "execution_count": 12,
     "metadata": {},
     "output_type": "execute_result"
    }
   ],
   "source": [
    "baseline_df.head(2)"
   ]
  },
  {
   "cell_type": "code",
   "execution_count": 13,
   "id": "82e9e7d3-180e-44f4-91a9-a5eb80bb1485",
   "metadata": {},
   "outputs": [
    {
     "name": "stdout",
     "output_type": "stream",
     "text": [
      "<class 'pandas.core.frame.DataFrame'>\n",
      "RangeIndex: 46960 entries, 0 to 46959\n",
      "Data columns (total 8 columns):\n",
      " #   Column                    Non-Null Count  Dtype \n",
      "---  ------                    --------------  ----- \n",
      " 0   Target                    46960 non-null  int64 \n",
      " 1   Subject Age Group         46960 non-null  object\n",
      " 2   Officer YOB               46960 non-null  int64 \n",
      " 3   Officer Gender            46960 non-null  object\n",
      " 4   Officer Race              46960 non-null  object\n",
      " 5   Subject Perceived Race    46960 non-null  object\n",
      " 6   Subject Perceived Gender  46960 non-null  object\n",
      " 7   Precinct                  46960 non-null  object\n",
      "dtypes: int64(2), object(6)\n",
      "memory usage: 2.9+ MB\n"
     ]
    }
   ],
   "source": [
    "baseline_df.info()"
   ]
  },
  {
   "cell_type": "code",
   "execution_count": 14,
   "id": "2fda8c57-cd87-448d-adb6-53b3296cb609",
   "metadata": {},
   "outputs": [],
   "source": [
    "X, y = f.Xy(baseline_df)"
   ]
  },
  {
   "cell_type": "code",
   "execution_count": 15,
   "id": "af987daf-967a-4f84-9860-2d2ed0879116",
   "metadata": {},
   "outputs": [],
   "source": [
    "X_train, X_test, y_train, y_test = f.splitter(X,y)"
   ]
  },
  {
   "cell_type": "code",
   "execution_count": 16,
   "id": "95ba01e3-6930-4229-9148-60db8afa7b0b",
   "metadata": {},
   "outputs": [
    {
     "data": {
      "text/plain": [
       "<35220x42 sparse matrix of type '<class 'numpy.float64'>'\n",
       "\twith 246540 stored elements in Compressed Sparse Row format>"
      ]
     },
     "execution_count": 16,
     "metadata": {},
     "output_type": "execute_result"
    }
   ],
   "source": [
    "preprocessing.fit_transform(X_train)"
   ]
  },
  {
   "cell_type": "code",
   "execution_count": 17,
   "id": "9c85f052-308f-4469-817f-37fd6f4b56b1",
   "metadata": {},
   "outputs": [],
   "source": [
    "KNN = KNeighborsClassifier()"
   ]
  },
  {
   "cell_type": "code",
   "execution_count": 18,
   "id": "e2035c22-ed61-43c3-a536-dd7085f8646c",
   "metadata": {},
   "outputs": [],
   "source": [
    "baseline = make_pipeline(preprocessing, KNN)"
   ]
  },
  {
   "cell_type": "code",
   "execution_count": 19,
   "id": "889b3eab-60f2-4443-b7c1-1917f382cd7d",
   "metadata": {},
   "outputs": [
    {
     "name": "stdout",
     "output_type": "stream",
     "text": [
      "Baseline has an average F1 of 0.2930510571694175\n"
     ]
    },
    {
     "data": {
      "text/plain": [
       "array([0.29814942, 0.28491425, 0.29144667, 0.30731877, 0.28342618])"
      ]
     },
     "execution_count": 19,
     "metadata": {},
     "output_type": "execute_result"
    }
   ],
   "source": [
    "modeling.report(baseline, X_train, y_train, 'Baseline', 'KNN - Baseline Features')"
   ]
  },
  {
   "cell_type": "code",
   "execution_count": 20,
   "id": "8487f04e-23a5-4fe1-b68e-502d97562e28",
   "metadata": {},
   "outputs": [],
   "source": [
    "baseline_sm = make_sm_pipeline(preprocessing, sm, KNN)"
   ]
  },
  {
   "cell_type": "code",
   "execution_count": 21,
   "id": "424f7d43-e730-4e99-b20b-3b9f44bcc863",
   "metadata": {},
   "outputs": [
    {
     "name": "stdout",
     "output_type": "stream",
     "text": [
      "Baseline_SM has an average F1 of 0.4185201782434615\n"
     ]
    },
    {
     "data": {
      "text/plain": [
       "array([0.41236183, 0.41164703, 0.43376213, 0.40610061, 0.42872928])"
      ]
     },
     "execution_count": 21,
     "metadata": {},
     "output_type": "execute_result"
    }
   ],
   "source": [
    "modeling.report(baseline_sm, X_train, y_train, 'Baseline_SM',\\\n",
    "                'Baseline Model w/ SMOTE')"
   ]
  },
  {
   "cell_type": "markdown",
   "id": "62db2984-ee09-451c-85b7-4b103ad9b4e2",
   "metadata": {},
   "source": [
    "With OID:\n",
    "0.4344416 , 0.44728326, 0.44414215, 0.42996076, 0.43894279"
   ]
  },
  {
   "cell_type": "code",
   "execution_count": 22,
   "id": "4076d1c9-1db7-4e99-907d-386c4dc15742",
   "metadata": {},
   "outputs": [],
   "source": [
    "# f.confusion(baseline, X_train, y_train)"
   ]
  },
  {
   "cell_type": "code",
   "execution_count": 23,
   "id": "144614b4-c385-45f5-9603-b2c63f29626a",
   "metadata": {},
   "outputs": [],
   "source": [
    "# f.confusion(baseline_sm, X_train, y_train)"
   ]
  },
  {
   "cell_type": "code",
   "execution_count": 24,
   "id": "f7aa6f15-14ee-4f99-882e-1f54c91e58a0",
   "metadata": {},
   "outputs": [],
   "source": [
    "# modeling.history"
   ]
  },
  {
   "cell_type": "markdown",
   "id": "0a2d32a7-a949-4211-9f1e-c2d2e984c0ad",
   "metadata": {},
   "source": [
    "## KNN With Engineered Features\n",
    "Engineered columns from original EDA:\n",
    "\n",
    "'Weapon Flag', 'Reported Year', 'Reported Month', 'Day of Month', 'Day of Week', 'Reported Hour', 'Beat Flag'"
   ]
  },
  {
   "cell_type": "code",
   "execution_count": 25,
   "id": "cd8238f5-f2c5-4481-aab0-5ac24fb0f01e",
   "metadata": {},
   "outputs": [],
   "source": [
    "feature_list1 = ['Sector',\n",
    " 'Beat',\n",
    " 'Weapon Flag',\n",
    " 'Reported Year',\n",
    " 'Reported Month',\n",
    " 'Day of Month',\n",
    " 'Day of Week',\n",
    " 'Reported Hour',\n",
    " 'Beat Flag']"
   ]
  },
  {
   "cell_type": "code",
   "execution_count": 26,
   "id": "29480ef3-40c0-43c0-a3c7-597960fe0b31",
   "metadata": {},
   "outputs": [],
   "source": [
    "excluded1 = ['Weapon Type',\n",
    " 'Initial Call Type',\n",
    " 'Final Call Type',\n",
    " 'Call Type',\n",
    " 'Officer Squad',\n",
    " 'Arrest Flag',\n",
    " 'Frisk Flag',]"
   ]
  },
  {
   "cell_type": "code",
   "execution_count": 27,
   "id": "afb9cbd4-b31c-4527-893e-774322a4175c",
   "metadata": {},
   "outputs": [],
   "source": [
    "engineered = f.framer(df, feature_list1, excluded1)"
   ]
  },
  {
   "cell_type": "code",
   "execution_count": 28,
   "id": "98e2745d-bd08-490a-93c2-01cd4cadcd0e",
   "metadata": {},
   "outputs": [
    {
     "name": "stdout",
     "output_type": "stream",
     "text": [
      "KNeighborsClassifier() Sector Model has an average F1 of 0.4438066252983954\n",
      "KNeighborsClassifier() Beat Model has an average F1 of 0.44520790560466983\n",
      "KNeighborsClassifier() Weapon Flag Model has an average F1 of 0.4427578497741777\n",
      "KNeighborsClassifier() Reported Year Model has an average F1 of 0.46522523489066947\n",
      "KNeighborsClassifier() Reported Month Model has an average F1 of 0.4570336046505437\n",
      "KNeighborsClassifier() Day of Month Model has an average F1 of 0.4577019175646882\n",
      "KNeighborsClassifier() Day of Week Model has an average F1 of 0.45348989395767686\n",
      "KNeighborsClassifier() Reported Hour Model has an average F1 of 0.46134833403225634\n",
      "KNeighborsClassifier() Beat Flag Model has an average F1 of 0.4370862225309661\n"
     ]
    },
    {
     "data": {
      "text/html": [
       "<div>\n",
       "<style scoped>\n",
       "    .dataframe tbody tr th:only-of-type {\n",
       "        vertical-align: middle;\n",
       "    }\n",
       "\n",
       "    .dataframe tbody tr th {\n",
       "        vertical-align: top;\n",
       "    }\n",
       "\n",
       "    .dataframe thead th {\n",
       "        text-align: right;\n",
       "    }\n",
       "</style>\n",
       "<table border=\"1\" class=\"dataframe\">\n",
       "  <thead>\n",
       "    <tr style=\"text-align: right;\">\n",
       "      <th></th>\n",
       "      <th>Name</th>\n",
       "      <th>Accuracy</th>\n",
       "      <th>Notes</th>\n",
       "    </tr>\n",
       "  </thead>\n",
       "  <tbody>\n",
       "    <tr>\n",
       "      <th>8</th>\n",
       "      <td>KNeighborsClassifier() Beat Flag Model</td>\n",
       "      <td>0.437086</td>\n",
       "      <td>Beat Flag added</td>\n",
       "    </tr>\n",
       "    <tr>\n",
       "      <th>0</th>\n",
       "      <td>KNeighborsClassifier() Weapon Flag Model</td>\n",
       "      <td>0.442758</td>\n",
       "      <td>Weapon Flag added</td>\n",
       "    </tr>\n",
       "    <tr>\n",
       "      <th>1</th>\n",
       "      <td>KNeighborsClassifier() Sector Model</td>\n",
       "      <td>0.443807</td>\n",
       "      <td>Sector added</td>\n",
       "    </tr>\n",
       "    <tr>\n",
       "      <th>2</th>\n",
       "      <td>KNeighborsClassifier() Beat Model</td>\n",
       "      <td>0.445208</td>\n",
       "      <td>Beat added</td>\n",
       "    </tr>\n",
       "    <tr>\n",
       "      <th>3</th>\n",
       "      <td>KNeighborsClassifier() Day of Week Model</td>\n",
       "      <td>0.453490</td>\n",
       "      <td>Day of Week added</td>\n",
       "    </tr>\n",
       "    <tr>\n",
       "      <th>4</th>\n",
       "      <td>KNeighborsClassifier() Reported Month Model</td>\n",
       "      <td>0.457034</td>\n",
       "      <td>Reported Month added</td>\n",
       "    </tr>\n",
       "    <tr>\n",
       "      <th>5</th>\n",
       "      <td>KNeighborsClassifier() Day of Month Model</td>\n",
       "      <td>0.457702</td>\n",
       "      <td>Day of Month added</td>\n",
       "    </tr>\n",
       "    <tr>\n",
       "      <th>6</th>\n",
       "      <td>KNeighborsClassifier() Reported Hour Model</td>\n",
       "      <td>0.461348</td>\n",
       "      <td>Reported Hour added</td>\n",
       "    </tr>\n",
       "    <tr>\n",
       "      <th>7</th>\n",
       "      <td>KNeighborsClassifier() Reported Year Model</td>\n",
       "      <td>0.465225</td>\n",
       "      <td>Reported Year added</td>\n",
       "    </tr>\n",
       "  </tbody>\n",
       "</table>\n",
       "</div>"
      ],
      "text/plain": [
       "                                          Name  Accuracy                 Notes\n",
       "8       KNeighborsClassifier() Beat Flag Model  0.437086       Beat Flag added\n",
       "0     KNeighborsClassifier() Weapon Flag Model  0.442758     Weapon Flag added\n",
       "1          KNeighborsClassifier() Sector Model  0.443807          Sector added\n",
       "2            KNeighborsClassifier() Beat Model  0.445208            Beat added\n",
       "3     KNeighborsClassifier() Day of Week Model  0.453490     Day of Week added\n",
       "4  KNeighborsClassifier() Reported Month Model  0.457034  Reported Month added\n",
       "5    KNeighborsClassifier() Day of Month Model  0.457702    Day of Month added\n",
       "6   KNeighborsClassifier() Reported Hour Model  0.461348   Reported Hour added\n",
       "7   KNeighborsClassifier() Reported Year Model  0.465225   Reported Year added"
      ]
     },
     "execution_count": 28,
     "metadata": {},
     "output_type": "execute_result"
    }
   ],
   "source": [
    "f.feature_test(engineered, KNN, feature_list1)"
   ]
  },
  {
   "cell_type": "markdown",
   "id": "7e9dfbdd-02ee-44ec-808f-fce7528a37b8",
   "metadata": {},
   "source": [
    "## Logistic Regression Baseline"
   ]
  },
  {
   "cell_type": "code",
   "execution_count": 29,
   "id": "33709e2d-ed9a-4e1e-8ee4-f7428966b4df",
   "metadata": {},
   "outputs": [],
   "source": [
    "# features engineered during eda\n",
    "feature_list2 = ['Weapon Flag', 'Reported Year', 'Reported Month',\n",
    "                'Day of Month', 'Day of Week', 'Reported Hour', 'Beat Flag']"
   ]
  },
  {
   "cell_type": "code",
   "execution_count": 30,
   "id": "45301df7-d26c-49e2-ab59-4dd0f87bd68c",
   "metadata": {},
   "outputs": [],
   "source": [
    "excluded2 = ['Weapon Type', 'Officer ID', 'Initial Call Type', 'Final Call Type',\n",
    "             'Call Type', 'Officer Squad', 'Arrest Flag',\n",
    "             'Frisk Flag',  'Sector', 'Beat', 'Weapon Flag',\n",
    "             'Reported Year', 'Reported Month','Day of Month',\n",
    "             'Day of Week', 'Reported Hour', 'Beat Flag']"
   ]
  },
  {
   "cell_type": "code",
   "execution_count": 31,
   "id": "28c66be7-6fbc-494d-a11d-2481a3c52dd7",
   "metadata": {},
   "outputs": [],
   "source": [
    "baseline_df1 = f.framer(df, [], excluded2)"
   ]
  },
  {
   "cell_type": "code",
   "execution_count": 32,
   "id": "ff591614-5dbc-4c45-802a-7fe1683681f9",
   "metadata": {},
   "outputs": [
    {
     "data": {
      "text/html": [
       "<div>\n",
       "<style scoped>\n",
       "    .dataframe tbody tr th:only-of-type {\n",
       "        vertical-align: middle;\n",
       "    }\n",
       "\n",
       "    .dataframe tbody tr th {\n",
       "        vertical-align: top;\n",
       "    }\n",
       "\n",
       "    .dataframe thead th {\n",
       "        text-align: right;\n",
       "    }\n",
       "</style>\n",
       "<table border=\"1\" class=\"dataframe\">\n",
       "  <thead>\n",
       "    <tr style=\"text-align: right;\">\n",
       "      <th></th>\n",
       "      <th>Target</th>\n",
       "      <th>Subject Age Group</th>\n",
       "      <th>Officer YOB</th>\n",
       "      <th>Officer Gender</th>\n",
       "      <th>Officer Race</th>\n",
       "      <th>Subject Perceived Race</th>\n",
       "      <th>Subject Perceived Gender</th>\n",
       "      <th>Precinct</th>\n",
       "    </tr>\n",
       "  </thead>\n",
       "  <tbody>\n",
       "    <tr>\n",
       "      <th>0</th>\n",
       "      <td>1</td>\n",
       "      <td>NA</td>\n",
       "      <td>1984</td>\n",
       "      <td>M</td>\n",
       "      <td>Black</td>\n",
       "      <td>Asian</td>\n",
       "      <td>Male</td>\n",
       "      <td>South</td>\n",
       "    </tr>\n",
       "    <tr>\n",
       "      <th>1</th>\n",
       "      <td>0</td>\n",
       "      <td>NA</td>\n",
       "      <td>1965</td>\n",
       "      <td>M</td>\n",
       "      <td>White</td>\n",
       "      <td>NA</td>\n",
       "      <td>NA</td>\n",
       "      <td>NA</td>\n",
       "    </tr>\n",
       "  </tbody>\n",
       "</table>\n",
       "</div>"
      ],
      "text/plain": [
       "   Target Subject Age Group  Officer YOB Officer Gender Officer Race  \\\n",
       "0       1                NA         1984              M        Black   \n",
       "1       0                NA         1965              M        White   \n",
       "\n",
       "  Subject Perceived Race Subject Perceived Gender Precinct  \n",
       "0                  Asian                     Male    South  \n",
       "1                     NA                       NA       NA  "
      ]
     },
     "execution_count": 32,
     "metadata": {},
     "output_type": "execute_result"
    }
   ],
   "source": [
    "baseline_df1.head(2)"
   ]
  },
  {
   "cell_type": "code",
   "execution_count": 33,
   "id": "2e696736-cffb-432e-a289-c4e0d72f1d3e",
   "metadata": {},
   "outputs": [],
   "source": [
    "X, y = f.Xy(baseline_df1)"
   ]
  },
  {
   "cell_type": "code",
   "execution_count": 34,
   "id": "c7330e5e-ae3d-4b42-bd21-79ba9b3e386e",
   "metadata": {},
   "outputs": [],
   "source": [
    "X_train, X_test, y_train, y_test = f.splitter(X,y)"
   ]
  },
  {
   "cell_type": "code",
   "execution_count": 35,
   "id": "cc447d23-18ee-4d6a-bb6c-2b0e11f4b620",
   "metadata": {},
   "outputs": [
    {
     "data": {
      "text/plain": [
       "<35220x42 sparse matrix of type '<class 'numpy.float64'>'\n",
       "\twith 246540 stored elements in Compressed Sparse Row format>"
      ]
     },
     "execution_count": 35,
     "metadata": {},
     "output_type": "execute_result"
    }
   ],
   "source": [
    "preprocessing.fit_transform(X_train)"
   ]
  },
  {
   "cell_type": "code",
   "execution_count": 36,
   "id": "d4df1dfc-bb09-41b3-9769-58e4ef5c1cd7",
   "metadata": {
    "tags": []
   },
   "outputs": [],
   "source": [
    "LR = LogisticRegression(max_iter=1000)"
   ]
  },
  {
   "cell_type": "code",
   "execution_count": 37,
   "id": "8a214aea-96b4-4c6d-8a74-316609d2d1a5",
   "metadata": {},
   "outputs": [],
   "source": [
    "baseline_LR = make_pipeline(preprocessing, LR)"
   ]
  },
  {
   "cell_type": "code",
   "execution_count": 38,
   "id": "f77d251c-848a-493a-9b48-7354d1ebd0dd",
   "metadata": {},
   "outputs": [
    {
     "name": "stdout",
     "output_type": "stream",
     "text": [
      "LR Baseline has an average F1 of 0.0004585841591966563\n"
     ]
    },
    {
     "data": {
      "text/plain": [
       "array([0.        , 0.00114679, 0.        , 0.        , 0.00114613])"
      ]
     },
     "execution_count": 38,
     "metadata": {},
     "output_type": "execute_result"
    }
   ],
   "source": [
    "modeling.report(baseline_LR, X_train, y_train, 'LR Baseline',\\\n",
    "                'Log Reg Baseline')"
   ]
  },
  {
   "cell_type": "code",
   "execution_count": 39,
   "id": "7ff4cf42-5fc0-44d5-bbb1-d5df8e211276",
   "metadata": {},
   "outputs": [],
   "source": [
    "lr_smote = make_sm_pipeline(preprocessing, sm, LR)"
   ]
  },
  {
   "cell_type": "code",
   "execution_count": 40,
   "id": "54770e9b-12f5-46dd-abe9-fd4b19039382",
   "metadata": {},
   "outputs": [
    {
     "name": "stdout",
     "output_type": "stream",
     "text": [
      "LR SMOTE has an average F1 of 0.4782273316755937\n"
     ]
    },
    {
     "data": {
      "text/plain": [
       "array([0.47928701, 0.47294003, 0.48095002, 0.47984072, 0.47811888])"
      ]
     },
     "execution_count": 40,
     "metadata": {},
     "output_type": "execute_result"
    }
   ],
   "source": [
    "modeling.report(lr_smote, X_train, y_train, 'LR SMOTE', 'Log Reg w/ SMOTE')"
   ]
  },
  {
   "cell_type": "code",
   "execution_count": 41,
   "id": "5885b53c-a4d6-4d46-beed-78baaf354195",
   "metadata": {},
   "outputs": [
    {
     "name": "stdout",
     "output_type": "stream",
     "text": [
      "LogisticRegression(max_iter=1000) Sector Model has an average F1 of 0.49372091753402997\n",
      "LogisticRegression(max_iter=1000) Beat Model has an average F1 of 0.490860176583577\n",
      "LogisticRegression(max_iter=1000) Weapon Flag Model has an average F1 of 0.495054870258443\n",
      "LogisticRegression(max_iter=1000) Reported Year Model has an average F1 of 0.4916057185813131\n",
      "LogisticRegression(max_iter=1000) Reported Month Model has an average F1 of 0.4915830283639665\n",
      "LogisticRegression(max_iter=1000) Day of Month Model has an average F1 of 0.49079264892083935\n",
      "LogisticRegression(max_iter=1000) Day of Week Model has an average F1 of 0.4893853867191951\n",
      "LogisticRegression(max_iter=1000) Reported Hour Model has an average F1 of 0.49070619417441713\n",
      "LogisticRegression(max_iter=1000) Beat Flag Model has an average F1 of 0.4917069342339889\n"
     ]
    },
    {
     "data": {
      "text/html": [
       "<div>\n",
       "<style scoped>\n",
       "    .dataframe tbody tr th:only-of-type {\n",
       "        vertical-align: middle;\n",
       "    }\n",
       "\n",
       "    .dataframe tbody tr th {\n",
       "        vertical-align: top;\n",
       "    }\n",
       "\n",
       "    .dataframe thead th {\n",
       "        text-align: right;\n",
       "    }\n",
       "</style>\n",
       "<table border=\"1\" class=\"dataframe\">\n",
       "  <thead>\n",
       "    <tr style=\"text-align: right;\">\n",
       "      <th></th>\n",
       "      <th>Name</th>\n",
       "      <th>Accuracy</th>\n",
       "      <th>Notes</th>\n",
       "    </tr>\n",
       "  </thead>\n",
       "  <tbody>\n",
       "    <tr>\n",
       "      <th>0</th>\n",
       "      <td>LogisticRegression(max_iter=1000) Day of Week ...</td>\n",
       "      <td>0.489385</td>\n",
       "      <td>Day of Week added</td>\n",
       "    </tr>\n",
       "    <tr>\n",
       "      <th>1</th>\n",
       "      <td>LogisticRegression(max_iter=1000) Reported Hou...</td>\n",
       "      <td>0.490706</td>\n",
       "      <td>Reported Hour added</td>\n",
       "    </tr>\n",
       "    <tr>\n",
       "      <th>2</th>\n",
       "      <td>LogisticRegression(max_iter=1000) Day of Month...</td>\n",
       "      <td>0.490793</td>\n",
       "      <td>Day of Month added</td>\n",
       "    </tr>\n",
       "    <tr>\n",
       "      <th>3</th>\n",
       "      <td>LogisticRegression(max_iter=1000) Beat Model</td>\n",
       "      <td>0.490860</td>\n",
       "      <td>Beat added</td>\n",
       "    </tr>\n",
       "    <tr>\n",
       "      <th>4</th>\n",
       "      <td>LogisticRegression(max_iter=1000) Reported Mon...</td>\n",
       "      <td>0.491583</td>\n",
       "      <td>Reported Month added</td>\n",
       "    </tr>\n",
       "    <tr>\n",
       "      <th>5</th>\n",
       "      <td>LogisticRegression(max_iter=1000) Reported Yea...</td>\n",
       "      <td>0.491606</td>\n",
       "      <td>Reported Year added</td>\n",
       "    </tr>\n",
       "    <tr>\n",
       "      <th>8</th>\n",
       "      <td>LogisticRegression(max_iter=1000) Beat Flag Model</td>\n",
       "      <td>0.491707</td>\n",
       "      <td>Beat Flag added</td>\n",
       "    </tr>\n",
       "    <tr>\n",
       "      <th>6</th>\n",
       "      <td>LogisticRegression(max_iter=1000) Sector Model</td>\n",
       "      <td>0.493721</td>\n",
       "      <td>Sector added</td>\n",
       "    </tr>\n",
       "    <tr>\n",
       "      <th>7</th>\n",
       "      <td>LogisticRegression(max_iter=1000) Weapon Flag ...</td>\n",
       "      <td>0.495055</td>\n",
       "      <td>Weapon Flag added</td>\n",
       "    </tr>\n",
       "  </tbody>\n",
       "</table>\n",
       "</div>"
      ],
      "text/plain": [
       "                                                Name  Accuracy  \\\n",
       "0  LogisticRegression(max_iter=1000) Day of Week ...  0.489385   \n",
       "1  LogisticRegression(max_iter=1000) Reported Hou...  0.490706   \n",
       "2  LogisticRegression(max_iter=1000) Day of Month...  0.490793   \n",
       "3       LogisticRegression(max_iter=1000) Beat Model  0.490860   \n",
       "4  LogisticRegression(max_iter=1000) Reported Mon...  0.491583   \n",
       "5  LogisticRegression(max_iter=1000) Reported Yea...  0.491606   \n",
       "8  LogisticRegression(max_iter=1000) Beat Flag Model  0.491707   \n",
       "6     LogisticRegression(max_iter=1000) Sector Model  0.493721   \n",
       "7  LogisticRegression(max_iter=1000) Weapon Flag ...  0.495055   \n",
       "\n",
       "                  Notes  \n",
       "0     Day of Week added  \n",
       "1   Reported Hour added  \n",
       "2    Day of Month added  \n",
       "3            Beat added  \n",
       "4  Reported Month added  \n",
       "5   Reported Year added  \n",
       "8       Beat Flag added  \n",
       "6          Sector added  \n",
       "7     Weapon Flag added  "
      ]
     },
     "execution_count": 41,
     "metadata": {},
     "output_type": "execute_result"
    }
   ],
   "source": [
    "f.feature_test(engineered, LR, feature_list1)"
   ]
  },
  {
   "cell_type": "code",
   "execution_count": 42,
   "id": "e490ae8e-b8d2-47c1-ada5-cb7bd938ed29",
   "metadata": {},
   "outputs": [
    {
     "data": {
      "image/png": "[encoded data removed]",
      "text/plain": [
       "<Figure size 504x504 with 2 Axes>"
      ]
     },
     "metadata": {},
     "output_type": "display_data"
    }
   ],
   "source": [
    "f.confusion(lr_smote, X_train, y_train)"
   ]
  },
  {
   "cell_type": "markdown",
   "id": "4a862a8b-72c6-4e7f-a589-b47e6a4ed0e9",
   "metadata": {},
   "source": [
    "## Adding Polynomial Features"
   ]
  },
  {
   "cell_type": "code",
   "execution_count": 43,
   "id": "f6ced270-4431-4f80-a4e0-715a783dc449",
   "metadata": {},
   "outputs": [],
   "source": [
    "preprocessing2 = make_column_transformer((PolynomialFeatures(degree=3), number_selector),\n",
    "                                         (OneHotEncoder(handle_unknown='ignore'),string_selector),\n",
    "                                          (StandardScaler(), number_selector))"
   ]
  },
  {
   "cell_type": "code",
   "execution_count": 44,
   "id": "e00afce7-31a7-4364-bca2-7bf3fed95395",
   "metadata": {},
   "outputs": [
    {
     "data": {
      "text/plain": [
       "<35220x46 sparse matrix of type '<class 'numpy.float64'>'\n",
       "\twith 387420 stored elements in Compressed Sparse Row format>"
      ]
     },
     "execution_count": 44,
     "metadata": {},
     "output_type": "execute_result"
    }
   ],
   "source": [
    "preprocessing2.fit_transform(X_train)"
   ]
  },
  {
   "cell_type": "code",
   "execution_count": 45,
   "id": "d64e035b-7141-4496-a510-ff1d2eb90fcd",
   "metadata": {},
   "outputs": [],
   "source": [
    "lr_poly = make_sm_pipeline(preprocessing2, sm, LR)"
   ]
  },
  {
   "cell_type": "code",
   "execution_count": 46,
   "id": "17e0ba38-d319-4db1-95d0-bfa86b147bae",
   "metadata": {},
   "outputs": [
    {
     "name": "stdout",
     "output_type": "stream",
     "text": [
      "LR Poly has an average F1 of 0.39646694092544654\n"
     ]
    },
    {
     "data": {
      "text/plain": [
       "array([0.39635743, 0.39635743, 0.39653995, 0.39653995, 0.39653995])"
      ]
     },
     "execution_count": 46,
     "metadata": {},
     "output_type": "execute_result"
    }
   ],
   "source": [
    "modeling.report(lr_poly, X_train, y_train, 'LR Poly', 'Log Reg Polys w/ SMOTE')"
   ]
  },
  {
   "cell_type": "code",
   "execution_count": 47,
   "id": "5bf1c83a-6acc-4a73-834f-2ee057e7479c",
   "metadata": {},
   "outputs": [
    {
     "data": {
      "text/html": [
       "<div>\n",
       "<style scoped>\n",
       "    .dataframe tbody tr th:only-of-type {\n",
       "        vertical-align: middle;\n",
       "    }\n",
       "\n",
       "    .dataframe tbody tr th {\n",
       "        vertical-align: top;\n",
       "    }\n",
       "\n",
       "    .dataframe thead th {\n",
       "        text-align: right;\n",
       "    }\n",
       "</style>\n",
       "<table border=\"1\" class=\"dataframe\">\n",
       "  <thead>\n",
       "    <tr style=\"text-align: right;\">\n",
       "      <th></th>\n",
       "      <th>Name</th>\n",
       "      <th>Accuracy</th>\n",
       "      <th>Notes</th>\n",
       "    </tr>\n",
       "  </thead>\n",
       "  <tbody>\n",
       "    <tr>\n",
       "      <th>0</th>\n",
       "      <td>LR Baseline</td>\n",
       "      <td>0.000459</td>\n",
       "      <td>Log Reg Baseline</td>\n",
       "    </tr>\n",
       "    <tr>\n",
       "      <th>1</th>\n",
       "      <td>Baseline</td>\n",
       "      <td>0.293051</td>\n",
       "      <td>KNN - Baseline Features</td>\n",
       "    </tr>\n",
       "    <tr>\n",
       "      <th>4</th>\n",
       "      <td>LR Poly</td>\n",
       "      <td>0.396467</td>\n",
       "      <td>Log Reg Polys w/ SMOTE</td>\n",
       "    </tr>\n",
       "    <tr>\n",
       "      <th>2</th>\n",
       "      <td>Baseline_SM</td>\n",
       "      <td>0.418520</td>\n",
       "      <td>Baseline Model w/ SMOTE</td>\n",
       "    </tr>\n",
       "    <tr>\n",
       "      <th>3</th>\n",
       "      <td>LR SMOTE</td>\n",
       "      <td>0.478227</td>\n",
       "      <td>Log Reg w/ SMOTE</td>\n",
       "    </tr>\n",
       "  </tbody>\n",
       "</table>\n",
       "</div>"
      ],
      "text/plain": [
       "          Name  Accuracy                    Notes\n",
       "0  LR Baseline  0.000459         Log Reg Baseline\n",
       "1     Baseline  0.293051  KNN - Baseline Features\n",
       "4      LR Poly  0.396467   Log Reg Polys w/ SMOTE\n",
       "2  Baseline_SM  0.418520  Baseline Model w/ SMOTE\n",
       "3     LR SMOTE  0.478227         Log Reg w/ SMOTE"
      ]
     },
     "execution_count": 47,
     "metadata": {},
     "output_type": "execute_result"
    }
   ],
   "source": [
    "modeling.history"
   ]
  },
  {
   "cell_type": "markdown",
   "id": "b3a790ab-cb93-40cd-8ca6-578748438322",
   "metadata": {},
   "source": [
    "## Decision Tree"
   ]
  },
  {
   "cell_type": "code",
   "execution_count": 48,
   "id": "9bdd0143-5106-48bd-8280-580d9c295f67",
   "metadata": {},
   "outputs": [],
   "source": [
    "# features engineered during eda\n",
    "feature_list3 = ['Weapon Flag', 'Reported Year', 'Reported Month',\n",
    "                'Day of Month', 'Day of Week', 'Reported Hour', 'Beat Flag']"
   ]
  },
  {
   "cell_type": "code",
   "execution_count": 49,
   "id": "f98bf656-10af-4c92-99f3-2030acc88664",
   "metadata": {},
   "outputs": [],
   "source": [
    "excluded3 = ['Weapon Type', 'Officer ID', 'Initial Call Type', 'Final Call Type',\n",
    "             'Call Type', 'Officer Squad', 'Arrest Flag',\n",
    "             'Frisk Flag',  'Sector', 'Beat', 'Weapon Flag',\n",
    "             'Reported Year', 'Reported Month','Day of Month',\n",
    "             'Day of Week', 'Reported Hour', 'Beat Flag']"
   ]
  },
  {
   "cell_type": "code",
   "execution_count": 50,
   "id": "143284ab-87d7-4219-8166-1c7b22afa330",
   "metadata": {},
   "outputs": [],
   "source": [
    "baseline_df2 = f.framer(df, [], excluded3)"
   ]
  },
  {
   "cell_type": "code",
   "execution_count": 51,
   "id": "24a10f21-4c42-4135-9222-95f956823e59",
   "metadata": {},
   "outputs": [
    {
     "data": {
      "text/html": [
       "<div>\n",
       "<style scoped>\n",
       "    .dataframe tbody tr th:only-of-type {\n",
       "        vertical-align: middle;\n",
       "    }\n",
       "\n",
       "    .dataframe tbody tr th {\n",
       "        vertical-align: top;\n",
       "    }\n",
       "\n",
       "    .dataframe thead th {\n",
       "        text-align: right;\n",
       "    }\n",
       "</style>\n",
       "<table border=\"1\" class=\"dataframe\">\n",
       "  <thead>\n",
       "    <tr style=\"text-align: right;\">\n",
       "      <th></th>\n",
       "      <th>Target</th>\n",
       "      <th>Subject Age Group</th>\n",
       "      <th>Officer YOB</th>\n",
       "      <th>Officer Gender</th>\n",
       "      <th>Officer Race</th>\n",
       "      <th>Subject Perceived Race</th>\n",
       "      <th>Subject Perceived Gender</th>\n",
       "      <th>Precinct</th>\n",
       "    </tr>\n",
       "  </thead>\n",
       "  <tbody>\n",
       "    <tr>\n",
       "      <th>0</th>\n",
       "      <td>1</td>\n",
       "      <td>NA</td>\n",
       "      <td>1984</td>\n",
       "      <td>M</td>\n",
       "      <td>Black</td>\n",
       "      <td>Asian</td>\n",
       "      <td>Male</td>\n",
       "      <td>South</td>\n",
       "    </tr>\n",
       "    <tr>\n",
       "      <th>1</th>\n",
       "      <td>0</td>\n",
       "      <td>NA</td>\n",
       "      <td>1965</td>\n",
       "      <td>M</td>\n",
       "      <td>White</td>\n",
       "      <td>NA</td>\n",
       "      <td>NA</td>\n",
       "      <td>NA</td>\n",
       "    </tr>\n",
       "  </tbody>\n",
       "</table>\n",
       "</div>"
      ],
      "text/plain": [
       "   Target Subject Age Group  Officer YOB Officer Gender Officer Race  \\\n",
       "0       1                NA         1984              M        Black   \n",
       "1       0                NA         1965              M        White   \n",
       "\n",
       "  Subject Perceived Race Subject Perceived Gender Precinct  \n",
       "0                  Asian                     Male    South  \n",
       "1                     NA                       NA       NA  "
      ]
     },
     "execution_count": 51,
     "metadata": {},
     "output_type": "execute_result"
    }
   ],
   "source": [
    "baseline_df2.head(2)"
   ]
  },
  {
   "cell_type": "code",
   "execution_count": 52,
   "id": "ced75d1a-5006-47bb-8e0c-19a370b993a4",
   "metadata": {},
   "outputs": [],
   "source": [
    "X, y = f.Xy(baseline_df2)"
   ]
  },
  {
   "cell_type": "code",
   "execution_count": 53,
   "id": "05901510-a753-4acb-b681-c223d99ca895",
   "metadata": {},
   "outputs": [],
   "source": [
    "X_train, X_test, y_train, y_test = f.splitter(X,y)"
   ]
  },
  {
   "cell_type": "code",
   "execution_count": 54,
   "id": "9026f5f9-476d-435f-95a6-a706c48f1ae3",
   "metadata": {},
   "outputs": [
    {
     "data": {
      "text/plain": [
       "<35220x42 sparse matrix of type '<class 'numpy.float64'>'\n",
       "\twith 246540 stored elements in Compressed Sparse Row format>"
      ]
     },
     "execution_count": 54,
     "metadata": {},
     "output_type": "execute_result"
    }
   ],
   "source": [
    "preprocessing.fit_transform(X_train)"
   ]
  },
  {
   "cell_type": "code",
   "execution_count": 55,
   "id": "cae5c0f7-67cc-4e0b-925a-8225cfb6874a",
   "metadata": {},
   "outputs": [],
   "source": [
    "DT = DecisionTreeClassifier()"
   ]
  },
  {
   "cell_type": "code",
   "execution_count": 56,
   "id": "3a9e9f9e-da93-4449-8680-f9f146478a7e",
   "metadata": {},
   "outputs": [],
   "source": [
    "dt_pipeline = make_sm_pipeline(preprocessing, sm, DT)"
   ]
  },
  {
   "cell_type": "code",
   "execution_count": 57,
   "id": "f867e1d2-e1cc-42eb-8701-07dde608cee9",
   "metadata": {},
   "outputs": [
    {
     "name": "stdout",
     "output_type": "stream",
     "text": [
      "Tree CLF has an average F1 of 0.40018662561677615\n"
     ]
    },
    {
     "data": {
      "text/plain": [
       "array([0.3933298 , 0.37852349, 0.40571277, 0.41048729, 0.41287977])"
      ]
     },
     "execution_count": 57,
     "metadata": {},
     "output_type": "execute_result"
    }
   ],
   "source": [
    "modeling.report(dt_pipeline, X_train, y_train, 'Tree CLF', 'Tree w/ SMOTE')"
   ]
  },
  {
   "cell_type": "markdown",
   "id": "16a4cb62-fb8f-4803-b58c-d86e099e6bc7",
   "metadata": {},
   "source": [
    "## Random Forest"
   ]
  },
  {
   "cell_type": "code",
   "execution_count": 58,
   "id": "abc502f0-1740-4487-9a37-803bb6d8295d",
   "metadata": {},
   "outputs": [],
   "source": [
    "RF = RandomForestClassifier()"
   ]
  },
  {
   "cell_type": "code",
   "execution_count": 59,
   "id": "9e6e1690-0b38-4ac2-bda3-b0df6fcad256",
   "metadata": {},
   "outputs": [],
   "source": [
    "rf_pipeline = make_sm_pipeline(preprocessing, sm, RF)"
   ]
  },
  {
   "cell_type": "code",
   "execution_count": 60,
   "id": "faddb395-619b-4999-8d14-59c53f85d6f9",
   "metadata": {},
   "outputs": [
    {
     "name": "stdout",
     "output_type": "stream",
     "text": [
      "RandomForest has an average F1 of 0.41288199875046017\n"
     ]
    },
    {
     "data": {
      "text/plain": [
       "array([0.41248097, 0.392296  , 0.42063294, 0.41805345, 0.42094663])"
      ]
     },
     "execution_count": 60,
     "metadata": {},
     "output_type": "execute_result"
    }
   ],
   "source": [
    "modeling.report(rf_pipeline, X_train, y_train, 'RandomForest', 'Forest w/ SMOTE')"
   ]
  },
  {
   "cell_type": "code",
   "execution_count": 61,
   "id": "8dd8e263-e91a-43e0-8b22-eda268944052",
   "metadata": {},
   "outputs": [
    {
     "data": {
      "image/png": "[encoded data removed]",
      "text/plain": [
       "<Figure size 504x504 with 2 Axes>"
      ]
     },
     "metadata": {},
     "output_type": "display_data"
    }
   ],
   "source": [
    "f.confusion(rf_pipeline, X_train, y_train)"
   ]
  },
  {
   "cell_type": "code",
   "execution_count": 62,
   "id": "1ca06797-7fec-4360-9d25-ebfcaf7d369c",
   "metadata": {},
   "outputs": [
    {
     "data": {
      "text/plain": [
       "0    0.752754\n",
       "1    0.247246\n",
       "Name: Target, dtype: float64"
      ]
     },
     "execution_count": 62,
     "metadata": {},
     "output_type": "execute_result"
    }
   ],
   "source": [
    "y_train.value_counts(normalize=True)"
   ]
  },
  {
   "cell_type": "markdown",
   "id": "4605ce79-ba01-4148-be05-59f249540661",
   "metadata": {},
   "source": [
    "## Testing on SubSplits"
   ]
  },
  {
   "cell_type": "code",
   "execution_count": 63,
   "id": "51568106-2090-4fb3-805c-921d8b1c619e",
   "metadata": {},
   "outputs": [],
   "source": [
    "Xs_train, Xs_test, ys_train , ys_test = f.splitter(X_train, y_train)"
   ]
  },
  {
   "cell_type": "code",
   "execution_count": 64,
   "id": "6ec4cb99-1a6a-4159-8c22-5467a39c9473",
   "metadata": {},
   "outputs": [
    {
     "data": {
      "text/plain": [
       "<26415x42 sparse matrix of type '<class 'numpy.float64'>'\n",
       "\twith 184905 stored elements in Compressed Sparse Row format>"
      ]
     },
     "execution_count": 64,
     "metadata": {},
     "output_type": "execute_result"
    }
   ],
   "source": [
    "preprocessing.fit_transform(Xs_train)"
   ]
  },
  {
   "cell_type": "code",
   "execution_count": 65,
   "id": "eadeb89c-62dd-4fb7-9eb2-35ac23c05c47",
   "metadata": {},
   "outputs": [],
   "source": [
    "sub_pipeline = make_sm_pipeline(preprocessing, sm, RF)"
   ]
  },
  {
   "cell_type": "code",
   "execution_count": 66,
   "id": "bfdd5e5b-f232-4ebd-a51c-ecf7315b103f",
   "metadata": {},
   "outputs": [
    {
     "name": "stdout",
     "output_type": "stream",
     "text": [
      "RandomForest has an average F1 of 0.39581916823622454\n"
     ]
    },
    {
     "data": {
      "text/plain": [
       "array([0.38523726, 0.39625909, 0.39789842, 0.39788732, 0.40181374])"
      ]
     },
     "execution_count": 66,
     "metadata": {},
     "output_type": "execute_result"
    }
   ],
   "source": [
    "modeling.report(sub_pipeline, Xs_train, ys_train, 'RandomForest', 'Forest on SubSplit')"
   ]
  },
  {
   "cell_type": "code",
   "execution_count": 67,
   "id": "16dcada8-a250-479a-ba73-749d0eae128a",
   "metadata": {},
   "outputs": [
    {
     "data": {
      "image/png": "[encoded data removed]",
      "text/plain": [
       "<Figure size 504x504 with 2 Axes>"
      ]
     },
     "metadata": {},
     "output_type": "display_data"
    }
   ],
   "source": [
    "f.confusion(sub_pipeline, Xs_train, ys_train)"
   ]
  },
  {
   "cell_type": "code",
   "execution_count": 70,
   "id": "5227aba3-03ad-4ef8-9219-30061b8c940b",
   "metadata": {},
   "outputs": [
    {
     "name": "stdout",
     "output_type": "stream",
     "text": [
      "RandomForest has an average F1 of 0.3567964959000856\n"
     ]
    },
    {
     "data": {
      "text/plain": [
       "array([0.37428243, 0.35730337, 0.3440367 , 0.35446009, 0.35389988])"
      ]
     },
     "execution_count": 70,
     "metadata": {},
     "output_type": "execute_result"
    }
   ],
   "source": [
    "modeling.report(sub_pipeline, Xs_test, ys_test, 'RandomForest', 'Forest on SubSplit Test')"
   ]
  },
  {
   "cell_type": "code",
   "execution_count": 69,
   "id": "7ae16db7-8a6a-4a43-8ffb-6722603f8b49",
   "metadata": {},
   "outputs": [
    {
     "data": {
      "image/png": "[encoded data removed]",
      "text/plain": [
       "<Figure size 504x504 with 2 Axes>"
      ]
     },
     "metadata": {},
     "output_type": "display_data"
    }
   ],
   "source": [
    "f.confusion(sub_pipeline, Xs_test, ys_test)"
   ]
  },
  {
   "cell_type": "code",
   "execution_count": 71,
   "id": "dc2dc881-1a10-4ad9-a636-ed8cca687df4",
   "metadata": {},
   "outputs": [
    {
     "data": {
      "text/html": [
       "<div>\n",
       "<style scoped>\n",
       "    .dataframe tbody tr th:only-of-type {\n",
       "        vertical-align: middle;\n",
       "    }\n",
       "\n",
       "    .dataframe tbody tr th {\n",
       "        vertical-align: top;\n",
       "    }\n",
       "\n",
       "    .dataframe thead th {\n",
       "        text-align: right;\n",
       "    }\n",
       "</style>\n",
       "<table border=\"1\" class=\"dataframe\">\n",
       "  <thead>\n",
       "    <tr style=\"text-align: right;\">\n",
       "      <th></th>\n",
       "      <th>Name</th>\n",
       "      <th>Accuracy</th>\n",
       "      <th>Notes</th>\n",
       "    </tr>\n",
       "  </thead>\n",
       "  <tbody>\n",
       "    <tr>\n",
       "      <th>0</th>\n",
       "      <td>LR Baseline</td>\n",
       "      <td>0.000459</td>\n",
       "      <td>Log Reg Baseline</td>\n",
       "    </tr>\n",
       "    <tr>\n",
       "      <th>1</th>\n",
       "      <td>Baseline</td>\n",
       "      <td>0.293051</td>\n",
       "      <td>KNN - Baseline Features</td>\n",
       "    </tr>\n",
       "    <tr>\n",
       "      <th>9</th>\n",
       "      <td>RandomForest</td>\n",
       "      <td>0.356796</td>\n",
       "      <td>Forest on SubSplit Test</td>\n",
       "    </tr>\n",
       "    <tr>\n",
       "      <th>2</th>\n",
       "      <td>RandomForest</td>\n",
       "      <td>0.360416</td>\n",
       "      <td>Forest on SubSplit</td>\n",
       "    </tr>\n",
       "    <tr>\n",
       "      <th>3</th>\n",
       "      <td>RandomForest</td>\n",
       "      <td>0.395819</td>\n",
       "      <td>Forest on SubSplit</td>\n",
       "    </tr>\n",
       "    <tr>\n",
       "      <th>4</th>\n",
       "      <td>LR Poly</td>\n",
       "      <td>0.396467</td>\n",
       "      <td>Log Reg Polys w/ SMOTE</td>\n",
       "    </tr>\n",
       "    <tr>\n",
       "      <th>5</th>\n",
       "      <td>Tree CLF</td>\n",
       "      <td>0.400187</td>\n",
       "      <td>Tree w/ SMOTE</td>\n",
       "    </tr>\n",
       "    <tr>\n",
       "      <th>6</th>\n",
       "      <td>RandomForest</td>\n",
       "      <td>0.412882</td>\n",
       "      <td>Forest w/ SMOTE</td>\n",
       "    </tr>\n",
       "    <tr>\n",
       "      <th>7</th>\n",
       "      <td>Baseline_SM</td>\n",
       "      <td>0.418520</td>\n",
       "      <td>Baseline Model w/ SMOTE</td>\n",
       "    </tr>\n",
       "    <tr>\n",
       "      <th>8</th>\n",
       "      <td>LR SMOTE</td>\n",
       "      <td>0.478227</td>\n",
       "      <td>Log Reg w/ SMOTE</td>\n",
       "    </tr>\n",
       "  </tbody>\n",
       "</table>\n",
       "</div>"
      ],
      "text/plain": [
       "           Name  Accuracy                    Notes\n",
       "0   LR Baseline  0.000459         Log Reg Baseline\n",
       "1      Baseline  0.293051  KNN - Baseline Features\n",
       "9  RandomForest  0.356796  Forest on SubSplit Test\n",
       "2  RandomForest  0.360416       Forest on SubSplit\n",
       "3  RandomForest  0.395819       Forest on SubSplit\n",
       "4       LR Poly  0.396467   Log Reg Polys w/ SMOTE\n",
       "5      Tree CLF  0.400187            Tree w/ SMOTE\n",
       "6  RandomForest  0.412882          Forest w/ SMOTE\n",
       "7   Baseline_SM  0.418520  Baseline Model w/ SMOTE\n",
       "8      LR SMOTE  0.478227         Log Reg w/ SMOTE"
      ]
     },
     "execution_count": 71,
     "metadata": {},
     "output_type": "execute_result"
    }
   ],
   "source": [
    "modeling.history"
   ]
  },
  {
   "cell_type": "code",
   "execution_count": null,
   "id": "2d727982-453a-4391-b205-48c552181d58",
   "metadata": {},
   "outputs": [],
   "source": []
  }
 ],
 "metadata": {
  "kernelspec": {
   "display_name": "terry_stops",
   "language": "python",
   "name": "terry_stops"
  },
  "language_info": {
   "codemirror_mode": {
    "name": "ipython",
    "version": 3
   },
   "file_extension": ".py",
   "mimetype": "text/x-python",
   "name": "python",
   "nbconvert_exporter": "python",
   "pygments_lexer": "ipython3",
   "version": "3.9.4"
  }
 },
 "nbformat": 4,
 "nbformat_minor": 5
}
