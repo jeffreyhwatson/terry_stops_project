{
 "cells": [
  {
   "cell_type": "code",
   "execution_count": 1,
   "id": "dec765fd-7cf9-4b53-9647-18921634ffb3",
   "metadata": {},
   "outputs": [],
   "source": [
    "%load_ext autoreload\n",
    "%autoreload 2"
   ]
  },
  {
   "cell_type": "code",
   "execution_count": 122,
   "id": "e7e827e0-c324-49a5-9c8a-6acd8a4a32dd",
   "metadata": {},
   "outputs": [],
   "source": [
    "# setting project path\n",
    "import os\n",
    "import sys\n",
    "\n",
    "gparent = os.path.join(os.pardir, os.pardir)\n",
    "sys.path.append(gparent)\n",
    "\n",
    "# imports\n",
    "import pandas as pd\n",
    "import numpy as np\n",
    "\n",
    "from sklearn.model_selection import StratifiedKFold\n",
    "from sklearn.model_selection import train_test_split\n",
    "from sklearn.model_selection import cross_val_score\n",
    "from sklearn.preprocessing import OneHotEncoder\n",
    "from sklearn.preprocessing import StandardScaler\n",
    "from sklearn.preprocessing import MinMaxScaler\n",
    "from sklearn.compose import make_column_selector\n",
    "from sklearn.compose import make_column_transformer\n",
    "from sklearn.pipeline import make_pipeline \n",
    "from sklearn.metrics import accuracy_score, recall_score, precision_score, f1_score\n",
    "from sklearn.metrics import make_scorer\n",
    "from sklearn.linear_model import LogisticRegression\n",
    "from sklearn.neighbors import KNeighborsClassifier\n",
    "from sklearn.base import clone\n",
    "\n",
    "from imblearn.over_sampling import SMOTE\n",
    "from imblearn.pipeline import make_pipeline as make_sm_pipeline\n",
    "\n",
    "from src import classes as c\n",
    "from src import functions as f\n",
    "import matplotlib.pyplot as plt\n",
    "import seaborn as sns\n",
    "\n",
    "# setting style\n",
    "sns.set_theme('talk')\n",
    "plt.style.use('fivethirtyeight')\n",
    "sns.set_palette(palette='Blues_r')"
   ]
  },
  {
   "cell_type": "markdown",
   "id": "2b7ec8ba-446d-4c17-8aaf-f92dbc62454c",
   "metadata": {},
   "source": [
    "## Importing the Data"
   ]
  },
  {
   "cell_type": "code",
   "execution_count": 107,
   "id": "959930a8-49d5-44fa-b4be-6f380b385b05",
   "metadata": {},
   "outputs": [],
   "source": [
    "path = os.path.join(gparent, 'data/processed', 'modeling.csv')\n",
    "df = pd.read_csv(path, keep_default_na=False)"
   ]
  },
  {
   "cell_type": "markdown",
   "id": "89d003b1-9e09-4cb4-b910-d21ec32be028",
   "metadata": {},
   "source": [
    "## Preprocessing and Harness Objects"
   ]
  },
  {
   "cell_type": "code",
   "execution_count": 125,
   "id": "3da125bd-dd01-4297-9b59-2d14aa585e74",
   "metadata": {},
   "outputs": [],
   "source": [
    "string_selector = make_column_selector(dtype_include='object')\n",
    "number_selector = make_column_selector(dtype_include='number', dtype_exclude='object')"
   ]
  },
  {
   "cell_type": "code",
   "execution_count": 126,
   "id": "077e6d34-181d-4520-9267-cb5b0f4c385c",
   "metadata": {},
   "outputs": [],
   "source": [
    "preprocessing = make_column_transformer((OneHotEncoder\n",
    "                                         (handle_unknown='ignore'),string_selector),\n",
    "                                          (MinMaxScaler(), number_selector))"
   ]
  },
  {
   "cell_type": "code",
   "execution_count": 127,
   "id": "86e5f7fb-1077-4446-8858-d935ef0f42d8",
   "metadata": {},
   "outputs": [],
   "source": [
    "sm = SMOTE(random_state=2021)"
   ]
  },
  {
   "cell_type": "code",
   "execution_count": 139,
   "id": "30b55b51-7e25-4099-ae62-ec44d025cef9",
   "metadata": {},
   "outputs": [],
   "source": [
    "precision = f.precision\n",
    "f1 = f.f1"
   ]
  },
  {
   "cell_type": "code",
   "execution_count": 140,
   "id": "d1f485cb-e7b7-406f-a812-3e0bff3a083c",
   "metadata": {},
   "outputs": [],
   "source": [
    "modeling = c.Harness(f1)"
   ]
  },
  {
   "cell_type": "markdown",
   "id": "67fc48c6-f67f-4c9b-9c72-107197d495cf",
   "metadata": {},
   "source": [
    "## Baseline Model"
   ]
  },
  {
   "cell_type": "markdown",
   "id": "e9149cb6-8807-4a31-bcfd-38c2007cc30d",
   "metadata": {},
   "source": [
    "Dropping engineered features to establish the baseline score."
   ]
  },
  {
   "cell_type": "code",
   "execution_count": 141,
   "id": "9363ca84-3ef8-443d-a125-5729858bc2a8",
   "metadata": {},
   "outputs": [],
   "source": [
    "column_list = df.columns\n",
    "excluded = ['Weapon Flag', 'Reported Year', 'Reported Month', 'Day of Month',\n",
    "'Day of Week', 'Reported Hour', 'Beat Flag']\n",
    "cols = [x for x in column_list if x not in excluded]"
   ]
  },
  {
   "cell_type": "code",
   "execution_count": 142,
   "id": "d946cc95-730f-40da-9439-0f09e153bde8",
   "metadata": {},
   "outputs": [],
   "source": [
    "# dataframe of cleaned data with no engineered features besides the target\n",
    "basedf = df[cols]"
   ]
  },
  {
   "cell_type": "code",
   "execution_count": 143,
   "id": "c56efad5-e786-47a8-aff2-9515bf0dc541",
   "metadata": {},
   "outputs": [
    {
     "data": {
      "text/html": [
       "<div>\n",
       "<style scoped>\n",
       "    .dataframe tbody tr th:only-of-type {\n",
       "        vertical-align: middle;\n",
       "    }\n",
       "\n",
       "    .dataframe tbody tr th {\n",
       "        vertical-align: top;\n",
       "    }\n",
       "\n",
       "    .dataframe thead th {\n",
       "        text-align: right;\n",
       "    }\n",
       "</style>\n",
       "<table border=\"1\" class=\"dataframe\">\n",
       "  <thead>\n",
       "    <tr style=\"text-align: right;\">\n",
       "      <th></th>\n",
       "      <th>Target</th>\n",
       "      <th>Subject Age Group</th>\n",
       "      <th>Weapon Type</th>\n",
       "      <th>Officer ID</th>\n",
       "      <th>Officer YOB</th>\n",
       "      <th>Officer Gender</th>\n",
       "      <th>Officer Race</th>\n",
       "      <th>Subject Perceived Race</th>\n",
       "      <th>Subject Perceived Gender</th>\n",
       "      <th>Initial Call Type</th>\n",
       "      <th>Final Call Type</th>\n",
       "      <th>Call Type</th>\n",
       "      <th>Officer Squad</th>\n",
       "      <th>Arrest Flag</th>\n",
       "      <th>Frisk Flag</th>\n",
       "      <th>Precinct</th>\n",
       "      <th>Sector</th>\n",
       "      <th>Beat</th>\n",
       "    </tr>\n",
       "  </thead>\n",
       "  <tbody>\n",
       "    <tr>\n",
       "      <th>0</th>\n",
       "      <td>1</td>\n",
       "      <td>NA</td>\n",
       "      <td>None</td>\n",
       "      <td>7500</td>\n",
       "      <td>1984</td>\n",
       "      <td>M</td>\n",
       "      <td>Black</td>\n",
       "      <td>Asian</td>\n",
       "      <td>Male</td>\n",
       "      <td>NA</td>\n",
       "      <td>NA</td>\n",
       "      <td>NA</td>\n",
       "      <td>SOUTH PCT 1ST W - ROBERT</td>\n",
       "      <td>0</td>\n",
       "      <td>0</td>\n",
       "      <td>South</td>\n",
       "      <td>O</td>\n",
       "      <td>O2</td>\n",
       "    </tr>\n",
       "    <tr>\n",
       "      <th>1</th>\n",
       "      <td>0</td>\n",
       "      <td>NA</td>\n",
       "      <td>None</td>\n",
       "      <td>5670</td>\n",
       "      <td>1965</td>\n",
       "      <td>M</td>\n",
       "      <td>White</td>\n",
       "      <td>NA</td>\n",
       "      <td>NA</td>\n",
       "      <td>NA</td>\n",
       "      <td>NA</td>\n",
       "      <td>NA</td>\n",
       "      <td>NA</td>\n",
       "      <td>0</td>\n",
       "      <td>0</td>\n",
       "      <td>NA</td>\n",
       "      <td>NA</td>\n",
       "      <td>NA</td>\n",
       "    </tr>\n",
       "  </tbody>\n",
       "</table>\n",
       "</div>"
      ],
      "text/plain": [
       "   Target Subject Age Group Weapon Type Officer ID  Officer YOB  \\\n",
       "0       1                NA        None       7500         1984   \n",
       "1       0                NA        None       5670         1965   \n",
       "\n",
       "  Officer Gender Officer Race Subject Perceived Race Subject Perceived Gender  \\\n",
       "0              M        Black                  Asian                     Male   \n",
       "1              M        White                     NA                       NA   \n",
       "\n",
       "  Initial Call Type Final Call Type Call Type             Officer Squad  \\\n",
       "0                NA              NA        NA  SOUTH PCT 1ST W - ROBERT   \n",
       "1                NA              NA        NA                        NA   \n",
       "\n",
       "   Arrest Flag  Frisk Flag Precinct  Sector    Beat  \n",
       "0            0           0    South  O       O2      \n",
       "1            0           0       NA      NA      NA  "
      ]
     },
     "execution_count": 143,
     "metadata": {},
     "output_type": "execute_result"
    }
   ],
   "source": [
    "basedf.head(2)"
   ]
  },
  {
   "cell_type": "code",
   "execution_count": 144,
   "id": "75761454-7fca-49c3-8b6a-af65529701ab",
   "metadata": {},
   "outputs": [],
   "source": [
    "X = basedf.drop(['Target'], axis=1)\n",
    "y = basedf['Target']"
   ]
  },
  {
   "cell_type": "code",
   "execution_count": 145,
   "id": "94ee14d6-08bd-4464-965e-928d770ec9b6",
   "metadata": {},
   "outputs": [],
   "source": [
    "X_train, X_test, y_train, y_test = train_test_split(X, y,\n",
    "                                                    random_state=2021,\n",
    "                                                    stratify=y\n",
    "                                                   )"
   ]
  },
  {
   "cell_type": "code",
   "execution_count": 146,
   "id": "95ba01e3-6930-4229-9148-60db8afa7b0b",
   "metadata": {},
   "outputs": [
    {
     "data": {
      "text/plain": [
       "<35220x1929 sparse matrix of type '<class 'numpy.float64'>'\n",
       "\twith 538724 stored elements in Compressed Sparse Row format>"
      ]
     },
     "execution_count": 146,
     "metadata": {},
     "output_type": "execute_result"
    }
   ],
   "source": [
    "preprocessing.fit_transform(X_train)"
   ]
  },
  {
   "cell_type": "code",
   "execution_count": 147,
   "id": "d4df1dfc-bb09-41b3-9769-58e4ef5c1cd7",
   "metadata": {},
   "outputs": [],
   "source": [
    "clf = KNeighborsClassifier()"
   ]
  },
  {
   "cell_type": "code",
   "execution_count": 148,
   "id": "e2035c22-ed61-43c3-a536-dd7085f8646c",
   "metadata": {},
   "outputs": [],
   "source": [
    "baseline = make_pipeline(preprocessing, clf)"
   ]
  },
  {
   "cell_type": "code",
   "execution_count": 149,
   "id": "e40daa37-40bd-4f35-b3ba-07a896564576",
   "metadata": {},
   "outputs": [
    {
     "name": "stdout",
     "output_type": "stream",
     "text": [
      "Baseline has an average percision of 0.5560659437218776\n",
      "[0.5630137  0.55649241 0.55013369 0.54348562 0.5672043 ]\n"
     ]
    },
    {
     "data": {
      "text/plain": [
       "array([0.5630137 , 0.55649241, 0.55013369, 0.54348562, 0.5672043 ])"
      ]
     },
     "execution_count": 149,
     "metadata": {},
     "output_type": "execute_result"
    }
   ],
   "source": [
    "modeling.report(baseline, X_train, y_train, 'Baseline', 'KNN w/ all base cols')"
   ]
  },
  {
   "cell_type": "markdown",
   "id": "0a2d32a7-a949-4211-9f1e-c2d2e984c0ad",
   "metadata": {},
   "source": [
    "## Feature Engineering"
   ]
  },
  {
   "cell_type": "code",
   "execution_count": 18,
   "id": "0f9cd105-620a-46f4-9061-c172b6903136",
   "metadata": {},
   "outputs": [
    {
     "data": {
      "text/plain": [
       "Index(['Target', 'Subject Age Group', 'Stop Resolution', 'Weapon Type',\n",
       "       'Officer ID', 'Officer YOB', 'Officer Gender', 'Officer Race',\n",
       "       'Subject Perceived Race', 'Subject Perceived Gender',\n",
       "       'Initial Call Type', 'Final Call Type', 'Call Type', 'Officer Squad',\n",
       "       'Arrest Flag', 'Frisk Flag', 'Precinct', 'Sector', 'Beat'],\n",
       "      dtype='object')"
      ]
     },
     "execution_count": 18,
     "metadata": {},
     "output_type": "execute_result"
    }
   ],
   "source": [
    "df.columns"
   ]
  },
  {
   "cell_type": "code",
   "execution_count": 4,
   "id": "c1dfbd45-8f20-465a-a4a8-31e31a406d90",
   "metadata": {},
   "outputs": [],
   "source": [
    "column_list = df.columns\n",
    "excluded = ['Stop Resolution', 'Weapon Type', 'Officer ID',\n",
    "          'Initial Call Type', 'Final Call Type', 'Officer Squad',\n",
    "            'Precinct', 'Sector', 'Call Type', 'Arrest Flag', \n",
    "            'Frisk Flag', 'Beat']\n",
    "cols = [x for x in column_list if x not in excluded]"
   ]
  },
  {
   "cell_type": "code",
   "execution_count": 5,
   "id": "1ec80e8d-a962-4f3f-a4e8-b3079031e516",
   "metadata": {},
   "outputs": [],
   "source": [
    "df = df[cols]"
   ]
  },
  {
   "cell_type": "code",
   "execution_count": 4,
   "id": "3fff9810-ec1c-45cc-ad73-ee228b890617",
   "metadata": {},
   "outputs": [],
   "source": [
    "X = df.drop('Target', axis=1)\n",
    "y = df['Target']"
   ]
  },
  {
   "cell_type": "code",
   "execution_count": 15,
   "id": "821d0780-a140-45f1-a0eb-508c6061a498",
   "metadata": {},
   "outputs": [],
   "source": [
    "pl1 = make_pipeline(preprocessing, clf)"
   ]
  },
  {
   "cell_type": "code",
   "execution_count": 16,
   "id": "d4744eec-d652-4e5f-ab91-ae41be70b681",
   "metadata": {},
   "outputs": [
    {
     "name": "stdout",
     "output_type": "stream",
     "text": [
      "baseline has an average percision of 0.2857927777164726\n",
      "[0.30049875 0.26337449 0.28936743 0.303233   0.27249022]\n"
     ]
    },
    {
     "data": {
      "text/plain": [
       "array([0.30049875, 0.26337449, 0.28936743, 0.303233  , 0.27249022])"
      ]
     },
     "execution_count": 16,
     "metadata": {},
     "output_type": "execute_result"
    }
   ],
   "source": [
    "modeling.report(pl1, X_train, y_train, 'baseline')"
   ]
  },
  {
   "cell_type": "code",
   "execution_count": 17,
   "id": "cb82047a-3d25-4de5-9f95-95cdcd9cd486",
   "metadata": {},
   "outputs": [],
   "source": [
    "pl2 = make_sm_pipeline(preprocessing, sm, clf)"
   ]
  },
  {
   "cell_type": "code",
   "execution_count": 18,
   "id": "0b4efb8d-8f5f-428e-b8d0-7482976157a8",
   "metadata": {},
   "outputs": [
    {
     "name": "stdout",
     "output_type": "stream",
     "text": [
      "baseline2 has an average percision of 0.2807899868164585\n",
      "[0.28070796 0.26982012 0.27421603 0.28720721 0.29199861]\n"
     ]
    },
    {
     "data": {
      "text/plain": [
       "array([0.28070796, 0.26982012, 0.27421603, 0.28720721, 0.29199861])"
      ]
     },
     "execution_count": 18,
     "metadata": {},
     "output_type": "execute_result"
    }
   ],
   "source": [
    "modeling.report(pl2, X_train, y_train, 'baseline2', 'SMOTE')"
   ]
  },
  {
   "cell_type": "code",
   "execution_count": 19,
   "id": "0f846597-c596-41aa-ae8a-b5bfe6b94f37",
   "metadata": {},
   "outputs": [],
   "source": [
    "clf2 = LogisticRegression()"
   ]
  },
  {
   "cell_type": "code",
   "execution_count": 20,
   "id": "70608aed-ddf9-4447-887c-5f55f582332f",
   "metadata": {},
   "outputs": [],
   "source": [
    "pl3 = make_sm_pipeline(preprocessing, sm , clf2)"
   ]
  },
  {
   "cell_type": "code",
   "execution_count": 21,
   "id": "5c7852a0-7209-476a-af14-754ba5311480",
   "metadata": {},
   "outputs": [
    {
     "name": "stderr",
     "output_type": "stream",
     "text": [
      "/Users/dsbox/opt/anaconda3/envs/terry_stops/lib/python3.9/site-packages/sklearn/linear_model/_logistic.py:763: ConvergenceWarning: lbfgs failed to converge (status=1):\n",
      "STOP: TOTAL NO. of ITERATIONS REACHED LIMIT.\n",
      "\n",
      "Increase the number of iterations (max_iter) or scale the data as shown in:\n",
      "    https://scikit-learn.org/stable/modules/preprocessing.html\n",
      "Please also refer to the documentation for alternative solver options:\n",
      "    https://scikit-learn.org/stable/modules/linear_model.html#logistic-regression\n",
      "  n_iter_i = _check_optimize_result(\n",
      "/Users/dsbox/opt/anaconda3/envs/terry_stops/lib/python3.9/site-packages/sklearn/linear_model/_logistic.py:763: ConvergenceWarning: lbfgs failed to converge (status=1):\n",
      "STOP: TOTAL NO. of ITERATIONS REACHED LIMIT.\n",
      "\n",
      "Increase the number of iterations (max_iter) or scale the data as shown in:\n",
      "    https://scikit-learn.org/stable/modules/preprocessing.html\n",
      "Please also refer to the documentation for alternative solver options:\n",
      "    https://scikit-learn.org/stable/modules/linear_model.html#logistic-regression\n",
      "  n_iter_i = _check_optimize_result(\n",
      "/Users/dsbox/opt/anaconda3/envs/terry_stops/lib/python3.9/site-packages/sklearn/linear_model/_logistic.py:763: ConvergenceWarning: lbfgs failed to converge (status=1):\n",
      "STOP: TOTAL NO. of ITERATIONS REACHED LIMIT.\n",
      "\n",
      "Increase the number of iterations (max_iter) or scale the data as shown in:\n",
      "    https://scikit-learn.org/stable/modules/preprocessing.html\n",
      "Please also refer to the documentation for alternative solver options:\n",
      "    https://scikit-learn.org/stable/modules/linear_model.html#logistic-regression\n",
      "  n_iter_i = _check_optimize_result(\n",
      "/Users/dsbox/opt/anaconda3/envs/terry_stops/lib/python3.9/site-packages/sklearn/linear_model/_logistic.py:763: ConvergenceWarning: lbfgs failed to converge (status=1):\n",
      "STOP: TOTAL NO. of ITERATIONS REACHED LIMIT.\n",
      "\n",
      "Increase the number of iterations (max_iter) or scale the data as shown in:\n",
      "    https://scikit-learn.org/stable/modules/preprocessing.html\n",
      "Please also refer to the documentation for alternative solver options:\n",
      "    https://scikit-learn.org/stable/modules/linear_model.html#logistic-regression\n",
      "  n_iter_i = _check_optimize_result(\n"
     ]
    },
    {
     "name": "stdout",
     "output_type": "stream",
     "text": [
      "log reg has an average percision of 0.29090060868182843\n",
      "[0.29624872 0.28493365 0.29127726 0.28791037 0.29413305]\n"
     ]
    },
    {
     "name": "stderr",
     "output_type": "stream",
     "text": [
      "/Users/dsbox/opt/anaconda3/envs/terry_stops/lib/python3.9/site-packages/sklearn/linear_model/_logistic.py:763: ConvergenceWarning: lbfgs failed to converge (status=1):\n",
      "STOP: TOTAL NO. of ITERATIONS REACHED LIMIT.\n",
      "\n",
      "Increase the number of iterations (max_iter) or scale the data as shown in:\n",
      "    https://scikit-learn.org/stable/modules/preprocessing.html\n",
      "Please also refer to the documentation for alternative solver options:\n",
      "    https://scikit-learn.org/stable/modules/linear_model.html#logistic-regression\n",
      "  n_iter_i = _check_optimize_result(\n"
     ]
    },
    {
     "data": {
      "text/plain": [
       "array([0.29624872, 0.28493365, 0.29127726, 0.28791037, 0.29413305])"
      ]
     },
     "execution_count": 21,
     "metadata": {},
     "output_type": "execute_result"
    }
   ],
   "source": [
    "modeling.report(pl3, X_train, y_train, 'log reg')"
   ]
  },
  {
   "cell_type": "code",
   "execution_count": 22,
   "id": "764b2591-5be1-4f40-a0c1-d8fa3db3916f",
   "metadata": {},
   "outputs": [],
   "source": [
    "clf3 = LogisticRegression(max_iter=275)"
   ]
  },
  {
   "cell_type": "code",
   "execution_count": 23,
   "id": "4187f2c2-563a-44a6-9cdd-da350b7afc90",
   "metadata": {},
   "outputs": [],
   "source": [
    "pl4 = make_sm_pipeline(preprocessing, sm, clf3)"
   ]
  },
  {
   "cell_type": "code",
   "execution_count": 24,
   "id": "6b70773b-4683-4589-9b19-ba483684c881",
   "metadata": {},
   "outputs": [
    {
     "name": "stdout",
     "output_type": "stream",
     "text": [
      "log reg has an average percision of 0.2907362078890012\n",
      "[0.29632485 0.28426528 0.29127726 0.28764982 0.29416383]\n"
     ]
    },
    {
     "data": {
      "text/plain": [
       "array([0.29632485, 0.28426528, 0.29127726, 0.28764982, 0.29416383])"
      ]
     },
     "execution_count": 24,
     "metadata": {},
     "output_type": "execute_result"
    }
   ],
   "source": [
    "modeling.report(pl4, X_train, y_train, 'log reg', 'max_inter=275')"
   ]
  },
  {
   "cell_type": "code",
   "execution_count": null,
   "id": "a3cd44a9-b50a-424d-83be-40564b694f52",
   "metadata": {},
   "outputs": [],
   "source": []
  }
 ],
 "metadata": {
  "kernelspec": {
   "display_name": "terry_stops",
   "language": "python",
   "name": "terry_stops"
  },
  "language_info": {
   "codemirror_mode": {
    "name": "ipython",
    "version": 3
   },
   "file_extension": ".py",
   "mimetype": "text/x-python",
   "name": "python",
   "nbconvert_exporter": "python",
   "pygments_lexer": "ipython3",
   "version": "3.9.4"
  }
 },
 "nbformat": 4,
 "nbformat_minor": 5
}
