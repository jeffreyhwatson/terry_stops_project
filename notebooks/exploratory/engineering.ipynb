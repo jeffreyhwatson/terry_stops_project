{
 "cells": [
  {
   "cell_type": "code",
   "execution_count": 1,
   "id": "dec765fd-7cf9-4b53-9647-18921634ffb3",
   "metadata": {},
   "outputs": [],
   "source": [
    "%load_ext autoreload\n",
    "%autoreload 2"
   ]
  },
  {
   "cell_type": "code",
   "execution_count": 2,
   "id": "e7e827e0-c324-49a5-9c8a-6acd8a4a32dd",
   "metadata": {},
   "outputs": [],
   "source": [
    "# setting project path\n",
    "import os\n",
    "import sys\n",
    "\n",
    "gparent = os.path.join(os.pardir, os.pardir)\n",
    "sys.path.append(gparent)\n",
    "\n",
    "# imports\n",
    "import pandas as pd\n",
    "import numpy as np\n",
    "\n",
    "from sklearn.model_selection import StratifiedKFold\n",
    "from sklearn.model_selection import train_test_split\n",
    "from sklearn.model_selection import cross_val_score\n",
    "from sklearn.preprocessing import OneHotEncoder\n",
    "from sklearn.preprocessing import StandardScaler\n",
    "from sklearn.preprocessing import MinMaxScaler\n",
    "from sklearn.compose import make_column_selector\n",
    "from sklearn.compose import make_column_transformer\n",
    "from sklearn.pipeline import make_pipeline \n",
    "from sklearn.metrics import accuracy_score, recall_score, precision_score, f1_score\n",
    "from sklearn.metrics import make_scorer, plot_confusion_matrix\n",
    "from sklearn.linear_model import LogisticRegression\n",
    "from sklearn.neighbors import KNeighborsClassifier\n",
    "from sklearn.base import clone\n",
    "\n",
    "from imblearn.over_sampling import SMOTE\n",
    "from imblearn.pipeline import make_pipeline as make_sm_pipeline\n",
    "\n",
    "from src import classes as c\n",
    "from src import functions as f\n",
    "import matplotlib.pyplot as plt\n",
    "import seaborn as sns\n",
    "\n",
    "# setting style\n",
    "sns.set_theme('talk')\n",
    "plt.style.use('fivethirtyeight')\n",
    "sns.set_palette(palette='Blues_r')"
   ]
  },
  {
   "cell_type": "markdown",
   "id": "2b7ec8ba-446d-4c17-8aaf-f92dbc62454c",
   "metadata": {},
   "source": [
    "## Importing the Data"
   ]
  },
  {
   "cell_type": "code",
   "execution_count": 3,
   "id": "959930a8-49d5-44fa-b4be-6f380b385b05",
   "metadata": {},
   "outputs": [],
   "source": [
    "path = os.path.join(gparent, 'data/processed', 'modeling.csv')\n",
    "df = pd.read_csv(path, keep_default_na=False)"
   ]
  },
  {
   "cell_type": "markdown",
   "id": "89d003b1-9e09-4cb4-b910-d21ec32be028",
   "metadata": {},
   "source": [
    "## Preprocessing and Harness Objects"
   ]
  },
  {
   "cell_type": "code",
   "execution_count": 4,
   "id": "3da125bd-dd01-4297-9b59-2d14aa585e74",
   "metadata": {},
   "outputs": [],
   "source": [
    "string_selector = make_column_selector(dtype_include='object')\n",
    "number_selector = make_column_selector(dtype_include='number', dtype_exclude='object')"
   ]
  },
  {
   "cell_type": "code",
   "execution_count": 5,
   "id": "ebeb1f01-cf21-40e5-9212-e1d2a6624c8b",
   "metadata": {},
   "outputs": [],
   "source": [
    "preprocessing = make_column_transformer((OneHotEncoder\n",
    "                                         (handle_unknown='ignore'),string_selector),\n",
    "                                          (StandardScaler(), number_selector))"
   ]
  },
  {
   "cell_type": "code",
   "execution_count": 6,
   "id": "86e5f7fb-1077-4446-8858-d935ef0f42d8",
   "metadata": {},
   "outputs": [],
   "source": [
    "sm = SMOTE(random_state=2021)"
   ]
  },
  {
   "cell_type": "code",
   "execution_count": 7,
   "id": "30b55b51-7e25-4099-ae62-ec44d025cef9",
   "metadata": {},
   "outputs": [],
   "source": [
    "# creating f1 scorer\n",
    "f1 = f.f1"
   ]
  },
  {
   "cell_type": "code",
   "execution_count": 8,
   "id": "d1f485cb-e7b7-406f-a812-3e0bff3a083c",
   "metadata": {},
   "outputs": [],
   "source": [
    "modeling = c.Harness(f1)"
   ]
  },
  {
   "cell_type": "markdown",
   "id": "67fc48c6-f67f-4c9b-9c72-107197d495cf",
   "metadata": {},
   "source": [
    "## Baseline Model"
   ]
  },
  {
   "cell_type": "markdown",
   "id": "e9149cb6-8807-4a31-bcfd-38c2007cc30d",
   "metadata": {},
   "source": [
    "Dropping engineered features to establish the baseline score."
   ]
  },
  {
   "cell_type": "code",
   "execution_count": 9,
   "id": "aaebf3c2-5022-4427-860c-3f41398fde9d",
   "metadata": {},
   "outputs": [],
   "source": [
    "# features engineered during eda\n",
    "feature_list = ['Weapon Flag', 'Reported Year', 'Reported Month',\n",
    "                'Day of Month', 'Day of Week', 'Reported Hour', 'Beat Flag']"
   ]
  },
  {
   "cell_type": "code",
   "execution_count": 10,
   "id": "d13534dd-1c86-4fdb-ba31-f7e0022960d7",
   "metadata": {},
   "outputs": [],
   "source": [
    "base_df = f.framer(df, [], feature_list)"
   ]
  },
  {
   "cell_type": "code",
   "execution_count": 11,
   "id": "c56efad5-e786-47a8-aff2-9515bf0dc541",
   "metadata": {},
   "outputs": [
    {
     "data": {
      "text/html": [
       "<div>\n",
       "<style scoped>\n",
       "    .dataframe tbody tr th:only-of-type {\n",
       "        vertical-align: middle;\n",
       "    }\n",
       "\n",
       "    .dataframe tbody tr th {\n",
       "        vertical-align: top;\n",
       "    }\n",
       "\n",
       "    .dataframe thead th {\n",
       "        text-align: right;\n",
       "    }\n",
       "</style>\n",
       "<table border=\"1\" class=\"dataframe\">\n",
       "  <thead>\n",
       "    <tr style=\"text-align: right;\">\n",
       "      <th></th>\n",
       "      <th>Target</th>\n",
       "      <th>Subject Age Group</th>\n",
       "      <th>Weapon Type</th>\n",
       "      <th>Officer ID</th>\n",
       "      <th>Officer YOB</th>\n",
       "      <th>Officer Gender</th>\n",
       "      <th>Officer Race</th>\n",
       "      <th>Subject Perceived Race</th>\n",
       "      <th>Subject Perceived Gender</th>\n",
       "      <th>Initial Call Type</th>\n",
       "      <th>Final Call Type</th>\n",
       "      <th>Call Type</th>\n",
       "      <th>Officer Squad</th>\n",
       "      <th>Arrest Flag</th>\n",
       "      <th>Frisk Flag</th>\n",
       "      <th>Precinct</th>\n",
       "      <th>Sector</th>\n",
       "      <th>Beat</th>\n",
       "    </tr>\n",
       "  </thead>\n",
       "  <tbody>\n",
       "    <tr>\n",
       "      <th>0</th>\n",
       "      <td>1</td>\n",
       "      <td>NA</td>\n",
       "      <td>None</td>\n",
       "      <td>7500</td>\n",
       "      <td>1984</td>\n",
       "      <td>M</td>\n",
       "      <td>Black</td>\n",
       "      <td>Asian</td>\n",
       "      <td>Male</td>\n",
       "      <td>NA</td>\n",
       "      <td>NA</td>\n",
       "      <td>NA</td>\n",
       "      <td>SOUTH PCT 1ST W - ROBERT</td>\n",
       "      <td>0</td>\n",
       "      <td>0</td>\n",
       "      <td>South</td>\n",
       "      <td>O</td>\n",
       "      <td>O2</td>\n",
       "    </tr>\n",
       "    <tr>\n",
       "      <th>1</th>\n",
       "      <td>0</td>\n",
       "      <td>NA</td>\n",
       "      <td>None</td>\n",
       "      <td>5670</td>\n",
       "      <td>1965</td>\n",
       "      <td>M</td>\n",
       "      <td>White</td>\n",
       "      <td>NA</td>\n",
       "      <td>NA</td>\n",
       "      <td>NA</td>\n",
       "      <td>NA</td>\n",
       "      <td>NA</td>\n",
       "      <td>NA</td>\n",
       "      <td>0</td>\n",
       "      <td>0</td>\n",
       "      <td>NA</td>\n",
       "      <td>NA</td>\n",
       "      <td>NA</td>\n",
       "    </tr>\n",
       "  </tbody>\n",
       "</table>\n",
       "</div>"
      ],
      "text/plain": [
       "   Target Subject Age Group Weapon Type Officer ID  Officer YOB  \\\n",
       "0       1                NA        None       7500         1984   \n",
       "1       0                NA        None       5670         1965   \n",
       "\n",
       "  Officer Gender Officer Race Subject Perceived Race Subject Perceived Gender  \\\n",
       "0              M        Black                  Asian                     Male   \n",
       "1              M        White                     NA                       NA   \n",
       "\n",
       "  Initial Call Type Final Call Type Call Type             Officer Squad  \\\n",
       "0                NA              NA        NA  SOUTH PCT 1ST W - ROBERT   \n",
       "1                NA              NA        NA                        NA   \n",
       "\n",
       "   Arrest Flag  Frisk Flag Precinct  Sector    Beat  \n",
       "0            0           0    South  O       O2      \n",
       "1            0           0       NA      NA      NA  "
      ]
     },
     "execution_count": 11,
     "metadata": {},
     "output_type": "execute_result"
    }
   ],
   "source": [
    "base_df.head(2)"
   ]
  },
  {
   "cell_type": "code",
   "execution_count": 12,
   "id": "2fda8c57-cd87-448d-adb6-53b3296cb609",
   "metadata": {},
   "outputs": [],
   "source": [
    "X, y = f.Xy(base_df)"
   ]
  },
  {
   "cell_type": "code",
   "execution_count": 13,
   "id": "af987daf-967a-4f84-9860-2d2ed0879116",
   "metadata": {},
   "outputs": [],
   "source": [
    "X_train, X_test, y_train, y_test = f.splitter(X,y)"
   ]
  },
  {
   "cell_type": "code",
   "execution_count": 14,
   "id": "95ba01e3-6930-4229-9148-60db8afa7b0b",
   "metadata": {},
   "outputs": [],
   "source": [
    "preprocessing.fit_transform(X_train);"
   ]
  },
  {
   "cell_type": "code",
   "execution_count": 15,
   "id": "d4df1dfc-bb09-41b3-9769-58e4ef5c1cd7",
   "metadata": {},
   "outputs": [],
   "source": [
    "clf = LogisticRegression(max_iter=1000)"
   ]
  },
  {
   "cell_type": "code",
   "execution_count": 16,
   "id": "e2035c22-ed61-43c3-a536-dd7085f8646c",
   "metadata": {},
   "outputs": [],
   "source": [
    "baseline = make_pipeline(preprocessing, clf)"
   ]
  },
  {
   "cell_type": "code",
   "execution_count": 17,
   "id": "4076d1c9-1db7-4e99-907d-386c4dc15742",
   "metadata": {},
   "outputs": [
    {
     "data": {
      "image/png": "[encoded data removed]",
      "text/plain": [
       "<Figure size 504x504 with 2 Axes>"
      ]
     },
     "metadata": {},
     "output_type": "display_data"
    }
   ],
   "source": [
    "f.confusion(baseline, X_train, y_train)"
   ]
  },
  {
   "cell_type": "code",
   "execution_count": 18,
   "id": "889b3eab-60f2-4443-b7c1-1917f382cd7d",
   "metadata": {},
   "outputs": [
    {
     "name": "stdout",
     "output_type": "stream",
     "text": [
      "Baseline has an average F1 of 0.7687569287145607\n"
     ]
    },
    {
     "data": {
      "text/plain": [
       "array([0.77939863, 0.75540865, 0.76701878, 0.7742515 , 0.76770708])"
      ]
     },
     "execution_count": 18,
     "metadata": {},
     "output_type": "execute_result"
    }
   ],
   "source": [
    "modeling.report(baseline, X_train, y_train, 'Baseline', 'Log Reg w/ all base cols')"
   ]
  },
  {
   "cell_type": "code",
   "execution_count": 19,
   "id": "8487f04e-23a5-4fe1-b68e-502d97562e28",
   "metadata": {},
   "outputs": [],
   "source": [
    "model1 = make_sm_pipeline(preprocessing, sm, clf)"
   ]
  },
  {
   "cell_type": "code",
   "execution_count": 20,
   "id": "144614b4-c385-45f5-9603-b2c63f29626a",
   "metadata": {},
   "outputs": [
    {
     "data": {
      "image/png": "[encoded data removed]",
      "text/plain": [
       "<Figure size 504x504 with 2 Axes>"
      ]
     },
     "metadata": {},
     "output_type": "display_data"
    }
   ],
   "source": [
    "f.confusion(model1, X_train, y_train)"
   ]
  },
  {
   "cell_type": "code",
   "execution_count": 21,
   "id": "424f7d43-e730-4e99-b20b-3b9f44bcc863",
   "metadata": {},
   "outputs": [
    {
     "name": "stdout",
     "output_type": "stream",
     "text": [
      "Baseline_SM has an average F1 of 0.7708287135918668\n"
     ]
    },
    {
     "data": {
      "text/plain": [
       "array([0.77300613, 0.75807278, 0.7735369 , 0.78033635, 0.7691914 ])"
      ]
     },
     "execution_count": 21,
     "metadata": {},
     "output_type": "execute_result"
    }
   ],
   "source": [
    "modeling.report(model1, X_train, y_train, 'Baseline_SM', 'baseline w/ SMOTE')"
   ]
  },
  {
   "cell_type": "code",
   "execution_count": 22,
   "id": "f7aa6f15-14ee-4f99-882e-1f54c91e58a0",
   "metadata": {},
   "outputs": [
    {
     "data": {
      "text/html": [
       "<div>\n",
       "<style scoped>\n",
       "    .dataframe tbody tr th:only-of-type {\n",
       "        vertical-align: middle;\n",
       "    }\n",
       "\n",
       "    .dataframe tbody tr th {\n",
       "        vertical-align: top;\n",
       "    }\n",
       "\n",
       "    .dataframe thead th {\n",
       "        text-align: right;\n",
       "    }\n",
       "</style>\n",
       "<table border=\"1\" class=\"dataframe\">\n",
       "  <thead>\n",
       "    <tr style=\"text-align: right;\">\n",
       "      <th></th>\n",
       "      <th>Name</th>\n",
       "      <th>Accuracy</th>\n",
       "      <th>Notes</th>\n",
       "    </tr>\n",
       "  </thead>\n",
       "  <tbody>\n",
       "    <tr>\n",
       "      <th>0</th>\n",
       "      <td>Baseline</td>\n",
       "      <td>0.768757</td>\n",
       "      <td>Log Reg w/ all base cols</td>\n",
       "    </tr>\n",
       "    <tr>\n",
       "      <th>1</th>\n",
       "      <td>Baseline_SM</td>\n",
       "      <td>0.770829</td>\n",
       "      <td>baseline w/ SMOTE</td>\n",
       "    </tr>\n",
       "  </tbody>\n",
       "</table>\n",
       "</div>"
      ],
      "text/plain": [
       "          Name  Accuracy                     Notes\n",
       "0     Baseline  0.768757  Log Reg w/ all base cols\n",
       "1  Baseline_SM  0.770829         baseline w/ SMOTE"
      ]
     },
     "execution_count": 22,
     "metadata": {},
     "output_type": "execute_result"
    }
   ],
   "source": [
    "modeling.history"
   ]
  },
  {
   "cell_type": "markdown",
   "id": "0a2d32a7-a949-4211-9f1e-c2d2e984c0ad",
   "metadata": {},
   "source": [
    "## Engineered Features\n",
    "Engineered columns from original EDA:\n",
    "\n",
    "'Weapon Flag', 'Reported Year', 'Reported Month', 'Day of Month', 'Day of Week', 'Reported Hour', 'Beat Flag'"
   ]
  },
  {
   "cell_type": "code",
   "execution_count": 23,
   "id": "d8047873-6002-4c9c-bd96-5e3d5a20ab26",
   "metadata": {},
   "outputs": [
    {
     "name": "stdout",
     "output_type": "stream",
     "text": [
      "Weapon Flag model has an average F1 of 0.7712584411635183\n",
      "Reported Year model has an average F1 of 0.7714294524613967\n",
      "Reported Month model has an average F1 of 0.7702852091450928\n",
      "Day of Month model has an average F1 of 0.7693219389581039\n",
      "Day of Week model has an average F1 of 0.7705544122126456\n",
      "Reported Hour model has an average F1 of 0.7699422932799156\n",
      "Beat Flag model has an average F1 of 0.7718025558909024\n"
     ]
    }
   ],
   "source": [
    "for feature in feature_list:\n",
    "    feature_df = f.framer(df, [feature], feature_list)\n",
    "    X, y = f.Xy(feature_df)\n",
    "    X_train, X_test, y_train, y_test = f.splitter(X,y)\n",
    "    feature_pipe = make_sm_pipeline(preprocessing, sm, clf)\n",
    "    modeling.report(feature_pipe, X_train, y_train, f'{feature} model', f'{feature} added')"
   ]
  },
  {
   "cell_type": "code",
   "execution_count": 24,
   "id": "2e727ae8-502d-426b-90d6-3b38ea88d17a",
   "metadata": {},
   "outputs": [
    {
     "data": {
      "text/html": [
       "<div>\n",
       "<style scoped>\n",
       "    .dataframe tbody tr th:only-of-type {\n",
       "        vertical-align: middle;\n",
       "    }\n",
       "\n",
       "    .dataframe tbody tr th {\n",
       "        vertical-align: top;\n",
       "    }\n",
       "\n",
       "    .dataframe thead th {\n",
       "        text-align: right;\n",
       "    }\n",
       "</style>\n",
       "<table border=\"1\" class=\"dataframe\">\n",
       "  <thead>\n",
       "    <tr style=\"text-align: right;\">\n",
       "      <th></th>\n",
       "      <th>Name</th>\n",
       "      <th>Accuracy</th>\n",
       "      <th>Notes</th>\n",
       "    </tr>\n",
       "  </thead>\n",
       "  <tbody>\n",
       "    <tr>\n",
       "      <th>0</th>\n",
       "      <td>Baseline</td>\n",
       "      <td>0.768757</td>\n",
       "      <td>Log Reg w/ all base cols</td>\n",
       "    </tr>\n",
       "    <tr>\n",
       "      <th>1</th>\n",
       "      <td>Day of Month model</td>\n",
       "      <td>0.769322</td>\n",
       "      <td>Day of Month added</td>\n",
       "    </tr>\n",
       "    <tr>\n",
       "      <th>2</th>\n",
       "      <td>Reported Hour model</td>\n",
       "      <td>0.769942</td>\n",
       "      <td>Reported Hour added</td>\n",
       "    </tr>\n",
       "    <tr>\n",
       "      <th>3</th>\n",
       "      <td>Reported Month model</td>\n",
       "      <td>0.770285</td>\n",
       "      <td>Reported Month added</td>\n",
       "    </tr>\n",
       "    <tr>\n",
       "      <th>4</th>\n",
       "      <td>Day of Week model</td>\n",
       "      <td>0.770554</td>\n",
       "      <td>Day of Week added</td>\n",
       "    </tr>\n",
       "    <tr>\n",
       "      <th>5</th>\n",
       "      <td>Baseline_SM</td>\n",
       "      <td>0.770829</td>\n",
       "      <td>baseline w/ SMOTE</td>\n",
       "    </tr>\n",
       "    <tr>\n",
       "      <th>6</th>\n",
       "      <td>Weapon Flag model</td>\n",
       "      <td>0.771258</td>\n",
       "      <td>Weapon Flag added</td>\n",
       "    </tr>\n",
       "    <tr>\n",
       "      <th>7</th>\n",
       "      <td>Reported Year model</td>\n",
       "      <td>0.771429</td>\n",
       "      <td>Reported Year added</td>\n",
       "    </tr>\n",
       "    <tr>\n",
       "      <th>8</th>\n",
       "      <td>Beat Flag model</td>\n",
       "      <td>0.771803</td>\n",
       "      <td>Beat Flag added</td>\n",
       "    </tr>\n",
       "  </tbody>\n",
       "</table>\n",
       "</div>"
      ],
      "text/plain": [
       "                   Name  Accuracy                     Notes\n",
       "0              Baseline  0.768757  Log Reg w/ all base cols\n",
       "1    Day of Month model  0.769322        Day of Month added\n",
       "2   Reported Hour model  0.769942       Reported Hour added\n",
       "3  Reported Month model  0.770285      Reported Month added\n",
       "4     Day of Week model  0.770554         Day of Week added\n",
       "5           Baseline_SM  0.770829         baseline w/ SMOTE\n",
       "6     Weapon Flag model  0.771258         Weapon Flag added\n",
       "7   Reported Year model  0.771429       Reported Year added\n",
       "8       Beat Flag model  0.771803           Beat Flag added"
      ]
     },
     "execution_count": 24,
     "metadata": {},
     "output_type": "execute_result"
    }
   ],
   "source": [
    "modeling.history"
   ]
  }
 ],
 "metadata": {
  "kernelspec": {
   "display_name": "terry_stops",
   "language": "python",
   "name": "terry_stops"
  },
  "language_info": {
   "codemirror_mode": {
    "name": "ipython",
    "version": 3
   },
   "file_extension": ".py",
   "mimetype": "text/x-python",
   "name": "python",
   "nbconvert_exporter": "python",
   "pygments_lexer": "ipython3",
   "version": "3.9.4"
  }
 },
 "nbformat": 4,
 "nbformat_minor": 5
}
