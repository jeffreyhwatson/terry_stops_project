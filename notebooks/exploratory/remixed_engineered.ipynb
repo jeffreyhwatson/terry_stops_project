{
 "cells": [
  {
   "cell_type": "code",
   "execution_count": 1,
   "id": "dec765fd-7cf9-4b53-9647-18921634ffb3",
   "metadata": {},
   "outputs": [],
   "source": [
    "%load_ext autoreload\n",
    "%autoreload 2"
   ]
  },
  {
   "cell_type": "markdown",
   "id": "d5f0aa29-e754-4817-885f-28b1c75a673c",
   "metadata": {
    "tags": []
   },
   "source": [
    "## Package Imports & Setup "
   ]
  },
  {
   "cell_type": "code",
   "execution_count": 2,
   "id": "e7e827e0-c324-49a5-9c8a-6acd8a4a32dd",
   "metadata": {},
   "outputs": [],
   "source": [
    "# setting project path\n",
    "import os\n",
    "import sys\n",
    "\n",
    "gparent = os.path.join(os.pardir, os.pardir)\n",
    "sys.path.append(gparent)\n",
    "\n",
    "# imports\n",
    "import pandas as pd\n",
    "import numpy as np\n",
    "\n",
    "from sklearn.base import clone\n",
    "from sklearn.model_selection import StratifiedKFold\n",
    "from sklearn.model_selection import train_test_split\n",
    "from sklearn.model_selection import cross_val_score\n",
    "from sklearn.model_selection import GridSearchCV\n",
    "from sklearn.preprocessing import OneHotEncoder\n",
    "from sklearn.preprocessing import StandardScaler\n",
    "from sklearn.preprocessing import MinMaxScaler\n",
    "from sklearn.compose import make_column_selector\n",
    "from sklearn.compose import make_column_transformer\n",
    "from sklearn.pipeline import make_pipeline \n",
    "from sklearn.metrics import accuracy_score, recall_score, precision_score, f1_score\n",
    "from sklearn.metrics import make_scorer, plot_confusion_matrix\n",
    "from sklearn.linear_model import LogisticRegression\n",
    "from sklearn.tree import DecisionTreeClassifier\n",
    "from sklearn.tree import export_graphviz\n",
    "from sklearn.tree import plot_tree\n",
    "from sklearn.ensemble import RandomForestClassifier\n",
    "from sklearn.ensemble import AdaBoostClassifier\n",
    "\n",
    "from imblearn.over_sampling import SMOTE\n",
    "from imblearn.pipeline import make_pipeline as make_sm_pipeline\n",
    "\n",
    "import xgboost as xgb\n",
    "\n",
    "from boruta import BorutaPy\n",
    "\n",
    "from src import classes as c\n",
    "from src import functions as f\n",
    "\n",
    "import matplotlib.pyplot as plt\n",
    "import seaborn as sns\n",
    "import graphviz\n",
    "import plotly\n",
    "# setting style\n",
    "sns.set_theme('talk')\n",
    "plt.style.use('fivethirtyeight')\n",
    "sns.set_palette(palette='Blues_r')"
   ]
  },
  {
   "cell_type": "markdown",
   "id": "2b7ec8ba-446d-4c17-8aaf-f92dbc62454c",
   "metadata": {},
   "source": [
    "## Importing the Data"
   ]
  },
  {
   "cell_type": "code",
   "execution_count": 3,
   "id": "959930a8-49d5-44fa-b4be-6f380b385b05",
   "metadata": {},
   "outputs": [],
   "source": [
    "path = os.path.join(gparent, 'data/processed', 'modeling_remixed.csv')\n",
    "df = pd.read_csv(path, keep_default_na=False)"
   ]
  },
  {
   "cell_type": "markdown",
   "id": "89d003b1-9e09-4cb4-b910-d21ec32be028",
   "metadata": {},
   "source": [
    "## Preprocessing and Harness Objects"
   ]
  },
  {
   "cell_type": "code",
   "execution_count": 4,
   "id": "21082e75-a9f7-4ae6-ace5-81e27c6d4e59",
   "metadata": {},
   "outputs": [],
   "source": [
    "string_selector = make_column_selector(dtype_include='object')\n",
    "number_selector = make_column_selector(dtype_include='number', dtype_exclude='object')\n",
    "\n",
    "preprocessing_ss = make_column_transformer((OneHotEncoder\n",
    "                                         (handle_unknown='ignore'),string_selector),\n",
    "                                          (StandardScaler(), number_selector))\n",
    "preprocessing_mm = make_column_transformer((OneHotEncoder\n",
    "                                         (handle_unknown='ignore'),string_selector),\n",
    "                                          (MinMaxScaler(), number_selector))\n",
    "sm = SMOTE(random_state=2021)"
   ]
  },
  {
   "cell_type": "code",
   "execution_count": 5,
   "id": "30b55b51-7e25-4099-ae62-ec44d025cef9",
   "metadata": {},
   "outputs": [],
   "source": [
    "# creating f1 scorer\n",
    "f1 = f.f1"
   ]
  },
  {
   "cell_type": "code",
   "execution_count": 6,
   "id": "d1f485cb-e7b7-406f-a812-3e0bff3a083c",
   "metadata": {},
   "outputs": [],
   "source": [
    "modeling = c.Harness(f1)"
   ]
  },
  {
   "cell_type": "markdown",
   "id": "67fc48c6-f67f-4c9b-9c72-107197d495cf",
   "metadata": {},
   "source": [
    "## Creating the Baseline Dataframe"
   ]
  },
  {
   "cell_type": "markdown",
   "id": "e9149cb6-8807-4a31-bcfd-38c2007cc30d",
   "metadata": {},
   "source": [
    "Dropping engineered features to establish the baseline score."
   ]
  },
  {
   "cell_type": "code",
   "execution_count": 7,
   "id": "19b83772-d665-485c-b2b5-f64ec9682619",
   "metadata": {},
   "outputs": [
    {
     "data": {
      "text/html": [
       "<div>\n",
       "<style scoped>\n",
       "    .dataframe tbody tr th:only-of-type {\n",
       "        vertical-align: middle;\n",
       "    }\n",
       "\n",
       "    .dataframe tbody tr th {\n",
       "        vertical-align: top;\n",
       "    }\n",
       "\n",
       "    .dataframe thead th {\n",
       "        text-align: right;\n",
       "    }\n",
       "</style>\n",
       "<table border=\"1\" class=\"dataframe\">\n",
       "  <thead>\n",
       "    <tr style=\"text-align: right;\">\n",
       "      <th></th>\n",
       "      <th>Target Remixed</th>\n",
       "      <th>Subject Age Group</th>\n",
       "      <th>Weapon Type</th>\n",
       "      <th>Officer ID</th>\n",
       "      <th>Officer YOB</th>\n",
       "      <th>Officer Gender</th>\n",
       "      <th>Officer Race</th>\n",
       "      <th>Subject Perceived Race</th>\n",
       "      <th>Subject Perceived Gender</th>\n",
       "      <th>Initial Call Type</th>\n",
       "      <th>...</th>\n",
       "      <th>Officer Squad</th>\n",
       "      <th>Frisk Flag</th>\n",
       "      <th>Precinct</th>\n",
       "      <th>Weapon Flag</th>\n",
       "      <th>Reported Year</th>\n",
       "      <th>Reported Month</th>\n",
       "      <th>Day of Month</th>\n",
       "      <th>Day of Week</th>\n",
       "      <th>Reported Hour</th>\n",
       "      <th>Beat Flag</th>\n",
       "    </tr>\n",
       "  </thead>\n",
       "  <tbody>\n",
       "    <tr>\n",
       "      <th>0</th>\n",
       "      <td>1</td>\n",
       "      <td>NA</td>\n",
       "      <td>None</td>\n",
       "      <td>7500</td>\n",
       "      <td>1984</td>\n",
       "      <td>M</td>\n",
       "      <td>Black</td>\n",
       "      <td>Asian</td>\n",
       "      <td>Male</td>\n",
       "      <td>NA</td>\n",
       "      <td>...</td>\n",
       "      <td>SOUTH PCT 1ST W - ROBERT</td>\n",
       "      <td>0</td>\n",
       "      <td>South</td>\n",
       "      <td>0</td>\n",
       "      <td>2015</td>\n",
       "      <td>10</td>\n",
       "      <td>16</td>\n",
       "      <td>4</td>\n",
       "      <td>11</td>\n",
       "      <td>1</td>\n",
       "    </tr>\n",
       "    <tr>\n",
       "      <th>1</th>\n",
       "      <td>0</td>\n",
       "      <td>NA</td>\n",
       "      <td>None</td>\n",
       "      <td>5670</td>\n",
       "      <td>1965</td>\n",
       "      <td>M</td>\n",
       "      <td>White</td>\n",
       "      <td>NA</td>\n",
       "      <td>NA</td>\n",
       "      <td>NA</td>\n",
       "      <td>...</td>\n",
       "      <td>NA</td>\n",
       "      <td>0</td>\n",
       "      <td>NA</td>\n",
       "      <td>0</td>\n",
       "      <td>2015</td>\n",
       "      <td>3</td>\n",
       "      <td>19</td>\n",
       "      <td>3</td>\n",
       "      <td>7</td>\n",
       "      <td>0</td>\n",
       "    </tr>\n",
       "  </tbody>\n",
       "</table>\n",
       "<p>2 rows × 22 columns</p>\n",
       "</div>"
      ],
      "text/plain": [
       "   Target Remixed Subject Age Group Weapon Type Officer ID  Officer YOB  \\\n",
       "0               1                NA        None       7500         1984   \n",
       "1               0                NA        None       5670         1965   \n",
       "\n",
       "  Officer Gender Officer Race Subject Perceived Race Subject Perceived Gender  \\\n",
       "0              M        Black                  Asian                     Male   \n",
       "1              M        White                     NA                       NA   \n",
       "\n",
       "  Initial Call Type  ...             Officer Squad Frisk Flag Precinct  \\\n",
       "0                NA  ...  SOUTH PCT 1ST W - ROBERT          0    South   \n",
       "1                NA  ...                        NA          0       NA   \n",
       "\n",
       "   Weapon Flag Reported Year  Reported Month  Day of Month  Day of Week  \\\n",
       "0            0          2015              10            16            4   \n",
       "1            0          2015               3            19            3   \n",
       "\n",
       "   Reported Hour  Beat Flag  \n",
       "0             11          1  \n",
       "1              7          0  \n",
       "\n",
       "[2 rows x 22 columns]"
      ]
     },
     "execution_count": 7,
     "metadata": {},
     "output_type": "execute_result"
    }
   ],
   "source": [
    "df.head(2)"
   ]
  },
  {
   "cell_type": "markdown",
   "id": "1fc867b3-07d0-4ffc-a99d-8e9669d49e81",
   "metadata": {},
   "source": [
    "## Renaming the Target"
   ]
  },
  {
   "cell_type": "code",
   "execution_count": 8,
   "id": "4ecb6fc3-0acc-4dd2-aedf-031fab544ab2",
   "metadata": {},
   "outputs": [],
   "source": [
    "df.rename(columns={'Target Remixed': 'Target'}, inplace=True)"
   ]
  },
  {
   "cell_type": "code",
   "execution_count": 9,
   "id": "e3ce219b-361c-49d5-8498-c8dbbb1f74a2",
   "metadata": {},
   "outputs": [
    {
     "data": {
      "text/html": [
       "<div>\n",
       "<style scoped>\n",
       "    .dataframe tbody tr th:only-of-type {\n",
       "        vertical-align: middle;\n",
       "    }\n",
       "\n",
       "    .dataframe tbody tr th {\n",
       "        vertical-align: top;\n",
       "    }\n",
       "\n",
       "    .dataframe thead th {\n",
       "        text-align: right;\n",
       "    }\n",
       "</style>\n",
       "<table border=\"1\" class=\"dataframe\">\n",
       "  <thead>\n",
       "    <tr style=\"text-align: right;\">\n",
       "      <th></th>\n",
       "      <th>Target</th>\n",
       "      <th>Subject Age Group</th>\n",
       "      <th>Weapon Type</th>\n",
       "      <th>Officer ID</th>\n",
       "      <th>Officer YOB</th>\n",
       "      <th>Officer Gender</th>\n",
       "      <th>Officer Race</th>\n",
       "      <th>Subject Perceived Race</th>\n",
       "      <th>Subject Perceived Gender</th>\n",
       "      <th>Initial Call Type</th>\n",
       "      <th>...</th>\n",
       "      <th>Officer Squad</th>\n",
       "      <th>Frisk Flag</th>\n",
       "      <th>Precinct</th>\n",
       "      <th>Weapon Flag</th>\n",
       "      <th>Reported Year</th>\n",
       "      <th>Reported Month</th>\n",
       "      <th>Day of Month</th>\n",
       "      <th>Day of Week</th>\n",
       "      <th>Reported Hour</th>\n",
       "      <th>Beat Flag</th>\n",
       "    </tr>\n",
       "  </thead>\n",
       "  <tbody>\n",
       "    <tr>\n",
       "      <th>0</th>\n",
       "      <td>1</td>\n",
       "      <td>NA</td>\n",
       "      <td>None</td>\n",
       "      <td>7500</td>\n",
       "      <td>1984</td>\n",
       "      <td>M</td>\n",
       "      <td>Black</td>\n",
       "      <td>Asian</td>\n",
       "      <td>Male</td>\n",
       "      <td>NA</td>\n",
       "      <td>...</td>\n",
       "      <td>SOUTH PCT 1ST W - ROBERT</td>\n",
       "      <td>0</td>\n",
       "      <td>South</td>\n",
       "      <td>0</td>\n",
       "      <td>2015</td>\n",
       "      <td>10</td>\n",
       "      <td>16</td>\n",
       "      <td>4</td>\n",
       "      <td>11</td>\n",
       "      <td>1</td>\n",
       "    </tr>\n",
       "    <tr>\n",
       "      <th>1</th>\n",
       "      <td>0</td>\n",
       "      <td>NA</td>\n",
       "      <td>None</td>\n",
       "      <td>5670</td>\n",
       "      <td>1965</td>\n",
       "      <td>M</td>\n",
       "      <td>White</td>\n",
       "      <td>NA</td>\n",
       "      <td>NA</td>\n",
       "      <td>NA</td>\n",
       "      <td>...</td>\n",
       "      <td>NA</td>\n",
       "      <td>0</td>\n",
       "      <td>NA</td>\n",
       "      <td>0</td>\n",
       "      <td>2015</td>\n",
       "      <td>3</td>\n",
       "      <td>19</td>\n",
       "      <td>3</td>\n",
       "      <td>7</td>\n",
       "      <td>0</td>\n",
       "    </tr>\n",
       "  </tbody>\n",
       "</table>\n",
       "<p>2 rows × 22 columns</p>\n",
       "</div>"
      ],
      "text/plain": [
       "   Target Subject Age Group Weapon Type Officer ID  Officer YOB  \\\n",
       "0       1                NA        None       7500         1984   \n",
       "1       0                NA        None       5670         1965   \n",
       "\n",
       "  Officer Gender Officer Race Subject Perceived Race Subject Perceived Gender  \\\n",
       "0              M        Black                  Asian                     Male   \n",
       "1              M        White                     NA                       NA   \n",
       "\n",
       "  Initial Call Type  ...             Officer Squad Frisk Flag Precinct  \\\n",
       "0                NA  ...  SOUTH PCT 1ST W - ROBERT          0    South   \n",
       "1                NA  ...                        NA          0       NA   \n",
       "\n",
       "   Weapon Flag Reported Year  Reported Month  Day of Month  Day of Week  \\\n",
       "0            0          2015              10            16            4   \n",
       "1            0          2015               3            19            3   \n",
       "\n",
       "   Reported Hour  Beat Flag  \n",
       "0             11          1  \n",
       "1              7          0  \n",
       "\n",
       "[2 rows x 22 columns]"
      ]
     },
     "execution_count": 9,
     "metadata": {},
     "output_type": "execute_result"
    }
   ],
   "source": [
    "df.head(2)"
   ]
  },
  {
   "cell_type": "markdown",
   "id": "f031ab40-2062-4674-b00c-04453cad5cb5",
   "metadata": {},
   "source": [
    "## Excluding Extraneous Features"
   ]
  },
  {
   "cell_type": "code",
   "execution_count": 10,
   "id": "aaebf3c2-5022-4427-860c-3f41398fde9d",
   "metadata": {
    "tags": []
   },
   "outputs": [],
   "source": [
    "# features engineered during eda\n",
    "feature_list = ['Weapon Flag', 'Reported Year', 'Reported Month',\n",
    "                'Day of Month', 'Day of Week', 'Reported Hour', 'Beat Flag']"
   ]
  },
  {
   "cell_type": "code",
   "execution_count": 11,
   "id": "47512aba-00a7-4890-bb5c-dd72df2992af",
   "metadata": {},
   "outputs": [],
   "source": [
    "# excluding Officer ID, 'Final Call Type', Frisk Flag & time features\n",
    "excluded = ['Officer ID','Final Call Type', 'Frisk Flag','Weapon Flag', \n",
    "             'Reported Year', 'Reported Month','Day of Month',\n",
    "             'Day of Week', 'Reported Hour', 'Beat Flag']"
   ]
  },
  {
   "cell_type": "markdown",
   "id": "2df9f4f9-1c71-4e46-878f-1552f67c4e4e",
   "metadata": {},
   "source": [
    "## Baseline Data Frame"
   ]
  },
  {
   "cell_type": "code",
   "execution_count": 12,
   "id": "d13534dd-1c86-4fdb-ba31-f7e0022960d7",
   "metadata": {},
   "outputs": [],
   "source": [
    "baseline_df = f.framer(df, [], excluded)"
   ]
  },
  {
   "cell_type": "code",
   "execution_count": 13,
   "id": "c56efad5-e786-47a8-aff2-9515bf0dc541",
   "metadata": {},
   "outputs": [
    {
     "data": {
      "text/html": [
       "<div>\n",
       "<style scoped>\n",
       "    .dataframe tbody tr th:only-of-type {\n",
       "        vertical-align: middle;\n",
       "    }\n",
       "\n",
       "    .dataframe tbody tr th {\n",
       "        vertical-align: top;\n",
       "    }\n",
       "\n",
       "    .dataframe thead th {\n",
       "        text-align: right;\n",
       "    }\n",
       "</style>\n",
       "<table border=\"1\" class=\"dataframe\">\n",
       "  <thead>\n",
       "    <tr style=\"text-align: right;\">\n",
       "      <th></th>\n",
       "      <th>Target</th>\n",
       "      <th>Subject Age Group</th>\n",
       "      <th>Weapon Type</th>\n",
       "      <th>Officer YOB</th>\n",
       "      <th>Officer Gender</th>\n",
       "      <th>Officer Race</th>\n",
       "      <th>Subject Perceived Race</th>\n",
       "      <th>Subject Perceived Gender</th>\n",
       "      <th>Initial Call Type</th>\n",
       "      <th>Call Type</th>\n",
       "      <th>Officer Squad</th>\n",
       "      <th>Precinct</th>\n",
       "    </tr>\n",
       "  </thead>\n",
       "  <tbody>\n",
       "    <tr>\n",
       "      <th>0</th>\n",
       "      <td>1</td>\n",
       "      <td>NA</td>\n",
       "      <td>None</td>\n",
       "      <td>1984</td>\n",
       "      <td>M</td>\n",
       "      <td>Black</td>\n",
       "      <td>Asian</td>\n",
       "      <td>Male</td>\n",
       "      <td>NA</td>\n",
       "      <td>NA</td>\n",
       "      <td>SOUTH PCT 1ST W - ROBERT</td>\n",
       "      <td>South</td>\n",
       "    </tr>\n",
       "    <tr>\n",
       "      <th>1</th>\n",
       "      <td>0</td>\n",
       "      <td>NA</td>\n",
       "      <td>None</td>\n",
       "      <td>1965</td>\n",
       "      <td>M</td>\n",
       "      <td>White</td>\n",
       "      <td>NA</td>\n",
       "      <td>NA</td>\n",
       "      <td>NA</td>\n",
       "      <td>NA</td>\n",
       "      <td>NA</td>\n",
       "      <td>NA</td>\n",
       "    </tr>\n",
       "  </tbody>\n",
       "</table>\n",
       "</div>"
      ],
      "text/plain": [
       "   Target Subject Age Group Weapon Type  Officer YOB Officer Gender  \\\n",
       "0       1                NA        None         1984              M   \n",
       "1       0                NA        None         1965              M   \n",
       "\n",
       "  Officer Race Subject Perceived Race Subject Perceived Gender  \\\n",
       "0        Black                  Asian                     Male   \n",
       "1        White                     NA                       NA   \n",
       "\n",
       "  Initial Call Type Call Type             Officer Squad Precinct  \n",
       "0                NA        NA  SOUTH PCT 1ST W - ROBERT    South  \n",
       "1                NA        NA                        NA       NA  "
      ]
     },
     "execution_count": 13,
     "metadata": {},
     "output_type": "execute_result"
    }
   ],
   "source": [
    "baseline_df.head(2)"
   ]
  },
  {
   "cell_type": "code",
   "execution_count": 14,
   "id": "873d4681-4bcd-4ec8-bc20-16da0a827f41",
   "metadata": {},
   "outputs": [
    {
     "name": "stdout",
     "output_type": "stream",
     "text": [
      "<class 'pandas.core.frame.DataFrame'>\n",
      "RangeIndex: 46960 entries, 0 to 46959\n",
      "Data columns (total 12 columns):\n",
      " #   Column                    Non-Null Count  Dtype \n",
      "---  ------                    --------------  ----- \n",
      " 0   Target                    46960 non-null  int64 \n",
      " 1   Subject Age Group         46960 non-null  object\n",
      " 2   Weapon Type               46960 non-null  object\n",
      " 3   Officer YOB               46960 non-null  int64 \n",
      " 4   Officer Gender            46960 non-null  object\n",
      " 5   Officer Race              46960 non-null  object\n",
      " 6   Subject Perceived Race    46960 non-null  object\n",
      " 7   Subject Perceived Gender  46960 non-null  object\n",
      " 8   Initial Call Type         46960 non-null  object\n",
      " 9   Call Type                 46960 non-null  object\n",
      " 10  Officer Squad             46960 non-null  object\n",
      " 11  Precinct                  46960 non-null  object\n",
      "dtypes: int64(2), object(10)\n",
      "memory usage: 4.3+ MB\n"
     ]
    }
   ],
   "source": [
    "baseline_df.info()"
   ]
  },
  {
   "cell_type": "markdown",
   "id": "a3d98dee-f86e-4618-bc7a-5539fea1a671",
   "metadata": {},
   "source": [
    "## Creating X, y & Train Test Split"
   ]
  },
  {
   "cell_type": "code",
   "execution_count": 15,
   "id": "2fda8c57-cd87-448d-adb6-53b3296cb609",
   "metadata": {},
   "outputs": [],
   "source": [
    "X, y = f.Xy(baseline_df)"
   ]
  },
  {
   "cell_type": "code",
   "execution_count": 16,
   "id": "af987daf-967a-4f84-9860-2d2ed0879116",
   "metadata": {},
   "outputs": [],
   "source": [
    "X_train, X_test, y_train, y_test = f.splitter(X,y)"
   ]
  },
  {
   "cell_type": "markdown",
   "id": "7e9dfbdd-02ee-44ec-808f-fce7528a37b8",
   "metadata": {},
   "source": [
    "## Baseline Logistic Regression"
   ]
  },
  {
   "cell_type": "markdown",
   "id": "18a6baf7-c511-4963-8555-a2cbcaf4e325",
   "metadata": {},
   "source": [
    "## Creating Pipeline"
   ]
  },
  {
   "cell_type": "code",
   "execution_count": 17,
   "id": "d4df1dfc-bb09-41b3-9769-58e4ef5c1cd7",
   "metadata": {
    "tags": []
   },
   "outputs": [],
   "source": [
    "# adding a random state for a future solver gridsearch \n",
    "LR = LogisticRegression(max_iter=1000, n_jobs=-1, random_state = 2021, verbose=2)"
   ]
  },
  {
   "cell_type": "code",
   "execution_count": 18,
   "id": "7ff4cf42-5fc0-44d5-bbb1-d5df8e211276",
   "metadata": {},
   "outputs": [],
   "source": [
    "baseline = make_pipeline(preprocessing_mm, LR)"
   ]
  },
  {
   "cell_type": "markdown",
   "id": "b5ed4b93-6507-4630-a1af-a9f81c7c29de",
   "metadata": {},
   "source": [
    "## Fitting & Scoring Model"
   ]
  },
  {
   "cell_type": "code",
   "execution_count": 19,
   "id": "57afe0dd-4f0f-42bf-8d74-5f7442754b91",
   "metadata": {},
   "outputs": [
    {
     "name": "stderr",
     "output_type": "stream",
     "text": [
      "[Parallel(n_jobs=-1)]: Using backend LokyBackend with 8 concurrent workers.\n",
      "[Parallel(n_jobs=-1)]: Done   1 out of   1 | elapsed:    2.1s finished\n"
     ]
    },
    {
     "data": {
      "text/plain": [
       "Pipeline(steps=[('columntransformer',\n",
       "                 ColumnTransformer(transformers=[('onehotencoder',\n",
       "                                                  OneHotEncoder(handle_unknown='ignore'),\n",
       "                                                  <sklearn.compose._column_transformer.make_column_selector object at 0x7fa901e7a730>),\n",
       "                                                 ('minmaxscaler',\n",
       "                                                  MinMaxScaler(),\n",
       "                                                  <sklearn.compose._column_transformer.make_column_selector object at 0x7fa901e7a670>)])),\n",
       "                ('logisticregression',\n",
       "                 LogisticRegression(max_iter=1000, n_jobs=-1, random_state=2021,\n",
       "                                    verbose=2))])"
      ]
     },
     "execution_count": 19,
     "metadata": {},
     "output_type": "execute_result"
    }
   ],
   "source": [
    "baseline.fit(X_train, y_train)"
   ]
  },
  {
   "cell_type": "code",
   "execution_count": 20,
   "id": "1de1462e-758e-4cd1-96e0-60cf30d187ed",
   "metadata": {
    "tags": []
   },
   "outputs": [
    {
     "data": {
      "text/plain": [
       "0.884196120994762"
      ]
     },
     "execution_count": 20,
     "metadata": {},
     "output_type": "execute_result"
    }
   ],
   "source": [
    "#scoring the model\n",
    "f1_score(y_train, baseline.predict(X_train))"
   ]
  },
  {
   "cell_type": "markdown",
   "id": "de8b22df-cd3d-47c8-9b06-4137fde33be0",
   "metadata": {},
   "source": [
    "## Cross Val Scores"
   ]
  },
  {
   "cell_type": "code",
   "execution_count": 21,
   "id": "54770e9b-12f5-46dd-abe9-fd4b19039382",
   "metadata": {},
   "outputs": [
    {
     "name": "stderr",
     "output_type": "stream",
     "text": [
      "[Parallel(n_jobs=-1)]: Using backend LokyBackend with 8 concurrent workers.\n",
      "[Parallel(n_jobs=-1)]: Done   1 out of   1 | elapsed:    1.2s finished\n",
      "[Parallel(n_jobs=-1)]: Using backend LokyBackend with 8 concurrent workers.\n",
      "[Parallel(n_jobs=-1)]: Done   1 out of   1 | elapsed:    1.0s finished\n",
      "[Parallel(n_jobs=-1)]: Using backend LokyBackend with 8 concurrent workers.\n",
      "[Parallel(n_jobs=-1)]: Done   1 out of   1 | elapsed:    1.1s finished\n",
      "[Parallel(n_jobs=-1)]: Using backend LokyBackend with 8 concurrent workers.\n",
      "[Parallel(n_jobs=-1)]: Done   1 out of   1 | elapsed:    1.1s finished\n",
      "[Parallel(n_jobs=-1)]: Using backend LokyBackend with 8 concurrent workers.\n"
     ]
    },
    {
     "name": "stdout",
     "output_type": "stream",
     "text": [
      "LR Baseline has an average F1 of 0.8810525054191466\n"
     ]
    },
    {
     "name": "stderr",
     "output_type": "stream",
     "text": [
      "[Parallel(n_jobs=-1)]: Done   1 out of   1 | elapsed:    0.7s finished\n"
     ]
    },
    {
     "data": {
      "text/plain": [
       "array([0.88269208, 0.88256816, 0.88164422, 0.88122696, 0.8771311 ])"
      ]
     },
     "execution_count": 21,
     "metadata": {},
     "output_type": "execute_result"
    }
   ],
   "source": [
    "# checking cross val scores\n",
    "modeling.report(baseline, X_train, y_train, 'LR Baseline', 'Log Reg, min/max')"
   ]
  },
  {
   "cell_type": "markdown",
   "id": "74b336b6-49dd-4026-8714-602c832e9854",
   "metadata": {},
   "source": [
    "## Sub-Splitting the Training Data"
   ]
  },
  {
   "cell_type": "code",
   "execution_count": 22,
   "id": "4f961509-c8f3-42f1-b0df-6a2c7a9c4747",
   "metadata": {},
   "outputs": [
    {
     "name": "stderr",
     "output_type": "stream",
     "text": [
      "[Parallel(n_jobs=-1)]: Using backend LokyBackend with 8 concurrent workers.\n",
      "[Parallel(n_jobs=-1)]: Done   1 out of   1 | elapsed:    0.6s finished\n"
     ]
    },
    {
     "data": {
      "image/png": "[encoded data removed]",
      "text/plain": [
       "<Figure size 504x504 with 2 Axes>"
      ]
     },
     "metadata": {},
     "output_type": "display_data"
    },
    {
     "data": {
      "text/html": [
       "<div>\n",
       "<style scoped>\n",
       "    .dataframe tbody tr th:only-of-type {\n",
       "        vertical-align: middle;\n",
       "    }\n",
       "\n",
       "    .dataframe tbody tr th {\n",
       "        vertical-align: top;\n",
       "    }\n",
       "\n",
       "    .dataframe thead th {\n",
       "        text-align: right;\n",
       "    }\n",
       "</style>\n",
       "<table border=\"1\" class=\"dataframe\">\n",
       "  <thead>\n",
       "    <tr style=\"text-align: right;\">\n",
       "      <th></th>\n",
       "      <th>Train F1</th>\n",
       "      <th>Test F1</th>\n",
       "    </tr>\n",
       "  </thead>\n",
       "  <tbody>\n",
       "    <tr>\n",
       "      <th>0</th>\n",
       "      <td>0.885469</td>\n",
       "      <td>0.87456</td>\n",
       "    </tr>\n",
       "  </tbody>\n",
       "</table>\n",
       "</div>"
      ],
      "text/plain": [
       "   Train F1  Test F1\n",
       "0  0.885469  0.87456"
      ]
     },
     "execution_count": 22,
     "metadata": {},
     "output_type": "execute_result"
    }
   ],
   "source": [
    "f.subsplit_test(X_train, y_train, baseline)"
   ]
  },
  {
   "cell_type": "markdown",
   "id": "b7e15417-f14d-4897-880a-cb8472fddf55",
   "metadata": {},
   "source": [
    "## Baseline Score: F1 = 0.87456"
   ]
  },
  {
   "cell_type": "markdown",
   "id": "9bf4d899-1039-4068-9f14-9c5c95bfc909",
   "metadata": {},
   "source": [
    "## Baseline Coefficients & Odds"
   ]
  },
  {
   "cell_type": "code",
   "execution_count": 34,
   "id": "798cb5ca-5600-4708-8ba4-cc43f2b856de",
   "metadata": {},
   "outputs": [],
   "source": [
    "coeff = baseline[1].coef_.flatten()"
   ]
  },
  {
   "cell_type": "code",
   "execution_count": 35,
   "id": "0c1b9b37-a0dd-45f4-8f3a-1d85bf1cae7b",
   "metadata": {},
   "outputs": [],
   "source": [
    "features = list(baseline[0].transformers_[0][1].get_feature_names()) +\\\n",
    "                list(X_train.select_dtypes('number').columns)"
   ]
  },
  {
   "cell_type": "code",
   "execution_count": 36,
   "id": "58a97b76-7618-4e3a-b161-ed70b78aaf9f",
   "metadata": {},
   "outputs": [],
   "source": [
    "coefficients = pd.DataFrame(coeff, features, columns=['coef'])\\\n",
    "                            .sort_values(by='coef', ascending=False)"
   ]
  },
  {
   "cell_type": "code",
   "execution_count": 38,
   "id": "0fa63b4f-93d3-4c44-9d62-019b139cac0c",
   "metadata": {},
   "outputs": [],
   "source": [
    "top20_pos_coef = coefficients.head(20)"
   ]
  },
  {
   "cell_type": "code",
   "execution_count": 39,
   "id": "2c23918a-770b-48bb-96f5-d998763308a8",
   "metadata": {},
   "outputs": [
    {
     "data": {
      "image/png": "[encoded data removed]",
      "text/plain": [
       "<Figure size 1080x504 with 1 Axes>"
      ]
     },
     "metadata": {},
     "output_type": "display_data"
    }
   ],
   "source": [
    "top20_pos_coef.plot(kind='bar', figsize=(15,7), color=['skyblue'])\n",
    "plt.title('Top 20 Positive Coefficients')                                                 \n",
    "plt.xlabel('Feature Name')\n",
    "plt.xticks(rotation=90)\n",
    "plt.legend(title='Coefficient', labels=['Value'])\n",
    "plt.show()"
   ]
  },
  {
   "cell_type": "code",
   "execution_count": 40,
   "id": "0091ca87-ce68-4ac7-b3df-9732757ed72e",
   "metadata": {},
   "outputs": [],
   "source": [
    "top20_neg_coef = coefficients.tail(20)"
   ]
  },
  {
   "cell_type": "code",
   "execution_count": 41,
   "id": "b0a67942-50de-4abc-8455-15df54466a4a",
   "metadata": {},
   "outputs": [
    {
     "data": {
      "image/png": "[encoded data removed]",
      "text/plain": [
       "<Figure size 1080x504 with 1 Axes>"
      ]
     },
     "metadata": {},
     "output_type": "display_data"
    }
   ],
   "source": [
    "top20_neg_coef.plot(kind='bar', figsize=(15,7), color=['skyblue'])\n",
    "plt.title('Top 20 Negative Coefficients')                                                 \n",
    "plt.xlabel('Feature Name')\n",
    "plt.xticks(rotation=90)\n",
    "plt.legend(title='Coefficient', labels=['Value'])\n",
    "plt.show()"
   ]
  },
  {
   "cell_type": "code",
   "execution_count": 42,
   "id": "bd7c1202-e5fd-4ac4-bb2b-88c9301b59d2",
   "metadata": {},
   "outputs": [],
   "source": [
    "odds = np.exp(coeff)\n",
    "odds_df = pd.DataFrame(odds, \n",
    "             features, \n",
    "             columns=['odds'])\\\n",
    "            .sort_values(by='odds', ascending=False)"
   ]
  },
  {
   "cell_type": "code",
   "execution_count": 43,
   "id": "9796392a-9042-42b9-92a8-a43f22aa0e8f",
   "metadata": {},
   "outputs": [],
   "source": [
    "top20_pos_odds = odds_df.head(20).reset_index()"
   ]
  },
  {
   "cell_type": "code",
   "execution_count": 50,
   "id": "f7c2b0b5-b4e0-4a7d-8b9a-56a65665f8d7",
   "metadata": {},
   "outputs": [
    {
     "data": {
      "image/png": "[encoded data removed]",
      "text/plain": [
       "<Figure size 1440x576 with 1 Axes>"
      ]
     },
     "metadata": {},
     "output_type": "display_data"
    }
   ],
   "source": [
    "fig, ax = plt.subplots(figsize =(20, 8))\n",
    "sns.barplot(x='index',y='odds', data=top20_pos_odds, palette='Blues_r', edgecolor='deepskyblue')\n",
    "plt.title('Relative Odds For The Top 20 Positive Features')                                                 \n",
    "plt.xlabel('')\n",
    "plt.ylabel('')\n",
    "plt.xticks(rotation=90)\n",
    "plt.legend(title='Odds That A Major Outcome Is More Likely', labels=['Multiple'])\n",
    "# plt.savefig('Baseline_Positive',  bbox_inches =\"tight\",\\\n",
    "#             pad_inches = .25, transparent = False)\n",
    "plt.show()"
   ]
  },
  {
   "cell_type": "code",
   "execution_count": 45,
   "id": "861cdeb9-b313-4016-881c-92f62401b355",
   "metadata": {},
   "outputs": [],
   "source": [
    "top20_neg_odds = odds_df.tail(20).reset_index()"
   ]
  },
  {
   "cell_type": "code",
   "execution_count": 46,
   "id": "a1c66f64-7675-47c4-9a4a-26de0b65d4ee",
   "metadata": {},
   "outputs": [],
   "source": [
    "top20_neg_odds['odds'] = 1/top20_neg_odds['odds']"
   ]
  },
  {
   "cell_type": "code",
   "execution_count": 51,
   "id": "4d22f250-6c43-4c76-b45c-aefce9aa12b0",
   "metadata": {},
   "outputs": [
    {
     "data": {
      "image/png": "[encoded data removed]",
      "text/plain": [
       "<Figure size 1440x576 with 1 Axes>"
      ]
     },
     "metadata": {},
     "output_type": "display_data"
    }
   ],
   "source": [
    "fig, ax = plt.subplots(figsize =(20, 8))\n",
    "sns.barplot(x='index',y='odds', data=top20_neg_odds, palette='Blues', edgecolor='deepskyblue')\n",
    "plt.title('Relative Odds For Top 20 Negative Features')                                                 \n",
    "plt.xlabel('')\n",
    "plt.xticks(rotation=90)\n",
    "plt.legend(title='Odds That A Minor Outcome Is More Likely', labels=['Multiple'])\n",
    "# plt.savefig('Baseline_Negative',  bbox_inches =\"tight\",\\\n",
    "#             pad_inches = .25, transparent = False)\n",
    "plt.show()"
   ]
  },
  {
   "cell_type": "code",
   "execution_count": 49,
   "id": "0ec65121-6d8c-4861-b54b-c59aab6c8972",
   "metadata": {},
   "outputs": [
    {
     "data": {
      "text/plain": [
       "Index(['Target', 'Subject Age Group', 'Weapon Type', 'Officer YOB',\n",
       "       'Officer Gender', 'Officer Race', 'Subject Perceived Race',\n",
       "       'Subject Perceived Gender', 'Initial Call Type', 'Call Type',\n",
       "       'Officer Squad', 'Precinct'],\n",
       "      dtype='object')"
      ]
     },
     "execution_count": 49,
     "metadata": {},
     "output_type": "execute_result"
    }
   ],
   "source": [
    "baseline_df.columns"
   ]
  },
  {
   "cell_type": "code",
   "execution_count": 48,
   "id": "9ad50d89-efd9-43d2-b207-854bcdb8c786",
   "metadata": {},
   "outputs": [
    {
     "data": {
      "text/plain": [
       "['x0_1 - 17',\n",
       " 'x0_18 - 25',\n",
       " 'x0_26 - 35',\n",
       " 'x0_36 - 45',\n",
       " 'x0_46 - 55',\n",
       " 'x0_56 and Above',\n",
       " 'x0_NA',\n",
       " 'x1_Automatic Handgun',\n",
       " 'x1_Blackjack',\n",
       " 'x1_Blunt Object/Striking Implement',\n",
       " 'x1_Brass Knuckles',\n",
       " 'x1_Club',\n",
       " 'x1_Club, Blackjack, Brass Knuckles',\n",
       " 'x1_Fire/Incendiary Device',\n",
       " 'x1_Firearm',\n",
       " 'x1_Firearm (unk type)',\n",
       " 'x1_Firearm Other',\n",
       " 'x1_Handgun',\n",
       " 'x1_Knife/Cutting/Stabbing Instrument',\n",
       " 'x1_Lethal Cutting Instrument',\n",
       " 'x1_Mace/Pepper Spray',\n",
       " 'x1_NA',\n",
       " 'x1_None',\n",
       " 'x1_None/Not Applicable',\n",
       " 'x1_Other Firearm',\n",
       " 'x1_Personal Weapons (hands, feet, etc.)',\n",
       " 'x1_Rifle',\n",
       " 'x1_Shotgun',\n",
       " 'x1_Taser/Stun Gun',\n",
       " 'x2_F',\n",
       " 'x2_M',\n",
       " 'x2_N',\n",
       " 'x3_Asian',\n",
       " 'x3_Black',\n",
       " 'x3_Hispanic',\n",
       " 'x3_Multi-Racial',\n",
       " 'x3_NA',\n",
       " 'x3_N_American',\n",
       " 'x3_P_Islander',\n",
       " 'x3_Unknown',\n",
       " 'x3_White',\n",
       " 'x4_Asian',\n",
       " 'x4_Black',\n",
       " 'x4_Hispanic',\n",
       " 'x4_Multi-Racial',\n",
       " 'x4_NA',\n",
       " 'x4_N_American',\n",
       " 'x4_Other',\n",
       " 'x4_P_Islander',\n",
       " 'x4_Unknown',\n",
       " 'x4_White',\n",
       " 'x5_Female',\n",
       " 'x5_Gender Diverse',\n",
       " 'x5_Male',\n",
       " 'x5_NA',\n",
       " 'x5_Undetermined',\n",
       " 'x5_Unknown',\n",
       " 'x6_-ASSIGNED DUTY - FOOT BEAT (FROM ASSIGNED CAR)',\n",
       " 'x6_-ASSIGNED DUTY - STAKEOUT',\n",
       " 'x6_ALARM - AUDIBLE AUTOMOBILE (UNOCC/ANTI-THEFT)',\n",
       " 'x6_ALARM - BANK (HOLD-UP)',\n",
       " 'x6_ALARM - COMM, HOLD-UP/PANIC (EXCEPT BANKS)',\n",
       " 'x6_ALARM - COMM, SILENT/AUD BURG (INCL BANKS)',\n",
       " 'x6_ALARM - RESIDENTIAL - BURGLARY, SILENT/AUDIBLE',\n",
       " 'x6_ALARM - RESIDENTIAL - SILENT/AUD PANIC/DURESS',\n",
       " 'x6_ANIMAL - INJURED, DEAD HAZARD, OTHER',\n",
       " 'x6_ANIMAL - IP/JO - BITE',\n",
       " 'x6_ANIMAL, REPORT - BITE',\n",
       " 'x6_ARSON - IP/JO',\n",
       " 'x6_ARSON - REPORT',\n",
       " 'x6_ASLT - DV',\n",
       " 'x6_ASLT - IP/JO - DV',\n",
       " 'x6_ASLT - IP/JO - PERSON SHOT OR SHOT AT',\n",
       " 'x6_ASLT - IP/JO - WITH OR W/O WPNS (NO SHOOTINGS)',\n",
       " 'x6_ASLT - MOLESTED ADULT (GROPED, FONDLED, ETC.)',\n",
       " 'x6_ASLT - PERSON SHOT OR SHOT AT',\n",
       " 'x6_ASLT - WITH OR W/O WEAPONS (NO SHOOTINGS)',\n",
       " 'x6_ASSIST OTHER AGENCY - EMERGENCY SERVICE',\n",
       " 'x6_ASSIST OTHER AGENCY - ROUTINE SERVICE',\n",
       " 'x6_ASSIST PUBLIC - NO WELFARE CHK OR DV ORDER SERVICE',\n",
       " 'x6_ASSIST SPD - ROUTINE SERVICE',\n",
       " 'x6_ASSIST SPD - URGENT SERVICE',\n",
       " 'x6_AUTO - THEFT/LOSS, PLATES AND/OR TAB',\n",
       " 'x6_AUTO RECOVERY',\n",
       " 'x6_AUTO THEFT - VEH THEFT OR THEFT & RECOVERY',\n",
       " 'x6_AUTO THEFT-IP/JO - VEHICLE, PLATES, TABS',\n",
       " 'x6_BIAS -RACIAL, POLITICAL, SEXUAL MOTIVATION',\n",
       " 'x6_BOMB THREATS - IP/JO',\n",
       " 'x6_BURG - COMM BURGLARY (INCLUDES SCHOOLS)',\n",
       " 'x6_BURG - IP/JO - COMM BURG (INCLUDES SCHOOLS)',\n",
       " 'x6_BURG - IP/JO - RES (INCL UNOCC STRUCTURES)',\n",
       " 'x6_BURG - RES (INCL UNOCC STRUCTURES ON PROP)',\n",
       " 'x6_BURN - RECKLESS BURNING',\n",
       " 'x6_CARJACKING - IP/JO - ROBBERY',\n",
       " 'x6_CARJACKING - ROBBERY',\n",
       " 'x6_CHILD -  LURING',\n",
       " 'x6_CHILD - ABAND, ABUSED, MOLESTED, NEGLECTED',\n",
       " 'x6_CHILD - IP/JO - ABAND, ABUSE, MOLEST, NEGLECT',\n",
       " 'x6_CHILD - IP/JO - LURING',\n",
       " 'x6_DEMONSTRATIONS',\n",
       " 'x6_DIRECTED PATROL ACTIVITY',\n",
       " 'x6_DIST - DV - NO ASLT',\n",
       " 'x6_DIST - IP/JO - DV DIST - NO ASLT',\n",
       " 'x6_DISTURBANCE, MISCELLANEOUS/OTHER',\n",
       " 'x6_DOA - CASUALTY, DEAD BODY',\n",
       " 'x6_DOWN - CHECK FOR DOWN PERSON',\n",
       " 'x6_DOWN - CHECK FOR PERSON DOWN',\n",
       " 'x6_DUI - DRIVING UNDER INFLUENCE',\n",
       " 'x6_ESCAPE - PRISONER',\n",
       " 'x6_EXPLOSION - IP/JO',\n",
       " 'x6_FIGHT - IP - PHYSICAL (NO WEAPONS)',\n",
       " 'x6_FIGHT - IP/JO - WITH WEAPONS',\n",
       " 'x6_FIGHT - JO - PHYSICAL (NO WEAPONS)',\n",
       " 'x6_FIGHT - VERBAL/ORAL (NO WEAPONS)',\n",
       " 'x6_FIGHT - WITH WEAPONS',\n",
       " 'x6_FIREWORKS - NUISANCE (NO HAZARD)',\n",
       " 'x6_FOLLOW UP',\n",
       " 'x6_FOOT - ELUDING POLICE',\n",
       " 'x6_FOUND - PERSON',\n",
       " 'x6_FRAUD - FORGERY,BUNCO, SCAMS, ID THEFT, ETC',\n",
       " 'x6_GAMBLING',\n",
       " 'x6_HARAS - NO BIAS, THREATS OR MALICIOUSNESS',\n",
       " 'x6_HARBOR - WATER EMERGENCIES',\n",
       " 'x6_HAZ - IMMINENT THRT TO PHYS SAFETY (NO HAZ MAT)',\n",
       " 'x6_HAZ - POTENTIAL THRT TO PHYS SAFETY (NO HAZMAT)',\n",
       " 'x6_HELP THE OFFICER',\n",
       " 'x6_ILLEGAL DUMPING',\n",
       " 'x6_INJURED -  PERSON/INDUSTRIAL ACCIDENT',\n",
       " 'x6_INJURED - IP/JO - PERSON/INDUSTRIAL ACCIDENT',\n",
       " 'x6_JUVENILE - RUNAWAY',\n",
       " 'x6_JUVENILE - RUNAWAY PICKUP',\n",
       " 'x6_LEWD -  (EXPOSING, FLASHING)',\n",
       " 'x6_LIQUOR VIOLATIONS - ADULT',\n",
       " 'x6_LIQUOR VIOLATIONS - MINOR',\n",
       " 'x6_LITTERING',\n",
       " 'x6_MISSING - (ALZHEIMER, ENDANGERED, ELDERLY)',\n",
       " 'x6_MISSING - ADULT',\n",
       " 'x6_MISSING - CHILD',\n",
       " 'x6_MVC - HIT AND RUN (NON INJURY), INCLUDES IP/JO',\n",
       " 'x6_MVC - NON INJURY, BLOCKING',\n",
       " 'x6_MVC - REPORT, NON INJ/NON BLKG OR AFTER FACT INJ',\n",
       " 'x6_MVC - UNK INJURIES',\n",
       " 'x6_MVC - WITH INJURIES (INCLUDES HIT AND RUN)',\n",
       " 'x6_NA',\n",
       " 'x6_NARCOTICS - FOUND',\n",
       " 'x6_NARCOTICS - VIOLATIONS (LOITER, USE, SELL, NARS)',\n",
       " 'x6_NARCOTICS WARRANT SERVICE',\n",
       " 'x6_NARCOTICS WARRANT SERVICE - EXECUTED, SECURED',\n",
       " 'x6_NOISE - DIST, GENERAL (CONST, RESID, BALL PLAY)',\n",
       " 'x6_NOISE - DISTURBANCE (PARTY, ETC)',\n",
       " 'x6_NUISANCE - MISCHIEF',\n",
       " 'x6_OFF DUTY EMPLOYMENT',\n",
       " 'x6_OPEN - BUILDING, DOOR, ETC.',\n",
       " 'x6_ORDER  - SERVICE OF DV COURT ORDER',\n",
       " 'x6_ORDER - ASSIST DV VIC W/SRVC OF COURT ORDER',\n",
       " 'x6_ORDER - IP - VIOLATION OF DV COURT ORDER',\n",
       " 'x6_ORDER - VIOLATING DV COURT ORDER',\n",
       " 'x6_ORDER - VIOLATION OF COURT ORDER (NON DV)',\n",
       " 'x6_OVERDOSE - DRUG RELATED CASUALTY',\n",
       " 'x6_PANHANDLING, AGGRESSIVE',\n",
       " 'x6_PARKING VIOLATION (EXCEPT ABANDONED CAR)',\n",
       " 'x6_PARKS VIOLATIONS/CITES (INCLUDES EXCLUSIONS)',\n",
       " 'x6_PEACE-STANDBY TO ASSURE (NO COURT ORDR SVC)',\n",
       " 'x6_PEDESTRIAN VIOLATIONS',\n",
       " 'x6_PERSON IN BEHAVIORAL/EMOTIONAL CRISIS',\n",
       " 'x6_PHONE - OBSCENE OR NUISANCE PHONE CALLS',\n",
       " 'x6_PREMISE CHECK, OFFICER INITIATED ONVIEW ONLY',\n",
       " 'x6_PROPERTY - DAMAGE',\n",
       " 'x6_PROPERTY - DAMAGE (GUN RELATED)',\n",
       " 'x6_PROPERTY - FOUND',\n",
       " 'x6_PROWLER',\n",
       " 'x6_PROWLER - IP/JO',\n",
       " 'x6_PURSE SNATCH - IP/JO - ROBBERY',\n",
       " 'x6_PURSE SNATCH - ROBBERY',\n",
       " 'x6_RAPE',\n",
       " 'x6_RAPE - IP/JO',\n",
       " 'x6_REQUEST TO WATCH',\n",
       " 'x6_ROBBERY (INCLUDES STRONG ARM)',\n",
       " 'x6_ROBBERY - IP/JO (INCLUDES STRONG ARM)',\n",
       " 'x6_SERVICE - WELFARE CHECK',\n",
       " 'x6_SEX IN PUBLIC PLACE/VIEW (INCL MASTURBATION)',\n",
       " 'x6_SFD - ASSIST ON FIRE OR MEDIC RESPONSE',\n",
       " 'x6_SHOPLIFT - THEFT',\n",
       " 'x6_SHOTS - IP/JO - INCLUDES HEARD/NO ASSAULT',\n",
       " 'x6_SHOTS -DELAY/INCLUDES HEARD/NO ASSAULT',\n",
       " 'x6_SICK PERSON',\n",
       " 'x6_SLEEPER ABOARD BUS/COMMUTER TRAIN',\n",
       " 'x6_SUICIDE - IP/JO SUICIDAL PERSON AND ATTEMPTS',\n",
       " 'x6_SUICIDE, SUICIDAL PERSON AND ATTEMPTS',\n",
       " 'x6_SUSPICIOUS PACKAGE',\n",
       " 'x6_SUSPICIOUS PERSON, VEHICLE OR INCIDENT',\n",
       " 'x6_SUSPICIOUS STOP - OFFICER INITIATED ONVIEW',\n",
       " 'x6_THEFT (DOES NOT INCLUDE SHOPLIFT OR SVCS)',\n",
       " 'x6_THEFT OF SERVICES',\n",
       " 'x6_THREATS (INCLS IN-PERSON/BY PHONE/IN WRITING)',\n",
       " 'x6_THREATS - DV - NO ASSAULT',\n",
       " 'x6_TRACKING ALARM',\n",
       " 'x6_TRAF - ELUDING POLICE',\n",
       " 'x6_TRAFFIC - ASSIST MOTORIST',\n",
       " 'x6_TRAFFIC - BLOCKING ROADWAY',\n",
       " 'x6_TRAFFIC - MOVING VIOLATION',\n",
       " 'x6_TRAFFIC - ROAD RAGE',\n",
       " 'x6_TRAFFIC STOP - OFFICER INITIATED ONVIEW',\n",
       " 'x6_TRESPASS',\n",
       " 'x6_TRU - THEFT',\n",
       " 'x6_UNDERCOVER OPS, CAUTION (INCLUDES STAKEOUTS)',\n",
       " 'x6_UNKNOWN - ANI/ALI - LANDLINE (INCLUDES OPEN LINE)',\n",
       " 'x6_UNKNOWN - ANI/ALI - WRLS PHNS (INCL OPEN LINE)',\n",
       " 'x6_UNKNOWN - COMPLAINT OF UNKNOWN NATURE',\n",
       " 'x6_VICE - PORNOGRAPHY',\n",
       " 'x6_VICE - PROSTITUTION',\n",
       " 'x6_WARRANT - FELONY PICKUP',\n",
       " 'x6_WARRANT - MISD WARRANT PICKUP',\n",
       " 'x6_WARRANT - SEARCH. CAUTION (EXCL NARCOTICS)',\n",
       " 'x6_WARRANT - SEARCH. EXECUTED, SECURED',\n",
       " 'x6_WARRANT PICKUP - FROM OTHER AGENCY',\n",
       " 'x6_WEAPN - GUN,DEADLY WPN (NO THRTS/ASLT/DIST)',\n",
       " 'x6_WEAPN-IP/JO-GUN,DEADLY WPN (NO THRT/ASLT/DIST)',\n",
       " 'x7_911',\n",
       " 'x7_ALARM CALL (NOT POLICE ALARM)',\n",
       " 'x7_NA',\n",
       " 'x7_ONVIEW',\n",
       " 'x7_TELEPHONE OTHER, NOT 911',\n",
       " 'x7_TEXT MESSAGE',\n",
       " 'x8_AUTO THEFT',\n",
       " 'x8_BURG/THEFT/JUV - EAST',\n",
       " 'x8_BURG/THEFT/JUV - NORTH',\n",
       " 'x8_BURG/THEFT/JUV - SOUTH',\n",
       " 'x8_BURG/THEFT/JUV - WEST',\n",
       " 'x8_CANINE - NIGHT SQUAD',\n",
       " 'x8_CANINE - SQUAD A',\n",
       " 'x8_CANINE - SQUAD C',\n",
       " 'x8_CCI - MAJOR CRIMES TASK FORCE',\n",
       " 'x8_COMMUNITY OUTREACH - YOUTH VIOLENCE -SCHOOLS DETAIL',\n",
       " 'x8_COMMUNITY OUTREACH - YOUTH VIOLENCE-SCHOOLS DETAIL',\n",
       " 'x8_COMMUNITY OUTREACH UNIT',\n",
       " 'x8_CRG - SQUAD 81A',\n",
       " 'x8_CRG - SQUAD 81B',\n",
       " 'x8_CRG - SQUAD 81C',\n",
       " 'x8_CRG - SQUAD 81D',\n",
       " 'x8_CRG - SQUAD 81E',\n",
       " 'x8_CRG - SQUAD 82A',\n",
       " 'x8_CRG - SQUAD 82B',\n",
       " 'x8_CRG - SQUAD 82C',\n",
       " 'x8_CRG - SQUAD 82D',\n",
       " 'x8_CRG - SQUAD 82E',\n",
       " 'x8_CRISIS INTERVENTION COORDINATION SQUAD',\n",
       " 'x8_CRISIS RESPONSE SQUAD',\n",
       " 'x8_DV SQUAD A - INVESTIGATIONS',\n",
       " 'x8_DV SQUAD C - ELDER ABUSE',\n",
       " 'x8_DV SQUAD D - ORDER SERVICE',\n",
       " 'x8_EAST PCT 1ST W - E/G RELIEF (CHARLIE)',\n",
       " 'x8_EAST PCT 1ST W - EDWARD (CHARLIE)',\n",
       " 'x8_EAST PCT 1ST W - GEORGE (CHARLIE)',\n",
       " 'x8_EAST PCT 2ND W - BEATS',\n",
       " 'x8_EAST PCT 2ND W - CHARLIE',\n",
       " 'x8_EAST PCT 2ND W - CHARLIE RELIEF',\n",
       " 'x8_EAST PCT 2ND W - E/G RELIEF',\n",
       " 'x8_EAST PCT 2ND W - EDWARD',\n",
       " 'x8_EAST PCT 2ND W - GEORGE',\n",
       " 'x8_EAST PCT 3RD W - CHARLIE',\n",
       " 'x8_EAST PCT 3RD W - E/G RELIEF',\n",
       " 'x8_EAST PCT 3RD W - EAST BEATS',\n",
       " 'x8_EAST PCT 3RD W - EDWARD',\n",
       " 'x8_EAST PCT 3RD W - GEORGE',\n",
       " 'x8_EAST PCT 3RD WATCH - CHARLIE RELIEF',\n",
       " 'x8_EAST PCT OPS - BURG/THEFT',\n",
       " 'x8_EAST PCT OPS - CPT',\n",
       " 'x8_EAST PCT OPS - NIGHT ACT',\n",
       " 'x8_GANG SQUAD A',\n",
       " 'x8_GANG SQUAD B',\n",
       " 'x8_GANG SQUAD C',\n",
       " 'x8_HARBOR - SQUAD A',\n",
       " 'x8_HARBOR - SQUAD D',\n",
       " 'x8_HR - DEPARTMENT UNAVAILABLE PERSONNEL',\n",
       " 'x8_HR - HUMAN RESOURCES  - DEPT UNAVAIL PERSONNEL',\n",
       " 'x8_JOINT ENFORCEMENT TEAM',\n",
       " 'x8_JOINT ENFORCEMENT TEAM (JET)',\n",
       " 'x8_MAJOR CRIMES TASK FORCE',\n",
       " 'x8_NA',\n",
       " 'x8_NARC - PROACTIVE SQUAD C',\n",
       " 'x8_NAVIGATION TEAM - SQUAD A',\n",
       " 'x8_NAVIGATION TEAM - SQUAD B',\n",
       " 'x8_NORTH PCT 1ST W - B/N RELIEF (JOHN)',\n",
       " 'x8_NORTH PCT 1ST W - BOY (JOHN)',\n",
       " 'x8_NORTH PCT 1ST W - L/U RELIEF',\n",
       " 'x8_NORTH PCT 1ST W - LINCOLN',\n",
       " 'x8_NORTH PCT 1ST W - NORA (JOHN)',\n",
       " 'x8_NORTH PCT 1ST W - UNION',\n",
       " 'x8_NORTH PCT 2ND W - BOY',\n",
       " 'x8_NORTH PCT 2ND W - JOHN',\n",
       " 'x8_NORTH PCT 2ND W - JOHN RELIEF',\n",
       " 'x8_NORTH PCT 2ND W - L/U RELIEF',\n",
       " 'x8_NORTH PCT 2ND W - LINCOLN',\n",
       " 'x8_NORTH PCT 2ND W - NORA',\n",
       " 'x8_NORTH PCT 2ND W - UNION',\n",
       " 'x8_NORTH PCT 2ND WATCH - B/N RELIEF',\n",
       " 'x8_NORTH PCT 2ND WATCH - NORTH BEATS',\n",
       " 'x8_NORTH PCT 3RD W - B/N RELIEF',\n",
       " 'x8_NORTH PCT 3RD W - BOY',\n",
       " 'x8_NORTH PCT 3RD W - JOHN',\n",
       " 'x8_NORTH PCT 3RD W - JOHN RELIEF',\n",
       " 'x8_NORTH PCT 3RD W - L/U RELIEF',\n",
       " 'x8_NORTH PCT 3RD W - LINCOLN',\n",
       " 'x8_NORTH PCT 3RD W - NORA',\n",
       " 'x8_NORTH PCT 3RD W - UNION',\n",
       " 'x8_NORTH PCT OPS - ACT DAY',\n",
       " 'x8_NORTH PCT OPS - CPT',\n",
       " 'x8_OPS BUREAU - SPECIAL ASSIGNMENTS',\n",
       " 'x8_PAWN DETAIL',\n",
       " 'x8_PUBLIC AFFAIRS SQUAD',\n",
       " 'x8_RECORDS - DAY SHIFT',\n",
       " 'x8_ROBBERY SQUAD A',\n",
       " 'x8_ROBBERY SQUAD B',\n",
       " 'x8_SAU SQUAD A',\n",
       " 'x8_SAU SQUAD B',\n",
       " 'x8_SOUTH PCT 1ST W - OCEAN',\n",
       " 'x8_SOUTH PCT 1ST W - R/S RELIEF',\n",
       " 'x8_SOUTH PCT 1ST W - ROBERT',\n",
       " 'x8_SOUTH PCT 1ST W - SAM',\n",
       " 'x8_SOUTH PCT 2ND W - OCEAN',\n",
       " 'x8_SOUTH PCT 2ND W - OCEAN RELIEF',\n",
       " 'x8_SOUTH PCT 2ND W - R/S RELIEF',\n",
       " 'x8_SOUTH PCT 2ND W - ROBERT',\n",
       " 'x8_SOUTH PCT 2ND W - SAM',\n",
       " 'x8_SOUTH PCT 2ND W - SAM BEATS',\n",
       " 'x8_SOUTH PCT 3RD W - OCEAN',\n",
       " 'x8_SOUTH PCT 3RD W - OCEAN RELIEF',\n",
       " 'x8_SOUTH PCT 3RD W - R/S RELIEF',\n",
       " 'x8_SOUTH PCT 3RD W - ROBERT',\n",
       " 'x8_SOUTH PCT 3RD W - SAM',\n",
       " 'x8_SOUTH PCT OPS - BURG/THEFT',\n",
       " 'x8_SOUTH PCT OPS - CPT',\n",
       " 'x8_SOUTH PCT OPS - DAY ACT',\n",
       " 'x8_SOUTH PCT OPS - NIGHT ACT',\n",
       " 'x8_SOUTHWEST PCT - 1ST WATCH - F/W RELIEF',\n",
       " 'x8_SOUTHWEST PCT - 3RD WATCH - F/W RELIEF',\n",
       " 'x8_SOUTHWEST PCT 1ST W - FRANK',\n",
       " 'x8_SOUTHWEST PCT 1ST W - WILLIAM',\n",
       " 'x8_SOUTHWEST PCT 2ND W - FRANK',\n",
       " 'x8_SOUTHWEST PCT 2ND W - SOUTHWEST BEATS',\n",
       " 'x8_SOUTHWEST PCT 2ND W - WILLIAM',\n",
       " 'x8_SOUTHWEST PCT 2ND WATCH - F/W RELIEF',\n",
       " 'x8_SOUTHWEST PCT 3RD W - FRANK',\n",
       " 'x8_SOUTHWEST PCT 3RD W - WILLIAM',\n",
       " 'x8_SOUTHWEST PCT OPS - CPT',\n",
       " 'x8_SOUTHWEST PCT OPS - DAY ACT',\n",
       " 'x8_SOUTHWEST PCT OPS - NIGHT ACT',\n",
       " 'x8_SWAT - DAY SQUAD 1',\n",
       " 'x8_SWAT - DAY SQUAD 2',\n",
       " 'x8_SWAT - NIGHT SQUAD 1',\n",
       " 'x8_SWAT - NIGHT SQUAD 2',\n",
       " 'x8_TRAF - AM ENFORCEMENT',\n",
       " 'x8_TRAF - COLLISION INVESTIGATION',\n",
       " 'x8_TRAF - DUI SQUAD',\n",
       " 'x8_TRAF - MOTORCYCLE UNIT - T2 SQUAD',\n",
       " 'x8_TRAF - MOTORCYCLE UNIT - T4 SQUAD',\n",
       " 'x8_TRAF - PM ENFORCEMENT',\n",
       " 'x8_TRAINING - ADVANCED - SQUAD C',\n",
       " 'x8_TRAINING - FIELD TRAINING SQUAD',\n",
       " 'x8_TRAINING - LEARNING MANAGEMENT SYSTEM',\n",
       " 'x8_WEST PCT 1ST W - DAVID/MARY',\n",
       " 'x8_WEST PCT 1ST W - KING/QUEEN',\n",
       " 'x8_WEST PCT 1ST W - KQ/DM RELIEF',\n",
       " 'x8_WEST PCT 2ND W - D/M RELIEF',\n",
       " 'x8_WEST PCT 2ND W - DAVID',\n",
       " 'x8_WEST PCT 2ND W - DAVID BEATS',\n",
       " 'x8_WEST PCT 2ND W - K/Q RELIEF',\n",
       " 'x8_WEST PCT 2ND W - KING',\n",
       " 'x8_WEST PCT 2ND W - KING BEATS',\n",
       " 'x8_WEST PCT 2ND W - MARY',\n",
       " 'x8_WEST PCT 2ND W - MARY BEATS',\n",
       " 'x8_WEST PCT 2ND W - QUEEN',\n",
       " 'x8_WEST PCT 2ND W - SPECIAL BEATS',\n",
       " 'x8_WEST PCT 3RD W - D/M RELIEF',\n",
       " 'x8_WEST PCT 3RD W - DAVID',\n",
       " 'x8_WEST PCT 3RD W - DAVID BEATS',\n",
       " 'x8_WEST PCT 3RD W - K/Q RELIEF',\n",
       " 'x8_WEST PCT 3RD W - KING',\n",
       " 'x8_WEST PCT 3RD W - MARY',\n",
       " 'x8_WEST PCT 3RD W - QUEEN',\n",
       " 'x8_WEST PCT OPS - ACT NIGHT',\n",
       " 'x8_WEST PCT OPS - BURG/THEFT',\n",
       " 'x8_WEST PCT OPS - COMMERCIAL SEC',\n",
       " 'x8_WEST PCT OPS - CPT',\n",
       " 'x8_WEST PCT OPS - MOUNTED PATROL',\n",
       " 'x8_WEST PCT OPS - SEA CTR',\n",
       " 'x9_East',\n",
       " 'x9_NA',\n",
       " 'x9_North',\n",
       " 'x9_South',\n",
       " 'x9_Southwest',\n",
       " 'x9_West',\n",
       " 'Officer YOB']"
      ]
     },
     "execution_count": 48,
     "metadata": {},
     "output_type": "execute_result"
    }
   ],
   "source": [
    "features "
   ]
  },
  {
   "cell_type": "markdown",
   "id": "b4036173-27ae-42d7-981b-ec74ddb3d32c",
   "metadata": {},
   "source": [
    "## Baseline Logistic Regression w/smote"
   ]
  },
  {
   "cell_type": "markdown",
   "id": "abb00ef4-4feb-4890-82fb-1d8c76a04826",
   "metadata": {},
   "source": [
    "## Pipeline"
   ]
  },
  {
   "cell_type": "code",
   "execution_count": null,
   "id": "909be8fe-22df-48b4-921e-dab28443eaf0",
   "metadata": {},
   "outputs": [],
   "source": [
    "baseline_smote = make_sm_pipeline(preprocessing_mm, sm, LR)"
   ]
  },
  {
   "cell_type": "code",
   "execution_count": null,
   "id": "1b942384-99d9-4577-aaa2-68a30f635f44",
   "metadata": {},
   "outputs": [],
   "source": [
    "baseline_smote.fit(X_train, y_train)"
   ]
  },
  {
   "cell_type": "markdown",
   "id": "cfd6e15c-ed75-457e-8933-1a0073e16f08",
   "metadata": {},
   "source": [
    "## Scoring"
   ]
  },
  {
   "cell_type": "code",
   "execution_count": null,
   "id": "74cc4e38-d1b4-4006-ac68-d0477a905d27",
   "metadata": {
    "tags": []
   },
   "outputs": [],
   "source": [
    "#scoring the model\n",
    "f1_score(y_train, baseline_smote.predict(X_train))"
   ]
  },
  {
   "cell_type": "code",
   "execution_count": null,
   "id": "7191f0c6-cade-4d9f-971c-7e8124d45904",
   "metadata": {},
   "outputs": [],
   "source": [
    "# checking cross val scores\n",
    "modeling.report(baseline_smote, X_train, y_train, 'LR Baseline SMOTE', 'Log Reg min/max')"
   ]
  },
  {
   "cell_type": "code",
   "execution_count": null,
   "id": "71babeb6-f104-4992-a608-112fc33d5567",
   "metadata": {},
   "outputs": [],
   "source": [
    "modeling.history"
   ]
  },
  {
   "cell_type": "markdown",
   "id": "28f9af18-8076-4142-a494-41c686815429",
   "metadata": {},
   "source": [
    "## Sub-Splitting the Training Data"
   ]
  },
  {
   "cell_type": "code",
   "execution_count": null,
   "id": "6f1759c2-c435-4714-950c-bbd802216406",
   "metadata": {},
   "outputs": [],
   "source": [
    "f.subsplit_test(X_train, y_train, baseline_smote)"
   ]
  },
  {
   "cell_type": "markdown",
   "id": "668cfad9-9a5e-46e0-8cc7-1bd83cf67327",
   "metadata": {},
   "source": [
    "## Baseline LR w/SMOTE Score: F1 = 0.868125"
   ]
  },
  {
   "cell_type": "markdown",
   "id": "d7a0a461-b7a0-4ab7-99cb-f2f9034e4593",
   "metadata": {},
   "source": [
    "## Feature Engineering"
   ]
  },
  {
   "cell_type": "markdown",
   "id": "4c303041-8ac8-408d-aab6-a71c7b998cbf",
   "metadata": {},
   "source": [
    "## Dropping Subject and Officer Race Nulls"
   ]
  },
  {
   "cell_type": "code",
   "execution_count": null,
   "id": "4c08d5eb-145a-4ede-9fbe-04e4a72c6d2d",
   "metadata": {},
   "outputs": [],
   "source": [
    "df = df[(df['Subject Perceived Race']!='NA') &\\\n",
    "            (df['Officer Race']!='NA')]"
   ]
  },
  {
   "cell_type": "code",
   "execution_count": null,
   "id": "c6556bf1-c44a-4458-aaa7-d0c7b6667dd8",
   "metadata": {},
   "outputs": [],
   "source": [
    "# features engineered during eda\n",
    "feature_list = ['Weapon Flag', 'Reported Year', 'Reported Month',\n",
    "                'Day of Month', 'Day of Week', 'Reported Hour', 'Beat Flag']"
   ]
  },
  {
   "cell_type": "code",
   "execution_count": null,
   "id": "ce23bb75-7c1f-44d4-a4ef-4f426739e3b5",
   "metadata": {},
   "outputs": [],
   "source": [
    "# excluding Officer ID, 'Final Call Type', Frisk Flag & time features\n",
    "excluded = ['Officer ID','Final Call Type', 'Frisk Flag','Weapon Flag', \n",
    "             'Reported Year', 'Reported Month','Day of Month',\n",
    "             'Day of Week', 'Reported Hour', 'Beat Flag']"
   ]
  },
  {
   "cell_type": "markdown",
   "id": "a146f367-a07b-4ffa-9cdf-d1f9730a8cad",
   "metadata": {},
   "source": [
    "## Creating New Data Frame w/Dropped Nulls"
   ]
  },
  {
   "cell_type": "code",
   "execution_count": null,
   "id": "0cd911e0-3bea-4558-b5a0-5fc3bbadc146",
   "metadata": {},
   "outputs": [],
   "source": [
    "dropped_df = f.framer(df, [], excluded)"
   ]
  },
  {
   "cell_type": "code",
   "execution_count": null,
   "id": "339955e4-5ff5-4d03-b000-bc589c4aa5d3",
   "metadata": {},
   "outputs": [],
   "source": [
    "dropped_df.head(2)"
   ]
  },
  {
   "cell_type": "markdown",
   "id": "08eb34a4-ea43-4163-b952-e58dd16ffc87",
   "metadata": {},
   "source": [
    "## New Test Train Split"
   ]
  },
  {
   "cell_type": "code",
   "execution_count": null,
   "id": "f404de0b-0796-4ca8-9042-5a61f7ccea7e",
   "metadata": {},
   "outputs": [],
   "source": [
    "X, y = f.Xy(dropped_df)"
   ]
  },
  {
   "cell_type": "code",
   "execution_count": null,
   "id": "52d66ec2-0dbf-4499-912c-2c76df59114b",
   "metadata": {},
   "outputs": [],
   "source": [
    "X_train, X_test, y_train, y_test = f.splitter(X,y)"
   ]
  },
  {
   "cell_type": "markdown",
   "id": "a9b09fa3-e0ea-4358-b07c-1aa0493ef1f6",
   "metadata": {},
   "source": [
    "## Baseline Logistic Regression w/o SMOTE on Dropped Nulls Data"
   ]
  },
  {
   "cell_type": "markdown",
   "id": "923e0697-156e-4a03-beee-30c47866f657",
   "metadata": {},
   "source": [
    "## Pipeline"
   ]
  },
  {
   "cell_type": "code",
   "execution_count": null,
   "id": "cddf162c-4dd1-4e0e-9ef9-aa652809efd2",
   "metadata": {},
   "outputs": [],
   "source": [
    "baseline_nosmote = make_pipeline(preprocessing_mm, LR)"
   ]
  },
  {
   "cell_type": "code",
   "execution_count": null,
   "id": "05780e27-29a4-49f0-84da-339e23db4e1d",
   "metadata": {},
   "outputs": [],
   "source": [
    "baseline_nosmote.fit(X_train, y_train)"
   ]
  },
  {
   "cell_type": "markdown",
   "id": "deb07172-dfbc-44ed-982f-354a77dbc600",
   "metadata": {},
   "source": [
    "## Scoring"
   ]
  },
  {
   "cell_type": "code",
   "execution_count": null,
   "id": "83b0d995-5bf6-453b-b4f7-7fa7b7a6618c",
   "metadata": {
    "tags": []
   },
   "outputs": [],
   "source": [
    "#scoring the model\n",
    "f1_score(y_train,baseline_nosmote.predict(X_train))"
   ]
  },
  {
   "cell_type": "code",
   "execution_count": null,
   "id": "2a1992c6-be2a-4a76-ba93-7a89c01ef6f7",
   "metadata": {},
   "outputs": [],
   "source": [
    "# checking cross val scores\n",
    "modeling.report(baseline_nosmote, X_train, y_train, 'LR w/o SMOTE', 'LR, Dropped Nulls')"
   ]
  },
  {
   "cell_type": "code",
   "execution_count": null,
   "id": "ea044064-26ac-4010-91c1-dd73107f98fa",
   "metadata": {},
   "outputs": [],
   "source": [
    "modeling.history"
   ]
  },
  {
   "cell_type": "markdown",
   "id": "275a57cd-1388-4b6c-be75-4c8214bbeba9",
   "metadata": {},
   "source": [
    "## Subsplit Test"
   ]
  },
  {
   "cell_type": "code",
   "execution_count": null,
   "id": "d4d7e092-50c0-4b75-a68c-b6575184cd84",
   "metadata": {},
   "outputs": [],
   "source": [
    "f.subsplit_test(X_train, y_train, baseline_nosmote)"
   ]
  },
  {
   "cell_type": "markdown",
   "id": "75e8cf9a-b469-4136-a7ed-360d64f4fef3",
   "metadata": {},
   "source": [
    "## LR No SMOTE on Dropped Nulls Score: 0.890325"
   ]
  },
  {
   "cell_type": "markdown",
   "id": "784b65f6-eb7c-4872-89ed-973500fca203",
   "metadata": {},
   "source": [
    "## Baseline Logistic Regression w/SMOTE on Dropped Nulls Data"
   ]
  },
  {
   "cell_type": "markdown",
   "id": "e67e20b8-89f0-4ef5-b02e-9f249274a04c",
   "metadata": {},
   "source": [
    "## Pipeline"
   ]
  },
  {
   "cell_type": "code",
   "execution_count": null,
   "id": "8047ce6d-3ac4-4e4e-a342-3abefe7fbfe1",
   "metadata": {},
   "outputs": [],
   "source": [
    "baseline_smote = make_sm_pipeline(preprocessing_mm, sm, LR)"
   ]
  },
  {
   "cell_type": "code",
   "execution_count": null,
   "id": "b74de005-d3dd-4666-9700-21cd5d5f5c60",
   "metadata": {},
   "outputs": [],
   "source": [
    "baseline_smote.fit(X_train, y_train)"
   ]
  },
  {
   "cell_type": "markdown",
   "id": "60a00ab5-bdf4-445d-bd43-9807bf531887",
   "metadata": {},
   "source": [
    "## Scoring"
   ]
  },
  {
   "cell_type": "code",
   "execution_count": null,
   "id": "1ae823e1-8836-4122-8276-bc6973d3f019",
   "metadata": {
    "tags": []
   },
   "outputs": [],
   "source": [
    "#scoring the model\n",
    "f1_score(y_train,baseline_smote.predict(X_train))"
   ]
  },
  {
   "cell_type": "code",
   "execution_count": null,
   "id": "52b861a4-c3be-404d-9f05-2f6527844314",
   "metadata": {},
   "outputs": [],
   "source": [
    "# checking cross val scores\n",
    "modeling.report(baseline_smote, X_train, y_train, 'LR SMOTE', 'LR, Dropped Nulls')"
   ]
  },
  {
   "cell_type": "code",
   "execution_count": null,
   "id": "376bc17d-b852-4433-9746-323766a88cbf",
   "metadata": {},
   "outputs": [],
   "source": [
    "modeling.history"
   ]
  },
  {
   "cell_type": "markdown",
   "id": "ff84a210-ce7b-4506-9dff-885007c16f30",
   "metadata": {},
   "source": [
    "## Sub-Splitting the Training Data"
   ]
  },
  {
   "cell_type": "code",
   "execution_count": null,
   "id": "98aa9ffc-1d3e-4f13-8098-ec8f2270fcad",
   "metadata": {},
   "outputs": [],
   "source": [
    "f.subsplit_test(X_train, y_train, baseline_smote)"
   ]
  },
  {
   "cell_type": "markdown",
   "id": "8b65f898-aed8-4e67-af3f-427a17d2f02a",
   "metadata": {},
   "source": [
    "## LR w/SMOTE on Dropped Nulls Data Score: F1=0.879422"
   ]
  },
  {
   "cell_type": "markdown",
   "id": "7decf072-08a5-4a9d-895e-874c4460e6ee",
   "metadata": {},
   "source": [
    "## Investigating the Data More Closely\n",
    "Looking for some score improvement through feature engineering "
   ]
  },
  {
   "cell_type": "code",
   "execution_count": null,
   "id": "5fc2f5a5-a1e0-4e9e-b252-721512bccf76",
   "metadata": {},
   "outputs": [],
   "source": [
    "cols = baseline_df.columns\n",
    "for col in cols:\n",
    "    print(f'{df[col].value_counts()}\\n')"
   ]
  },
  {
   "cell_type": "code",
   "execution_count": null,
   "id": "70a8aa30-b1ab-4e06-adcf-2b1c6f1b10ef",
   "metadata": {},
   "outputs": [],
   "source": [
    "baseline_df['Officer YOB'].describe()"
   ]
  },
  {
   "cell_type": "markdown",
   "id": "5029a665-0ccd-4968-aff3-6c382302e58c",
   "metadata": {},
   "source": [
    "## Creating & Testing Officer Age Feature\n",
    "Creating `Officer Age` feature, dropping invalid ages and `Officer YOB` feature."
   ]
  },
  {
   "cell_type": "code",
   "execution_count": null,
   "id": "c78439b7-1cc0-4547-bac6-348a86945c32",
   "metadata": {},
   "outputs": [],
   "source": [
    "df['Officer Age'] = df['Reported Year'] - df['Officer YOB']\n",
    "df['Officer Age'] = df['Officer Age'].apply(lambda x: np.nan if x > 100 else x)\n",
    "df.dropna(subset = ['Officer Age'], inplace=True)"
   ]
  },
  {
   "cell_type": "code",
   "execution_count": null,
   "id": "629c39f6-4fb6-4c19-a772-2aa62f4c3066",
   "metadata": {},
   "outputs": [],
   "source": [
    "df.drop('Officer YOB', axis=1, inplace=True)"
   ]
  },
  {
   "cell_type": "markdown",
   "id": "7add2fed-7fa7-4199-929e-b94bad305744",
   "metadata": {},
   "source": [
    "## New Data Frame"
   ]
  },
  {
   "cell_type": "code",
   "execution_count": null,
   "id": "d1cb2ff2-accd-40bf-b8b3-2fb3341fb014",
   "metadata": {},
   "outputs": [],
   "source": [
    "age_df = f.framer(df, [], excluded)"
   ]
  },
  {
   "cell_type": "code",
   "execution_count": null,
   "id": "b37aa9a3-3a6f-4ee0-9950-0c6ac572832d",
   "metadata": {},
   "outputs": [],
   "source": [
    "age_df.head(2)"
   ]
  },
  {
   "cell_type": "code",
   "execution_count": null,
   "id": "f27baaea-69bf-43ce-9770-ea6e3fdb2f39",
   "metadata": {},
   "outputs": [],
   "source": [
    "age_df.info()"
   ]
  },
  {
   "cell_type": "markdown",
   "id": "a799435a-1977-47aa-8c1b-584933c5a844",
   "metadata": {},
   "source": [
    "## New Test Train Split"
   ]
  },
  {
   "cell_type": "code",
   "execution_count": null,
   "id": "535acc3b-605d-4f46-8c2b-7432934477a1",
   "metadata": {},
   "outputs": [],
   "source": [
    "X, y = f.Xy(age_df)"
   ]
  },
  {
   "cell_type": "code",
   "execution_count": null,
   "id": "dd7acb0a-4883-42f0-bfa9-4ab21ce24967",
   "metadata": {},
   "outputs": [],
   "source": [
    "X_train, X_test, y_train, y_test = f.splitter(X,y)"
   ]
  },
  {
   "cell_type": "markdown",
   "id": "77916a5a-4e9b-428c-a208-03b3bb4f6be0",
   "metadata": {},
   "source": [
    "## Testing Baseline LR on New Data"
   ]
  },
  {
   "cell_type": "code",
   "execution_count": null,
   "id": "72a1d92e-3bdc-43ac-9748-3ffb4a19fe61",
   "metadata": {},
   "outputs": [],
   "source": [
    "baseline_nosmote.fit(X_train, y_train)"
   ]
  },
  {
   "cell_type": "markdown",
   "id": "3f8ad984-0fef-4e0a-8596-5e0c07f05b23",
   "metadata": {},
   "source": [
    "## Scoring"
   ]
  },
  {
   "cell_type": "code",
   "execution_count": null,
   "id": "b6c062cb-e12d-45c7-9941-1fd6776fa87a",
   "metadata": {},
   "outputs": [],
   "source": [
    "#scoring the model\n",
    "f1_score(y_train, baseline_nosmote.predict(X_train))"
   ]
  },
  {
   "cell_type": "code",
   "execution_count": null,
   "id": "1f20eeb9-5396-4234-bd47-070f61907e97",
   "metadata": {},
   "outputs": [],
   "source": [
    "# checking cross val scores\n",
    "modeling.report(baseline_smote, X_train, y_train, 'LR w/o SMOTE', 'Dropped Nulls, officer age')"
   ]
  },
  {
   "cell_type": "code",
   "execution_count": null,
   "id": "504b23a6-b727-4fea-9562-1e21b42d7299",
   "metadata": {},
   "outputs": [],
   "source": [
    "modeling.history"
   ]
  },
  {
   "cell_type": "markdown",
   "id": "9fe00280-4e22-4f7e-8ba3-6089c64edc7e",
   "metadata": {},
   "source": [
    "## Subsplit Test"
   ]
  },
  {
   "cell_type": "code",
   "execution_count": null,
   "id": "e7b2d030-fdde-4370-bf70-45bb2f1f922e",
   "metadata": {},
   "outputs": [],
   "source": [
    "f.subsplit_test(X_train, y_train, baseline_smote)"
   ]
  },
  {
   "cell_type": "markdown",
   "id": "ba259076-3f80-4eb4-a011-f051483c1f99",
   "metadata": {},
   "source": [
    "## LR w/Officer Age Score: F1=0.878195"
   ]
  },
  {
   "cell_type": "markdown",
   "id": "1026d8d5-0fe9-44fb-8ef2-902104d44b2e",
   "metadata": {},
   "source": [
    "## Creating Racial Affinity Feature\n",
    "0 if subject and officer are different races; 1 if subject and officer are different races."
   ]
  },
  {
   "cell_type": "code",
   "execution_count": null,
   "id": "3489e0d5-8302-46e9-849e-a78d3d3a7fbe",
   "metadata": {},
   "outputs": [],
   "source": [
    "df['Racial Affinity'] = [1 if df['Subject Perceived Race'][row]\\\n",
    "                         == df['Officer Race'][row] else 0 for row in df.index]"
   ]
  },
  {
   "cell_type": "code",
   "execution_count": null,
   "id": "a74b4d6e-78ba-456f-a573-0d00c1a833a4",
   "metadata": {},
   "outputs": [],
   "source": [
    "df.head(3)"
   ]
  },
  {
   "cell_type": "markdown",
   "id": "ea3bd574-aa21-4ce9-ac4d-bbe14b4bd9da",
   "metadata": {},
   "source": [
    "## New Data Frame"
   ]
  },
  {
   "cell_type": "code",
   "execution_count": null,
   "id": "8794bf1d-9f7a-4435-a865-c85375aedc00",
   "metadata": {},
   "outputs": [],
   "source": [
    "# excluding Officer ID, 'Final Call Type', and Frisk Flag\n",
    "excluded = ['Officer ID','Final Call Type', 'Frisk Flag','Weapon Flag', \n",
    "             'Reported Year', 'Reported Month','Day of Month',\n",
    "             'Day of Week', 'Reported Hour', 'Beat Flag', 'Officer Age']"
   ]
  },
  {
   "cell_type": "code",
   "execution_count": null,
   "id": "dbdc290c-0807-4e08-8fa4-9edbd3236290",
   "metadata": {},
   "outputs": [],
   "source": [
    "RA_df = f.framer(df, [], excluded)"
   ]
  },
  {
   "cell_type": "code",
   "execution_count": null,
   "id": "62c058b8-f147-43e5-be5b-7ba965d66f69",
   "metadata": {},
   "outputs": [],
   "source": [
    "RA_df.head(2)"
   ]
  },
  {
   "cell_type": "code",
   "execution_count": null,
   "id": "ada2f49e-26ed-442d-8bbf-bef381cf9e3b",
   "metadata": {},
   "outputs": [],
   "source": [
    "X, y = f.Xy(RA_df)"
   ]
  },
  {
   "cell_type": "code",
   "execution_count": null,
   "id": "0b6a8f3a-17f6-433a-be2f-50bdd4111e07",
   "metadata": {},
   "outputs": [],
   "source": [
    "X_train, X_test, y_train, y_test = f.splitter(X,y)"
   ]
  },
  {
   "cell_type": "markdown",
   "id": "76c09e95-fa34-40e1-b140-c46f8c6d863f",
   "metadata": {},
   "source": [
    "## Testing Racial Affinity Feature"
   ]
  },
  {
   "cell_type": "code",
   "execution_count": null,
   "id": "b834c750-824e-4056-b2dc-fa8c929c14f6",
   "metadata": {},
   "outputs": [],
   "source": [
    "baseline_nosmote.fit(X_train, y_train)"
   ]
  },
  {
   "cell_type": "markdown",
   "id": "9c19ba86-089e-4b2e-9361-51e480ffe3fb",
   "metadata": {},
   "source": [
    "## Scoring"
   ]
  },
  {
   "cell_type": "code",
   "execution_count": null,
   "id": "dd1522f7-51a1-4515-b496-77b24fabff48",
   "metadata": {},
   "outputs": [],
   "source": [
    "#scoring the model\n",
    "f1_score(y_train,baseline_nosmote.predict(X_train))"
   ]
  },
  {
   "cell_type": "code",
   "execution_count": null,
   "id": "1f9e1e40-a992-41b2-9106-969003ab7630",
   "metadata": {},
   "outputs": [],
   "source": [
    "# checking cross val scores\n",
    "modeling.report(baseline_nosmote, X_train, y_train, 'LR w/o SMOTE ', 'Dropped Nulls, racial affinity')"
   ]
  },
  {
   "cell_type": "code",
   "execution_count": null,
   "id": "75dfb21c-958f-4df1-a45a-bb283fc31e13",
   "metadata": {},
   "outputs": [],
   "source": [
    "modeling.history"
   ]
  },
  {
   "cell_type": "markdown",
   "id": "d28784c0-28c6-4547-a578-d93089d12a2e",
   "metadata": {},
   "source": [
    "## Subsplit Test"
   ]
  },
  {
   "cell_type": "code",
   "execution_count": null,
   "id": "e21fe151-9faf-4db8-8135-a2ef27c5b0c4",
   "metadata": {},
   "outputs": [],
   "source": [
    "f.subsplit_test(X_train, y_train, baseline_nosmote)"
   ]
  },
  {
   "cell_type": "markdown",
   "id": "a35664d1-25c3-4a0a-af0b-6493c3403364",
   "metadata": {},
   "source": [
    "## LR w/Racial Affinity Score: F1=0.884281"
   ]
  },
  {
   "cell_type": "markdown",
   "id": "9c4a2c8a-10e3-4e52-96c7-92dc99eee27f",
   "metadata": {},
   "source": [
    "## Gender Affinity Feature\n",
    "0 if subject and officer are different genders; 1 if the same."
   ]
  },
  {
   "cell_type": "code",
   "execution_count": null,
   "id": "395da33f-8ec9-4f4f-9d42-17cfd10fb444",
   "metadata": {},
   "outputs": [],
   "source": [
    "df['Officer Gender'].value_counts()"
   ]
  },
  {
   "cell_type": "code",
   "execution_count": null,
   "id": "6ef0bd47-4e4f-47bc-b3e8-e40a4b7404dd",
   "metadata": {},
   "outputs": [],
   "source": [
    "df['Officer Gender'] = df['Officer Gender'].apply(lambda x: 'Male' if x=='M' else 'Female')"
   ]
  },
  {
   "cell_type": "code",
   "execution_count": null,
   "id": "8fb79238-8cef-49ad-a0b8-7e6c29b38b00",
   "metadata": {},
   "outputs": [],
   "source": [
    "df['Gender Affinity'] = [1 if df['Subject Perceived Gender'][row]\\\n",
    "                         == df['Officer Gender'][row] else 0 for row in df.index]"
   ]
  },
  {
   "cell_type": "code",
   "execution_count": null,
   "id": "a9955531-001e-430b-aa7e-c40f9a985b3f",
   "metadata": {},
   "outputs": [],
   "source": [
    "df.head(2)"
   ]
  },
  {
   "cell_type": "markdown",
   "id": "4dc22e63-e0ee-4953-98ef-65825a121b88",
   "metadata": {},
   "source": [
    "## New Data Frame"
   ]
  },
  {
   "cell_type": "code",
   "execution_count": null,
   "id": "b87a67f0-475b-4e99-9e49-bf0138a07109",
   "metadata": {},
   "outputs": [],
   "source": [
    "excluded = ['Officer ID','Final Call Type', 'Frisk Flag','Weapon Flag', \n",
    "             'Reported Year', 'Reported Month','Day of Month',\n",
    "             'Day of Week', 'Reported Hour', 'Beat Flag', 'Officer Age',\n",
    "            'Racial Affinity']"
   ]
  },
  {
   "cell_type": "code",
   "execution_count": null,
   "id": "7f2fda5f-f9fa-4444-b909-faff95a7a506",
   "metadata": {},
   "outputs": [],
   "source": [
    "GA_df = f.framer(df, [], excluded)"
   ]
  },
  {
   "cell_type": "code",
   "execution_count": null,
   "id": "30d91856-d57d-4a5e-8e34-cd167dadcb83",
   "metadata": {},
   "outputs": [],
   "source": [
    "GA_df.head(2)"
   ]
  },
  {
   "cell_type": "code",
   "execution_count": null,
   "id": "546e61b9-b6c9-4f64-98ad-15ffc9b5243e",
   "metadata": {},
   "outputs": [],
   "source": [
    "X, y = f.Xy(GA_df)"
   ]
  },
  {
   "cell_type": "code",
   "execution_count": null,
   "id": "557f79b9-e3eb-4e51-9749-ac6f9307e667",
   "metadata": {},
   "outputs": [],
   "source": [
    "X_train, X_test, y_train, y_test = f.splitter(X,y)"
   ]
  },
  {
   "cell_type": "markdown",
   "id": "f9e868e7-69d8-4cf6-a634-4aaf15fe1e3b",
   "metadata": {},
   "source": [
    "## Testing Gender Affinity"
   ]
  },
  {
   "cell_type": "code",
   "execution_count": null,
   "id": "83c28952-99b5-40a0-b91f-3522338938e4",
   "metadata": {},
   "outputs": [],
   "source": [
    "baseline_nosmote.fit(X_train, y_train)"
   ]
  },
  {
   "cell_type": "markdown",
   "id": "c5bd71a7-d465-4fe8-87da-4f85aa0ba961",
   "metadata": {},
   "source": [
    "## Scoring"
   ]
  },
  {
   "cell_type": "code",
   "execution_count": null,
   "id": "de78d2e3-fe93-476b-af18-cc70ce5c4ff2",
   "metadata": {},
   "outputs": [],
   "source": [
    "#scoring the model\n",
    "f1_score(y_train,baseline_nosmote.predict(X_train))"
   ]
  },
  {
   "cell_type": "code",
   "execution_count": null,
   "id": "9fc13c5e-ea2a-49c2-88cc-ebf686c853af",
   "metadata": {},
   "outputs": [],
   "source": [
    "# checking cross val scores\n",
    "modeling.report(baseline_nosmote, X_train, y_train, 'LR w/o SMOTE ', 'Dropped Nulls, gender affinity')"
   ]
  },
  {
   "cell_type": "code",
   "execution_count": null,
   "id": "de5396ef-58f4-4340-8c38-6f94ec922fec",
   "metadata": {},
   "outputs": [],
   "source": [
    "modeling.history"
   ]
  },
  {
   "cell_type": "markdown",
   "id": "fdbfb1a7-8019-4c74-8081-426ef6ac3b52",
   "metadata": {},
   "source": [
    "## Subsplit Test"
   ]
  },
  {
   "cell_type": "code",
   "execution_count": null,
   "id": "c2a27f0c-d142-4d32-8346-fccd8500e2a9",
   "metadata": {},
   "outputs": [],
   "source": [
    "f.subsplit_test(X_train, y_train, baseline_nosmote)"
   ]
  },
  {
   "cell_type": "markdown",
   "id": "c9f452e6-6e44-4211-9d43-20421cd20d32",
   "metadata": {},
   "source": [
    "## LR w/Gender Affinity Score: F1=0.884676"
   ]
  },
  {
   "cell_type": "markdown",
   "id": "682cab9f-c67e-4801-ae52-e972f2fc1105",
   "metadata": {},
   "source": [
    "## Binning Weapon Type\n",
    "Binning into NONE, GUN, KNIFE, OTHER"
   ]
  },
  {
   "cell_type": "code",
   "execution_count": null,
   "id": "e89428a0-0204-47d4-a26d-159d0a8c99ee",
   "metadata": {
    "tags": []
   },
   "outputs": [],
   "source": [
    "# checking weapon types\n",
    "df['Weapon Type'].unique()"
   ]
  },
  {
   "cell_type": "code",
   "execution_count": null,
   "id": "6bea7692-5b56-4d4a-94dd-dbd6e5854399",
   "metadata": {},
   "outputs": [],
   "source": [
    "NONE= ['None', 'NA','None/Not Applicable']\n",
    "\n",
    "GUN = ['Firearm Other', 'Handgun', 'Other Firearm',\n",
    "        'Rifle', 'Firearm (unk type)', 'Firearm',\n",
    "        'Shotgun', 'Automatic Handgun']\n",
    "\n",
    "KNIFE = ['Lethal Cutting Instrument', 'Knife/Cutting/Stabbing Instrument']\n",
    "\n",
    "OTHER = ['Club, Blackjack, Brass Knuckles',\n",
    "         'Fire/Incendiary Device', 'Blunt Object/Striking Implement',\n",
    "         'Mace/Pepper Spray', 'Club', 'Taser/Stun Gun',\n",
    "         'Brass Knuckles','Blackjack',\n",
    "         'Personal Weapons (hands, feet, etc.)']"
   ]
  },
  {
   "cell_type": "code",
   "execution_count": null,
   "id": "81f4eb18-4607-4fc9-8406-50649e202241",
   "metadata": {},
   "outputs": [],
   "source": [
    "df['Weapon Bins'] = df['Weapon Type'].copy()"
   ]
  },
  {
   "cell_type": "code",
   "execution_count": null,
   "id": "82675060-e97e-4095-8c45-8185b71792c6",
   "metadata": {},
   "outputs": [],
   "source": [
    "df['Weapon Bins']"
   ]
  },
  {
   "cell_type": "code",
   "execution_count": null,
   "id": "460e36a0-8a81-41e5-a5f8-c255f51968a6",
   "metadata": {},
   "outputs": [],
   "source": [
    "for type in NONE:\n",
    "    df['Weapon Bins'].replace(type, 'NONE', inplace=True)\n",
    "for type in GUN:\n",
    "    df['Weapon Bins'].replace(type, 'GUN', inplace=True)\n",
    "for type in KNIFE:\n",
    "    df['Weapon Bins'].replace(type, 'KNIFE', inplace=True)\n",
    "for type in OTHER:\n",
    "    df['Weapon Bins'].replace(type, 'OTHER', inplace=True)"
   ]
  },
  {
   "cell_type": "code",
   "execution_count": null,
   "id": "5cdd3419-c5a2-4fbe-80c2-63e4b4162a28",
   "metadata": {},
   "outputs": [],
   "source": [
    "df['Weapon Bins'].value_counts(normalize=True)"
   ]
  },
  {
   "cell_type": "markdown",
   "id": "002734c3-f311-4225-9b9a-4bd770dd682f",
   "metadata": {},
   "source": [
    "## 94% of Subjects Are Unarmed and Only 1% Have a Gun."
   ]
  },
  {
   "cell_type": "code",
   "execution_count": null,
   "id": "829fb58e-a5a9-4697-b026-a0c1fe8b26f2",
   "metadata": {},
   "outputs": [],
   "source": [
    "df.head(2)"
   ]
  },
  {
   "cell_type": "markdown",
   "id": "4f64c1fc-b276-4615-8fb4-78e61c6b6ce7",
   "metadata": {},
   "source": [
    "## New Data Frame w/Weapons Bins"
   ]
  },
  {
   "cell_type": "code",
   "execution_count": null,
   "id": "029900a5-868b-4341-bf31-20aeb3394c4e",
   "metadata": {},
   "outputs": [],
   "source": [
    "excluded = ['Weapon Type', 'Officer ID','Final Call Type', 'Frisk Flag','Weapon Flag', \n",
    "             'Reported Year', 'Reported Month','Day of Month',\n",
    "             'Day of Week', 'Reported Hour', 'Beat Flag', 'Officer Age',\n",
    "            'Racial Affinity', 'Gender Affinity']"
   ]
  },
  {
   "cell_type": "code",
   "execution_count": null,
   "id": "1654bdf6-726f-466a-b48e-0553de78229f",
   "metadata": {},
   "outputs": [],
   "source": [
    "WB_df = f.framer(df, [], excluded)"
   ]
  },
  {
   "cell_type": "code",
   "execution_count": null,
   "id": "758afa8f-9685-435d-93cd-66f8562d14bd",
   "metadata": {},
   "outputs": [],
   "source": [
    "WB_df.head(2)"
   ]
  },
  {
   "cell_type": "code",
   "execution_count": null,
   "id": "c705d08d-5a01-49cb-84ef-d95354402d0e",
   "metadata": {},
   "outputs": [],
   "source": [
    "X, y = f.Xy(WB_df)"
   ]
  },
  {
   "cell_type": "code",
   "execution_count": null,
   "id": "dc38e4f5-1a7c-4ac8-a5f1-34ee411e3ccb",
   "metadata": {},
   "outputs": [],
   "source": [
    "X_train, X_test, y_train, y_test = f.splitter(X,y)"
   ]
  },
  {
   "cell_type": "markdown",
   "id": "747163ae-a46c-46d9-a810-9e11ddf8750b",
   "metadata": {},
   "source": [
    "## Testing Weapon Bins"
   ]
  },
  {
   "cell_type": "code",
   "execution_count": null,
   "id": "bf678292-d352-42f1-92cf-23dc464598f2",
   "metadata": {},
   "outputs": [],
   "source": [
    "baseline_nosmote.fit(X_train, y_train)"
   ]
  },
  {
   "cell_type": "markdown",
   "id": "6c0c0463-1292-4404-a53b-683b8cf26e8a",
   "metadata": {},
   "source": [
    "## Scoring"
   ]
  },
  {
   "cell_type": "code",
   "execution_count": null,
   "id": "228efe3f-bad9-401a-94a3-d21c4a09b613",
   "metadata": {},
   "outputs": [],
   "source": [
    "#scoring the model\n",
    "f1_score(y_train,baseline_nosmote.predict(X_train))"
   ]
  },
  {
   "cell_type": "code",
   "execution_count": null,
   "id": "a8ae0e3f-1b24-4475-9268-9eb86be6024f",
   "metadata": {},
   "outputs": [],
   "source": [
    "# checking cross val scores\n",
    "modeling.report(baseline_nosmote, X_train, y_train, 'LR w/o SMOTE ', 'Dropped Nulls, weapon bins')"
   ]
  },
  {
   "cell_type": "code",
   "execution_count": null,
   "id": "99157a39-8b49-4cbe-9de0-4c41ee3967eb",
   "metadata": {},
   "outputs": [],
   "source": [
    "modeling.history"
   ]
  },
  {
   "cell_type": "markdown",
   "id": "0cd7e926-7393-4bd1-8fa9-4737becba6b8",
   "metadata": {},
   "source": [
    "## Subsplit Test"
   ]
  },
  {
   "cell_type": "code",
   "execution_count": null,
   "id": "17e1c210-728f-4af0-8626-1defcb2b1f80",
   "metadata": {},
   "outputs": [],
   "source": [
    "f.subsplit_test(X_train, y_train, baseline_nosmote)"
   ]
  },
  {
   "cell_type": "markdown",
   "id": "a2e3499e-f29b-448d-8b8e-17c338719a23",
   "metadata": {},
   "source": [
    "## LR w/Weapon Bins Score: F1=0.875523"
   ]
  },
  {
   "cell_type": "markdown",
   "id": "90aca7ae-7f90-407c-8e4f-4e2f2b4db65e",
   "metadata": {},
   "source": [
    "## Testing Weapon Flag\n",
    "The weapon flag binary (0 = no weapon) has been excluded from tests up to this point."
   ]
  },
  {
   "cell_type": "markdown",
   "id": "c3104beb-a17d-454f-8af8-424104f9b13d",
   "metadata": {},
   "source": [
    "## New Data Frame"
   ]
  },
  {
   "cell_type": "code",
   "execution_count": null,
   "id": "f6f84623-fa03-49e1-a437-576c71983f39",
   "metadata": {},
   "outputs": [],
   "source": [
    "excluded = ['Officer ID','Final Call Type', 'Frisk Flag','Weapon Type', \n",
    "             'Reported Year', 'Reported Month','Day of Month',\n",
    "             'Day of Week', 'Reported Hour', 'Beat Flag', 'Officer Age',\n",
    "            'Racial Affinity', 'Gender Affinity', 'Weapon Bins']"
   ]
  },
  {
   "cell_type": "code",
   "execution_count": null,
   "id": "3dbb4d41-0991-46cb-a862-fc64bf8aef55",
   "metadata": {},
   "outputs": [],
   "source": [
    "WF_df = f.framer(df, [], excluded)"
   ]
  },
  {
   "cell_type": "code",
   "execution_count": null,
   "id": "dc504295-3926-4b9a-81fd-f5548a6dfe61",
   "metadata": {},
   "outputs": [],
   "source": [
    "WF_df.head(2)"
   ]
  },
  {
   "cell_type": "code",
   "execution_count": null,
   "id": "abc57571-3e27-456d-829c-08834c982a6f",
   "metadata": {},
   "outputs": [],
   "source": [
    "X, y = f.Xy(WF_df)"
   ]
  },
  {
   "cell_type": "code",
   "execution_count": null,
   "id": "620f8b33-84eb-45ed-b777-1a31f44e9741",
   "metadata": {},
   "outputs": [],
   "source": [
    "X_train, X_test, y_train, y_test = f.splitter(X,y)"
   ]
  },
  {
   "cell_type": "markdown",
   "id": "ea9749a8-224d-419a-906a-a900280a4649",
   "metadata": {},
   "source": [
    "## Testing Weapon Flag"
   ]
  },
  {
   "cell_type": "code",
   "execution_count": null,
   "id": "c9eebb9c-d1be-4c3f-a006-5cb432f4ea71",
   "metadata": {},
   "outputs": [],
   "source": [
    "baseline_nosmote.fit(X_train, y_train)"
   ]
  },
  {
   "cell_type": "markdown",
   "id": "2f146603-46a8-4322-ae62-e6677cfd575a",
   "metadata": {},
   "source": [
    "## Scoring"
   ]
  },
  {
   "cell_type": "code",
   "execution_count": null,
   "id": "77f7b31b-feb6-4a83-b376-651424b7122e",
   "metadata": {},
   "outputs": [],
   "source": [
    "#scoring the model\n",
    "f1_score(y_train, baseline_nosmote.predict(X_train))"
   ]
  },
  {
   "cell_type": "code",
   "execution_count": null,
   "id": "cb1ef2dc-7453-404f-919b-ef06979296be",
   "metadata": {},
   "outputs": [],
   "source": [
    "# checking cross val scores\n",
    "modeling.report(baseline_nosmote, X_train, y_train, 'LR w/o SMOTE ', 'Dropped Nulls, weapon flag')"
   ]
  },
  {
   "cell_type": "code",
   "execution_count": null,
   "id": "e8fad4cc-08e3-4b09-9d0f-bebee3cfaf2d",
   "metadata": {},
   "outputs": [],
   "source": [
    "modeling.history"
   ]
  },
  {
   "cell_type": "markdown",
   "id": "a9654dd8-edbb-4672-8483-01c6db7db3ce",
   "metadata": {},
   "source": [
    "## Subsplit Test"
   ]
  },
  {
   "cell_type": "code",
   "execution_count": null,
   "id": "235fef11-c381-43cb-9c62-ae17c03cbfc5",
   "metadata": {},
   "outputs": [],
   "source": [
    "f.subsplit_test(X_train, y_train, baseline_nosmote)"
   ]
  },
  {
   "cell_type": "markdown",
   "id": "47732142-fc5f-4ced-a64a-2d5c827c8435",
   "metadata": {},
   "source": [
    "## LR w/Weapon Flag Score: F1=0.875167"
   ]
  },
  {
   "cell_type": "markdown",
   "id": "1f20061d-79ed-4d54-8092-14053d33a793",
   "metadata": {},
   "source": [
    "## Binarizing Initial Call Type\n",
    "0 = no call information provided."
   ]
  },
  {
   "cell_type": "code",
   "execution_count": null,
   "id": "fc3c0b6b-36ac-469e-9280-c2a8110e8539",
   "metadata": {},
   "outputs": [],
   "source": [
    "df['Initial Call Bin'] = df['Initial Call Type'].copy()"
   ]
  },
  {
   "cell_type": "code",
   "execution_count": null,
   "id": "a2c5b39d-9cc2-4d1e-b604-cc8ec4d4b7cd",
   "metadata": {},
   "outputs": [],
   "source": [
    "df['Initial Call Bin'] = df['Initial Call Bin'].replace('NA', 0)\n",
    "df['Initial Call Bin'] = df['Initial Call Bin'].map(lambda x: 1 if x!=0 else 0)"
   ]
  },
  {
   "cell_type": "code",
   "execution_count": null,
   "id": "9b9f9a63-91d9-4efc-8638-eaf821b82384",
   "metadata": {},
   "outputs": [],
   "source": [
    "df['Initial Call Bin'].value_counts()"
   ]
  },
  {
   "cell_type": "markdown",
   "id": "3a605c12-f97f-443c-b167-45b92d3bee95",
   "metadata": {},
   "source": [
    "## New Data Frame"
   ]
  },
  {
   "cell_type": "code",
   "execution_count": null,
   "id": "b1f2c918-5a9c-4dee-b0bd-b301f3b23043",
   "metadata": {},
   "outputs": [],
   "source": [
    "excluded = ['Officer ID','Final Call Type', 'Frisk Flag','Weapon Flag', \n",
    "             'Reported Year', 'Reported Month','Day of Month',\n",
    "             'Day of Week', 'Reported Hour', 'Beat Flag', 'Officer Age',\n",
    "            'Racial Affinity', 'Gender Affinity', 'Weapon Bins', 'Initial Call Type']"
   ]
  },
  {
   "cell_type": "code",
   "execution_count": null,
   "id": "a5e689ee-7f16-44ce-a4c7-1c82b412af05",
   "metadata": {},
   "outputs": [],
   "source": [
    "ICB_df = f.framer(df, [], excluded)"
   ]
  },
  {
   "cell_type": "code",
   "execution_count": null,
   "id": "df2d6dde-9dc6-497d-9184-332b0703c1df",
   "metadata": {},
   "outputs": [],
   "source": [
    "ICB_df.head(2)"
   ]
  },
  {
   "cell_type": "code",
   "execution_count": null,
   "id": "4a16fbb7-d35a-488e-bc73-d3d53bcb5836",
   "metadata": {},
   "outputs": [],
   "source": [
    "X, y = f.Xy(ICB_df)"
   ]
  },
  {
   "cell_type": "code",
   "execution_count": null,
   "id": "919068e8-feb0-49c3-81f2-ba6e02967a34",
   "metadata": {},
   "outputs": [],
   "source": [
    "X_train, X_test, y_train, y_test = f.splitter(X,y)"
   ]
  },
  {
   "cell_type": "markdown",
   "id": "586ae127-5503-4c46-aa27-aa2a44bd8717",
   "metadata": {},
   "source": [
    "## Testing Initial Call Type Binary"
   ]
  },
  {
   "cell_type": "code",
   "execution_count": null,
   "id": "1889830c-8588-4d6b-a8bd-68dc495d9b79",
   "metadata": {},
   "outputs": [],
   "source": [
    "baseline_nosmote.fit(X_train, y_train)"
   ]
  },
  {
   "cell_type": "markdown",
   "id": "73d29a99-183d-4d58-a2c1-9b736321e7de",
   "metadata": {},
   "source": [
    "## Scoring"
   ]
  },
  {
   "cell_type": "code",
   "execution_count": null,
   "id": "6e2751fd-4646-4815-ae7c-5000ec5dc43c",
   "metadata": {},
   "outputs": [],
   "source": [
    "#scoring the model\n",
    "f1_score(y_train, baseline_nosmote.predict(X_train))"
   ]
  },
  {
   "cell_type": "code",
   "execution_count": null,
   "id": "0ea7f118-2364-4d35-8863-a4840bff68bc",
   "metadata": {},
   "outputs": [],
   "source": [
    "# checking cross val scores\n",
    "modeling.report(baseline_nosmote, X_train, y_train, 'LR w/o SMOTE ', 'Dropped Nulls, Initial Call Binary')"
   ]
  },
  {
   "cell_type": "code",
   "execution_count": null,
   "id": "457b36f7-6137-4b69-9d90-86106ba2320f",
   "metadata": {},
   "outputs": [],
   "source": [
    "modeling.history"
   ]
  },
  {
   "cell_type": "markdown",
   "id": "394bf78d-5e6e-478f-aabe-7482a4dc1b7c",
   "metadata": {},
   "source": [
    "## Subsplit Test"
   ]
  },
  {
   "cell_type": "code",
   "execution_count": null,
   "id": "3bdbb3aa-d623-4f7e-a495-c4a090580b6c",
   "metadata": {},
   "outputs": [],
   "source": [
    "f.subsplit_test(X_train, y_train, baseline_nosmote)"
   ]
  },
  {
   "cell_type": "markdown",
   "id": "c9c73031-839d-4d07-8a9a-984f7dc2a2e6",
   "metadata": {},
   "source": [
    "## LR w/Initial Call Types Binary Score: F1=0.8793"
   ]
  },
  {
   "cell_type": "markdown",
   "id": "d16e36dd-4cde-463e-84f9-102109e0f9db",
   "metadata": {},
   "source": [
    "## Binning Call Types\n",
    "Binning into 911, OTHER, ONVIEW."
   ]
  },
  {
   "cell_type": "code",
   "execution_count": null,
   "id": "c0884b90-792f-45e2-940e-007dadbf1b87",
   "metadata": {},
   "outputs": [],
   "source": [
    "types = df['Call Type'].unique()"
   ]
  },
  {
   "cell_type": "code",
   "execution_count": null,
   "id": "106f0e4a-e534-43da-b67b-f85f772c58ef",
   "metadata": {},
   "outputs": [],
   "source": [
    "replace_list = [x for x in types if (x!='911') and (x!='ONVIEW')]"
   ]
  },
  {
   "cell_type": "code",
   "execution_count": null,
   "id": "86be591f-9f47-4af4-8ac8-424d67917226",
   "metadata": {},
   "outputs": [],
   "source": [
    "df['Call Type Bins'] = df['Call Type'].copy()"
   ]
  },
  {
   "cell_type": "code",
   "execution_count": null,
   "id": "f0e0a5a1-560b-4203-9f11-b1cedc4267fa",
   "metadata": {},
   "outputs": [],
   "source": [
    "df['Call Type Bins'] = df['Call Type Bins'].replace(replace_list, 'OTHER')"
   ]
  },
  {
   "cell_type": "code",
   "execution_count": null,
   "id": "9ed63c29-f3ef-4129-855f-04af359d838f",
   "metadata": {},
   "outputs": [],
   "source": [
    "df['Call Type Bins'].value_counts(normalize=True)"
   ]
  },
  {
   "cell_type": "code",
   "execution_count": null,
   "id": "b22445d5-7342-48b3-b9b3-c442c6dda886",
   "metadata": {},
   "outputs": [],
   "source": [
    "df.info()"
   ]
  },
  {
   "cell_type": "markdown",
   "id": "5711853d-ffff-4de1-b746-0a2e7fa92a39",
   "metadata": {},
   "source": [
    "## New Data Frame"
   ]
  },
  {
   "cell_type": "code",
   "execution_count": null,
   "id": "c48172a6-50ce-41f8-ac5f-9bf97ab838ba",
   "metadata": {},
   "outputs": [],
   "source": [
    "excluded = ['Officer ID','Final Call Type', 'Frisk Flag','Weapon Flag', \n",
    "             'Reported Year', 'Reported Month','Day of Month',\n",
    "             'Day of Week', 'Reported Hour', 'Beat Flag', 'Officer Age',\n",
    "            'Racial Affinity', 'Gender Affinity', 'Weapon Bins', \n",
    "            'Initial Call Bin','Call Type']"
   ]
  },
  {
   "cell_type": "code",
   "execution_count": null,
   "id": "ee5f8706-f5f1-4d18-8785-a0f1dd80500f",
   "metadata": {},
   "outputs": [],
   "source": [
    "BCT_df = f.framer(df, [], excluded)"
   ]
  },
  {
   "cell_type": "code",
   "execution_count": null,
   "id": "fa2474f8-904c-4ea2-9908-66a556be1518",
   "metadata": {},
   "outputs": [],
   "source": [
    "BCT_df.head(2)"
   ]
  },
  {
   "cell_type": "code",
   "execution_count": null,
   "id": "93eb492b-c437-4d6e-8acb-7c59665f60d5",
   "metadata": {},
   "outputs": [],
   "source": [
    "X, y = f.Xy(BCT_df)"
   ]
  },
  {
   "cell_type": "code",
   "execution_count": null,
   "id": "3189a338-84a9-41a3-8dc4-50c4faabe839",
   "metadata": {},
   "outputs": [],
   "source": [
    "X_train, X_test, y_train, y_test = f.splitter(X,y)"
   ]
  },
  {
   "cell_type": "markdown",
   "id": "284d355d-6cf7-4366-84ee-ec7f5dc60397",
   "metadata": {},
   "source": [
    "## Testing Call Type Bins"
   ]
  },
  {
   "cell_type": "code",
   "execution_count": null,
   "id": "403f6f75-65c1-43b6-aaba-0b939a184577",
   "metadata": {},
   "outputs": [],
   "source": [
    "baseline_nosmote.fit(X_train, y_train)"
   ]
  },
  {
   "cell_type": "markdown",
   "id": "28c955f0-e548-4e08-bb13-7525a79792f6",
   "metadata": {},
   "source": [
    "## Scoring"
   ]
  },
  {
   "cell_type": "code",
   "execution_count": null,
   "id": "a3960d9a-4213-413d-aeb7-a599b93d2bcc",
   "metadata": {},
   "outputs": [],
   "source": [
    "#scoring the model\n",
    "f1_score(y_train,baseline_nosmote.predict(X_train))"
   ]
  },
  {
   "cell_type": "code",
   "execution_count": null,
   "id": "242567e4-9245-4b48-b326-7e6b815e3eed",
   "metadata": {},
   "outputs": [],
   "source": [
    "# checking cross val scores\n",
    "modeling.report(baseline_nosmote, X_train, y_train, 'LR w/o SMOTE ', 'Dropped Nulls, call type bins')"
   ]
  },
  {
   "cell_type": "code",
   "execution_count": null,
   "id": "a836a68e-4625-47b2-b8af-2dc88623d335",
   "metadata": {},
   "outputs": [],
   "source": [
    "modeling.history"
   ]
  },
  {
   "cell_type": "markdown",
   "id": "e69111dd-11b4-474f-9985-600e4edf378b",
   "metadata": {},
   "source": [
    "## Subsplits"
   ]
  },
  {
   "cell_type": "code",
   "execution_count": null,
   "id": "52099945-f1b2-4b08-9330-224188a3af17",
   "metadata": {},
   "outputs": [],
   "source": [
    "f.subsplit_test(X_train, y_train, baseline_nosmote)"
   ]
  },
  {
   "cell_type": "markdown",
   "id": "80e95c80-99da-4765-87f2-333c5047818c",
   "metadata": {},
   "source": [
    "## LR w/Call Type Bins Score: F1=0.884391"
   ]
  },
  {
   "cell_type": "markdown",
   "id": "07ca32d4-b22e-4da6-8d4d-5ea22aa5f004",
   "metadata": {},
   "source": [
    "## Binning the Squad Data\n",
    "The squads look like they can be binned into precinct goups, a training group and an group of smaller precincts. "
   ]
  },
  {
   "cell_type": "code",
   "execution_count": null,
   "id": "723f2c7b-cd95-41df-a09b-9878a89b9e8e",
   "metadata": {},
   "outputs": [],
   "source": [
    "df['Officer Squad Bins'] = df['Officer Squad'].copy()"
   ]
  },
  {
   "cell_type": "code",
   "execution_count": null,
   "id": "ba022505-8b52-49ab-8cc8-a62640eea254",
   "metadata": {},
   "outputs": [],
   "source": [
    "df['Officer Squad Bins'] = df['Officer Squad Bins'].map(lambda x: x[0])"
   ]
  },
  {
   "cell_type": "code",
   "execution_count": null,
   "id": "8521236f-115f-4215-8146-af5f649ead66",
   "metadata": {},
   "outputs": [],
   "source": [
    "df['Officer Squad Bins'].value_counts(normalize=True)"
   ]
  },
  {
   "cell_type": "code",
   "execution_count": null,
   "id": "492449a5-fb32-4f26-979f-69b967a28076",
   "metadata": {
    "tags": []
   },
   "outputs": [],
   "source": [
    "proportions = df['Officer Squad Bins'].value_counts(normalize=True)\n",
    "cutoff_idx = proportions.loc[proportions < .02].index\n",
    "for i in cutoff_idx:\n",
    "    df['Officer Squad Bins'].replace(i, 'OTHER', inplace=True)"
   ]
  },
  {
   "cell_type": "code",
   "execution_count": null,
   "id": "2e1107db-0e21-464f-b132-0b33ce520c66",
   "metadata": {},
   "outputs": [],
   "source": [
    "df['Officer Squad Bins'].value_counts()"
   ]
  },
  {
   "cell_type": "markdown",
   "id": "1088c584-de71-412f-9194-8db7e4638ae9",
   "metadata": {},
   "source": [
    "## New Data Frame"
   ]
  },
  {
   "cell_type": "code",
   "execution_count": null,
   "id": "aedb04f6-07e9-45df-baae-015c4542ba85",
   "metadata": {},
   "outputs": [],
   "source": [
    "excluded = ['Officer ID','Final Call Type', 'Frisk Flag','Weapon Flag', \n",
    "             'Reported Year', 'Reported Month','Day of Month',\n",
    "             'Day of Week', 'Reported Hour', 'Beat Flag', 'Officer Age',\n",
    "            'Racial Affinity', 'Gender Affinity', 'Weapon Bins', \n",
    "            'Initial Call Bin','Call Type Bins', 'Officer Squad']"
   ]
  },
  {
   "cell_type": "code",
   "execution_count": null,
   "id": "2d689efc-ba33-4b7e-bce6-f9c6d125c4aa",
   "metadata": {},
   "outputs": [],
   "source": [
    "BSQ_df = f.framer(df, [], excluded)"
   ]
  },
  {
   "cell_type": "code",
   "execution_count": null,
   "id": "23b738a4-ceb8-4af2-9fbb-6ea6680975ca",
   "metadata": {},
   "outputs": [],
   "source": [
    "BSQ_df.head(2)"
   ]
  },
  {
   "cell_type": "code",
   "execution_count": null,
   "id": "34808816-a3dc-486f-8556-b79e394fb2e7",
   "metadata": {},
   "outputs": [],
   "source": [
    "X, y = f.Xy(BSQ_df)"
   ]
  },
  {
   "cell_type": "code",
   "execution_count": null,
   "id": "4112b517-64a0-4c34-a357-cd57c2a67627",
   "metadata": {},
   "outputs": [],
   "source": [
    "X_train, X_test, y_train, y_test = f.splitter(X,y)"
   ]
  },
  {
   "cell_type": "markdown",
   "id": "fb693ad0-3b2a-410b-8600-04be833cd884",
   "metadata": {},
   "source": [
    "## Testing Precinct Bins"
   ]
  },
  {
   "cell_type": "code",
   "execution_count": null,
   "id": "a3f5cc94-3d33-44ab-a8cc-c9609e2e55dc",
   "metadata": {},
   "outputs": [],
   "source": [
    "baseline_nosmote.fit(X_train, y_train)"
   ]
  },
  {
   "cell_type": "markdown",
   "id": "5f966707-141b-4ff0-8075-3cd085c3c66f",
   "metadata": {},
   "source": [
    "## Scoring"
   ]
  },
  {
   "cell_type": "code",
   "execution_count": null,
   "id": "16594789-f494-467c-a6ec-702ee984f9da",
   "metadata": {},
   "outputs": [],
   "source": [
    "#scoring the model\n",
    "f1_score(y_train, baseline_nosmote.predict(X_train))"
   ]
  },
  {
   "cell_type": "code",
   "execution_count": null,
   "id": "d67e7a33-697f-4137-a498-21042f4c2a55",
   "metadata": {},
   "outputs": [],
   "source": [
    "# checking cross val scores\n",
    "modeling.report(baseline_nosmote, X_train, y_train, 'LR w/o SMOTE', 'Dropped Nulls, Squad Bins')"
   ]
  },
  {
   "cell_type": "code",
   "execution_count": null,
   "id": "c4b45a2f-dddb-4f7d-9c32-598d0e0de5e4",
   "metadata": {},
   "outputs": [],
   "source": [
    "modeling.history"
   ]
  },
  {
   "cell_type": "markdown",
   "id": "9d8aaf3f-e0df-4869-9899-43f19980691e",
   "metadata": {},
   "source": [
    "## Subsplits"
   ]
  },
  {
   "cell_type": "code",
   "execution_count": null,
   "id": "34ab5b3e-dbff-4943-89f5-e7a293055bc6",
   "metadata": {},
   "outputs": [],
   "source": [
    "f.subsplit_test(X_train, y_train, baseline_nosmote)"
   ]
  },
  {
   "cell_type": "markdown",
   "id": "8b352828-90b7-4345-9d57-bce371548495",
   "metadata": {},
   "source": [
    "## LR w/Precinct Bins Score: F1=0.883155"
   ]
  },
  {
   "cell_type": "markdown",
   "id": "96502869-3165-4601-b85d-e0638f851da4",
   "metadata": {},
   "source": [
    "## Binarizing Officer Race\n",
    "Binarizing into White and Non-White."
   ]
  },
  {
   "cell_type": "code",
   "execution_count": null,
   "id": "90d8fb74-f707-4385-862e-93ebafac654f",
   "metadata": {},
   "outputs": [],
   "source": [
    "df['Officer Race Bins'] = df['Officer Race'].copy()"
   ]
  },
  {
   "cell_type": "code",
   "execution_count": null,
   "id": "8d901c28-1571-47cb-8653-537fcae8d766",
   "metadata": {},
   "outputs": [],
   "source": [
    "df['Officer Race Bins'].replace('White', 1, inplace=True)"
   ]
  },
  {
   "cell_type": "code",
   "execution_count": null,
   "id": "eb8f6497-0858-4889-80f0-48f6449552c2",
   "metadata": {},
   "outputs": [],
   "source": [
    "df['Officer Race Bins'] = df['Officer Race Bins'].apply(lambda x: 0 if x!=1 else 1)"
   ]
  },
  {
   "cell_type": "code",
   "execution_count": null,
   "id": "dc32fb0d-826e-46d8-b737-e4c0a9303fd5",
   "metadata": {},
   "outputs": [],
   "source": [
    "df['Officer Race Bins'].value_counts()"
   ]
  },
  {
   "cell_type": "code",
   "execution_count": null,
   "id": "a953296d-cd3b-4917-8d86-456b9830ab0b",
   "metadata": {},
   "outputs": [],
   "source": [
    "df['Officer Race Bins'].value_counts(normalize=True)"
   ]
  },
  {
   "cell_type": "markdown",
   "id": "6129d8c3-d695-40aa-8b6c-d108586a29f3",
   "metadata": {},
   "source": [
    "## New Data Frame"
   ]
  },
  {
   "cell_type": "code",
   "execution_count": null,
   "id": "7bf5ba43-5ce0-4a3f-be2f-0d702fe45b5a",
   "metadata": {},
   "outputs": [],
   "source": [
    "excluded = ['Officer ID','Final Call Type', 'Frisk Flag','Weapon Flag', \n",
    "             'Reported Year', 'Reported Month','Day of Month',\n",
    "             'Day of Week', 'Reported Hour', 'Beat Flag', 'Officer Age',\n",
    "            'Racial Affinity', 'Gender Affinity', 'Weapon Bins', \n",
    "            'Initial Call Bin','Call Type Bins', 'Officer Squad Bins',\n",
    "            'Officer Race']"
   ]
  },
  {
   "cell_type": "code",
   "execution_count": null,
   "id": "b043feba-b9ac-48c1-980d-4957cac57ce0",
   "metadata": {},
   "outputs": [],
   "source": [
    "ORB_df = f.framer(df, [], excluded)"
   ]
  },
  {
   "cell_type": "code",
   "execution_count": null,
   "id": "6980d7e9-68fa-4d52-af6a-da8265207d64",
   "metadata": {},
   "outputs": [],
   "source": [
    "ORB_df.head(2)"
   ]
  },
  {
   "cell_type": "code",
   "execution_count": null,
   "id": "905ab93c-05d7-4265-8982-554f0f8d7dfa",
   "metadata": {},
   "outputs": [],
   "source": [
    "X, y = f.Xy(ORB_df)"
   ]
  },
  {
   "cell_type": "code",
   "execution_count": null,
   "id": "aa54ef78-f383-4c9a-829b-f2c6f5eb4333",
   "metadata": {},
   "outputs": [],
   "source": [
    "X_train, X_test, y_train, y_test = f.splitter(X,y)"
   ]
  },
  {
   "cell_type": "markdown",
   "id": "e20be1f6-4f47-4d9c-b822-671186ae3b21",
   "metadata": {},
   "source": [
    "## Testing Officer Race Binary"
   ]
  },
  {
   "cell_type": "code",
   "execution_count": null,
   "id": "f3c8876f-2fc4-45cc-b935-f26e82351d38",
   "metadata": {},
   "outputs": [],
   "source": [
    "baseline_nosmote.fit(X_train, y_train)"
   ]
  },
  {
   "cell_type": "markdown",
   "id": "8ad4e3d7-313c-4e6c-afd1-603dd5fbd680",
   "metadata": {},
   "source": [
    "## Scoring"
   ]
  },
  {
   "cell_type": "code",
   "execution_count": null,
   "id": "4e368cea-2df8-4b9d-95cd-0d6aff180f93",
   "metadata": {},
   "outputs": [],
   "source": [
    "#scoring the model\n",
    "f1_score(y_train, baseline_nosmote.predict(X_train))"
   ]
  },
  {
   "cell_type": "code",
   "execution_count": null,
   "id": "6c3ee74c-61d7-42bc-a0ba-0472933d3649",
   "metadata": {},
   "outputs": [],
   "source": [
    "# checking cross val scores\n",
    "modeling.report(baseline_nosmote, X_train, y_train, 'LR w/o SMOTE', 'Dropped Nulls, Officer Race Bins')"
   ]
  },
  {
   "cell_type": "code",
   "execution_count": null,
   "id": "d5a97897-b722-44db-a279-ad0eadb87483",
   "metadata": {},
   "outputs": [],
   "source": [
    "modeling.history"
   ]
  },
  {
   "cell_type": "markdown",
   "id": "6b29417e-d071-4113-a011-b708b2c05f17",
   "metadata": {},
   "source": [
    "## Subsplits"
   ]
  },
  {
   "cell_type": "code",
   "execution_count": null,
   "id": "60c6ff4b-c9f4-4754-80c0-9e347f8e1598",
   "metadata": {},
   "outputs": [],
   "source": [
    "f.subsplit_test(X_train, y_train, baseline_nosmote)"
   ]
  },
  {
   "cell_type": "markdown",
   "id": "e31b239d-fa33-43ae-b556-89a4d024c6f1",
   "metadata": {},
   "source": [
    "## LR w/Officer Race Binary Score: F1=0.885071"
   ]
  },
  {
   "cell_type": "markdown",
   "id": "6b60922f-ada9-466f-a898-2833b09f3106",
   "metadata": {},
   "source": [
    "## Testing on Top Features w/o Time\n",
    "Test LR with features that perfomed better than the baseline features."
   ]
  },
  {
   "cell_type": "markdown",
   "id": "1ceaec59-e727-481f-99fa-7c640a8165a5",
   "metadata": {},
   "source": [
    "## New Data Frame"
   ]
  },
  {
   "cell_type": "code",
   "execution_count": null,
   "id": "2ec49359-581d-4cda-95c3-dd1a2b68df30",
   "metadata": {},
   "outputs": [],
   "source": [
    "# features engineered during eda\n",
    "feature_list = ['Weapon Flag', 'Reported Year', 'Reported Month',\n",
    "                'Day of Month', 'Day of Week', 'Reported Hour']"
   ]
  },
  {
   "cell_type": "code",
   "execution_count": null,
   "id": "e1c55fd4-a3b2-4a1e-9813-d4449794517f",
   "metadata": {},
   "outputs": [],
   "source": [
    "excluded = ['Officer ID','Final Call Type', 'Frisk Flag','Weapon Flag', \n",
    "             'Reported Year', 'Reported Month','Day of Month',\n",
    "             'Day of Week', 'Reported Hour', 'Beat Flag', 'Officer Age',\n",
    "            'Weapon Bins', 'Officer Race',\n",
    "            'Initial Call Bin']"
   ]
  },
  {
   "cell_type": "code",
   "execution_count": null,
   "id": "c265cf52-4aaa-43fb-b382-1908d440095b",
   "metadata": {},
   "outputs": [],
   "source": [
    "df_6 = f.framer(df, [], excluded)"
   ]
  },
  {
   "cell_type": "code",
   "execution_count": null,
   "id": "524cf932-b3b8-4303-b278-7255f172f747",
   "metadata": {},
   "outputs": [],
   "source": [
    "df_6.head(2)"
   ]
  },
  {
   "cell_type": "code",
   "execution_count": null,
   "id": "3a3200f9-b85e-4b1a-93e3-9262234e1183",
   "metadata": {},
   "outputs": [],
   "source": [
    "df_6.info()"
   ]
  },
  {
   "cell_type": "code",
   "execution_count": null,
   "id": "131c9d7b-fd6c-44e5-9d8a-b4725fc92090",
   "metadata": {},
   "outputs": [],
   "source": [
    "X, y = f.Xy(df_6)"
   ]
  },
  {
   "cell_type": "code",
   "execution_count": null,
   "id": "41bb7aba-a4cd-4931-9332-3cfa14e06193",
   "metadata": {},
   "outputs": [],
   "source": [
    "X_train, X_test, y_train, y_test = f.splitter(X,y)"
   ]
  },
  {
   "cell_type": "markdown",
   "id": "cf73cef6-2470-4167-b5d7-cfd794293a13",
   "metadata": {},
   "source": [
    "## Testing"
   ]
  },
  {
   "cell_type": "code",
   "execution_count": null,
   "id": "61dbabc0-680e-41ab-a670-edcb699d0ed8",
   "metadata": {},
   "outputs": [],
   "source": [
    "baseline_nosmote.fit(X_train, y_train)"
   ]
  },
  {
   "cell_type": "markdown",
   "id": "b06f8eed-cff7-4adb-b80f-e9eac6e1d1fe",
   "metadata": {},
   "source": [
    "## Scoring"
   ]
  },
  {
   "cell_type": "code",
   "execution_count": null,
   "id": "0abedfc1-c4e9-4b67-8695-4e8154dbb282",
   "metadata": {},
   "outputs": [],
   "source": [
    "#scoring the model\n",
    "f1_score(y_train, baseline_nosmote.predict(X_train))"
   ]
  },
  {
   "cell_type": "code",
   "execution_count": null,
   "id": "f5c88d99-4088-4ec6-9049-5932927a79e8",
   "metadata": {},
   "outputs": [],
   "source": [
    "# checking cross val scores\n",
    "modeling.report(baseline_nosmote, X_train, y_train,\\\n",
    "                'LR w/o SMOTE', 'Top Features w/o Time, Dropped Nulls')"
   ]
  },
  {
   "cell_type": "code",
   "execution_count": null,
   "id": "9ce56501-5928-4abf-ae67-3b936547bcad",
   "metadata": {},
   "outputs": [],
   "source": [
    "modeling.history"
   ]
  },
  {
   "cell_type": "markdown",
   "id": "e761c354-3745-4f41-bd87-7d41eb9c69cc",
   "metadata": {},
   "source": [
    "## Testing on Sub-Splits"
   ]
  },
  {
   "cell_type": "code",
   "execution_count": null,
   "id": "57b08906-387f-41ca-b8e7-37431e87e035",
   "metadata": {},
   "outputs": [],
   "source": [
    "f.subsplit_test(X_train, y_train, baseline_nosmote)"
   ]
  },
  {
   "cell_type": "markdown",
   "id": "28bfa498-1f19-42ec-9ff7-b2e434b59241",
   "metadata": {},
   "source": [
    "## LR Top Features w/o Time Score: F1=0.884919"
   ]
  },
  {
   "cell_type": "markdown",
   "id": "dd4d71f8-2525-4ee3-b96a-2bbcb261e867",
   "metadata": {},
   "source": [
    "## Testing on All Features w/o Time"
   ]
  },
  {
   "cell_type": "markdown",
   "id": "0a847566-9acd-479d-aaea-bfea27ded0cc",
   "metadata": {},
   "source": [
    "## New Data Frame"
   ]
  },
  {
   "cell_type": "code",
   "execution_count": null,
   "id": "a37e3361-663b-468f-adc8-5998f7e75030",
   "metadata": {},
   "outputs": [],
   "source": [
    "# Dropping Subject Age Nulls\n",
    "df = df[(df['Subject Perceived Race']!='NA') &\\\n",
    "            (df['Officer Race']!='NA') &\\\n",
    "           (df['Subject Age Group']!='NA')]"
   ]
  },
  {
   "cell_type": "code",
   "execution_count": null,
   "id": "2e33ec1f-9f1b-4824-95ae-3819121e9df6",
   "metadata": {},
   "outputs": [],
   "source": [
    "# features engineered during eda\n",
    "feature_list = ['Weapon Flag', 'Reported Year', 'Reported Month',\n",
    "                'Day of Month', 'Day of Week', 'Reported Hour']"
   ]
  },
  {
   "cell_type": "code",
   "execution_count": null,
   "id": "68a890b9-d880-4d0c-af4c-094844a15ed5",
   "metadata": {},
   "outputs": [],
   "source": [
    "excluded = ['Officer ID','Final Call Type', 'Frisk Flag','Weapon Flag',\n",
    "           'Reported Year', 'Reported Month', 'Day of Month', 'Day of Week', 'Reported Hour']"
   ]
  },
  {
   "cell_type": "code",
   "execution_count": null,
   "id": "b5e38c4a-42ba-4b17-a1f7-86f20542396e",
   "metadata": {},
   "outputs": [],
   "source": [
    "df_7 = f.framer(df, [], excluded)"
   ]
  },
  {
   "cell_type": "code",
   "execution_count": null,
   "id": "9e0ea88c-7c2b-4d9c-a15f-f1069690aae1",
   "metadata": {},
   "outputs": [],
   "source": [
    "df_7.head(2)"
   ]
  },
  {
   "cell_type": "code",
   "execution_count": null,
   "id": "78645763-ef39-46ee-a4d8-cb455085b04b",
   "metadata": {},
   "outputs": [],
   "source": [
    "df_7.info()"
   ]
  },
  {
   "cell_type": "code",
   "execution_count": null,
   "id": "c20c6e91-9306-499d-96a3-6b40d031caa7",
   "metadata": {},
   "outputs": [],
   "source": [
    "X, y = f.Xy(df_7)"
   ]
  },
  {
   "cell_type": "code",
   "execution_count": null,
   "id": "e21398d4-7b0e-41f5-86c8-1fe53e507182",
   "metadata": {},
   "outputs": [],
   "source": [
    "X_train, X_test, y_train, y_test = f.splitter(X,y)"
   ]
  },
  {
   "cell_type": "markdown",
   "id": "5e167e89-800f-4f63-bf41-ea7474c6bc33",
   "metadata": {},
   "source": [
    "## Testing LR All Features w/o Time"
   ]
  },
  {
   "cell_type": "code",
   "execution_count": null,
   "id": "9996ad1c-f869-4dbc-8a2e-7ceb26d5a8cb",
   "metadata": {},
   "outputs": [],
   "source": [
    "baseline_nosmote.fit(X_train, y_train)"
   ]
  },
  {
   "cell_type": "markdown",
   "id": "92fe10cd-d7fb-4565-8da2-a5100ad66be1",
   "metadata": {},
   "source": [
    "## Scoring"
   ]
  },
  {
   "cell_type": "code",
   "execution_count": null,
   "id": "d37bd071-d147-468b-b692-a764623b65ab",
   "metadata": {},
   "outputs": [],
   "source": [
    "#scoring the model\n",
    "f1_score(y_train,baseline_nosmote.predict(X_train))"
   ]
  },
  {
   "cell_type": "code",
   "execution_count": null,
   "id": "f93cec08-0a2c-4252-8141-0e766d38636e",
   "metadata": {},
   "outputs": [],
   "source": [
    "# checking cross val scores\n",
    "modeling.report(baseline_nosmote, X_train, y_train,'LR w/o SMOTE', 'All Features w/o Time, Dropped Nulls')"
   ]
  },
  {
   "cell_type": "code",
   "execution_count": null,
   "id": "649ae4c9-f7d7-4f8a-a4e9-911de8298345",
   "metadata": {},
   "outputs": [],
   "source": [
    "modeling.history"
   ]
  },
  {
   "cell_type": "markdown",
   "id": "b3010db8-0fb7-48ba-8540-c502515fb784",
   "metadata": {},
   "source": [
    "## Testing on Sub-Splits"
   ]
  },
  {
   "cell_type": "code",
   "execution_count": null,
   "id": "559214ee-3b83-4765-8d58-1da3b4309fee",
   "metadata": {},
   "outputs": [],
   "source": [
    "f.subsplit_test(X_train, y_train, baseline_nosmote)"
   ]
  },
  {
   "cell_type": "markdown",
   "id": "bfb9f372-5f5a-4ab8-b5df-159f0c5394d7",
   "metadata": {},
   "source": [
    "## LR All Features w/o Time Score: F1=0.8881"
   ]
  },
  {
   "cell_type": "markdown",
   "id": "3039a688-e3ed-432d-99b0-721e63c768d8",
   "metadata": {},
   "source": [
    "## Testing Top Features w/o Time Dropped Subject Age"
   ]
  },
  {
   "cell_type": "markdown",
   "id": "a7bec071-1436-4969-8b10-523cadb5d5fc",
   "metadata": {},
   "source": [
    "## New Data Frame"
   ]
  },
  {
   "cell_type": "code",
   "execution_count": null,
   "id": "ac899837-cd5f-48eb-8736-aaf59edefc41",
   "metadata": {},
   "outputs": [],
   "source": [
    "# Dropping Subject Age Nulls\n",
    "df = df[(df['Subject Perceived Race']!='NA') &\\\n",
    "            (df['Officer Race']!='NA') &\\\n",
    "           (df['Subject Age Group']!='NA')]"
   ]
  },
  {
   "cell_type": "code",
   "execution_count": null,
   "id": "12db7c60-5379-41fd-867e-ca104c12fd19",
   "metadata": {},
   "outputs": [],
   "source": [
    "# features engineered during eda\n",
    "feature_list = ['Weapon Flag', 'Reported Year', 'Reported Month',\n",
    "                'Day of Month', 'Day of Week', 'Reported Hour']"
   ]
  },
  {
   "cell_type": "code",
   "execution_count": null,
   "id": "cc96611d-b7ec-40c1-b8c8-17ed544f5dbf",
   "metadata": {},
   "outputs": [],
   "source": [
    "excluded = ['Officer ID','Final Call Type', 'Frisk Flag','Weapon Flag', \n",
    "             'Reported Year', 'Reported Month','Day of Month',\n",
    "             'Day of Week', 'Reported Hour', 'Beat Flag', 'Officer Age',\n",
    "            'Weapon Bins', 'Officer Race',\n",
    "            'Initial Call Bin']"
   ]
  },
  {
   "cell_type": "code",
   "execution_count": null,
   "id": "d22e404d-6f61-4785-ac74-0a5901408e1b",
   "metadata": {},
   "outputs": [],
   "source": [
    "df_8 = f.framer(df, [], excluded)"
   ]
  },
  {
   "cell_type": "code",
   "execution_count": null,
   "id": "c5fbb138-7382-4d8b-9329-b4da23477567",
   "metadata": {},
   "outputs": [],
   "source": [
    "df_8.head(2)"
   ]
  },
  {
   "cell_type": "code",
   "execution_count": null,
   "id": "42576742-4c25-4c1b-bb21-d9dfa1aa2ded",
   "metadata": {},
   "outputs": [],
   "source": [
    "df_8.info()"
   ]
  },
  {
   "cell_type": "code",
   "execution_count": null,
   "id": "f390a392-3ebb-4be1-aec0-153752be915e",
   "metadata": {},
   "outputs": [],
   "source": [
    "X, y = f.Xy(df_8)"
   ]
  },
  {
   "cell_type": "code",
   "execution_count": null,
   "id": "55a78999-e9a3-4734-8e08-1d419e27ed95",
   "metadata": {},
   "outputs": [],
   "source": [
    "X_train, X_test, y_train, y_test = f.splitter(X,y)"
   ]
  },
  {
   "cell_type": "markdown",
   "id": "48dfe6cf-328e-49c7-a02f-535d2dbf749a",
   "metadata": {},
   "source": [
    "## Testing"
   ]
  },
  {
   "cell_type": "code",
   "execution_count": null,
   "id": "a56d626d-f33e-4b77-9392-d689be25271f",
   "metadata": {},
   "outputs": [],
   "source": [
    "baseline_nosmote.fit(X_train, y_train)"
   ]
  },
  {
   "cell_type": "markdown",
   "id": "64f2a23a-b245-4f06-a6e3-dc8a10b8d074",
   "metadata": {},
   "source": [
    "## Scoring"
   ]
  },
  {
   "cell_type": "code",
   "execution_count": null,
   "id": "2665ab99-e78a-4c42-b05c-902fda5637cd",
   "metadata": {},
   "outputs": [],
   "source": [
    "#scoring the model\n",
    "f1_score(y_train, baseline_nosmote.predict(X_train))"
   ]
  },
  {
   "cell_type": "code",
   "execution_count": null,
   "id": "9955279f-bc42-4268-bbdc-c5ff669bd604",
   "metadata": {},
   "outputs": [],
   "source": [
    "# checking cross val scores\n",
    "modeling.report(baseline_nosmote, X_train, y_train,\\\n",
    "                'LR w/o SMOTE', 'Top Features w/o Time, Dpd Nulls Race, Age')"
   ]
  },
  {
   "cell_type": "code",
   "execution_count": null,
   "id": "23dbabd8-f0b5-42f2-8cc4-17d718fe3f05",
   "metadata": {},
   "outputs": [],
   "source": [
    "modeling.history"
   ]
  },
  {
   "cell_type": "markdown",
   "id": "a2c7853f-403e-41c8-bd3a-56ed7dba6f22",
   "metadata": {},
   "source": [
    "## Testing on Sub-Splits"
   ]
  },
  {
   "cell_type": "code",
   "execution_count": null,
   "id": "c4c1c059-9ad3-4572-a6db-d57e8b14fd3c",
   "metadata": {},
   "outputs": [],
   "source": [
    "f.subsplit_test(X_train, y_train, baseline_nosmote)"
   ]
  },
  {
   "cell_type": "markdown",
   "id": "b19eb2c3-67c2-46bf-8dea-79e3d99bc6ef",
   "metadata": {},
   "source": [
    "## LR Top Features Dropped Subject Age Score: F1=0.888438"
   ]
  },
  {
   "cell_type": "markdown",
   "id": "a812df71-ff75-4443-b558-c62ef6b3d636",
   "metadata": {},
   "source": [
    "## Testing on All Features w/o Time Dropped Subject Age"
   ]
  },
  {
   "cell_type": "markdown",
   "id": "5c4e5b7b-d1d4-4e77-9143-cb7feda6eeda",
   "metadata": {},
   "source": [
    "## Data Frame"
   ]
  },
  {
   "cell_type": "code",
   "execution_count": null,
   "id": "bc06b89b-6ced-417e-bd77-eb533b3564b4",
   "metadata": {},
   "outputs": [],
   "source": [
    "# Dropping Subject Age Nulls\n",
    "df = df[(df['Subject Perceived Race']!='NA') &\\\n",
    "            (df['Officer Race']!='NA') &\\\n",
    "           (df['Subject Age Group']!='NA')]"
   ]
  },
  {
   "cell_type": "code",
   "execution_count": null,
   "id": "b4cad2d3-704f-4761-ad67-1f83f86424c4",
   "metadata": {},
   "outputs": [],
   "source": [
    "# features engineered during eda\n",
    "feature_list = ['Weapon Flag', 'Reported Year', 'Reported Month',\n",
    "                'Day of Month', 'Day of Week', 'Reported Hour']"
   ]
  },
  {
   "cell_type": "code",
   "execution_count": null,
   "id": "e6e50216-55c2-45cc-ab77-27b8c0ef5eb0",
   "metadata": {},
   "outputs": [],
   "source": [
    "excluded = ['Officer ID','Final Call Type', 'Frisk Flag','Weapon Flag',\n",
    "           'Reported Year', 'Reported Month', 'Day of Month', 'Day of Week', 'Reported Hour']"
   ]
  },
  {
   "cell_type": "code",
   "execution_count": null,
   "id": "5efd5e72-ec33-4e57-8129-01e0042508b1",
   "metadata": {},
   "outputs": [],
   "source": [
    "df_9 = f.framer(df, [], excluded)"
   ]
  },
  {
   "cell_type": "code",
   "execution_count": null,
   "id": "1e9663fd-b5ab-45b4-a0e2-a648a33351c7",
   "metadata": {},
   "outputs": [],
   "source": [
    "df_9.head(2)"
   ]
  },
  {
   "cell_type": "code",
   "execution_count": null,
   "id": "0428d7c4-dac1-41fc-b36e-d99bca1a6495",
   "metadata": {},
   "outputs": [],
   "source": [
    "df_9.info()"
   ]
  },
  {
   "cell_type": "code",
   "execution_count": null,
   "id": "f7f088a8-2396-42fc-9bd8-72fb1934f200",
   "metadata": {},
   "outputs": [],
   "source": [
    "X, y = f.Xy(df_9)"
   ]
  },
  {
   "cell_type": "code",
   "execution_count": null,
   "id": "957e0d85-c232-4b50-b63c-639f9b5e9e67",
   "metadata": {},
   "outputs": [],
   "source": [
    "X_train, X_test, y_train, y_test = f.splitter(X,y)"
   ]
  },
  {
   "cell_type": "markdown",
   "id": "68cb3052-3bea-4c2f-8a69-97b5eb1c47a0",
   "metadata": {},
   "source": [
    "## Testing"
   ]
  },
  {
   "cell_type": "code",
   "execution_count": null,
   "id": "37e348ac-243a-445f-bd3d-cfad0243b19c",
   "metadata": {},
   "outputs": [],
   "source": [
    "baseline_nosmote.fit(X_train, y_train)"
   ]
  },
  {
   "cell_type": "markdown",
   "id": "6949dbc1-59a5-479e-8746-c1e9eb007ea7",
   "metadata": {},
   "source": [
    "## Scoring"
   ]
  },
  {
   "cell_type": "code",
   "execution_count": null,
   "id": "e09988a4-55b1-4f89-a37f-5e3c5423e873",
   "metadata": {},
   "outputs": [],
   "source": [
    "#scoring the model\n",
    "f1_score(y_train, baseline_nosmote.predict(X_train))"
   ]
  },
  {
   "cell_type": "code",
   "execution_count": null,
   "id": "d11d9e93-55f0-4378-a9d2-30e96404318a",
   "metadata": {},
   "outputs": [],
   "source": [
    "# checking cross val scores\n",
    "modeling.report(baseline_nosmote, X_train, y_train,\\\n",
    "                'LR w/o SMOTE', 'All Features w/o Time, Dpd Nulls Race, Age')"
   ]
  },
  {
   "cell_type": "code",
   "execution_count": null,
   "id": "27b42939-358c-4edc-a414-aa1fb1641a78",
   "metadata": {},
   "outputs": [],
   "source": [
    "modeling.history"
   ]
  },
  {
   "cell_type": "markdown",
   "id": "546d8a2e-f5b7-4e73-baae-93838a1d3a9a",
   "metadata": {},
   "source": [
    "## Testing on Sub-Splits"
   ]
  },
  {
   "cell_type": "code",
   "execution_count": null,
   "id": "30682c53-4f13-4008-8627-2a68a800715e",
   "metadata": {},
   "outputs": [],
   "source": [
    "f.subsplit_test(X_train, y_train, baseline_smote)"
   ]
  },
  {
   "cell_type": "markdown",
   "id": "0efa6eab-fec1-48d1-922e-391bf6827b52",
   "metadata": {},
   "source": [
    "## LR All Features Dropped Subject Age Nulls Score: F1=0.876283"
   ]
  },
  {
   "cell_type": "markdown",
   "id": "1e67d07c-cf9e-4c47-9a6f-aeecab68de0a",
   "metadata": {},
   "source": [
    "## Grid Searching Parameters"
   ]
  },
  {
   "cell_type": "code",
   "execution_count": null,
   "id": "aa0cd39d-881f-49e7-8250-bd4997b7d69f",
   "metadata": {},
   "outputs": [],
   "source": [
    "# C = np.logspace(-4, 2, 20)\n",
    "# penalty = ['l1', 'l2']\n",
    "# solver = ['liblinear', 'saga', 'lbfgs']\n",
    "\n",
    "\n",
    "# grid_values = {'logisticregression__C':C, \n",
    "#                'logisticregression__penalty':penalty,\n",
    "#                'logisticregression__solver':solver}\n",
    "\n",
    "# grid_clf_f1 = GridSearchCV(baseline_nosmote, param_grid = grid_values,\n",
    "#                            n_jobs=-1, scoring = 'f1', cv=3, verbose=4)\n",
    "# grid_clf_f1.fit(X_train, y_train)"
   ]
  },
  {
   "cell_type": "code",
   "execution_count": null,
   "id": "2f4744d9-9ca9-4d2b-945d-bfe5223216d2",
   "metadata": {},
   "outputs": [],
   "source": [
    "# print('Best C:', grid_clf_f1.best_estimator_.get_params()['logisticregression__C'])\n",
    "# print('Best penalty:', grid_clf_f1.best_estimator_.get_params()['logisticregression__penalty'])\n",
    "# print('Best solver:', grid_clf_f1.best_estimator_.get_params()['logisticregression__solver'])"
   ]
  },
  {
   "cell_type": "markdown",
   "id": "d6b577d8-c386-4517-bea2-017ae2007dad",
   "metadata": {},
   "source": [
    "## Tuning LR Model"
   ]
  },
  {
   "cell_type": "code",
   "execution_count": null,
   "id": "22471d18-33fa-452f-b876-4eab477ac7ea",
   "metadata": {},
   "outputs": [],
   "source": [
    "LR_tuned = LogisticRegression(C=1.2742749857031321,\n",
    "                            solver='lbfgs', penalty='l2',\n",
    "                            max_iter=1000, class_weight=None,\n",
    "                              n_jobs=-1)"
   ]
  },
  {
   "cell_type": "markdown",
   "id": "445e596b-85b7-4a06-a7f7-f117af78dcc9",
   "metadata": {},
   "source": [
    "## Scoring"
   ]
  },
  {
   "cell_type": "code",
   "execution_count": null,
   "id": "3b1859f2-9405-4a89-95f1-9b30f1aec634",
   "metadata": {},
   "outputs": [],
   "source": [
    "pipeline  = make_pipeline(preprocessing_mm, LR_tuned)\n",
    "pipeline.fit(X_train, y_train)\n",
    "f1_score(pipeline.predict(X_train), y_train)\n",
    "modeling.report(pipeline, X_train, y_train, 'LR Tuned', 'C=1.2742749857031321,\\\n",
    "solver=lbfgs, penalty=l2class_weight=None')"
   ]
  },
  {
   "cell_type": "code",
   "execution_count": null,
   "id": "829d5cff-9038-4983-8a4e-50520c33abb3",
   "metadata": {},
   "outputs": [],
   "source": [
    "modeling.history"
   ]
  },
  {
   "cell_type": "markdown",
   "id": "71f5de19-b91e-4efb-8a3f-58112c8f43aa",
   "metadata": {},
   "source": [
    "## Testing Tuned Model on Sub-Splits"
   ]
  },
  {
   "cell_type": "code",
   "execution_count": null,
   "id": "5b692948-5f0c-44e8-94ac-87738cc36cd6",
   "metadata": {},
   "outputs": [],
   "source": [
    "f.subsplit_test(X_train, y_train, pipeline)"
   ]
  },
  {
   "cell_type": "markdown",
   "id": "2ee2962c-9b66-469e-a28d-33a14196d329",
   "metadata": {},
   "source": [
    "## Tuned LR Model Score: F1=0.888167 (All Features, Dropped Nulls)"
   ]
  },
  {
   "cell_type": "markdown",
   "id": "16a4cb62-fb8f-4803-b58c-d86e099e6bc7",
   "metadata": {},
   "source": [
    "## Random Forest Baseline"
   ]
  },
  {
   "cell_type": "markdown",
   "id": "e0091f40-a312-4197-a882-5e22951bade0",
   "metadata": {},
   "source": [
    "## Pipeline"
   ]
  },
  {
   "cell_type": "code",
   "execution_count": null,
   "id": "abc502f0-1740-4487-9a37-803bb6d8295d",
   "metadata": {},
   "outputs": [],
   "source": [
    "RF = RandomForestClassifier(n_jobs=-1, random_state=2021)"
   ]
  },
  {
   "cell_type": "code",
   "execution_count": null,
   "id": "9e6e1690-0b38-4ac2-bda3-b0df6fcad256",
   "metadata": {},
   "outputs": [],
   "source": [
    "rf_pipeline = make_pipeline(preprocessing_mm, RF)"
   ]
  },
  {
   "cell_type": "markdown",
   "id": "5957fcd6-bb60-41f2-985a-3e3c50831ea6",
   "metadata": {},
   "source": [
    "## Scoring"
   ]
  },
  {
   "cell_type": "code",
   "execution_count": null,
   "id": "faddb395-619b-4999-8d14-59c53f85d6f9",
   "metadata": {},
   "outputs": [],
   "source": [
    "modeling.report(rf_pipeline, X_train, y_train, 'RF Baseline', 'Random Forest w/o SMOTE')"
   ]
  },
  {
   "cell_type": "code",
   "execution_count": null,
   "id": "233a8832-cacf-49ab-8732-8d821d900ec7",
   "metadata": {},
   "outputs": [],
   "source": [
    "modeling.history"
   ]
  },
  {
   "cell_type": "markdown",
   "id": "7f55c996-ba4b-4ed3-90c0-d4cbbe1359c6",
   "metadata": {},
   "source": [
    "## Subsplits"
   ]
  },
  {
   "cell_type": "code",
   "execution_count": null,
   "id": "1d5b95f1-acae-4af1-b66b-2edb724014b6",
   "metadata": {},
   "outputs": [],
   "source": [
    "f.subsplit_test(X_train, y_train, rf_pipeline)"
   ]
  },
  {
   "cell_type": "markdown",
   "id": "b25c5a81-f38a-415a-850b-c0f65f526d24",
   "metadata": {},
   "source": [
    "## RF Baseline Score: F1=0.890634"
   ]
  },
  {
   "cell_type": "markdown",
   "id": "fd74c785-9f29-4543-a959-e9fa4ba3806a",
   "metadata": {},
   "source": [
    "## Random Forest w/ SMOTE"
   ]
  },
  {
   "cell_type": "markdown",
   "id": "1f222589-15db-4e11-9bc3-0806f8fa6c16",
   "metadata": {},
   "source": [
    "## Pipeline"
   ]
  },
  {
   "cell_type": "code",
   "execution_count": null,
   "id": "b5bf41a7-2ba4-4b3f-9a59-600d3b878fed",
   "metadata": {},
   "outputs": [],
   "source": [
    "rf_sm_pipeline = make_sm_pipeline(preprocessing_mm, sm, RF)"
   ]
  },
  {
   "cell_type": "markdown",
   "id": "046a08da-7c40-4637-a4ed-f1394269e7c4",
   "metadata": {},
   "source": [
    "## Scoring"
   ]
  },
  {
   "cell_type": "code",
   "execution_count": null,
   "id": "3eb1e695-4e76-4b78-a86d-b2082bae7410",
   "metadata": {},
   "outputs": [],
   "source": [
    "modeling.report(rf_sm_pipeline, X_train, y_train, 'RF SMOTE', 'Random Forest SMOTE')"
   ]
  },
  {
   "cell_type": "code",
   "execution_count": null,
   "id": "5a8c9acd-ca06-45d3-9843-d15e8ea9009e",
   "metadata": {},
   "outputs": [],
   "source": [
    "modeling.history"
   ]
  },
  {
   "cell_type": "markdown",
   "id": "af855e4d-8a31-4019-a5db-ee2dca2006de",
   "metadata": {},
   "source": [
    "## Subsplits"
   ]
  },
  {
   "cell_type": "code",
   "execution_count": null,
   "id": "bb58f69c-c856-4dfb-b228-4aa0b960e8cb",
   "metadata": {},
   "outputs": [],
   "source": [
    "f.subsplit_test(X_train, y_train, rf_sm_pipeline)"
   ]
  },
  {
   "cell_type": "markdown",
   "id": "73baa080-1a61-4c70-a8d5-83b83c346811",
   "metadata": {},
   "source": [
    "## RF w/SMOTE Score: F1=0.889611"
   ]
  },
  {
   "cell_type": "markdown",
   "id": "cdcb2ff9-4eb5-4d40-b80a-eaeaee8262f6",
   "metadata": {},
   "source": [
    "## Tuning RF Baseline"
   ]
  },
  {
   "cell_type": "markdown",
   "id": "bd08cec7-c449-4077-a490-0276dbd1f69c",
   "metadata": {},
   "source": [
    "## GridSearch"
   ]
  },
  {
   "cell_type": "code",
   "execution_count": null,
   "id": "8b3ae41d-c92b-4fa0-885b-e95763f06453",
   "metadata": {},
   "outputs": [],
   "source": [
    "# criterion =['gini', 'entropy']\n",
    "# max_depth = [2, 10, None]\n",
    "# min_samples_split = [2, 10]\n",
    "# max_features = [None, 'auto']\n",
    "# min_samples_leaf = [1, 3]\n",
    "\n",
    "# grid_values = {\n",
    "#                'randomforestclassifier__max_depth':max_depth,\n",
    "#                'randomforestclassifier__criterion':criterion,\n",
    "#                'randomforestclassifier__min_samples_split':min_samples_split,\n",
    "#                'randomforestclassifier__max_features': max_features,\n",
    "#                'randomforestclassifier__min_samples_leaf': min_samples_leaf}\n",
    "\n",
    "# grid_rf_f1 = GridSearchCV(rf_pipeline, param_grid = grid_values, scoring = 'f1',\n",
    "#                           n_jobs=-1, verbose=2, cv=3)\n",
    "# grid_rf_f1.fit(X_train, y_train)"
   ]
  },
  {
   "cell_type": "code",
   "execution_count": null,
   "id": "3b0351e9-fbf3-410a-b054-5eedcc575bd0",
   "metadata": {},
   "outputs": [],
   "source": [
    "# f.feature_plot(preprocessing_mm, grid_rf_f1, X_train)"
   ]
  },
  {
   "cell_type": "code",
   "execution_count": null,
   "id": "5de6f378-4559-47b8-9abe-05807a9350b5",
   "metadata": {},
   "outputs": [],
   "source": [
    "# grid_rf_f1.best_estimator_[0].transformers_[0][1].get_feature_names()"
   ]
  },
  {
   "cell_type": "code",
   "execution_count": null,
   "id": "6642cb2e-e861-4be5-9d7a-dd1b9e1e253e",
   "metadata": {},
   "outputs": [],
   "source": [
    "# print('Best criterion:', grid_rf_f1.best_estimator_.get_params()['randomforestclassifier__criterion'])\n",
    "# print('Best max_depth:', grid_rf_f1.best_estimator_.get_params()['randomforestclassifier__max_depth'])\n",
    "# print('Best min_samples_split:', grid_rf_f1.best_estimator_.get_params()['randomforestclassifier__min_samples_split'])\n",
    "# print('Best min_samples_leaf:', grid_rf_f1.best_estimator_.get_params()['randomforestclassifier__min_samples_leaf'])\n",
    "# print('Best max_features:', grid_rf_f1.best_estimator_.get_params()['randomforestclassifier__max_features'])"
   ]
  },
  {
   "cell_type": "markdown",
   "id": "135c2a84-d17a-42c3-9d50-5df5330ea698",
   "metadata": {
    "tags": []
   },
   "source": [
    "## Tuned Random Forest"
   ]
  },
  {
   "cell_type": "code",
   "execution_count": null,
   "id": "6044f554-ef26-4b8e-9927-748ae214b2c5",
   "metadata": {},
   "outputs": [],
   "source": [
    "RF2 = RandomForestClassifier(criterion='entropy',\n",
    "                            max_depth=None, min_samples_split=10,\n",
    "                            class_weight=None,\n",
    "                             min_samples_leaf=1, max_features='auto',\n",
    "                             n_estimators=100,\n",
    "                            n_jobs=-1, random_state=2021)"
   ]
  },
  {
   "cell_type": "code",
   "execution_count": null,
   "id": "1937077e-1c15-413b-a8ad-9247abbcd7d9",
   "metadata": {},
   "outputs": [],
   "source": [
    "rf_pipeline = make_pipeline(preprocessing_mm, RF2)"
   ]
  },
  {
   "cell_type": "code",
   "execution_count": null,
   "id": "f3e24afd-6e40-4463-9674-9e6b27a2ae46",
   "metadata": {},
   "outputs": [],
   "source": [
    "rf_pipeline.fit(X_train, y_train)"
   ]
  },
  {
   "cell_type": "code",
   "execution_count": null,
   "id": "ad7019e8-f426-4967-a68b-9a4ccd53dc0f",
   "metadata": {},
   "outputs": [],
   "source": [
    "modeling.report(rf_pipeline, X_train, y_train, 'RF Tuned', 'criterion=entropy,\\\n",
    "                            max_depth=None, min_samples_split=10,\\\n",
    "                            class_weight=None,\\\n",
    "                            in_samples_leaf=1, max_features=auto,\\\n",
    "                            n_estimators=100,\\\n",
    "                            n_jobs=-1, random_state=2021')"
   ]
  },
  {
   "cell_type": "code",
   "execution_count": null,
   "id": "164b4ace-cdd1-46d6-9320-f0fd62053da3",
   "metadata": {},
   "outputs": [],
   "source": [
    "modeling.history"
   ]
  },
  {
   "cell_type": "markdown",
   "id": "45f750eb-1e99-4e2c-88d3-4486687a0e54",
   "metadata": {},
   "source": [
    "## Testing on Subsplits"
   ]
  },
  {
   "cell_type": "code",
   "execution_count": null,
   "id": "89b0d431-5fdf-45b6-80ff-87f4e4ea18a7",
   "metadata": {},
   "outputs": [],
   "source": [
    "f.subsplit_test( X_train, y_train, rf_pipeline)"
   ]
  },
  {
   "cell_type": "markdown",
   "id": "4fdadc27-348a-42f3-b879-9d912e54bc51",
   "metadata": {},
   "source": [
    "## RF Tuned Score: F1=0.892731"
   ]
  },
  {
   "cell_type": "markdown",
   "id": "f13b5c1a-2f30-4f5b-ad25-a20951f75eb8",
   "metadata": {},
   "source": [
    "## Re-Checking the Data"
   ]
  },
  {
   "cell_type": "code",
   "execution_count": null,
   "id": "054815e6-dc5c-4e5d-a76d-0c48eeb24d31",
   "metadata": {},
   "outputs": [],
   "source": [
    "for col in df.columns:\n",
    "    print(col, df[col].nunique())"
   ]
  },
  {
   "cell_type": "markdown",
   "id": "0376162e-557f-4c92-98f1-c3a30b4ec40a",
   "metadata": {},
   "source": [
    "## More Feature Engineering"
   ]
  },
  {
   "cell_type": "markdown",
   "id": "171ecf2a-37ee-4346-a717-6768a89bc832",
   "metadata": {},
   "source": [
    "## New Data Frame"
   ]
  },
  {
   "cell_type": "code",
   "execution_count": null,
   "id": "1f476f23-c3f5-492f-9ed3-8037ab06fc5e",
   "metadata": {},
   "outputs": [],
   "source": [
    "excluded = ['Officer ID','Final Call Type', 'Weapon Type', 'Officer Gender',\n",
    "            'Officer Race', 'Frisk Flag', 'Weapon Flag', 'Officer Squad', \n",
    "            'Call Type', 'Officer Squad', 'Reported Year', 'Reported Month',\n",
    "            'Day of Month', 'Day of Week', 'Reported Hour']"
   ]
  },
  {
   "cell_type": "code",
   "execution_count": null,
   "id": "3b1838fa-44e0-4c56-9999-2148a67d0145",
   "metadata": {},
   "outputs": [],
   "source": [
    "df_10 = f.framer(df, [], excluded)"
   ]
  },
  {
   "cell_type": "code",
   "execution_count": null,
   "id": "b340e43e-e053-424e-9800-0feb26bc4dc9",
   "metadata": {},
   "outputs": [],
   "source": [
    "df_10.head(2)"
   ]
  },
  {
   "cell_type": "code",
   "execution_count": null,
   "id": "c22d94b9-f7be-4d83-aeb9-879a29369a9f",
   "metadata": {},
   "outputs": [],
   "source": [
    "X, y = f.Xy(df_10)"
   ]
  },
  {
   "cell_type": "code",
   "execution_count": null,
   "id": "f16aebd1-3a4b-4d46-afc1-ccd484acaa2e",
   "metadata": {},
   "outputs": [],
   "source": [
    "X_train, X_test, y_train, y_test = f.splitter(X,y)"
   ]
  },
  {
   "cell_type": "code",
   "execution_count": null,
   "id": "e0f5bb2e-770b-4591-9377-eb311e94b750",
   "metadata": {},
   "outputs": [],
   "source": [
    "# checking the small df\n",
    "for col in df_10.columns:\n",
    "    print(col, df_10[col].nunique())"
   ]
  },
  {
   "cell_type": "markdown",
   "id": "210f4df5-336a-4ee1-a4b6-c0b7a3fd35ca",
   "metadata": {},
   "source": [
    "## Exploring Initial Call Type"
   ]
  },
  {
   "cell_type": "code",
   "execution_count": null,
   "id": "d084d43c-862e-4c9b-a2ec-3ffe88800582",
   "metadata": {},
   "outputs": [],
   "source": [
    "df['Initial Call Re-Bin'] = df['Initial Call Type'].copy()"
   ]
  },
  {
   "cell_type": "code",
   "execution_count": null,
   "id": "ed37f780-4d33-42f5-a5ce-13f2ca58813a",
   "metadata": {},
   "outputs": [],
   "source": [
    "df['Initial Call Re-Bin'].value_counts(normalize=True)[0:50]"
   ]
  },
  {
   "cell_type": "markdown",
   "id": "64a2d957-d37b-4ff0-afd0-2f88fe6f981f",
   "metadata": {},
   "source": [
    "## Re-Binning Initial Call Type\n",
    "Grouping similar call types into bins."
   ]
  },
  {
   "cell_type": "code",
   "execution_count": null,
   "id": "fde9a712-ec08-48c4-8d8e-d46c20a6bbbd",
   "metadata": {},
   "outputs": [],
   "source": [
    "categories = df['Initial Call Re-Bin'].unique()"
   ]
  },
  {
   "cell_type": "code",
   "execution_count": null,
   "id": "322e063f-ac22-45bc-a95d-8f6de20bf283",
   "metadata": {},
   "outputs": [],
   "source": [
    "alarms = [x for x in categories if 'ALARM' in x]"
   ]
  },
  {
   "cell_type": "code",
   "execution_count": null,
   "id": "19b21687-8b6a-40b2-bb4f-125954d8bb96",
   "metadata": {},
   "outputs": [],
   "source": [
    "assaults = [x for x in categories if 'ASLT -' in x ]"
   ]
  },
  {
   "cell_type": "code",
   "execution_count": null,
   "id": "6566839c-c911-4461-8198-d8076bf31051",
   "metadata": {},
   "outputs": [],
   "source": [
    "burglaries = [x for x in categories if 'BURG -' in x]"
   ]
  },
  {
   "cell_type": "code",
   "execution_count": null,
   "id": "e06456ce-04db-4f4d-b56b-5df48e2838a8",
   "metadata": {},
   "outputs": [],
   "source": [
    "fights = [x for x in categories if 'FIGHT -' in x]"
   ]
  },
  {
   "cell_type": "code",
   "execution_count": null,
   "id": "4cf93dbb-7b26-4eb4-b277-edfe8bcc8fb7",
   "metadata": {},
   "outputs": [],
   "source": [
    "weapons = [x for x in categories if 'WEAPN' in x]"
   ]
  },
  {
   "cell_type": "code",
   "execution_count": null,
   "id": "c9bd5c90-6570-4bad-8e9b-f755fb052a4f",
   "metadata": {},
   "outputs": [],
   "source": [
    "warrants = [x for x in categories if 'WARRANT -' in x]"
   ]
  },
  {
   "cell_type": "code",
   "execution_count": null,
   "id": "fe47bc65-b1db-4d4d-8f79-13206548f130",
   "metadata": {},
   "outputs": [],
   "source": [
    "narcos = [x for x in categories if 'NARCOTICS ' in x]"
   ]
  },
  {
   "cell_type": "code",
   "execution_count": null,
   "id": "e42c2ee1-f335-4de9-93a0-70f33435bb94",
   "metadata": {},
   "outputs": [],
   "source": [
    "shots = [x for x in categories if 'SHOTS' in x]"
   ]
  },
  {
   "cell_type": "code",
   "execution_count": null,
   "id": "d87934dd-c41d-4796-8306-64fdda5010e8",
   "metadata": {},
   "outputs": [],
   "source": [
    "autos = [x for x in categories if 'AUTO ' in x]"
   ]
  },
  {
   "cell_type": "code",
   "execution_count": null,
   "id": "d20691b2-dd69-471a-84f7-25cb49f8915f",
   "metadata": {},
   "outputs": [],
   "source": [
    "for type in alarms:\n",
    "    df['Initial Call Re-Bin'].replace(type, 'ALARM BIN', inplace=True)\n",
    "for type in assaults:\n",
    "    df['Initial Call Re-Bin'].replace(type, 'ASLT BIN', inplace=True)\n",
    "for type in burglaries:\n",
    "    df['Initial Call Re-Bin'].replace(type, 'BURG BIN', inplace=True)\n",
    "for type in fights:\n",
    "    df['Initial Call Re-Bin'].replace(type, 'FIGHT BIN', inplace=True)\n",
    "for type in weapons:\n",
    "    df['Initial Call Re-Bin'].replace(type, 'WEAPN BIN', inplace=True)\n",
    "for type in warrants:\n",
    "    df['Initial Call Re-Bin'].replace(type, 'WARRANT BIN', inplace=True)\n",
    "for type in narcos:\n",
    "    df['Initial Call Re-Bin'].replace(type, 'NARCOTICS BIN', inplace=True)\n",
    "for type in shots:\n",
    "    df['Initial Call Re-Bin'].replace(type, 'SHOTS BIN', inplace=True)\n",
    "for type in autos:\n",
    "    df['Initial Call Re-Bin'].replace(type, 'AUTO BIN', inplace=True)"
   ]
  },
  {
   "cell_type": "markdown",
   "id": "a7d6f680-20b1-4f81-8ab6-864363647aa4",
   "metadata": {},
   "source": [
    "## Checking Value Counts"
   ]
  },
  {
   "cell_type": "code",
   "execution_count": null,
   "id": "fec07da1-b6c6-423a-b67c-22184a1072cd",
   "metadata": {},
   "outputs": [],
   "source": [
    "df['Initial Call Re-Bin'].value_counts(normalize=True)[:50]"
   ]
  },
  {
   "cell_type": "markdown",
   "id": "ebdff3cd-730c-4fc9-b660-d75a14086803",
   "metadata": {},
   "source": [
    "## Moving Smaller Categories into a Single `Other` Bin"
   ]
  },
  {
   "cell_type": "code",
   "execution_count": null,
   "id": "7106025d-4ee6-4cc0-8029-213920e05098",
   "metadata": {},
   "outputs": [],
   "source": [
    "proportions = df['Initial Call Re-Bin'].value_counts(normalize=True)\n",
    "cutoff_idx = proportions.loc[proportions < .004].index\n",
    "for i in cutoff_idx:\n",
    "    df['Initial Call Re-Bin'].replace(i, 'OTHER', inplace=True)"
   ]
  },
  {
   "cell_type": "markdown",
   "id": "3d6aba31-ae55-43d3-8245-bf8f28280d51",
   "metadata": {},
   "source": [
    "## Checking New Value Counts"
   ]
  },
  {
   "cell_type": "code",
   "execution_count": null,
   "id": "b346a608-001a-4f00-9dbb-1862b7a4da03",
   "metadata": {},
   "outputs": [],
   "source": [
    "df['Initial Call Re-Bin'].value_counts(normalize=True)"
   ]
  },
  {
   "cell_type": "markdown",
   "id": "65c67555-d419-4df9-8768-7a4886813e24",
   "metadata": {},
   "source": [
    "## Binning Subject Race\n",
    "Binning into White, Black, and Other."
   ]
  },
  {
   "cell_type": "code",
   "execution_count": null,
   "id": "ac8d7c64-96b9-4158-8626-c87d12b18005",
   "metadata": {},
   "outputs": [],
   "source": [
    "df['Subject Perceived Race'].unique()"
   ]
  },
  {
   "cell_type": "code",
   "execution_count": null,
   "id": "99482816-c930-4660-ae21-ac55803d2087",
   "metadata": {},
   "outputs": [],
   "source": [
    "df['Subject Perceived Race'].value_counts(normalize=True)"
   ]
  },
  {
   "cell_type": "code",
   "execution_count": null,
   "id": "a9062595-9825-43a2-a6a2-3078465c5784",
   "metadata": {},
   "outputs": [],
   "source": [
    "df['Subject Perceived Race'].replace('White', 0, inplace=True)\n",
    "df['Subject Perceived Race'].replace('Black', 1, inplace=True)"
   ]
  },
  {
   "cell_type": "code",
   "execution_count": null,
   "id": "9dfb05d7-e352-4cd6-8afc-282b6fe5efee",
   "metadata": {},
   "outputs": [],
   "source": [
    "types = df['Subject Perceived Race'].unique()\n",
    "replace_list = [x for x in types if (x!=0) and (x!=1)]\n",
    "df['Subject Perceived Race'].replace(replace_list, 2, inplace=True)"
   ]
  },
  {
   "cell_type": "code",
   "execution_count": null,
   "id": "3b8bb799-ea3b-44cb-97c9-4fd6837c6dee",
   "metadata": {},
   "outputs": [],
   "source": [
    "df['Subject Perceived Race'].value_counts(normalize=True)"
   ]
  },
  {
   "cell_type": "markdown",
   "id": "0a41d708-5ee3-4afc-95bf-2ec63da58812",
   "metadata": {},
   "source": [
    "## Binning Subject Gender\n",
    "Binning into Male, Female, Other."
   ]
  },
  {
   "cell_type": "code",
   "execution_count": null,
   "id": "55611cf9-e9cb-4b3b-8e24-04735f41284d",
   "metadata": {},
   "outputs": [],
   "source": [
    "df['Subject Perceived Gender'].unique()"
   ]
  },
  {
   "cell_type": "code",
   "execution_count": null,
   "id": "0ef9787d-6c7a-4dda-a1bc-34e77730de28",
   "metadata": {},
   "outputs": [],
   "source": [
    "df['Subject Perceived Gender'].value_counts(normalize=True)"
   ]
  },
  {
   "cell_type": "code",
   "execution_count": null,
   "id": "394ecf85-a4ec-48d2-928f-3fac874e931c",
   "metadata": {},
   "outputs": [],
   "source": [
    "df['Subject Perceived Gender'].replace('Male', 0, inplace=True)\n",
    "df['Subject Perceived Gender'].replace('Female', 1, inplace=True)"
   ]
  },
  {
   "cell_type": "code",
   "execution_count": null,
   "id": "7e2bd4ea-d1cc-4f05-a952-f5659aaefb71",
   "metadata": {},
   "outputs": [],
   "source": [
    "types = df['Subject Perceived Gender'].unique()\n",
    "replace_list = [x for x in types if (x!=0) and (x!=1)]\n",
    "df['Subject Perceived Gender'].replace(replace_list, 2, inplace=True)"
   ]
  },
  {
   "cell_type": "code",
   "execution_count": null,
   "id": "5943b085-ac8d-45b2-9958-3a7ea8d01df4",
   "metadata": {},
   "outputs": [],
   "source": [
    "df['Subject Perceived Gender'].value_counts(normalize=True)"
   ]
  },
  {
   "cell_type": "markdown",
   "id": "b161c84d-37f9-432f-ba36-1915c2e884e9",
   "metadata": {},
   "source": [
    "## DF With Re-engineered Data"
   ]
  },
  {
   "cell_type": "code",
   "execution_count": null,
   "id": "ebe015b7-c8c3-445b-b3e8-b53fc0f46edc",
   "metadata": {},
   "outputs": [],
   "source": [
    "excluded = ['Officer ID','Final Call Type', 'Frisk Flag','Weapon Flag',\n",
    "           'Reported Year', 'Reported Month', 'Day of Month', 'Day of Week', 'Reported Hour']"
   ]
  },
  {
   "cell_type": "code",
   "execution_count": null,
   "id": "0ed60c69-23b5-405d-a753-8a6fa91555cf",
   "metadata": {},
   "outputs": [],
   "source": [
    "df_11 = f.framer(df, [], excluded)"
   ]
  },
  {
   "cell_type": "code",
   "execution_count": null,
   "id": "694146a2-1e61-408c-9b1f-67b502b4d1e5",
   "metadata": {},
   "outputs": [],
   "source": [
    "df_11.head(2)"
   ]
  },
  {
   "cell_type": "code",
   "execution_count": null,
   "id": "a0ef9525-88e9-47b8-8e31-82da94c0270b",
   "metadata": {},
   "outputs": [],
   "source": [
    "X, y = f.Xy(df_11)"
   ]
  },
  {
   "cell_type": "code",
   "execution_count": null,
   "id": "70a3fbc7-f77a-480e-98d7-ce11029a2cc2",
   "metadata": {},
   "outputs": [],
   "source": [
    "X_train, X_test, y_train, y_test = f.splitter(X,y)"
   ]
  },
  {
   "cell_type": "markdown",
   "id": "b7194011-80bc-4472-969f-e697b57bca2d",
   "metadata": {},
   "source": [
    "## Testing Tuned RF on New Data"
   ]
  },
  {
   "cell_type": "code",
   "execution_count": null,
   "id": "c436149a-a3ef-4b6a-9899-38779f542991",
   "metadata": {},
   "outputs": [],
   "source": [
    "rf_pipeline.fit(X_train, y_train)"
   ]
  },
  {
   "cell_type": "markdown",
   "id": "7ecba20b-4d99-454c-a771-580bd0f4dbc7",
   "metadata": {},
   "source": [
    "## Scoring"
   ]
  },
  {
   "cell_type": "code",
   "execution_count": null,
   "id": "bdb70e39-2c37-42e5-85b9-6b7b05a5d515",
   "metadata": {},
   "outputs": [],
   "source": [
    "modeling.report(rf_pipeline, X_train, y_train, 'RF Tuned New Data', 'criterion=entropy,\\\n",
    "                            max_depth=None, min_samples_split=10,\\\n",
    "                            class_weight=None,\\\n",
    "                            in_samples_leaf=1, max_features=auto,\\\n",
    "                            n_estimators=100,\\\n",
    "                            n_jobs=-1, random_state=2021')"
   ]
  },
  {
   "cell_type": "code",
   "execution_count": null,
   "id": "eb27cb2d-13a7-480a-a2b6-aa7aa299d302",
   "metadata": {},
   "outputs": [],
   "source": [
    "modeling.history"
   ]
  },
  {
   "cell_type": "markdown",
   "id": "c4e4e5a9-793b-46c8-8e56-5ba3e069e925",
   "metadata": {},
   "source": [
    "## Testing on Subsplits"
   ]
  },
  {
   "cell_type": "code",
   "execution_count": null,
   "id": "1b505be5-c3e4-4fcc-9153-bba874ff6e7f",
   "metadata": {},
   "outputs": [],
   "source": [
    "f.subsplit_test( X_train, y_train, rf_pipeline)"
   ]
  },
  {
   "cell_type": "markdown",
   "id": "a23cb1da-26ec-43fe-8ca9-6f3138cf4acf",
   "metadata": {},
   "source": [
    "## Tuned RF on New Data Score: F1=0.893339"
   ]
  },
  {
   "cell_type": "markdown",
   "id": "60e768bb-134a-44e8-96e8-4abd5c34fda4",
   "metadata": {},
   "source": [
    "## Re-Tuning Models on New Data"
   ]
  },
  {
   "cell_type": "markdown",
   "id": "cf151108-5932-488c-82a4-a59837e17e9a",
   "metadata": {},
   "source": [
    "## LR All Data"
   ]
  },
  {
   "cell_type": "code",
   "execution_count": null,
   "id": "cec0b372-feea-48ff-8f55-e9774f12b6d2",
   "metadata": {},
   "outputs": [],
   "source": [
    "LR_ALL = LogisticRegression(random_state=2021, n_jobs=-1)"
   ]
  },
  {
   "cell_type": "code",
   "execution_count": null,
   "id": "e54c3818-34d2-4813-91cb-3081bf855b21",
   "metadata": {},
   "outputs": [],
   "source": [
    "pipeline = make_pipeline(preprocessing_mm, LR_ALL)\n",
    "pipeline.fit(X_train, y_train)"
   ]
  },
  {
   "cell_type": "code",
   "execution_count": null,
   "id": "c175faed-f55e-42bd-9d5c-887d33c350cc",
   "metadata": {},
   "outputs": [],
   "source": [
    "f1_score(y_train, pipeline.predict(X_train))"
   ]
  },
  {
   "cell_type": "markdown",
   "id": "56f9c9c8-4ad1-4758-b48c-973acfa24582",
   "metadata": {},
   "source": [
    "## GridSearch"
   ]
  },
  {
   "cell_type": "code",
   "execution_count": null,
   "id": "64cdc645-b6e9-407b-8a16-7395874e7a72",
   "metadata": {},
   "outputs": [],
   "source": [
    "C = np.logspace(-4, 2, 20)\n",
    "penalty = ['l1', 'l2']\n",
    "solver = ['liblinear', 'saga', 'lbfgs']\n",
    "\n",
    "\n",
    "grid_values = {'logisticregression__C':C, \n",
    "               'logisticregression__penalty':penalty,\n",
    "               'logisticregression__solver':solver}\n",
    "\n",
    "grid_clf_f1_all = GridSearchCV(pipeline, param_grid = grid_values,\n",
    "                           n_jobs=-1, scoring = 'f1', cv=3, verbose=4)\n",
    "grid_clf_f1_all.fit(X_train, y_train)"
   ]
  },
  {
   "cell_type": "code",
   "execution_count": null,
   "id": "e4300332-7616-4271-9fc6-3983b239200b",
   "metadata": {
    "tags": []
   },
   "outputs": [],
   "source": [
    "print('Best C:', grid_clf_f1_all.best_estimator_.get_params()['logisticregression__C'])\n",
    "print('Best penalty:', grid_clf_f1_all.best_estimator_.get_params()['logisticregression__penalty'])\n",
    "print('Best solver:', grid_clf_f1_all.best_estimator_.get_params()['logisticregression__solver'])"
   ]
  },
  {
   "cell_type": "code",
   "execution_count": null,
   "id": "5ef1a7ac-a0c4-468a-8513-dc427ea10c4d",
   "metadata": {},
   "outputs": [],
   "source": [
    "LR_ALL_tuned = LogisticRegression(C=2.6366508987303554,\n",
    "                            solver='lbfgs', penalty='l2',\n",
    "                              class_weight=None,\n",
    "                            max_iter=1000, n_jobs=-1)\n",
    "\n",
    "pipeline  = make_pipeline(preprocessing_mm, LR_ALL_tuned)\n",
    "pipeline.fit(X_train, y_train)\n",
    "f1_score(pipeline.predict(X_train), y_train)\n",
    "modeling.report(pipeline, X_train, y_train, 'LR_ALL Tuned',\\\n",
    "                'C=2.6366508987303554, penalty=l2,\\\n",
    "                solver=lbfgs, class_weight=None')"
   ]
  },
  {
   "cell_type": "code",
   "execution_count": null,
   "id": "1c514b14-deea-48e8-a5be-4445c804e40d",
   "metadata": {},
   "outputs": [],
   "source": [
    "modeling.history"
   ]
  },
  {
   "cell_type": "markdown",
   "id": "b2e7a423-e0d0-4c2b-b44c-7e433e1808f0",
   "metadata": {},
   "source": [
    "## LR Coefficients & Odds"
   ]
  },
  {
   "cell_type": "code",
   "execution_count": null,
   "id": "18b13035-cc06-4717-ab07-40a213eebe33",
   "metadata": {},
   "outputs": [],
   "source": [
    "features = list(grid_clf_f1_all.best_estimator_[0].\\\n",
    "                transformers_[0][1].\\\n",
    "                get_feature_names())+\\\n",
    "                list(X_train.select_dtypes('number').columns)"
   ]
  },
  {
   "cell_type": "code",
   "execution_count": null,
   "id": "bf25138a-bffc-4f3f-9bae-2f6ab225e9f9",
   "metadata": {},
   "outputs": [],
   "source": [
    "coeff = grid_clf_f1_all.best_estimator_[1].coef_.flatten()"
   ]
  },
  {
   "cell_type": "code",
   "execution_count": null,
   "id": "bbcc424a-f1e5-44f2-a38b-f74abd024699",
   "metadata": {},
   "outputs": [],
   "source": [
    "coefficients = pd.DataFrame(coeff, features, columns=['coef'])\\\n",
    "                            .sort_values(by='coef', ascending=False)"
   ]
  },
  {
   "cell_type": "code",
   "execution_count": null,
   "id": "6909a625-0acc-4901-8ecb-ddc43f1c2d1a",
   "metadata": {},
   "outputs": [],
   "source": [
    "top20_pos_coef = coefficients.head(20)"
   ]
  },
  {
   "cell_type": "code",
   "execution_count": null,
   "id": "69d7c2f6-d616-4e1b-b143-873101025547",
   "metadata": {},
   "outputs": [],
   "source": [
    "top20_pos_coef.plot(kind='bar', figsize=(15,7), color=['skyblue'])\n",
    "plt.title('Top 20 Positive Coefficients')                                                 \n",
    "plt.xlabel('Feature Name')\n",
    "plt.xticks(rotation=90)\n",
    "plt.legend(title='Coefficient', labels=['Value'])\n",
    "plt.show()"
   ]
  },
  {
   "cell_type": "code",
   "execution_count": null,
   "id": "e392ee4a-704a-4d35-9d6b-301c1f27b453",
   "metadata": {},
   "outputs": [],
   "source": [
    "top20_neg_coef = coefficients.tail(20)"
   ]
  },
  {
   "cell_type": "code",
   "execution_count": null,
   "id": "4363849c-3b84-49b8-9ed2-f50c3eff07d0",
   "metadata": {},
   "outputs": [],
   "source": [
    "top20_neg_coef.plot(kind='bar', figsize=(15,7), color=['skyblue'])\n",
    "plt.title('Top 20 Negative Coefficients')                                                 \n",
    "plt.xlabel('Feature Name')\n",
    "plt.xticks(rotation=90)\n",
    "plt.legend(title='Coefficient', labels=['Value'])\n",
    "plt.show()"
   ]
  },
  {
   "cell_type": "code",
   "execution_count": null,
   "id": "2dce85dc-53ef-4fe4-a8c3-5a2ae2590a93",
   "metadata": {},
   "outputs": [],
   "source": [
    "odds = np.exp(coeff)\n",
    "odds_df = pd.DataFrame(odds, \n",
    "             features, \n",
    "             columns=['odds'])\\\n",
    "            .sort_values(by='odds', ascending=False)"
   ]
  },
  {
   "cell_type": "code",
   "execution_count": null,
   "id": "6c0a9ef1-ab20-4bba-8faa-1a416c124da9",
   "metadata": {},
   "outputs": [],
   "source": [
    "top20_pos_odds = odds_df.head(20).reset_index()"
   ]
  },
  {
   "cell_type": "code",
   "execution_count": null,
   "id": "1a65c769-6266-47f1-97a2-655ca82194d1",
   "metadata": {},
   "outputs": [],
   "source": [
    "fig, ax = plt.subplots(figsize =(20, 8))\n",
    "sns.barplot(x='index',y='odds', data=top20_pos_odds, palette='Blues_r', edgecolor='deepskyblue')\n",
    "plt.title('Relative Odds For The Top 20 Positive Features')                                                 \n",
    "plt.xlabel('')\n",
    "plt.ylabel('')\n",
    "plt.xticks(rotation=90)\n",
    "plt.legend(title='Odds That A Major Outcome Is More Likely', labels=['Multiple'])\n",
    "# plt.savefig('LR_Positive',  bbox_inches =\"tight\",\\\n",
    "#             pad_inches = .25, transparent = False)\n",
    "plt.show()"
   ]
  },
  {
   "cell_type": "code",
   "execution_count": null,
   "id": "eaf5414b-564d-4b26-a1dc-67c7683b0089",
   "metadata": {},
   "outputs": [],
   "source": [
    "top20_neg_odds = odds_df.tail(20).reset_index()"
   ]
  },
  {
   "cell_type": "code",
   "execution_count": null,
   "id": "db81406e-55c7-46a5-a9fc-b1e1401f5369",
   "metadata": {},
   "outputs": [],
   "source": [
    "top20_neg_odds['odds'] = 1/top20_neg_odds['odds']"
   ]
  },
  {
   "cell_type": "code",
   "execution_count": null,
   "id": "5374f7a1-bea0-4305-ba4d-319438130508",
   "metadata": {},
   "outputs": [],
   "source": [
    "fig, ax = plt.subplots(figsize =(20, 8))\n",
    "sns.barplot(x='index',y='odds', data=top20_neg_odds, palette='Blues', edgecolor='deepskyblue')\n",
    "plt.title('Relative Odds For Top 20 Negative Features')                                                 \n",
    "plt.xlabel('')\n",
    "plt.xticks(rotation=90)\n",
    "plt.legend(title='Odds That A Minor Outcome Is More Likely', labels=['Multiple'])\n",
    "# plt.savefig('LR_Negative',  bbox_inches =\"tight\",\\\n",
    "#             pad_inches = .25, transparent = False)\n",
    "plt.show()"
   ]
  },
  {
   "cell_type": "markdown",
   "id": "89d99965-6594-48d8-8070-b0ee989a838e",
   "metadata": {},
   "source": [
    "## Testing Tuned Model on Sub-Splits"
   ]
  },
  {
   "cell_type": "code",
   "execution_count": null,
   "id": "20a7abb5-f5a0-4789-b952-a1b5b97c1b12",
   "metadata": {},
   "outputs": [],
   "source": [
    "f.subsplit_test(X_train, y_train, pipeline)"
   ]
  },
  {
   "cell_type": "markdown",
   "id": "7a265bf8-20f4-4234-bdef-11b5819d44cd",
   "metadata": {},
   "source": [
    "## Tuned LR on All Data Score: F1=0.886699"
   ]
  },
  {
   "cell_type": "markdown",
   "id": "058c4ede-7b72-4f2c-854a-b119dd7caf43",
   "metadata": {},
   "source": [
    "## RF Tuned on All Data"
   ]
  },
  {
   "cell_type": "code",
   "execution_count": null,
   "id": "eb49da29-16a0-4b22-8625-82efb50100fb",
   "metadata": {},
   "outputs": [],
   "source": [
    "RF5 = RandomForestClassifier(n_jobs=-1,\n",
    "                            random_state=2021)"
   ]
  },
  {
   "cell_type": "code",
   "execution_count": null,
   "id": "6fe98704-c5e4-44bf-a2ea-07ba8a5e2cfb",
   "metadata": {},
   "outputs": [],
   "source": [
    "rf2_pipeline = make_pipeline(preprocessing_mm, RF5)\n",
    "rf2_pipeline.fit(X_train, y_train)"
   ]
  },
  {
   "cell_type": "markdown",
   "id": "1b579b77-5d7d-4c7b-a9bc-e426a34fe265",
   "metadata": {},
   "source": [
    "## Gridsearch"
   ]
  },
  {
   "cell_type": "code",
   "execution_count": null,
   "id": "00ed17b9-db2e-4ea7-a156-61c5b2ea2840",
   "metadata": {},
   "outputs": [],
   "source": [
    "criterion =['gini', 'entropy']\n",
    "max_depth = [2, 10, None]\n",
    "min_samples_split = [2, 10]\n",
    "max_features = [None, 'auto']\n",
    "min_samples_leaf = [1, 3]\n",
    "\n",
    "grid_values = {\n",
    "               'randomforestclassifier__max_depth':max_depth,\n",
    "               'randomforestclassifier__criterion':criterion,\n",
    "               'randomforestclassifier__min_samples_split':min_samples_split,\n",
    "               'randomforestclassifier__max_features': max_features,\n",
    "               'randomforestclassifier__min_samples_leaf': min_samples_leaf}\n",
    "\n",
    "grid_rf2_f1 = GridSearchCV(rf2_pipeline, param_grid = grid_values, scoring = 'f1',\n",
    "                          n_jobs=-1, verbose=2, cv=3)\n",
    "grid_rf2_f1.fit(X_train, y_train)"
   ]
  },
  {
   "cell_type": "code",
   "execution_count": null,
   "id": "af53333d-3406-4eb1-98d2-808e9a554470",
   "metadata": {},
   "outputs": [],
   "source": [
    "print('Best criterion:', grid_rf2_f1.best_estimator_.get_params()['randomforestclassifier__criterion'])\n",
    "print('Best max_depth:', grid_rf2_f1.best_estimator_.get_params()['randomforestclassifier__max_depth'])\n",
    "print('Best min_samples_split:', grid_rf2_f1.best_estimator_.get_params()['randomforestclassifier__min_samples_split'])\n",
    "print('Best min_samples_leaf:', grid_rf2_f1.best_estimator_.get_params()['randomforestclassifier__min_samples_leaf'])\n",
    "print('Best max_features:', grid_rf2_f1.best_estimator_.get_params()['randomforestclassifier__max_features'])"
   ]
  },
  {
   "cell_type": "markdown",
   "id": "1d68dd37-1e0c-49b6-837c-34dcad435412",
   "metadata": {},
   "source": [
    "## Tuning"
   ]
  },
  {
   "cell_type": "code",
   "execution_count": null,
   "id": "1f4cfab1-cbe0-4ad6-9e7c-f20ebf34a054",
   "metadata": {},
   "outputs": [],
   "source": [
    "RF_ALL = RandomForestClassifier(criterion='gini',\n",
    "                             max_depth=None,\n",
    "                             min_samples_split=10,\n",
    "                                max_features='auto',\n",
    "                                min_samples_leaf=1,\n",
    "                                n_jobs=-1,\n",
    "                                n_estimators=100,\n",
    "                            random_state=2021)"
   ]
  },
  {
   "cell_type": "code",
   "execution_count": null,
   "id": "33093181-9cfc-4a0e-8310-2fe8d41037bb",
   "metadata": {},
   "outputs": [],
   "source": [
    "rfall_pipeline = make_pipeline(preprocessing_mm, RF_ALL)\n",
    "rfall_pipeline.fit(X_train, y_train)"
   ]
  },
  {
   "cell_type": "markdown",
   "id": "6dd6692a-b443-4307-befa-2037c0beada9",
   "metadata": {},
   "source": [
    "## Scoring"
   ]
  },
  {
   "cell_type": "code",
   "execution_count": null,
   "id": "dc510f10-d1c5-40f8-aecf-6b2dd97f222d",
   "metadata": {},
   "outputs": [],
   "source": [
    "modeling.report(rfall_pipeline, X_train, y_train, 'RF_ALL Tuned', 'criterion=gini,\\\n",
    "                                                            max_depth=None,\\\n",
    "                                                            min_samples_split=10,\\\n",
    "                                                            class_weight=None,\\\n",
    "                                                            min_samples_leaf=1,\\\n",
    "                                                            max_features=auto,\\\n",
    "                                                            n_estimators=100')"
   ]
  },
  {
   "cell_type": "code",
   "execution_count": null,
   "id": "eb6bbf39-90d3-4d12-8e30-68d24be42556",
   "metadata": {},
   "outputs": [],
   "source": [
    "modeling.history"
   ]
  },
  {
   "cell_type": "markdown",
   "id": "a4b8bcb4-5c01-4a9d-bd7d-cd6306db0586",
   "metadata": {},
   "source": [
    "## Feature Importance"
   ]
  },
  {
   "cell_type": "code",
   "execution_count": null,
   "id": "b38612e9-a35a-4485-a0cf-ccf3267234f3",
   "metadata": {},
   "outputs": [],
   "source": [
    "# f.feature_plot(preprocessing_mm, grid_rf2_f1, X_train)"
   ]
  },
  {
   "cell_type": "code",
   "execution_count": null,
   "id": "67b38668-9a1d-468f-b614-ca89ddd806fe",
   "metadata": {},
   "outputs": [],
   "source": [
    "# grid_rf2_f1.best_estimator_[0].transformers_[0][1].get_feature_names()"
   ]
  },
  {
   "cell_type": "markdown",
   "id": "0c253e35-014e-42a6-89a0-17f455a50c51",
   "metadata": {},
   "source": [
    "## Testing on Subsplits"
   ]
  },
  {
   "cell_type": "code",
   "execution_count": null,
   "id": "5adafff6-997f-41f0-a447-4a742565c8ee",
   "metadata": {},
   "outputs": [],
   "source": [
    "f.subsplit_test( X_train, y_train, rfall_pipeline)"
   ]
  },
  {
   "cell_type": "markdown",
   "id": "0ca39336-010e-46e4-9b44-a4d35e9077c1",
   "metadata": {},
   "source": [
    "## Tuned RF on All Data Score: F1=0.895318"
   ]
  },
  {
   "cell_type": "markdown",
   "id": "c69889a2-bc11-4133-a46e-fa7d0a831a4e",
   "metadata": {},
   "source": [
    "## AdaBoost"
   ]
  },
  {
   "cell_type": "markdown",
   "id": "ac9dc3af-cbf5-46f9-8b5c-da9ad6c3c219",
   "metadata": {},
   "source": [
    "## Pipeline"
   ]
  },
  {
   "cell_type": "code",
   "execution_count": null,
   "id": "539b2487-e43f-4d98-9b71-9adf1c4f7a8c",
   "metadata": {},
   "outputs": [],
   "source": [
    "ada = AdaBoostClassifier(random_state=2021)\n",
    "\n",
    "ada_pipeline = make_pipeline(preprocessing_mm, ada)"
   ]
  },
  {
   "cell_type": "code",
   "execution_count": null,
   "id": "40b29309-d09f-41be-b370-bfbfffb220f3",
   "metadata": {},
   "outputs": [],
   "source": [
    "ada_pipeline.fit(X_train, y_train)"
   ]
  },
  {
   "cell_type": "markdown",
   "id": "e19affb9-d11e-46e4-869a-03df78173157",
   "metadata": {},
   "source": [
    "## Scoring"
   ]
  },
  {
   "cell_type": "code",
   "execution_count": null,
   "id": "1f74a3b2-cb92-49bf-beae-5f24b880e054",
   "metadata": {},
   "outputs": [],
   "source": [
    "#scoring the model\n",
    "f1_score(y_train, ada_pipeline.predict(X_train))"
   ]
  },
  {
   "cell_type": "code",
   "execution_count": null,
   "id": "50aab17d-0b7f-4a84-a83f-00e5fa4fdd44",
   "metadata": {},
   "outputs": [],
   "source": [
    "# checking cross val scores\n",
    "modeling.report(ada_pipeline, X_train, y_train,\\\n",
    "                'AdaBoost Baseline', 'All Data')"
   ]
  },
  {
   "cell_type": "code",
   "execution_count": null,
   "id": "6e8d4b13-c0ac-41b0-8c33-8e869767bb2a",
   "metadata": {},
   "outputs": [],
   "source": [
    "modeling.history"
   ]
  },
  {
   "cell_type": "markdown",
   "id": "44853518-0ebe-4550-9672-eb49707dcb70",
   "metadata": {},
   "source": [
    "## Subsplits"
   ]
  },
  {
   "cell_type": "code",
   "execution_count": null,
   "id": "ea4be238-ab90-47a2-bd8c-d6bc4a52d3b7",
   "metadata": {},
   "outputs": [],
   "source": [
    "f.subsplit_test(X_train, y_train, ada_pipeline)"
   ]
  },
  {
   "cell_type": "markdown",
   "id": "b74bd65b-1016-47f8-ae77-f746d5124e20",
   "metadata": {},
   "source": [
    "## AdaBoost Baseline Score: F1=0.887071"
   ]
  },
  {
   "cell_type": "markdown",
   "id": "53397b51-3d9c-4898-9a94-d0856e15427c",
   "metadata": {},
   "source": [
    "## AdaBoost with LR"
   ]
  },
  {
   "cell_type": "markdown",
   "id": "472a7d8c-aae1-4a2b-a235-5ba8c4558d93",
   "metadata": {},
   "source": [
    "## Pipeline"
   ]
  },
  {
   "cell_type": "code",
   "execution_count": null,
   "id": "4f680f5a-fe99-40ef-a824-5fab91fec4b1",
   "metadata": {},
   "outputs": [],
   "source": [
    "ada = AdaBoostClassifier(base_estimator=LR_ALL, random_state=2021)\n",
    "\n",
    "adaLR_pipeline = make_pipeline(preprocessing_mm, ada)"
   ]
  },
  {
   "cell_type": "code",
   "execution_count": null,
   "id": "d89822b1-ca47-42d6-a226-24fcd0ebb7e0",
   "metadata": {},
   "outputs": [],
   "source": [
    "adaLR_pipeline.fit(X_train, y_train)"
   ]
  },
  {
   "cell_type": "markdown",
   "id": "fa45dbe0-909f-4740-b174-a3e2dde4c98e",
   "metadata": {},
   "source": [
    "## Scoring"
   ]
  },
  {
   "cell_type": "code",
   "execution_count": null,
   "id": "b5b0883d-f5ed-4031-ac6f-6b2598479c8e",
   "metadata": {},
   "outputs": [],
   "source": [
    "#scoring the model\n",
    "f1_score(y_train, adaLR_pipeline.predict(X_train))"
   ]
  },
  {
   "cell_type": "code",
   "execution_count": null,
   "id": "c2c4c5ee-3f0b-43fb-a38e-82ed118775f6",
   "metadata": {},
   "outputs": [],
   "source": [
    "# checking cross val scores\n",
    "modeling.report(adaLR_pipeline, X_train, y_train,\\\n",
    "                'AdaBoostLR', 'All Data')"
   ]
  },
  {
   "cell_type": "code",
   "execution_count": null,
   "id": "539bda6c-ad3c-4f2a-a290-942ede9ea7d9",
   "metadata": {},
   "outputs": [],
   "source": [
    "modeling.history"
   ]
  },
  {
   "cell_type": "markdown",
   "id": "85eefd47-4fc7-4bd5-afab-aa9747130408",
   "metadata": {},
   "source": [
    "## Subsplits"
   ]
  },
  {
   "cell_type": "code",
   "execution_count": null,
   "id": "d27f3312-c2fd-4055-9671-ed84e78c632f",
   "metadata": {},
   "outputs": [],
   "source": [
    "f.subsplit_test(X_train, y_train, adaLR_pipeline)"
   ]
  },
  {
   "cell_type": "markdown",
   "id": "713f6eb5-0ad6-4d3d-a0a8-12f1153bc358",
   "metadata": {},
   "source": [
    "## AdaBoost w/LR Score: F1=0.887036"
   ]
  },
  {
   "cell_type": "markdown",
   "id": "e684fd70-c4d2-4288-bbba-d396a11f3bf4",
   "metadata": {},
   "source": [
    "## AdaBoost LR Tuned"
   ]
  },
  {
   "cell_type": "code",
   "execution_count": null,
   "id": "c67ac090-30fe-450f-abae-ad6812a44d31",
   "metadata": {},
   "outputs": [],
   "source": [
    "# adaLR_pipeline.get_params().keys()"
   ]
  },
  {
   "cell_type": "markdown",
   "id": "559ffc7f-1d90-4ba3-b715-a173f798b632",
   "metadata": {},
   "source": [
    "## GridSearch"
   ]
  },
  {
   "cell_type": "code",
   "execution_count": null,
   "id": "bb488f32-e8b6-4b50-a097-e54d32e90ff2",
   "metadata": {},
   "outputs": [],
   "source": [
    "# parameters = {\n",
    "#               'adaboostclassifier__n_estimators':[10,50,100,250],\n",
    "#               'adaboostclassifier__learning_rate':[.01,.1,.5, 1]}\n",
    "\n",
    "# adaGCV = GridSearchCV(adaLR_pipeline, parameters,verbose=2,\n",
    "#                    scoring='f1',n_jobs=-1, cv=3)\n",
    "# adaGCV.fit(X_train,y_train)"
   ]
  },
  {
   "cell_type": "code",
   "execution_count": null,
   "id": "2db27c22-62d1-47f5-9539-7caa9049f929",
   "metadata": {},
   "outputs": [],
   "source": [
    "# print('Best learning_rate:', adaGCV.best_estimator_.get_params()['adaboostclassifier__learning_rate'])\n",
    "# print('Best n_estimators:', adaGCV.best_estimator_.get_params()['adaboostclassifier__n_estimators'])"
   ]
  },
  {
   "cell_type": "markdown",
   "id": "932fc346-580a-4472-a66c-36f7e40c3cb7",
   "metadata": {},
   "source": [
    "## Tuning"
   ]
  },
  {
   "cell_type": "code",
   "execution_count": null,
   "id": "4c4f85ed-08dd-4a68-851b-51d95172e586",
   "metadata": {},
   "outputs": [],
   "source": [
    "ada = AdaBoostClassifier(base_estimator=LR_ALL, learning_rate=1,\n",
    "                         n_estimators=250, random_state=2021)\n",
    "\n",
    "adaLR_ALL = make_pipeline(preprocessing_mm, ada)"
   ]
  },
  {
   "cell_type": "code",
   "execution_count": null,
   "id": "f3a3fd06-63ba-4ac8-a447-0ea7b8a2d723",
   "metadata": {},
   "outputs": [],
   "source": [
    "adaLR_ALL.fit(X_train, y_train)"
   ]
  },
  {
   "cell_type": "markdown",
   "id": "c0da18ce-0405-4e6d-b83c-9cb073d5903a",
   "metadata": {},
   "source": [
    "## Scoring"
   ]
  },
  {
   "cell_type": "code",
   "execution_count": null,
   "id": "fa1629e0-9a51-453e-b783-dadb0c573357",
   "metadata": {},
   "outputs": [],
   "source": [
    "# #scoring the model\n",
    "f1_score(y_train, adaLR_ALL.predict(X_train))"
   ]
  },
  {
   "cell_type": "code",
   "execution_count": null,
   "id": "0b1cc50e-0fa6-4dde-be62-93dd24784007",
   "metadata": {},
   "outputs": [],
   "source": [
    "# checking cross val scores\n",
    "modeling.report(adaLR_ALL, X_train, y_train,\\\n",
    "                'AdaBoostLR_ALL', 'All Data')"
   ]
  },
  {
   "cell_type": "code",
   "execution_count": null,
   "id": "8e8c12ad-d5da-46f2-ab88-92de19e3b3f1",
   "metadata": {},
   "outputs": [],
   "source": [
    "modeling.history"
   ]
  },
  {
   "cell_type": "markdown",
   "id": "229d7939-7ee9-4324-b0a8-77ff514ee450",
   "metadata": {},
   "source": [
    "## Subsplits"
   ]
  },
  {
   "cell_type": "code",
   "execution_count": null,
   "id": "937a55c4-61b2-4263-be1c-2c1a48f802af",
   "metadata": {},
   "outputs": [],
   "source": [
    "f.subsplit_test(X_train, y_train, adaLR_ALL)"
   ]
  },
  {
   "cell_type": "markdown",
   "id": "031cc805-84f7-4907-992f-9ebbf5d90ef5",
   "metadata": {},
   "source": [
    "## AdaBoost LR Tuned Score: F1=0.887758"
   ]
  },
  {
   "cell_type": "markdown",
   "id": "120c385d-f98a-431e-bc5d-945f944258e1",
   "metadata": {},
   "source": [
    "## Plotting a DT"
   ]
  },
  {
   "cell_type": "code",
   "execution_count": null,
   "id": "9f666ec4-63f3-45dc-affa-291287d69329",
   "metadata": {
    "tags": []
   },
   "outputs": [],
   "source": [
    "X, y = f.Xy(df_11)"
   ]
  },
  {
   "cell_type": "code",
   "execution_count": null,
   "id": "bf7811a1-98a5-4d06-b8dc-3a7c12fe7dfc",
   "metadata": {},
   "outputs": [],
   "source": [
    "X.head(2)"
   ]
  },
  {
   "cell_type": "code",
   "execution_count": null,
   "id": "f8c98a9a-4a54-4434-8230-cd5dc360ccb0",
   "metadata": {},
   "outputs": [],
   "source": [
    "X_train, X_test, y_train, y_test = f.splitter(X, y)"
   ]
  },
  {
   "cell_type": "code",
   "execution_count": null,
   "id": "aafea262-2754-41b3-a696-2feeee4b2f34",
   "metadata": {},
   "outputs": [],
   "source": [
    "DT = DecisionTreeClassifier(max_depth=5, random_state=2021)"
   ]
  },
  {
   "cell_type": "markdown",
   "id": "d21023c2-b41b-476b-b5da-36e7f9be85c3",
   "metadata": {},
   "source": [
    "## Pipeline"
   ]
  },
  {
   "cell_type": "code",
   "execution_count": null,
   "id": "ac20a8d1-9717-46b7-abb5-b7c1e169f6e0",
   "metadata": {},
   "outputs": [],
   "source": [
    "pipeline = make_pipeline(preprocessing_mm, DT)"
   ]
  },
  {
   "cell_type": "code",
   "execution_count": null,
   "id": "83f9b153-dddd-4290-8ffd-d62ed8474757",
   "metadata": {},
   "outputs": [],
   "source": [
    "pipeline.fit(X_train,y_train)"
   ]
  },
  {
   "cell_type": "markdown",
   "id": "eb9443bb-8cf6-4b12-9f6c-3ce16aca8019",
   "metadata": {},
   "source": [
    "## Scoring"
   ]
  },
  {
   "cell_type": "code",
   "execution_count": null,
   "id": "c4a74147-8360-418d-bf57-6801ec687843",
   "metadata": {},
   "outputs": [],
   "source": [
    "f1_score(y_train, pipeline.predict(X_train))"
   ]
  },
  {
   "cell_type": "code",
   "execution_count": null,
   "id": "4b47208c-454b-48f6-8f15-2bfe856920f1",
   "metadata": {},
   "outputs": [],
   "source": [
    "modeling.report(pipeline, X_train, y_train, 'Baseline DT', 'All Data')"
   ]
  },
  {
   "cell_type": "code",
   "execution_count": null,
   "id": "ddf9a14d-82ff-491c-b317-7069725c4029",
   "metadata": {},
   "outputs": [],
   "source": [
    "modeling.history"
   ]
  },
  {
   "cell_type": "markdown",
   "id": "9fa1b8ca-500f-4f60-9103-6fce04c46d4f",
   "metadata": {},
   "source": [
    "## Subsplits"
   ]
  },
  {
   "cell_type": "code",
   "execution_count": null,
   "id": "002b630e-6b9a-44c5-adda-31ad39648c12",
   "metadata": {},
   "outputs": [],
   "source": [
    "f.subsplit_test(X_train, y_train,pipeline)"
   ]
  },
  {
   "cell_type": "markdown",
   "id": "1d7846db-da03-4271-be61-605ca5f63859",
   "metadata": {},
   "source": [
    "## DT Baseline Score: F1=0.890196"
   ]
  },
  {
   "cell_type": "code",
   "execution_count": null,
   "id": "af269bec-9a3d-46bc-aaff-c25abf1ff23a",
   "metadata": {},
   "outputs": [],
   "source": [
    "# plt.figure(figsize=(20,20))\n",
    "# plot_tree(pipeline[1])\n",
    "# plt.show()"
   ]
  },
  {
   "cell_type": "markdown",
   "id": "99a65c45-6fb0-4bcd-8df3-04cfe9082c28",
   "metadata": {},
   "source": [
    "## XGBoost"
   ]
  },
  {
   "cell_type": "markdown",
   "id": "474e181c-e2c2-425b-ab29-5515a82f5899",
   "metadata": {},
   "source": [
    "## PipeLine"
   ]
  },
  {
   "cell_type": "code",
   "execution_count": null,
   "id": "16d79603-9eb8-44c6-b252-587caefca3bf",
   "metadata": {},
   "outputs": [],
   "source": [
    "xboostclf = xgb.XGBClassifier(use_label_encoder=False)"
   ]
  },
  {
   "cell_type": "code",
   "execution_count": null,
   "id": "a0613ccf-5738-4638-8f9a-302f6b2458e2",
   "metadata": {
    "tags": []
   },
   "outputs": [],
   "source": [
    "X, y = f.Xy(df_11)"
   ]
  },
  {
   "cell_type": "code",
   "execution_count": null,
   "id": "78927fad-1376-4038-9998-184f0c180ab6",
   "metadata": {},
   "outputs": [],
   "source": [
    "X_train, X_test, y_train, y_test = f.splitter(X, y)"
   ]
  },
  {
   "cell_type": "code",
   "execution_count": null,
   "id": "8e252258-0eda-4e8f-9d11-c9fb06a27447",
   "metadata": {},
   "outputs": [],
   "source": [
    "xpipeline = make_pipeline(preprocessing_mm, xboostclf)"
   ]
  },
  {
   "cell_type": "code",
   "execution_count": null,
   "id": "7703ffe7-fe8b-4f95-9ef8-a8ba88b54a1d",
   "metadata": {},
   "outputs": [],
   "source": [
    "xpipeline.fit(X_train, y_train)"
   ]
  },
  {
   "cell_type": "code",
   "execution_count": null,
   "id": "b3ef160c-f209-4daf-ac02-99489251c02e",
   "metadata": {},
   "outputs": [],
   "source": [
    "xpipeline.fit(X_train, y_train)"
   ]
  },
  {
   "cell_type": "markdown",
   "id": "434213c5-e4a3-417a-827b-5c68081b190a",
   "metadata": {},
   "source": [
    "## Scoring"
   ]
  },
  {
   "cell_type": "code",
   "execution_count": null,
   "id": "dcc414f1-c864-44c2-8118-6eef34fc0cf0",
   "metadata": {},
   "outputs": [],
   "source": [
    "f1_score(y_train, xpipeline.predict(X_train))"
   ]
  },
  {
   "cell_type": "code",
   "execution_count": null,
   "id": "1e3efe82-bddf-47de-91a4-9d43a78b1dd9",
   "metadata": {},
   "outputs": [],
   "source": [
    "modeling.report(xpipeline, X_train, y_train, 'XGBoost Baseline', 'All Data' )"
   ]
  },
  {
   "cell_type": "code",
   "execution_count": null,
   "id": "e2133304-4ed2-45b6-9969-dac986c3db6b",
   "metadata": {},
   "outputs": [],
   "source": [
    "modeling.history"
   ]
  },
  {
   "cell_type": "markdown",
   "id": "26c4e5a1-371e-4ccf-9b59-489c73838d93",
   "metadata": {},
   "source": [
    "## Subsplits"
   ]
  },
  {
   "cell_type": "code",
   "execution_count": null,
   "id": "2d527f71-734b-4e04-8a4d-fe2c9102dee2",
   "metadata": {},
   "outputs": [],
   "source": [
    "f.subsplit_test(X_train, y_train,xpipeline)"
   ]
  },
  {
   "cell_type": "markdown",
   "id": "0caf0b59-c2c7-4553-b199-b92516ad225f",
   "metadata": {},
   "source": [
    "## XGBoost Baseline Score: F1=0.891262"
   ]
  },
  {
   "cell_type": "code",
   "execution_count": null,
   "id": "c30c2225-80c6-46e6-9ac3-4044b0f41d7b",
   "metadata": {},
   "outputs": [],
   "source": []
  }
 ],
 "metadata": {
  "kernelspec": {
   "display_name": "terry_stops",
   "language": "python",
   "name": "terry_stops"
  },
  "language_info": {
   "codemirror_mode": {
    "name": "ipython",
    "version": 3
   },
   "file_extension": ".py",
   "mimetype": "text/x-python",
   "name": "python",
   "nbconvert_exporter": "python",
   "pygments_lexer": "ipython3",
   "version": "3.9.4"
  }
 },
 "nbformat": 4,
 "nbformat_minor": 5
}
