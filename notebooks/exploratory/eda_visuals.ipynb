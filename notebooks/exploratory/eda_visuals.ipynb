{
 "cells": [
  {
   "cell_type": "code",
   "execution_count": 1,
   "metadata": {},
   "outputs": [],
   "source": [
    "%load_ext autoreload\n",
    "%autoreload 2"
   ]
  },
  {
   "cell_type": "code",
   "execution_count": 1,
   "metadata": {},
   "outputs": [],
   "source": [
    "# setting project path\n",
    "import os\n",
    "import sys\n",
    "\n",
    "gparent = os.path.join(os.pardir, os.pardir)\n",
    "sys.path.append(gparent)\n",
    "\n",
    "# imports\n",
    "import pandas as pd\n",
    "import numpy as np\n",
    "\n",
    "import matplotlib.pyplot as plt\n",
    "import seaborn as sns\n",
    "\n",
    "# setting style\n",
    "sns.set_theme('talk')\n",
    "plt.style.use('fivethirtyeight')\n",
    "sns.set_palette(palette='Blues_r')"
   ]
  },
  {
   "cell_type": "markdown",
   "metadata": {},
   "source": [
    "## Background Information\n",
    "\n",
    "This projects aims to create and train a predictive model on a dataset of Seattle Terry Stops Data. The initial data was obtain as a .csv file of 47,213 rows and 23 feature columns of Terry Stops Data.\n",
    "\n",
    "Data set obtained from:\n",
    "[Link](https://catalog.data.gov/dataset/terry-stops)\n",
    "\n",
    "Data Columns Explanations:\n",
    "[Link](https://data.seattle.gov/Public-Safety/Terry-Stops/28ny-9ts8)"
   ]
  },
  {
   "cell_type": "markdown",
   "metadata": {},
   "source": [
    "## Initial EDA and Visualizations"
   ]
  },
  {
   "cell_type": "code",
   "execution_count": 2,
   "metadata": {},
   "outputs": [],
   "source": [
    "path = os.path.join(gparent, 'data/processed', 'eda.csv')\n",
    "df = pd.read_csv(path, keep_default_na=False)"
   ]
  },
  {
   "cell_type": "code",
   "execution_count": 3,
   "metadata": {},
   "outputs": [
    {
     "data": {
      "text/html": [
       "<div>\n",
       "<style scoped>\n",
       "    .dataframe tbody tr th:only-of-type {\n",
       "        vertical-align: middle;\n",
       "    }\n",
       "\n",
       "    .dataframe tbody tr th {\n",
       "        vertical-align: top;\n",
       "    }\n",
       "\n",
       "    .dataframe thead th {\n",
       "        text-align: right;\n",
       "    }\n",
       "</style>\n",
       "<table border=\"1\" class=\"dataframe\">\n",
       "  <thead>\n",
       "    <tr style=\"text-align: right;\">\n",
       "      <th></th>\n",
       "      <th>Target</th>\n",
       "      <th>Subject Age Group</th>\n",
       "      <th>Stop Resolution</th>\n",
       "      <th>Weapon Type</th>\n",
       "      <th>Officer ID</th>\n",
       "      <th>Officer YOB</th>\n",
       "      <th>Officer Gender</th>\n",
       "      <th>Officer Race</th>\n",
       "      <th>Subject Perceived Race</th>\n",
       "      <th>Subject Perceived Gender</th>\n",
       "      <th>...</th>\n",
       "      <th>Officer Squad</th>\n",
       "      <th>Frisk Flag</th>\n",
       "      <th>Precinct</th>\n",
       "      <th>Weapon Flag</th>\n",
       "      <th>Reported Year</th>\n",
       "      <th>Reported Month</th>\n",
       "      <th>Day of Month</th>\n",
       "      <th>Day of Week</th>\n",
       "      <th>Reported Hour</th>\n",
       "      <th>Beat Flag</th>\n",
       "    </tr>\n",
       "  </thead>\n",
       "  <tbody>\n",
       "    <tr>\n",
       "      <th>0</th>\n",
       "      <td>1</td>\n",
       "      <td>NA</td>\n",
       "      <td>Arrest</td>\n",
       "      <td>None</td>\n",
       "      <td>7500</td>\n",
       "      <td>1984</td>\n",
       "      <td>M</td>\n",
       "      <td>Black</td>\n",
       "      <td>Asian</td>\n",
       "      <td>Male</td>\n",
       "      <td>...</td>\n",
       "      <td>SOUTH PCT 1ST W - ROBERT</td>\n",
       "      <td>0</td>\n",
       "      <td>South</td>\n",
       "      <td>0</td>\n",
       "      <td>2015</td>\n",
       "      <td>10</td>\n",
       "      <td>16</td>\n",
       "      <td>4</td>\n",
       "      <td>11</td>\n",
       "      <td>1</td>\n",
       "    </tr>\n",
       "    <tr>\n",
       "      <th>1</th>\n",
       "      <td>0</td>\n",
       "      <td>NA</td>\n",
       "      <td>Field Contact</td>\n",
       "      <td>None</td>\n",
       "      <td>5670</td>\n",
       "      <td>1965</td>\n",
       "      <td>M</td>\n",
       "      <td>White</td>\n",
       "      <td>NA</td>\n",
       "      <td>NA</td>\n",
       "      <td>...</td>\n",
       "      <td>NA</td>\n",
       "      <td>0</td>\n",
       "      <td>NA</td>\n",
       "      <td>0</td>\n",
       "      <td>2015</td>\n",
       "      <td>3</td>\n",
       "      <td>19</td>\n",
       "      <td>3</td>\n",
       "      <td>7</td>\n",
       "      <td>0</td>\n",
       "    </tr>\n",
       "  </tbody>\n",
       "</table>\n",
       "<p>2 rows × 23 columns</p>\n",
       "</div>"
      ],
      "text/plain": [
       "   Target Subject Age Group Stop Resolution Weapon Type Officer ID  \\\n",
       "0       1                NA          Arrest        None       7500   \n",
       "1       0                NA   Field Contact        None       5670   \n",
       "\n",
       "   Officer YOB Officer Gender Officer Race Subject Perceived Race  \\\n",
       "0         1984              M        Black                  Asian   \n",
       "1         1965              M        White                     NA   \n",
       "\n",
       "  Subject Perceived Gender  ...             Officer Squad Frisk Flag Precinct  \\\n",
       "0                     Male  ...  SOUTH PCT 1ST W - ROBERT          0    South   \n",
       "1                       NA  ...                        NA          0       NA   \n",
       "\n",
       "  Weapon Flag  Reported Year Reported Month  Day of Month  Day of Week  \\\n",
       "0           0           2015             10            16            4   \n",
       "1           0           2015              3            19            3   \n",
       "\n",
       "   Reported Hour  Beat Flag  \n",
       "0             11          1  \n",
       "1              7          0  \n",
       "\n",
       "[2 rows x 23 columns]"
      ]
     },
     "execution_count": 3,
     "metadata": {},
     "output_type": "execute_result"
    }
   ],
   "source": [
    "df.head(2)"
   ]
  },
  {
   "cell_type": "markdown",
   "metadata": {
    "tags": []
   },
   "source": [
    "## Visualizing the Proportion of Terry Stops by Race"
   ]
  },
  {
   "cell_type": "code",
   "execution_count": 5,
   "metadata": {},
   "outputs": [],
   "source": [
    "# proportion of terry stops by race\n",
    "stop_percent = df['Subject Perceived Race'].value_counts('normalize=True')\n",
    "\n",
    "sdf = pd.DataFrame(stop_percent)\n",
    "sdf.reset_index(inplace=True)\n",
    "sdf.columns = ['Race', 'Percentage']"
   ]
  },
  {
   "cell_type": "code",
   "execution_count": 6,
   "metadata": {},
   "outputs": [
    {
     "data": {
      "image/png": "[encoded data removed]",
      "text/plain": [
       "<Figure size 1440x576 with 1 Axes>"
      ]
     },
     "metadata": {},
     "output_type": "display_data"
    }
   ],
   "source": [
    "fig, ax = plt.subplots(figsize=(20,8))\n",
    "sns.barplot(x='Percentage', y='Race', edgecolor='deepskyblue', palette='Blues_r', data=sdf)\n",
    "ax.tick_params(labelsize=20)\n",
    "plt.title('Percentage of Terry Stops by Race', fontsize=30)\n",
    "plt.xlabel('Percent of Stops', fontsize=20)\n",
    "plt.ylabel(\"\")\n",
    "plt.show()"
   ]
  },
  {
   "cell_type": "markdown",
   "metadata": {},
   "source": [
    "## Proportion of Stops by Race"
   ]
  },
  {
   "cell_type": "code",
   "execution_count": 7,
   "metadata": {},
   "outputs": [
    {
     "name": "stdout",
     "output_type": "stream",
     "text": [
      "White           22951\n",
      "Black           13985\n",
      "Unknown          2607\n",
      "NA               1870\n",
      "Hispanic         1664\n",
      "Asian            1524\n",
      "N_American       1351\n",
      "Multi-Racial      800\n",
      "Other             152\n",
      "P_Islander         56\n",
      "Name: Subject Perceived Race, dtype: int64\n"
     ]
    },
    {
     "data": {
      "text/plain": [
       "White           0.488735\n",
       "Black           0.297807\n",
       "Unknown         0.055515\n",
       "NA              0.039821\n",
       "Hispanic        0.035434\n",
       "Asian           0.032453\n",
       "N_American      0.028769\n",
       "Multi-Racial    0.017036\n",
       "Other           0.003237\n",
       "P_Islander      0.001193\n",
       "Name: Subject Perceived Race, dtype: float64"
      ]
     },
     "execution_count": 7,
     "metadata": {},
     "output_type": "execute_result"
    }
   ],
   "source": [
    "print(df['Subject Perceived Race'].value_counts())\n",
    "df['Subject Perceived Race'].value_counts(normalize=True)"
   ]
  },
  {
   "cell_type": "markdown",
   "metadata": {},
   "source": [
    "## Visualizing the Proportion of Arrests by Race"
   ]
  },
  {
   "cell_type": "code",
   "execution_count": 8,
   "metadata": {},
   "outputs": [],
   "source": [
    "# creating an arrest rate data frame and visualization\n",
    "arrest_rates = df[df['Target']==1]['Subject Perceived Race'].value_counts(normalize=True)\n",
    "\n",
    "adf = pd.DataFrame(arrest_rates)\n",
    "adf.reset_index(inplace=True)\n",
    "adf.columns = ['Race', 'Proportion of Arrests']"
   ]
  },
  {
   "cell_type": "code",
   "execution_count": 9,
   "metadata": {},
   "outputs": [
    {
     "data": {
      "image/png": "[encoded data removed]",
      "text/plain": [
       "<Figure size 1440x576 with 1 Axes>"
      ]
     },
     "metadata": {},
     "output_type": "display_data"
    }
   ],
   "source": [
    "fig, ax = plt.subplots(figsize =(20, 8))\n",
    "sns.barplot(x='Proportion of Arrests', y='Race', data=adf, edgecolor='deepskyblue', palette='Blues_r')\n",
    "plt.title('Proportion of Arrests by Race', fontsize=30)\n",
    "ax.tick_params(labelsize=20)\n",
    "plt.xlabel(\"\")\n",
    "plt.ylabel(\"\")\n",
    "plt.show()"
   ]
  },
  {
   "cell_type": "markdown",
   "metadata": {},
   "source": [
    "## Proportion of Arrests by Race"
   ]
  },
  {
   "cell_type": "code",
   "execution_count": 10,
   "metadata": {},
   "outputs": [
    {
     "name": "stdout",
     "output_type": "stream",
     "text": [
      "White           5491\n",
      "Black           3894\n",
      "Unknown          590\n",
      "Asian            433\n",
      "Hispanic         398\n",
      "N_American       395\n",
      "NA               193\n",
      "Multi-Racial     162\n",
      "Other             40\n",
      "P_Islander        15\n",
      "Name: Subject Perceived Race, dtype: int64\n"
     ]
    },
    {
     "data": {
      "text/plain": [
       "White           0.472914\n",
       "Black           0.335372\n",
       "Unknown         0.050814\n",
       "Asian           0.037292\n",
       "Hispanic        0.034278\n",
       "N_American      0.034019\n",
       "NA              0.016622\n",
       "Multi-Racial    0.013952\n",
       "Other           0.003445\n",
       "P_Islander      0.001292\n",
       "Name: Subject Perceived Race, dtype: float64"
      ]
     },
     "execution_count": 10,
     "metadata": {},
     "output_type": "execute_result"
    }
   ],
   "source": [
    "# checking proportion of arrests by race\n",
    "print(df[df['Stop Resolution'] == 'Arrest']['Subject Perceived Race'].value_counts())\n",
    "df[df['Stop Resolution'] == 'Arrest']['Subject Perceived Race'].value_counts(normalize=True)"
   ]
  },
  {
   "cell_type": "code",
   "execution_count": 11,
   "metadata": {},
   "outputs": [
    {
     "name": "stdout",
     "output_type": "stream",
     "text": [
      "Mean Arrest Rate: 0.1\n"
     ]
    }
   ],
   "source": [
    "# mean arrest rate & arrest rates by race\n",
    "mean_arrest_rate = adf['Proportion of Arrests'].mean()\n",
    "print(f'Mean Arrest Rate: {round(mean_arrest_rate, 2)}')"
   ]
  },
  {
   "cell_type": "markdown",
   "metadata": {},
   "source": [
    "## Analysis: Disproportionate Outcomes\n",
    "We can see that when we compare the proportion of stops and arrests to the proportion of each race in the population there are wildly disproportionate outcomes for certain groups.\n",
    "\n",
    "**According to July 1, 2019 US Census Data for Seattle**\n",
    "\n",
    "- **Asian**: 15.4% of population, 3.2% of stops, 3.7% of arrests.\n",
    "\n",
    "- **White**: (Non-Hispanic) 63.8% of population, 48.9% of stops, 47.3% of arrests.\n",
    "\n",
    "- **Black**: 7.3% of population, 29.9% of stops, 33.5% of arrests.\n",
    "\n",
    "- **Native American**: 0.5% of population, 2.9% of stops, 3.4% of arrests.\n",
    "\n",
    "- **Hispanic**: 6.7% of population, 3.5% of stops, 3.4% of arrests.\n",
    "\n",
    "- **Multi-Racial**: 6.9% of population, 1.7% of stops, 1.4% of arrests.\n",
    "\n",
    "- **Pacific Islander**: 0.3% of population, .12% of stops, .13% of arrests.\n",
    "\n",
    "The Unknown racial category is absent from the census data but makes up 5.6% of stops and 5.1% of arrests."
   ]
  },
  {
   "cell_type": "markdown",
   "metadata": {},
   "source": [
    "## Visualizing the Rate of Weapons Found\n",
    "Checking to see if the stop and arrest rates are in line with the rate that weapons are found on subjects according to race. We'll calculate a weapons found rate by race and plot the results."
   ]
  },
  {
   "cell_type": "code",
   "execution_count": 12,
   "metadata": {
    "tags": []
   },
   "outputs": [],
   "source": [
    "# creating a weapons by race data frame\n",
    "wdf = pd.DataFrame(df.groupby('Subject Perceived Race')['Weapon Flag'].value_counts())\n",
    "\n",
    "# calculating the weapons found rate by race\n",
    "races = df['Subject Perceived Race'].unique()\n",
    "hit_rates = []\n",
    "for race in races:\n",
    "    hits = wdf.loc[race]['Weapon Flag'][1]   #number of people in the racial group found with a weapon\n",
    "    #total number in the racial group stopped\n",
    "    total = df[df['Subject Perceived Race']\\\n",
    "               == race].value_counts().sum() \n",
    "    rate = hits/total\n",
    "    hit_rates.append([race, rate])\n",
    "\n",
    "#  calculating the meat weapons found rate\n",
    "mean_hit_rate = np.array([hit_rates[i][1] for i in range(len(hit_rates))]).mean()\n",
    "\n",
    "# creating a hit rate data frame and visualization\n",
    "hr_df = pd.DataFrame(hit_rates, columns = ['Race', 'Hit Rate']).sort_values(by='Hit Rate', ascending=False)"
   ]
  },
  {
   "cell_type": "code",
   "execution_count": 13,
   "metadata": {},
   "outputs": [
    {
     "data": {
      "text/plain": [
       "743"
      ]
     },
     "execution_count": 13,
     "metadata": {},
     "output_type": "execute_result"
    }
   ],
   "source": [
    "wdf.loc['Black']['Weapon Flag'][1]"
   ]
  },
  {
   "cell_type": "code",
   "execution_count": 15,
   "metadata": {
    "tags": []
   },
   "outputs": [
    {
     "data": {
      "image/png": "[encoded data removed]",
      "text/plain": [
       "<Figure size 1440x576 with 1 Axes>"
      ]
     },
     "metadata": {},
     "output_type": "display_data"
    }
   ],
   "source": [
    "fig, ax = plt.subplots(figsize =(20, 8))\n",
    "sns.barplot(y='Race', x='Hit Rate', data=hr_df, palette='Blues_r', edgecolor='deepskyblue')\n",
    "plt.title('Weapons Found Rate by Race', fontsize=30)\n",
    "ax.tick_params(labelsize=20)\n",
    "plt.ylabel(\"\")\n",
    "plt.xlabel('Rate', fontsize=20)\n",
    "plt.show()"
   ]
  },
  {
   "cell_type": "code",
   "execution_count": 21,
   "metadata": {},
   "outputs": [
    {
     "name": "stdout",
     "output_type": "stream",
     "text": [
      "Mean Weapon Found Rate: 0.04979407805711884\n"
     ]
    },
    {
     "data": {
      "text/plain": [
       "[['White', 0.06496448956472485],\n",
       " ['Unknown', 0.06060606060606061],\n",
       " ['Hispanic', 0.059495192307692304],\n",
       " ['Asian', 0.05774278215223097],\n",
       " ['Black', 0.0531283518055059],\n",
       " ['N_American', 0.05181347150259067],\n",
       " ['Multi-Racial', 0.04875],\n",
       " ['NA', 0.045989304812834225],\n",
       " ['P_Islander', 0.03571428571428571],\n",
       " ['Other', 0.019736842105263157]]"
      ]
     },
     "execution_count": 21,
     "metadata": {},
     "output_type": "execute_result"
    }
   ],
   "source": [
    "print(f'Mean Weapon Found Rate: {mean_hit_rate}')\n",
    "sorted(hit_rates, key=lambda x: x[1])[::-1]"
   ]
  },
  {
   "cell_type": "markdown",
   "metadata": {},
   "source": [
    "## Analysis\n",
    "From the visualization and calculation above it appears that White & Hispanic subjects are stops less frequently than the weapons found rate suggests should be. Conversly, Asian, Black, Native American, and Pacific Islander subjects are stopped and arrested at a elevated rates relative the weapons found rate for each group."
   ]
  },
  {
   "cell_type": "markdown",
   "metadata": {},
   "source": [
    "## Visualizing Stop Resolutions by Race, Age & Gender"
   ]
  },
  {
   "cell_type": "markdown",
   "metadata": {},
   "source": [
    "## Stop Outcomes by Race"
   ]
  },
  {
   "cell_type": "code",
   "execution_count": null,
   "metadata": {},
   "outputs": [],
   "source": [
    "# making a list of the racial categories for visualization\n",
    "races = df['Subject Perceived Race'].unique()"
   ]
  },
  {
   "cell_type": "code",
   "execution_count": null,
   "metadata": {
    "tags": []
   },
   "outputs": [],
   "source": [
    "# checking outcomes by race\n",
    "fig, axes=plt.subplots(figsize=(15,7))\n",
    "\n",
    "for race in races:\n",
    "    race_df = df.groupby('Subject Perceived Race')['Stop Resolution']\\\n",
    "                        .value_counts(normalize=True)[race]\n",
    "    race_df.plot(label=f'{race}')\n",
    "plt.title('Stop Outcomes by Race Normalized')    \n",
    "plt.xticks(np.arange(5), ['Field Contact','Offense Report',\\\n",
    "                          'Arrest', 'Referred for Prosecution',\\\n",
    "                         'Citation / Infraction'], rotation=45)\n",
    "plt.legend()\n",
    "plt.show()"
   ]
  },
  {
   "cell_type": "markdown",
   "metadata": {},
   "source": [
    "## Unpacking The Racial Categories for Visual Clarity\n",
    "The plot above is a little cluttered so we'll break up the categories into two different plots"
   ]
  },
  {
   "cell_type": "code",
   "execution_count": null,
   "metadata": {},
   "outputs": [],
   "source": [
    "excluded = ['NA', 'Other', 'Unknown','Multi-Racial', 'P_Islander']\n",
    "new_race_list = [x for x in races if x not in excluded]"
   ]
  },
  {
   "cell_type": "code",
   "execution_count": null,
   "metadata": {},
   "outputs": [],
   "source": [
    "# checking outcomes by race\n",
    "fig, axes=plt.subplots(figsize=(15,7))\n",
    "\n",
    "for race in new_race_list:\n",
    "    race_df = df.groupby('Subject Perceived Race')['Stop Resolution'].value_counts(normalize=True)[race]\n",
    "    race_df.plot(label=f'{race}')\n",
    "plt.title('Stop Outcomes by Race Normalized')    \n",
    "plt.xticks(rotation=45)\n",
    "plt.legend()\n",
    "plt.show()"
   ]
  },
  {
   "cell_type": "code",
   "execution_count": null,
   "metadata": {},
   "outputs": [],
   "source": [
    "# checking outcomes by race\n",
    "fig, axes=plt.subplots(figsize=(15,7))\n",
    "\n",
    "for race in excluded:\n",
    "    race_df = df.groupby('Subject Perceived Race')['Stop Resolution'].value_counts(normalize=True)[race]\n",
    "    race_df.plot(label=f'{race}')\n",
    "plt.title('Stop Outcomes by Race Normalized')    \n",
    "plt.xticks(np.arange(5), ['Field Contact','Offense Report',\\\n",
    "                          'Arrest', 'Referred for Prosecution',\\\n",
    "                         'Citation / Infraction'], rotation=45)\n",
    "plt.legend()\n",
    "plt.show()"
   ]
  },
  {
   "cell_type": "markdown",
   "metadata": {},
   "source": [
    "## Stop Outcomes by Race"
   ]
  },
  {
   "cell_type": "code",
   "execution_count": null,
   "metadata": {},
   "outputs": [],
   "source": [
    "# checking arrest outcomes by race\n",
    "df.groupby('Subject Perceived Race')['Target']\\\n",
    ".value_counts(normalize=True).unstack().sort_values(by=1, ascending=False)"
   ]
  },
  {
   "cell_type": "markdown",
   "metadata": {},
   "source": [
    "## Analysis\n",
    "We can see that Asian, Black, Native American and Pacific Islander subjects are arrested at a elevated rates relative to Hispanic, Multi-Racial,  and White subjects, confirming our earlier anaylsis."
   ]
  },
  {
   "cell_type": "markdown",
   "metadata": {},
   "source": [
    "## Plotting Stop Outcomes by Age Cohort"
   ]
  },
  {
   "cell_type": "code",
   "execution_count": null,
   "metadata": {},
   "outputs": [],
   "source": [
    "#  getting age list\n",
    "ages = df['Subject Age Group'].unique()"
   ]
  },
  {
   "cell_type": "code",
   "execution_count": null,
   "metadata": {},
   "outputs": [],
   "source": [
    "# checking outcomes by age category\n",
    "fig, axes=plt.subplots(figsize=(15,7))\n",
    "\n",
    "for age in ages:\n",
    "    age_df = df.groupby('Subject Age Group')['Stop Resolution'].value_counts(normalize=True)[age]\n",
    "    age_df.plot(label=f'{age}')\n",
    "plt.title('Stop Outcome by Age Cohort')    \n",
    "plt.xticks(rotation=45)\n",
    "plt.legend()\n",
    "plt.show()"
   ]
  },
  {
   "cell_type": "code",
   "execution_count": null,
   "metadata": {},
   "outputs": [],
   "source": [
    "df.groupby('Subject Age Group')['Target'].value_counts(normalize=True).unstack()\\\n",
    ".sort_values(by=1, ascending=False)"
   ]
  },
  {
   "cell_type": "markdown",
   "metadata": {},
   "source": [
    "## Analysis: Children and And Adults 45+ Are Arrested at Slighly Lower Rates Than Other Cohorts"
   ]
  },
  {
   "cell_type": "markdown",
   "metadata": {},
   "source": [
    "## Visualizing Stop Outcomes By Gender"
   ]
  },
  {
   "cell_type": "code",
   "execution_count": null,
   "metadata": {},
   "outputs": [],
   "source": [
    "# getting gender list\n",
    "genders = df['Subject Perceived Gender'].unique()"
   ]
  },
  {
   "cell_type": "code",
   "execution_count": null,
   "metadata": {},
   "outputs": [],
   "source": [
    "# checking outcome by gender\n",
    "fig, axes=plt.subplots(figsize=(15,7))\n",
    "\n",
    "for g in genders:\n",
    "    age_df = df.groupby('Subject Perceived Gender')\\\n",
    "    ['Stop Resolution'].value_counts(normalize=True)[g]\n",
    "    age_df.plot(label=f'{g}')\n",
    "plt.title('Stop Outcome by Gender')    \n",
    "plt.xticks(np.arange(5), ['Field Contact','Offense Report',\\\n",
    "                          'Arrest', 'Referred for Prosecution',\\\n",
    "                         'Citation / Infraction'], rotation=45)\n",
    "plt.legend()\n",
    "plt.tight_layout()\n",
    "plt.show()"
   ]
  },
  {
   "cell_type": "code",
   "execution_count": null,
   "metadata": {},
   "outputs": [],
   "source": [
    "df.groupby('Subject Perceived Gender')\\\n",
    "['Target'].value_counts(normalize=True).unstack()\\\n",
    ".sort_values(by=1, ascending=False)"
   ]
  },
  {
   "cell_type": "markdown",
   "metadata": {},
   "source": [
    "## Analysis: Male and Female Subjects Are Arrested at About the Same Rate\n",
    "Both are arrested at a higher rate than gender diverse or ambiguous subjects."
   ]
  },
  {
   "cell_type": "markdown",
   "metadata": {},
   "source": [
    "## Visualizing the Target Feature"
   ]
  },
  {
   "cell_type": "code",
   "execution_count": null,
   "metadata": {},
   "outputs": [],
   "source": [
    "# getting normalized target value counts by race for visualization\n",
    "target_race = df.groupby('Subject Perceived Race')['Target'].value_counts().unstack()\n",
    "\n",
    "# visualizing target values by race\n",
    "target_race.plot(kind='barh', figsize=(15,7), color=['skyblue', 'darkblue'], edgecolor='deepskyblue')\n",
    "plt.title('Stop Outcomes by Subject Race')\n",
    "plt.xticks(rotation=45)\n",
    "plt.legend(title='Outcome', labels=['No Arrest', 'Arrest'])\n",
    "plt.ylabel(\"\")\n",
    "plt.show()"
   ]
  },
  {
   "cell_type": "code",
   "execution_count": null,
   "metadata": {},
   "outputs": [],
   "source": [
    "# getting target value counts by race for visualization\n",
    "target_race = df.groupby('Subject Perceived Race')\\\n",
    "                        ['Target'].value_counts(normalize=True).unstack()\n",
    "\n",
    "# visualizing target values by race\n",
    "target_race.plot(kind='barh', figsize=(15,8), color=['skyblue', 'darkblue'])\n",
    "plt.title('Outcome Rates by Subject Race')\n",
    "plt.xlabel('')\n",
    "plt.ylabel('')\n",
    "plt.xticks(rotation=45)\n",
    "plt.legend(title='Outcome', labels=['No Arrest', 'Arrest'])\n",
    "plt.show()"
   ]
  },
  {
   "cell_type": "code",
   "execution_count": null,
   "metadata": {},
   "outputs": [],
   "source": [
    "target_race.sort_values(by=1, ascending=False)"
   ]
  },
  {
   "cell_type": "markdown",
   "metadata": {},
   "source": [
    "## Analysis\n",
    "Again we see that Asian, Black, Native American and Pacific Islander subjects are arrested at a elevated rates relative to Hispanic, Multi-Racial,  and White subjects, confirming our earlier anaylsis."
   ]
  },
  {
   "cell_type": "markdown",
   "metadata": {},
   "source": [
    "## Visualizing the Target by Subject Gender"
   ]
  },
  {
   "cell_type": "code",
   "execution_count": null,
   "metadata": {},
   "outputs": [],
   "source": [
    "#  getting target value counts by gender\n",
    "target_gender = df.groupby('Subject Perceived Gender')['Target'].value_counts().unstack()\n",
    "\n",
    "# visualizing target values by gender\n",
    "target_gender.plot(kind='bar', figsize=(15,7), color=['skyblue', 'darkblue'])\n",
    "plt.title('Outcomes by Subject Gender')                                                 \n",
    "plt.xlabel('Perceived Gender')\n",
    "plt.xticks(rotation=45)\n",
    "plt.legend(title='Outcome', labels=['No Arrest', 'Arrest'])\n",
    "plt.show()"
   ]
  },
  {
   "cell_type": "code",
   "execution_count": null,
   "metadata": {},
   "outputs": [],
   "source": [
    "#  getting target value counts by gender\n",
    "target_gender = df.groupby('Subject Perceived Gender')\\\n",
    "['Target'].value_counts(normalize=True).unstack()\n",
    "\n",
    "# visualizing target values by gender\n",
    "target_gender.plot(kind='bar', figsize=(15,7), color=['skyblue', 'darkblue'])\n",
    "plt.title('Outcome Rates by Subject Gender')                                                 \n",
    "plt.xlabel('Perceived Gender')\n",
    "plt.xticks(rotation=45)\n",
    "plt.legend(title='Outcome', labels=['No Arrest', 'Arrest'])\n",
    "plt.show()"
   ]
  },
  {
   "cell_type": "code",
   "execution_count": null,
   "metadata": {},
   "outputs": [],
   "source": [
    "target_gender.sort_values(by=1, ascending=False)"
   ]
  },
  {
   "cell_type": "markdown",
   "metadata": {},
   "source": [
    "## Analysis: Male and Female Subjects Are Arrested at About the Same Rate\n",
    "Both are arrested at a higher rate than gender diverse or ambiguous subjects."
   ]
  },
  {
   "cell_type": "markdown",
   "metadata": {},
   "source": [
    "## Visualizing the Target by Officer Race"
   ]
  },
  {
   "cell_type": "code",
   "execution_count": null,
   "metadata": {},
   "outputs": [],
   "source": [
    "# getting target value counts by officer race\n",
    "officer_races = df.groupby('Officer Race')['Target'].value_counts().unstack()\n",
    "\n",
    "officer_races.plot(kind='barh', figsize=(15,7), color=['skyblue', 'darkblue'])\n",
    "plt.title('Outcomes by Officer Race')\n",
    "plt.xlabel('')\n",
    "plt.ylabel('')\n",
    "plt.xticks(rotation=45)\n",
    "plt.legend(title='Outcome', labels=['No Arrest', 'Arrest'])\n",
    "plt.show()"
   ]
  },
  {
   "cell_type": "code",
   "execution_count": null,
   "metadata": {},
   "outputs": [],
   "source": [
    "officer_races = df.groupby('Officer Race')['Target'].value_counts(normalize=True).unstack()\n",
    "\n",
    "officer_races.plot(kind='barh', figsize=(15,8), color=['skyblue', 'darkblue'])\n",
    "\n",
    "plt.title('Outcome Rates by Officer Race')\n",
    "plt.xlabel('Officer Race')\n",
    "plt.xticks(rotation=45)\n",
    "plt.xlabel('')\n",
    "plt.ylabel('')\n",
    "plt.legend(title='Outcome', labels=['No Arrest', 'Arrest'])\n",
    "plt.show()"
   ]
  },
  {
   "cell_type": "code",
   "execution_count": null,
   "metadata": {},
   "outputs": [],
   "source": [
    "df.groupby('Officer Race')['Target'].value_counts(normalize=True)\\\n",
    ".unstack().sort_values(by=1, ascending=False)"
   ]
  },
  {
   "cell_type": "markdown",
   "metadata": {},
   "source": [
    "## Analysis: Black & Pacific Islander Officers are Less Likely to Arrest Subjects"
   ]
  },
  {
   "cell_type": "markdown",
   "metadata": {},
   "source": [
    "## Visualizing the Target by Officer Gender"
   ]
  },
  {
   "cell_type": "code",
   "execution_count": null,
   "metadata": {},
   "outputs": [],
   "source": [
    "officer_gender = df.groupby('Officer Gender')['Target'].value_counts().unstack()\n",
    "\n",
    "officer_gender.plot(kind='bar', figsize=(20,8), color=['skyblue', 'darkblue'], edgecolor='deepskyblue')\n",
    "plt.title('Outcomes by Officer Gender', fontsize=30)\n",
    "plt.xlabel('Officer Gender', fontsize=20)\n",
    "plt.xticks(rotation=0)\n",
    "plt.legend(title='Outcome', labels=['No Arrest', 'Arrest'])\n",
    "plt.show()"
   ]
  },
  {
   "cell_type": "code",
   "execution_count": null,
   "metadata": {},
   "outputs": [],
   "source": [
    "officer_gender = df.groupby('Officer Gender')['Target'].value_counts(normalize=True).unstack()\n",
    "\n",
    "ax = officer_gender.plot(kind='bar', figsize=(20,8), color=['skyblue', 'darkblue'], edgecolor='deepskyblue')\n",
    "plt.title('Outcome Rates by Officer Gender', fontsize=30)\n",
    "ax.tick_params(labelsize=20)\n",
    "plt.xticks(rotation=0)\n",
    "plt.xlabel('Officer Gender', fontsize=20)\n",
    "plt.legend(title='Outcome', labels=['No Arrest', 'Arrest'])\n",
    "plt.show()"
   ]
  },
  {
   "cell_type": "code",
   "execution_count": null,
   "metadata": {},
   "outputs": [],
   "source": [
    "df.groupby('Officer Gender')['Target'].value_counts(normalize=True).unstack()\\\n",
    ".sort_values(by=1, ascending=False)                             "
   ]
  },
  {
   "cell_type": "markdown",
   "metadata": {},
   "source": [
    "## Analysis: Male Officer Slightly More Likely to Arrest Subjects"
   ]
  },
  {
   "cell_type": "markdown",
   "metadata": {},
   "source": [
    "## Visualizing the Target by Precinct"
   ]
  },
  {
   "cell_type": "code",
   "execution_count": null,
   "metadata": {},
   "outputs": [],
   "source": [
    "pdf = df.groupby('Precinct')['Target'].value_counts().unstack()\n",
    "pdf.plot(kind='bar', figsize=(20,8), color=['skyblue', 'darkblue'], edgecolor='deepskyblue')\n",
    "\n",
    "plt.xticks(rotation=0)\n",
    "plt.title('Outcome by Precinct', fontsize=30)\n",
    "plt.xlabel('')\n",
    "plt.legend(title='Outcome', labels=['No Arrest', 'Arrest'])\n",
    "plt.show()"
   ]
  },
  {
   "cell_type": "code",
   "execution_count": null,
   "metadata": {
    "tags": []
   },
   "outputs": [],
   "source": [
    "pdf = df.groupby('Precinct')['Target'].value_counts(normalize=True).unstack()\n",
    "pdf.plot(kind='bar', figsize=(20,8), color=['skyblue', 'darkblue'], edgecolor='deepskyblue')\n",
    "\n",
    "plt.xticks(rotation=0)\n",
    "plt.title('Outcome Rates by Precinct', fontsize=30)\n",
    "plt.xlabel('')\n",
    "plt.legend(title='Outcome', labels=['No Arrest', 'Arrest'])\n",
    "plt.show()"
   ]
  },
  {
   "cell_type": "code",
   "execution_count": null,
   "metadata": {},
   "outputs": [],
   "source": [
    "pdf.sort_values(by=1,ascending=False)"
   ]
  },
  {
   "cell_type": "markdown",
   "metadata": {},
   "source": [
    "## Analysis: Stops With No Precinct Information Are Much Less Likely to End in Arrest\n",
    "Stops in the North and Southwest precincts are also less likely to end in arrest."
   ]
  },
  {
   "cell_type": "markdown",
   "metadata": {},
   "source": [
    "## Visualizing the Target by Beat"
   ]
  },
  {
   "cell_type": "code",
   "execution_count": null,
   "metadata": {},
   "outputs": [],
   "source": [
    "bdf = df.groupby('Beat Flag')['Target'].value_counts().unstack()\n",
    "bdf.plot(kind='bar', figsize=(20,8), color=['skyblue', 'darkblue'], edgecolor='deepskyblue')\n",
    "\n",
    "plt.xticks(rotation=0)\n",
    "plt.title('Outcome by Beat Flag', fontsize=30)\n",
    "plt.xlabel('')\n",
    "plt.xticks(np.arange(2), ['No Beat Listed','Beat Listed'], rotation=0)\n",
    "plt.legend(title='Outcome', labels=['No Arrest', 'Arrest'])\n",
    "plt.show()"
   ]
  },
  {
   "cell_type": "code",
   "execution_count": null,
   "metadata": {},
   "outputs": [],
   "source": [
    "bdf = df.groupby('Beat Flag')['Target'].value_counts(normalize=True).unstack()\n",
    "bdf.plot(kind='bar', figsize=(20,8), color=['skyblue', 'darkblue'], edgecolor='deepskyblue')\n",
    "\n",
    "plt.xticks(rotation=0)\n",
    "plt.title('Outcome Rates by Beat Flag', fontsize=30)\n",
    "plt.xlabel('')\n",
    "plt.xticks(np.arange(2), ['No Beat Listed','Beat Listed'], rotation=0)\n",
    "plt.legend(title='Outcome', labels=['No Arrest', 'Arrest'])\n",
    "plt.show()"
   ]
  },
  {
   "cell_type": "code",
   "execution_count": null,
   "metadata": {},
   "outputs": [],
   "source": [
    "bdf.sort_values(by=1, ascending=False)"
   ]
  },
  {
   "cell_type": "markdown",
   "metadata": {},
   "source": [
    "## Analysis: Stops With No Beat Information Are Much Less Likely to End in Arrest"
   ]
  },
  {
   "cell_type": "markdown",
   "metadata": {},
   "source": [
    "## Proportion of Stops by Race"
   ]
  },
  {
   "cell_type": "code",
   "execution_count": null,
   "metadata": {},
   "outputs": [],
   "source": [
    "beats = df.groupby(['Beat Flag'])['Subject Perceived Race'].value_counts(normalize=True).unstack()"
   ]
  },
  {
   "cell_type": "code",
   "execution_count": null,
   "metadata": {},
   "outputs": [],
   "source": [
    "beats.loc[1].plot(kind='bar', figsize=(20,8), color=['skyblue', 'darkblue'], edgecolor='deepskyblue')\n",
    "plt.xticks(rotation=0)\n",
    "plt.title('Proportion of Stops By Race For Beat NA' , fontsize=25)\n",
    "plt.xlabel('Call Type', fontsize=20)\n",
    "plt.show()"
   ]
  },
  {
   "cell_type": "code",
   "execution_count": null,
   "metadata": {},
   "outputs": [],
   "source": [
    "print(beats.loc[1].sort_values(ascending=False))\n",
    "df['Subject Perceived Race'].value_counts(normalize=True)"
   ]
  },
  {
   "cell_type": "code",
   "execution_count": null,
   "metadata": {},
   "outputs": [],
   "source": [
    "beats.loc[beats.index != 1].value_counts()"
   ]
  },
  {
   "cell_type": "code",
   "execution_count": null,
   "metadata": {},
   "outputs": [],
   "source": [
    "df['Beat Flag'].value_counts(normalize=True)[:25]"
   ]
  },
  {
   "cell_type": "markdown",
   "metadata": {},
   "source": [
    "## Visualizing the Target by Call Type"
   ]
  },
  {
   "cell_type": "code",
   "execution_count": null,
   "metadata": {},
   "outputs": [],
   "source": [
    "cdf = df.groupby('Call Type')['Target'].value_counts().unstack()\n",
    "cdf.plot(kind='bar', figsize=(20,8), color=['skyblue', 'darkblue'], edgecolor='deepskyblue')\n",
    "\n",
    "plt.xticks(rotation=0)\n",
    "plt.title('Outcome by Call Type', fontsize=30)\n",
    "plt.xlabel('Call Type', fontsize=20)\n",
    "plt.legend(title='Outcome', labels=['No Arrest', 'Arrest'])\n",
    "plt.show()"
   ]
  },
  {
   "cell_type": "code",
   "execution_count": null,
   "metadata": {},
   "outputs": [],
   "source": [
    "cdf = df.groupby('Call Type')['Target'].value_counts(normalize=True).unstack()\n",
    "cdf.plot(kind='bar', figsize=(20,8), color=['skyblue', 'darkblue'], edgecolor='deepskyblue')\n",
    "\n",
    "plt.xticks(rotation=0)\n",
    "plt.title('Outcome Rates by Call Type', fontsize=30)\n",
    "plt.xlabel('Call Type', fontsize=20)\n",
    "plt.legend(title='Outcome', labels=['No Arrest', 'Arrest'])\n",
    "plt.show()"
   ]
  },
  {
   "cell_type": "code",
   "execution_count": null,
   "metadata": {},
   "outputs": [],
   "source": [
    "df['Call Type'].value_counts(normalize=True)"
   ]
  },
  {
   "cell_type": "code",
   "execution_count": null,
   "metadata": {},
   "outputs": [],
   "source": [
    "cdf.sort_values(by=1, ascending=False)"
   ]
  },
  {
   "cell_type": "markdown",
   "metadata": {},
   "source": [
    "## Analysis: 45% of Stops Originate from 911 Calls and 19% Are Initiated by Officer Observations\n",
    "- 33% of 911 originated stops end in arrest.\n",
    "- 31% of officer initiated stops end in arrest.\n",
    "- 6% of stops with no origination information end in arrest."
   ]
  },
  {
   "cell_type": "markdown",
   "metadata": {},
   "source": [
    "## Initial Call Type"
   ]
  },
  {
   "cell_type": "code",
   "execution_count": 4,
   "metadata": {},
   "outputs": [
    {
     "data": {
      "text/plain": [
       "NA                                                0.279067\n",
       "SUSPICIOUS STOP - OFFICER INITIATED ONVIEW        0.067206\n",
       "SUSPICIOUS PERSON, VEHICLE OR INCIDENT            0.063394\n",
       "DISTURBANCE, MISCELLANEOUS/OTHER                  0.051682\n",
       "ASLT - IP/JO - WITH OR W/O WPNS (NO SHOOTINGS)    0.042611\n",
       "                                                    ...   \n",
       "MISSING - ADULT                                   0.000021\n",
       "KNOWN KIDNAPPNG                                   0.000021\n",
       "MISSING - (ALZHEIMER, ENDANGERED, ELDERLY)        0.000021\n",
       "ALARM - ATM MACHINE, FREE STANDING                0.000021\n",
       "HARBOR - WATER EMERGENCIES                        0.000021\n",
       "Name: Initial Call Type, Length: 167, dtype: float64"
      ]
     },
     "execution_count": 4,
     "metadata": {},
     "output_type": "execute_result"
    }
   ],
   "source": [
    "df['Initial Call Type'].value_counts(normalize=True)"
   ]
  },
  {
   "cell_type": "markdown",
   "metadata": {},
   "source": [
    "## Binarizing Initial Call"
   ]
  },
  {
   "cell_type": "code",
   "execution_count": null,
   "metadata": {},
   "outputs": [],
   "source": [
    "df['Initial Call Type'] = df['Initial Call Type'].replace('NA', 0)\n",
    "df['Initial Call Type'] = df['Initial Call Type'].map(lambda x: 1 if x!=0 else 0)"
   ]
  },
  {
   "cell_type": "code",
   "execution_count": null,
   "metadata": {},
   "outputs": [],
   "source": [
    "df['Initial Call Type'].value_counts()"
   ]
  },
  {
   "cell_type": "code",
   "execution_count": null,
   "metadata": {},
   "outputs": [],
   "source": [
    "call_bin = df.groupby('Initial Call Type')['Target'].value_counts(normalize=True).unstack()\n",
    "call_bin.plot(kind='bar', figsize=(20,8), color=['skyblue', 'darkblue'], edgecolor='deepskyblue')\n",
    "plt.xticks(rotation=0)\n",
    "plt.title('Outcome Rates by Call Type', fontsize=30)\n",
    "plt.xlabel('Call Type', fontsize=20)\n",
    "plt.legend(title='Outcome', labels=['No Arrest', 'Arrest'])\n",
    "plt.show()"
   ]
  },
  {
   "cell_type": "markdown",
   "metadata": {},
   "source": [
    "## Visualizing Officers With Most Arrests"
   ]
  },
  {
   "cell_type": "code",
   "execution_count": null,
   "metadata": {
    "tags": []
   },
   "outputs": [],
   "source": [
    "# checking out arrests by officer id\n",
    "arrests = df[df['Target']==1]\n",
    "oid = arrests.groupby('Officer ID')['Target'].value_counts()\n",
    "officer_df = pd.DataFrame(oid)\n",
    "officer_df.columns = ['Arrests']\n",
    "officer_df = officer_df.reset_index()\n",
    "top20 = officer_df.drop('Target', axis=1).sort_values(by='Arrests', ascending=False)[:20]"
   ]
  },
  {
   "cell_type": "code",
   "execution_count": null,
   "metadata": {},
   "outputs": [],
   "source": [
    "fig, ax = plt.subplots(figsize=(15,7))\n",
    "sns.barplot(x='Arrests', y='Officer ID', edgecolor='deepskyblue', palette='Blues_r', data=top20)\n",
    "plt.title('Top 20 Officers by Arrest')\n",
    "plt.show()"
   ]
  },
  {
   "cell_type": "code",
   "execution_count": null,
   "metadata": {},
   "outputs": [],
   "source": [
    "# top 20 officers by arrest\n",
    "top20"
   ]
  }
 ],
 "metadata": {
  "kernelspec": {
   "display_name": "terry_stops",
   "language": "python",
   "name": "terry_stops"
  },
  "language_info": {
   "codemirror_mode": {
    "name": "ipython",
    "version": 3
   },
   "file_extension": ".py",
   "mimetype": "text/x-python",
   "name": "python",
   "nbconvert_exporter": "python",
   "pygments_lexer": "ipython3",
   "version": "3.9.4"
  }
 },
 "nbformat": 4,
 "nbformat_minor": 4
}
