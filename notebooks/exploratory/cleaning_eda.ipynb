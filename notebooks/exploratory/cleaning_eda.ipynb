{
 "cells": [
  {
   "cell_type": "code",
   "execution_count": 1,
   "metadata": {},
   "outputs": [],
   "source": [
    "%load_ext autoreload\n",
    "%autoreload 2"
   ]
  },
  {
   "cell_type": "code",
   "execution_count": 2,
   "metadata": {},
   "outputs": [],
   "source": [
    "# setting project path\n",
    "import os\n",
    "import sys\n",
    "\n",
    "gparent = os.path.join(os.pardir, os.pardir)\n",
    "sys.path.append(gparent)\n",
    "\n",
    "# imports\n",
    "import pandas as pd\n",
    "import numpy as np"
   ]
  },
  {
   "cell_type": "markdown",
   "metadata": {},
   "source": [
    "## Background Information\n",
    "\n",
    "This projects aims to create and train a predictive model on a dataset of Seattle Terry Stops Data. The initial data was obtain as a .csv file of 47,213 rows and 23 feature columns of Terry Stops Data.\n",
    "\n",
    "Data set obtained from:\n",
    "[Link](https://catalog.data.gov/dataset/terry-stops)\n",
    "\n",
    "Data Columns Explanations:\n",
    "[Link](https://data.seattle.gov/Public-Safety/Terry-Stops/28ny-9ts8)"
   ]
  },
  {
   "cell_type": "markdown",
   "metadata": {},
   "source": [
    "## Data Cleaning"
   ]
  },
  {
   "cell_type": "markdown",
   "metadata": {},
   "source": [
    "### Initial Steps\n",
    "Loading the data, checking the info."
   ]
  },
  {
   "cell_type": "code",
   "execution_count": 3,
   "metadata": {},
   "outputs": [],
   "source": [
    "# creating path to data\n",
    "path = os.path.join(gparent, 'data/raw', 'Terry_Stops.csv')\n",
    "df = pd.read_csv(path)"
   ]
  },
  {
   "cell_type": "code",
   "execution_count": 4,
   "metadata": {},
   "outputs": [
    {
     "data": {
      "text/html": [
       "<div>\n",
       "<style scoped>\n",
       "    .dataframe tbody tr th:only-of-type {\n",
       "        vertical-align: middle;\n",
       "    }\n",
       "\n",
       "    .dataframe tbody tr th {\n",
       "        vertical-align: top;\n",
       "    }\n",
       "\n",
       "    .dataframe thead th {\n",
       "        text-align: right;\n",
       "    }\n",
       "</style>\n",
       "<table border=\"1\" class=\"dataframe\">\n",
       "  <thead>\n",
       "    <tr style=\"text-align: right;\">\n",
       "      <th></th>\n",
       "      <th>Subject Age Group</th>\n",
       "      <th>Subject ID</th>\n",
       "      <th>GO / SC Num</th>\n",
       "      <th>Terry Stop ID</th>\n",
       "      <th>Stop Resolution</th>\n",
       "      <th>Weapon Type</th>\n",
       "      <th>Officer ID</th>\n",
       "      <th>Officer YOB</th>\n",
       "      <th>Officer Gender</th>\n",
       "      <th>Officer Race</th>\n",
       "      <th>...</th>\n",
       "      <th>Reported Time</th>\n",
       "      <th>Initial Call Type</th>\n",
       "      <th>Final Call Type</th>\n",
       "      <th>Call Type</th>\n",
       "      <th>Officer Squad</th>\n",
       "      <th>Arrest Flag</th>\n",
       "      <th>Frisk Flag</th>\n",
       "      <th>Precinct</th>\n",
       "      <th>Sector</th>\n",
       "      <th>Beat</th>\n",
       "    </tr>\n",
       "  </thead>\n",
       "  <tbody>\n",
       "    <tr>\n",
       "      <th>0</th>\n",
       "      <td>-</td>\n",
       "      <td>-1</td>\n",
       "      <td>20140000120677</td>\n",
       "      <td>92317</td>\n",
       "      <td>Arrest</td>\n",
       "      <td>None</td>\n",
       "      <td>7500</td>\n",
       "      <td>1984</td>\n",
       "      <td>M</td>\n",
       "      <td>Black or African American</td>\n",
       "      <td>...</td>\n",
       "      <td>11:32:00</td>\n",
       "      <td>-</td>\n",
       "      <td>-</td>\n",
       "      <td>-</td>\n",
       "      <td>SOUTH PCT 1ST W - ROBERT</td>\n",
       "      <td>N</td>\n",
       "      <td>N</td>\n",
       "      <td>South</td>\n",
       "      <td>O</td>\n",
       "      <td>O2</td>\n",
       "    </tr>\n",
       "    <tr>\n",
       "      <th>1</th>\n",
       "      <td>-</td>\n",
       "      <td>-1</td>\n",
       "      <td>20150000001463</td>\n",
       "      <td>28806</td>\n",
       "      <td>Field Contact</td>\n",
       "      <td>None</td>\n",
       "      <td>5670</td>\n",
       "      <td>1965</td>\n",
       "      <td>M</td>\n",
       "      <td>White</td>\n",
       "      <td>...</td>\n",
       "      <td>07:59:00</td>\n",
       "      <td>-</td>\n",
       "      <td>-</td>\n",
       "      <td>-</td>\n",
       "      <td>NaN</td>\n",
       "      <td>N</td>\n",
       "      <td>N</td>\n",
       "      <td>-</td>\n",
       "      <td>-</td>\n",
       "      <td>-</td>\n",
       "    </tr>\n",
       "    <tr>\n",
       "      <th>2</th>\n",
       "      <td>-</td>\n",
       "      <td>-1</td>\n",
       "      <td>20150000001516</td>\n",
       "      <td>29599</td>\n",
       "      <td>Field Contact</td>\n",
       "      <td>None</td>\n",
       "      <td>4844</td>\n",
       "      <td>1961</td>\n",
       "      <td>M</td>\n",
       "      <td>White</td>\n",
       "      <td>...</td>\n",
       "      <td>19:12:00</td>\n",
       "      <td>-</td>\n",
       "      <td>-</td>\n",
       "      <td>-</td>\n",
       "      <td>NaN</td>\n",
       "      <td>N</td>\n",
       "      <td>-</td>\n",
       "      <td>-</td>\n",
       "      <td>-</td>\n",
       "      <td>-</td>\n",
       "    </tr>\n",
       "    <tr>\n",
       "      <th>3</th>\n",
       "      <td>-</td>\n",
       "      <td>-1</td>\n",
       "      <td>20150000001670</td>\n",
       "      <td>32260</td>\n",
       "      <td>Field Contact</td>\n",
       "      <td>None</td>\n",
       "      <td>7539</td>\n",
       "      <td>1963</td>\n",
       "      <td>M</td>\n",
       "      <td>White</td>\n",
       "      <td>...</td>\n",
       "      <td>04:55:00</td>\n",
       "      <td>-</td>\n",
       "      <td>-</td>\n",
       "      <td>-</td>\n",
       "      <td>NaN</td>\n",
       "      <td>N</td>\n",
       "      <td>N</td>\n",
       "      <td>-</td>\n",
       "      <td>-</td>\n",
       "      <td>-</td>\n",
       "    </tr>\n",
       "    <tr>\n",
       "      <th>4</th>\n",
       "      <td>-</td>\n",
       "      <td>-1</td>\n",
       "      <td>20150000001739</td>\n",
       "      <td>33155</td>\n",
       "      <td>Field Contact</td>\n",
       "      <td>None</td>\n",
       "      <td>6973</td>\n",
       "      <td>1977</td>\n",
       "      <td>M</td>\n",
       "      <td>White</td>\n",
       "      <td>...</td>\n",
       "      <td>00:41:00</td>\n",
       "      <td>-</td>\n",
       "      <td>-</td>\n",
       "      <td>-</td>\n",
       "      <td>NaN</td>\n",
       "      <td>N</td>\n",
       "      <td>N</td>\n",
       "      <td>-</td>\n",
       "      <td>-</td>\n",
       "      <td>-</td>\n",
       "    </tr>\n",
       "  </tbody>\n",
       "</table>\n",
       "<p>5 rows × 23 columns</p>\n",
       "</div>"
      ],
      "text/plain": [
       "  Subject Age Group  Subject ID     GO / SC Num  Terry Stop ID  \\\n",
       "0                 -          -1  20140000120677          92317   \n",
       "1                 -          -1  20150000001463          28806   \n",
       "2                 -          -1  20150000001516          29599   \n",
       "3                 -          -1  20150000001670          32260   \n",
       "4                 -          -1  20150000001739          33155   \n",
       "\n",
       "  Stop Resolution Weapon Type Officer ID  Officer YOB Officer Gender  \\\n",
       "0          Arrest        None     7500           1984              M   \n",
       "1   Field Contact        None     5670           1965              M   \n",
       "2   Field Contact        None     4844           1961              M   \n",
       "3   Field Contact        None     7539           1963              M   \n",
       "4   Field Contact        None     6973           1977              M   \n",
       "\n",
       "                Officer Race  ... Reported Time Initial Call Type  \\\n",
       "0  Black or African American  ...      11:32:00                 -   \n",
       "1                      White  ...      07:59:00                 -   \n",
       "2                      White  ...      19:12:00                 -   \n",
       "3                      White  ...      04:55:00                 -   \n",
       "4                      White  ...      00:41:00                 -   \n",
       "\n",
       "  Final Call Type Call Type             Officer Squad Arrest Flag Frisk Flag  \\\n",
       "0               -         -  SOUTH PCT 1ST W - ROBERT           N          N   \n",
       "1               -         -                       NaN           N          N   \n",
       "2               -         -                       NaN           N          -   \n",
       "3               -         -                       NaN           N          N   \n",
       "4               -         -                       NaN           N          N   \n",
       "\n",
       "  Precinct  Sector    Beat  \n",
       "0    South  O       O2      \n",
       "1        -       -       -  \n",
       "2        -       -       -  \n",
       "3        -       -       -  \n",
       "4        -       -       -  \n",
       "\n",
       "[5 rows x 23 columns]"
      ]
     },
     "execution_count": 4,
     "metadata": {},
     "output_type": "execute_result"
    }
   ],
   "source": [
    "# checking first few rows\n",
    "df.head()"
   ]
  },
  {
   "cell_type": "code",
   "execution_count": 5,
   "metadata": {},
   "outputs": [
    {
     "name": "stdout",
     "output_type": "stream",
     "text": [
      "<class 'pandas.core.frame.DataFrame'>\n",
      "RangeIndex: 47213 entries, 0 to 47212\n",
      "Data columns (total 23 columns):\n",
      " #   Column                    Non-Null Count  Dtype \n",
      "---  ------                    --------------  ----- \n",
      " 0   Subject Age Group         47213 non-null  object\n",
      " 1   Subject ID                47213 non-null  int64 \n",
      " 2   GO / SC Num               47213 non-null  int64 \n",
      " 3   Terry Stop ID             47213 non-null  int64 \n",
      " 4   Stop Resolution           47213 non-null  object\n",
      " 5   Weapon Type               47213 non-null  object\n",
      " 6   Officer ID                47213 non-null  object\n",
      " 7   Officer YOB               47213 non-null  int64 \n",
      " 8   Officer Gender            47213 non-null  object\n",
      " 9   Officer Race              47213 non-null  object\n",
      " 10  Subject Perceived Race    47213 non-null  object\n",
      " 11  Subject Perceived Gender  47213 non-null  object\n",
      " 12  Reported Date             47213 non-null  object\n",
      " 13  Reported Time             47213 non-null  object\n",
      " 14  Initial Call Type         47213 non-null  object\n",
      " 15  Final Call Type           47213 non-null  object\n",
      " 16  Call Type                 47213 non-null  object\n",
      " 17  Officer Squad             46609 non-null  object\n",
      " 18  Arrest Flag               47213 non-null  object\n",
      " 19  Frisk Flag                47213 non-null  object\n",
      " 20  Precinct                  47213 non-null  object\n",
      " 21  Sector                    47213 non-null  object\n",
      " 22  Beat                      47213 non-null  object\n",
      "dtypes: int64(4), object(19)\n",
      "memory usage: 8.3+ MB\n"
     ]
    }
   ],
   "source": [
    "#  checking info\n",
    "df.info()"
   ]
  },
  {
   "cell_type": "markdown",
   "metadata": {},
   "source": [
    "### Checking for Nulls"
   ]
  },
  {
   "cell_type": "code",
   "execution_count": 6,
   "metadata": {},
   "outputs": [
    {
     "data": {
      "text/plain": [
       "Subject Age Group             0\n",
       "Subject ID                    0\n",
       "GO / SC Num                   0\n",
       "Terry Stop ID                 0\n",
       "Stop Resolution               0\n",
       "Weapon Type                   0\n",
       "Officer ID                    0\n",
       "Officer YOB                   0\n",
       "Officer Gender                0\n",
       "Officer Race                  0\n",
       "Subject Perceived Race        0\n",
       "Subject Perceived Gender      0\n",
       "Reported Date                 0\n",
       "Reported Time                 0\n",
       "Initial Call Type             0\n",
       "Final Call Type               0\n",
       "Call Type                     0\n",
       "Officer Squad               604\n",
       "Arrest Flag                   0\n",
       "Frisk Flag                    0\n",
       "Precinct                      0\n",
       "Sector                        0\n",
       "Beat                          0\n",
       "dtype: int64"
      ]
     },
     "execution_count": 6,
     "metadata": {},
     "output_type": "execute_result"
    }
   ],
   "source": [
    "# checking for nulls\n",
    "df.isna().sum()"
   ]
  },
  {
   "cell_type": "markdown",
   "metadata": {},
   "source": [
    "### Handling Nulls\n",
    "It appears that there 604 null values, but there is also a placeholder value of `'-'` that we need to deal with as well. Replacing both with the string `'NA'`."
   ]
  },
  {
   "cell_type": "code",
   "execution_count": 7,
   "metadata": {},
   "outputs": [],
   "source": [
    "# filling nulls and replacing - values\n",
    "df['Officer Squad'].fillna('NA', inplace=True)\n",
    "df.replace('-', 'NA', inplace=True)"
   ]
  },
  {
   "cell_type": "code",
   "execution_count": 8,
   "metadata": {},
   "outputs": [
    {
     "data": {
      "text/plain": [
       "Subject Age Group           0\n",
       "Subject ID                  0\n",
       "GO / SC Num                 0\n",
       "Terry Stop ID               0\n",
       "Stop Resolution             0\n",
       "Weapon Type                 0\n",
       "Officer ID                  0\n",
       "Officer YOB                 0\n",
       "Officer Gender              0\n",
       "Officer Race                0\n",
       "Subject Perceived Race      0\n",
       "Subject Perceived Gender    0\n",
       "Reported Date               0\n",
       "Reported Time               0\n",
       "Initial Call Type           0\n",
       "Final Call Type             0\n",
       "Call Type                   0\n",
       "Officer Squad               0\n",
       "Arrest Flag                 0\n",
       "Frisk Flag                  0\n",
       "Precinct                    0\n",
       "Sector                      0\n",
       "Beat                        0\n",
       "dtype: int64"
      ]
     },
     "execution_count": 8,
     "metadata": {},
     "output_type": "execute_result"
    }
   ],
   "source": [
    "#  checking work\n",
    "df.isna().sum()"
   ]
  },
  {
   "cell_type": "markdown",
   "metadata": {},
   "source": [
    "### Checking Feature Columns\n",
    "Checking out the data, looking for any patterns & problems."
   ]
  },
  {
   "cell_type": "markdown",
   "metadata": {},
   "source": [
    "### Stop Resolution"
   ]
  },
  {
   "cell_type": "code",
   "execution_count": 9,
   "metadata": {},
   "outputs": [
    {
     "data": {
      "text/plain": [
       "array(['Arrest', 'Field Contact', 'Citation / Infraction',\n",
       "       'Offense Report', 'Referred for Prosecution'], dtype=object)"
      ]
     },
     "execution_count": 9,
     "metadata": {},
     "output_type": "execute_result"
    }
   ],
   "source": [
    "# checking uniques\n",
    "df['Stop Resolution'].unique()"
   ]
  },
  {
   "cell_type": "markdown",
   "metadata": {},
   "source": [
    "### Creating the Target Feature\n",
    "Creating a binary feature where a value of 1 means an arrest occurred and moving it to the front of the data frame. "
   ]
  },
  {
   "cell_type": "code",
   "execution_count": 10,
   "metadata": {},
   "outputs": [],
   "source": [
    "# creating and binarizing the target feature\n",
    "df['Target'] = df['Stop Resolution']\n",
    "\n",
    "df['Target'] = df['Target'].replace('Arrest', 1)\n",
    "df['Target'] = df['Target'].map(lambda x: 0 if (x!=1) else 1)"
   ]
  },
  {
   "cell_type": "code",
   "execution_count": 11,
   "metadata": {},
   "outputs": [],
   "source": [
    "# moving target to the front of the data frame\n",
    "column_name = 'Target'\n",
    "first_column = df.pop(column_name)\n",
    "df.insert(0, column_name, first_column)"
   ]
  },
  {
   "cell_type": "code",
   "execution_count": 12,
   "metadata": {},
   "outputs": [
    {
     "data": {
      "text/plain": [
       "0    35546\n",
       "1    11667\n",
       "Name: Target, dtype: int64"
      ]
     },
     "execution_count": 12,
     "metadata": {},
     "output_type": "execute_result"
    }
   ],
   "source": [
    "df['Target'].value_counts()"
   ]
  },
  {
   "cell_type": "code",
   "execution_count": 13,
   "metadata": {},
   "outputs": [
    {
     "data": {
      "text/plain": [
       "0    0.752886\n",
       "1    0.247114\n",
       "Name: Target, dtype: float64"
      ]
     },
     "execution_count": 13,
     "metadata": {},
     "output_type": "execute_result"
    }
   ],
   "source": [
    "df['Target'].value_counts(normalize=True)"
   ]
  },
  {
   "cell_type": "markdown",
   "metadata": {},
   "source": [
    "## Analysis: 24% of Stops End in Arrest"
   ]
  },
  {
   "cell_type": "markdown",
   "metadata": {},
   "source": [
    "### Weapon Type"
   ]
  },
  {
   "cell_type": "code",
   "execution_count": 14,
   "metadata": {},
   "outputs": [
    {
     "data": {
      "text/plain": [
       "array(['None', 'Firearm Other', 'Lethal Cutting Instrument', 'Handgun',\n",
       "       'NA', 'Club, Blackjack, Brass Knuckles',\n",
       "       'Knife/Cutting/Stabbing Instrument', 'Other Firearm', 'Rifle',\n",
       "       'Fire/Incendiary Device', 'Blunt Object/Striking Implement',\n",
       "       'Firearm (unk type)', 'Mace/Pepper Spray', 'None/Not Applicable',\n",
       "       'Club', 'Firearm', 'Taser/Stun Gun', 'Shotgun', 'Brass Knuckles',\n",
       "       'Automatic Handgun', 'Blackjack',\n",
       "       'Personal Weapons (hands, feet, etc.)'], dtype=object)"
      ]
     },
     "execution_count": 14,
     "metadata": {},
     "output_type": "execute_result"
    }
   ],
   "source": [
    "# checking weapon types\n",
    "df['Weapon Type'].unique()"
   ]
  },
  {
   "cell_type": "markdown",
   "metadata": {},
   "source": [
    "### Creating a Weapons Flag\n",
    "Creating a feature that flags if a weapon was found during the stop."
   ]
  },
  {
   "cell_type": "code",
   "execution_count": 15,
   "metadata": {
    "tags": []
   },
   "outputs": [],
   "source": [
    "# creating weapons flag\n",
    "df['Weapon Flag'] = df['Weapon Type']\n",
    "\n",
    "df['Weapon Flag'] = df['Weapon Flag'].replace(['None', 'NA', 'None/Not Applicable'], [0,0,0])\n",
    "df['Weapon Flag'] = df['Weapon Flag'].map(lambda x: 1 if x!=0 else 0)"
   ]
  },
  {
   "cell_type": "code",
   "execution_count": 16,
   "metadata": {},
   "outputs": [
    {
     "data": {
      "text/plain": [
       "0    0.940991\n",
       "1    0.059009\n",
       "Name: Weapon Flag, dtype: float64"
      ]
     },
     "execution_count": 16,
     "metadata": {},
     "output_type": "execute_result"
    }
   ],
   "source": [
    "df['Weapon Flag'].value_counts(normalize=True)"
   ]
  },
  {
   "cell_type": "markdown",
   "metadata": {},
   "source": [
    "## Analysis: Weapons Found in 6% of Stops"
   ]
  },
  {
   "cell_type": "markdown",
   "metadata": {},
   "source": [
    "### Officer ID"
   ]
  },
  {
   "cell_type": "code",
   "execution_count": 17,
   "metadata": {},
   "outputs": [
    {
     "data": {
      "text/plain": [
       "array(['7500  ', '5670  ', '4844  ', ..., '6237  ', '6983  ', '5917  '],\n",
       "      dtype=object)"
      ]
     },
     "execution_count": 17,
     "metadata": {},
     "output_type": "execute_result"
    }
   ],
   "source": [
    "# checking uniques\n",
    "df['Officer ID'].unique()"
   ]
  },
  {
   "cell_type": "markdown",
   "metadata": {},
   "source": [
    "### Fixing the Officer ID Column\n",
    "Stripping whitespaces from the IDs."
   ]
  },
  {
   "cell_type": "code",
   "execution_count": 18,
   "metadata": {},
   "outputs": [],
   "source": [
    "# stripping whitespaces\n",
    "df['Officer ID']= df['Officer ID'].apply(lambda x: x.strip())"
   ]
  },
  {
   "cell_type": "code",
   "execution_count": 19,
   "metadata": {},
   "outputs": [
    {
     "data": {
      "text/plain": [
       "1214"
      ]
     },
     "execution_count": 19,
     "metadata": {},
     "output_type": "execute_result"
    }
   ],
   "source": [
    "len(df['Officer ID'].unique())"
   ]
  },
  {
   "cell_type": "markdown",
   "metadata": {},
   "source": [
    "## Analysis: 1214 Officers Reported Stops"
   ]
  },
  {
   "cell_type": "markdown",
   "metadata": {},
   "source": [
    "### Officer Race"
   ]
  },
  {
   "cell_type": "code",
   "execution_count": 20,
   "metadata": {},
   "outputs": [
    {
     "data": {
      "text/plain": [
       "array(['Black or African American', 'White', 'Hispanic or Latino',\n",
       "       'Asian', 'American Indian/Alaska Native', 'Two or More Races',\n",
       "       'Not Specified', 'Nat Hawaiian/Oth Pac Islander', 'Unknown'],\n",
       "      dtype=object)"
      ]
     },
     "execution_count": 20,
     "metadata": {},
     "output_type": "execute_result"
    }
   ],
   "source": [
    "#  checking uniques\n",
    "df['Officer Race'].unique()"
   ]
  },
  {
   "cell_type": "markdown",
   "metadata": {},
   "source": [
    "### Renaming Officer Race Categories for Brevity"
   ]
  },
  {
   "cell_type": "code",
   "execution_count": 21,
   "metadata": {},
   "outputs": [],
   "source": [
    "# renaming categories for brevity\n",
    "officer_race_list = ['Black or African American', 'White', 'Hispanic or Latino',\n",
    "       'Asian', 'American Indian/Alaska Native', 'Two or More Races',\n",
    "       'Not Specified', 'Nat Hawaiian/Oth Pac Islander', 'Unknown']\n",
    "\n",
    "officer_replace_list = race_list = ['Black', 'White', 'Hispanic',\n",
    "       'Asian', 'N_American', 'Multi-Racial',\n",
    "       'NA', 'P_Islander', 'Unknown']\n",
    "\n",
    "df['Officer Race'] = df['Officer Race'].replace(officer_race_list, officer_replace_list)"
   ]
  },
  {
   "cell_type": "code",
   "execution_count": 22,
   "metadata": {},
   "outputs": [
    {
     "data": {
      "text/plain": [
       "White           0.755110\n",
       "Hispanic        0.058077\n",
       "Multi-Racial    0.056171\n",
       "Asian           0.042975\n",
       "Black           0.039820\n",
       "NA              0.030775\n",
       "P_Islander      0.009616\n",
       "N_American      0.006714\n",
       "Unknown         0.000741\n",
       "Name: Officer Race, dtype: float64"
      ]
     },
     "execution_count": 22,
     "metadata": {},
     "output_type": "execute_result"
    }
   ],
   "source": [
    "df['Officer Race'].value_counts(normalize=True)"
   ]
  },
  {
   "cell_type": "markdown",
   "metadata": {},
   "source": [
    "## Analysis: 76% of Officers Reporting Stops Were White "
   ]
  },
  {
   "cell_type": "markdown",
   "metadata": {},
   "source": [
    "### Officer Gender"
   ]
  },
  {
   "cell_type": "code",
   "execution_count": 23,
   "metadata": {},
   "outputs": [
    {
     "data": {
      "text/plain": [
       "array(['M', 'F', 'N'], dtype=object)"
      ]
     },
     "execution_count": 23,
     "metadata": {},
     "output_type": "execute_result"
    }
   ],
   "source": [
    "# checking uniques\n",
    "df['Officer Gender'].unique()"
   ]
  },
  {
   "cell_type": "code",
   "execution_count": 24,
   "metadata": {},
   "outputs": [
    {
     "data": {
      "text/plain": [
       "M    0.885053\n",
       "F    0.114333\n",
       "N    0.000614\n",
       "Name: Officer Gender, dtype: float64"
      ]
     },
     "execution_count": 24,
     "metadata": {},
     "output_type": "execute_result"
    }
   ],
   "source": [
    "df['Officer Gender'].value_counts(normalize=True)"
   ]
  },
  {
   "cell_type": "markdown",
   "metadata": {},
   "source": [
    "## Analysis: 88% of Officers Were Male"
   ]
  },
  {
   "cell_type": "markdown",
   "metadata": {},
   "source": [
    "### Subject Race"
   ]
  },
  {
   "cell_type": "code",
   "execution_count": 25,
   "metadata": {},
   "outputs": [
    {
     "data": {
      "text/plain": [
       "array(['Asian', 'NA', 'White', 'Black or African American', 'Other',\n",
       "       'Unknown', 'American Indian or Alaska Native', 'Hispanic',\n",
       "       'Multi-Racial', 'Native Hawaiian or Other Pacific Islander'],\n",
       "      dtype=object)"
      ]
     },
     "execution_count": 25,
     "metadata": {},
     "output_type": "execute_result"
    }
   ],
   "source": [
    "# checking uniques\n",
    "df['Subject Perceived Race'].unique()"
   ]
  },
  {
   "cell_type": "markdown",
   "metadata": {},
   "source": [
    "### Renaming Subject Race Categories for Brevity\n",
    "Renaming, checking value counts and proportions."
   ]
  },
  {
   "cell_type": "code",
   "execution_count": 26,
   "metadata": {},
   "outputs": [],
   "source": [
    "# renaming categories for brevity\n",
    "race_list = ['Asian', 'NA', 'White', 'Black or African American', 'Other',\n",
    "       'Unknown', 'American Indian or Alaska Native', 'Hispanic',\n",
    "       'Multi-Racial', 'Native Hawaiian or Other Pacific Islander']\n",
    "\n",
    "replace_list =['Asian', 'NA', 'White', 'Black', 'Other',\n",
    "       'Unknown', 'N_American', 'Hispanic',\n",
    "       'Multi-Racial', 'P_Islander']\n",
    "\n",
    "df['Subject Perceived Race'] = df['Subject Perceived Race']\\\n",
    "                                 .replace(race_list, replace_list)"
   ]
  },
  {
   "cell_type": "code",
   "execution_count": 27,
   "metadata": {},
   "outputs": [
    {
     "name": "stdout",
     "output_type": "stream",
     "text": [
      "White           23052\n",
      "Black           14046\n",
      "Unknown          2626\n",
      "NA               1893\n",
      "Hispanic         1684\n",
      "Asian            1536\n",
      "N_American       1359\n",
      "Multi-Racial      809\n",
      "Other             152\n",
      "P_Islander         56\n",
      "Name: Subject Perceived Race, dtype: int64\n"
     ]
    },
    {
     "data": {
      "text/plain": [
       "White           0.488255\n",
       "Black           0.297503\n",
       "Unknown         0.055620\n",
       "NA              0.040095\n",
       "Hispanic        0.035668\n",
       "Asian           0.032533\n",
       "N_American      0.028784\n",
       "Multi-Racial    0.017135\n",
       "Other           0.003219\n",
       "P_Islander      0.001186\n",
       "Name: Subject Perceived Race, dtype: float64"
      ]
     },
     "execution_count": 27,
     "metadata": {},
     "output_type": "execute_result"
    }
   ],
   "source": [
    "print(df['Subject Perceived Race'].value_counts())\n",
    "df['Subject Perceived Race'].value_counts(normalize=True)"
   ]
  },
  {
   "cell_type": "markdown",
   "metadata": {},
   "source": [
    "## Analysis: Subject Racial Breakdown\n",
    "\n",
    "- White 49%\n",
    "\n",
    "- Black 30%\n",
    "\n",
    "- Unknown 6%\n",
    "\n",
    "- NA 4%\n",
    "\n",
    "- Hispanic 4%\n",
    "\n",
    "- Asian 3%\n",
    "\n",
    "- Native American 3%\n",
    "\n",
    "- Multi-Racial 2%\n",
    "\n",
    "- Other .3%\n",
    "\n",
    "- Pacific Islander .1%   "
   ]
  },
  {
   "cell_type": "markdown",
   "metadata": {},
   "source": [
    "### Subject Gender"
   ]
  },
  {
   "cell_type": "code",
   "execution_count": 28,
   "metadata": {},
   "outputs": [
    {
     "data": {
      "text/plain": [
       "array(['Male', 'NA', 'Female', 'Unable to Determine', 'Unknown',\n",
       "       'Gender Diverse (gender non-conforming and/or transgender)'],\n",
       "      dtype=object)"
      ]
     },
     "execution_count": 28,
     "metadata": {},
     "output_type": "execute_result"
    }
   ],
   "source": [
    "# checking uniques\n",
    "df['Subject Perceived Gender'].unique()"
   ]
  },
  {
   "cell_type": "markdown",
   "metadata": {},
   "source": [
    "### Renaming Subject Gender Categories"
   ]
  },
  {
   "cell_type": "code",
   "execution_count": 29,
   "metadata": {},
   "outputs": [],
   "source": [
    "# renaming categories for brevity\n",
    "gender_list = ['Male', 'NA', 'Female', 'Unable to Determine', 'Unknown',\n",
    "       'Gender Diverse (gender non-conforming and/or transgender)']\n",
    "\n",
    "gender_replace = ['Male', 'NA', 'Female', 'Undetermined', 'Unknown',\n",
    "       'Gender Diverse']\n",
    "\n",
    "df['Subject Perceived Gender'] = df['Subject Perceived Gender'].replace(gender_list, gender_replace)"
   ]
  },
  {
   "cell_type": "code",
   "execution_count": 30,
   "metadata": {},
   "outputs": [
    {
     "data": {
      "text/plain": [
       "Male              0.783534\n",
       "Female            0.202974\n",
       "Undetermined      0.006905\n",
       "NA                0.005931\n",
       "Unknown           0.000530\n",
       "Gender Diverse    0.000127\n",
       "Name: Subject Perceived Gender, dtype: float64"
      ]
     },
     "execution_count": 30,
     "metadata": {},
     "output_type": "execute_result"
    }
   ],
   "source": [
    "df['Subject Perceived Gender'].value_counts(normalize=True)"
   ]
  },
  {
   "cell_type": "markdown",
   "metadata": {},
   "source": [
    "## Analysis: 78% of Subjects Were Male"
   ]
  },
  {
   "cell_type": "markdown",
   "metadata": {},
   "source": [
    "### Date & Time Features"
   ]
  },
  {
   "cell_type": "code",
   "execution_count": 31,
   "metadata": {},
   "outputs": [
    {
     "name": "stdout",
     "output_type": "stream",
     "text": [
      "0    2015-10-16T00:00:00\n",
      "1    2015-03-19T00:00:00\n",
      "Name: Reported Date, dtype: object\n"
     ]
    },
    {
     "data": {
      "text/plain": [
       "0    11:32:00\n",
       "1    07:59:00\n",
       "Name: Reported Time, dtype: object"
      ]
     },
     "execution_count": 31,
     "metadata": {},
     "output_type": "execute_result"
    }
   ],
   "source": [
    "# checking date and time columns\n",
    "print(df['Reported Date'][:2])\n",
    "df['Reported Time'][:2]"
   ]
  },
  {
   "cell_type": "markdown",
   "metadata": {},
   "source": [
    "### Converting Date & Time Columns to Datetime Types"
   ]
  },
  {
   "cell_type": "code",
   "execution_count": 32,
   "metadata": {},
   "outputs": [],
   "source": [
    "# converting date & time columns to datetime types\n",
    "df = df.astype({'Reported Time':'datetime64', 'Reported Date':'datetime64'})"
   ]
  },
  {
   "cell_type": "markdown",
   "metadata": {},
   "source": [
    "### Creating Year, Month, DOM, DOW, and Hour Features"
   ]
  },
  {
   "cell_type": "code",
   "execution_count": 33,
   "metadata": {},
   "outputs": [],
   "source": [
    "#  getting year, month, day of month, day of week, and hour features\n",
    "df['Reported Year'] = df['Reported Date'].dt.year\n",
    "df['Reported Month'] = df['Reported Date'].dt.month\n",
    "df['Day of Month'] = df['Reported Date'].dt.day\n",
    "\n",
    "# Monday = 0, Sunday = 6\n",
    "df['Day of Week'] = df['Reported Date'].dt.weekday\n",
    "df['Reported Hour'] = df['Reported Time'].dt.hour"
   ]
  },
  {
   "cell_type": "code",
   "execution_count": 34,
   "metadata": {},
   "outputs": [
    {
     "data": {
      "text/html": [
       "<div>\n",
       "<style scoped>\n",
       "    .dataframe tbody tr th:only-of-type {\n",
       "        vertical-align: middle;\n",
       "    }\n",
       "\n",
       "    .dataframe tbody tr th {\n",
       "        vertical-align: top;\n",
       "    }\n",
       "\n",
       "    .dataframe thead th {\n",
       "        text-align: right;\n",
       "    }\n",
       "</style>\n",
       "<table border=\"1\" class=\"dataframe\">\n",
       "  <thead>\n",
       "    <tr style=\"text-align: right;\">\n",
       "      <th></th>\n",
       "      <th>Target</th>\n",
       "      <th>Subject Age Group</th>\n",
       "      <th>Subject ID</th>\n",
       "      <th>GO / SC Num</th>\n",
       "      <th>Terry Stop ID</th>\n",
       "      <th>Stop Resolution</th>\n",
       "      <th>Weapon Type</th>\n",
       "      <th>Officer ID</th>\n",
       "      <th>Officer YOB</th>\n",
       "      <th>Officer Gender</th>\n",
       "      <th>...</th>\n",
       "      <th>Frisk Flag</th>\n",
       "      <th>Precinct</th>\n",
       "      <th>Sector</th>\n",
       "      <th>Beat</th>\n",
       "      <th>Weapon Flag</th>\n",
       "      <th>Reported Year</th>\n",
       "      <th>Reported Month</th>\n",
       "      <th>Day of Month</th>\n",
       "      <th>Day of Week</th>\n",
       "      <th>Reported Hour</th>\n",
       "    </tr>\n",
       "  </thead>\n",
       "  <tbody>\n",
       "    <tr>\n",
       "      <th>0</th>\n",
       "      <td>1</td>\n",
       "      <td>NA</td>\n",
       "      <td>-1</td>\n",
       "      <td>20140000120677</td>\n",
       "      <td>92317</td>\n",
       "      <td>Arrest</td>\n",
       "      <td>None</td>\n",
       "      <td>7500</td>\n",
       "      <td>1984</td>\n",
       "      <td>M</td>\n",
       "      <td>...</td>\n",
       "      <td>N</td>\n",
       "      <td>South</td>\n",
       "      <td>O</td>\n",
       "      <td>O2</td>\n",
       "      <td>0</td>\n",
       "      <td>2015</td>\n",
       "      <td>10</td>\n",
       "      <td>16</td>\n",
       "      <td>4</td>\n",
       "      <td>11</td>\n",
       "    </tr>\n",
       "    <tr>\n",
       "      <th>39233</th>\n",
       "      <td>0</td>\n",
       "      <td>46 - 55</td>\n",
       "      <td>-1</td>\n",
       "      <td>20150000218351</td>\n",
       "      <td>58128</td>\n",
       "      <td>Referred for Prosecution</td>\n",
       "      <td>None</td>\n",
       "      <td>7459</td>\n",
       "      <td>1973</td>\n",
       "      <td>M</td>\n",
       "      <td>...</td>\n",
       "      <td>Y</td>\n",
       "      <td>North</td>\n",
       "      <td>B</td>\n",
       "      <td>B1</td>\n",
       "      <td>0</td>\n",
       "      <td>2015</td>\n",
       "      <td>6</td>\n",
       "      <td>28</td>\n",
       "      <td>6</td>\n",
       "      <td>5</td>\n",
       "    </tr>\n",
       "  </tbody>\n",
       "</table>\n",
       "<p>2 rows × 30 columns</p>\n",
       "</div>"
      ],
      "text/plain": [
       "       Target Subject Age Group  Subject ID     GO / SC Num  Terry Stop ID  \\\n",
       "0           1                NA          -1  20140000120677          92317   \n",
       "39233       0           46 - 55          -1  20150000218351          58128   \n",
       "\n",
       "                Stop Resolution Weapon Type Officer ID  Officer YOB  \\\n",
       "0                        Arrest        None       7500         1984   \n",
       "39233  Referred for Prosecution        None       7459         1973   \n",
       "\n",
       "      Officer Gender  ... Frisk Flag Precinct  Sector    Beat Weapon Flag  \\\n",
       "0                  M  ...          N    South  O       O2               0   \n",
       "39233              M  ...          Y    North  B       B1               0   \n",
       "\n",
       "      Reported Year Reported Month Day of Month Day of Week Reported Hour  \n",
       "0              2015             10           16           4            11  \n",
       "39233          2015              6           28           6             5  \n",
       "\n",
       "[2 rows x 30 columns]"
      ]
     },
     "execution_count": 34,
     "metadata": {},
     "output_type": "execute_result"
    }
   ],
   "source": [
    "# checking work\n",
    "df.sort_values(by='Reported Year').head(2)"
   ]
  },
  {
   "cell_type": "code",
   "execution_count": 35,
   "metadata": {},
   "outputs": [],
   "source": [
    "# dropping date and time columns\n",
    "df.drop(['Reported Date', 'Reported Time'], axis=1, inplace=True)"
   ]
  },
  {
   "cell_type": "markdown",
   "metadata": {},
   "source": [
    "### Checking Call Type Feature Value Counts"
   ]
  },
  {
   "cell_type": "markdown",
   "metadata": {},
   "source": [
    "### Initial Call Feature"
   ]
  },
  {
   "cell_type": "code",
   "execution_count": 36,
   "metadata": {},
   "outputs": [
    {
     "data": {
      "text/plain": [
       "NA                                                13162\n",
       "SUSPICIOUS STOP - OFFICER INITIATED ONVIEW         3165\n",
       "SUSPICIOUS PERSON, VEHICLE OR INCIDENT             2994\n",
       "DISTURBANCE, MISCELLANEOUS/OTHER                   2429\n",
       "ASLT - IP/JO - WITH OR W/O WPNS (NO SHOOTINGS)     2007\n",
       "                                                  ...  \n",
       "-ASSIGNED DUTY - STAKEOUT                             1\n",
       "ALARM - RESIDENTIAL - SILENT/AUD PANIC/DURESS         1\n",
       "MISSING - ADULT                                       1\n",
       "PHONE - OBSCENE OR NUISANCE PHONE CALLS               1\n",
       "MISSING - (ALZHEIMER, ENDANGERED, ELDERLY)            1\n",
       "Name: Initial Call Type, Length: 167, dtype: int64"
      ]
     },
     "execution_count": 36,
     "metadata": {},
     "output_type": "execute_result"
    }
   ],
   "source": [
    "df['Initial Call Type'].value_counts()"
   ]
  },
  {
   "cell_type": "code",
   "execution_count": 37,
   "metadata": {},
   "outputs": [
    {
     "data": {
      "text/plain": [
       "NA                                                0.278779\n",
       "SUSPICIOUS STOP - OFFICER INITIATED ONVIEW        0.067037\n",
       "SUSPICIOUS PERSON, VEHICLE OR INCIDENT            0.063415\n",
       "DISTURBANCE, MISCELLANEOUS/OTHER                  0.051448\n",
       "ASLT - IP/JO - WITH OR W/O WPNS (NO SHOOTINGS)    0.042509\n",
       "                                                    ...   \n",
       "-ASSIGNED DUTY - STAKEOUT                         0.000021\n",
       "ALARM - RESIDENTIAL - SILENT/AUD PANIC/DURESS     0.000021\n",
       "MISSING - ADULT                                   0.000021\n",
       "PHONE - OBSCENE OR NUISANCE PHONE CALLS           0.000021\n",
       "MISSING - (ALZHEIMER, ENDANGERED, ELDERLY)        0.000021\n",
       "Name: Initial Call Type, Length: 167, dtype: float64"
      ]
     },
     "execution_count": 37,
     "metadata": {},
     "output_type": "execute_result"
    }
   ],
   "source": [
    "df['Initial Call Type'].value_counts(normalize=True)"
   ]
  },
  {
   "cell_type": "markdown",
   "metadata": {},
   "source": [
    "## Analysis `NA` is Largest Category at 28% "
   ]
  },
  {
   "cell_type": "markdown",
   "metadata": {},
   "source": [
    "### Final Call Feature"
   ]
  },
  {
   "cell_type": "code",
   "execution_count": 38,
   "metadata": {},
   "outputs": [
    {
     "data": {
      "text/plain": [
       "NA                                          13162\n",
       "--SUSPICIOUS CIRCUM. - SUSPICIOUS PERSON     3772\n",
       "--PROWLER - TRESPASS                         3330\n",
       "--DISTURBANCE - OTHER                        2719\n",
       "--ASSAULTS, OTHER                            2297\n",
       "                                            ...  \n",
       "FIGHT - VERBAL/ORAL (NO WEAPONS)                1\n",
       "PROWLER                                         1\n",
       "-ASSIGNED DUTY - STAKEOUT                       1\n",
       "ESCAPE - PRISONER                               1\n",
       "TRAF - ELUDING POLICE                           1\n",
       "Name: Final Call Type, Length: 207, dtype: int64"
      ]
     },
     "execution_count": 38,
     "metadata": {},
     "output_type": "execute_result"
    }
   ],
   "source": [
    "df['Final Call Type'].value_counts()"
   ]
  },
  {
   "cell_type": "code",
   "execution_count": 39,
   "metadata": {},
   "outputs": [
    {
     "data": {
      "text/plain": [
       "NA                                          0.278779\n",
       "--SUSPICIOUS CIRCUM. - SUSPICIOUS PERSON    0.079893\n",
       "--PROWLER - TRESPASS                        0.070531\n",
       "--DISTURBANCE - OTHER                       0.057590\n",
       "--ASSAULTS, OTHER                           0.048652\n",
       "                                              ...   \n",
       "FIGHT - VERBAL/ORAL (NO WEAPONS)            0.000021\n",
       "PROWLER                                     0.000021\n",
       "-ASSIGNED DUTY - STAKEOUT                   0.000021\n",
       "ESCAPE - PRISONER                           0.000021\n",
       "TRAF - ELUDING POLICE                       0.000021\n",
       "Name: Final Call Type, Length: 207, dtype: float64"
      ]
     },
     "execution_count": 39,
     "metadata": {},
     "output_type": "execute_result"
    }
   ],
   "source": [
    "df['Final Call Type'].value_counts(normalize=True)"
   ]
  },
  {
   "cell_type": "markdown",
   "metadata": {},
   "source": [
    "## Analysis: `NA` is Largest Category at 28%"
   ]
  },
  {
   "cell_type": "markdown",
   "metadata": {},
   "source": [
    "### Checking Call Origination Feature"
   ]
  },
  {
   "cell_type": "code",
   "execution_count": 40,
   "metadata": {},
   "outputs": [
    {
     "name": "stdout",
     "output_type": "stream",
     "text": [
      "911                              21284\n",
      "NA                               13162\n",
      "ONVIEW                            9110\n",
      "TELEPHONE OTHER, NOT 911          3309\n",
      "ALARM CALL (NOT POLICE ALARM)      340\n",
      "TEXT MESSAGE                         7\n",
      "SCHEDULED EVENT (RECURRING)          1\n",
      "Name: Call Type, dtype: int64\n"
     ]
    },
    {
     "data": {
      "text/plain": [
       "911                              0.450808\n",
       "NA                               0.278779\n",
       "ONVIEW                           0.192955\n",
       "TELEPHONE OTHER, NOT 911         0.070087\n",
       "ALARM CALL (NOT POLICE ALARM)    0.007201\n",
       "TEXT MESSAGE                     0.000148\n",
       "SCHEDULED EVENT (RECURRING)      0.000021\n",
       "Name: Call Type, dtype: float64"
      ]
     },
     "execution_count": 40,
     "metadata": {},
     "output_type": "execute_result"
    }
   ],
   "source": [
    "print(df['Call Type'].value_counts())\n",
    "df['Call Type'].value_counts(normalize=True)"
   ]
  },
  {
   "cell_type": "markdown",
   "metadata": {},
   "source": [
    "## Analysis: Call Type\n",
    "- 45% of the stops began as 911 calls.\n",
    "- 28% are of unknown origin.\n",
    "- 19% were officer initiated based on officer observation. \n",
    "\n",
    "`Call Type` seems to be a potentially important feature moving forward."
   ]
  },
  {
   "cell_type": "markdown",
   "metadata": {},
   "source": [
    "### Officer Squad Feature"
   ]
  },
  {
   "cell_type": "code",
   "execution_count": 41,
   "metadata": {},
   "outputs": [
    {
     "data": {
      "text/plain": [
       "TRAINING - FIELD TRAINING SQUAD                   5098\n",
       "WEST PCT 1ST W - DAVID/MARY                       1546\n",
       "WEST PCT 2ND W - D/M RELIEF                       1020\n",
       "SOUTHWEST PCT 2ND W - FRANK                        970\n",
       "NORTH PCT 2ND WATCH - NORTH BEATS                  885\n",
       "                                                  ... \n",
       "TRAF - MOTORCYCLE UNIT - T2 SQUAD                    1\n",
       "ZOLD CRIME ANALYSIS UNIT - ANALYSTS                  1\n",
       "ROBBERY SQUAD B                                      1\n",
       "TRAINING - LEARNING MANAGEMENT SYSTEM                1\n",
       "COMM - INTERNET AND TELEPHONE REPORTING (ITRU)       1\n",
       "Name: Officer Squad, Length: 173, dtype: int64"
      ]
     },
     "execution_count": 41,
     "metadata": {},
     "output_type": "execute_result"
    }
   ],
   "source": [
    "df['Officer Squad'].value_counts()"
   ]
  },
  {
   "cell_type": "code",
   "execution_count": 42,
   "metadata": {},
   "outputs": [
    {
     "data": {
      "text/plain": [
       "TRAINING - FIELD TRAINING SQUAD                   0.107979\n",
       "WEST PCT 1ST W - DAVID/MARY                       0.032745\n",
       "WEST PCT 2ND W - D/M RELIEF                       0.021604\n",
       "SOUTHWEST PCT 2ND W - FRANK                       0.020545\n",
       "NORTH PCT 2ND WATCH - NORTH BEATS                 0.018745\n",
       "                                                    ...   \n",
       "TRAF - MOTORCYCLE UNIT - T2 SQUAD                 0.000021\n",
       "ZOLD CRIME ANALYSIS UNIT - ANALYSTS               0.000021\n",
       "ROBBERY SQUAD B                                   0.000021\n",
       "TRAINING - LEARNING MANAGEMENT SYSTEM             0.000021\n",
       "COMM - INTERNET AND TELEPHONE REPORTING (ITRU)    0.000021\n",
       "Name: Officer Squad, Length: 173, dtype: float64"
      ]
     },
     "execution_count": 42,
     "metadata": {},
     "output_type": "execute_result"
    }
   ],
   "source": [
    "df['Officer Squad'].value_counts(normalize=True)"
   ]
  },
  {
   "cell_type": "markdown",
   "metadata": {},
   "source": [
    "### Focusing on the Training Squad\n",
    "It seems that a fair number of stops come from the `TRAINING - FIELD TRAINING SQUAD`. Checking if there are more training squads."
   ]
  },
  {
   "cell_type": "code",
   "execution_count": 43,
   "metadata": {},
   "outputs": [
    {
     "data": {
      "text/plain": [
       "['AUTO THEFT',\n",
       " 'BURG/THEFT/JUV - EAST',\n",
       " 'BURG/THEFT/JUV - NORTH',\n",
       " 'BURG/THEFT/JUV - SOUTH',\n",
       " 'BURG/THEFT/JUV - WEST',\n",
       " 'CANINE - DAY SQUAD',\n",
       " 'CANINE - NIGHT SQUAD',\n",
       " 'CANINE - SQUAD A',\n",
       " 'CANINE - SQUAD C',\n",
       " 'CCI - MAJOR CRIMES TASK FORCE',\n",
       " 'COMM - INTERNET AND TELEPHONE REPORTING (ITRU)',\n",
       " 'COMMUNITY OUTREACH - SPECIAL PROJECTS DETAIL',\n",
       " 'COMMUNITY OUTREACH - YOUTH VIOLENCE -SCHOOLS DETAIL',\n",
       " 'COMMUNITY OUTREACH - YOUTH VIOLENCE-SCHOOLS DETAIL',\n",
       " 'COMMUNITY OUTREACH UNIT',\n",
       " 'CRG - SQUAD 81A',\n",
       " 'CRG - SQUAD 81B',\n",
       " 'CRG - SQUAD 81C',\n",
       " 'CRG - SQUAD 81D',\n",
       " 'CRG - SQUAD 81E',\n",
       " 'CRG - SQUAD 82A',\n",
       " 'CRG - SQUAD 82B',\n",
       " 'CRG - SQUAD 82C',\n",
       " 'CRG - SQUAD 82D',\n",
       " 'CRG - SQUAD 82E',\n",
       " 'CRISIS INTERVENTION COORDINATION SQUAD',\n",
       " 'CRISIS RESPONSE SQUAD',\n",
       " 'DV SQUAD A - INVESTIGATIONS',\n",
       " 'DV SQUAD C - ELDER ABUSE',\n",
       " 'DV SQUAD D - ORDER SERVICE',\n",
       " 'EAST PCT 1ST W - E/G RELIEF (CHARLIE)',\n",
       " 'EAST PCT 1ST W - EDWARD (CHARLIE)',\n",
       " 'EAST PCT 1ST W - GEORGE (CHARLIE)',\n",
       " 'EAST PCT 2ND W - BEATS',\n",
       " 'EAST PCT 2ND W - CHARLIE',\n",
       " 'EAST PCT 2ND W - CHARLIE RELIEF',\n",
       " 'EAST PCT 2ND W - E/G RELIEF',\n",
       " 'EAST PCT 2ND W - EDWARD',\n",
       " 'EAST PCT 2ND W - GEORGE',\n",
       " 'EAST PCT 3RD W - CHARLIE',\n",
       " 'EAST PCT 3RD W - E/G RELIEF',\n",
       " 'EAST PCT 3RD W - EAST BEATS',\n",
       " 'EAST PCT 3RD W - EDWARD',\n",
       " 'EAST PCT 3RD W - GEORGE',\n",
       " 'EAST PCT 3RD WATCH - CHARLIE RELIEF',\n",
       " 'EAST PCT OPS - BURG/THEFT',\n",
       " 'EAST PCT OPS - CPT',\n",
       " 'EAST PCT OPS - NIGHT ACT',\n",
       " 'GANG SQUAD A',\n",
       " 'GANG SQUAD B',\n",
       " 'GANG SQUAD C',\n",
       " 'HARBOR - SQUAD A',\n",
       " 'HARBOR - SQUAD D',\n",
       " 'HR - BLEA - ACADEMY RECRUITS',\n",
       " 'HR - DEPARTMENT UNAVAILABLE PERSONNEL',\n",
       " 'HR - HUMAN RESOURCES  - DEPT UNAVAIL PERSONNEL',\n",
       " 'JOINT ENFORCEMENT TEAM',\n",
       " 'JOINT ENFORCEMENT TEAM (JET)',\n",
       " 'MAJOR CRIMES TASK FORCE',\n",
       " 'NA',\n",
       " 'NARC - PROACTIVE SQUAD C',\n",
       " 'NAVIGATION TEAM - SQUAD A',\n",
       " 'NAVIGATION TEAM - SQUAD B',\n",
       " 'NORTH PCT 1ST W - B/N RELIEF (JOHN)',\n",
       " 'NORTH PCT 1ST W - BOY (JOHN)',\n",
       " 'NORTH PCT 1ST W - L/U RELIEF',\n",
       " 'NORTH PCT 1ST W - LINCOLN',\n",
       " 'NORTH PCT 1ST W - NORA (JOHN)',\n",
       " 'NORTH PCT 1ST W - UNION',\n",
       " 'NORTH PCT 2ND W - BOY',\n",
       " 'NORTH PCT 2ND W - JOHN',\n",
       " 'NORTH PCT 2ND W - JOHN RELIEF',\n",
       " 'NORTH PCT 2ND W - L/U RELIEF',\n",
       " 'NORTH PCT 2ND W - LINCOLN',\n",
       " 'NORTH PCT 2ND W - NORA',\n",
       " 'NORTH PCT 2ND W - PCT SUPPORT',\n",
       " 'NORTH PCT 2ND W - UNION',\n",
       " 'NORTH PCT 2ND WATCH - B/N RELIEF',\n",
       " 'NORTH PCT 2ND WATCH - NORTH BEATS',\n",
       " 'NORTH PCT 3RD W - B/N RELIEF',\n",
       " 'NORTH PCT 3RD W - BOY',\n",
       " 'NORTH PCT 3RD W - JOHN',\n",
       " 'NORTH PCT 3RD W - JOHN RELIEF',\n",
       " 'NORTH PCT 3RD W - L/U RELIEF',\n",
       " 'NORTH PCT 3RD W - LINCOLN',\n",
       " 'NORTH PCT 3RD W - NORA',\n",
       " 'NORTH PCT 3RD W - UNION',\n",
       " 'NORTH PCT OPS - ACT DAY',\n",
       " 'NORTH PCT OPS - BURG/THEFT',\n",
       " 'NORTH PCT OPS - CPT',\n",
       " 'OPS BUREAU - SPECIAL ASSIGNMENTS',\n",
       " 'PAWN DETAIL',\n",
       " 'PUBLIC AFFAIRS SQUAD',\n",
       " 'RECORDS - DAY SHIFT',\n",
       " 'ROBBERY SQUAD A',\n",
       " 'ROBBERY SQUAD B',\n",
       " 'SAU SQUAD A',\n",
       " 'SAU SQUAD B',\n",
       " 'SOUTH PCT 1ST W - OCEAN',\n",
       " 'SOUTH PCT 1ST W - R/S RELIEF',\n",
       " 'SOUTH PCT 1ST W - ROBERT',\n",
       " 'SOUTH PCT 1ST W - SAM',\n",
       " 'SOUTH PCT 2ND W - OCEAN',\n",
       " 'SOUTH PCT 2ND W - OCEAN RELIEF',\n",
       " 'SOUTH PCT 2ND W - R/S RELIEF',\n",
       " 'SOUTH PCT 2ND W - ROBERT',\n",
       " 'SOUTH PCT 2ND W - SAM',\n",
       " 'SOUTH PCT 2ND W - SAM BEATS',\n",
       " 'SOUTH PCT 3RD W - OCEAN',\n",
       " 'SOUTH PCT 3RD W - OCEAN RELIEF',\n",
       " 'SOUTH PCT 3RD W - R/S RELIEF',\n",
       " 'SOUTH PCT 3RD W - ROBERT',\n",
       " 'SOUTH PCT 3RD W - SAM',\n",
       " 'SOUTH PCT OPS - BURG/THEFT',\n",
       " 'SOUTH PCT OPS - CPT',\n",
       " 'SOUTH PCT OPS - DAY ACT',\n",
       " 'SOUTH PCT OPS - NIGHT ACT',\n",
       " 'SOUTHWEST PCT - 1ST WATCH - F/W RELIEF',\n",
       " 'SOUTHWEST PCT - 3RD WATCH - F/W RELIEF',\n",
       " 'SOUTHWEST PCT 1ST W - FRANK',\n",
       " 'SOUTHWEST PCT 1ST W - WILLIAM',\n",
       " 'SOUTHWEST PCT 2ND W - FRANK',\n",
       " 'SOUTHWEST PCT 2ND W - SOUTHWEST BEATS',\n",
       " 'SOUTHWEST PCT 2ND W - WILLIAM',\n",
       " 'SOUTHWEST PCT 2ND WATCH - F/W RELIEF',\n",
       " 'SOUTHWEST PCT 3RD W - FRANK',\n",
       " 'SOUTHWEST PCT 3RD W - WILLIAM',\n",
       " 'SOUTHWEST PCT OPS - BURG/THEFT',\n",
       " 'SOUTHWEST PCT OPS - CPT',\n",
       " 'SOUTHWEST PCT OPS - DAY ACT',\n",
       " 'SOUTHWEST PCT OPS - NIGHT ACT',\n",
       " 'SWAT - DAY SQUAD 1',\n",
       " 'SWAT - DAY SQUAD 2',\n",
       " 'SWAT - NIGHT SQUAD 1',\n",
       " 'SWAT - NIGHT SQUAD 2',\n",
       " 'TRAF - AM ENFORCEMENT',\n",
       " 'TRAF - COLLISION INVESTIGATION',\n",
       " 'TRAF - DUI SQUAD',\n",
       " 'TRAF - MOTORCYCLE UNIT - T2 SQUAD',\n",
       " 'TRAF - MOTORCYCLE UNIT - T3 SQUAD',\n",
       " 'TRAF - MOTORCYCLE UNIT - T4 SQUAD',\n",
       " 'TRAF - PM ENFORCEMENT',\n",
       " 'TRAINING - ADVANCED - SQUAD C',\n",
       " 'TRAINING - FIELD TRAINING SQUAD',\n",
       " 'TRAINING - LEARNING MANAGEMENT SYSTEM',\n",
       " 'VICE - GENERAL INVESTIGATIONS SQUAD',\n",
       " 'WEST PCT 1ST W - DAVID/MARY',\n",
       " 'WEST PCT 1ST W - KING/QUEEN',\n",
       " 'WEST PCT 1ST W - KQ/DM RELIEF',\n",
       " 'WEST PCT 2ND W - D/M RELIEF',\n",
       " 'WEST PCT 2ND W - DAVID',\n",
       " 'WEST PCT 2ND W - DAVID BEATS',\n",
       " 'WEST PCT 2ND W - K/Q RELIEF',\n",
       " 'WEST PCT 2ND W - KING',\n",
       " 'WEST PCT 2ND W - KING BEATS',\n",
       " 'WEST PCT 2ND W - MARY',\n",
       " 'WEST PCT 2ND W - MARY BEATS',\n",
       " 'WEST PCT 2ND W - QUEEN',\n",
       " 'WEST PCT 2ND W - SPECIAL BEATS',\n",
       " 'WEST PCT 3RD W - D/M RELIEF',\n",
       " 'WEST PCT 3RD W - DAVID',\n",
       " 'WEST PCT 3RD W - DAVID BEATS',\n",
       " 'WEST PCT 3RD W - K/Q RELIEF',\n",
       " 'WEST PCT 3RD W - KING',\n",
       " 'WEST PCT 3RD W - MARY',\n",
       " 'WEST PCT 3RD W - QUEEN',\n",
       " 'WEST PCT OPS - ACT NIGHT',\n",
       " 'WEST PCT OPS - BURG/THEFT',\n",
       " 'WEST PCT OPS - COMMERCIAL SEC',\n",
       " 'WEST PCT OPS - CPT',\n",
       " 'WEST PCT OPS - MOUNTED PATROL',\n",
       " 'WEST PCT OPS - SEA CTR',\n",
       " 'ZOLD CRIME ANALYSIS UNIT - ANALYSTS']"
      ]
     },
     "execution_count": 43,
     "metadata": {},
     "output_type": "execute_result"
    }
   ],
   "source": [
    "sorted(df['Officer Squad'].unique())"
   ]
  },
  {
   "cell_type": "markdown",
   "metadata": {},
   "source": [
    "### Other Training Squads\n",
    "Checking the number of stops from all of the training squads."
   ]
  },
  {
   "cell_type": "code",
   "execution_count": 44,
   "metadata": {},
   "outputs": [],
   "source": [
    "training = ['TRAINING - ADVANCED - SQUAD C',\n",
    "'TRAINING - FIELD TRAINING SQUAD',\n",
    "'TRAINING - LEARNING MANAGEMENT SYSTEM']"
   ]
  },
  {
   "cell_type": "code",
   "execution_count": 45,
   "metadata": {},
   "outputs": [
    {
     "data": {
      "text/plain": [
       "TRAINING - ADVANCED - SQUAD C               1\n",
       "TRAINING - FIELD TRAINING SQUAD          5098\n",
       "TRAINING - LEARNING MANAGEMENT SYSTEM       1\n",
       "Name: Officer Squad, dtype: int64"
      ]
     },
     "execution_count": 45,
     "metadata": {},
     "output_type": "execute_result"
    }
   ],
   "source": [
    "df['Officer Squad'].value_counts()[training]"
   ]
  },
  {
   "cell_type": "code",
   "execution_count": 46,
   "metadata": {},
   "outputs": [
    {
     "data": {
      "text/plain": [
       "TRAINING - FIELD TRAINING SQUAD                   0.107979\n",
       "WEST PCT 1ST W - DAVID/MARY                       0.032745\n",
       "WEST PCT 2ND W - D/M RELIEF                       0.021604\n",
       "SOUTHWEST PCT 2ND W - FRANK                       0.020545\n",
       "NORTH PCT 2ND WATCH - NORTH BEATS                 0.018745\n",
       "                                                    ...   \n",
       "TRAF - MOTORCYCLE UNIT - T2 SQUAD                 0.000021\n",
       "ZOLD CRIME ANALYSIS UNIT - ANALYSTS               0.000021\n",
       "ROBBERY SQUAD B                                   0.000021\n",
       "TRAINING - LEARNING MANAGEMENT SYSTEM             0.000021\n",
       "COMM - INTERNET AND TELEPHONE REPORTING (ITRU)    0.000021\n",
       "Name: Officer Squad, Length: 173, dtype: float64"
      ]
     },
     "execution_count": 46,
     "metadata": {},
     "output_type": "execute_result"
    }
   ],
   "source": [
    "df['Officer Squad'].value_counts(normalize=True)"
   ]
  },
  {
   "cell_type": "markdown",
   "metadata": {},
   "source": [
    "## Analysis: Training Accounts for 11% of Stops\n",
    "This is three times more than the next category."
   ]
  },
  {
   "cell_type": "markdown",
   "metadata": {},
   "source": [
    "### Binarizing the Arrest Flag"
   ]
  },
  {
   "cell_type": "code",
   "execution_count": 47,
   "metadata": {},
   "outputs": [
    {
     "data": {
      "text/plain": [
       "N    43754\n",
       "Y     3459\n",
       "Name: Arrest Flag, dtype: int64"
      ]
     },
     "execution_count": 47,
     "metadata": {},
     "output_type": "execute_result"
    }
   ],
   "source": [
    "df['Arrest Flag'].value_counts()"
   ]
  },
  {
   "cell_type": "code",
   "execution_count": 48,
   "metadata": {},
   "outputs": [],
   "source": [
    "#  binarizing arrest flag\n",
    "df['Arrest Flag'] = df['Arrest Flag'].replace('Y', 1)\n",
    "df['Arrest Flag'] = df['Arrest Flag'].map(lambda x: 0 if x!=1 else 1)"
   ]
  },
  {
   "cell_type": "code",
   "execution_count": 49,
   "metadata": {},
   "outputs": [
    {
     "data": {
      "text/plain": [
       "0    43754\n",
       "1     3459\n",
       "Name: Arrest Flag, dtype: int64"
      ]
     },
     "execution_count": 49,
     "metadata": {},
     "output_type": "execute_result"
    }
   ],
   "source": [
    "df['Arrest Flag'].value_counts()"
   ]
  },
  {
   "cell_type": "code",
   "execution_count": 50,
   "metadata": {},
   "outputs": [
    {
     "data": {
      "text/plain": [
       "0    35546\n",
       "1    11667\n",
       "Name: Target, dtype: int64"
      ]
     },
     "execution_count": 50,
     "metadata": {},
     "output_type": "execute_result"
    }
   ],
   "source": [
    "df['Target'].value_counts()"
   ]
  },
  {
   "cell_type": "code",
   "execution_count": 51,
   "metadata": {},
   "outputs": [
    {
     "data": {
      "text/plain": [
       "0    0.926736\n",
       "1    0.073264\n",
       "Name: Arrest Flag, dtype: float64"
      ]
     },
     "execution_count": 51,
     "metadata": {},
     "output_type": "execute_result"
    }
   ],
   "source": [
    "df['Arrest Flag'].value_counts(normalize=True)"
   ]
  },
  {
   "cell_type": "code",
   "execution_count": 52,
   "metadata": {},
   "outputs": [
    {
     "data": {
      "text/plain": [
       "0    0.752886\n",
       "1    0.247114\n",
       "Name: Target, dtype: float64"
      ]
     },
     "execution_count": 52,
     "metadata": {},
     "output_type": "execute_result"
    }
   ],
   "source": [
    "df['Target'].value_counts(normalize=True)"
   ]
  },
  {
   "cell_type": "markdown",
   "metadata": {},
   "source": [
    "## Analysis: Discrepancy Between Arrest Flag and Target\n",
    "Oddly, the arrest flag counts are much lower than arrest (target) counts."
   ]
  },
  {
   "cell_type": "markdown",
   "metadata": {},
   "source": [
    "### Binarizing the Frisk Flag"
   ]
  },
  {
   "cell_type": "code",
   "execution_count": 53,
   "metadata": {
    "tags": []
   },
   "outputs": [
    {
     "data": {
      "text/plain": [
       "N     36147\n",
       "Y     10588\n",
       "NA      478\n",
       "Name: Frisk Flag, dtype: int64"
      ]
     },
     "execution_count": 53,
     "metadata": {},
     "output_type": "execute_result"
    }
   ],
   "source": [
    "df['Frisk Flag'].value_counts()"
   ]
  },
  {
   "cell_type": "code",
   "execution_count": 54,
   "metadata": {},
   "outputs": [],
   "source": [
    "#  binarizing frisk flag\n",
    "df['Frisk Flag'] = df['Frisk Flag'].replace('Y', 1)\n",
    "df['Frisk Flag'] = df['Frisk Flag'].map(lambda x: 0 if x!=1 else 1)"
   ]
  },
  {
   "cell_type": "code",
   "execution_count": 55,
   "metadata": {},
   "outputs": [
    {
     "data": {
      "text/plain": [
       "0    36625\n",
       "1    10588\n",
       "Name: Frisk Flag, dtype: int64"
      ]
     },
     "execution_count": 55,
     "metadata": {},
     "output_type": "execute_result"
    }
   ],
   "source": [
    "df['Frisk Flag'].value_counts()"
   ]
  },
  {
   "cell_type": "code",
   "execution_count": 56,
   "metadata": {},
   "outputs": [
    {
     "data": {
      "text/plain": [
       "0    0.77574\n",
       "1    0.22426\n",
       "Name: Frisk Flag, dtype: float64"
      ]
     },
     "execution_count": 56,
     "metadata": {},
     "output_type": "execute_result"
    }
   ],
   "source": [
    "df['Frisk Flag'].value_counts(normalize=True)"
   ]
  },
  {
   "cell_type": "markdown",
   "metadata": {},
   "source": [
    "### Checking the Precinct Feature"
   ]
  },
  {
   "cell_type": "code",
   "execution_count": 57,
   "metadata": {},
   "outputs": [
    {
     "data": {
      "text/plain": [
       "array(['South', 'NA', 'East', 'North', 'West', 'Southwest', 'Unknown',\n",
       "       'SouthWest', 'OOJ', 'FK ERROR'], dtype=object)"
      ]
     },
     "execution_count": 57,
     "metadata": {},
     "output_type": "execute_result"
    }
   ],
   "source": [
    "df['Precinct'].unique()"
   ]
  },
  {
   "cell_type": "code",
   "execution_count": 58,
   "metadata": {},
   "outputs": [
    {
     "data": {
      "text/plain": [
       "West         11432\n",
       "North        10385\n",
       "NA            9859\n",
       "East          6213\n",
       "South         5653\n",
       "Southwest     2320\n",
       "SouthWest     1098\n",
       "Unknown        200\n",
       "OOJ             33\n",
       "FK ERROR        20\n",
       "Name: Precinct, dtype: int64"
      ]
     },
     "execution_count": 58,
     "metadata": {},
     "output_type": "execute_result"
    }
   ],
   "source": [
    "df['Precinct'].value_counts()"
   ]
  },
  {
   "cell_type": "code",
   "execution_count": 59,
   "metadata": {},
   "outputs": [],
   "source": [
    "# fixing Southwest precinct\n",
    "df['Precinct'] = df['Precinct'].replace('SouthWest', 'Southwest')"
   ]
  },
  {
   "cell_type": "code",
   "execution_count": 60,
   "metadata": {},
   "outputs": [],
   "source": [
    "drop_list = ['Unknown', 'OOJ', 'FK ERROR']\n",
    "df = df[~df['Precinct'].isin(drop_list)]"
   ]
  },
  {
   "cell_type": "code",
   "execution_count": 61,
   "metadata": {},
   "outputs": [
    {
     "data": {
      "text/plain": [
       "West         11432\n",
       "North        10385\n",
       "NA            9859\n",
       "East          6213\n",
       "South         5653\n",
       "Southwest     3418\n",
       "Name: Precinct, dtype: int64"
      ]
     },
     "execution_count": 61,
     "metadata": {},
     "output_type": "execute_result"
    }
   ],
   "source": [
    "df['Precinct'].value_counts()"
   ]
  },
  {
   "cell_type": "code",
   "execution_count": 62,
   "metadata": {},
   "outputs": [
    {
     "data": {
      "text/plain": [
       "West         0.243441\n",
       "North        0.221146\n",
       "NA           0.209945\n",
       "East         0.132304\n",
       "South        0.120379\n",
       "Southwest    0.072785\n",
       "Name: Precinct, dtype: float64"
      ]
     },
     "execution_count": 62,
     "metadata": {},
     "output_type": "execute_result"
    }
   ],
   "source": [
    "df['Precinct'].value_counts(normalize=True)"
   ]
  },
  {
   "cell_type": "markdown",
   "metadata": {},
   "source": [
    "## Analysis: `NA` is Third Largest Category at 20%"
   ]
  },
  {
   "cell_type": "markdown",
   "metadata": {},
   "source": [
    "### Checking the Sector Feature"
   ]
  },
  {
   "cell_type": "code",
   "execution_count": 63,
   "metadata": {},
   "outputs": [
    {
     "data": {
      "text/plain": [
       "NA        9865\n",
       "E         2337\n",
       "M         2270\n",
       "N         2191\n",
       "K         1762\n",
       "K         1725\n",
       "B         1658\n",
       "L         1639\n",
       "D         1512\n",
       "R         1455\n",
       "F         1378\n",
       "S         1348\n",
       "U         1302\n",
       "M         1254\n",
       "O         1161\n",
       "D         1144\n",
       "J         1119\n",
       "G         1087\n",
       "C         1037\n",
       "Q          967\n",
       "W          941\n",
       "E          925\n",
       "Q          794\n",
       "N          694\n",
       "F          669\n",
       "R          616\n",
       "O          598\n",
       "B          518\n",
       "S          476\n",
       "U          453\n",
       "G          442\n",
       "W          428\n",
       "L          416\n",
       "J          395\n",
       "C          384\n",
       "Name: Sector, dtype: int64"
      ]
     },
     "execution_count": 63,
     "metadata": {},
     "output_type": "execute_result"
    }
   ],
   "source": [
    "df['Sector'].value_counts()"
   ]
  },
  {
   "cell_type": "code",
   "execution_count": 64,
   "metadata": {},
   "outputs": [
    {
     "data": {
      "text/plain": [
       "NA        0.210072\n",
       "E         0.049766\n",
       "M         0.048339\n",
       "N         0.046657\n",
       "K         0.037521\n",
       "K         0.036733\n",
       "B         0.035307\n",
       "L         0.034902\n",
       "D         0.032198\n",
       "R         0.030984\n",
       "F         0.029344\n",
       "S         0.028705\n",
       "U         0.027726\n",
       "M         0.026704\n",
       "O         0.024723\n",
       "D         0.024361\n",
       "J         0.023829\n",
       "G         0.023147\n",
       "C         0.022083\n",
       "Q         0.020592\n",
       "W         0.020038\n",
       "E         0.019698\n",
       "Q         0.016908\n",
       "N         0.014779\n",
       "F         0.014246\n",
       "R         0.013118\n",
       "O         0.012734\n",
       "B         0.011031\n",
       "S         0.010136\n",
       "U         0.009647\n",
       "G         0.009412\n",
       "W         0.009114\n",
       "L         0.008859\n",
       "J         0.008411\n",
       "C         0.008177\n",
       "Name: Sector, dtype: float64"
      ]
     },
     "execution_count": 64,
     "metadata": {},
     "output_type": "execute_result"
    }
   ],
   "source": [
    "df['Sector'].value_counts(normalize=True)"
   ]
  },
  {
   "cell_type": "markdown",
   "metadata": {},
   "source": [
    "## Analysis: `NA` is Largest at 21%\n",
    "Four times larger than the next largest category."
   ]
  },
  {
   "cell_type": "markdown",
   "metadata": {},
   "source": [
    "### Checking the Beat Feature"
   ]
  },
  {
   "cell_type": "code",
   "execution_count": 65,
   "metadata": {},
   "outputs": [
    {
     "data": {
      "text/plain": [
       "NA        9859\n",
       "N3        1175\n",
       "E2        1092\n",
       "K3         964\n",
       "M2         852\n",
       "          ... \n",
       "C2          87\n",
       "U3          85\n",
       "J2          75\n",
       "N1          73\n",
       "99           2\n",
       "Name: Beat, Length: 104, dtype: int64"
      ]
     },
     "execution_count": 65,
     "metadata": {},
     "output_type": "execute_result"
    }
   ],
   "source": [
    "df['Beat'].value_counts()"
   ]
  },
  {
   "cell_type": "code",
   "execution_count": 66,
   "metadata": {},
   "outputs": [
    {
     "data": {
      "text/plain": [
       "NA        0.209945\n",
       "N3        0.025021\n",
       "E2        0.023254\n",
       "K3        0.020528\n",
       "M2        0.018143\n",
       "            ...   \n",
       "C2        0.001853\n",
       "U3        0.001810\n",
       "J2        0.001597\n",
       "N1        0.001555\n",
       "99        0.000043\n",
       "Name: Beat, Length: 104, dtype: float64"
      ]
     },
     "execution_count": 66,
     "metadata": {},
     "output_type": "execute_result"
    }
   ],
   "source": [
    "df['Beat'].value_counts(normalize=True)"
   ]
  },
  {
   "cell_type": "markdown",
   "metadata": {},
   "source": [
    "## Analysis: `NA` is largest Category at 21%\n",
    "`NA` is over 8 times larger that the next largest category."
   ]
  },
  {
   "cell_type": "markdown",
   "metadata": {},
   "source": [
    "### Creating a Beat Flag\n",
    "Creating a binary flag where 1 indicates that a beat was entered into the record."
   ]
  },
  {
   "cell_type": "code",
   "execution_count": 67,
   "metadata": {},
   "outputs": [],
   "source": [
    "# creating beat flag\n",
    "df['Beat Flag'] = df['Beat']\n",
    "\n",
    "df['Beat Flag'] = df['Beat Flag'].replace('NA', 0)\n",
    "df['Beat Flag'] = df['Beat Flag'].map(lambda x: 1 if x!=0 else 0)"
   ]
  },
  {
   "cell_type": "code",
   "execution_count": 68,
   "metadata": {},
   "outputs": [
    {
     "data": {
      "text/plain": [
       "1    37101\n",
       "0     9859\n",
       "Name: Beat Flag, dtype: int64"
      ]
     },
     "execution_count": 68,
     "metadata": {},
     "output_type": "execute_result"
    }
   ],
   "source": [
    "df['Beat Flag'].value_counts()"
   ]
  },
  {
   "cell_type": "code",
   "execution_count": 69,
   "metadata": {},
   "outputs": [
    {
     "data": {
      "text/plain": [
       "1    0.790055\n",
       "0    0.209945\n",
       "Name: Beat Flag, dtype: float64"
      ]
     },
     "execution_count": 69,
     "metadata": {},
     "output_type": "execute_result"
    }
   ],
   "source": [
    "df['Beat Flag'].value_counts(normalize=True)"
   ]
  },
  {
   "cell_type": "markdown",
   "metadata": {},
   "source": [
    "## Analysis: 21% of Stops Have no Beat Information"
   ]
  },
  {
   "cell_type": "markdown",
   "metadata": {},
   "source": [
    "### Checking Work So Far"
   ]
  },
  {
   "cell_type": "code",
   "execution_count": 70,
   "metadata": {},
   "outputs": [
    {
     "name": "stdout",
     "output_type": "stream",
     "text": [
      "<class 'pandas.core.frame.DataFrame'>\n",
      "Int64Index: 46960 entries, 0 to 47212\n",
      "Data columns (total 29 columns):\n",
      " #   Column                    Non-Null Count  Dtype \n",
      "---  ------                    --------------  ----- \n",
      " 0   Target                    46960 non-null  int64 \n",
      " 1   Subject Age Group         46960 non-null  object\n",
      " 2   Subject ID                46960 non-null  int64 \n",
      " 3   GO / SC Num               46960 non-null  int64 \n",
      " 4   Terry Stop ID             46960 non-null  int64 \n",
      " 5   Stop Resolution           46960 non-null  object\n",
      " 6   Weapon Type               46960 non-null  object\n",
      " 7   Officer ID                46960 non-null  object\n",
      " 8   Officer YOB               46960 non-null  int64 \n",
      " 9   Officer Gender            46960 non-null  object\n",
      " 10  Officer Race              46960 non-null  object\n",
      " 11  Subject Perceived Race    46960 non-null  object\n",
      " 12  Subject Perceived Gender  46960 non-null  object\n",
      " 13  Initial Call Type         46960 non-null  object\n",
      " 14  Final Call Type           46960 non-null  object\n",
      " 15  Call Type                 46960 non-null  object\n",
      " 16  Officer Squad             46960 non-null  object\n",
      " 17  Arrest Flag               46960 non-null  int64 \n",
      " 18  Frisk Flag                46960 non-null  int64 \n",
      " 19  Precinct                  46960 non-null  object\n",
      " 20  Sector                    46960 non-null  object\n",
      " 21  Beat                      46960 non-null  object\n",
      " 22  Weapon Flag               46960 non-null  int64 \n",
      " 23  Reported Year             46960 non-null  int64 \n",
      " 24  Reported Month            46960 non-null  int64 \n",
      " 25  Day of Month              46960 non-null  int64 \n",
      " 26  Day of Week               46960 non-null  int64 \n",
      " 27  Reported Hour             46960 non-null  int64 \n",
      " 28  Beat Flag                 46960 non-null  int64 \n",
      "dtypes: int64(14), object(15)\n",
      "memory usage: 10.7+ MB\n"
     ]
    }
   ],
   "source": [
    "df.info()"
   ]
  },
  {
   "cell_type": "code",
   "execution_count": 71,
   "metadata": {},
   "outputs": [
    {
     "data": {
      "text/plain": [
       "Index(['Target', 'Subject Age Group', 'Subject ID', 'GO / SC Num',\n",
       "       'Terry Stop ID', 'Stop Resolution', 'Weapon Type', 'Officer ID',\n",
       "       'Officer YOB', 'Officer Gender', 'Officer Race',\n",
       "       'Subject Perceived Race', 'Subject Perceived Gender',\n",
       "       'Initial Call Type', 'Final Call Type', 'Call Type', 'Officer Squad',\n",
       "       'Arrest Flag', 'Frisk Flag', 'Precinct', 'Sector', 'Beat',\n",
       "       'Weapon Flag', 'Reported Year', 'Reported Month', 'Day of Month',\n",
       "       'Day of Week', 'Reported Hour', 'Beat Flag'],\n",
       "      dtype='object')"
      ]
     },
     "execution_count": 71,
     "metadata": {},
     "output_type": "execute_result"
    }
   ],
   "source": [
    "# checking columns\n",
    "df.columns"
   ]
  },
  {
   "cell_type": "markdown",
   "metadata": {},
   "source": [
    "### Dropping Extraneous Columns"
   ]
  },
  {
   "cell_type": "code",
   "execution_count": 72,
   "metadata": {},
   "outputs": [],
   "source": [
    "# dropping columns\n",
    "df.drop(['Subject ID', 'GO / SC Num',\n",
    "         'Terry Stop ID'], axis=1, inplace=True)"
   ]
  },
  {
   "cell_type": "markdown",
   "metadata": {},
   "source": [
    "## Exporting Data as CSV Files"
   ]
  },
  {
   "cell_type": "code",
   "execution_count": 73,
   "metadata": {},
   "outputs": [],
   "source": [
    "column_list = df.columns\n",
    "excluded = ['Weapon Flag', 'Reported Year', 'Reported Month', 'Day of Month',\n",
    "'Day of Week', 'Reported Hour', 'Beat Flag']\n",
    "cols = [x for x in column_list if x not in excluded]"
   ]
  },
  {
   "cell_type": "code",
   "execution_count": 74,
   "metadata": {},
   "outputs": [],
   "source": [
    "# dataframe of cleaned data with no engineered features besides the target\n",
    "cleaned = df[cols]"
   ]
  },
  {
   "cell_type": "code",
   "execution_count": 75,
   "metadata": {},
   "outputs": [],
   "source": [
    "# # exporting cleaned data w/ no new features\n",
    "# path2 = os.path.join(gparent, 'data/processed', 'cleaned.csv')\n",
    "# cleaned.to_csv(path2, index=False, na_rep='NA')"
   ]
  },
  {
   "cell_type": "code",
   "execution_count": 76,
   "metadata": {},
   "outputs": [],
   "source": [
    "# # exporting cleaned data with new features\n",
    "# path2 = os.path.join(gparent, 'data/processed', 'engineered.csv')\n",
    "# df.to_csv(path2, index=False, na_rep='NA')"
   ]
  },
  {
   "cell_type": "code",
   "execution_count": null,
   "metadata": {},
   "outputs": [],
   "source": []
  }
 ],
 "metadata": {
  "kernelspec": {
   "display_name": "terry_stops",
   "language": "python",
   "name": "terry_stops"
  },
  "language_info": {
   "codemirror_mode": {
    "name": "ipython",
    "version": 3
   },
   "file_extension": ".py",
   "mimetype": "text/x-python",
   "name": "python",
   "nbconvert_exporter": "python",
   "pygments_lexer": "ipython3",
   "version": "3.9.4"
  }
 },
 "nbformat": 4,
 "nbformat_minor": 4
}
