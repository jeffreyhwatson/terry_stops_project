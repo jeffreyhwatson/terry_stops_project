{
 "cells": [
  {
   "cell_type": "code",
   "execution_count": null,
   "id": "dec765fd-7cf9-4b53-9647-18921634ffb3",
   "metadata": {},
   "outputs": [],
   "source": [
    "%load_ext autoreload\n",
    "%autoreload 2"
   ]
  },
  {
   "cell_type": "markdown",
   "id": "d5f0aa29-e754-4817-885f-28b1c75a673c",
   "metadata": {},
   "source": [
    "## Package Imports & Setup "
   ]
  },
  {
   "cell_type": "code",
   "execution_count": null,
   "id": "e7e827e0-c324-49a5-9c8a-6acd8a4a32dd",
   "metadata": {},
   "outputs": [],
   "source": [
    "# setting project path\n",
    "import os\n",
    "import sys\n",
    "\n",
    "gparent = os.path.join(os.pardir, os.pardir)\n",
    "sys.path.append(gparent)\n",
    "\n",
    "# imports\n",
    "import pandas as pd\n",
    "import numpy as np\n",
    "\n",
    "from sklearn.model_selection import StratifiedKFold\n",
    "from sklearn.model_selection import train_test_split\n",
    "from sklearn.model_selection import cross_val_score\n",
    "from sklearn.model_selection import GridSearchCV\n",
    "from sklearn.preprocessing import OneHotEncoder\n",
    "from sklearn.preprocessing import StandardScaler\n",
    "from sklearn.preprocessing import MinMaxScaler, PolynomialFeatures\n",
    "from sklearn.compose import make_column_selector\n",
    "from sklearn.compose import make_column_transformer\n",
    "from sklearn.pipeline import make_pipeline \n",
    "from sklearn.metrics import accuracy_score, recall_score, precision_score, f1_score\n",
    "from sklearn.metrics import make_scorer, plot_confusion_matrix\n",
    "from sklearn.linear_model import LogisticRegression\n",
    "from sklearn.neighbors import KNeighborsClassifier\n",
    "from sklearn.base import clone\n",
    "from sklearn.tree import DecisionTreeClassifier\n",
    "from sklearn.ensemble import RandomForestClassifier\n",
    "from sklearn.ensemble import AdaBoostClassifier\n",
    "\n",
    "from imblearn.over_sampling import SMOTE\n",
    "from imblearn.pipeline import make_pipeline as make_sm_pipeline\n",
    "\n",
    "from boruta import BorutaPy\n",
    "\n",
    "from src import classes as c\n",
    "from src import functions as f\n",
    "import matplotlib.pyplot as plt\n",
    "import seaborn as sns\n",
    "\n",
    "# setting style\n",
    "sns.set_theme('talk')\n",
    "plt.style.use('fivethirtyeight')\n",
    "sns.set_palette(palette='Blues_r')"
   ]
  },
  {
   "cell_type": "markdown",
   "id": "2b7ec8ba-446d-4c17-8aaf-f92dbc62454c",
   "metadata": {},
   "source": [
    "## Importing the Data"
   ]
  },
  {
   "cell_type": "code",
   "execution_count": null,
   "id": "959930a8-49d5-44fa-b4be-6f380b385b05",
   "metadata": {},
   "outputs": [],
   "source": [
    "path = os.path.join(gparent, 'data/processed', 'modeling.csv')\n",
    "df = pd.read_csv(path, keep_default_na=False)"
   ]
  },
  {
   "cell_type": "markdown",
   "id": "89d003b1-9e09-4cb4-b910-d21ec32be028",
   "metadata": {},
   "source": [
    "## Preprocessing and Harness Objects"
   ]
  },
  {
   "cell_type": "code",
   "execution_count": null,
   "id": "21082e75-a9f7-4ae6-ace5-81e27c6d4e59",
   "metadata": {},
   "outputs": [],
   "source": [
    "string_selector = make_column_selector(dtype_include='object')\n",
    "number_selector = make_column_selector(dtype_include='number', dtype_exclude='object')\n",
    "\n",
    "preprocessing_ss = make_column_transformer((OneHotEncoder\n",
    "                                         (handle_unknown='ignore'),string_selector),\n",
    "                                          (StandardScaler(), number_selector))\n",
    "preprocessing_mm = make_column_transformer((OneHotEncoder\n",
    "                                         (handle_unknown='ignore'),string_selector),\n",
    "                                          (MinMaxScaler(), number_selector))\n",
    "sm = SMOTE(random_state=2021)"
   ]
  },
  {
   "cell_type": "code",
   "execution_count": null,
   "id": "30b55b51-7e25-4099-ae62-ec44d025cef9",
   "metadata": {},
   "outputs": [],
   "source": [
    "# creating f1 scorer\n",
    "f1 = f.f1"
   ]
  },
  {
   "cell_type": "code",
   "execution_count": null,
   "id": "d1f485cb-e7b7-406f-a812-3e0bff3a083c",
   "metadata": {},
   "outputs": [],
   "source": [
    "modeling = c.Harness(f1)"
   ]
  },
  {
   "cell_type": "markdown",
   "id": "67fc48c6-f67f-4c9b-9c72-107197d495cf",
   "metadata": {},
   "source": [
    "## Baseline Dataframe"
   ]
  },
  {
   "cell_type": "markdown",
   "id": "e9149cb6-8807-4a31-bcfd-38c2007cc30d",
   "metadata": {},
   "source": [
    "Dropping engineered features to establish the baseline score."
   ]
  },
  {
   "cell_type": "code",
   "execution_count": null,
   "id": "19b83772-d665-485c-b2b5-f64ec9682619",
   "metadata": {},
   "outputs": [],
   "source": [
    "df.head()"
   ]
  },
  {
   "cell_type": "code",
   "execution_count": null,
   "id": "aaebf3c2-5022-4427-860c-3f41398fde9d",
   "metadata": {},
   "outputs": [],
   "source": [
    "# features engineered during eda\n",
    "feature_list = ['Weapon Flag', 'Reported Year', 'Reported Month',\n",
    "                'Day of Month', 'Day of Week', 'Reported Hour', 'Beat Flag']"
   ]
  },
  {
   "cell_type": "code",
   "execution_count": null,
   "id": "47512aba-00a7-4890-bb5c-dd72df2992af",
   "metadata": {},
   "outputs": [],
   "source": [
    "# excluding Officer ID, 'Final Call Type', Frisk Flag & time features\n",
    "excluded = ['Officer ID','Final Call Type', 'Frisk Flag','Weapon Flag', \n",
    "             'Reported Year', 'Reported Month','Day of Month',\n",
    "             'Day of Week', 'Reported Hour', 'Beat Flag']"
   ]
  },
  {
   "cell_type": "code",
   "execution_count": null,
   "id": "d13534dd-1c86-4fdb-ba31-f7e0022960d7",
   "metadata": {},
   "outputs": [],
   "source": [
    "baseline_df = f.framer(df, [], excluded)"
   ]
  },
  {
   "cell_type": "code",
   "execution_count": null,
   "id": "c56efad5-e786-47a8-aff2-9515bf0dc541",
   "metadata": {},
   "outputs": [],
   "source": [
    "baseline_df.head(2)"
   ]
  },
  {
   "cell_type": "code",
   "execution_count": null,
   "id": "2fda8c57-cd87-448d-adb6-53b3296cb609",
   "metadata": {},
   "outputs": [],
   "source": [
    "X, y = f.Xy(baseline_df)"
   ]
  },
  {
   "cell_type": "code",
   "execution_count": null,
   "id": "af987daf-967a-4f84-9860-2d2ed0879116",
   "metadata": {},
   "outputs": [],
   "source": [
    "X_train, X_test, y_train, y_test = f.splitter(X,y)"
   ]
  },
  {
   "cell_type": "markdown",
   "id": "7e9dfbdd-02ee-44ec-808f-fce7528a37b8",
   "metadata": {},
   "source": [
    "## Baseline Logistic Regression"
   ]
  },
  {
   "cell_type": "code",
   "execution_count": null,
   "id": "d4df1dfc-bb09-41b3-9769-58e4ef5c1cd7",
   "metadata": {
    "tags": []
   },
   "outputs": [],
   "source": [
    "LR = LogisticRegression(max_iter=1000, random_state = 2021, verbose=2)"
   ]
  },
  {
   "cell_type": "code",
   "execution_count": null,
   "id": "7ff4cf42-5fc0-44d5-bbb1-d5df8e211276",
   "metadata": {},
   "outputs": [],
   "source": [
    "baseline = make_pipeline(preprocessing_mm, LR)"
   ]
  },
  {
   "cell_type": "code",
   "execution_count": null,
   "id": "57afe0dd-4f0f-42bf-8d74-5f7442754b91",
   "metadata": {},
   "outputs": [],
   "source": [
    "baseline.fit(X_train, y_train)"
   ]
  },
  {
   "cell_type": "code",
   "execution_count": null,
   "id": "1de1462e-758e-4cd1-96e0-60cf30d187ed",
   "metadata": {
    "tags": []
   },
   "outputs": [],
   "source": [
    "#scoring the model\n",
    "f1_score(baseline.predict(X_train), y_train)"
   ]
  },
  {
   "cell_type": "code",
   "execution_count": null,
   "id": "54770e9b-12f5-46dd-abe9-fd4b19039382",
   "metadata": {},
   "outputs": [],
   "source": [
    "# checking cross val scores\n",
    "modeling.report(baseline, X_train, y_train, 'LR Baseline', 'Log Reg, min/max')"
   ]
  },
  {
   "cell_type": "markdown",
   "id": "74b336b6-49dd-4026-8714-602c832e9854",
   "metadata": {},
   "source": [
    "## Sub-Splitting the Training Data"
   ]
  },
  {
   "cell_type": "code",
   "execution_count": null,
   "id": "4f961509-c8f3-42f1-b0df-6a2c7a9c4747",
   "metadata": {},
   "outputs": [],
   "source": [
    "f.subsplit_test(X_train, y_train, baseline)"
   ]
  },
  {
   "cell_type": "markdown",
   "id": "b4036173-27ae-42d7-981b-ec74ddb3d32c",
   "metadata": {},
   "source": [
    "## Baseline Logistic Regression w/smote"
   ]
  },
  {
   "cell_type": "code",
   "execution_count": null,
   "id": "909be8fe-22df-48b4-921e-dab28443eaf0",
   "metadata": {},
   "outputs": [],
   "source": [
    "baseline_smote = make_sm_pipeline(preprocessing_mm, sm, LR)"
   ]
  },
  {
   "cell_type": "code",
   "execution_count": null,
   "id": "1b942384-99d9-4577-aaa2-68a30f635f44",
   "metadata": {},
   "outputs": [],
   "source": [
    "baseline_smote.fit(X_train, y_train)"
   ]
  },
  {
   "cell_type": "code",
   "execution_count": null,
   "id": "74cc4e38-d1b4-4006-ac68-d0477a905d27",
   "metadata": {
    "tags": []
   },
   "outputs": [],
   "source": [
    "#scoring the model\n",
    "f1_score(baseline_smote.predict(X_train), y_train)"
   ]
  },
  {
   "cell_type": "code",
   "execution_count": null,
   "id": "7191f0c6-cade-4d9f-971c-7e8124d45904",
   "metadata": {},
   "outputs": [],
   "source": [
    "# checking cross val scores\n",
    "modeling.report(baseline_smote, X_train, y_train, 'LR Baseline SMOTE', 'Log Reg min/max')"
   ]
  },
  {
   "cell_type": "code",
   "execution_count": null,
   "id": "71babeb6-f104-4992-a608-112fc33d5567",
   "metadata": {},
   "outputs": [],
   "source": [
    "modeling.history"
   ]
  },
  {
   "cell_type": "markdown",
   "id": "28f9af18-8076-4142-a494-41c686815429",
   "metadata": {},
   "source": [
    "## Sub-Splitting the Training Data"
   ]
  },
  {
   "cell_type": "code",
   "execution_count": null,
   "id": "6f1759c2-c435-4714-950c-bbd802216406",
   "metadata": {},
   "outputs": [],
   "source": [
    "f.subsplit_test(X_train, y_train, baseline_smote)"
   ]
  },
  {
   "cell_type": "markdown",
   "id": "4c303041-8ac8-408d-aab6-a71c7b998cbf",
   "metadata": {},
   "source": [
    "## Dropping Subject and Officer Race Nulls"
   ]
  },
  {
   "cell_type": "code",
   "execution_count": null,
   "id": "4c08d5eb-145a-4ede-9fbe-04e4a72c6d2d",
   "metadata": {},
   "outputs": [],
   "source": [
    "df = df[(df['Subject Perceived Race']!='NA') &\\\n",
    "            (df['Officer Race']!='NA')]"
   ]
  },
  {
   "cell_type": "code",
   "execution_count": null,
   "id": "c6556bf1-c44a-4458-aaa7-d0c7b6667dd8",
   "metadata": {},
   "outputs": [],
   "source": [
    "# features engineered during eda\n",
    "feature_list = ['Weapon Flag', 'Reported Year', 'Reported Month',\n",
    "                'Day of Month', 'Day of Week', 'Reported Hour', 'Beat Flag']"
   ]
  },
  {
   "cell_type": "code",
   "execution_count": null,
   "id": "ce23bb75-7c1f-44d4-a4ef-4f426739e3b5",
   "metadata": {},
   "outputs": [],
   "source": [
    "# excluding Officer ID, 'Final Call Type', Frisk Flag & time features\n",
    "excluded = ['Officer ID','Final Call Type', 'Frisk Flag','Weapon Flag', \n",
    "             'Reported Year', 'Reported Month','Day of Month',\n",
    "             'Day of Week', 'Reported Hour', 'Beat Flag']"
   ]
  },
  {
   "cell_type": "code",
   "execution_count": null,
   "id": "0cd911e0-3bea-4558-b5a0-5fc3bbadc146",
   "metadata": {},
   "outputs": [],
   "source": [
    "dropped_df = f.framer(df, [], excluded)"
   ]
  },
  {
   "cell_type": "code",
   "execution_count": null,
   "id": "339955e4-5ff5-4d03-b000-bc589c4aa5d3",
   "metadata": {},
   "outputs": [],
   "source": [
    "dropped_df.head(2)"
   ]
  },
  {
   "cell_type": "code",
   "execution_count": null,
   "id": "f404de0b-0796-4ca8-9042-5a61f7ccea7e",
   "metadata": {},
   "outputs": [],
   "source": [
    "X, y = f.Xy(dropped_df)"
   ]
  },
  {
   "cell_type": "code",
   "execution_count": null,
   "id": "52d66ec2-0dbf-4499-912c-2c76df59114b",
   "metadata": {},
   "outputs": [],
   "source": [
    "X_train, X_test, y_train, y_test = f.splitter(X,y)"
   ]
  },
  {
   "cell_type": "markdown",
   "id": "a9b09fa3-e0ea-4358-b07c-1aa0493ef1f6",
   "metadata": {},
   "source": [
    "## Baseline Logistic Regression w/SMOTE on Dropped Nulls Data"
   ]
  },
  {
   "cell_type": "code",
   "execution_count": null,
   "id": "cddf162c-4dd1-4e0e-9ef9-aa652809efd2",
   "metadata": {},
   "outputs": [],
   "source": [
    "baseline_smote = make_sm_pipeline(preprocessing_mm, sm, LR)"
   ]
  },
  {
   "cell_type": "code",
   "execution_count": null,
   "id": "05780e27-29a4-49f0-84da-339e23db4e1d",
   "metadata": {},
   "outputs": [],
   "source": [
    "baseline_smote.fit(X_train, y_train)"
   ]
  },
  {
   "cell_type": "code",
   "execution_count": null,
   "id": "83b0d995-5bf6-453b-b4f7-7fa7b7a6618c",
   "metadata": {
    "tags": []
   },
   "outputs": [],
   "source": [
    "#scoring the model\n",
    "f1_score(baseline_smote.predict(X_train), y_train)"
   ]
  },
  {
   "cell_type": "code",
   "execution_count": null,
   "id": "2a1992c6-be2a-4a76-ba93-7a89c01ef6f7",
   "metadata": {},
   "outputs": [],
   "source": [
    "# checking cross val scores\n",
    "modeling.report(baseline_smote, X_train, y_train, 'LR Baseline SMOTE', 'LR, mm, Dropped Nulls')"
   ]
  },
  {
   "cell_type": "code",
   "execution_count": null,
   "id": "ea044064-26ac-4010-91c1-dd73107f98fa",
   "metadata": {},
   "outputs": [],
   "source": [
    "modeling.history"
   ]
  },
  {
   "cell_type": "markdown",
   "id": "ff84a210-ce7b-4506-9dff-885007c16f30",
   "metadata": {},
   "source": [
    "## Sub-Splitting the Training Data"
   ]
  },
  {
   "cell_type": "code",
   "execution_count": null,
   "id": "98aa9ffc-1d3e-4f13-8098-ec8f2270fcad",
   "metadata": {},
   "outputs": [],
   "source": [
    "f.subsplit_test(X_train, y_train, baseline_smote)"
   ]
  },
  {
   "cell_type": "markdown",
   "id": "7decf072-08a5-4a9d-895e-874c4460e6ee",
   "metadata": {},
   "source": [
    "## Investigating the Data More Closely"
   ]
  },
  {
   "cell_type": "code",
   "execution_count": null,
   "id": "5fc2f5a5-a1e0-4e9e-b252-721512bccf76",
   "metadata": {},
   "outputs": [],
   "source": [
    "cols = baseline_df.columns\n",
    "for col in cols:\n",
    "    print(f'{df[col].value_counts()}\\n')"
   ]
  },
  {
   "cell_type": "code",
   "execution_count": null,
   "id": "70a8aa30-b1ab-4e06-adcf-2b1c6f1b10ef",
   "metadata": {},
   "outputs": [],
   "source": [
    "baseline_df['Officer YOB'].describe()"
   ]
  },
  {
   "cell_type": "markdown",
   "id": "5029a665-0ccd-4968-aff3-6c382302e58c",
   "metadata": {},
   "source": [
    "## Creating & Testing Officer Age Feature\n",
    "Creating `Officer Age` feature, dropping invalid ages and `Officer YOB` feature."
   ]
  },
  {
   "cell_type": "code",
   "execution_count": null,
   "id": "c78439b7-1cc0-4547-bac6-348a86945c32",
   "metadata": {},
   "outputs": [],
   "source": [
    "df['Officer Age'] = df['Reported Year'] - df['Officer YOB']\n",
    "df['Officer Age'] = df['Officer Age'].apply(lambda x: np.nan if x > 100 else x)\n",
    "df.dropna(subset = ['Officer Age'], inplace=True)"
   ]
  },
  {
   "cell_type": "code",
   "execution_count": null,
   "id": "629c39f6-4fb6-4c19-a772-2aa62f4c3066",
   "metadata": {},
   "outputs": [],
   "source": [
    "df.drop('Officer YOB', axis=1, inplace=True)"
   ]
  },
  {
   "cell_type": "code",
   "execution_count": null,
   "id": "d1cb2ff2-accd-40bf-b8b3-2fb3341fb014",
   "metadata": {},
   "outputs": [],
   "source": [
    "age_df = f.framer(df, [], excluded)"
   ]
  },
  {
   "cell_type": "code",
   "execution_count": null,
   "id": "b37aa9a3-3a6f-4ee0-9950-0c6ac572832d",
   "metadata": {},
   "outputs": [],
   "source": [
    "age_df.head(2)"
   ]
  },
  {
   "cell_type": "code",
   "execution_count": null,
   "id": "f27baaea-69bf-43ce-9770-ea6e3fdb2f39",
   "metadata": {},
   "outputs": [],
   "source": [
    "age_df.info()"
   ]
  },
  {
   "cell_type": "code",
   "execution_count": null,
   "id": "535acc3b-605d-4f46-8c2b-7432934477a1",
   "metadata": {},
   "outputs": [],
   "source": [
    "X, y = f.Xy(age_df)"
   ]
  },
  {
   "cell_type": "code",
   "execution_count": null,
   "id": "dd7acb0a-4883-42f0-bfa9-4ab21ce24967",
   "metadata": {},
   "outputs": [],
   "source": [
    "X_train, X_test, y_train, y_test = f.splitter(X,y)"
   ]
  },
  {
   "cell_type": "code",
   "execution_count": null,
   "id": "72a1d92e-3bdc-43ac-9748-3ffb4a19fe61",
   "metadata": {},
   "outputs": [],
   "source": [
    "baseline_smote.fit(X_train, y_train)"
   ]
  },
  {
   "cell_type": "code",
   "execution_count": null,
   "id": "b6c062cb-e12d-45c7-9941-1fd6776fa87a",
   "metadata": {},
   "outputs": [],
   "source": [
    "#scoring the model\n",
    "f1_score(baseline_smote.predict(X_train), y_train)"
   ]
  },
  {
   "cell_type": "code",
   "execution_count": null,
   "id": "1f20eeb9-5396-4234-bd47-070f61907e97",
   "metadata": {},
   "outputs": [],
   "source": [
    "# checking cross val scores\n",
    "modeling.report(baseline_smote, X_train, y_train, 'LR SMOTE', 'Dropped Nulls, mm, officer age')"
   ]
  },
  {
   "cell_type": "code",
   "execution_count": null,
   "id": "504b23a6-b727-4fea-9562-1e21b42d7299",
   "metadata": {},
   "outputs": [],
   "source": [
    "modeling.history"
   ]
  },
  {
   "cell_type": "code",
   "execution_count": null,
   "id": "e7b2d030-fdde-4370-bf70-45bb2f1f922e",
   "metadata": {},
   "outputs": [],
   "source": [
    "f.subsplit_test(X_train, y_train, baseline_smote)"
   ]
  },
  {
   "cell_type": "markdown",
   "id": "1026d8d5-0fe9-44fb-8ef2-902104d44b2e",
   "metadata": {},
   "source": [
    "## Creating Racial Affinity Feature"
   ]
  },
  {
   "cell_type": "code",
   "execution_count": null,
   "id": "3489e0d5-8302-46e9-849e-a78d3d3a7fbe",
   "metadata": {},
   "outputs": [],
   "source": [
    "df['Racial Affinity'] = [1 if df['Subject Perceived Race'][row]\\\n",
    "                         == df['Officer Race'][row] else 0 for row in df.index]"
   ]
  },
  {
   "cell_type": "code",
   "execution_count": null,
   "id": "a74b4d6e-78ba-456f-a573-0d00c1a833a4",
   "metadata": {},
   "outputs": [],
   "source": [
    "df.head(3)"
   ]
  },
  {
   "cell_type": "code",
   "execution_count": null,
   "id": "8794bf1d-9f7a-4435-a865-c85375aedc00",
   "metadata": {},
   "outputs": [],
   "source": [
    "# excluding Officer ID, 'Final Call Type', and Frisk Flag\n",
    "excluded = ['Officer ID','Final Call Type', 'Frisk Flag','Weapon Flag', \n",
    "             'Reported Year', 'Reported Month','Day of Month',\n",
    "             'Day of Week', 'Reported Hour', 'Beat Flag', 'Officer Age']"
   ]
  },
  {
   "cell_type": "code",
   "execution_count": null,
   "id": "dbdc290c-0807-4e08-8fa4-9edbd3236290",
   "metadata": {},
   "outputs": [],
   "source": [
    "RA_df = f.framer(df, [], excluded)"
   ]
  },
  {
   "cell_type": "code",
   "execution_count": null,
   "id": "62c058b8-f147-43e5-be5b-7ba965d66f69",
   "metadata": {},
   "outputs": [],
   "source": [
    "RA_df.head(2)"
   ]
  },
  {
   "cell_type": "code",
   "execution_count": null,
   "id": "ada2f49e-26ed-442d-8bbf-bef381cf9e3b",
   "metadata": {},
   "outputs": [],
   "source": [
    "X, y = f.Xy(RA_df)"
   ]
  },
  {
   "cell_type": "code",
   "execution_count": null,
   "id": "0b6a8f3a-17f6-433a-be2f-50bdd4111e07",
   "metadata": {},
   "outputs": [],
   "source": [
    "X_train, X_test, y_train, y_test = f.splitter(X,y)"
   ]
  },
  {
   "cell_type": "code",
   "execution_count": null,
   "id": "b834c750-824e-4056-b2dc-fa8c929c14f6",
   "metadata": {},
   "outputs": [],
   "source": [
    "baseline_smote.fit(X_train, y_train)"
   ]
  },
  {
   "cell_type": "code",
   "execution_count": null,
   "id": "dd1522f7-51a1-4515-b496-77b24fabff48",
   "metadata": {},
   "outputs": [],
   "source": [
    "#scoring the model\n",
    "f1_score(baseline_smote.predict(X_train), y_train)"
   ]
  },
  {
   "cell_type": "code",
   "execution_count": null,
   "id": "1f9e1e40-a992-41b2-9106-969003ab7630",
   "metadata": {},
   "outputs": [],
   "source": [
    "# checking cross val scores\n",
    "modeling.report(baseline_smote, X_train, y_train, 'LR SMOTE ', 'Dropped Nulls, mm, racial affinity')"
   ]
  },
  {
   "cell_type": "code",
   "execution_count": null,
   "id": "75dfb21c-958f-4df1-a45a-bb283fc31e13",
   "metadata": {},
   "outputs": [],
   "source": [
    "modeling.history"
   ]
  },
  {
   "cell_type": "code",
   "execution_count": null,
   "id": "e21fe151-9faf-4db8-8135-a2ef27c5b0c4",
   "metadata": {},
   "outputs": [],
   "source": [
    "f.subsplit_test(X_train, y_train, baseline_smote)"
   ]
  },
  {
   "cell_type": "markdown",
   "id": "9c4a2c8a-10e3-4e52-96c7-92dc99eee27f",
   "metadata": {},
   "source": [
    "## Gender Affinity Feature"
   ]
  },
  {
   "cell_type": "code",
   "execution_count": null,
   "id": "395da33f-8ec9-4f4f-9d42-17cfd10fb444",
   "metadata": {},
   "outputs": [],
   "source": [
    "df['Officer Gender'].value_counts()"
   ]
  },
  {
   "cell_type": "code",
   "execution_count": null,
   "id": "6ef0bd47-4e4f-47bc-b3e8-e40a4b7404dd",
   "metadata": {},
   "outputs": [],
   "source": [
    "df['Officer Gender'] = df['Officer Gender'].apply(lambda x: 'Male' if x=='M' else 'Female')"
   ]
  },
  {
   "cell_type": "code",
   "execution_count": null,
   "id": "8fb79238-8cef-49ad-a0b8-7e6c29b38b00",
   "metadata": {},
   "outputs": [],
   "source": [
    "df['Gender Affinity'] = [1 if df['Subject Perceived Gender'][row]\\\n",
    "                         == df['Officer Gender'][row] else 0 for row in df.index]"
   ]
  },
  {
   "cell_type": "code",
   "execution_count": null,
   "id": "a9955531-001e-430b-aa7e-c40f9a985b3f",
   "metadata": {},
   "outputs": [],
   "source": [
    "df.head(2)"
   ]
  },
  {
   "cell_type": "code",
   "execution_count": null,
   "id": "b87a67f0-475b-4e99-9e49-bf0138a07109",
   "metadata": {},
   "outputs": [],
   "source": [
    "excluded = ['Officer ID','Final Call Type', 'Frisk Flag','Weapon Flag', \n",
    "             'Reported Year', 'Reported Month','Day of Month',\n",
    "             'Day of Week', 'Reported Hour', 'Beat Flag', 'Officer Age',\n",
    "            'Racial Affinity']"
   ]
  },
  {
   "cell_type": "code",
   "execution_count": null,
   "id": "7f2fda5f-f9fa-4444-b909-faff95a7a506",
   "metadata": {},
   "outputs": [],
   "source": [
    "GA_df = f.framer(df, [], excluded)"
   ]
  },
  {
   "cell_type": "code",
   "execution_count": null,
   "id": "30d91856-d57d-4a5e-8e34-cd167dadcb83",
   "metadata": {},
   "outputs": [],
   "source": [
    "GA_df.head(2)"
   ]
  },
  {
   "cell_type": "code",
   "execution_count": null,
   "id": "546e61b9-b6c9-4f64-98ad-15ffc9b5243e",
   "metadata": {},
   "outputs": [],
   "source": [
    "X, y = f.Xy(GA_df)"
   ]
  },
  {
   "cell_type": "code",
   "execution_count": null,
   "id": "557f79b9-e3eb-4e51-9749-ac6f9307e667",
   "metadata": {},
   "outputs": [],
   "source": [
    "X_train, X_test, y_train, y_test = f.splitter(X,y)"
   ]
  },
  {
   "cell_type": "code",
   "execution_count": null,
   "id": "83c28952-99b5-40a0-b91f-3522338938e4",
   "metadata": {},
   "outputs": [],
   "source": [
    "baseline_smote.fit(X_train, y_train)"
   ]
  },
  {
   "cell_type": "code",
   "execution_count": null,
   "id": "de78d2e3-fe93-476b-af18-cc70ce5c4ff2",
   "metadata": {},
   "outputs": [],
   "source": [
    "#scoring the model\n",
    "f1_score(baseline_smote.predict(X_train), y_train)"
   ]
  },
  {
   "cell_type": "code",
   "execution_count": null,
   "id": "9fc13c5e-ea2a-49c2-88cc-ebf686c853af",
   "metadata": {},
   "outputs": [],
   "source": [
    "# checking cross val scores\n",
    "modeling.report(baseline_smote, X_train, y_train, 'LR SMOTE ', 'Dropped Nulls, mm, gender affinity')"
   ]
  },
  {
   "cell_type": "code",
   "execution_count": null,
   "id": "de5396ef-58f4-4340-8c38-6f94ec922fec",
   "metadata": {},
   "outputs": [],
   "source": [
    "modeling.history"
   ]
  },
  {
   "cell_type": "code",
   "execution_count": null,
   "id": "c2a27f0c-d142-4d32-8346-fccd8500e2a9",
   "metadata": {},
   "outputs": [],
   "source": [
    "f.subsplit_test(X_train, y_train, baseline_smote)"
   ]
  },
  {
   "cell_type": "markdown",
   "id": "682cab9f-c67e-4801-ae52-e972f2fc1105",
   "metadata": {},
   "source": [
    "### Weapon Type"
   ]
  },
  {
   "cell_type": "code",
   "execution_count": null,
   "id": "e89428a0-0204-47d4-a26d-159d0a8c99ee",
   "metadata": {},
   "outputs": [],
   "source": [
    "# checking weapon types\n",
    "df['Weapon Type'].unique()"
   ]
  },
  {
   "cell_type": "code",
   "execution_count": null,
   "id": "6bea7692-5b56-4d4a-94dd-dbd6e5854399",
   "metadata": {},
   "outputs": [],
   "source": [
    "NONE= ['None', 'NA','None/Not Applicable']\n",
    "\n",
    "GUN = ['Firearm Other', 'Handgun', 'Other Firearm',\n",
    "        'Rifle', 'Firearm (unk type)', 'Firearm',\n",
    "        'Shotgun', 'Automatic Handgun']\n",
    "\n",
    "KNIFE = ['Lethal Cutting Instrument', 'Knife/Cutting/Stabbing Instrument']\n",
    "\n",
    "OTHER = ['Club, Blackjack, Brass Knuckles',\n",
    "         'Fire/Incendiary Device', 'Blunt Object/Striking Implement',\n",
    "         'Mace/Pepper Spray', 'Club', 'Taser/Stun Gun',\n",
    "         'Brass Knuckles','Blackjack',\n",
    "         'Personal Weapons (hands, feet, etc.)']"
   ]
  },
  {
   "cell_type": "code",
   "execution_count": null,
   "id": "81f4eb18-4607-4fc9-8406-50649e202241",
   "metadata": {},
   "outputs": [],
   "source": [
    "df['Weapon Bins'] = df['Weapon Type'].copy()"
   ]
  },
  {
   "cell_type": "code",
   "execution_count": null,
   "id": "82675060-e97e-4095-8c45-8185b71792c6",
   "metadata": {},
   "outputs": [],
   "source": [
    "df['Weapon Bins']"
   ]
  },
  {
   "cell_type": "code",
   "execution_count": null,
   "id": "460e36a0-8a81-41e5-a5f8-c255f51968a6",
   "metadata": {},
   "outputs": [],
   "source": [
    "for type in NONE:\n",
    "    df['Weapon Bins'].replace(type, 'NONE', inplace=True)\n",
    "for type in GUN:\n",
    "    df['Weapon Bins'].replace(type, 'GUN', inplace=True)\n",
    "for type in KNIFE:\n",
    "    df['Weapon Bins'].replace(type, 'KNIFE', inplace=True)\n",
    "for type in OTHER:\n",
    "    df['Weapon Bins'].replace(type, 'OTHER', inplace=True)"
   ]
  },
  {
   "cell_type": "code",
   "execution_count": null,
   "id": "5cdd3419-c5a2-4fbe-80c2-63e4b4162a28",
   "metadata": {},
   "outputs": [],
   "source": [
    "df['Weapon Bins'].value_counts(normalize=True)"
   ]
  },
  {
   "cell_type": "markdown",
   "id": "002734c3-f311-4225-9b9a-4bd770dd682f",
   "metadata": {},
   "source": [
    "## 94% of Subjects Are Unarmed and Only 1% Have a Gun."
   ]
  },
  {
   "cell_type": "code",
   "execution_count": null,
   "id": "829fb58e-a5a9-4697-b026-a0c1fe8b26f2",
   "metadata": {},
   "outputs": [],
   "source": [
    "df.head(2)"
   ]
  },
  {
   "cell_type": "code",
   "execution_count": null,
   "id": "029900a5-868b-4341-bf31-20aeb3394c4e",
   "metadata": {},
   "outputs": [],
   "source": [
    "excluded = ['Weapon Type', 'Officer ID','Final Call Type', 'Frisk Flag','Weapon Flag', \n",
    "             'Reported Year', 'Reported Month','Day of Month',\n",
    "             'Day of Week', 'Reported Hour', 'Beat Flag', 'Officer Age',\n",
    "            'Racial Affinity', 'Gender Affinity']"
   ]
  },
  {
   "cell_type": "code",
   "execution_count": null,
   "id": "1654bdf6-726f-466a-b48e-0553de78229f",
   "metadata": {},
   "outputs": [],
   "source": [
    "WB_df = f.framer(df, [], excluded)"
   ]
  },
  {
   "cell_type": "code",
   "execution_count": null,
   "id": "758afa8f-9685-435d-93cd-66f8562d14bd",
   "metadata": {},
   "outputs": [],
   "source": [
    "WB_df.head(2)"
   ]
  },
  {
   "cell_type": "code",
   "execution_count": null,
   "id": "c705d08d-5a01-49cb-84ef-d95354402d0e",
   "metadata": {},
   "outputs": [],
   "source": [
    "X, y = f.Xy(WB_df)"
   ]
  },
  {
   "cell_type": "code",
   "execution_count": null,
   "id": "dc38e4f5-1a7c-4ac8-a5f1-34ee411e3ccb",
   "metadata": {},
   "outputs": [],
   "source": [
    "X_train, X_test, y_train, y_test = f.splitter(X,y)"
   ]
  },
  {
   "cell_type": "code",
   "execution_count": null,
   "id": "bf678292-d352-42f1-92cf-23dc464598f2",
   "metadata": {},
   "outputs": [],
   "source": [
    "baseline_smote.fit(X_train, y_train)"
   ]
  },
  {
   "cell_type": "code",
   "execution_count": null,
   "id": "228efe3f-bad9-401a-94a3-d21c4a09b613",
   "metadata": {},
   "outputs": [],
   "source": [
    "#scoring the model\n",
    "f1_score(baseline_smote.predict(X_train), y_train)"
   ]
  },
  {
   "cell_type": "code",
   "execution_count": null,
   "id": "a8ae0e3f-1b24-4475-9268-9eb86be6024f",
   "metadata": {},
   "outputs": [],
   "source": [
    "# checking cross val scores\n",
    "modeling.report(baseline_smote, X_train, y_train, 'LR SMOTE ', 'Dropped Nulls, mm, Weapon Bins')"
   ]
  },
  {
   "cell_type": "code",
   "execution_count": null,
   "id": "99157a39-8b49-4cbe-9de0-4c41ee3967eb",
   "metadata": {},
   "outputs": [],
   "source": [
    "modeling.history"
   ]
  },
  {
   "cell_type": "code",
   "execution_count": null,
   "id": "17e1c210-728f-4af0-8626-1defcb2b1f80",
   "metadata": {},
   "outputs": [],
   "source": [
    "f.subsplit_test(X_train, y_train, baseline_smote)"
   ]
  },
  {
   "cell_type": "markdown",
   "id": "90aca7ae-7f90-407c-8e4f-4e2f2b4db65e",
   "metadata": {},
   "source": [
    "## Testing Weapon Flag\n",
    "The weapon flag (0 = no weapon) has been excluded from tests up to this point."
   ]
  },
  {
   "cell_type": "code",
   "execution_count": null,
   "id": "f6f84623-fa03-49e1-a437-576c71983f39",
   "metadata": {},
   "outputs": [],
   "source": [
    "excluded = ['Officer ID','Final Call Type', 'Frisk Flag','Weapon Type', \n",
    "             'Reported Year', 'Reported Month','Day of Month',\n",
    "             'Day of Week', 'Reported Hour', 'Beat Flag', 'Officer Age',\n",
    "            'Racial Affinity', 'Gender Affinity', 'Weapon Bins']"
   ]
  },
  {
   "cell_type": "code",
   "execution_count": null,
   "id": "3dbb4d41-0991-46cb-a862-fc64bf8aef55",
   "metadata": {},
   "outputs": [],
   "source": [
    "WF_df = f.framer(df, [], excluded)"
   ]
  },
  {
   "cell_type": "code",
   "execution_count": null,
   "id": "dc504295-3926-4b9a-81fd-f5548a6dfe61",
   "metadata": {},
   "outputs": [],
   "source": [
    "WF_df.head(2)"
   ]
  },
  {
   "cell_type": "code",
   "execution_count": null,
   "id": "abc57571-3e27-456d-829c-08834c982a6f",
   "metadata": {},
   "outputs": [],
   "source": [
    "X, y = f.Xy(WF_df)"
   ]
  },
  {
   "cell_type": "code",
   "execution_count": null,
   "id": "620f8b33-84eb-45ed-b777-1a31f44e9741",
   "metadata": {},
   "outputs": [],
   "source": [
    "X_train, X_test, y_train, y_test = f.splitter(X,y)"
   ]
  },
  {
   "cell_type": "code",
   "execution_count": null,
   "id": "c9eebb9c-d1be-4c3f-a006-5cb432f4ea71",
   "metadata": {},
   "outputs": [],
   "source": [
    "baseline_smote.fit(X_train, y_train)"
   ]
  },
  {
   "cell_type": "code",
   "execution_count": null,
   "id": "77f7b31b-feb6-4a83-b376-651424b7122e",
   "metadata": {},
   "outputs": [],
   "source": [
    "#scoring the model\n",
    "f1_score(baseline_smote.predict(X_train), y_train)"
   ]
  },
  {
   "cell_type": "code",
   "execution_count": null,
   "id": "cb1ef2dc-7453-404f-919b-ef06979296be",
   "metadata": {},
   "outputs": [],
   "source": [
    "# checking cross val scores\n",
    "modeling.report(baseline_smote, X_train, y_train, 'LR SMOTE ', 'Dropped Nulls, mm, weapon flag')"
   ]
  },
  {
   "cell_type": "code",
   "execution_count": null,
   "id": "e8fad4cc-08e3-4b09-9d0f-bebee3cfaf2d",
   "metadata": {},
   "outputs": [],
   "source": [
    "modeling.history"
   ]
  },
  {
   "cell_type": "code",
   "execution_count": null,
   "id": "235fef11-c381-43cb-9c62-ae17c03cbfc5",
   "metadata": {},
   "outputs": [],
   "source": [
    "f.subsplit_test(X_train, y_train, baseline_smote)"
   ]
  },
  {
   "cell_type": "markdown",
   "id": "1f20061d-79ed-4d54-8092-14053d33a793",
   "metadata": {},
   "source": [
    "## Binarizing Initial Call Type\n",
    "0 = no call information provided."
   ]
  },
  {
   "cell_type": "code",
   "execution_count": null,
   "id": "fc3c0b6b-36ac-469e-9280-c2a8110e8539",
   "metadata": {},
   "outputs": [],
   "source": [
    "df['Initial Call Bin'] = df['Initial Call Type'].copy()"
   ]
  },
  {
   "cell_type": "code",
   "execution_count": null,
   "id": "a2c5b39d-9cc2-4d1e-b604-cc8ec4d4b7cd",
   "metadata": {},
   "outputs": [],
   "source": [
    "df['Initial Call Bin'] = df['Initial Call Bin'].replace('NA', 0)\n",
    "df['Initial Call Bin'] = df['Initial Call Bin'].map(lambda x: 1 if x!=0 else 0)"
   ]
  },
  {
   "cell_type": "code",
   "execution_count": null,
   "id": "9b9f9a63-91d9-4efc-8638-eaf821b82384",
   "metadata": {},
   "outputs": [],
   "source": [
    "df['Initial Call Bin'].value_counts()"
   ]
  },
  {
   "cell_type": "code",
   "execution_count": null,
   "id": "b1f2c918-5a9c-4dee-b0bd-b301f3b23043",
   "metadata": {},
   "outputs": [],
   "source": [
    "excluded = ['Officer ID','Final Call Type', 'Frisk Flag','Weapon Flag', \n",
    "             'Reported Year', 'Reported Month','Day of Month',\n",
    "             'Day of Week', 'Reported Hour', 'Beat Flag', 'Officer Age',\n",
    "            'Racial Affinity', 'Gender Affinity', 'Weapon Bins', 'Initial Call Type']"
   ]
  },
  {
   "cell_type": "code",
   "execution_count": null,
   "id": "a5e689ee-7f16-44ce-a4c7-1c82b412af05",
   "metadata": {},
   "outputs": [],
   "source": [
    "ICB_df = f.framer(df, [], excluded)"
   ]
  },
  {
   "cell_type": "code",
   "execution_count": null,
   "id": "df2d6dde-9dc6-497d-9184-332b0703c1df",
   "metadata": {},
   "outputs": [],
   "source": [
    "ICB_df.head(2)"
   ]
  },
  {
   "cell_type": "code",
   "execution_count": null,
   "id": "4a16fbb7-d35a-488e-bc73-d3d53bcb5836",
   "metadata": {},
   "outputs": [],
   "source": [
    "X, y = f.Xy(ICB_df)"
   ]
  },
  {
   "cell_type": "code",
   "execution_count": null,
   "id": "919068e8-feb0-49c3-81f2-ba6e02967a34",
   "metadata": {},
   "outputs": [],
   "source": [
    "X_train, X_test, y_train, y_test = f.splitter(X,y)"
   ]
  },
  {
   "cell_type": "code",
   "execution_count": null,
   "id": "1889830c-8588-4d6b-a8bd-68dc495d9b79",
   "metadata": {},
   "outputs": [],
   "source": [
    "baseline_smote.fit(X_train, y_train)"
   ]
  },
  {
   "cell_type": "code",
   "execution_count": null,
   "id": "6e2751fd-4646-4815-ae7c-5000ec5dc43c",
   "metadata": {},
   "outputs": [],
   "source": [
    "#scoring the model\n",
    "f1_score(baseline_smote.predict(X_train), y_train)"
   ]
  },
  {
   "cell_type": "code",
   "execution_count": null,
   "id": "0ea7f118-2364-4d35-8863-a4840bff68bc",
   "metadata": {},
   "outputs": [],
   "source": [
    "# checking cross val scores\n",
    "modeling.report(baseline_smote, X_train, y_train, 'LR SMOTE ', 'Dropped Nulls, mm, Initial Call Binary')"
   ]
  },
  {
   "cell_type": "code",
   "execution_count": null,
   "id": "457b36f7-6137-4b69-9d90-86106ba2320f",
   "metadata": {},
   "outputs": [],
   "source": [
    "modeling.history"
   ]
  },
  {
   "cell_type": "code",
   "execution_count": null,
   "id": "3bdbb3aa-d623-4f7e-a495-c4a090580b6c",
   "metadata": {},
   "outputs": [],
   "source": [
    "f.subsplit_test(X_train, y_train, baseline_smote)"
   ]
  },
  {
   "cell_type": "markdown",
   "id": "d16e36dd-4cde-463e-84f9-102109e0f9db",
   "metadata": {},
   "source": [
    "## Binning Call Types"
   ]
  },
  {
   "cell_type": "code",
   "execution_count": null,
   "id": "c0884b90-792f-45e2-940e-007dadbf1b87",
   "metadata": {},
   "outputs": [],
   "source": [
    "types = df['Call Type'].unique()"
   ]
  },
  {
   "cell_type": "code",
   "execution_count": null,
   "id": "106f0e4a-e534-43da-b67b-f85f772c58ef",
   "metadata": {},
   "outputs": [],
   "source": [
    "replace_list = [x for x in types if (x!='911') and (x!='ONVIEW')]"
   ]
  },
  {
   "cell_type": "code",
   "execution_count": null,
   "id": "86be591f-9f47-4af4-8ac8-424d67917226",
   "metadata": {},
   "outputs": [],
   "source": [
    "df['Call Type Bins'] = df['Call Type'].copy()"
   ]
  },
  {
   "cell_type": "code",
   "execution_count": null,
   "id": "f0e0a5a1-560b-4203-9f11-b1cedc4267fa",
   "metadata": {},
   "outputs": [],
   "source": [
    "df['Call Type Bins'] = df['Call Type Bins'].replace(replace_list, 'OTHER')"
   ]
  },
  {
   "cell_type": "code",
   "execution_count": null,
   "id": "9ed63c29-f3ef-4129-855f-04af359d838f",
   "metadata": {},
   "outputs": [],
   "source": [
    "df['Call Type Bins'].value_counts(normalize=True)"
   ]
  },
  {
   "cell_type": "code",
   "execution_count": null,
   "id": "b22445d5-7342-48b3-b9b3-c442c6dda886",
   "metadata": {},
   "outputs": [],
   "source": [
    "df.info()"
   ]
  },
  {
   "cell_type": "code",
   "execution_count": null,
   "id": "c48172a6-50ce-41f8-ac5f-9bf97ab838ba",
   "metadata": {},
   "outputs": [],
   "source": [
    "excluded = ['Officer ID','Final Call Type', 'Frisk Flag','Weapon Flag', \n",
    "             'Reported Year', 'Reported Month','Day of Month',\n",
    "             'Day of Week', 'Reported Hour', 'Beat Flag', 'Officer Age',\n",
    "            'Racial Affinity', 'Gender Affinity', 'Weapon Bins', \n",
    "            'Initial Call Bin','Call Type']"
   ]
  },
  {
   "cell_type": "code",
   "execution_count": null,
   "id": "ee5f8706-f5f1-4d18-8785-a0f1dd80500f",
   "metadata": {},
   "outputs": [],
   "source": [
    "BCT_df = f.framer(df, [], excluded)"
   ]
  },
  {
   "cell_type": "code",
   "execution_count": null,
   "id": "fa2474f8-904c-4ea2-9908-66a556be1518",
   "metadata": {},
   "outputs": [],
   "source": [
    "BCT_df.head(2)"
   ]
  },
  {
   "cell_type": "code",
   "execution_count": null,
   "id": "93eb492b-c437-4d6e-8acb-7c59665f60d5",
   "metadata": {},
   "outputs": [],
   "source": [
    "X, y = f.Xy(BCT_df)"
   ]
  },
  {
   "cell_type": "code",
   "execution_count": null,
   "id": "3189a338-84a9-41a3-8dc4-50c4faabe839",
   "metadata": {},
   "outputs": [],
   "source": [
    "X_train, X_test, y_train, y_test = f.splitter(X,y)"
   ]
  },
  {
   "cell_type": "code",
   "execution_count": null,
   "id": "403f6f75-65c1-43b6-aaba-0b939a184577",
   "metadata": {},
   "outputs": [],
   "source": [
    "baseline_smote.fit(X_train, y_train)"
   ]
  },
  {
   "cell_type": "code",
   "execution_count": null,
   "id": "a3960d9a-4213-413d-aeb7-a599b93d2bcc",
   "metadata": {},
   "outputs": [],
   "source": [
    "#scoring the model\n",
    "f1_score(baseline_smote.predict(X_train), y_train)"
   ]
  },
  {
   "cell_type": "code",
   "execution_count": null,
   "id": "242567e4-9245-4b48-b326-7e6b815e3eed",
   "metadata": {},
   "outputs": [],
   "source": [
    "# checking cross val scores\n",
    "modeling.report(baseline_smote, X_train, y_train, 'LR SMOTE ', 'Dropped Nulls, mm, call type bins')"
   ]
  },
  {
   "cell_type": "code",
   "execution_count": null,
   "id": "a836a68e-4625-47b2-b8af-2dc88623d335",
   "metadata": {},
   "outputs": [],
   "source": [
    "modeling.history"
   ]
  },
  {
   "cell_type": "code",
   "execution_count": null,
   "id": "52099945-f1b2-4b08-9330-224188a3af17",
   "metadata": {},
   "outputs": [],
   "source": [
    "f.subsplit_test(X_train, y_train, baseline_smote)"
   ]
  },
  {
   "cell_type": "markdown",
   "id": "07ca32d4-b22e-4da6-8d4d-5ea22aa5f004",
   "metadata": {},
   "source": [
    "## Binning the Squad Data\n",
    "The squads look like they can be binned into precinct goups and a training group."
   ]
  },
  {
   "cell_type": "code",
   "execution_count": null,
   "id": "723f2c7b-cd95-41df-a09b-9878a89b9e8e",
   "metadata": {},
   "outputs": [],
   "source": [
    "df['Officer Squad Bins'] = df['Officer Squad'].copy()"
   ]
  },
  {
   "cell_type": "code",
   "execution_count": null,
   "id": "ba022505-8b52-49ab-8cc8-a62640eea254",
   "metadata": {},
   "outputs": [],
   "source": [
    "df['Officer Squad Bins'] = df['Officer Squad Bins'].map(lambda x: x[0])"
   ]
  },
  {
   "cell_type": "code",
   "execution_count": null,
   "id": "8521236f-115f-4215-8146-af5f649ead66",
   "metadata": {},
   "outputs": [],
   "source": [
    "df['Officer Squad Bins'].value_counts(normalize=True)"
   ]
  },
  {
   "cell_type": "code",
   "execution_count": null,
   "id": "492449a5-fb32-4f26-979f-69b967a28076",
   "metadata": {
    "tags": []
   },
   "outputs": [],
   "source": [
    "proportions = df['Officer Squad Bins'].value_counts(normalize=True)\n",
    "cutoff_idx = proportions.loc[proportions < .02].index\n",
    "for i in cutoff_idx:\n",
    "    df['Officer Squad Bins'].replace(i, 'OTHER', inplace=True)"
   ]
  },
  {
   "cell_type": "code",
   "execution_count": null,
   "id": "2e1107db-0e21-464f-b132-0b33ce520c66",
   "metadata": {},
   "outputs": [],
   "source": [
    "df['Officer Squad Bins'].value_counts()"
   ]
  },
  {
   "cell_type": "code",
   "execution_count": null,
   "id": "aedb04f6-07e9-45df-baae-015c4542ba85",
   "metadata": {},
   "outputs": [],
   "source": [
    "excluded = ['Officer ID','Final Call Type', 'Frisk Flag','Weapon Flag', \n",
    "             'Reported Year', 'Reported Month','Day of Month',\n",
    "             'Day of Week', 'Reported Hour', 'Beat Flag', 'Officer Age',\n",
    "            'Racial Affinity', 'Gender Affinity', 'Weapon Bins', \n",
    "            'Initial Call Bin','Call Type Bins', 'Officer Squad']"
   ]
  },
  {
   "cell_type": "code",
   "execution_count": null,
   "id": "2d689efc-ba33-4b7e-bce6-f9c6d125c4aa",
   "metadata": {},
   "outputs": [],
   "source": [
    "BSQ_df = f.framer(df, [], excluded)"
   ]
  },
  {
   "cell_type": "code",
   "execution_count": null,
   "id": "23b738a4-ceb8-4af2-9fbb-6ea6680975ca",
   "metadata": {},
   "outputs": [],
   "source": [
    "BSQ_df.head(2)"
   ]
  },
  {
   "cell_type": "code",
   "execution_count": null,
   "id": "34808816-a3dc-486f-8556-b79e394fb2e7",
   "metadata": {},
   "outputs": [],
   "source": [
    "X, y = f.Xy(BSQ_df)"
   ]
  },
  {
   "cell_type": "code",
   "execution_count": null,
   "id": "4112b517-64a0-4c34-a357-cd57c2a67627",
   "metadata": {},
   "outputs": [],
   "source": [
    "X_train, X_test, y_train, y_test = f.splitter(X,y)"
   ]
  },
  {
   "cell_type": "code",
   "execution_count": null,
   "id": "a3f5cc94-3d33-44ab-a8cc-c9609e2e55dc",
   "metadata": {},
   "outputs": [],
   "source": [
    "baseline_smote.fit(X_train, y_train)"
   ]
  },
  {
   "cell_type": "code",
   "execution_count": null,
   "id": "16594789-f494-467c-a6ec-702ee984f9da",
   "metadata": {},
   "outputs": [],
   "source": [
    "#scoring the model\n",
    "f1_score(baseline_smote.predict(X_train), y_train)"
   ]
  },
  {
   "cell_type": "code",
   "execution_count": null,
   "id": "d67e7a33-697f-4137-a498-21042f4c2a55",
   "metadata": {},
   "outputs": [],
   "source": [
    "# checking cross val scores\n",
    "modeling.report(baseline_smote, X_train, y_train, 'LR SMOTE', 'Dropped Nulls, mm, Squad Bins')"
   ]
  },
  {
   "cell_type": "code",
   "execution_count": null,
   "id": "c4b45a2f-dddb-4f7d-9c32-598d0e0de5e4",
   "metadata": {},
   "outputs": [],
   "source": [
    "modeling.history"
   ]
  },
  {
   "cell_type": "code",
   "execution_count": null,
   "id": "34ab5b3e-dbff-4943-89f5-e7a293055bc6",
   "metadata": {},
   "outputs": [],
   "source": [
    "f.subsplit_test(X_train, y_train, baseline_smote)"
   ]
  },
  {
   "cell_type": "markdown",
   "id": "96502869-3165-4601-b85d-e0638f851da4",
   "metadata": {},
   "source": [
    "## Binning Officer Race"
   ]
  },
  {
   "cell_type": "code",
   "execution_count": null,
   "id": "90d8fb74-f707-4385-862e-93ebafac654f",
   "metadata": {},
   "outputs": [],
   "source": [
    "df['Officer Race Bins'] = df['Officer Race'].copy()"
   ]
  },
  {
   "cell_type": "code",
   "execution_count": null,
   "id": "8d901c28-1571-47cb-8653-537fcae8d766",
   "metadata": {},
   "outputs": [],
   "source": [
    "df['Officer Race Bins'].replace('White', 1, inplace=True)"
   ]
  },
  {
   "cell_type": "code",
   "execution_count": null,
   "id": "eb8f6497-0858-4889-80f0-48f6449552c2",
   "metadata": {},
   "outputs": [],
   "source": [
    "df['Officer Race Bins'] = df['Officer Race Bins'].apply(lambda x: 0 if x!=1 else 1)"
   ]
  },
  {
   "cell_type": "code",
   "execution_count": null,
   "id": "dc32fb0d-826e-46d8-b737-e4c0a9303fd5",
   "metadata": {},
   "outputs": [],
   "source": [
    "df['Officer Race Bins'].value_counts()"
   ]
  },
  {
   "cell_type": "code",
   "execution_count": null,
   "id": "7bf5ba43-5ce0-4a3f-be2f-0d702fe45b5a",
   "metadata": {},
   "outputs": [],
   "source": [
    "excluded = ['Officer ID','Final Call Type', 'Frisk Flag','Weapon Flag', \n",
    "             'Reported Year', 'Reported Month','Day of Month',\n",
    "             'Day of Week', 'Reported Hour', 'Beat Flag', 'Officer Age',\n",
    "            'Racial Affinity', 'Gender Affinity', 'Weapon Bins', \n",
    "            'Initial Call Bin','Call Type Bins', 'Officer Squad Bins',\n",
    "            'Officer Race']"
   ]
  },
  {
   "cell_type": "code",
   "execution_count": null,
   "id": "b043feba-b9ac-48c1-980d-4957cac57ce0",
   "metadata": {},
   "outputs": [],
   "source": [
    "ORB_df = f.framer(df, [], excluded)"
   ]
  },
  {
   "cell_type": "code",
   "execution_count": null,
   "id": "6980d7e9-68fa-4d52-af6a-da8265207d64",
   "metadata": {},
   "outputs": [],
   "source": [
    "ORB_df.head(2)"
   ]
  },
  {
   "cell_type": "code",
   "execution_count": null,
   "id": "905ab93c-05d7-4265-8982-554f0f8d7dfa",
   "metadata": {},
   "outputs": [],
   "source": [
    "X, y = f.Xy(ORB_df)"
   ]
  },
  {
   "cell_type": "code",
   "execution_count": null,
   "id": "aa54ef78-f383-4c9a-829b-f2c6f5eb4333",
   "metadata": {},
   "outputs": [],
   "source": [
    "X_train, X_test, y_train, y_test = f.splitter(X,y)"
   ]
  },
  {
   "cell_type": "code",
   "execution_count": null,
   "id": "f3c8876f-2fc4-45cc-b935-f26e82351d38",
   "metadata": {},
   "outputs": [],
   "source": [
    "baseline_smote.fit(X_train, y_train)"
   ]
  },
  {
   "cell_type": "code",
   "execution_count": null,
   "id": "4e368cea-2df8-4b9d-95cd-0d6aff180f93",
   "metadata": {},
   "outputs": [],
   "source": [
    "#scoring the model\n",
    "f1_score(baseline_smote.predict(X_train), y_train)"
   ]
  },
  {
   "cell_type": "code",
   "execution_count": null,
   "id": "6c3ee74c-61d7-42bc-a0ba-0472933d3649",
   "metadata": {},
   "outputs": [],
   "source": [
    "# checking cross val scores\n",
    "modeling.report(baseline_smote, X_train, y_train, 'LR SMOTE', 'Dropped Nulls, mm, Officer Race Bins')"
   ]
  },
  {
   "cell_type": "code",
   "execution_count": null,
   "id": "d5a97897-b722-44db-a279-ad0eadb87483",
   "metadata": {},
   "outputs": [],
   "source": [
    "modeling.history"
   ]
  },
  {
   "cell_type": "code",
   "execution_count": null,
   "id": "60c6ff4b-c9f4-4754-80c0-9e347f8e1598",
   "metadata": {},
   "outputs": [],
   "source": [
    "f.subsplit_test(X_train, y_train, baseline_smote)"
   ]
  },
  {
   "cell_type": "markdown",
   "id": "6b60922f-ada9-466f-a898-2833b09f3106",
   "metadata": {},
   "source": [
    "## Testing on Top Features w/o Time"
   ]
  },
  {
   "cell_type": "code",
   "execution_count": null,
   "id": "2ec49359-581d-4cda-95c3-dd1a2b68df30",
   "metadata": {},
   "outputs": [],
   "source": [
    "# features engineered during eda\n",
    "feature_list = ['Weapon Flag', 'Reported Year', 'Reported Month',\n",
    "                'Day of Month', 'Day of Week', 'Reported Hour']"
   ]
  },
  {
   "cell_type": "code",
   "execution_count": null,
   "id": "e1c55fd4-a3b2-4a1e-9813-d4449794517f",
   "metadata": {},
   "outputs": [],
   "source": [
    "excluded = ['Officer ID','Final Call Type', 'Frisk Flag','Weapon Flag', \n",
    "             'Reported Year', 'Reported Month','Day of Month',\n",
    "             'Day of Week', 'Reported Hour', 'Beat Flag',\n",
    "            'Racial Affinity', 'Weapon Bins', 'Officer Race',\n",
    "            'Initial Call Bin','Call Type Bins', 'Officer Squad Bins']"
   ]
  },
  {
   "cell_type": "code",
   "execution_count": null,
   "id": "c265cf52-4aaa-43fb-b382-1908d440095b",
   "metadata": {},
   "outputs": [],
   "source": [
    "df_6 = f.framer(df, [], excluded)"
   ]
  },
  {
   "cell_type": "code",
   "execution_count": null,
   "id": "524cf932-b3b8-4303-b278-7255f172f747",
   "metadata": {},
   "outputs": [],
   "source": [
    "df_6.head(2)"
   ]
  },
  {
   "cell_type": "code",
   "execution_count": null,
   "id": "3a3200f9-b85e-4b1a-93e3-9262234e1183",
   "metadata": {},
   "outputs": [],
   "source": [
    "df_6.info()"
   ]
  },
  {
   "cell_type": "code",
   "execution_count": null,
   "id": "131c9d7b-fd6c-44e5-9d8a-b4725fc92090",
   "metadata": {},
   "outputs": [],
   "source": [
    "X, y = f.Xy(df_6)"
   ]
  },
  {
   "cell_type": "code",
   "execution_count": null,
   "id": "41bb7aba-a4cd-4931-9332-3cfa14e06193",
   "metadata": {},
   "outputs": [],
   "source": [
    "X_train, X_test, y_train, y_test = f.splitter(X,y)"
   ]
  },
  {
   "cell_type": "code",
   "execution_count": null,
   "id": "61dbabc0-680e-41ab-a670-edcb699d0ed8",
   "metadata": {},
   "outputs": [],
   "source": [
    "baseline_smote.fit(X_train, y_train)"
   ]
  },
  {
   "cell_type": "code",
   "execution_count": null,
   "id": "0abedfc1-c4e9-4b67-8695-4e8154dbb282",
   "metadata": {},
   "outputs": [],
   "source": [
    "#scoring the model\n",
    "f1_score(baseline_smote.predict(X_train), y_train)"
   ]
  },
  {
   "cell_type": "code",
   "execution_count": null,
   "id": "f5c88d99-4088-4ec6-9049-5932927a79e8",
   "metadata": {},
   "outputs": [],
   "source": [
    "# checking cross val scores\n",
    "modeling.report(baseline_smote, X_train, y_train,\\\n",
    "                'LR SMOTE', 'Top Features w/o Time Dropped Nulls')"
   ]
  },
  {
   "cell_type": "code",
   "execution_count": null,
   "id": "9ce56501-5928-4abf-ae67-3b936547bcad",
   "metadata": {},
   "outputs": [],
   "source": [
    "modeling.history"
   ]
  },
  {
   "cell_type": "markdown",
   "id": "e761c354-3745-4f41-bd87-7d41eb9c69cc",
   "metadata": {},
   "source": [
    "## Testing on Sub-Splits"
   ]
  },
  {
   "cell_type": "code",
   "execution_count": null,
   "id": "57b08906-387f-41ca-b8e7-37431e87e035",
   "metadata": {},
   "outputs": [],
   "source": [
    "f.subsplit_test(X_train, y_train, baseline_smote)"
   ]
  },
  {
   "cell_type": "markdown",
   "id": "dd4d71f8-2525-4ee3-b96a-2bbcb261e867",
   "metadata": {},
   "source": [
    "## Testing on All Features w/o Time"
   ]
  },
  {
   "cell_type": "code",
   "execution_count": null,
   "id": "a37e3361-663b-468f-adc8-5998f7e75030",
   "metadata": {},
   "outputs": [],
   "source": [
    "# Dropping Subject Age Nulls\n",
    "df = df[(df['Subject Perceived Race']!='NA') &\\\n",
    "            (df['Officer Race']!='NA') &\\\n",
    "           (df['Subject Age Group']!='NA')]"
   ]
  },
  {
   "cell_type": "code",
   "execution_count": null,
   "id": "2e33ec1f-9f1b-4824-95ae-3819121e9df6",
   "metadata": {},
   "outputs": [],
   "source": [
    "# features engineered during eda\n",
    "feature_list = ['Weapon Flag', 'Reported Year', 'Reported Month',\n",
    "                'Day of Month', 'Day of Week', 'Reported Hour']"
   ]
  },
  {
   "cell_type": "code",
   "execution_count": null,
   "id": "68a890b9-d880-4d0c-af4c-094844a15ed5",
   "metadata": {},
   "outputs": [],
   "source": [
    "excluded = ['Officer ID','Final Call Type', 'Frisk Flag','Weapon Flag',\n",
    "           'Reported Year', 'Reported Month', 'Day of Month', 'Day of Week', 'Reported Hour']"
   ]
  },
  {
   "cell_type": "code",
   "execution_count": null,
   "id": "cad02e4f-a382-40c1-8afe-ba62a0e958c4",
   "metadata": {},
   "outputs": [],
   "source": [
    "# excluded = ['Officer ID','Final Call Type', 'Frisk Flag','Weapon Flag', \n",
    "#              'Reported Year', 'Reported Month','Day of Month',\n",
    "#              'Day of Week', 'Reported Hour', 'Beat Flag',\n",
    "#             'Racial Affinity', 'Weapon Bins', \n",
    "#             'Initial Call Bin','Call Type Bins', 'Officer Squad Bins']"
   ]
  },
  {
   "cell_type": "code",
   "execution_count": null,
   "id": "b5e38c4a-42ba-4b17-a1f7-86f20542396e",
   "metadata": {},
   "outputs": [],
   "source": [
    "df_7 = f.framer(df, [], excluded)"
   ]
  },
  {
   "cell_type": "code",
   "execution_count": null,
   "id": "9e0ea88c-7c2b-4d9c-a15f-f1069690aae1",
   "metadata": {},
   "outputs": [],
   "source": [
    "df_7.head(2)"
   ]
  },
  {
   "cell_type": "code",
   "execution_count": null,
   "id": "78645763-ef39-46ee-a4d8-cb455085b04b",
   "metadata": {},
   "outputs": [],
   "source": [
    "df_7.info()"
   ]
  },
  {
   "cell_type": "code",
   "execution_count": null,
   "id": "c20c6e91-9306-499d-96a3-6b40d031caa7",
   "metadata": {},
   "outputs": [],
   "source": [
    "X, y = f.Xy(df_7)"
   ]
  },
  {
   "cell_type": "code",
   "execution_count": null,
   "id": "e21398d4-7b0e-41f5-86c8-1fe53e507182",
   "metadata": {},
   "outputs": [],
   "source": [
    "X_train, X_test, y_train, y_test = f.splitter(X,y)"
   ]
  },
  {
   "cell_type": "code",
   "execution_count": null,
   "id": "9996ad1c-f869-4dbc-8a2e-7ceb26d5a8cb",
   "metadata": {},
   "outputs": [],
   "source": [
    "baseline_smote.fit(X_train, y_train)"
   ]
  },
  {
   "cell_type": "code",
   "execution_count": null,
   "id": "d37bd071-d147-468b-b692-a764623b65ab",
   "metadata": {},
   "outputs": [],
   "source": [
    "#scoring the model\n",
    "f1_score(baseline_smote.predict(X_train), y_train)"
   ]
  },
  {
   "cell_type": "code",
   "execution_count": null,
   "id": "f93cec08-0a2c-4252-8141-0e766d38636e",
   "metadata": {},
   "outputs": [],
   "source": [
    "# checking cross val scores\n",
    "modeling.report(baseline_smote, X_train, y_train,'LR SMOTE', 'All Features w/o Time Dropped Nulls')"
   ]
  },
  {
   "cell_type": "code",
   "execution_count": null,
   "id": "649ae4c9-f7d7-4f8a-a4e9-911de8298345",
   "metadata": {},
   "outputs": [],
   "source": [
    "modeling.history"
   ]
  },
  {
   "cell_type": "markdown",
   "id": "b3010db8-0fb7-48ba-8540-c502515fb784",
   "metadata": {},
   "source": [
    "## Testing on Sub-Splits"
   ]
  },
  {
   "cell_type": "code",
   "execution_count": null,
   "id": "559214ee-3b83-4765-8d58-1da3b4309fee",
   "metadata": {},
   "outputs": [],
   "source": [
    "f.subsplit_test(X_train, y_train, baseline_smote)"
   ]
  },
  {
   "cell_type": "markdown",
   "id": "3039a688-e3ed-432d-99b0-721e63c768d8",
   "metadata": {},
   "source": [
    "## Testing on Top Features w/o Time Dropped Subject Age"
   ]
  },
  {
   "cell_type": "code",
   "execution_count": null,
   "id": "ac899837-cd5f-48eb-8736-aaf59edefc41",
   "metadata": {},
   "outputs": [],
   "source": [
    "# Dropping Subject Age Nulls\n",
    "df = df[(df['Subject Perceived Race']!='NA') &\\\n",
    "            (df['Officer Race']!='NA') &\\\n",
    "           (df['Subject Age Group']!='NA')]"
   ]
  },
  {
   "cell_type": "code",
   "execution_count": null,
   "id": "12db7c60-5379-41fd-867e-ca104c12fd19",
   "metadata": {},
   "outputs": [],
   "source": [
    "# features engineered during eda\n",
    "feature_list = ['Weapon Flag', 'Reported Year', 'Reported Month',\n",
    "                'Day of Month', 'Day of Week', 'Reported Hour']"
   ]
  },
  {
   "cell_type": "code",
   "execution_count": null,
   "id": "cc96611d-b7ec-40c1-b8c8-17ed544f5dbf",
   "metadata": {},
   "outputs": [],
   "source": [
    "excluded = ['Officer ID','Final Call Type', 'Frisk Flag','Weapon Flag', \n",
    "             'Reported Year', 'Reported Month','Day of Month',\n",
    "             'Day of Week', 'Reported Hour', 'Beat Flag',\n",
    "            'Racial Affinity', 'Weapon Bins', 'Officer Race',\n",
    "            'Initial Call Bin','Call Type Bins', 'Officer Squad Bins']"
   ]
  },
  {
   "cell_type": "code",
   "execution_count": null,
   "id": "d22e404d-6f61-4785-ac74-0a5901408e1b",
   "metadata": {},
   "outputs": [],
   "source": [
    "df_8 = f.framer(df, [], excluded)"
   ]
  },
  {
   "cell_type": "code",
   "execution_count": null,
   "id": "c5fbb138-7382-4d8b-9329-b4da23477567",
   "metadata": {},
   "outputs": [],
   "source": [
    "df_8.head(2)"
   ]
  },
  {
   "cell_type": "code",
   "execution_count": null,
   "id": "42576742-4c25-4c1b-bb21-d9dfa1aa2ded",
   "metadata": {},
   "outputs": [],
   "source": [
    "df_8.info()"
   ]
  },
  {
   "cell_type": "code",
   "execution_count": null,
   "id": "f390a392-3ebb-4be1-aec0-153752be915e",
   "metadata": {},
   "outputs": [],
   "source": [
    "X, y = f.Xy(df_8)"
   ]
  },
  {
   "cell_type": "code",
   "execution_count": null,
   "id": "55a78999-e9a3-4734-8e08-1d419e27ed95",
   "metadata": {},
   "outputs": [],
   "source": [
    "X_train, X_test, y_train, y_test = f.splitter(X,y)"
   ]
  },
  {
   "cell_type": "code",
   "execution_count": null,
   "id": "a56d626d-f33e-4b77-9392-d689be25271f",
   "metadata": {},
   "outputs": [],
   "source": [
    "baseline_smote.fit(X_train, y_train)"
   ]
  },
  {
   "cell_type": "code",
   "execution_count": null,
   "id": "2665ab99-e78a-4c42-b05c-902fda5637cd",
   "metadata": {},
   "outputs": [],
   "source": [
    "#scoring the model\n",
    "f1_score(baseline_smote.predict(X_train), y_train)"
   ]
  },
  {
   "cell_type": "code",
   "execution_count": null,
   "id": "9955279f-bc42-4268-bbdc-c5ff669bd604",
   "metadata": {},
   "outputs": [],
   "source": [
    "# checking cross val scores\n",
    "modeling.report(baseline_smote, X_train, y_train,\\\n",
    "                'LR SMOTE', 'Top Features w/o Time Dpd Nulls S,O Race, S Age')"
   ]
  },
  {
   "cell_type": "code",
   "execution_count": null,
   "id": "23dbabd8-f0b5-42f2-8cc4-17d718fe3f05",
   "metadata": {},
   "outputs": [],
   "source": [
    "modeling.history"
   ]
  },
  {
   "cell_type": "markdown",
   "id": "a2c7853f-403e-41c8-bd3a-56ed7dba6f22",
   "metadata": {},
   "source": [
    "## Testing on Sub-Splits"
   ]
  },
  {
   "cell_type": "code",
   "execution_count": null,
   "id": "c4c1c059-9ad3-4572-a6db-d57e8b14fd3c",
   "metadata": {},
   "outputs": [],
   "source": [
    "f.subsplit_test(X_train, y_train, baseline_smote)"
   ]
  },
  {
   "cell_type": "markdown",
   "id": "a812df71-ff75-4443-b558-c62ef6b3d636",
   "metadata": {},
   "source": [
    "## Testing on All Features w/o Time Dropped Subject Age"
   ]
  },
  {
   "cell_type": "code",
   "execution_count": null,
   "id": "bc06b89b-6ced-417e-bd77-eb533b3564b4",
   "metadata": {},
   "outputs": [],
   "source": [
    "# Dropping Subject Age Nulls\n",
    "df = df[(df['Subject Perceived Race']!='NA') &\\\n",
    "            (df['Officer Race']!='NA') &\\\n",
    "           (df['Subject Age Group']!='NA')]"
   ]
  },
  {
   "cell_type": "code",
   "execution_count": null,
   "id": "b4cad2d3-704f-4761-ad67-1f83f86424c4",
   "metadata": {},
   "outputs": [],
   "source": [
    "# features engineered during eda\n",
    "feature_list = ['Weapon Flag', 'Reported Year', 'Reported Month',\n",
    "                'Day of Month', 'Day of Week', 'Reported Hour']"
   ]
  },
  {
   "cell_type": "code",
   "execution_count": null,
   "id": "e6e50216-55c2-45cc-ab77-27b8c0ef5eb0",
   "metadata": {},
   "outputs": [],
   "source": [
    "excluded = ['Officer ID','Final Call Type', 'Frisk Flag','Weapon Flag',\n",
    "           'Reported Year', 'Reported Month', 'Day of Month', 'Day of Week', 'Reported Hour']"
   ]
  },
  {
   "cell_type": "code",
   "execution_count": null,
   "id": "56b655a1-4536-4a31-8ea2-7d4dc1fce55b",
   "metadata": {},
   "outputs": [],
   "source": [
    "# excluded = ['Officer ID','Final Call Type', 'Frisk Flag','Weapon Flag', \n",
    "#              'Reported Year', 'Reported Month','Day of Month',\n",
    "#              'Day of Week', 'Reported Hour', 'Beat Flag',\n",
    "#             'Racial Affinity', 'Weapon Bins', \n",
    "#             'Initial Call Bin','Call Type Bins', 'Officer Squad Bins']"
   ]
  },
  {
   "cell_type": "code",
   "execution_count": null,
   "id": "5efd5e72-ec33-4e57-8129-01e0042508b1",
   "metadata": {},
   "outputs": [],
   "source": [
    "df_9 = f.framer(df, [], excluded)"
   ]
  },
  {
   "cell_type": "code",
   "execution_count": null,
   "id": "1e9663fd-b5ab-45b4-a0e2-a648a33351c7",
   "metadata": {},
   "outputs": [],
   "source": [
    "df_9.head(2)"
   ]
  },
  {
   "cell_type": "code",
   "execution_count": null,
   "id": "0428d7c4-dac1-41fc-b36e-d99bca1a6495",
   "metadata": {},
   "outputs": [],
   "source": [
    "df_9.info()"
   ]
  },
  {
   "cell_type": "code",
   "execution_count": null,
   "id": "f7f088a8-2396-42fc-9bd8-72fb1934f200",
   "metadata": {},
   "outputs": [],
   "source": [
    "X, y = f.Xy(df_9)"
   ]
  },
  {
   "cell_type": "code",
   "execution_count": null,
   "id": "957e0d85-c232-4b50-b63c-639f9b5e9e67",
   "metadata": {},
   "outputs": [],
   "source": [
    "X_train, X_test, y_train, y_test = f.splitter(X,y)"
   ]
  },
  {
   "cell_type": "code",
   "execution_count": null,
   "id": "37e348ac-243a-445f-bd3d-cfad0243b19c",
   "metadata": {},
   "outputs": [],
   "source": [
    "baseline_smote.fit(X_train, y_train)"
   ]
  },
  {
   "cell_type": "code",
   "execution_count": null,
   "id": "e09988a4-55b1-4f89-a37f-5e3c5423e873",
   "metadata": {},
   "outputs": [],
   "source": [
    "#scoring the model\n",
    "f1_score(baseline_smote.predict(X_train), y_train)"
   ]
  },
  {
   "cell_type": "code",
   "execution_count": null,
   "id": "d11d9e93-55f0-4378-a9d2-30e96404318a",
   "metadata": {},
   "outputs": [],
   "source": [
    "# checking cross val scores\n",
    "modeling.report(baseline_smote, X_train, y_train,\\\n",
    "                'LR SMOTE', 'All Features w/o Time  Dpd Nulls S,O Race, S Age')"
   ]
  },
  {
   "cell_type": "code",
   "execution_count": null,
   "id": "27b42939-358c-4edc-a414-aa1fb1641a78",
   "metadata": {},
   "outputs": [],
   "source": [
    "modeling.history"
   ]
  },
  {
   "cell_type": "markdown",
   "id": "546d8a2e-f5b7-4e73-baae-93838a1d3a9a",
   "metadata": {},
   "source": [
    "## Testing on Sub-Splits"
   ]
  },
  {
   "cell_type": "code",
   "execution_count": null,
   "id": "30682c53-4f13-4008-8627-2a68a800715e",
   "metadata": {},
   "outputs": [],
   "source": [
    "f.subsplit_test(X_train, y_train, baseline_smote)"
   ]
  },
  {
   "cell_type": "markdown",
   "id": "1e67d07c-cf9e-4c47-9a6f-aeecab68de0a",
   "metadata": {},
   "source": [
    "## Grid Searching Parameters"
   ]
  },
  {
   "cell_type": "code",
   "execution_count": null,
   "id": "aa0cd39d-881f-49e7-8250-bd4997b7d69f",
   "metadata": {},
   "outputs": [],
   "source": [
    "# C = np.logspace(-3, 7, 7)\n",
    "# penalty = ['l1', 'l2']\n",
    "# solver = ['liblinear', 'saga', 'lbfgs']\n",
    "\n",
    "# grid_values = {'logisticregression__C':C, \n",
    "#                'logisticregression__penalty':penalty,\n",
    "#                'logisticregression__solver':solver }\n",
    "\n",
    "# grid_clf_f1 = GridSearchCV(baseline_smote, param_grid = grid_values,\n",
    "#                            n_jobs=-1, scoring = 'f1', cv=3, verbose=4)\n",
    "# grid_clf_f1.fit(X_train, y_train)"
   ]
  },
  {
   "cell_type": "code",
   "execution_count": null,
   "id": "2f4744d9-9ca9-4d2b-945d-bfe5223216d2",
   "metadata": {},
   "outputs": [],
   "source": [
    "# print('Best C:', grid_clf_f1.best_estimator_.get_params()['logisticregression__C'])\n",
    "# print('Best penalty:', grid_clf_f1.best_estimator_.get_params()['logisticregression__penalty'])\n",
    "# print('Best solver:', grid_clf_f1.best_estimator_.get_params()['logisticregression__solver'])"
   ]
  },
  {
   "cell_type": "code",
   "execution_count": null,
   "id": "50b6ef28-c0a4-4d13-a01f-03cbea84bf1a",
   "metadata": {},
   "outputs": [],
   "source": [
    "LR_tuned = LogisticRegression(C=2.154434690031884,\n",
    "                            solver='lbfgs', penalty='l2',\n",
    "                            max_iter=1000, random_state=2021)\n",
    "\n",
    "pipeline  = make_sm_pipeline(preprocessing_mm, sm, LR_tuned)\n",
    "pipeline.fit(X_train, y_train)\n",
    "f1_score(pipeline.predict(X_train), y_train)\n",
    "modeling.report(pipeline, X_train, y_train, 'LR_tuned', 'C=2.154434690031884, solver=lbfgs, penalty=l2')"
   ]
  },
  {
   "cell_type": "code",
   "execution_count": null,
   "id": "829d5cff-9038-4983-8a4e-50520c33abb3",
   "metadata": {},
   "outputs": [],
   "source": [
    "modeling.history"
   ]
  },
  {
   "cell_type": "markdown",
   "id": "71f5de19-b91e-4efb-8a3f-58112c8f43aa",
   "metadata": {},
   "source": [
    "## Testing Tuned Model on Sub-Splits"
   ]
  },
  {
   "cell_type": "code",
   "execution_count": null,
   "id": "5b692948-5f0c-44e8-94ac-87738cc36cd6",
   "metadata": {},
   "outputs": [],
   "source": [
    "f.subsplit_test(X_train, y_train, pipeline)"
   ]
  },
  {
   "cell_type": "markdown",
   "id": "16a4cb62-fb8f-4803-b58c-d86e099e6bc7",
   "metadata": {},
   "source": [
    "## Random Forest No Smote"
   ]
  },
  {
   "cell_type": "code",
   "execution_count": null,
   "id": "abc502f0-1740-4487-9a37-803bb6d8295d",
   "metadata": {},
   "outputs": [],
   "source": [
    "RF = RandomForestClassifier(random_state=2021)"
   ]
  },
  {
   "cell_type": "code",
   "execution_count": null,
   "id": "9e6e1690-0b38-4ac2-bda3-b0df6fcad256",
   "metadata": {},
   "outputs": [],
   "source": [
    "rf_pipeline = make_pipeline(preprocessing_mm, RF)"
   ]
  },
  {
   "cell_type": "code",
   "execution_count": null,
   "id": "faddb395-619b-4999-8d14-59c53f85d6f9",
   "metadata": {},
   "outputs": [],
   "source": [
    "modeling.report(rf_pipeline, X_train, y_train, 'RandomForest', 'Forest No SMOTE')"
   ]
  },
  {
   "cell_type": "code",
   "execution_count": null,
   "id": "1d5b95f1-acae-4af1-b66b-2edb724014b6",
   "metadata": {},
   "outputs": [],
   "source": [
    "f.subsplit_test(X_train, y_train, rf_pipeline)"
   ]
  },
  {
   "cell_type": "markdown",
   "id": "fd74c785-9f29-4543-a959-e9fa4ba3806a",
   "metadata": {},
   "source": [
    "## Random Forest w/ SMOTE"
   ]
  },
  {
   "cell_type": "code",
   "execution_count": null,
   "id": "b5bf41a7-2ba4-4b3f-9a59-600d3b878fed",
   "metadata": {},
   "outputs": [],
   "source": [
    "rf_sm_pipeline = make_sm_pipeline(preprocessing_mm, sm, RF)"
   ]
  },
  {
   "cell_type": "code",
   "execution_count": null,
   "id": "3eb1e695-4e76-4b78-a86d-b2082bae7410",
   "metadata": {},
   "outputs": [],
   "source": [
    "modeling.report(rf_sm_pipeline, X_train, y_train, 'RandomForest', 'Forest SMOTE')"
   ]
  },
  {
   "cell_type": "code",
   "execution_count": null,
   "id": "bb58f69c-c856-4dfb-b228-4aa0b960e8cb",
   "metadata": {},
   "outputs": [],
   "source": [
    "f.subsplit_test(X_train, y_train, rf_sm_pipeline)"
   ]
  },
  {
   "cell_type": "markdown",
   "id": "cdcb2ff9-4eb5-4d40-b80a-eaeaee8262f6",
   "metadata": {},
   "source": [
    "## Tuning RF no SMOTE"
   ]
  },
  {
   "cell_type": "code",
   "execution_count": null,
   "id": "8b3ae41d-c92b-4fa0-885b-e95763f06453",
   "metadata": {},
   "outputs": [],
   "source": [
    "# max_depth = [2, 3, 5, None]\n",
    "# min_samples_split = [2, 5, 10]\n",
    "# class_weight = ['balanced', 'balanced_subsample']\n",
    "# max_features = [None, 'auto', 'log2' ]\n",
    "\n",
    "# grid_values = {'randomforestclassifier__max_features': max_features,\n",
    "#                'randomforestclassifier__max_depth':max_depth,\n",
    "#                'randomforestclassifier__min_samples_split':min_samples_split,\n",
    "#               'randomforestclassifier__class_weight':class_weight}\n",
    "\n",
    "# grid_rf_f1 = GridSearchCV(rf_pipeline, param_grid = grid_values, scoring = 'f1',\n",
    "#                           n_jobs=-1, verbose=2, cv=3)\n",
    "# grid_rf_f1.fit(X_train, y_train)"
   ]
  },
  {
   "cell_type": "code",
   "execution_count": null,
   "id": "6642cb2e-e861-4be5-9d7a-dd1b9e1e253e",
   "metadata": {},
   "outputs": [],
   "source": [
    "# print('Best max_features:', grid_rf_f1.best_estimator_.get_params()['randomforestclassifier__max_features'])\n",
    "# print('Best max_depth:', grid_rf_f1.best_estimator_.get_params()['randomforestclassifier__max_depth'])\n",
    "# print('Best min_samples_split:', grid_rf_f1.best_estimator_.get_params()['randomforestclassifier__min_samples_split'])\n",
    "# print('Best class weight:', grid_rf_f1.best_estimator_.get_params()['randomforestclassifier__class_weight'])"
   ]
  },
  {
   "cell_type": "markdown",
   "id": "135c2a84-d17a-42c3-9d50-5df5330ea698",
   "metadata": {},
   "source": [
    "## Tuned Random Forest"
   ]
  },
  {
   "cell_type": "code",
   "execution_count": null,
   "id": "6044f554-ef26-4b8e-9927-748ae214b2c5",
   "metadata": {},
   "outputs": [],
   "source": [
    "RF2 = RandomForestClassifier(criterion='gini',\n",
    "                            max_depth=5, min_samples_split=2,\n",
    "                            class_weight='balanced_subsample',\n",
    "                            random_state=2021)"
   ]
  },
  {
   "cell_type": "code",
   "execution_count": null,
   "id": "1937077e-1c15-413b-a8ad-9247abbcd7d9",
   "metadata": {},
   "outputs": [],
   "source": [
    "rf_pipeline = make_pipeline(preprocessing_mm, RF2)"
   ]
  },
  {
   "cell_type": "code",
   "execution_count": null,
   "id": "ad7019e8-f426-4967-a68b-9a4ccd53dc0f",
   "metadata": {},
   "outputs": [],
   "source": [
    "modeling.report(rf_pipeline, X_train, y_train, 'RandomForest No SMOTE', 'criterion=gini,\\\n",
    "                            max_depth=5, min_samples_split=2,\\\n",
    "                            class_weight=balanced_subsample')"
   ]
  },
  {
   "cell_type": "code",
   "execution_count": null,
   "id": "164b4ace-cdd1-46d6-9320-f0fd62053da3",
   "metadata": {},
   "outputs": [],
   "source": [
    "modeling.history"
   ]
  },
  {
   "cell_type": "markdown",
   "id": "45f750eb-1e99-4e2c-88d3-4486687a0e54",
   "metadata": {},
   "source": [
    "## Testing on Subsplits"
   ]
  },
  {
   "cell_type": "code",
   "execution_count": null,
   "id": "89b0d431-5fdf-45b6-80ff-87f4e4ea18a7",
   "metadata": {},
   "outputs": [],
   "source": [
    "f.subsplit_test( X_train, y_train, rf_pipeline)"
   ]
  },
  {
   "cell_type": "markdown",
   "id": "de1f8c48-d207-4697-86a2-bb149671067e",
   "metadata": {},
   "source": [
    "## Tuning RF SMOTE"
   ]
  },
  {
   "cell_type": "code",
   "execution_count": null,
   "id": "76be55be-3684-4d6a-8a41-c74ee40b2cbc",
   "metadata": {},
   "outputs": [],
   "source": [
    "# rf_pipeline.get_params().keys()"
   ]
  },
  {
   "cell_type": "code",
   "execution_count": null,
   "id": "663902fd-0708-40b7-9ba4-e10183b1deb6",
   "metadata": {},
   "outputs": [],
   "source": [
    "max_depth = [2, 3, 5, None]\n",
    "min_samples_split = [2, 5, 10]\n",
    "class_weight = [None, 'balanced', 'balanced_subsample']\n",
    "max_features = [None, 'auto', 'log2' ]\n",
    "\n",
    "grid_values = {'randomforestclassifier__max_depth':max_depth,\n",
    "               'randomforestclassifier__min_samples_split':min_samples_split,\n",
    "               'randomforestclassifier__class_weight':class_weight,\n",
    "               'randomforestclassifier__max_features': max_features}\n",
    "\n",
    "grid_rf_f1 = GridSearchCV(rf_sm_pipeline, param_grid = grid_values, scoring = 'f1',\n",
    "                          n_jobs=-1, verbose=2, cv=3)\n",
    "grid_rf_f1.fit(X_train, y_train)"
   ]
  },
  {
   "cell_type": "code",
   "execution_count": null,
   "id": "aee76a90-117b-4411-8dc4-1246b38a0959",
   "metadata": {},
   "outputs": [],
   "source": [
    "print('Best max_features:', grid_rf_f1.best_estimator_.get_params()['randomforestclassifier__max_features'])\n",
    "print('Best max_depth:', grid_rf_f1.best_estimator_.get_params()['randomforestclassifier__max_depth'])\n",
    "print('Best min_samples_split:', grid_rf_f1.best_estimator_.get_params()['randomforestclassifier__min_samples_split'])\n",
    "print('Best class weight:', grid_rf_f1.best_estimator_.get_params()['randomforestclassifier__class_weight'])"
   ]
  },
  {
   "cell_type": "markdown",
   "id": "5b601040-4d0b-4987-9a41-3929209f3446",
   "metadata": {},
   "source": [
    "## Tuned Random Forest w/SMOTE"
   ]
  },
  {
   "cell_type": "code",
   "execution_count": null,
   "id": "3a9e1e84-8740-45ba-b89c-580de057d92f",
   "metadata": {},
   "outputs": [],
   "source": [
    "RF3 = RandomForestClassifier(criterion='gini',\n",
    "                            max_depth=5, min_samples_split=2,\n",
    "                            class_weight='balanced_subsample',\n",
    "                             max_features=None,\n",
    "                            random_state=2021)"
   ]
  },
  {
   "cell_type": "code",
   "execution_count": null,
   "id": "2c415d54-8e80-490d-8996-67dcc0d89a3f",
   "metadata": {},
   "outputs": [],
   "source": [
    "rf_sm_pipeline = make_pipeline(preprocessing_mm, RF3)"
   ]
  },
  {
   "cell_type": "code",
   "execution_count": null,
   "id": "8a5835b4-eb37-46af-90b2-b6b36121dc86",
   "metadata": {},
   "outputs": [],
   "source": [
    "modeling.report(rf_sm_pipeline, X_train, y_train, 'RandomForest SMOTE', 'criterion=gini,\\\n",
    "                            max_depth=5, min_samples_split=2,\\\n",
    "                            class_weight=balanced_subsample')"
   ]
  },
  {
   "cell_type": "code",
   "execution_count": null,
   "id": "56526bfc-ea33-4aab-94ab-241b00f32c15",
   "metadata": {},
   "outputs": [],
   "source": [
    "modeling.history"
   ]
  },
  {
   "cell_type": "markdown",
   "id": "fc714807-7d9f-44c7-a612-034e6967b089",
   "metadata": {},
   "source": [
    "## Testing on Subsplits"
   ]
  },
  {
   "cell_type": "code",
   "execution_count": null,
   "id": "8dd8e263-e91a-43e0-8b22-eda268944052",
   "metadata": {},
   "outputs": [],
   "source": [
    "f.subsplit_test( X_train, y_train, rf_sm_pipeline)"
   ]
  },
  {
   "cell_type": "markdown",
   "id": "f13b5c1a-2f30-4f5b-ad25-a20951f75eb8",
   "metadata": {},
   "source": [
    "## Looking for Noise in the Data"
   ]
  },
  {
   "cell_type": "code",
   "execution_count": null,
   "id": "054815e6-dc5c-4e5d-a76d-0c48eeb24d31",
   "metadata": {},
   "outputs": [],
   "source": [
    "for col in df.columns:\n",
    "    print(col, df[col].nunique())"
   ]
  },
  {
   "cell_type": "markdown",
   "id": "0376162e-557f-4c92-98f1-c3a30b4ec40a",
   "metadata": {},
   "source": [
    "## Small DF"
   ]
  },
  {
   "cell_type": "code",
   "execution_count": null,
   "id": "1f476f23-c3f5-492f-9ed3-8037ab06fc5e",
   "metadata": {},
   "outputs": [],
   "source": [
    "excluded = ['Officer ID','Final Call Type', 'Weapon Type', 'Officer Gender',\n",
    "            'Officer Race', 'Frisk Flag', 'Weapon Flag', 'Officer Squad', 'Initial Call Type',\n",
    "            'Call Type', 'Officer Squad', 'Reported Year', 'Reported Month',\n",
    "            'Day of Month', 'Day of Week', 'Reported Hour']"
   ]
  },
  {
   "cell_type": "code",
   "execution_count": null,
   "id": "3b1838fa-44e0-4c56-9999-2148a67d0145",
   "metadata": {},
   "outputs": [],
   "source": [
    "df_10 = f.framer(df, [], excluded)"
   ]
  },
  {
   "cell_type": "code",
   "execution_count": null,
   "id": "b340e43e-e053-424e-9800-0feb26bc4dc9",
   "metadata": {},
   "outputs": [],
   "source": [
    "df_10.head(2)"
   ]
  },
  {
   "cell_type": "code",
   "execution_count": null,
   "id": "c22d94b9-f7be-4d83-aeb9-879a29369a9f",
   "metadata": {},
   "outputs": [],
   "source": [
    "X, y = f.Xy(df_10)"
   ]
  },
  {
   "cell_type": "code",
   "execution_count": null,
   "id": "f16aebd1-3a4b-4d46-afc1-ccd484acaa2e",
   "metadata": {},
   "outputs": [],
   "source": [
    "X_train, X_test, y_train, y_test = f.splitter(X,y)"
   ]
  },
  {
   "cell_type": "code",
   "execution_count": null,
   "id": "e0f5bb2e-770b-4591-9377-eb311e94b750",
   "metadata": {},
   "outputs": [],
   "source": [
    "# checking the small df\n",
    "for col in df_10.columns:\n",
    "    print(col, df_10[col].nunique())"
   ]
  },
  {
   "cell_type": "markdown",
   "id": "65c67555-d419-4df9-8768-7a4886813e24",
   "metadata": {},
   "source": [
    "## Binning Subject Race"
   ]
  },
  {
   "cell_type": "code",
   "execution_count": null,
   "id": "ac8d7c64-96b9-4158-8626-c87d12b18005",
   "metadata": {},
   "outputs": [],
   "source": [
    "df['Subject Perceived Race'].unique()"
   ]
  },
  {
   "cell_type": "code",
   "execution_count": null,
   "id": "99482816-c930-4660-ae21-ac55803d2087",
   "metadata": {},
   "outputs": [],
   "source": [
    "df['Subject Perceived Race'].value_counts(normalize=True)"
   ]
  },
  {
   "cell_type": "code",
   "execution_count": null,
   "id": "a9062595-9825-43a2-a6a2-3078465c5784",
   "metadata": {},
   "outputs": [],
   "source": [
    "df['Subject Perceived Race'].replace('White', 0, inplace=True)\n",
    "df['Subject Perceived Race'].replace('Black', 1, inplace=True)"
   ]
  },
  {
   "cell_type": "code",
   "execution_count": null,
   "id": "9dfb05d7-e352-4cd6-8afc-282b6fe5efee",
   "metadata": {},
   "outputs": [],
   "source": [
    "types = df['Subject Perceived Race'].unique()\n",
    "replace_list = [x for x in types if (x!=0) and (x!=1)]\n",
    "df['Subject Perceived Race'].replace(replace_list, 3, inplace=True)"
   ]
  },
  {
   "cell_type": "code",
   "execution_count": null,
   "id": "3b8bb799-ea3b-44cb-97c9-4fd6837c6dee",
   "metadata": {},
   "outputs": [],
   "source": [
    "df['Subject Perceived Race'].value_counts(normalize=True)"
   ]
  },
  {
   "cell_type": "markdown",
   "id": "0a41d708-5ee3-4afc-95bf-2ec63da58812",
   "metadata": {},
   "source": [
    "## Binning Subject Gender"
   ]
  },
  {
   "cell_type": "code",
   "execution_count": null,
   "id": "55611cf9-e9cb-4b3b-8e24-04735f41284d",
   "metadata": {},
   "outputs": [],
   "source": [
    "df['Subject Perceived Gender'].unique()"
   ]
  },
  {
   "cell_type": "code",
   "execution_count": null,
   "id": "0ef9787d-6c7a-4dda-a1bc-34e77730de28",
   "metadata": {},
   "outputs": [],
   "source": [
    "df['Subject Perceived Gender'].value_counts(normalize=True)"
   ]
  },
  {
   "cell_type": "code",
   "execution_count": null,
   "id": "394ecf85-a4ec-48d2-928f-3fac874e931c",
   "metadata": {},
   "outputs": [],
   "source": [
    "df['Subject Perceived Gender'].replace('Male', 0, inplace=True)\n",
    "df['Subject Perceived Gender'].replace('Female', 1, inplace=True)"
   ]
  },
  {
   "cell_type": "code",
   "execution_count": null,
   "id": "7e2bd4ea-d1cc-4f05-a952-f5659aaefb71",
   "metadata": {},
   "outputs": [],
   "source": [
    "types = df['Subject Perceived Gender'].unique()\n",
    "replace_list = [x for x in types if (x!=0) and (x!=1)]\n",
    "df['Subject Perceived Gender'].replace(replace_list, 3, inplace=True)"
   ]
  },
  {
   "cell_type": "code",
   "execution_count": null,
   "id": "5943b085-ac8d-45b2-9958-3a7ea8d01df4",
   "metadata": {},
   "outputs": [],
   "source": [
    "df['Subject Perceived Gender'].value_counts(normalize=True)"
   ]
  },
  {
   "cell_type": "markdown",
   "id": "b161c84d-37f9-432f-ba36-1915c2e884e9",
   "metadata": {},
   "source": [
    "## Small DF With Simple Data"
   ]
  },
  {
   "cell_type": "code",
   "execution_count": null,
   "id": "701dc55a-ea99-4a5c-b25a-aec50678d2c6",
   "metadata": {},
   "outputs": [],
   "source": [
    "excluded = ['Officer ID','Final Call Type', 'Weapon Type', 'Officer Gender',\n",
    "            'Officer Race', 'Frisk Flag', 'Weapon Flag', 'Officer Squad', 'Initial Call Type',\n",
    "            'Call Type', 'Officer Squad', 'Reported Year', 'Reported Month',\n",
    "            'Day of Month', 'Day of Week', 'Reported Hour']"
   ]
  },
  {
   "cell_type": "code",
   "execution_count": null,
   "id": "0ed60c69-23b5-405d-a753-8a6fa91555cf",
   "metadata": {},
   "outputs": [],
   "source": [
    "df_11 = f.framer(df, [], excluded)"
   ]
  },
  {
   "cell_type": "code",
   "execution_count": null,
   "id": "694146a2-1e61-408c-9b1f-67b502b4d1e5",
   "metadata": {},
   "outputs": [],
   "source": [
    "df_11.head(2)"
   ]
  },
  {
   "cell_type": "code",
   "execution_count": null,
   "id": "a0ef9525-88e9-47b8-8e31-82da94c0270b",
   "metadata": {},
   "outputs": [],
   "source": [
    "X, y = f.Xy(df_11)"
   ]
  },
  {
   "cell_type": "code",
   "execution_count": null,
   "id": "70a3fbc7-f77a-480e-98d7-ce11029a2cc2",
   "metadata": {},
   "outputs": [],
   "source": [
    "X_train, X_test, y_train, y_test = f.splitter(X,y)"
   ]
  },
  {
   "cell_type": "markdown",
   "id": "60e768bb-134a-44e8-96e8-4abd5c34fda4",
   "metadata": {},
   "source": [
    "## Tuning Models on Simplified Data"
   ]
  },
  {
   "cell_type": "markdown",
   "id": "cf151108-5932-488c-82a4-a59837e17e9a",
   "metadata": {},
   "source": [
    "## LR Simple Data"
   ]
  },
  {
   "cell_type": "code",
   "execution_count": null,
   "id": "07fe8127-78dc-4d9e-a943-6fb4c70cae0a",
   "metadata": {},
   "outputs": [],
   "source": [
    "C = np.logspace(-4, 2, 10)\n",
    "penalty = ['l1', 'l2']\n",
    "solver = ['liblinear', 'saga', 'lbfgs']\n",
    "\n",
    "grid_values = {'logisticregression__C':C, \n",
    "               'logisticregression__penalty':penalty,\n",
    "               'logisticregression__solver':solver }\n",
    "\n",
    "grid_clf_f1 = GridSearchCV(baseline_smote, param_grid = grid_values,\n",
    "                           n_jobs=-1, scoring = 'f1', cv=3, verbose=4)\n",
    "grid_clf_f1.fit(X_train, y_train)"
   ]
  },
  {
   "cell_type": "code",
   "execution_count": null,
   "id": "e4300332-7616-4271-9fc6-3983b239200b",
   "metadata": {},
   "outputs": [],
   "source": [
    "print('Best C:', grid_clf_f1.best_estimator_.get_params()['logisticregression__C'])\n",
    "print('Best penalty:', grid_clf_f1.best_estimator_.get_params()['logisticregression__penalty'])\n",
    "print('Best solver:', grid_clf_f1.best_estimator_.get_params()['logisticregression__solver'])"
   ]
  },
  {
   "cell_type": "code",
   "execution_count": null,
   "id": "5ef1a7ac-a0c4-468a-8513-dc427ea10c4d",
   "metadata": {},
   "outputs": [],
   "source": [
    "LR_tuned = LogisticRegression(C=.01,\n",
    "                            solver='liblinear', penalty='l2',\n",
    "                            max_iter=1000, random_state=2021)\n",
    "\n",
    "pipeline  = make_sm_pipeline(preprocessing_mm, sm, LR_tuned)\n",
    "pipeline.fit(X_train, y_train)\n",
    "f1_score(pipeline.predict(X_train), y_train)\n",
    "modeling.report(pipeline, X_train, y_train, 'LR_tuned', 'C=.01, solver=liblinear, penalty=l2')"
   ]
  },
  {
   "cell_type": "code",
   "execution_count": null,
   "id": "1c514b14-deea-48e8-a5be-4445c804e40d",
   "metadata": {},
   "outputs": [],
   "source": [
    "modeling.history"
   ]
  },
  {
   "cell_type": "markdown",
   "id": "89d99965-6594-48d8-8070-b0ee989a838e",
   "metadata": {},
   "source": [
    "## Testing Tuned Model on Sub-Splits"
   ]
  },
  {
   "cell_type": "code",
   "execution_count": null,
   "id": "20a7abb5-f5a0-4789-b952-a1b5b97c1b12",
   "metadata": {},
   "outputs": [],
   "source": [
    "f.subsplit_test(X_train, y_train, pipeline)"
   ]
  },
  {
   "cell_type": "markdown",
   "id": "058c4ede-7b72-4f2c-854a-b119dd7caf43",
   "metadata": {},
   "source": [
    "## RF Simple Data"
   ]
  },
  {
   "cell_type": "code",
   "execution_count": null,
   "id": "00ed17b9-db2e-4ea7-a156-61c5b2ea2840",
   "metadata": {},
   "outputs": [],
   "source": [
    "max_depth = [2, 3, 5, None]\n",
    "min_samples_split = [2, 5, 10]\n",
    "class_weight = [None, 'balanced', 'balanced_subsample']\n",
    "max_features = [None, 'auto', 'log2' ]\n",
    "\n",
    "grid_values = {'randomforestclassifier__max_depth':max_depth,\n",
    "               'randomforestclassifier__min_samples_split':min_samples_split,\n",
    "               'randomforestclassifier__class_weight':class_weight,\n",
    "               'randomforestclassifier__max_features': max_features}\n",
    "\n",
    "grid_rf_f1 = GridSearchCV(rf_sm_pipeline, param_grid = grid_values, scoring = 'f1',\n",
    "                          n_jobs=-1, verbose=2, cv=3)\n",
    "grid_rf_f1.fit(X_train, y_train)"
   ]
  },
  {
   "cell_type": "code",
   "execution_count": null,
   "id": "af53333d-3406-4eb1-98d2-808e9a554470",
   "metadata": {},
   "outputs": [],
   "source": [
    "print('Best max_features:', grid_rf_f1.best_estimator_.get_params()['randomforestclassifier__max_features'])\n",
    "print('Best max_depth:', grid_rf_f1.best_estimator_.get_params()['randomforestclassifier__max_depth'])\n",
    "print('Best min_samples_split:', grid_rf_f1.best_estimator_.get_params()['randomforestclassifier__min_samples_split'])\n",
    "print('Best class weight:', grid_rf_f1.best_estimator_.get_params()['randomforestclassifier__class_weight'])"
   ]
  },
  {
   "cell_type": "markdown",
   "id": "72f01786-60a8-4317-8ecf-919417a7c72e",
   "metadata": {},
   "source": [
    "## Retuned Random Forest w/SMOTE"
   ]
  },
  {
   "cell_type": "code",
   "execution_count": null,
   "id": "98eee4d5-4a90-4e67-bb36-7d656cfc46b4",
   "metadata": {},
   "outputs": [],
   "source": [
    "RF3 = RandomForestClassifier(criterion='gini',\n",
    "                            max_depth=5, min_samples_split=5,\n",
    "                            class_weight='balanced_subsample',\n",
    "                             max_features=None,\n",
    "                            random_state=2021)"
   ]
  },
  {
   "cell_type": "code",
   "execution_count": null,
   "id": "e00db621-0ccb-4485-9604-689acedaedce",
   "metadata": {},
   "outputs": [],
   "source": [
    "rf_sm_pipeline = make_pipeline(preprocessing_mm, RF3)"
   ]
  },
  {
   "cell_type": "code",
   "execution_count": null,
   "id": "f2080ce1-4a36-4ba9-9d36-bc32b0084b2a",
   "metadata": {},
   "outputs": [],
   "source": [
    "modeling.report(rf_sm_pipeline, X_train, y_train, 'RF Retuned SMOTE', 'criterion=gini,\\\n",
    "                            max_depth=5, min_samples_split=2,\\\n",
    "                            class_weight=balanced_subsample')"
   ]
  },
  {
   "cell_type": "code",
   "execution_count": null,
   "id": "f6a1b222-df7d-45d6-a8ee-76418e4efb62",
   "metadata": {},
   "outputs": [],
   "source": [
    "modeling.history"
   ]
  },
  {
   "cell_type": "markdown",
   "id": "0c253e35-014e-42a6-89a0-17f455a50c51",
   "metadata": {},
   "source": [
    "## Testing on Subsplits"
   ]
  },
  {
   "cell_type": "code",
   "execution_count": null,
   "id": "5adafff6-997f-41f0-a447-4a742565c8ee",
   "metadata": {},
   "outputs": [],
   "source": [
    "f.subsplit_test( X_train, y_train, rf_sm_pipeline)"
   ]
  },
  {
   "cell_type": "markdown",
   "id": "c69889a2-bc11-4133-a46e-fa7d0a831a4e",
   "metadata": {},
   "source": [
    "## AdaBoost"
   ]
  },
  {
   "cell_type": "code",
   "execution_count": null,
   "id": "539b2487-e43f-4d98-9b71-9adf1c4f7a8c",
   "metadata": {},
   "outputs": [],
   "source": [
    "ada = AdaBoostClassifier(random_state=2021)\n",
    "\n",
    "ada_pipeline = make_sm_pipeline(preprocessing_mm, sm, ada)"
   ]
  },
  {
   "cell_type": "code",
   "execution_count": null,
   "id": "40b29309-d09f-41be-b370-bfbfffb220f3",
   "metadata": {},
   "outputs": [],
   "source": [
    "ada_pipeline.fit(X_train, y_train)"
   ]
  },
  {
   "cell_type": "code",
   "execution_count": null,
   "id": "50aab17d-0b7f-4a84-a83f-00e5fa4fdd44",
   "metadata": {},
   "outputs": [],
   "source": [
    "# checking cross val scores\n",
    "modeling.report(ada_pipeline, X_train, y_train,\\\n",
    "                'AdaBoost', 'Simple Data')"
   ]
  },
  {
   "cell_type": "code",
   "execution_count": null,
   "id": "1f74a3b2-cb92-49bf-beae-5f24b880e054",
   "metadata": {},
   "outputs": [],
   "source": [
    "#scoring the model\n",
    "f1_score(ada_pipeline.predict(X_train), y_train)"
   ]
  },
  {
   "cell_type": "code",
   "execution_count": null,
   "id": "6e8d4b13-c0ac-41b0-8c33-8e869767bb2a",
   "metadata": {},
   "outputs": [],
   "source": [
    "modeling.history"
   ]
  },
  {
   "cell_type": "code",
   "execution_count": null,
   "id": "ea4be238-ab90-47a2-bd8c-d6bc4a52d3b7",
   "metadata": {},
   "outputs": [],
   "source": [
    "f.subsplit_test(X_train, y_train, ada_pipeline)"
   ]
  },
  {
   "cell_type": "markdown",
   "id": "53397b51-3d9c-4898-9a94-d0856e15427c",
   "metadata": {},
   "source": [
    "## AdaBoost with LR"
   ]
  },
  {
   "cell_type": "code",
   "execution_count": null,
   "id": "4f680f5a-fe99-40ef-a824-5fab91fec4b1",
   "metadata": {},
   "outputs": [],
   "source": [
    "ada = AdaBoostClassifier(base_estimator=LR_tuned, random_state=2021)\n",
    "\n",
    "adaLR_pipeline = make_sm_pipeline(preprocessing_mm, sm, ada)"
   ]
  },
  {
   "cell_type": "code",
   "execution_count": null,
   "id": "d89822b1-ca47-42d6-a226-24fcd0ebb7e0",
   "metadata": {},
   "outputs": [],
   "source": [
    "adaLR_pipeline.fit(X_train, y_train)"
   ]
  },
  {
   "cell_type": "code",
   "execution_count": null,
   "id": "c2c4c5ee-3f0b-43fb-a38e-82ed118775f6",
   "metadata": {},
   "outputs": [],
   "source": [
    "# checking cross val scores\n",
    "modeling.report(adaRF_pipeline, X_train, y_train,\\\n",
    "                'AdaBoostLR', 'Simple Data')"
   ]
  },
  {
   "cell_type": "code",
   "execution_count": null,
   "id": "b5b0883d-f5ed-4031-ac6f-6b2598479c8e",
   "metadata": {},
   "outputs": [],
   "source": [
    "#scoring the model\n",
    "f1_score(adaLR_pipeline.predict(X_train), y_train)"
   ]
  },
  {
   "cell_type": "code",
   "execution_count": null,
   "id": "539bda6c-ad3c-4f2a-a290-942ede9ea7d9",
   "metadata": {},
   "outputs": [],
   "source": [
    "modeling.history"
   ]
  },
  {
   "cell_type": "code",
   "execution_count": null,
   "id": "d27f3312-c2fd-4055-9671-ed84e78c632f",
   "metadata": {},
   "outputs": [],
   "source": [
    "f.subsplit_test(X_train, y_train, adaLR_pipeline)"
   ]
  },
  {
   "cell_type": "markdown",
   "id": "9ce05452-46b6-4a58-978d-272704db4b82",
   "metadata": {},
   "source": [
    "## Boruta "
   ]
  },
  {
   "cell_type": "code",
   "execution_count": null,
   "id": "4b613173-c960-4f8c-b0a9-ea15f47e6cb9",
   "metadata": {},
   "outputs": [],
   "source": [
    "X, y = f.Xy(df_7)"
   ]
  },
  {
   "cell_type": "code",
   "execution_count": null,
   "id": "a1d14ded-ba33-412d-b72e-110bb8ac0b56",
   "metadata": {},
   "outputs": [],
   "source": [
    "X.head()"
   ]
  },
  {
   "cell_type": "code",
   "execution_count": null,
   "id": "42de500e-6f0a-4157-b4ad-f862f2ecafc1",
   "metadata": {
    "tags": []
   },
   "outputs": [],
   "source": [
    "num_cols = X.columns[X.dtypes.apply(lambda c: np.issubdtype(c, np.number))]"
   ]
  },
  {
   "cell_type": "code",
   "execution_count": null,
   "id": "83ecf10a-b511-4589-b66b-2ac72eddb88d",
   "metadata": {
    "tags": []
   },
   "outputs": [],
   "source": [
    "mm = MinMaxScaler()\n",
    "\n",
    "X[num_cols] = mm.fit_transform(X[num_cols])"
   ]
  },
  {
   "cell_type": "code",
   "execution_count": null,
   "id": "ecfdec9a-a8b0-4846-80ff-cde27fa088fb",
   "metadata": {},
   "outputs": [],
   "source": [
    "X.head(2)"
   ]
  },
  {
   "cell_type": "code",
   "execution_count": null,
   "id": "b093684c-b78b-4dd9-9eac-bb851edb526a",
   "metadata": {},
   "outputs": [],
   "source": [
    "X = pd.get_dummies(X)"
   ]
  },
  {
   "cell_type": "code",
   "execution_count": null,
   "id": "bf7a6746-6891-43bc-b914-c14fc8fc50b6",
   "metadata": {},
   "outputs": [],
   "source": [
    "rf = RandomForestClassifier(n_jobs=-1, class_weight='balanced', max_depth=5)\n",
    "\n",
    "# define Boruta \n",
    "feat_selector = BorutaPy(rf, n_estimators='auto', verbose=2, random_state=2021)\n",
    "\n",
    "# fit selector\n",
    "feat_selector.fit(X.values, y.values)"
   ]
  },
  {
   "cell_type": "code",
   "execution_count": null,
   "id": "0451d416-1f34-48de-a0c8-33490e31fae9",
   "metadata": {},
   "outputs": [],
   "source": [
    "#  get list of features\n",
    "keep = X.columns[feat_selector.support_].to_list()\n",
    "toss = X.columns[feat_selector.support_weak_].to_list()\n",
    "print('features to keep:', keep)\n",
    "print('features to toss:', toss)"
   ]
  },
  {
   "cell_type": "code",
   "execution_count": null,
   "id": "2268ca9f-ca9b-4514-957b-bcd482b4e635",
   "metadata": {},
   "outputs": [],
   "source": [
    "#  get rankings\n",
    "X.columns[feat_selector.ranking_].sort_values(ascending=False).to_list()"
   ]
  },
  {
   "cell_type": "code",
   "execution_count": null,
   "id": "71ba148b-f141-48da-a78c-6e0511795f25",
   "metadata": {},
   "outputs": [],
   "source": [
    "# call transform() on X to filter it down to selected features\n",
    "X_filtered = feat_selector.transform(X.values)"
   ]
  },
  {
   "cell_type": "code",
   "execution_count": null,
   "id": "acf3b702-c030-409c-b5b9-e7abbff72b9f",
   "metadata": {},
   "outputs": [],
   "source": [
    "boruta = pd.DataFrame(X_filtered)"
   ]
  },
  {
   "cell_type": "code",
   "execution_count": null,
   "id": "a227cf45-7c95-4ad1-8e0f-a1e8b1c42dfb",
   "metadata": {},
   "outputs": [],
   "source": [
    "X_train, X_test, y_train, y_test = f.splitter(boruta, y)"
   ]
  },
  {
   "cell_type": "raw",
   "id": "1ed9ec46-ec10-4a13-b3da-559e0a4403ac",
   "metadata": {
    "tags": []
   },
   "source": [
    "boruta_selected = make_pipeline(preprocessing_mm, RF)"
   ]
  },
  {
   "cell_type": "code",
   "execution_count": null,
   "id": "f05ae6d4-1fdc-4c67-8a4a-ea9dc5c631d3",
   "metadata": {},
   "outputs": [],
   "source": [
    "boruta_selected.fit(X_train, y_train)"
   ]
  },
  {
   "cell_type": "code",
   "execution_count": null,
   "id": "5c2b18c8-5dbc-4c13-b686-7668b35196a8",
   "metadata": {},
   "outputs": [],
   "source": [
    "#scoring the model\n",
    "f1_score(boruta_selected.predict(X_train), y_train)"
   ]
  },
  {
   "cell_type": "code",
   "execution_count": null,
   "id": "a40226d3-d775-460a-a0f2-f6eff4218124",
   "metadata": {},
   "outputs": [],
   "source": [
    "# checking cross val scores\n",
    "modeling.report(boruta_selected, X_train, y_train, 'RF ', 'Boruta Selected')"
   ]
  },
  {
   "cell_type": "code",
   "execution_count": null,
   "id": "9a32214a-a430-4b84-8b28-a5efe7515cb0",
   "metadata": {},
   "outputs": [],
   "source": [
    "modeling.history"
   ]
  }
 ],
 "metadata": {
  "kernelspec": {
   "display_name": "terry_stops",
   "language": "python",
   "name": "terry_stops"
  },
  "language_info": {
   "codemirror_mode": {
    "name": "ipython",
    "version": 3
   },
   "file_extension": ".py",
   "mimetype": "text/x-python",
   "name": "python",
   "nbconvert_exporter": "python",
   "pygments_lexer": "ipython3",
   "version": "3.9.4"
  }
 },
 "nbformat": 4,
 "nbformat_minor": 5
}
