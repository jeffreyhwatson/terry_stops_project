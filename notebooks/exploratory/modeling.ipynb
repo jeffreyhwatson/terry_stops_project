{
 "cells": [
  {
   "cell_type": "code",
   "execution_count": null,
   "id": "dec765fd-7cf9-4b53-9647-18921634ffb3",
   "metadata": {},
   "outputs": [],
   "source": [
    "%load_ext autoreload\n",
    "%autoreload 2"
   ]
  },
  {
   "cell_type": "markdown",
   "id": "d5f0aa29-e754-4817-885f-28b1c75a673c",
   "metadata": {},
   "source": [
    "## Package Imports & Setup "
   ]
  },
  {
   "cell_type": "code",
   "execution_count": null,
   "id": "e7e827e0-c324-49a5-9c8a-6acd8a4a32dd",
   "metadata": {},
   "outputs": [],
   "source": [
    "# setting project path\n",
    "import os\n",
    "import sys\n",
    "\n",
    "gparent = os.path.join(os.pardir, os.pardir)\n",
    "sys.path.append(gparent)\n",
    "\n",
    "# imports\n",
    "import pandas as pd\n",
    "import numpy as np\n",
    "\n",
    "from sklearn.model_selection import StratifiedKFold\n",
    "from sklearn.model_selection import train_test_split\n",
    "from sklearn.model_selection import cross_val_score\n",
    "from sklearn.model_selection import GridSearchCV\n",
    "from sklearn.preprocessing import OneHotEncoder\n",
    "from sklearn.preprocessing import StandardScaler\n",
    "from sklearn.preprocessing import MinMaxScaler, PolynomialFeatures\n",
    "from sklearn.compose import make_column_selector\n",
    "from sklearn.compose import make_column_transformer\n",
    "from sklearn.pipeline import make_pipeline \n",
    "from sklearn.metrics import accuracy_score, recall_score, precision_score, f1_score\n",
    "from sklearn.metrics import make_scorer, plot_confusion_matrix\n",
    "from sklearn.linear_model import LogisticRegression\n",
    "from sklearn.neighbors import KNeighborsClassifier\n",
    "from sklearn.base import clone\n",
    "from sklearn.tree import DecisionTreeClassifier\n",
    "from sklearn.ensemble import RandomForestClassifier\n",
    "\n",
    "from imblearn.over_sampling import SMOTE\n",
    "from imblearn.pipeline import make_pipeline as make_sm_pipeline\n",
    "\n",
    "from boruta import BorutaPy\n",
    "\n",
    "from src import classes as c\n",
    "from src import functions as f\n",
    "import matplotlib.pyplot as plt\n",
    "import seaborn as sns\n",
    "\n",
    "# setting style\n",
    "sns.set_theme('talk')\n",
    "plt.style.use('fivethirtyeight')\n",
    "sns.set_palette(palette='Blues_r')"
   ]
  },
  {
   "cell_type": "markdown",
   "id": "2b7ec8ba-446d-4c17-8aaf-f92dbc62454c",
   "metadata": {},
   "source": [
    "## Importing the Data"
   ]
  },
  {
   "cell_type": "code",
   "execution_count": null,
   "id": "959930a8-49d5-44fa-b4be-6f380b385b05",
   "metadata": {},
   "outputs": [],
   "source": [
    "path = os.path.join(gparent, 'data/processed', 'modeling.csv')\n",
    "df = pd.read_csv(path, keep_default_na=False)"
   ]
  },
  {
   "cell_type": "markdown",
   "id": "89d003b1-9e09-4cb4-b910-d21ec32be028",
   "metadata": {},
   "source": [
    "## Preprocessing and Harness Objects"
   ]
  },
  {
   "cell_type": "code",
   "execution_count": null,
   "id": "21082e75-a9f7-4ae6-ace5-81e27c6d4e59",
   "metadata": {},
   "outputs": [],
   "source": [
    "string_selector = make_column_selector(dtype_include='object')\n",
    "number_selector = make_column_selector(dtype_include='number', dtype_exclude='object')\n",
    "\n",
    "preprocessing_ss = make_column_transformer((OneHotEncoder\n",
    "                                         (handle_unknown='ignore'),string_selector),\n",
    "                                          (StandardScaler(), number_selector))\n",
    "preprocessing_mm = make_column_transformer((OneHotEncoder\n",
    "                                         (handle_unknown='ignore'),string_selector),\n",
    "                                          (MinMaxScaler(), number_selector))\n",
    "sm = SMOTE(random_state=2021)"
   ]
  },
  {
   "cell_type": "code",
   "execution_count": null,
   "id": "30b55b51-7e25-4099-ae62-ec44d025cef9",
   "metadata": {},
   "outputs": [],
   "source": [
    "# creating f1 scorer\n",
    "f1 = f.f1"
   ]
  },
  {
   "cell_type": "code",
   "execution_count": null,
   "id": "d1f485cb-e7b7-406f-a812-3e0bff3a083c",
   "metadata": {},
   "outputs": [],
   "source": [
    "modeling = c.Harness(f1)"
   ]
  },
  {
   "cell_type": "markdown",
   "id": "67fc48c6-f67f-4c9b-9c72-107197d495cf",
   "metadata": {},
   "source": [
    "## Baseline Dataframe"
   ]
  },
  {
   "cell_type": "markdown",
   "id": "e9149cb6-8807-4a31-bcfd-38c2007cc30d",
   "metadata": {},
   "source": [
    "Dropping engineered features to establish the baseline score."
   ]
  },
  {
   "cell_type": "code",
   "execution_count": null,
   "id": "431ae8bc-42ef-4b0c-8535-b7b0f17cbd4e",
   "metadata": {},
   "outputs": [],
   "source": [
    "# excluded = ['Weapon Type', 'Officer ID', 'Initial Call Type', 'Final Call Type',\n",
    "#              'Call Type', 'Officer Squad', 'Frisk Flag', 'Weapon Flag',\n",
    "#              'Reported Year', 'Reported Month','Day of Month',\n",
    "#              'Day of Week', 'Reported Hour', 'Beat Flag']"
   ]
  },
  {
   "cell_type": "code",
   "execution_count": null,
   "id": "aaebf3c2-5022-4427-860c-3f41398fde9d",
   "metadata": {},
   "outputs": [],
   "source": [
    "# features engineered during eda\n",
    "feature_list = ['Weapon Flag', 'Reported Year', 'Reported Month',\n",
    "                'Day of Month', 'Day of Week', 'Reported Hour', 'Beat Flag']"
   ]
  },
  {
   "cell_type": "code",
   "execution_count": null,
   "id": "47512aba-00a7-4890-bb5c-dd72df2992af",
   "metadata": {},
   "outputs": [],
   "source": [
    "# excluding Officer ID, 'Final Call Type', and Frisk Flag\n",
    "excluded = ['Officer ID','Final Call Type', 'Frisk Flag','Weapon Flag', \n",
    "             'Reported Year', 'Reported Month','Day of Month',\n",
    "             'Day of Week', 'Reported Hour', 'Beat Flag']"
   ]
  },
  {
   "cell_type": "code",
   "execution_count": null,
   "id": "d13534dd-1c86-4fdb-ba31-f7e0022960d7",
   "metadata": {},
   "outputs": [],
   "source": [
    "baseline_df = f.framer(df, [], excluded)"
   ]
  },
  {
   "cell_type": "code",
   "execution_count": null,
   "id": "c56efad5-e786-47a8-aff2-9515bf0dc541",
   "metadata": {},
   "outputs": [],
   "source": [
    "baseline_df.head(2)"
   ]
  },
  {
   "cell_type": "code",
   "execution_count": null,
   "id": "82e9e7d3-180e-44f4-91a9-a5eb80bb1485",
   "metadata": {},
   "outputs": [],
   "source": [
    "baseline_df.info()"
   ]
  },
  {
   "cell_type": "code",
   "execution_count": null,
   "id": "2fda8c57-cd87-448d-adb6-53b3296cb609",
   "metadata": {},
   "outputs": [],
   "source": [
    "X, y = f.Xy(baseline_df)"
   ]
  },
  {
   "cell_type": "code",
   "execution_count": null,
   "id": "af987daf-967a-4f84-9860-2d2ed0879116",
   "metadata": {},
   "outputs": [],
   "source": [
    "X_train, X_test, y_train, y_test = f.splitter(X,y)"
   ]
  },
  {
   "cell_type": "markdown",
   "id": "7e9dfbdd-02ee-44ec-808f-fce7528a37b8",
   "metadata": {},
   "source": [
    "## Baseline Logistic Regression"
   ]
  },
  {
   "cell_type": "code",
   "execution_count": null,
   "id": "d4df1dfc-bb09-41b3-9769-58e4ef5c1cd7",
   "metadata": {
    "tags": []
   },
   "outputs": [],
   "source": [
    "LR = LogisticRegression(max_iter=1000, random_state = 2021, verbose=2)"
   ]
  },
  {
   "cell_type": "code",
   "execution_count": null,
   "id": "7ff4cf42-5fc0-44d5-bbb1-d5df8e211276",
   "metadata": {},
   "outputs": [],
   "source": [
    "baseline = make_pipeline(preprocessing_mm, LR)"
   ]
  },
  {
   "cell_type": "code",
   "execution_count": null,
   "id": "57afe0dd-4f0f-42bf-8d74-5f7442754b91",
   "metadata": {},
   "outputs": [],
   "source": [
    "baseline.fit(X_train, y_train)"
   ]
  },
  {
   "cell_type": "code",
   "execution_count": null,
   "id": "1de1462e-758e-4cd1-96e0-60cf30d187ed",
   "metadata": {
    "tags": []
   },
   "outputs": [],
   "source": [
    "#scoring the model\n",
    "f1_score(baseline.predict(X_train), y_train)"
   ]
  },
  {
   "cell_type": "code",
   "execution_count": null,
   "id": "54770e9b-12f5-46dd-abe9-fd4b19039382",
   "metadata": {},
   "outputs": [],
   "source": [
    "# checking cross val scores\n",
    "modeling.report(baseline, X_train, y_train, 'LR Baseline', 'Log Reg, min/max')"
   ]
  },
  {
   "cell_type": "markdown",
   "id": "74b336b6-49dd-4026-8714-602c832e9854",
   "metadata": {},
   "source": [
    "## Sub-Splitting the Training Data"
   ]
  },
  {
   "cell_type": "code",
   "execution_count": null,
   "id": "4f961509-c8f3-42f1-b0df-6a2c7a9c4747",
   "metadata": {},
   "outputs": [],
   "source": [
    "f.subsplit_test(X_train, y_train, baseline)"
   ]
  },
  {
   "cell_type": "markdown",
   "id": "b4036173-27ae-42d7-981b-ec74ddb3d32c",
   "metadata": {},
   "source": [
    "## Baseline Logistic Regression w/smote"
   ]
  },
  {
   "cell_type": "code",
   "execution_count": null,
   "id": "909be8fe-22df-48b4-921e-dab28443eaf0",
   "metadata": {},
   "outputs": [],
   "source": [
    "baseline_smote = make_sm_pipeline(preprocessing_mm, sm, LR)"
   ]
  },
  {
   "cell_type": "code",
   "execution_count": null,
   "id": "1b942384-99d9-4577-aaa2-68a30f635f44",
   "metadata": {},
   "outputs": [],
   "source": [
    "baseline_smote.fit(X_train, y_train)"
   ]
  },
  {
   "cell_type": "code",
   "execution_count": null,
   "id": "74cc4e38-d1b4-4006-ac68-d0477a905d27",
   "metadata": {
    "tags": []
   },
   "outputs": [],
   "source": [
    "#scoring the model\n",
    "f1_score(baseline_smote.predict(X_train), y_train)"
   ]
  },
  {
   "cell_type": "code",
   "execution_count": null,
   "id": "7191f0c6-cade-4d9f-971c-7e8124d45904",
   "metadata": {},
   "outputs": [],
   "source": [
    "# checking cross val scores\n",
    "modeling.report(baseline_smote, X_train, y_train, 'LR Baseline SMOTE', 'Log Reg min/max')"
   ]
  },
  {
   "cell_type": "code",
   "execution_count": null,
   "id": "71babeb6-f104-4992-a608-112fc33d5567",
   "metadata": {},
   "outputs": [],
   "source": [
    "modeling.history"
   ]
  },
  {
   "cell_type": "markdown",
   "id": "28f9af18-8076-4142-a494-41c686815429",
   "metadata": {},
   "source": [
    "## Sub-Splitting the Training Data"
   ]
  },
  {
   "cell_type": "code",
   "execution_count": null,
   "id": "6f1759c2-c435-4714-950c-bbd802216406",
   "metadata": {},
   "outputs": [],
   "source": [
    "f.subsplit_test(X_train, y_train, baseline_smote)"
   ]
  },
  {
   "cell_type": "markdown",
   "id": "7decf072-08a5-4a9d-895e-874c4460e6ee",
   "metadata": {},
   "source": [
    "## Investigating the Data More Closely"
   ]
  },
  {
   "cell_type": "code",
   "execution_count": null,
   "id": "5fc2f5a5-a1e0-4e9e-b252-721512bccf76",
   "metadata": {},
   "outputs": [],
   "source": [
    "cols = baseline_df.columns\n",
    "for col in cols:\n",
    "    print(f'{df[col].value_counts()}\\n')"
   ]
  },
  {
   "cell_type": "code",
   "execution_count": null,
   "id": "70a8aa30-b1ab-4e06-adcf-2b1c6f1b10ef",
   "metadata": {},
   "outputs": [],
   "source": [
    "baseline_df['Officer YOB'].describe()"
   ]
  },
  {
   "cell_type": "markdown",
   "id": "5029a665-0ccd-4968-aff3-6c382302e58c",
   "metadata": {},
   "source": [
    "## Creating & Testing Officer Age Feature\n",
    "Creating `Officer Age` feature, dropping invalid ages and `Officer YOB` feature."
   ]
  },
  {
   "cell_type": "code",
   "execution_count": null,
   "id": "c78439b7-1cc0-4547-bac6-348a86945c32",
   "metadata": {},
   "outputs": [],
   "source": [
    "df['Officer Age'] = df['Reported Year'] - df['Officer YOB']\n",
    "df['Officer Age'] = df['Officer Age'].apply(lambda x: np.nan if x > 100 else x)\n",
    "df.dropna(subset = ['Officer Age'], inplace=True)"
   ]
  },
  {
   "cell_type": "code",
   "execution_count": null,
   "id": "629c39f6-4fb6-4c19-a772-2aa62f4c3066",
   "metadata": {},
   "outputs": [],
   "source": [
    "df.drop('Officer YOB', axis=1, inplace=True)"
   ]
  },
  {
   "cell_type": "code",
   "execution_count": null,
   "id": "d1cb2ff2-accd-40bf-b8b3-2fb3341fb014",
   "metadata": {},
   "outputs": [],
   "source": [
    "age_df = f.framer(df, [], excluded)"
   ]
  },
  {
   "cell_type": "code",
   "execution_count": null,
   "id": "b37aa9a3-3a6f-4ee0-9950-0c6ac572832d",
   "metadata": {},
   "outputs": [],
   "source": [
    "age_df.head(2)"
   ]
  },
  {
   "cell_type": "code",
   "execution_count": null,
   "id": "f27baaea-69bf-43ce-9770-ea6e3fdb2f39",
   "metadata": {},
   "outputs": [],
   "source": [
    "age_df.info()"
   ]
  },
  {
   "cell_type": "code",
   "execution_count": null,
   "id": "535acc3b-605d-4f46-8c2b-7432934477a1",
   "metadata": {},
   "outputs": [],
   "source": [
    "X, y = f.Xy(age_df)"
   ]
  },
  {
   "cell_type": "code",
   "execution_count": null,
   "id": "dd7acb0a-4883-42f0-bfa9-4ab21ce24967",
   "metadata": {},
   "outputs": [],
   "source": [
    "X_train, X_test, y_train, y_test = f.splitter(X,y)"
   ]
  },
  {
   "cell_type": "code",
   "execution_count": null,
   "id": "72a1d92e-3bdc-43ac-9748-3ffb4a19fe61",
   "metadata": {},
   "outputs": [],
   "source": [
    "baseline_smote.fit(X_train, y_train)"
   ]
  },
  {
   "cell_type": "code",
   "execution_count": null,
   "id": "b6c062cb-e12d-45c7-9941-1fd6776fa87a",
   "metadata": {},
   "outputs": [],
   "source": [
    "#scoring the model\n",
    "f1_score(baseline_smote.predict(X_train), y_train)"
   ]
  },
  {
   "cell_type": "code",
   "execution_count": null,
   "id": "1f20eeb9-5396-4234-bd47-070f61907e97",
   "metadata": {},
   "outputs": [],
   "source": [
    "# checking cross val scores\n",
    "modeling.report(baseline_smote, X_train, y_train, 'LR SMOTE', 'Log Reg mm, officer age')"
   ]
  },
  {
   "cell_type": "code",
   "execution_count": null,
   "id": "504b23a6-b727-4fea-9562-1e21b42d7299",
   "metadata": {},
   "outputs": [],
   "source": [
    "modeling.history"
   ]
  },
  {
   "cell_type": "code",
   "execution_count": null,
   "id": "e7b2d030-fdde-4370-bf70-45bb2f1f922e",
   "metadata": {},
   "outputs": [],
   "source": [
    "f.subsplit_test(X_train, y_train, baseline_smote)"
   ]
  },
  {
   "cell_type": "markdown",
   "id": "1026d8d5-0fe9-44fb-8ef2-902104d44b2e",
   "metadata": {},
   "source": [
    "## Creating Racial Affinity Feature"
   ]
  },
  {
   "cell_type": "code",
   "execution_count": null,
   "id": "3489e0d5-8302-46e9-849e-a78d3d3a7fbe",
   "metadata": {},
   "outputs": [],
   "source": [
    "df['Racial Affinity'] = [1 if df['Subject Perceived Race'][row]\\\n",
    "                         == df['Officer Race'][row] else 0 for row in df.index]"
   ]
  },
  {
   "cell_type": "code",
   "execution_count": null,
   "id": "a74b4d6e-78ba-456f-a573-0d00c1a833a4",
   "metadata": {},
   "outputs": [],
   "source": [
    "df.head(3)"
   ]
  },
  {
   "cell_type": "code",
   "execution_count": null,
   "id": "8794bf1d-9f7a-4435-a865-c85375aedc00",
   "metadata": {},
   "outputs": [],
   "source": [
    "# excluding Officer ID, 'Final Call Type', and Frisk Flag\n",
    "excluded = ['Officer ID','Final Call Type', 'Frisk Flag','Weapon Flag', \n",
    "             'Reported Year', 'Reported Month','Day of Month',\n",
    "             'Day of Week', 'Reported Hour', 'Beat Flag', 'Officer Age']"
   ]
  },
  {
   "cell_type": "code",
   "execution_count": null,
   "id": "dbdc290c-0807-4e08-8fa4-9edbd3236290",
   "metadata": {},
   "outputs": [],
   "source": [
    "RA_df = f.framer(df, [], excluded)"
   ]
  },
  {
   "cell_type": "code",
   "execution_count": null,
   "id": "62c058b8-f147-43e5-be5b-7ba965d66f69",
   "metadata": {},
   "outputs": [],
   "source": [
    "RA_df.head(2)"
   ]
  },
  {
   "cell_type": "code",
   "execution_count": null,
   "id": "ada2f49e-26ed-442d-8bbf-bef381cf9e3b",
   "metadata": {},
   "outputs": [],
   "source": [
    "X, y = f.Xy(RA_df)"
   ]
  },
  {
   "cell_type": "code",
   "execution_count": null,
   "id": "0b6a8f3a-17f6-433a-be2f-50bdd4111e07",
   "metadata": {},
   "outputs": [],
   "source": [
    "X_train, X_test, y_train, y_test = f.splitter(X,y)"
   ]
  },
  {
   "cell_type": "code",
   "execution_count": null,
   "id": "b834c750-824e-4056-b2dc-fa8c929c14f6",
   "metadata": {},
   "outputs": [],
   "source": [
    "baseline_smote.fit(X_train, y_train)"
   ]
  },
  {
   "cell_type": "code",
   "execution_count": null,
   "id": "dd1522f7-51a1-4515-b496-77b24fabff48",
   "metadata": {},
   "outputs": [],
   "source": [
    "#scoring the model\n",
    "f1_score(baseline_smote.predict(X_train), y_train)"
   ]
  },
  {
   "cell_type": "code",
   "execution_count": null,
   "id": "1f9e1e40-a992-41b2-9106-969003ab7630",
   "metadata": {},
   "outputs": [],
   "source": [
    "# checking cross val scores\n",
    "modeling.report(baseline_smote, X_train, y_train, 'LR SMOTE ', 'Log Reg, mm, racial affinity')"
   ]
  },
  {
   "cell_type": "code",
   "execution_count": null,
   "id": "75dfb21c-958f-4df1-a45a-bb283fc31e13",
   "metadata": {},
   "outputs": [],
   "source": [
    "modeling.history"
   ]
  },
  {
   "cell_type": "code",
   "execution_count": null,
   "id": "e21fe151-9faf-4db8-8135-a2ef27c5b0c4",
   "metadata": {},
   "outputs": [],
   "source": [
    "f.subsplit_test(X_train, y_train, baseline_smote)"
   ]
  },
  {
   "cell_type": "markdown",
   "id": "9c4a2c8a-10e3-4e52-96c7-92dc99eee27f",
   "metadata": {},
   "source": [
    "## Gender Affinity Feature"
   ]
  },
  {
   "cell_type": "code",
   "execution_count": null,
   "id": "395da33f-8ec9-4f4f-9d42-17cfd10fb444",
   "metadata": {},
   "outputs": [],
   "source": [
    "df['Officer Gender'].value_counts()"
   ]
  },
  {
   "cell_type": "code",
   "execution_count": null,
   "id": "6ef0bd47-4e4f-47bc-b3e8-e40a4b7404dd",
   "metadata": {},
   "outputs": [],
   "source": [
    "df['Officer Gender'] = df['Officer Gender'].apply(lambda x: 'Male' if x=='M' else 'Female')"
   ]
  },
  {
   "cell_type": "code",
   "execution_count": null,
   "id": "8fb79238-8cef-49ad-a0b8-7e6c29b38b00",
   "metadata": {},
   "outputs": [],
   "source": [
    "df['Gender Affinity'] = [1 if df['Subject Perceived Gender'][row]\\\n",
    "                         == df['Officer Gender'][row] else 0 for row in df.index]"
   ]
  },
  {
   "cell_type": "code",
   "execution_count": null,
   "id": "a9955531-001e-430b-aa7e-c40f9a985b3f",
   "metadata": {},
   "outputs": [],
   "source": [
    "df.head(2)"
   ]
  },
  {
   "cell_type": "code",
   "execution_count": null,
   "id": "b87a67f0-475b-4e99-9e49-bf0138a07109",
   "metadata": {},
   "outputs": [],
   "source": [
    "excluded = ['Officer ID','Final Call Type', 'Frisk Flag','Weapon Flag', \n",
    "             'Reported Year', 'Reported Month','Day of Month',\n",
    "             'Day of Week', 'Reported Hour', 'Beat Flag', 'Officer Age',\n",
    "            'Racial Affinity']"
   ]
  },
  {
   "cell_type": "code",
   "execution_count": null,
   "id": "7f2fda5f-f9fa-4444-b909-faff95a7a506",
   "metadata": {},
   "outputs": [],
   "source": [
    "GA_df = f.framer(df, [], excluded)"
   ]
  },
  {
   "cell_type": "code",
   "execution_count": null,
   "id": "30d91856-d57d-4a5e-8e34-cd167dadcb83",
   "metadata": {},
   "outputs": [],
   "source": [
    "GA_df.head(2)"
   ]
  },
  {
   "cell_type": "code",
   "execution_count": null,
   "id": "546e61b9-b6c9-4f64-98ad-15ffc9b5243e",
   "metadata": {},
   "outputs": [],
   "source": [
    "X, y = f.Xy(GA_df)"
   ]
  },
  {
   "cell_type": "code",
   "execution_count": null,
   "id": "557f79b9-e3eb-4e51-9749-ac6f9307e667",
   "metadata": {},
   "outputs": [],
   "source": [
    "X_train, X_test, y_train, y_test = f.splitter(X,y)"
   ]
  },
  {
   "cell_type": "code",
   "execution_count": null,
   "id": "83c28952-99b5-40a0-b91f-3522338938e4",
   "metadata": {},
   "outputs": [],
   "source": [
    "baseline_smote.fit(X_train, y_train)"
   ]
  },
  {
   "cell_type": "code",
   "execution_count": null,
   "id": "de78d2e3-fe93-476b-af18-cc70ce5c4ff2",
   "metadata": {},
   "outputs": [],
   "source": [
    "#scoring the model\n",
    "f1_score(baseline_smote.predict(X_train), y_train)"
   ]
  },
  {
   "cell_type": "code",
   "execution_count": null,
   "id": "9fc13c5e-ea2a-49c2-88cc-ebf686c853af",
   "metadata": {},
   "outputs": [],
   "source": [
    "# checking cross val scores\n",
    "modeling.report(baseline_smote, X_train, y_train, 'LR SMOTE ', 'Log Reg, mm, gender affinity')"
   ]
  },
  {
   "cell_type": "code",
   "execution_count": null,
   "id": "de5396ef-58f4-4340-8c38-6f94ec922fec",
   "metadata": {},
   "outputs": [],
   "source": [
    "modeling.history"
   ]
  },
  {
   "cell_type": "code",
   "execution_count": null,
   "id": "c2a27f0c-d142-4d32-8346-fccd8500e2a9",
   "metadata": {},
   "outputs": [],
   "source": [
    "f.subsplit_test(X_train, y_train, baseline_smote)"
   ]
  },
  {
   "cell_type": "markdown",
   "id": "682cab9f-c67e-4801-ae52-e972f2fc1105",
   "metadata": {},
   "source": [
    "### Weapon Type"
   ]
  },
  {
   "cell_type": "code",
   "execution_count": null,
   "id": "e89428a0-0204-47d4-a26d-159d0a8c99ee",
   "metadata": {},
   "outputs": [],
   "source": [
    "# checking weapon types\n",
    "df['Weapon Type'].unique()"
   ]
  },
  {
   "cell_type": "code",
   "execution_count": null,
   "id": "6bea7692-5b56-4d4a-94dd-dbd6e5854399",
   "metadata": {},
   "outputs": [],
   "source": [
    "NONE= ['None', 'NA','None/Not Applicable']\n",
    "\n",
    "GUN = ['Firearm Other', 'Handgun', 'Other Firearm',\n",
    "        'Rifle', 'Firearm (unk type)', 'Firearm',\n",
    "        'Shotgun', 'Automatic Handgun']\n",
    "\n",
    "KNIFE = ['Lethal Cutting Instrument', 'Knife/Cutting/Stabbing Instrument']\n",
    "\n",
    "OTHER = ['Club, Blackjack, Brass Knuckles',\n",
    "         'Fire/Incendiary Device', 'Blunt Object/Striking Implement',\n",
    "         'Mace/Pepper Spray', 'Club', 'Taser/Stun Gun',\n",
    "         'Brass Knuckles','Blackjack',\n",
    "         'Personal Weapons (hands, feet, etc.)']"
   ]
  },
  {
   "cell_type": "code",
   "execution_count": null,
   "id": "81f4eb18-4607-4fc9-8406-50649e202241",
   "metadata": {},
   "outputs": [],
   "source": [
    "df['Weapon Bins'] = df['Weapon Type'].copy()"
   ]
  },
  {
   "cell_type": "code",
   "execution_count": null,
   "id": "82675060-e97e-4095-8c45-8185b71792c6",
   "metadata": {},
   "outputs": [],
   "source": [
    "df['Weapon Bins']"
   ]
  },
  {
   "cell_type": "code",
   "execution_count": null,
   "id": "460e36a0-8a81-41e5-a5f8-c255f51968a6",
   "metadata": {},
   "outputs": [],
   "source": [
    "for type in NONE:\n",
    "    df['Weapon Bins'].replace(type, 'NONE', inplace=True)\n",
    "for type in GUN:\n",
    "    df['Weapon Bins'].replace(type, 'GUN', inplace=True)\n",
    "for type in KNIFE:\n",
    "    df['Weapon Bins'].replace(type, 'KNIFE', inplace=True)\n",
    "for type in OTHER:\n",
    "    df['Weapon Bins'].replace(type, 'OTHER', inplace=True)"
   ]
  },
  {
   "cell_type": "code",
   "execution_count": null,
   "id": "5cdd3419-c5a2-4fbe-80c2-63e4b4162a28",
   "metadata": {},
   "outputs": [],
   "source": [
    "df['Weapon Bins'].value_counts(normalize=True)"
   ]
  },
  {
   "cell_type": "markdown",
   "id": "002734c3-f311-4225-9b9a-4bd770dd682f",
   "metadata": {},
   "source": [
    "## 94% of Subjects Are Unarmed and Only 1% Have a Gun."
   ]
  },
  {
   "cell_type": "code",
   "execution_count": null,
   "id": "829fb58e-a5a9-4697-b026-a0c1fe8b26f2",
   "metadata": {},
   "outputs": [],
   "source": [
    "df.head(2)"
   ]
  },
  {
   "cell_type": "code",
   "execution_count": null,
   "id": "029900a5-868b-4341-bf31-20aeb3394c4e",
   "metadata": {},
   "outputs": [],
   "source": [
    "excluded = ['Weapon Type', 'Officer ID','Final Call Type', 'Frisk Flag','Weapon Flag', \n",
    "             'Reported Year', 'Reported Month','Day of Month',\n",
    "             'Day of Week', 'Reported Hour', 'Beat Flag', 'Officer Age',\n",
    "            'Racial Affinity', 'Gender Affinity']"
   ]
  },
  {
   "cell_type": "code",
   "execution_count": null,
   "id": "1654bdf6-726f-466a-b48e-0553de78229f",
   "metadata": {},
   "outputs": [],
   "source": [
    "WB_df = f.framer(df, [], excluded)"
   ]
  },
  {
   "cell_type": "code",
   "execution_count": null,
   "id": "758afa8f-9685-435d-93cd-66f8562d14bd",
   "metadata": {},
   "outputs": [],
   "source": [
    "WB_df.head(2)"
   ]
  },
  {
   "cell_type": "code",
   "execution_count": null,
   "id": "c705d08d-5a01-49cb-84ef-d95354402d0e",
   "metadata": {},
   "outputs": [],
   "source": [
    "X, y = f.Xy(WB_df)"
   ]
  },
  {
   "cell_type": "code",
   "execution_count": null,
   "id": "dc38e4f5-1a7c-4ac8-a5f1-34ee411e3ccb",
   "metadata": {},
   "outputs": [],
   "source": [
    "X_train, X_test, y_train, y_test = f.splitter(X,y)"
   ]
  },
  {
   "cell_type": "code",
   "execution_count": null,
   "id": "bf678292-d352-42f1-92cf-23dc464598f2",
   "metadata": {},
   "outputs": [],
   "source": [
    "baseline_smote.fit(X_train, y_train)"
   ]
  },
  {
   "cell_type": "code",
   "execution_count": null,
   "id": "228efe3f-bad9-401a-94a3-d21c4a09b613",
   "metadata": {},
   "outputs": [],
   "source": [
    "#scoring the model\n",
    "f1_score(baseline_smote.predict(X_train), y_train)"
   ]
  },
  {
   "cell_type": "code",
   "execution_count": null,
   "id": "a8ae0e3f-1b24-4475-9268-9eb86be6024f",
   "metadata": {},
   "outputs": [],
   "source": [
    "# checking cross val scores\n",
    "modeling.report(baseline_smote, X_train, y_train, 'LR SMOTE ', 'Log Reg, mm, Weapon Bins')"
   ]
  },
  {
   "cell_type": "code",
   "execution_count": null,
   "id": "99157a39-8b49-4cbe-9de0-4c41ee3967eb",
   "metadata": {},
   "outputs": [],
   "source": [
    "modeling.history"
   ]
  },
  {
   "cell_type": "code",
   "execution_count": null,
   "id": "17e1c210-728f-4af0-8626-1defcb2b1f80",
   "metadata": {},
   "outputs": [],
   "source": [
    "f.subsplit_test(X_train, y_train, baseline_smote)"
   ]
  },
  {
   "cell_type": "markdown",
   "id": "90aca7ae-7f90-407c-8e4f-4e2f2b4db65e",
   "metadata": {},
   "source": [
    "## Testing Weapon Flag\n",
    "The weapon flag (0 = no weapon) has been excluded from tests up to this point."
   ]
  },
  {
   "cell_type": "code",
   "execution_count": null,
   "id": "f6f84623-fa03-49e1-a437-576c71983f39",
   "metadata": {},
   "outputs": [],
   "source": [
    "excluded = ['Officer ID','Final Call Type', 'Frisk Flag','Weapon Type', \n",
    "             'Reported Year', 'Reported Month','Day of Month',\n",
    "             'Day of Week', 'Reported Hour', 'Beat Flag', 'Officer Age',\n",
    "            'Racial Affinity', 'Gender Affinity', 'Weapon Bins']"
   ]
  },
  {
   "cell_type": "code",
   "execution_count": null,
   "id": "3dbb4d41-0991-46cb-a862-fc64bf8aef55",
   "metadata": {},
   "outputs": [],
   "source": [
    "WF_df = f.framer(df, [], excluded)"
   ]
  },
  {
   "cell_type": "code",
   "execution_count": null,
   "id": "dc504295-3926-4b9a-81fd-f5548a6dfe61",
   "metadata": {},
   "outputs": [],
   "source": [
    "WF_df.head(2)"
   ]
  },
  {
   "cell_type": "code",
   "execution_count": null,
   "id": "abc57571-3e27-456d-829c-08834c982a6f",
   "metadata": {},
   "outputs": [],
   "source": [
    "X, y = f.Xy(WF_df)"
   ]
  },
  {
   "cell_type": "code",
   "execution_count": null,
   "id": "620f8b33-84eb-45ed-b777-1a31f44e9741",
   "metadata": {},
   "outputs": [],
   "source": [
    "X_train, X_test, y_train, y_test = f.splitter(X,y)"
   ]
  },
  {
   "cell_type": "code",
   "execution_count": null,
   "id": "c9eebb9c-d1be-4c3f-a006-5cb432f4ea71",
   "metadata": {},
   "outputs": [],
   "source": [
    "baseline_smote.fit(X_train, y_train)"
   ]
  },
  {
   "cell_type": "code",
   "execution_count": null,
   "id": "77f7b31b-feb6-4a83-b376-651424b7122e",
   "metadata": {},
   "outputs": [],
   "source": [
    "#scoring the model\n",
    "f1_score(baseline_smote.predict(X_train), y_train)"
   ]
  },
  {
   "cell_type": "code",
   "execution_count": null,
   "id": "cb1ef2dc-7453-404f-919b-ef06979296be",
   "metadata": {},
   "outputs": [],
   "source": [
    "# checking cross val scores\n",
    "modeling.report(baseline_smote, X_train, y_train, 'LR SMOTE ', 'Log Reg, mm, weapon flag')"
   ]
  },
  {
   "cell_type": "code",
   "execution_count": null,
   "id": "e8fad4cc-08e3-4b09-9d0f-bebee3cfaf2d",
   "metadata": {},
   "outputs": [],
   "source": [
    "modeling.history"
   ]
  },
  {
   "cell_type": "code",
   "execution_count": null,
   "id": "235fef11-c381-43cb-9c62-ae17c03cbfc5",
   "metadata": {},
   "outputs": [],
   "source": [
    "f.subsplit_test(X_train, y_train, baseline_smote)"
   ]
  },
  {
   "cell_type": "markdown",
   "id": "1f20061d-79ed-4d54-8092-14053d33a793",
   "metadata": {},
   "source": [
    "## Binarizing Initial Call Type\n",
    "0 = no call information provided."
   ]
  },
  {
   "cell_type": "code",
   "execution_count": null,
   "id": "fc3c0b6b-36ac-469e-9280-c2a8110e8539",
   "metadata": {},
   "outputs": [],
   "source": [
    "df['Initial Call Bin'] = df['Initial Call Type'].copy()"
   ]
  },
  {
   "cell_type": "code",
   "execution_count": null,
   "id": "a2c5b39d-9cc2-4d1e-b604-cc8ec4d4b7cd",
   "metadata": {},
   "outputs": [],
   "source": [
    "df['Initial Call Bin'] = df['Initial Call Bin'].replace('NA', 0)\n",
    "df['Initial Call Bin'] = df['Initial Call Bin'].map(lambda x: 1 if x!=0 else 0)"
   ]
  },
  {
   "cell_type": "code",
   "execution_count": null,
   "id": "9b9f9a63-91d9-4efc-8638-eaf821b82384",
   "metadata": {},
   "outputs": [],
   "source": [
    "df['Initial Call Bin'].value_counts()"
   ]
  },
  {
   "cell_type": "code",
   "execution_count": null,
   "id": "b1f2c918-5a9c-4dee-b0bd-b301f3b23043",
   "metadata": {},
   "outputs": [],
   "source": [
    "excluded = ['Officer ID','Final Call Type', 'Frisk Flag','Weapon Flag', \n",
    "             'Reported Year', 'Reported Month','Day of Month',\n",
    "             'Day of Week', 'Reported Hour', 'Beat Flag', 'Officer Age',\n",
    "            'Racial Affinity', 'Gender Affinity', 'Weapon Bins', 'Initial Call Type']"
   ]
  },
  {
   "cell_type": "code",
   "execution_count": null,
   "id": "a5e689ee-7f16-44ce-a4c7-1c82b412af05",
   "metadata": {},
   "outputs": [],
   "source": [
    "ICB_df = f.framer(df, [], excluded)"
   ]
  },
  {
   "cell_type": "code",
   "execution_count": null,
   "id": "df2d6dde-9dc6-497d-9184-332b0703c1df",
   "metadata": {},
   "outputs": [],
   "source": [
    "ICB_df.head(2)"
   ]
  },
  {
   "cell_type": "code",
   "execution_count": null,
   "id": "4a16fbb7-d35a-488e-bc73-d3d53bcb5836",
   "metadata": {},
   "outputs": [],
   "source": [
    "X, y = f.Xy(ICB_df)"
   ]
  },
  {
   "cell_type": "code",
   "execution_count": null,
   "id": "919068e8-feb0-49c3-81f2-ba6e02967a34",
   "metadata": {},
   "outputs": [],
   "source": [
    "X_train, X_test, y_train, y_test = f.splitter(X,y)"
   ]
  },
  {
   "cell_type": "code",
   "execution_count": null,
   "id": "1889830c-8588-4d6b-a8bd-68dc495d9b79",
   "metadata": {},
   "outputs": [],
   "source": [
    "baseline_smote.fit(X_train, y_train)"
   ]
  },
  {
   "cell_type": "code",
   "execution_count": null,
   "id": "6e2751fd-4646-4815-ae7c-5000ec5dc43c",
   "metadata": {},
   "outputs": [],
   "source": [
    "#scoring the model\n",
    "f1_score(baseline_smote.predict(X_train), y_train)"
   ]
  },
  {
   "cell_type": "code",
   "execution_count": null,
   "id": "0ea7f118-2364-4d35-8863-a4840bff68bc",
   "metadata": {},
   "outputs": [],
   "source": [
    "# checking cross val scores\n",
    "modeling.report(baseline_smote, X_train, y_train, 'LR SMOTE ', 'Log Reg, mm, Initial Call Binary')"
   ]
  },
  {
   "cell_type": "code",
   "execution_count": null,
   "id": "457b36f7-6137-4b69-9d90-86106ba2320f",
   "metadata": {},
   "outputs": [],
   "source": [
    "modeling.history"
   ]
  },
  {
   "cell_type": "code",
   "execution_count": null,
   "id": "3bdbb3aa-d623-4f7e-a495-c4a090580b6c",
   "metadata": {},
   "outputs": [],
   "source": [
    "f.subsplit_test(X_train, y_train, baseline_smote)"
   ]
  },
  {
   "cell_type": "markdown",
   "id": "d16e36dd-4cde-463e-84f9-102109e0f9db",
   "metadata": {},
   "source": [
    "## Binning Call Types"
   ]
  },
  {
   "cell_type": "code",
   "execution_count": null,
   "id": "c0884b90-792f-45e2-940e-007dadbf1b87",
   "metadata": {},
   "outputs": [],
   "source": [
    "types = df['Call Type'].unique()"
   ]
  },
  {
   "cell_type": "code",
   "execution_count": null,
   "id": "106f0e4a-e534-43da-b67b-f85f772c58ef",
   "metadata": {},
   "outputs": [],
   "source": [
    "replace_list = [x for x in types if (x!='911') and (x!='ONVIEW')]"
   ]
  },
  {
   "cell_type": "code",
   "execution_count": null,
   "id": "86be591f-9f47-4af4-8ac8-424d67917226",
   "metadata": {},
   "outputs": [],
   "source": [
    "df['Call Type Bins'] = df['Call Type'].copy()"
   ]
  },
  {
   "cell_type": "code",
   "execution_count": null,
   "id": "f0e0a5a1-560b-4203-9f11-b1cedc4267fa",
   "metadata": {},
   "outputs": [],
   "source": [
    "df['Call Type Bins'] = df['Call Type Bins'].replace(replace_list, 'OTHER')"
   ]
  },
  {
   "cell_type": "code",
   "execution_count": null,
   "id": "9ed63c29-f3ef-4129-855f-04af359d838f",
   "metadata": {},
   "outputs": [],
   "source": [
    "df['Call Type Bins'].value_counts(normalize=True)"
   ]
  },
  {
   "cell_type": "code",
   "execution_count": null,
   "id": "b22445d5-7342-48b3-b9b3-c442c6dda886",
   "metadata": {},
   "outputs": [],
   "source": [
    "df.info()"
   ]
  },
  {
   "cell_type": "code",
   "execution_count": null,
   "id": "c48172a6-50ce-41f8-ac5f-9bf97ab838ba",
   "metadata": {},
   "outputs": [],
   "source": [
    "excluded = ['Officer ID','Final Call Type', 'Frisk Flag','Weapon Flag', \n",
    "             'Reported Year', 'Reported Month','Day of Month',\n",
    "             'Day of Week', 'Reported Hour', 'Beat Flag', 'Officer Age',\n",
    "            'Racial Affinity', 'Gender Affinity', 'Weapon Bins', \n",
    "            'Initial Call Bin','Call Type']"
   ]
  },
  {
   "cell_type": "code",
   "execution_count": null,
   "id": "ee5f8706-f5f1-4d18-8785-a0f1dd80500f",
   "metadata": {},
   "outputs": [],
   "source": [
    "BCT_df = f.framer(df, [], excluded)"
   ]
  },
  {
   "cell_type": "code",
   "execution_count": null,
   "id": "fa2474f8-904c-4ea2-9908-66a556be1518",
   "metadata": {},
   "outputs": [],
   "source": [
    "BCT_df.head(2)"
   ]
  },
  {
   "cell_type": "code",
   "execution_count": null,
   "id": "93eb492b-c437-4d6e-8acb-7c59665f60d5",
   "metadata": {},
   "outputs": [],
   "source": [
    "X, y = f.Xy(BCT_df)"
   ]
  },
  {
   "cell_type": "code",
   "execution_count": null,
   "id": "3189a338-84a9-41a3-8dc4-50c4faabe839",
   "metadata": {},
   "outputs": [],
   "source": [
    "X_train, X_test, y_train, y_test = f.splitter(X,y)"
   ]
  },
  {
   "cell_type": "code",
   "execution_count": null,
   "id": "403f6f75-65c1-43b6-aaba-0b939a184577",
   "metadata": {},
   "outputs": [],
   "source": [
    "baseline_smote.fit(X_train, y_train)"
   ]
  },
  {
   "cell_type": "code",
   "execution_count": null,
   "id": "a3960d9a-4213-413d-aeb7-a599b93d2bcc",
   "metadata": {},
   "outputs": [],
   "source": [
    "#scoring the model\n",
    "f1_score(baseline_smote.predict(X_train), y_train)"
   ]
  },
  {
   "cell_type": "code",
   "execution_count": null,
   "id": "242567e4-9245-4b48-b326-7e6b815e3eed",
   "metadata": {},
   "outputs": [],
   "source": [
    "# checking cross val scores\n",
    "modeling.report(baseline_smote, X_train, y_train, 'LR SMOTE ', 'Log Reg, mm, call type bins')"
   ]
  },
  {
   "cell_type": "code",
   "execution_count": null,
   "id": "a836a68e-4625-47b2-b8af-2dc88623d335",
   "metadata": {},
   "outputs": [],
   "source": [
    "modeling.history"
   ]
  },
  {
   "cell_type": "code",
   "execution_count": null,
   "id": "52099945-f1b2-4b08-9330-224188a3af17",
   "metadata": {},
   "outputs": [],
   "source": [
    "f.subsplit_test(X_train, y_train, baseline_smote)"
   ]
  },
  {
   "cell_type": "markdown",
   "id": "07ca32d4-b22e-4da6-8d4d-5ea22aa5f004",
   "metadata": {},
   "source": [
    "## Binning the Squad Data\n",
    "The squads look like they can be binned into precinct goups and a training group."
   ]
  },
  {
   "cell_type": "code",
   "execution_count": null,
   "id": "723f2c7b-cd95-41df-a09b-9878a89b9e8e",
   "metadata": {},
   "outputs": [],
   "source": [
    "df['Officer Squad Bins'] = df['Officer Squad'].copy()"
   ]
  },
  {
   "cell_type": "code",
   "execution_count": null,
   "id": "ba022505-8b52-49ab-8cc8-a62640eea254",
   "metadata": {},
   "outputs": [],
   "source": [
    "df['Officer Squad Bins'] = df['Officer Squad Bins'].map(lambda x: x[0])"
   ]
  },
  {
   "cell_type": "code",
   "execution_count": null,
   "id": "8521236f-115f-4215-8146-af5f649ead66",
   "metadata": {},
   "outputs": [],
   "source": [
    "df['Officer Squad Bins'].value_counts(normalize=True)"
   ]
  },
  {
   "cell_type": "code",
   "execution_count": null,
   "id": "492449a5-fb32-4f26-979f-69b967a28076",
   "metadata": {
    "tags": []
   },
   "outputs": [],
   "source": [
    "proportions = df['Officer Squad Bins'].value_counts(normalize=True)\n",
    "cutoff_idx = proportions.loc[proportions < .02].index\n",
    "for i in cutoff_idx:\n",
    "    df['Officer Squad Bins'].replace(i, 'OTHER', inplace=True)"
   ]
  },
  {
   "cell_type": "code",
   "execution_count": null,
   "id": "2e1107db-0e21-464f-b132-0b33ce520c66",
   "metadata": {},
   "outputs": [],
   "source": [
    "df['Officer Squad Bins'].value_counts()"
   ]
  },
  {
   "cell_type": "code",
   "execution_count": null,
   "id": "aedb04f6-07e9-45df-baae-015c4542ba85",
   "metadata": {},
   "outputs": [],
   "source": [
    "excluded = ['Officer ID','Final Call Type', 'Frisk Flag','Weapon Flag', \n",
    "             'Reported Year', 'Reported Month','Day of Month',\n",
    "             'Day of Week', 'Reported Hour', 'Beat Flag', 'Officer Age',\n",
    "            'Racial Affinity', 'Gender Affinity', 'Weapon Bins', \n",
    "            'Initial Call Bin','Call Type Bins', 'Officer Squad']"
   ]
  },
  {
   "cell_type": "code",
   "execution_count": null,
   "id": "2d689efc-ba33-4b7e-bce6-f9c6d125c4aa",
   "metadata": {},
   "outputs": [],
   "source": [
    "BSQ_df = f.framer(df, [], excluded)"
   ]
  },
  {
   "cell_type": "code",
   "execution_count": null,
   "id": "23b738a4-ceb8-4af2-9fbb-6ea6680975ca",
   "metadata": {},
   "outputs": [],
   "source": [
    "BSQ_df.head(2)"
   ]
  },
  {
   "cell_type": "code",
   "execution_count": null,
   "id": "34808816-a3dc-486f-8556-b79e394fb2e7",
   "metadata": {},
   "outputs": [],
   "source": [
    "X, y = f.Xy(BSQ_df)"
   ]
  },
  {
   "cell_type": "code",
   "execution_count": null,
   "id": "4112b517-64a0-4c34-a357-cd57c2a67627",
   "metadata": {},
   "outputs": [],
   "source": [
    "X_train, X_test, y_train, y_test = f.splitter(X,y)"
   ]
  },
  {
   "cell_type": "code",
   "execution_count": null,
   "id": "a3f5cc94-3d33-44ab-a8cc-c9609e2e55dc",
   "metadata": {},
   "outputs": [],
   "source": [
    "baseline_smote.fit(X_train, y_train)"
   ]
  },
  {
   "cell_type": "code",
   "execution_count": null,
   "id": "16594789-f494-467c-a6ec-702ee984f9da",
   "metadata": {},
   "outputs": [],
   "source": [
    "#scoring the model\n",
    "f1_score(baseline_smote.predict(X_train), y_train)"
   ]
  },
  {
   "cell_type": "code",
   "execution_count": null,
   "id": "d67e7a33-697f-4137-a498-21042f4c2a55",
   "metadata": {},
   "outputs": [],
   "source": [
    "# checking cross val scores\n",
    "modeling.report(baseline_smote, X_train, y_train, 'LR SMOTE', 'Log Reg, mm, Squad Bins')"
   ]
  },
  {
   "cell_type": "code",
   "execution_count": null,
   "id": "c4b45a2f-dddb-4f7d-9c32-598d0e0de5e4",
   "metadata": {},
   "outputs": [],
   "source": [
    "modeling.history"
   ]
  },
  {
   "cell_type": "code",
   "execution_count": null,
   "id": "34ab5b3e-dbff-4943-89f5-e7a293055bc6",
   "metadata": {},
   "outputs": [],
   "source": [
    "f.subsplit_test(X_train, y_train, baseline_smote)"
   ]
  },
  {
   "cell_type": "markdown",
   "id": "96502869-3165-4601-b85d-e0638f851da4",
   "metadata": {},
   "source": [
    "## Binning Officer Race"
   ]
  },
  {
   "cell_type": "code",
   "execution_count": null,
   "id": "90d8fb74-f707-4385-862e-93ebafac654f",
   "metadata": {},
   "outputs": [],
   "source": [
    "df['Officer Race Bins'] = df['Officer Race'].copy()"
   ]
  },
  {
   "cell_type": "code",
   "execution_count": null,
   "id": "8d901c28-1571-47cb-8653-537fcae8d766",
   "metadata": {},
   "outputs": [],
   "source": [
    "df['Officer Race Bins'].replace('White', 1, inplace=True)"
   ]
  },
  {
   "cell_type": "code",
   "execution_count": null,
   "id": "eb8f6497-0858-4889-80f0-48f6449552c2",
   "metadata": {},
   "outputs": [],
   "source": [
    "df['Officer Race Bins'] = df['Officer Race Bins'].apply(lambda x: 0 if x!=1 else 1)"
   ]
  },
  {
   "cell_type": "code",
   "execution_count": null,
   "id": "dc32fb0d-826e-46d8-b737-e4c0a9303fd5",
   "metadata": {},
   "outputs": [],
   "source": [
    "df['Officer Race Bins'].value_counts()"
   ]
  },
  {
   "cell_type": "code",
   "execution_count": null,
   "id": "7bf5ba43-5ce0-4a3f-be2f-0d702fe45b5a",
   "metadata": {},
   "outputs": [],
   "source": [
    "excluded = ['Officer ID','Final Call Type', 'Frisk Flag','Weapon Flag', \n",
    "             'Reported Year', 'Reported Month','Day of Month',\n",
    "             'Day of Week', 'Reported Hour', 'Beat Flag', 'Officer Age',\n",
    "            'Racial Affinity', 'Gender Affinity', 'Weapon Bins', \n",
    "            'Initial Call Bin','Call Type Bins', 'Officer Squad Bins',\n",
    "            'Officer Race']"
   ]
  },
  {
   "cell_type": "code",
   "execution_count": null,
   "id": "b043feba-b9ac-48c1-980d-4957cac57ce0",
   "metadata": {},
   "outputs": [],
   "source": [
    "ORB_df = f.framer(df, [], excluded)"
   ]
  },
  {
   "cell_type": "code",
   "execution_count": null,
   "id": "6980d7e9-68fa-4d52-af6a-da8265207d64",
   "metadata": {},
   "outputs": [],
   "source": [
    "ORB_df.head(2)"
   ]
  },
  {
   "cell_type": "code",
   "execution_count": null,
   "id": "905ab93c-05d7-4265-8982-554f0f8d7dfa",
   "metadata": {},
   "outputs": [],
   "source": [
    "X, y = f.Xy(ORB_df)"
   ]
  },
  {
   "cell_type": "code",
   "execution_count": null,
   "id": "aa54ef78-f383-4c9a-829b-f2c6f5eb4333",
   "metadata": {},
   "outputs": [],
   "source": [
    "X_train, X_test, y_train, y_test = f.splitter(X,y)"
   ]
  },
  {
   "cell_type": "code",
   "execution_count": null,
   "id": "f3c8876f-2fc4-45cc-b935-f26e82351d38",
   "metadata": {},
   "outputs": [],
   "source": [
    "baseline_smote.fit(X_train, y_train)"
   ]
  },
  {
   "cell_type": "code",
   "execution_count": null,
   "id": "4e368cea-2df8-4b9d-95cd-0d6aff180f93",
   "metadata": {},
   "outputs": [],
   "source": [
    "#scoring the model\n",
    "f1_score(baseline_smote.predict(X_train), y_train)"
   ]
  },
  {
   "cell_type": "code",
   "execution_count": null,
   "id": "6c3ee74c-61d7-42bc-a0ba-0472933d3649",
   "metadata": {},
   "outputs": [],
   "source": [
    "# checking cross val scores\n",
    "modeling.report(baseline_smote, X_train, y_train, 'LR SMOTE', 'Log Reg, mm, Officer Race Bins')"
   ]
  },
  {
   "cell_type": "code",
   "execution_count": null,
   "id": "d5a97897-b722-44db-a279-ad0eadb87483",
   "metadata": {},
   "outputs": [],
   "source": [
    "modeling.history"
   ]
  },
  {
   "cell_type": "code",
   "execution_count": null,
   "id": "60c6ff4b-c9f4-4754-80c0-9e347f8e1598",
   "metadata": {},
   "outputs": [],
   "source": [
    "f.subsplit_test(X_train, y_train, baseline_smote)"
   ]
  },
  {
   "cell_type": "markdown",
   "id": "fae8c0a3-b7b3-4669-b878-18db7e9b1aa7",
   "metadata": {},
   "source": [
    "## Testing Dropping Nulls\n",
    "Droppin Subject Race Nulls"
   ]
  },
  {
   "cell_type": "code",
   "execution_count": null,
   "id": "2217128f-e9d1-46ec-857d-974ac9a909cc",
   "metadata": {},
   "outputs": [],
   "source": [
    "dropd = df[(df['Subject Perceived Race']!='NA')]"
   ]
  },
  {
   "cell_type": "code",
   "execution_count": null,
   "id": "b5ae4922-a24a-4162-86d9-e0cedd201746",
   "metadata": {},
   "outputs": [],
   "source": [
    "# features engineered during eda\n",
    "feature_list = ['Weapon Flag', 'Reported Year', 'Reported Month',\n",
    "                'Day of Month', 'Day of Week', 'Reported Hour', 'Beat Flag']"
   ]
  },
  {
   "cell_type": "code",
   "execution_count": null,
   "id": "589dda43-4874-42b1-808e-8547131e85ed",
   "metadata": {},
   "outputs": [],
   "source": [
    "excluded = ['Officer ID','Frisk Flag','Weapon Flag', 'Final Call Type',\n",
    "             'Reported Year', 'Reported Month','Day of Month',\n",
    "             'Day of Week', 'Reported Hour', 'Beat Flag', 'Racial Affinity',\n",
    "            'Gender Affinity', 'Officer Age']"
   ]
  },
  {
   "cell_type": "code",
   "execution_count": null,
   "id": "06e5f4c2-2285-4bc8-9e43-4905e62fa11c",
   "metadata": {},
   "outputs": [],
   "source": [
    "df_4 = f.framer(dropd, [], excluded)"
   ]
  },
  {
   "cell_type": "code",
   "execution_count": null,
   "id": "bff84af5-a40c-4d91-b1b4-69672fb58794",
   "metadata": {},
   "outputs": [],
   "source": [
    "df_4.head()"
   ]
  },
  {
   "cell_type": "code",
   "execution_count": null,
   "id": "89e078af-d96e-43a7-93fd-732f53cd8820",
   "metadata": {},
   "outputs": [],
   "source": [
    "X, y = f.Xy(df_4)"
   ]
  },
  {
   "cell_type": "code",
   "execution_count": null,
   "id": "f90de63c-a9d3-43b4-8735-a75c4510483e",
   "metadata": {},
   "outputs": [],
   "source": [
    "X_train, X_test, y_train, y_test = f.splitter(X,y)"
   ]
  },
  {
   "cell_type": "code",
   "execution_count": null,
   "id": "9b27301f-ff35-48f5-8731-8c4579389812",
   "metadata": {},
   "outputs": [],
   "source": [
    "baseline_smote.fit(X_train, y_train)"
   ]
  },
  {
   "cell_type": "code",
   "execution_count": null,
   "id": "d782a584-2c41-49a5-b6c4-69a28c2f6ca4",
   "metadata": {},
   "outputs": [],
   "source": [
    "#scoring the model\n",
    "f1_score(baseline_smote.predict(X_train), y_train)"
   ]
  },
  {
   "cell_type": "code",
   "execution_count": null,
   "id": "16c823b8-6b71-4ffa-bd1a-99517d2e8def",
   "metadata": {},
   "outputs": [],
   "source": [
    "# checking cross val scores\n",
    "modeling.report(baseline_smote, X_train, y_train, 'LR SMOTE New Age, Race, Gender Features', 'Dropped Subject Race NA')"
   ]
  },
  {
   "cell_type": "code",
   "execution_count": null,
   "id": "e201f850-ec4b-4073-9c1d-5280ad8c3d9d",
   "metadata": {},
   "outputs": [],
   "source": [
    "modeling.history"
   ]
  },
  {
   "cell_type": "markdown",
   "id": "f3b4fa38-b75a-4c9c-8d26-d323774bbec0",
   "metadata": {},
   "source": [
    "## Dropping Officer Race Nulls"
   ]
  },
  {
   "cell_type": "code",
   "execution_count": null,
   "id": "4b54af27-eaf6-4fa5-9419-b1b91c1aa352",
   "metadata": {},
   "outputs": [],
   "source": [
    "dropd2 = df[(df['Subject Perceived Race']!='NA') &\\\n",
    "           (df['Officer Race']!='NA')]"
   ]
  },
  {
   "cell_type": "code",
   "execution_count": null,
   "id": "0e1ab006-73f2-4990-9634-6a728ff637f0",
   "metadata": {},
   "outputs": [],
   "source": [
    "# features engineered during eda\n",
    "feature_list = ['Weapon Flag', 'Reported Year', 'Reported Month',\n",
    "                'Day of Month', 'Day of Week', 'Reported Hour', 'Beat Flag']"
   ]
  },
  {
   "cell_type": "code",
   "execution_count": null,
   "id": "9934739e-a753-4dbe-87b6-e3343d9ffcb4",
   "metadata": {},
   "outputs": [],
   "source": [
    "excluded = ['Officer ID','Frisk Flag','Weapon Flag', 'Final Call Type',\n",
    "             'Reported Year', 'Reported Month','Day of Month',\n",
    "             'Day of Week', 'Reported Hour', 'Beat Flag', 'Racial Affinity',\n",
    "            'Gender Affinity', 'Officer Age']"
   ]
  },
  {
   "cell_type": "code",
   "execution_count": null,
   "id": "0f8ae42e-e736-4caa-93e8-50d062c67582",
   "metadata": {},
   "outputs": [],
   "source": [
    "df_5 = f.framer(dropd2, [], excluded)"
   ]
  },
  {
   "cell_type": "code",
   "execution_count": null,
   "id": "7ceb4039-b20b-45d7-9627-9ab99cdaeff1",
   "metadata": {},
   "outputs": [],
   "source": [
    "df_5.head(2)"
   ]
  },
  {
   "cell_type": "code",
   "execution_count": null,
   "id": "2f3b70e6-c7e4-43c6-b43c-994950f3ae6b",
   "metadata": {},
   "outputs": [],
   "source": [
    "df_5.info()"
   ]
  },
  {
   "cell_type": "code",
   "execution_count": null,
   "id": "d8972502-7f9c-403a-be4d-da8c2e10c7b6",
   "metadata": {},
   "outputs": [],
   "source": [
    "X, y = f.Xy(df_5)"
   ]
  },
  {
   "cell_type": "code",
   "execution_count": null,
   "id": "b751967b-da61-4775-af64-278c8afa527e",
   "metadata": {},
   "outputs": [],
   "source": [
    "X_train, X_test, y_train, y_test = f.splitter(X,y)"
   ]
  },
  {
   "cell_type": "code",
   "execution_count": null,
   "id": "50ec89d5-e0a3-4644-b910-c43a6171ed81",
   "metadata": {},
   "outputs": [],
   "source": [
    "baseline_smote.fit(X_train, y_train)"
   ]
  },
  {
   "cell_type": "code",
   "execution_count": null,
   "id": "0328ac6e-d245-4eae-b288-0ac1716fdb5a",
   "metadata": {},
   "outputs": [],
   "source": [
    "#scoring the model\n",
    "f1_score(baseline_smote.predict(X_train), y_train)"
   ]
  },
  {
   "cell_type": "code",
   "execution_count": null,
   "id": "7a7920a6-3cc0-4127-b443-168bdbdbdff3",
   "metadata": {},
   "outputs": [],
   "source": [
    "# checking cross val scores\n",
    "modeling.report(baseline_smote, X_train, y_train, 'LR SMOTE New Age, Race, Gender Features', 'Drpd S Race, O Race NA')"
   ]
  },
  {
   "cell_type": "code",
   "execution_count": null,
   "id": "f2ab38c2-38f9-47d2-9c11-bc1f3ebef749",
   "metadata": {},
   "outputs": [],
   "source": [
    "modeling.history"
   ]
  },
  {
   "cell_type": "markdown",
   "id": "162d61fa-d731-4b6a-b804-2915aac010bb",
   "metadata": {},
   "source": [
    "## Dropping Subject Age Nulls"
   ]
  },
  {
   "cell_type": "code",
   "execution_count": null,
   "id": "56c56db4-9262-4987-819f-f02334bef844",
   "metadata": {},
   "outputs": [],
   "source": [
    "dropd3 = df[(df['Subject Perceived Race']!='NA') &\\\n",
    "            (df['Officer Race']!='NA')&\\\n",
    "            (df['Subject Age Group']!='NA')]"
   ]
  },
  {
   "cell_type": "code",
   "execution_count": null,
   "id": "c7e1439f-1c66-4e3d-8d14-d47117513f87",
   "metadata": {},
   "outputs": [],
   "source": [
    "# features engineered during eda\n",
    "feature_list = ['Weapon Flag', 'Reported Year', 'Reported Month',\n",
    "                'Day of Month', 'Day of Week', 'Reported Hour', 'Beat Flag']"
   ]
  },
  {
   "cell_type": "code",
   "execution_count": null,
   "id": "eb75d01c-8841-4657-8e9b-21b516be1ca6",
   "metadata": {},
   "outputs": [],
   "source": [
    "excluded = ['Officer ID','Frisk Flag','Weapon Flag', 'Final Call Type',\n",
    "             'Reported Year', 'Reported Month','Day of Month',\n",
    "             'Day of Week', 'Reported Hour', 'Beat Flag', 'Racial Affinity',\n",
    "            'Gender Affinity', 'Officer Age']"
   ]
  },
  {
   "cell_type": "code",
   "execution_count": null,
   "id": "85406180-20ea-4bd9-957e-78d8d3335746",
   "metadata": {},
   "outputs": [],
   "source": [
    "df_6 = f.framer(dropd3, [], excluded)"
   ]
  },
  {
   "cell_type": "code",
   "execution_count": null,
   "id": "c9c0749e-9254-456f-871d-bbf98e702612",
   "metadata": {},
   "outputs": [],
   "source": [
    "df_6.head(2)"
   ]
  },
  {
   "cell_type": "code",
   "execution_count": null,
   "id": "11f479f7-4580-411c-9245-11a65d78c160",
   "metadata": {},
   "outputs": [],
   "source": [
    "df_6.info()"
   ]
  },
  {
   "cell_type": "code",
   "execution_count": null,
   "id": "b034c192-01f4-42a1-87fd-a909d036555f",
   "metadata": {},
   "outputs": [],
   "source": [
    "X, y = f.Xy(df_6)"
   ]
  },
  {
   "cell_type": "code",
   "execution_count": null,
   "id": "ad71f114-bc1e-4e08-86bb-08c5bddced0a",
   "metadata": {},
   "outputs": [],
   "source": [
    "X_train, X_test, y_train, y_test = f.splitter(X,y)"
   ]
  },
  {
   "cell_type": "code",
   "execution_count": null,
   "id": "3a1c3490-b387-4915-9325-bec384219c73",
   "metadata": {},
   "outputs": [],
   "source": [
    "baseline_smote.fit(X_train, y_train)"
   ]
  },
  {
   "cell_type": "code",
   "execution_count": null,
   "id": "529df46c-0093-4ba3-92ba-2fc82e81de95",
   "metadata": {},
   "outputs": [],
   "source": [
    "#scoring the model\n",
    "f1_score(baseline_smote.predict(X_train), y_train)"
   ]
  },
  {
   "cell_type": "code",
   "execution_count": null,
   "id": "2d34fd8e-6708-4dbf-b5f3-87b996ee2944",
   "metadata": {},
   "outputs": [],
   "source": [
    "# checking cross val scores\n",
    "modeling.report(baseline_smote, X_train, y_train,\\\n",
    "                'LR SMOTE Dpd Nulls S Race, O Race NA, S Age')"
   ]
  },
  {
   "cell_type": "code",
   "execution_count": null,
   "id": "d55b2dad-0277-4c38-a059-5feffb2724e5",
   "metadata": {},
   "outputs": [],
   "source": [
    "modeling.history"
   ]
  },
  {
   "cell_type": "markdown",
   "id": "dd4d71f8-2525-4ee3-b96a-2bbcb261e867",
   "metadata": {},
   "source": [
    "## Testing of all features"
   ]
  },
  {
   "cell_type": "code",
   "execution_count": null,
   "id": "a37e3361-663b-468f-adc8-5998f7e75030",
   "metadata": {},
   "outputs": [],
   "source": [
    "dropd3 = df[(df['Subject Perceived Race']!='NA') &\\\n",
    "            (df['Officer Race']!='NA')&\\\n",
    "            (df['Subject Age Group']!='NA')]"
   ]
  },
  {
   "cell_type": "code",
   "execution_count": null,
   "id": "2e33ec1f-9f1b-4824-95ae-3819121e9df6",
   "metadata": {},
   "outputs": [],
   "source": [
    "# features engineered during eda\n",
    "feature_list = ['Weapon Flag', 'Reported Year', 'Reported Month',\n",
    "                'Day of Month', 'Day of Week', 'Reported Hour']"
   ]
  },
  {
   "cell_type": "code",
   "execution_count": null,
   "id": "cad02e4f-a382-40c1-8afe-ba62a0e958c4",
   "metadata": {},
   "outputs": [],
   "source": [
    "excluded = ['Officer ID','Frisk Flag','Weapon Flag', 'Final Call Type',\n",
    "             'Reported Year', 'Reported Month','Day of Month',\n",
    "             'Day of Week', 'Reported Hour']"
   ]
  },
  {
   "cell_type": "code",
   "execution_count": null,
   "id": "b5e38c4a-42ba-4b17-a1f7-86f20542396e",
   "metadata": {},
   "outputs": [],
   "source": [
    "df_6 = f.framer(dropd3, [], excluded)"
   ]
  },
  {
   "cell_type": "code",
   "execution_count": null,
   "id": "9e0ea88c-7c2b-4d9c-a15f-f1069690aae1",
   "metadata": {},
   "outputs": [],
   "source": [
    "df_6.head(2)"
   ]
  },
  {
   "cell_type": "code",
   "execution_count": null,
   "id": "78645763-ef39-46ee-a4d8-cb455085b04b",
   "metadata": {},
   "outputs": [],
   "source": [
    "df_6.info()"
   ]
  },
  {
   "cell_type": "code",
   "execution_count": null,
   "id": "c20c6e91-9306-499d-96a3-6b40d031caa7",
   "metadata": {},
   "outputs": [],
   "source": [
    "X, y = f.Xy(df_6)"
   ]
  },
  {
   "cell_type": "code",
   "execution_count": null,
   "id": "e21398d4-7b0e-41f5-86c8-1fe53e507182",
   "metadata": {},
   "outputs": [],
   "source": [
    "X_train, X_test, y_train, y_test = f.splitter(X,y)"
   ]
  },
  {
   "cell_type": "code",
   "execution_count": null,
   "id": "9996ad1c-f869-4dbc-8a2e-7ceb26d5a8cb",
   "metadata": {},
   "outputs": [],
   "source": [
    "baseline_smote.fit(X_train, y_train)"
   ]
  },
  {
   "cell_type": "code",
   "execution_count": null,
   "id": "d37bd071-d147-468b-b692-a764623b65ab",
   "metadata": {},
   "outputs": [],
   "source": [
    "#scoring the model\n",
    "f1_score(baseline_smote.predict(X_train), y_train)"
   ]
  },
  {
   "cell_type": "code",
   "execution_count": null,
   "id": "f93cec08-0a2c-4252-8141-0e766d38636e",
   "metadata": {},
   "outputs": [],
   "source": [
    "# checking cross val scores\n",
    "modeling.report(baseline_smote, X_train, y_train,\\\n",
    "                'LR SMOTE Dpd Nulls S Race, O Race NA, S Age')"
   ]
  },
  {
   "cell_type": "code",
   "execution_count": null,
   "id": "649ae4c9-f7d7-4f8a-a4e9-911de8298345",
   "metadata": {},
   "outputs": [],
   "source": [
    "modeling.history"
   ]
  },
  {
   "cell_type": "markdown",
   "id": "546d8a2e-f5b7-4e73-baae-93838a1d3a9a",
   "metadata": {},
   "source": [
    "## Testing on Sub-Splits"
   ]
  },
  {
   "cell_type": "code",
   "execution_count": null,
   "id": "ddf1492b-20b4-44ae-a6a4-bb5d425a3a42",
   "metadata": {},
   "outputs": [],
   "source": [
    "Xs_train, Xs_test, ys_train, ys_test = f.splitter(X_train, y_train)"
   ]
  },
  {
   "cell_type": "code",
   "execution_count": null,
   "id": "4da2fea0-2885-418f-98d1-5c48e2537dcf",
   "metadata": {},
   "outputs": [],
   "source": [
    "lr_smote6.fit(Xs_train, ys_train)"
   ]
  },
  {
   "cell_type": "code",
   "execution_count": null,
   "id": "e3e58c31-cb04-430e-b782-c0b00674e921",
   "metadata": {},
   "outputs": [],
   "source": [
    "f1_score(lr_smote6.predict(Xs_train), ys_train)"
   ]
  },
  {
   "cell_type": "code",
   "execution_count": null,
   "id": "c2073c77-c7d4-45d4-aaa5-1ccc701da0df",
   "metadata": {},
   "outputs": [],
   "source": [
    "f1_score(lr_smote6.predict(Xs_test), ys_test)"
   ]
  },
  {
   "cell_type": "code",
   "execution_count": null,
   "id": "630459ac-9525-4861-8452-61bf6b1c93c6",
   "metadata": {},
   "outputs": [],
   "source": [
    "f.confusion(lr_smote6, Xs_train, ys_train)"
   ]
  },
  {
   "cell_type": "code",
   "execution_count": null,
   "id": "72121162-51c4-40f0-ae6f-0184b8ca55df",
   "metadata": {},
   "outputs": [],
   "source": [
    "f.confusion(lr_smote6, Xs_test, ys_test)"
   ]
  },
  {
   "cell_type": "markdown",
   "id": "ffac8965-ce19-40bf-a5a3-14fece86cee6",
   "metadata": {},
   "source": [
    "## Binarizing Final Call Type"
   ]
  },
  {
   "cell_type": "code",
   "execution_count": null,
   "id": "4f08f85c-45e6-4555-a4e3-c13504c3e2c4",
   "metadata": {},
   "outputs": [],
   "source": [
    "df['Final Call Type'] = df['Final Call Type'].replace('NA', 0)\n",
    "df['Final Call Type'] = df['Final Call Type'].map(lambda x: 1 if x!=0 else 0)"
   ]
  },
  {
   "cell_type": "code",
   "execution_count": null,
   "id": "e968dff7-e1a1-45c4-93b5-d9222096647a",
   "metadata": {},
   "outputs": [],
   "source": [
    "df['Final Call Type'].value_counts(normalize=True)"
   ]
  },
  {
   "cell_type": "markdown",
   "id": "0456c77b-3bc6-4709-bd5d-ef4f7426b8ac",
   "metadata": {},
   "source": [
    "## Balanced Class Weights"
   ]
  },
  {
   "cell_type": "code",
   "execution_count": null,
   "id": "e0c711d4-85f7-4acb-ac3d-b15df3ab06e8",
   "metadata": {},
   "outputs": [],
   "source": [
    "LR_bal = LogisticRegression(class_weight='balanced', max_iter=1000)"
   ]
  },
  {
   "cell_type": "code",
   "execution_count": null,
   "id": "4e59abfc-d616-42f4-9dd1-5a9e9de2bf97",
   "metadata": {},
   "outputs": [],
   "source": [
    "lr_smote7 = make_sm_pipeline(preprocessing, sm, LR_bal)"
   ]
  },
  {
   "cell_type": "code",
   "execution_count": null,
   "id": "2acd5b04-cc19-4279-b088-6d76259852c4",
   "metadata": {},
   "outputs": [],
   "source": [
    "lr_smote7.fit(X_train, y_train)"
   ]
  },
  {
   "cell_type": "code",
   "execution_count": null,
   "id": "b6393ce0-e63c-4eaa-a3a7-469d377b89cd",
   "metadata": {},
   "outputs": [],
   "source": [
    "#scoring the model\n",
    "f1_score(lr_smote7.predict(X_train), y_train)"
   ]
  },
  {
   "cell_type": "code",
   "execution_count": null,
   "id": "98af7fc5-1a0e-46c8-ac49-6227a6993bf4",
   "metadata": {},
   "outputs": [],
   "source": [
    "# checking cross val scores\n",
    "modeling.report(lr_smote7, X_train, y_train, 'LR_bal', 'Dpd Nulls S Race, O Race NA, S Age')"
   ]
  },
  {
   "cell_type": "code",
   "execution_count": null,
   "id": "4439fc76-1821-49df-aaae-f38c6caca2b0",
   "metadata": {},
   "outputs": [],
   "source": [
    "modeling.history"
   ]
  },
  {
   "cell_type": "markdown",
   "id": "b3be7593-1c11-468e-bc81-85bbdce2f77d",
   "metadata": {},
   "source": [
    "## Checking C Values"
   ]
  },
  {
   "cell_type": "markdown",
   "id": "501d6661-a30c-452d-ad49-487e3d18604d",
   "metadata": {},
   "source": [
    "## Rough Estimate By Hand"
   ]
  },
  {
   "cell_type": "code",
   "execution_count": null,
   "id": "e8707d41-d6ed-4ba7-9b84-2aa6f0ae9093",
   "metadata": {},
   "outputs": [],
   "source": [
    "# # preprocessing\n",
    "# string_selector = make_column_selector(dtype_include='object')\n",
    "# number_selector = make_column_selector(dtype_include='number', dtype_exclude='object')\n",
    "# preprocessing = make_column_transformer((OneHotEncoder\n",
    "#                                          (handle_unknown='ignore'),string_selector),\n",
    "#                                           (StandardScaler(), number_selector))\n",
    "# # C = [0.001,.009,0.01,.09,1,5,10,25]\n",
    "# C = np.logspace(-3, 3, 7)\n",
    "# for c in C:\n",
    "#     LR_clf = LogisticRegression(class_weight='balanced', C=c, max_iter=1000)\n",
    "#     # make_pipeline from imblearn\n",
    "#     sm = SMOTE(random_state=2021) \n",
    "#     pipeline  = make_sm_pipeline(preprocessing, sm, LR_clf)\n",
    "#     pipeline.fit(X_train, y_train)\n",
    "#     modeling.report(pipeline, X_train, y_train, 'LR_bal', f'C={c}')\n",
    "# f1_score(pipeline.predict(X_train), y_train)"
   ]
  },
  {
   "cell_type": "code",
   "execution_count": null,
   "id": "602ca658-88f8-4277-a7a5-5d7f96531fad",
   "metadata": {},
   "outputs": [],
   "source": [
    "modeling.history"
   ]
  },
  {
   "cell_type": "markdown",
   "id": "1e67d07c-cf9e-4c47-9a6f-aeecab68de0a",
   "metadata": {},
   "source": [
    "## Grid Searching Parameters"
   ]
  },
  {
   "cell_type": "code",
   "execution_count": null,
   "id": "aa0cd39d-881f-49e7-8250-bd4997b7d69f",
   "metadata": {},
   "outputs": [],
   "source": [
    "LR_clf = LogisticRegression(class_weight='balanced', max_iter=1000, random_state=2021)\n",
    "\n",
    "pipeline  = make_sm_pipeline(preprocessing, sm, LR_clf)\n",
    "pipeline.fit(X_train, y_train)\n",
    "\n",
    "C = np.logspace(-3, 3, 7)\n",
    "penalty = ['l1', 'l2']\n",
    "solver = ['liblinear', 'saga']\n",
    "\n",
    "grid_values = {'logisticregression__C':C, \n",
    "               'logisticregression__penalty':penalty,\n",
    "               'logisticregression__solver':solver }\n",
    "\n",
    "grid_clf_f1 = GridSearchCV(pipeline, param_grid = grid_values, n_jobs=-1, scoring = 'f1')\n",
    "grid_clf_f1.fit(X_train, y_train)"
   ]
  },
  {
   "cell_type": "code",
   "execution_count": null,
   "id": "2f4744d9-9ca9-4d2b-945d-bfe5223216d2",
   "metadata": {},
   "outputs": [],
   "source": [
    "print('Best C:', grid_clf_f1.best_estimator_.get_params()['logisticregression__C'])\n",
    "print('Best penalty:', grid_clf_f1.best_estimator_.get_params()['logisticregression__penalty'])\n",
    "print('Best solver:', grid_clf_f1.best_estimator_.get_params()['logisticregression__solver'])"
   ]
  },
  {
   "cell_type": "code",
   "execution_count": null,
   "id": "50b6ef28-c0a4-4d13-a01f-03cbea84bf1a",
   "metadata": {},
   "outputs": [],
   "source": [
    "LR_tuned = LogisticRegression(class_weight='balanced', C=.001,\n",
    "                            solver='liblinear', penalty='l2',\n",
    "                            max_iter=1000, random_state=2021)\n",
    "\n",
    "pipeline  = make_sm_pipeline(preprocessing, sm, LR_tuned)\n",
    "pipeline.fit(X_train, y_train)\n",
    "f1_score(pipeline.predict(X_train), y_train)\n",
    "modeling.report(pipeline, X_train, y_train, 'LR_tuned', 'C=.01, solver=liblinear, penalty=l1')"
   ]
  },
  {
   "cell_type": "code",
   "execution_count": null,
   "id": "829d5cff-9038-4983-8a4e-50520c33abb3",
   "metadata": {},
   "outputs": [],
   "source": [
    "modeling.history"
   ]
  },
  {
   "cell_type": "markdown",
   "id": "71f5de19-b91e-4efb-8a3f-58112c8f43aa",
   "metadata": {},
   "source": [
    "## Testing Tuned Model on Sub-Splits"
   ]
  },
  {
   "cell_type": "code",
   "execution_count": null,
   "id": "93965c98-7c34-4ee9-a1b2-cad95324cba8",
   "metadata": {},
   "outputs": [],
   "source": [
    "Xs_train, Xs_test, ys_train, ys_test = f.splitter(X_train, y_train)"
   ]
  },
  {
   "cell_type": "code",
   "execution_count": null,
   "id": "bea33602-d9af-4fda-b61e-a0b967c0816e",
   "metadata": {},
   "outputs": [],
   "source": [
    "pipeline  = make_sm_pipeline(preprocessing, sm, LR_tuned)\n",
    "pipeline.fit(Xs_train, ys_train)"
   ]
  },
  {
   "cell_type": "code",
   "execution_count": null,
   "id": "8133bf6d-29ce-4fc5-8969-84842778e230",
   "metadata": {},
   "outputs": [],
   "source": [
    "f1_score(pipeline.predict(Xs_train), ys_train)"
   ]
  },
  {
   "cell_type": "code",
   "execution_count": null,
   "id": "afb44e15-9823-4407-84f4-f398514e7754",
   "metadata": {},
   "outputs": [],
   "source": [
    "f1_score(pipeline.predict(Xs_test), ys_test)"
   ]
  },
  {
   "cell_type": "code",
   "execution_count": null,
   "id": "03f3169e-5bc7-404d-8185-823e4df45b64",
   "metadata": {},
   "outputs": [],
   "source": [
    "f.confusion(pipeline, Xs_train, ys_train)"
   ]
  },
  {
   "cell_type": "code",
   "execution_count": null,
   "id": "06c436ab-7ff5-40f2-9afc-c9e48005f1fe",
   "metadata": {},
   "outputs": [],
   "source": [
    "f.confusion(pipeline, Xs_test, ys_test)"
   ]
  },
  {
   "cell_type": "markdown",
   "id": "4a862a8b-72c6-4e7f-a589-b47e6a4ed0e9",
   "metadata": {},
   "source": [
    "## Adding Polynomial Features"
   ]
  },
  {
   "cell_type": "code",
   "execution_count": null,
   "id": "f6ced270-4431-4f80-a4e0-715a783dc449",
   "metadata": {},
   "outputs": [],
   "source": [
    "preprocessing2 = make_column_transformer((PolynomialFeatures(degree=5, interaction_only=True), number_selector),\n",
    "                                         (OneHotEncoder(handle_unknown='ignore'),string_selector),\n",
    "                                          (StandardScaler(), number_selector))"
   ]
  },
  {
   "cell_type": "code",
   "execution_count": null,
   "id": "e00afce7-31a7-4364-bca2-7bf3fed95395",
   "metadata": {},
   "outputs": [],
   "source": [
    "preprocessing2.fit_transform(X_train);"
   ]
  },
  {
   "cell_type": "code",
   "execution_count": null,
   "id": "d64e035b-7141-4496-a510-ff1d2eb90fcd",
   "metadata": {},
   "outputs": [],
   "source": [
    "lr_poly = make_sm_pipeline(preprocessing2, sm, LR_tuned)"
   ]
  },
  {
   "cell_type": "code",
   "execution_count": null,
   "id": "095bdc90-f2e2-4a53-b00d-57d6580437e1",
   "metadata": {},
   "outputs": [],
   "source": [
    "lr_poly.fit(X_train, y_train)"
   ]
  },
  {
   "cell_type": "code",
   "execution_count": null,
   "id": "3b4fbc61-935b-4b03-85d6-96f4305e6c13",
   "metadata": {},
   "outputs": [],
   "source": [
    "f1_score(lr_poly.predict(X_train), y_train)"
   ]
  },
  {
   "cell_type": "code",
   "execution_count": null,
   "id": "17e0ba38-d319-4db1-95d0-bfa86b147bae",
   "metadata": {},
   "outputs": [],
   "source": [
    "modeling.report(lr_poly, X_train, y_train, 'LR_tuned Poly', 'LR Polys: d=5, interaction_only=True')"
   ]
  },
  {
   "cell_type": "code",
   "execution_count": null,
   "id": "5bf1c83a-6acc-4a73-834f-2ee057e7479c",
   "metadata": {},
   "outputs": [],
   "source": [
    "modeling.history"
   ]
  },
  {
   "cell_type": "markdown",
   "id": "755e6807-210a-400c-a1b7-d860bfabaf98",
   "metadata": {
    "tags": []
   },
   "source": [
    "## Testing Tuned Model on Sub-Splits"
   ]
  },
  {
   "cell_type": "code",
   "execution_count": null,
   "id": "6982aea2-2cf8-4070-90e7-5fed8b0e5c88",
   "metadata": {},
   "outputs": [],
   "source": [
    "Xs_train, Xs_test, ys_train, ys_test = f.splitter(X_train, y_train)"
   ]
  },
  {
   "cell_type": "code",
   "execution_count": null,
   "id": "1ec8a8df-b151-41b5-b9ea-df56a52007e2",
   "metadata": {},
   "outputs": [],
   "source": [
    "pipeline  = make_sm_pipeline(preprocessing2, sm, LR_tuned)\n",
    "pipeline.fit(Xs_train, ys_train)"
   ]
  },
  {
   "cell_type": "code",
   "execution_count": null,
   "id": "bf5fc9c0-87e9-4246-a857-1b6c748b54cf",
   "metadata": {},
   "outputs": [],
   "source": [
    "f1_score(pipeline.predict(Xs_train), ys_train)"
   ]
  },
  {
   "cell_type": "code",
   "execution_count": null,
   "id": "3b2ecb1b-8d18-4d78-8bd8-62d968aee2c4",
   "metadata": {},
   "outputs": [],
   "source": [
    "f1_score(pipeline.predict(Xs_test), ys_test)"
   ]
  },
  {
   "cell_type": "code",
   "execution_count": null,
   "id": "a57bf03f-b27f-477a-a73a-7023e4420ccb",
   "metadata": {},
   "outputs": [],
   "source": [
    "f.confusion(pipeline, Xs_train, ys_train)"
   ]
  },
  {
   "cell_type": "code",
   "execution_count": null,
   "id": "5bb7856b-ad8b-47f9-bcd9-d0ba8ad08706",
   "metadata": {},
   "outputs": [],
   "source": [
    "f.confusion(pipeline, Xs_test, ys_test)"
   ]
  },
  {
   "cell_type": "markdown",
   "id": "4d43847e-4d80-44c8-bd2a-fdb5214a3ed0",
   "metadata": {
    "tags": []
   },
   "source": [
    "## Tuning Polys Model without SMOTE"
   ]
  },
  {
   "cell_type": "code",
   "execution_count": null,
   "id": "b6086603-6379-43b6-9804-78c21e5eb49f",
   "metadata": {},
   "outputs": [],
   "source": [
    "# LR_unbal = LogisticRegression(max_iter=1000, random_state=2021)\n",
    "\n",
    "# pipeline  = make_pipeline(preprocessing2, LR_unbal)\n",
    "# pipeline.fit(X_train, y_train)\n",
    "# f1_score(pipeline.predict(X_train), y_train)\n",
    "# modeling.report(pipeline, X_train, y_train, 'LR_unbal',\n",
    "#                 'polys w/ no smote')"
   ]
  },
  {
   "cell_type": "code",
   "execution_count": null,
   "id": "1bd5dcab-28fb-4535-a86c-f4052e11d482",
   "metadata": {
    "tags": []
   },
   "outputs": [],
   "source": [
    "# C = np.logspace(-3, 3, 7)\n",
    "# penalty = ['l1', 'l2']\n",
    "# solver = ['liblinear', 'saga']\n",
    "# weight = [None, 'balanced']\n",
    "\n",
    "# grid_values = {'logisticregression__C':C, \n",
    "#                'logisticregression__penalty':penalty,\n",
    "#                'logisticregression__solver':solver,\n",
    "#               'logisticregression__class_weight':weight}\n",
    "\n",
    "# grid_clf_f1 = GridSearchCV(pipeline, param_grid = grid_values, n_jobs=-1, verbose=3, scoring = 'f1')\n",
    "# grid_clf_f1.fit(X_train, y_train)"
   ]
  },
  {
   "cell_type": "code",
   "execution_count": null,
   "id": "a96cee46-1f5d-4815-99f9-858d6dcbdb4c",
   "metadata": {
    "tags": []
   },
   "outputs": [],
   "source": [
    "# print('Best C:', grid_clf_f1.best_estimator_.get_params()['logisticregression__C'])\n",
    "# print('Best penalty:', grid_clf_f1.best_estimator_.get_params()['logisticregression__penalty'])\n",
    "# print('Best solver:', grid_clf_f1.best_estimator_.get_params()['logisticregression__solver'])\n",
    "# print('Best class weight:', grid_clf_f1.best_estimator_.get_params()['logisticregression__class_weight'])"
   ]
  },
  {
   "cell_type": "code",
   "execution_count": null,
   "id": "ff352370-7cf7-4292-b383-94cb4a638eb7",
   "metadata": {},
   "outputs": [],
   "source": [
    "# LR_utuned = LogisticRegression(max_iter=1000, C=1, penalty='l1',\n",
    "#                                solver='liblinear',\n",
    "#                                class_weight='balanced',\n",
    "#                                random_state=2021)\n",
    "\n",
    "# pipeline  = make_pipeline(preprocessing2, LR_utuned)\n",
    "# pipeline.fit(X_train, y_train)\n",
    "# f1_score(pipeline.predict(X_train), y_train)\n",
    "# modeling.report(pipeline, X_train, y_train, 'LR_utuned',\n",
    "#                 'tuned w/ no smote')"
   ]
  },
  {
   "cell_type": "code",
   "execution_count": null,
   "id": "b021f3a4-d527-41e5-98f3-b10d208ccc74",
   "metadata": {},
   "outputs": [],
   "source": [
    "# modeling.history"
   ]
  },
  {
   "cell_type": "markdown",
   "id": "e8b2134f-736a-435d-869e-173afb77f19d",
   "metadata": {},
   "source": [
    "## Tuning no SMOTE, No Polys"
   ]
  },
  {
   "cell_type": "code",
   "execution_count": null,
   "id": "1bf68949-97d3-446e-99fc-66f668f1d1d7",
   "metadata": {},
   "outputs": [],
   "source": [
    "# LR_unbal = LogisticRegression(max_iter=1000, random_state=2021)\n",
    "\n",
    "# pipeline  = make_pipeline(preprocessing, LR_unbal)\n",
    "# pipeline.fit(X_train, y_train)\n",
    "# f1_score(pipeline.predict(X_train), y_train)\n",
    "# modeling.report(pipeline, X_train, y_train, 'LR_unbal',\n",
    "#                 'no polys, no smote')"
   ]
  },
  {
   "cell_type": "code",
   "execution_count": null,
   "id": "dfa8c5b6-315b-4a19-8a11-e1674f943018",
   "metadata": {},
   "outputs": [],
   "source": [
    "# C = np.logspace(-3, 3, 7)\n",
    "# penalty = ['l1', 'l2']\n",
    "# solver = ['liblinear', 'saga']\n",
    "# weight = [None, 'balanced']\n",
    "\n",
    "# grid_values = {'logisticregression__C':C, \n",
    "#                'logisticregression__penalty':penalty,\n",
    "#                'logisticregression__solver':solver,\n",
    "#               'logisticregression__class_weight':weight}\n",
    "\n",
    "# grid_clf_f1 = GridSearchCV(pipeline, param_grid = grid_values, scoring = 'f1')\n",
    "# grid_clf_f1.fit(X_train, y_train)"
   ]
  },
  {
   "cell_type": "code",
   "execution_count": null,
   "id": "875b4532-3119-48dd-9c34-04320c79ff18",
   "metadata": {},
   "outputs": [],
   "source": [
    "# print('Best C:', grid_clf_f1.best_estimator_.get_params()['logisticregression__C'])\n",
    "# print('Best penalty:', grid_clf_f1.best_estimator_.get_params()['logisticregression__penalty'])\n",
    "# print('Best solver:', grid_clf_f1.best_estimator_.get_params()['logisticregression__solver'])\n",
    "# print('Best class weight:', grid_clf_f1.best_estimator_.get_params()['logisticregression__class_weight'])"
   ]
  },
  {
   "cell_type": "code",
   "execution_count": null,
   "id": "ff912bc4-1805-4135-9a57-10ba13f17e19",
   "metadata": {},
   "outputs": [],
   "source": [
    "# LR_utuned = LogisticRegression(max_iter=1000, C=.1, penalty='l1',\n",
    "#                                solver='liblinear',\n",
    "#                                class_weight='balanced',\n",
    "#                                random_state=2021)\n",
    "\n",
    "# pipeline  = make_pipeline(preprocessing, LR_utuned)\n",
    "# pipeline.fit(X_train, y_train)\n",
    "# f1_score(pipeline.predict(X_train), y_train)\n",
    "# modeling.report(pipeline, X_train, y_train, 'LR_utuned',\n",
    "#                 'tuned no polys, no smote')"
   ]
  },
  {
   "cell_type": "code",
   "execution_count": null,
   "id": "78c10835-cf36-4f25-be92-0cf4b8f0edc3",
   "metadata": {},
   "outputs": [],
   "source": [
    "# modeling.history"
   ]
  },
  {
   "cell_type": "code",
   "execution_count": null,
   "id": "91b9b06d-bb30-40ed-a4d5-5b046f020fba",
   "metadata": {},
   "outputs": [],
   "source": [
    "# Xs_train, Xs_test, ys_train, ys_test = f.splitter(X_train, y_train)"
   ]
  },
  {
   "cell_type": "code",
   "execution_count": null,
   "id": "4715064f-3827-47ca-a43c-591c8a1c285c",
   "metadata": {},
   "outputs": [],
   "source": [
    "# pipeline  = make_pipeline(preprocessing2, LR_tuned)\n",
    "# pipeline.fit(Xs_train, ys_train)"
   ]
  },
  {
   "cell_type": "code",
   "execution_count": null,
   "id": "0577fa2a-71b4-4bee-89c9-9f4c356cb7e3",
   "metadata": {},
   "outputs": [],
   "source": [
    "# f1_score(pipeline.predict(Xs_train), ys_train)"
   ]
  },
  {
   "cell_type": "code",
   "execution_count": null,
   "id": "b799f865-e51c-4488-9e49-a0b8c4afd1f6",
   "metadata": {},
   "outputs": [],
   "source": [
    "# f1_score(pipeline.predict(Xs_test), ys_test)"
   ]
  },
  {
   "cell_type": "code",
   "execution_count": null,
   "id": "cf311886-27aa-4a5b-88d0-099745d7ff70",
   "metadata": {},
   "outputs": [],
   "source": [
    "# f.confusion(pipeline, Xs_train, ys_train)"
   ]
  },
  {
   "cell_type": "code",
   "execution_count": null,
   "id": "c7269d42-5c80-4d5a-99a8-690d8bc2091c",
   "metadata": {},
   "outputs": [],
   "source": [
    "# f.confusion(pipeline, Xs_test, ys_test)"
   ]
  },
  {
   "cell_type": "markdown",
   "id": "1b01282e-dd54-41c3-b7f7-6a67938214b6",
   "metadata": {},
   "source": [
    "## Feature Selection"
   ]
  },
  {
   "cell_type": "code",
   "execution_count": null,
   "id": "806e0898-bb36-4034-aa5d-247171fd0fca",
   "metadata": {},
   "outputs": [],
   "source": [
    "dropd4 = df[(df['Subject Perceived Race']!='NA') &\\\n",
    "            (df['Officer Race']!='NA')&\\\n",
    "            (df['Subject Age Group']!='NA')]"
   ]
  },
  {
   "cell_type": "code",
   "execution_count": null,
   "id": "2e8ad6ea-115d-4015-a3cf-a2c47855d686",
   "metadata": {},
   "outputs": [],
   "source": [
    "# \n",
    "feature_list = ['Weapon Type', 'Officer ID', 'Initial Call Type', 'Final Call Type',\n",
    "                'Call Type', 'Officer Squad', 'Arrest Flag',\n",
    "                'Frisk Flag',  'Sector', 'Beat', 'Weapon Flag',\n",
    "                'Reported Year', 'Reported Month',\n",
    "                'Day of Month', 'Day of Week', 'Reported Hour', 'Beat Flag']"
   ]
  },
  {
   "cell_type": "code",
   "execution_count": null,
   "id": "8d169cce-519d-46fb-8db3-8e8227a93fa6",
   "metadata": {},
   "outputs": [],
   "source": [
    "excluded = excluded = ['Officer ID','Frisk Flag','Weapon Flag',\n",
    "             'Reported Year', 'Reported Month','Day of Month',\n",
    "             'Day of Week', 'Reported Hour', 'Beat Flag']"
   ]
  },
  {
   "cell_type": "code",
   "execution_count": null,
   "id": "e8d0a9fe-95bd-44bd-a4ae-a5543d2db84e",
   "metadata": {},
   "outputs": [],
   "source": [
    "f.feature_test(dropd4, LR_tuned, feature_list)"
   ]
  },
  {
   "cell_type": "code",
   "execution_count": null,
   "id": "4b5b10c1-77b0-4d0b-9c21-8afb3961b209",
   "metadata": {},
   "outputs": [],
   "source": [
    "dropd4.columns"
   ]
  },
  {
   "cell_type": "code",
   "execution_count": null,
   "id": "ab64938c-d4ca-4d04-8a6e-eb1fe591bddf",
   "metadata": {},
   "outputs": [],
   "source": [
    "select_list = ['Target', 'Subject Age Group', 'Weapon Type', 'Officer ID',\n",
    "               'Officer Gender', 'Officer Race', 'Subject Perceived Race',\n",
    "               'Subject Perceived Gender','Initial Call Type', 'Precinct',\n",
    "               'Weapon Flag', 'Beat Flag', 'Officer Age',\n",
    "               'Racial Affinity', 'Gender Affinity']"
   ]
  },
  {
   "cell_type": "code",
   "execution_count": null,
   "id": "25aa0cdb-333e-4256-8070-7bef678bdaf2",
   "metadata": {},
   "outputs": [],
   "source": [
    "df_7 = dropd4[select_list]"
   ]
  },
  {
   "cell_type": "code",
   "execution_count": null,
   "id": "045c5147-100b-4b25-90d8-e465688d7093",
   "metadata": {},
   "outputs": [],
   "source": [
    "df_7.head(2)"
   ]
  },
  {
   "cell_type": "code",
   "execution_count": null,
   "id": "d5211780-5318-4527-b617-3a5b06a5412f",
   "metadata": {},
   "outputs": [],
   "source": [
    "df_7.info()"
   ]
  },
  {
   "cell_type": "code",
   "execution_count": null,
   "id": "4e60abf0-8c6c-4afd-9424-2aae6b01ad24",
   "metadata": {},
   "outputs": [],
   "source": [
    "X, y = f.Xy(df_7)"
   ]
  },
  {
   "cell_type": "code",
   "execution_count": null,
   "id": "93b0ad95-c2a4-4964-87b8-df15a9d79a36",
   "metadata": {},
   "outputs": [],
   "source": [
    "X_train, X_test, y_train, y_test = f.splitter(X,y)"
   ]
  },
  {
   "cell_type": "code",
   "execution_count": null,
   "id": "e32b1133-b2af-4c7c-bf2e-c363066a744a",
   "metadata": {},
   "outputs": [],
   "source": [
    "selector = make_pipeline(preprocessing2, LR_tuned)"
   ]
  },
  {
   "cell_type": "code",
   "execution_count": null,
   "id": "fbc8cb6f-d096-4960-9556-3f61c51012aa",
   "metadata": {},
   "outputs": [],
   "source": [
    "selector.fit(X_train, y_train)"
   ]
  },
  {
   "cell_type": "code",
   "execution_count": null,
   "id": "bec2a11a-1a81-4d6a-9583-ad3706774981",
   "metadata": {},
   "outputs": [],
   "source": [
    "#scoring the model\n",
    "f1_score(selector.predict(X_train), y_train)"
   ]
  },
  {
   "cell_type": "code",
   "execution_count": null,
   "id": "89794e31-427b-420a-86b1-b3f578cd1b4d",
   "metadata": {},
   "outputs": [],
   "source": [
    "# checking cross val scores\n",
    "modeling.report(selector, X_train, y_train, 'LR+polys, no smote', 'Top Features Selected')"
   ]
  },
  {
   "cell_type": "code",
   "execution_count": null,
   "id": "b81171c5-b60b-4472-bc9c-e17c81b56683",
   "metadata": {},
   "outputs": [],
   "source": [
    "modeling.history"
   ]
  },
  {
   "cell_type": "markdown",
   "id": "a0855640-32d3-4363-bcb7-80bc2cbc5ba8",
   "metadata": {},
   "source": [
    "## Re-Tuning on Selected Features"
   ]
  },
  {
   "cell_type": "code",
   "execution_count": null,
   "id": "19746915-4522-4248-8be7-8ea5cf83d563",
   "metadata": {},
   "outputs": [],
   "source": [
    "LR_Select = LogisticRegression(max_iter=500, random_state=2021)\n",
    "\n",
    "pipeline  = make_pipeline(preprocessing2, LR_Select)\n",
    "pipeline.fit(X_train, y_train)\n",
    "f1_score(pipeline.predict(X_train), y_train)\n",
    "modeling.report(pipeline, X_train, y_train, 'LR_Select',\n",
    "                'polys, no smote')"
   ]
  },
  {
   "cell_type": "code",
   "execution_count": null,
   "id": "e973aca8-eec9-40b0-8b36-2c9b4bbec14c",
   "metadata": {
    "tags": []
   },
   "outputs": [],
   "source": [
    "# C = np.logspace(-3, 3, 7)\n",
    "# penalty = ['l1', 'l2']\n",
    "# solver = ['liblinear', 'saga']\n",
    "# weight = [None, 'balanced']\n",
    "\n",
    "# grid_values = {'logisticregression__C':C, \n",
    "#                'logisticregression__penalty':penalty,\n",
    "#                'logisticregression__solver':solver,\n",
    "#               'logisticregression__class_weight':weight}\n",
    "\n",
    "# grid_clf_f1 = GridSearchCV(pipeline, param_grid = grid_values, scoring = 'f1')\n",
    "# grid_clf_f1.fit(X_train, y_train)"
   ]
  },
  {
   "cell_type": "code",
   "execution_count": null,
   "id": "f6e19376-34e9-45ea-a45e-5fc5a7669d6e",
   "metadata": {
    "tags": []
   },
   "outputs": [],
   "source": [
    "print('Best C:', grid_clf_f1.best_estimator_.get_params()['logisticregression__C'])\n",
    "print('Best penalty:', grid_clf_f1.best_estimator_.get_params()['logisticregression__penalty'])\n",
    "print('Best solver:', grid_clf_f1.best_estimator_.get_params()['logisticregression__solver'])\n",
    "print('Best class weight:', grid_clf_f1.best_estimator_.get_params()['logisticregression__class_weight'])"
   ]
  },
  {
   "cell_type": "code",
   "execution_count": null,
   "id": "b6303e8f-116c-46d7-83e2-52138e7eedb0",
   "metadata": {},
   "outputs": [],
   "source": [
    "LR_seltuned = LogisticRegression(max_iter=500, C=1, penalty='l1',\n",
    "                               solver='liblinear',\n",
    "                               class_weight='balanced',\n",
    "                               random_state=2021)\n",
    "\n",
    "pipeline  = make_pipeline(preprocessing2, LR_seltuned)\n",
    "pipeline.fit(X_train, y_train)\n",
    "f1_score(pipeline.predict(X_train), y_train)\n",
    "modeling.report(pipeline, X_train, y_train, 'LR_seltuned',\n",
    "                'polys, no smote, selected features')"
   ]
  },
  {
   "cell_type": "code",
   "execution_count": null,
   "id": "c4982cdc-6f16-40ca-9441-98b2df2314ae",
   "metadata": {},
   "outputs": [],
   "source": [
    "modeling.history"
   ]
  },
  {
   "cell_type": "markdown",
   "id": "4605ce79-ba01-4148-be05-59f249540661",
   "metadata": {},
   "source": [
    "## Testing on SubSplits"
   ]
  },
  {
   "cell_type": "code",
   "execution_count": null,
   "id": "51568106-2090-4fb3-805c-921d8b1c619e",
   "metadata": {},
   "outputs": [],
   "source": [
    "Xs_train, Xs_test, ys_train , ys_test = f.splitter(X_train, y_train)"
   ]
  },
  {
   "cell_type": "code",
   "execution_count": null,
   "id": "6ec4cb99-1a6a-4159-8c22-5467a39c9473",
   "metadata": {},
   "outputs": [],
   "source": [
    "preprocessing2.fit_transform(Xs_train)"
   ]
  },
  {
   "cell_type": "code",
   "execution_count": null,
   "id": "eadeb89c-62dd-4fb7-9eb2-35ac23c05c47",
   "metadata": {},
   "outputs": [],
   "source": [
    "sub_pipeline = make_pipeline(preprocessing2, LR_seltuned)"
   ]
  },
  {
   "cell_type": "code",
   "execution_count": null,
   "id": "39e957eb-38c3-4954-8739-f952f1df50ff",
   "metadata": {},
   "outputs": [],
   "source": [
    "sub_pipeline.fit(Xs_train, ys_train)"
   ]
  },
  {
   "cell_type": "code",
   "execution_count": null,
   "id": "fcb68c11-afab-4ea3-8bfe-a07cb5478926",
   "metadata": {},
   "outputs": [],
   "source": [
    "f1_score(sub_pipeline.predict(Xs_train), ys_train)"
   ]
  },
  {
   "cell_type": "code",
   "execution_count": null,
   "id": "3a624ccc-d1ab-4884-8bdd-43a0f7a08fea",
   "metadata": {},
   "outputs": [],
   "source": [
    "f1_score(sub_pipeline.predict(Xs_test), ys_test)"
   ]
  },
  {
   "cell_type": "code",
   "execution_count": null,
   "id": "bfdd5e5b-f232-4ebd-a51c-ecf7315b103f",
   "metadata": {},
   "outputs": [],
   "source": [
    "modeling.report(sub_pipeline, Xs_train, ys_train, 'LR Polys', 'tuned select features  training')"
   ]
  },
  {
   "cell_type": "code",
   "execution_count": null,
   "id": "16dcada8-a250-479a-ba73-749d0eae128a",
   "metadata": {},
   "outputs": [],
   "source": [
    "f.confusion(sub_pipeline, Xs_train, ys_train)"
   ]
  },
  {
   "cell_type": "code",
   "execution_count": null,
   "id": "5227aba3-03ad-4ef8-9219-30061b8c940b",
   "metadata": {},
   "outputs": [],
   "source": [
    "modeling.report(sub_pipeline, Xs_test, ys_test, 'LR_Polys', 'tuned select Features testing')"
   ]
  },
  {
   "cell_type": "code",
   "execution_count": null,
   "id": "7ae16db7-8a6a-4a43-8ffb-6722603f8b49",
   "metadata": {},
   "outputs": [],
   "source": [
    "f.confusion(sub_pipeline, Xs_test, ys_test)"
   ]
  },
  {
   "cell_type": "code",
   "execution_count": null,
   "id": "dc2dc881-1a10-4ad9-a636-ed8cca687df4",
   "metadata": {},
   "outputs": [],
   "source": [
    "modeling.history"
   ]
  },
  {
   "cell_type": "markdown",
   "id": "36df491d-2673-4adc-94a0-d1214be3041d",
   "metadata": {},
   "source": [
    "## Boruta "
   ]
  },
  {
   "cell_type": "code",
   "execution_count": null,
   "id": "3e3de1dd-429e-4fb6-999e-029e7839354b",
   "metadata": {},
   "outputs": [],
   "source": [
    "X, y = f.Xy()"
   ]
  },
  {
   "cell_type": "code",
   "execution_count": null,
   "id": "4d965a6a-59c6-4ef8-a00a-04b19c321c6c",
   "metadata": {},
   "outputs": [],
   "source": [
    "X.head()"
   ]
  },
  {
   "cell_type": "code",
   "execution_count": null,
   "id": "b1ace925-e310-46cc-bed2-6256a55b749f",
   "metadata": {
    "tags": []
   },
   "outputs": [],
   "source": [
    "num_cols = X.columns[X.dtypes.apply(lambda c: np.issubdtype(c, np.number))]"
   ]
  },
  {
   "cell_type": "code",
   "execution_count": null,
   "id": "e957c81c-e42d-43c4-85be-620c268832c9",
   "metadata": {
    "tags": []
   },
   "outputs": [],
   "source": [
    "mm = MinMaxScaler()\n",
    "\n",
    "X[num_cols] = mm.fit_transform(X[num_cols])"
   ]
  },
  {
   "cell_type": "code",
   "execution_count": null,
   "id": "cc492427-fed0-40f5-a7aa-df9962d4ae4c",
   "metadata": {},
   "outputs": [],
   "source": [
    "X.head(2)"
   ]
  },
  {
   "cell_type": "code",
   "execution_count": null,
   "id": "8b7007e4-78b2-4897-8c93-888082cb9d2b",
   "metadata": {},
   "outputs": [],
   "source": [
    "X = pd.get_dummies(X)"
   ]
  },
  {
   "cell_type": "code",
   "execution_count": null,
   "id": "007c4ec5-9126-4075-a8bc-c7658999f979",
   "metadata": {},
   "outputs": [],
   "source": [
    "rf = RandomForestClassifier(n_jobs=-1, class_weight='balanced', max_depth=5)\n",
    "\n",
    "# define Boruta feature selection method\n",
    "feat_selector = BorutaPy(rf, n_estimators='auto', verbose=2, random_state=2021)\n",
    "\n",
    "# find all relevant features - 5 features should be selected\n",
    "feat_selector.fit(X.values, y.values)\n",
    "\n",
    "# check selected features - first 5 features are selected\n",
    "feat_selector.support_\n",
    "\n",
    "# check ranking of features\n",
    "feat_selector.ranking_"
   ]
  },
  {
   "cell_type": "code",
   "execution_count": null,
   "id": "f888713e-4291-44fc-8aef-564f9cb74831",
   "metadata": {},
   "outputs": [],
   "source": [
    "# call transform() on X to filter it down to selected features\n",
    "X_filtered = feat_selector.transform(X.values)\n",
    "\n",
    "keep = X.columns[feat_selector.support_].to_list()\n",
    "toss = X.columns[feat_selector.support_weak_].to_list()\n",
    "print('features to keep:', keep)\n",
    "print('features to toss:', toss)"
   ]
  },
  {
   "cell_type": "code",
   "execution_count": null,
   "id": "4349a71d-cefc-4662-884c-ea008b328d62",
   "metadata": {},
   "outputs": [],
   "source": [
    "X.columns[feat_selector.ranking_].sort_values(ascending=False).to_list()"
   ]
  },
  {
   "cell_type": "code",
   "execution_count": null,
   "id": "945ee716-67d4-4952-8e4e-c868f497d06d",
   "metadata": {},
   "outputs": [],
   "source": [
    "X_filtered = feat_selector.transform(X.values)"
   ]
  },
  {
   "cell_type": "code",
   "execution_count": null,
   "id": "98498550-25d9-4fd4-b209-fc70002a3120",
   "metadata": {},
   "outputs": [],
   "source": [
    "boruta = pd.DataFrame(X_filtered)"
   ]
  },
  {
   "cell_type": "code",
   "execution_count": null,
   "id": "3b19a132-c684-4f61-b1b5-3913517e21c6",
   "metadata": {},
   "outputs": [],
   "source": [
    "X_train, X_test, y_train, y_test = f.splitter(boruta, y)"
   ]
  },
  {
   "cell_type": "code",
   "execution_count": null,
   "id": "b3dfff33-0f05-4a37-9991-9c19baf01559",
   "metadata": {
    "tags": []
   },
   "outputs": [],
   "source": [
    "boruta_selected = make_pipeline(preprocessing_mm, LR_utuned)"
   ]
  },
  {
   "cell_type": "code",
   "execution_count": null,
   "id": "d976dca5-0631-4391-ab15-53a79e037c49",
   "metadata": {},
   "outputs": [],
   "source": [
    "boruta_selected.fit(X_train, y_train)"
   ]
  },
  {
   "cell_type": "code",
   "execution_count": null,
   "id": "e994ca0c-922b-4e71-bb50-bfe8953d8a3a",
   "metadata": {},
   "outputs": [],
   "source": [
    "#scoring the model\n",
    "f1_score(boruta_selected.predict(X_train), y_train)"
   ]
  },
  {
   "cell_type": "code",
   "execution_count": null,
   "id": "0036ca1c-801d-4ab8-81b7-f7697b40e0fb",
   "metadata": {},
   "outputs": [],
   "source": [
    "# checking cross val scores\n",
    "modeling.report(boruta_selected, X_train, y_train, ' ', 'Boruta Selected')"
   ]
  },
  {
   "cell_type": "code",
   "execution_count": null,
   "id": "bb234734-7ae2-4378-a3fb-eedec249f3de",
   "metadata": {},
   "outputs": [],
   "source": [
    "modeling.history"
   ]
  },
  {
   "cell_type": "markdown",
   "id": "b3a790ab-cb93-40cd-8ca6-578748438322",
   "metadata": {},
   "source": [
    "## Decision Tree"
   ]
  },
  {
   "cell_type": "code",
   "execution_count": null,
   "id": "9bdd0143-5106-48bd-8280-580d9c295f67",
   "metadata": {},
   "outputs": [],
   "source": [
    "# features engineered during eda\n",
    "feature_list3 = ['Weapon Flag', 'Reported Year', 'Reported Month',\n",
    "                'Day of Month', 'Day of Week', 'Reported Hour', 'Beat Flag']"
   ]
  },
  {
   "cell_type": "code",
   "execution_count": null,
   "id": "f98bf656-10af-4c92-99f3-2030acc88664",
   "metadata": {},
   "outputs": [],
   "source": [
    "excluded = ['Officer ID','Frisk Flag','Weapon Flag',\n",
    "             'Reported Year', 'Reported Month','Day of Month',\n",
    "             'Day of Week', 'Reported Hour']"
   ]
  },
  {
   "cell_type": "code",
   "execution_count": null,
   "id": "143284ab-87d7-4219-8166-1c7b22afa330",
   "metadata": {},
   "outputs": [],
   "source": [
    "baseline_df2 = f.framer(df, [], excluded)"
   ]
  },
  {
   "cell_type": "code",
   "execution_count": null,
   "id": "24a10f21-4c42-4135-9222-95f956823e59",
   "metadata": {},
   "outputs": [],
   "source": [
    "baseline_df2.head(2)"
   ]
  },
  {
   "cell_type": "code",
   "execution_count": null,
   "id": "ced75d1a-5006-47bb-8e0c-19a370b993a4",
   "metadata": {},
   "outputs": [],
   "source": [
    "X, y = f.Xy(baseline_df2)"
   ]
  },
  {
   "cell_type": "code",
   "execution_count": null,
   "id": "05901510-a753-4acb-b681-c223d99ca895",
   "metadata": {},
   "outputs": [],
   "source": [
    "X_train, X_test, y_train, y_test = f.splitter(X,y)"
   ]
  },
  {
   "cell_type": "code",
   "execution_count": null,
   "id": "9026f5f9-476d-435f-95a6-a706c48f1ae3",
   "metadata": {},
   "outputs": [],
   "source": [
    "preprocessing.fit_transform(X_train)"
   ]
  },
  {
   "cell_type": "code",
   "execution_count": null,
   "id": "cae5c0f7-67cc-4e0b-925a-8225cfb6874a",
   "metadata": {},
   "outputs": [],
   "source": [
    "DT = DecisionTreeClassifier()"
   ]
  },
  {
   "cell_type": "code",
   "execution_count": null,
   "id": "3a9e9f9e-da93-4449-8680-f9f146478a7e",
   "metadata": {},
   "outputs": [],
   "source": [
    "dt_pipeline = make_sm_pipeline(preprocessing2, DT)"
   ]
  },
  {
   "cell_type": "code",
   "execution_count": null,
   "id": "f867e1d2-e1cc-42eb-8701-07dde608cee9",
   "metadata": {},
   "outputs": [],
   "source": [
    "modeling.report(dt_pipeline, X_train, y_train, 'Tree CLF', 'Tree w/o SMOTE')"
   ]
  },
  {
   "cell_type": "markdown",
   "id": "16a4cb62-fb8f-4803-b58c-d86e099e6bc7",
   "metadata": {},
   "source": [
    "## Random Forest"
   ]
  },
  {
   "cell_type": "code",
   "execution_count": null,
   "id": "abc502f0-1740-4487-9a37-803bb6d8295d",
   "metadata": {},
   "outputs": [],
   "source": [
    "RF = RandomForestClassifier(random_state=2021)"
   ]
  },
  {
   "cell_type": "code",
   "execution_count": null,
   "id": "9e6e1690-0b38-4ac2-bda3-b0df6fcad256",
   "metadata": {},
   "outputs": [],
   "source": [
    "rf_pipeline = make_pipeline(preprocessing, RF)"
   ]
  },
  {
   "cell_type": "code",
   "execution_count": null,
   "id": "faddb395-619b-4999-8d14-59c53f85d6f9",
   "metadata": {},
   "outputs": [],
   "source": [
    "modeling.report(rf_pipeline, X_train, y_train, 'RandomForest', 'Forest w/o SMOTE')"
   ]
  },
  {
   "cell_type": "code",
   "execution_count": null,
   "id": "76be55be-3684-4d6a-8a41-c74ee40b2cbc",
   "metadata": {},
   "outputs": [],
   "source": [
    "rf_pipeline.get_params().keys()"
   ]
  },
  {
   "cell_type": "code",
   "execution_count": null,
   "id": "663902fd-0708-40b7-9ba4-e10183b1deb6",
   "metadata": {},
   "outputs": [],
   "source": [
    "# criterion = ['gini', 'entropy']\n",
    "# max_depth = [2, 3, None]\n",
    "# min_samples_split = [2, 5, 10]\n",
    "# class_weight = ['balanced', 'balanced_subsample']\n",
    "\n",
    "# grid_values = {'randomforestclassifier__criterion':criterion, \n",
    "#                'randomforestclassifier__max_depth':max_depth,\n",
    "#                'randomforestclassifier__min_samples_split':min_samples_split,\n",
    "#               'randomforestclassifier__class_weight':class_weight}\n",
    "\n",
    "# grid_rf_f1 = GridSearchCV(rf_pipeline, param_grid = grid_values, scoring = 'f1')\n",
    "# grid_rf_f1.fit(X_train, y_train)"
   ]
  },
  {
   "cell_type": "code",
   "execution_count": null,
   "id": "aee76a90-117b-4411-8dc4-1246b38a0959",
   "metadata": {},
   "outputs": [],
   "source": [
    "# print('Best criterion:', grid_rf_f1.best_estimator_.get_params()['randomforestclassifier__criterion'])\n",
    "# print('Best max_depth:', grid_rf_f1.best_estimator_.get_params()['randomforestclassifier__max_depth'])\n",
    "# print('Best min_samples_split:', grid_rf_f1.best_estimator_.get_params()['randomforestclassifier__min_samples_split'])\n",
    "# print('Best class weight:', grid_rf_f1.best_estimator_.get_params()['randomforestclassifier__class_weight'])"
   ]
  },
  {
   "cell_type": "code",
   "execution_count": null,
   "id": "3a9e1e84-8740-45ba-b89c-580de057d92f",
   "metadata": {},
   "outputs": [],
   "source": [
    "RF = RandomForestClassifier(criterion='gini',\n",
    "                            max_depth=3, min_samples_split=2,\n",
    "                            class_weight='balanced',\n",
    "                            random_state=2021)"
   ]
  },
  {
   "cell_type": "code",
   "execution_count": null,
   "id": "2c415d54-8e80-490d-8996-67dcc0d89a3f",
   "metadata": {},
   "outputs": [],
   "source": [
    "rf_pipeline = make_pipeline(preprocessing, RF)"
   ]
  },
  {
   "cell_type": "code",
   "execution_count": null,
   "id": "8a5835b4-eb37-46af-90b2-b6b36121dc86",
   "metadata": {},
   "outputs": [],
   "source": [
    "modeling.report(rf_pipeline, X_train, y_train, 'RandomForest', 'Forest w/o SMOTE')"
   ]
  },
  {
   "cell_type": "code",
   "execution_count": null,
   "id": "56526bfc-ea33-4aab-94ab-241b00f32c15",
   "metadata": {},
   "outputs": [],
   "source": [
    "modeling.history"
   ]
  },
  {
   "cell_type": "code",
   "execution_count": null,
   "id": "1f29cf68-e3e9-4a43-a7de-278d9be0099e",
   "metadata": {},
   "outputs": [],
   "source": [
    "rf_pipeline.fit(X_train, y_train)"
   ]
  },
  {
   "cell_type": "code",
   "execution_count": null,
   "id": "8dd8e263-e91a-43e0-8b22-eda268944052",
   "metadata": {},
   "outputs": [],
   "source": [
    "f.confusion(rf_pipeline, X_train, y_train)"
   ]
  },
  {
   "cell_type": "code",
   "execution_count": null,
   "id": "cd307d32-7dc8-4842-93de-58408ced8485",
   "metadata": {},
   "outputs": [],
   "source": []
  }
 ],
 "metadata": {
  "kernelspec": {
   "display_name": "terry_stops",
   "language": "python",
   "name": "terry_stops"
  },
  "language_info": {
   "codemirror_mode": {
    "name": "ipython",
    "version": 3
   },
   "file_extension": ".py",
   "mimetype": "text/x-python",
   "name": "python",
   "nbconvert_exporter": "python",
   "pygments_lexer": "ipython3",
   "version": "3.9.4"
  }
 },
 "nbformat": 4,
 "nbformat_minor": 5
}
