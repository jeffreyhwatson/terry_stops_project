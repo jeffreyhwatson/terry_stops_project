{
 "cells": [
  {
   "cell_type": "code",
   "execution_count": 1,
   "metadata": {},
   "outputs": [],
   "source": [
    "%load_ext autoreload\n",
    "%autoreload 2"
   ]
  },
  {
   "cell_type": "code",
   "execution_count": 2,
   "metadata": {},
   "outputs": [],
   "source": [
    "# setting project path\n",
    "import os\n",
    "import sys\n",
    "\n",
    "gparent = os.path.join(os.pardir, os.pardir)\n",
    "sys.path.append(gparent)\n",
    "\n",
    "# imports\n",
    "import pandas as pd\n",
    "import numpy as np\n",
    "pd.options.display.max_rows = 300"
   ]
  },
  {
   "cell_type": "markdown",
   "metadata": {},
   "source": [
    "## Background Information\n",
    "\n",
    "This projects aims to create and train a predictive model on a dataset of Seattle Terry Stops Data. The initial data was obtain as a .csv file of 47,213 rows and 23 feature columns of Terry Stops Data.\n",
    "\n",
    "Data set obtained from:\n",
    "[Link](https://catalog.data.gov/dataset/terry-stops)\n",
    "\n",
    "Data Columns Explanations:\n",
    "[Link](https://data.seattle.gov/Public-Safety/Terry-Stops/28ny-9ts8)"
   ]
  },
  {
   "cell_type": "markdown",
   "metadata": {},
   "source": [
    "## Data Cleaning"
   ]
  },
  {
   "cell_type": "markdown",
   "metadata": {},
   "source": [
    "### Initial Steps\n",
    "Loading the data, checking the info."
   ]
  },
  {
   "cell_type": "code",
   "execution_count": 3,
   "metadata": {},
   "outputs": [],
   "source": [
    "# creating path to data\n",
    "path = os.path.join(gparent, 'data/raw', 'Terry_Stops.csv')\n",
    "df = pd.read_csv(path)"
   ]
  },
  {
   "cell_type": "code",
   "execution_count": 4,
   "metadata": {},
   "outputs": [
    {
     "data": {
      "text/html": [
       "<div>\n",
       "<style scoped>\n",
       "    .dataframe tbody tr th:only-of-type {\n",
       "        vertical-align: middle;\n",
       "    }\n",
       "\n",
       "    .dataframe tbody tr th {\n",
       "        vertical-align: top;\n",
       "    }\n",
       "\n",
       "    .dataframe thead th {\n",
       "        text-align: right;\n",
       "    }\n",
       "</style>\n",
       "<table border=\"1\" class=\"dataframe\">\n",
       "  <thead>\n",
       "    <tr style=\"text-align: right;\">\n",
       "      <th></th>\n",
       "      <th>Subject Age Group</th>\n",
       "      <th>Subject ID</th>\n",
       "      <th>GO / SC Num</th>\n",
       "      <th>Terry Stop ID</th>\n",
       "      <th>Stop Resolution</th>\n",
       "      <th>Weapon Type</th>\n",
       "      <th>Officer ID</th>\n",
       "      <th>Officer YOB</th>\n",
       "      <th>Officer Gender</th>\n",
       "      <th>Officer Race</th>\n",
       "      <th>...</th>\n",
       "      <th>Reported Time</th>\n",
       "      <th>Initial Call Type</th>\n",
       "      <th>Final Call Type</th>\n",
       "      <th>Call Type</th>\n",
       "      <th>Officer Squad</th>\n",
       "      <th>Arrest Flag</th>\n",
       "      <th>Frisk Flag</th>\n",
       "      <th>Precinct</th>\n",
       "      <th>Sector</th>\n",
       "      <th>Beat</th>\n",
       "    </tr>\n",
       "  </thead>\n",
       "  <tbody>\n",
       "    <tr>\n",
       "      <th>0</th>\n",
       "      <td>-</td>\n",
       "      <td>-1</td>\n",
       "      <td>20140000120677</td>\n",
       "      <td>92317</td>\n",
       "      <td>Arrest</td>\n",
       "      <td>None</td>\n",
       "      <td>7500</td>\n",
       "      <td>1984</td>\n",
       "      <td>M</td>\n",
       "      <td>Black or African American</td>\n",
       "      <td>...</td>\n",
       "      <td>11:32:00</td>\n",
       "      <td>-</td>\n",
       "      <td>-</td>\n",
       "      <td>-</td>\n",
       "      <td>SOUTH PCT 1ST W - ROBERT</td>\n",
       "      <td>N</td>\n",
       "      <td>N</td>\n",
       "      <td>South</td>\n",
       "      <td>O</td>\n",
       "      <td>O2</td>\n",
       "    </tr>\n",
       "    <tr>\n",
       "      <th>1</th>\n",
       "      <td>-</td>\n",
       "      <td>-1</td>\n",
       "      <td>20150000001463</td>\n",
       "      <td>28806</td>\n",
       "      <td>Field Contact</td>\n",
       "      <td>None</td>\n",
       "      <td>5670</td>\n",
       "      <td>1965</td>\n",
       "      <td>M</td>\n",
       "      <td>White</td>\n",
       "      <td>...</td>\n",
       "      <td>07:59:00</td>\n",
       "      <td>-</td>\n",
       "      <td>-</td>\n",
       "      <td>-</td>\n",
       "      <td>NaN</td>\n",
       "      <td>N</td>\n",
       "      <td>N</td>\n",
       "      <td>-</td>\n",
       "      <td>-</td>\n",
       "      <td>-</td>\n",
       "    </tr>\n",
       "    <tr>\n",
       "      <th>2</th>\n",
       "      <td>-</td>\n",
       "      <td>-1</td>\n",
       "      <td>20150000001516</td>\n",
       "      <td>29599</td>\n",
       "      <td>Field Contact</td>\n",
       "      <td>None</td>\n",
       "      <td>4844</td>\n",
       "      <td>1961</td>\n",
       "      <td>M</td>\n",
       "      <td>White</td>\n",
       "      <td>...</td>\n",
       "      <td>19:12:00</td>\n",
       "      <td>-</td>\n",
       "      <td>-</td>\n",
       "      <td>-</td>\n",
       "      <td>NaN</td>\n",
       "      <td>N</td>\n",
       "      <td>-</td>\n",
       "      <td>-</td>\n",
       "      <td>-</td>\n",
       "      <td>-</td>\n",
       "    </tr>\n",
       "    <tr>\n",
       "      <th>3</th>\n",
       "      <td>-</td>\n",
       "      <td>-1</td>\n",
       "      <td>20150000001670</td>\n",
       "      <td>32260</td>\n",
       "      <td>Field Contact</td>\n",
       "      <td>None</td>\n",
       "      <td>7539</td>\n",
       "      <td>1963</td>\n",
       "      <td>M</td>\n",
       "      <td>White</td>\n",
       "      <td>...</td>\n",
       "      <td>04:55:00</td>\n",
       "      <td>-</td>\n",
       "      <td>-</td>\n",
       "      <td>-</td>\n",
       "      <td>NaN</td>\n",
       "      <td>N</td>\n",
       "      <td>N</td>\n",
       "      <td>-</td>\n",
       "      <td>-</td>\n",
       "      <td>-</td>\n",
       "    </tr>\n",
       "    <tr>\n",
       "      <th>4</th>\n",
       "      <td>-</td>\n",
       "      <td>-1</td>\n",
       "      <td>20150000001739</td>\n",
       "      <td>33155</td>\n",
       "      <td>Field Contact</td>\n",
       "      <td>None</td>\n",
       "      <td>6973</td>\n",
       "      <td>1977</td>\n",
       "      <td>M</td>\n",
       "      <td>White</td>\n",
       "      <td>...</td>\n",
       "      <td>00:41:00</td>\n",
       "      <td>-</td>\n",
       "      <td>-</td>\n",
       "      <td>-</td>\n",
       "      <td>NaN</td>\n",
       "      <td>N</td>\n",
       "      <td>N</td>\n",
       "      <td>-</td>\n",
       "      <td>-</td>\n",
       "      <td>-</td>\n",
       "    </tr>\n",
       "  </tbody>\n",
       "</table>\n",
       "<p>5 rows × 23 columns</p>\n",
       "</div>"
      ],
      "text/plain": [
       "  Subject Age Group  Subject ID     GO / SC Num  Terry Stop ID  \\\n",
       "0                 -          -1  20140000120677          92317   \n",
       "1                 -          -1  20150000001463          28806   \n",
       "2                 -          -1  20150000001516          29599   \n",
       "3                 -          -1  20150000001670          32260   \n",
       "4                 -          -1  20150000001739          33155   \n",
       "\n",
       "  Stop Resolution Weapon Type Officer ID  Officer YOB Officer Gender  \\\n",
       "0          Arrest        None     7500           1984              M   \n",
       "1   Field Contact        None     5670           1965              M   \n",
       "2   Field Contact        None     4844           1961              M   \n",
       "3   Field Contact        None     7539           1963              M   \n",
       "4   Field Contact        None     6973           1977              M   \n",
       "\n",
       "                Officer Race  ... Reported Time Initial Call Type  \\\n",
       "0  Black or African American  ...      11:32:00                 -   \n",
       "1                      White  ...      07:59:00                 -   \n",
       "2                      White  ...      19:12:00                 -   \n",
       "3                      White  ...      04:55:00                 -   \n",
       "4                      White  ...      00:41:00                 -   \n",
       "\n",
       "  Final Call Type Call Type             Officer Squad Arrest Flag Frisk Flag  \\\n",
       "0               -         -  SOUTH PCT 1ST W - ROBERT           N          N   \n",
       "1               -         -                       NaN           N          N   \n",
       "2               -         -                       NaN           N          -   \n",
       "3               -         -                       NaN           N          N   \n",
       "4               -         -                       NaN           N          N   \n",
       "\n",
       "  Precinct  Sector    Beat  \n",
       "0    South  O       O2      \n",
       "1        -       -       -  \n",
       "2        -       -       -  \n",
       "3        -       -       -  \n",
       "4        -       -       -  \n",
       "\n",
       "[5 rows x 23 columns]"
      ]
     },
     "execution_count": 4,
     "metadata": {},
     "output_type": "execute_result"
    }
   ],
   "source": [
    "# checking first few rows\n",
    "df.head()"
   ]
  },
  {
   "cell_type": "code",
   "execution_count": 5,
   "metadata": {},
   "outputs": [
    {
     "name": "stdout",
     "output_type": "stream",
     "text": [
      "<class 'pandas.core.frame.DataFrame'>\n",
      "RangeIndex: 47213 entries, 0 to 47212\n",
      "Data columns (total 23 columns):\n",
      " #   Column                    Non-Null Count  Dtype \n",
      "---  ------                    --------------  ----- \n",
      " 0   Subject Age Group         47213 non-null  object\n",
      " 1   Subject ID                47213 non-null  int64 \n",
      " 2   GO / SC Num               47213 non-null  int64 \n",
      " 3   Terry Stop ID             47213 non-null  int64 \n",
      " 4   Stop Resolution           47213 non-null  object\n",
      " 5   Weapon Type               47213 non-null  object\n",
      " 6   Officer ID                47213 non-null  object\n",
      " 7   Officer YOB               47213 non-null  int64 \n",
      " 8   Officer Gender            47213 non-null  object\n",
      " 9   Officer Race              47213 non-null  object\n",
      " 10  Subject Perceived Race    47213 non-null  object\n",
      " 11  Subject Perceived Gender  47213 non-null  object\n",
      " 12  Reported Date             47213 non-null  object\n",
      " 13  Reported Time             47213 non-null  object\n",
      " 14  Initial Call Type         47213 non-null  object\n",
      " 15  Final Call Type           47213 non-null  object\n",
      " 16  Call Type                 47213 non-null  object\n",
      " 17  Officer Squad             46609 non-null  object\n",
      " 18  Arrest Flag               47213 non-null  object\n",
      " 19  Frisk Flag                47213 non-null  object\n",
      " 20  Precinct                  47213 non-null  object\n",
      " 21  Sector                    47213 non-null  object\n",
      " 22  Beat                      47213 non-null  object\n",
      "dtypes: int64(4), object(19)\n",
      "memory usage: 8.3+ MB\n"
     ]
    }
   ],
   "source": [
    "#  checking info\n",
    "df.info()"
   ]
  },
  {
   "cell_type": "markdown",
   "metadata": {},
   "source": [
    "### Checking for Nulls"
   ]
  },
  {
   "cell_type": "code",
   "execution_count": 6,
   "metadata": {},
   "outputs": [
    {
     "data": {
      "text/plain": [
       "Subject Age Group             0\n",
       "Subject ID                    0\n",
       "GO / SC Num                   0\n",
       "Terry Stop ID                 0\n",
       "Stop Resolution               0\n",
       "Weapon Type                   0\n",
       "Officer ID                    0\n",
       "Officer YOB                   0\n",
       "Officer Gender                0\n",
       "Officer Race                  0\n",
       "Subject Perceived Race        0\n",
       "Subject Perceived Gender      0\n",
       "Reported Date                 0\n",
       "Reported Time                 0\n",
       "Initial Call Type             0\n",
       "Final Call Type               0\n",
       "Call Type                     0\n",
       "Officer Squad               604\n",
       "Arrest Flag                   0\n",
       "Frisk Flag                    0\n",
       "Precinct                      0\n",
       "Sector                        0\n",
       "Beat                          0\n",
       "dtype: int64"
      ]
     },
     "execution_count": 6,
     "metadata": {},
     "output_type": "execute_result"
    }
   ],
   "source": [
    "# checking for nulls\n",
    "df.isna().sum()"
   ]
  },
  {
   "cell_type": "markdown",
   "metadata": {},
   "source": [
    "### Handling Nulls\n",
    "It appears that there 604 null values, but there is also a placeholder value of `'-'` that we need to deal with as well. Replacing both with the string `'NA'`."
   ]
  },
  {
   "cell_type": "code",
   "execution_count": 7,
   "metadata": {},
   "outputs": [],
   "source": [
    "# filling nulls and replacing - values\n",
    "df['Officer Squad'].fillna('NA', inplace=True)\n",
    "df.replace('-', 'NA', inplace=True)"
   ]
  },
  {
   "cell_type": "code",
   "execution_count": 8,
   "metadata": {},
   "outputs": [
    {
     "data": {
      "text/plain": [
       "Subject Age Group           0\n",
       "Subject ID                  0\n",
       "GO / SC Num                 0\n",
       "Terry Stop ID               0\n",
       "Stop Resolution             0\n",
       "Weapon Type                 0\n",
       "Officer ID                  0\n",
       "Officer YOB                 0\n",
       "Officer Gender              0\n",
       "Officer Race                0\n",
       "Subject Perceived Race      0\n",
       "Subject Perceived Gender    0\n",
       "Reported Date               0\n",
       "Reported Time               0\n",
       "Initial Call Type           0\n",
       "Final Call Type             0\n",
       "Call Type                   0\n",
       "Officer Squad               0\n",
       "Arrest Flag                 0\n",
       "Frisk Flag                  0\n",
       "Precinct                    0\n",
       "Sector                      0\n",
       "Beat                        0\n",
       "dtype: int64"
      ]
     },
     "execution_count": 8,
     "metadata": {},
     "output_type": "execute_result"
    }
   ],
   "source": [
    "#  checking work\n",
    "df.isna().sum()"
   ]
  },
  {
   "cell_type": "markdown",
   "metadata": {},
   "source": [
    "### Checking Feature Columns\n",
    "Checking out the data, looking for any patterns & problems."
   ]
  },
  {
   "cell_type": "markdown",
   "metadata": {},
   "source": [
    "## Subject Age Group Value Counts"
   ]
  },
  {
   "cell_type": "code",
   "execution_count": 9,
   "metadata": {},
   "outputs": [
    {
     "data": {
      "text/plain": [
       "26 - 35         15707\n",
       "36 - 45         10017\n",
       "18 - 25          9452\n",
       "46 - 55          6111\n",
       "56 and Above     2399\n",
       "1 - 17           1978\n",
       "NA               1549\n",
       "Name: Subject Age Group, dtype: int64"
      ]
     },
     "execution_count": 9,
     "metadata": {},
     "output_type": "execute_result"
    }
   ],
   "source": [
    "df['Subject Age Group'].value_counts()"
   ]
  },
  {
   "cell_type": "markdown",
   "metadata": {},
   "source": [
    "## Subject ID Value Counts"
   ]
  },
  {
   "cell_type": "code",
   "execution_count": 10,
   "metadata": {},
   "outputs": [
    {
     "data": {
      "text/plain": [
       "-1              34769\n",
       " 15595726686       19\n",
       " 7753260438        18\n",
       " 7727117712        13\n",
       " 8753759694        11\n",
       "                ...  \n",
       " 7729810778         1\n",
       " 11891047764        1\n",
       " 8627619147         1\n",
       " 12120573251        1\n",
       " 19740561406        1\n",
       "Name: Subject ID, Length: 9169, dtype: int64"
      ]
     },
     "execution_count": 10,
     "metadata": {},
     "output_type": "execute_result"
    }
   ],
   "source": [
    "df['Subject ID'].value_counts()"
   ]
  },
  {
   "cell_type": "markdown",
   "metadata": {},
   "source": [
    "### Stop Resolution"
   ]
  },
  {
   "cell_type": "code",
   "execution_count": 11,
   "metadata": {},
   "outputs": [
    {
     "data": {
      "text/plain": [
       "array(['Arrest', 'Field Contact', 'Citation / Infraction',\n",
       "       'Offense Report', 'Referred for Prosecution'], dtype=object)"
      ]
     },
     "execution_count": 11,
     "metadata": {},
     "output_type": "execute_result"
    }
   ],
   "source": [
    "# checking uniques\n",
    "df['Stop Resolution'].unique()"
   ]
  },
  {
   "cell_type": "markdown",
   "metadata": {},
   "source": [
    "### Creating the Target Feature\n",
    "Creating a binary feature where a value of 1 means an arrest occurred and moving it to the front of the data frame. "
   ]
  },
  {
   "cell_type": "code",
   "execution_count": 12,
   "metadata": {},
   "outputs": [],
   "source": [
    "# creating and binarizing the target feature\n",
    "df['Target'] = df['Stop Resolution']\n",
    "\n",
    "df['Target'] = df['Target'].replace('Arrest', 1)\n",
    "df['Target'] = df['Target'].map(lambda x: 0 if x!=1 else 1)"
   ]
  },
  {
   "cell_type": "code",
   "execution_count": 13,
   "metadata": {},
   "outputs": [],
   "source": [
    "# moving target to the front of the data frame\n",
    "column_name = 'Target'\n",
    "first_column = df.pop(column_name)\n",
    "df.insert(0, column_name, first_column)"
   ]
  },
  {
   "cell_type": "code",
   "execution_count": 14,
   "metadata": {},
   "outputs": [],
   "source": [
    "# df['Target'].value_counts()"
   ]
  },
  {
   "cell_type": "code",
   "execution_count": 15,
   "metadata": {},
   "outputs": [
    {
     "data": {
      "text/plain": [
       "0    0.752886\n",
       "1    0.247114\n",
       "Name: Target, dtype: float64"
      ]
     },
     "execution_count": 15,
     "metadata": {},
     "output_type": "execute_result"
    }
   ],
   "source": [
    "df['Target'].value_counts(normalize=True)"
   ]
  },
  {
   "cell_type": "markdown",
   "metadata": {},
   "source": [
    "## Analysis: 24% of Stops End in Arrest"
   ]
  },
  {
   "cell_type": "markdown",
   "metadata": {},
   "source": [
    "### Creating a Weapons Flag\n",
    "Creating a feature that flags if a weapon was found during the stop."
   ]
  },
  {
   "cell_type": "code",
   "execution_count": 16,
   "metadata": {},
   "outputs": [
    {
     "data": {
      "text/plain": [
       "None                                    32565\n",
       "NA                                      11855\n",
       "Lethal Cutting Instrument                1482\n",
       "Knife/Cutting/Stabbing Instrument         633\n",
       "Handgun                                   291\n",
       "Firearm Other                             100\n",
       "Blunt Object/Striking Implement            86\n",
       "Club, Blackjack, Brass Knuckles            49\n",
       "Firearm                                    38\n",
       "Mace/Pepper Spray                          28\n",
       "Other Firearm                              23\n",
       "Firearm (unk type)                         15\n",
       "Taser/Stun Gun                             10\n",
       "Club                                        9\n",
       "Rifle                                       7\n",
       "None/Not Applicable                         7\n",
       "Fire/Incendiary Device                      6\n",
       "Shotgun                                     3\n",
       "Personal Weapons (hands, feet, etc.)        2\n",
       "Automatic Handgun                           2\n",
       "Brass Knuckles                              1\n",
       "Blackjack                                   1\n",
       "Name: Weapon Type, dtype: int64"
      ]
     },
     "execution_count": 16,
     "metadata": {},
     "output_type": "execute_result"
    }
   ],
   "source": [
    "df['Weapon Type'].value_counts()"
   ]
  },
  {
   "cell_type": "code",
   "execution_count": 17,
   "metadata": {
    "tags": []
   },
   "outputs": [],
   "source": [
    "# creating weapons flag\n",
    "df['Weapon Flag'] = df['Weapon Type']"
   ]
  },
  {
   "cell_type": "code",
   "execution_count": 18,
   "metadata": {},
   "outputs": [
    {
     "data": {
      "text/plain": [
       "None                                    32565\n",
       "NA                                      11855\n",
       "Lethal Cutting Instrument                1482\n",
       "Knife/Cutting/Stabbing Instrument         633\n",
       "Handgun                                   291\n",
       "Firearm Other                             100\n",
       "Blunt Object/Striking Implement            86\n",
       "Club, Blackjack, Brass Knuckles            49\n",
       "Firearm                                    38\n",
       "Mace/Pepper Spray                          28\n",
       "Other Firearm                              23\n",
       "Firearm (unk type)                         15\n",
       "Taser/Stun Gun                             10\n",
       "Club                                        9\n",
       "Rifle                                       7\n",
       "None/Not Applicable                         7\n",
       "Fire/Incendiary Device                      6\n",
       "Shotgun                                     3\n",
       "Personal Weapons (hands, feet, etc.)        2\n",
       "Automatic Handgun                           2\n",
       "Brass Knuckles                              1\n",
       "Blackjack                                   1\n",
       "Name: Weapon Flag, dtype: int64"
      ]
     },
     "execution_count": 18,
     "metadata": {},
     "output_type": "execute_result"
    }
   ],
   "source": [
    "df['Weapon Flag'].value_counts()"
   ]
  },
  {
   "cell_type": "code",
   "execution_count": 19,
   "metadata": {
    "tags": []
   },
   "outputs": [],
   "source": [
    "df['Weapon Flag'] = df['Weapon Flag'].replace(['None','NA'], 0)"
   ]
  },
  {
   "cell_type": "code",
   "execution_count": 20,
   "metadata": {
    "tags": []
   },
   "outputs": [],
   "source": [
    "df['Weapon Flag'] = df['Weapon Flag'].map(lambda x: 1 if x!=0 else 0)"
   ]
  },
  {
   "cell_type": "code",
   "execution_count": 21,
   "metadata": {},
   "outputs": [
    {
     "data": {
      "text/plain": [
       "0    0.940843\n",
       "1    0.059157\n",
       "Name: Weapon Flag, dtype: float64"
      ]
     },
     "execution_count": 21,
     "metadata": {},
     "output_type": "execute_result"
    }
   ],
   "source": [
    "df['Weapon Flag'].value_counts(normalize=True)"
   ]
  },
  {
   "cell_type": "markdown",
   "metadata": {},
   "source": [
    "## Analysis: Weapons Found in 6% of Stops"
   ]
  },
  {
   "cell_type": "markdown",
   "metadata": {},
   "source": [
    "### Officer ID"
   ]
  },
  {
   "cell_type": "code",
   "execution_count": 22,
   "metadata": {},
   "outputs": [
    {
     "data": {
      "text/plain": [
       "array(['7500  ', '5670  ', '4844  ', ..., '6237  ', '6983  ', '5917  '],\n",
       "      dtype=object)"
      ]
     },
     "execution_count": 22,
     "metadata": {},
     "output_type": "execute_result"
    }
   ],
   "source": [
    "# checking uniques\n",
    "df['Officer ID'].unique()"
   ]
  },
  {
   "cell_type": "markdown",
   "metadata": {},
   "source": [
    "### Fixing the Officer ID Column\n",
    "Stripping whitespaces from the IDs."
   ]
  },
  {
   "cell_type": "code",
   "execution_count": 23,
   "metadata": {},
   "outputs": [],
   "source": [
    "# stripping whitespaces\n",
    "df['Officer ID']= df['Officer ID'].apply(lambda x: x.strip())"
   ]
  },
  {
   "cell_type": "code",
   "execution_count": 24,
   "metadata": {},
   "outputs": [
    {
     "data": {
      "text/plain": [
       "1214"
      ]
     },
     "execution_count": 24,
     "metadata": {},
     "output_type": "execute_result"
    }
   ],
   "source": [
    "len(df['Officer ID'].unique())"
   ]
  },
  {
   "cell_type": "markdown",
   "metadata": {},
   "source": [
    "## Analysis: 1214 Officers Reported Stops"
   ]
  },
  {
   "cell_type": "markdown",
   "metadata": {},
   "source": [
    "### Officer Race"
   ]
  },
  {
   "cell_type": "code",
   "execution_count": 25,
   "metadata": {},
   "outputs": [
    {
     "data": {
      "text/plain": [
       "array(['Black or African American', 'White', 'Hispanic or Latino',\n",
       "       'Asian', 'American Indian/Alaska Native', 'Two or More Races',\n",
       "       'Not Specified', 'Nat Hawaiian/Oth Pac Islander', 'Unknown'],\n",
       "      dtype=object)"
      ]
     },
     "execution_count": 25,
     "metadata": {},
     "output_type": "execute_result"
    }
   ],
   "source": [
    "#  checking uniques\n",
    "df['Officer Race'].unique()"
   ]
  },
  {
   "cell_type": "markdown",
   "metadata": {},
   "source": [
    "### Renaming Officer Race Categories for Brevity"
   ]
  },
  {
   "cell_type": "code",
   "execution_count": 26,
   "metadata": {},
   "outputs": [],
   "source": [
    "# renaming categories for brevity\n",
    "officer_race_list = ['Black or African American', 'White', 'Hispanic or Latino',\n",
    "       'Asian', 'American Indian/Alaska Native', 'Two or More Races',\n",
    "       'Not Specified', 'Nat Hawaiian/Oth Pac Islander', 'Unknown']\n",
    "\n",
    "officer_replace_list = race_list = ['Black', 'White', 'Hispanic',\n",
    "       'Asian', 'N_American', 'Multi-Racial',\n",
    "       'NA', 'P_Islander', 'Unknown']\n",
    "\n",
    "df['Officer Race'] = df['Officer Race'].replace(officer_race_list, officer_replace_list)"
   ]
  },
  {
   "cell_type": "code",
   "execution_count": 27,
   "metadata": {},
   "outputs": [
    {
     "data": {
      "text/plain": [
       "White           0.755110\n",
       "Hispanic        0.058077\n",
       "Multi-Racial    0.056171\n",
       "Asian           0.042975\n",
       "Black           0.039820\n",
       "NA              0.030775\n",
       "P_Islander      0.009616\n",
       "N_American      0.006714\n",
       "Unknown         0.000741\n",
       "Name: Officer Race, dtype: float64"
      ]
     },
     "execution_count": 27,
     "metadata": {},
     "output_type": "execute_result"
    }
   ],
   "source": [
    "df['Officer Race'].value_counts(normalize=True)"
   ]
  },
  {
   "cell_type": "markdown",
   "metadata": {},
   "source": [
    "## Analysis: 76% of Officers Reporting Stops Were White "
   ]
  },
  {
   "cell_type": "markdown",
   "metadata": {},
   "source": [
    "### Officer Gender"
   ]
  },
  {
   "cell_type": "code",
   "execution_count": 28,
   "metadata": {},
   "outputs": [
    {
     "data": {
      "text/plain": [
       "array(['M', 'F', 'N'], dtype=object)"
      ]
     },
     "execution_count": 28,
     "metadata": {},
     "output_type": "execute_result"
    }
   ],
   "source": [
    "# checking uniques\n",
    "df['Officer Gender'].unique()"
   ]
  },
  {
   "cell_type": "code",
   "execution_count": 29,
   "metadata": {},
   "outputs": [
    {
     "data": {
      "text/plain": [
       "M    0.885053\n",
       "F    0.114333\n",
       "N    0.000614\n",
       "Name: Officer Gender, dtype: float64"
      ]
     },
     "execution_count": 29,
     "metadata": {},
     "output_type": "execute_result"
    }
   ],
   "source": [
    "df['Officer Gender'].value_counts(normalize=True)"
   ]
  },
  {
   "cell_type": "markdown",
   "metadata": {},
   "source": [
    "## Analysis: 88% of Officers Were Male"
   ]
  },
  {
   "cell_type": "markdown",
   "metadata": {},
   "source": [
    "### Subject Race"
   ]
  },
  {
   "cell_type": "code",
   "execution_count": 30,
   "metadata": {},
   "outputs": [
    {
     "data": {
      "text/plain": [
       "array(['Asian', 'NA', 'White', 'Black or African American', 'Other',\n",
       "       'Unknown', 'American Indian or Alaska Native', 'Hispanic',\n",
       "       'Multi-Racial', 'Native Hawaiian or Other Pacific Islander'],\n",
       "      dtype=object)"
      ]
     },
     "execution_count": 30,
     "metadata": {},
     "output_type": "execute_result"
    }
   ],
   "source": [
    "# checking uniques\n",
    "df['Subject Perceived Race'].unique()"
   ]
  },
  {
   "cell_type": "markdown",
   "metadata": {},
   "source": [
    "### Renaming Subject Race Categories for Brevity\n",
    "Renaming, checking value counts and proportions."
   ]
  },
  {
   "cell_type": "code",
   "execution_count": 31,
   "metadata": {},
   "outputs": [],
   "source": [
    "# renaming categories for brevity\n",
    "race_list = ['Asian', 'NA', 'White', 'Black or African American', 'Other',\n",
    "       'Unknown', 'American Indian or Alaska Native', 'Hispanic',\n",
    "       'Multi-Racial', 'Native Hawaiian or Other Pacific Islander']\n",
    "\n",
    "replace_list =['Asian', 'NA', 'White', 'Black', 'Other',\n",
    "       'Unknown', 'N_American', 'Hispanic',\n",
    "       'Multi-Racial', 'P_Islander']\n",
    "\n",
    "df['Subject Perceived Race'] = df['Subject Perceived Race']\\\n",
    "                                 .replace(race_list, replace_list)"
   ]
  },
  {
   "cell_type": "code",
   "execution_count": 32,
   "metadata": {},
   "outputs": [
    {
     "name": "stdout",
     "output_type": "stream",
     "text": [
      "White           23052\n",
      "Black           14046\n",
      "Unknown          2626\n",
      "NA               1893\n",
      "Hispanic         1684\n",
      "Asian            1536\n",
      "N_American       1359\n",
      "Multi-Racial      809\n",
      "Other             152\n",
      "P_Islander         56\n",
      "Name: Subject Perceived Race, dtype: int64\n"
     ]
    },
    {
     "data": {
      "text/plain": [
       "White           0.488255\n",
       "Black           0.297503\n",
       "Unknown         0.055620\n",
       "NA              0.040095\n",
       "Hispanic        0.035668\n",
       "Asian           0.032533\n",
       "N_American      0.028784\n",
       "Multi-Racial    0.017135\n",
       "Other           0.003219\n",
       "P_Islander      0.001186\n",
       "Name: Subject Perceived Race, dtype: float64"
      ]
     },
     "execution_count": 32,
     "metadata": {},
     "output_type": "execute_result"
    }
   ],
   "source": [
    "print(df['Subject Perceived Race'].value_counts())\n",
    "df['Subject Perceived Race'].value_counts(normalize=True)"
   ]
  },
  {
   "cell_type": "markdown",
   "metadata": {},
   "source": [
    "## Analysis: Subject Racial Breakdown\n",
    "\n",
    "- White 49%\n",
    "\n",
    "- Black 30%\n",
    "\n",
    "- Unknown 6%\n",
    "\n",
    "- NA 4%\n",
    "\n",
    "- Hispanic 4%\n",
    "\n",
    "- Asian 3%\n",
    "\n",
    "- Native American 3%\n",
    "\n",
    "- Multi-Racial 2%\n",
    "\n",
    "- Other .3%\n",
    "\n",
    "- Pacific Islander .1%   "
   ]
  },
  {
   "cell_type": "markdown",
   "metadata": {},
   "source": [
    "### Subject Gender"
   ]
  },
  {
   "cell_type": "code",
   "execution_count": 33,
   "metadata": {},
   "outputs": [
    {
     "data": {
      "text/plain": [
       "array(['Male', 'NA', 'Female', 'Unable to Determine', 'Unknown',\n",
       "       'Gender Diverse (gender non-conforming and/or transgender)'],\n",
       "      dtype=object)"
      ]
     },
     "execution_count": 33,
     "metadata": {},
     "output_type": "execute_result"
    }
   ],
   "source": [
    "# checking uniques\n",
    "df['Subject Perceived Gender'].unique()"
   ]
  },
  {
   "cell_type": "markdown",
   "metadata": {},
   "source": [
    "### Renaming Subject Gender Categories"
   ]
  },
  {
   "cell_type": "code",
   "execution_count": 34,
   "metadata": {},
   "outputs": [],
   "source": [
    "# renaming categories for brevity\n",
    "gender_list = ['Male', 'NA', 'Female', 'Unable to Determine', 'Unknown',\n",
    "       'Gender Diverse (gender non-conforming and/or transgender)']\n",
    "\n",
    "gender_replace = ['Male', 'NA', 'Female', 'Undetermined', 'Unknown',\n",
    "       'Gender Diverse']\n",
    "\n",
    "df['Subject Perceived Gender'] = df['Subject Perceived Gender'].replace(gender_list, gender_replace)"
   ]
  },
  {
   "cell_type": "code",
   "execution_count": 35,
   "metadata": {},
   "outputs": [
    {
     "data": {
      "text/plain": [
       "Male              0.783534\n",
       "Female            0.202974\n",
       "Undetermined      0.006905\n",
       "NA                0.005931\n",
       "Unknown           0.000530\n",
       "Gender Diverse    0.000127\n",
       "Name: Subject Perceived Gender, dtype: float64"
      ]
     },
     "execution_count": 35,
     "metadata": {},
     "output_type": "execute_result"
    }
   ],
   "source": [
    "df['Subject Perceived Gender'].value_counts(normalize=True)"
   ]
  },
  {
   "cell_type": "markdown",
   "metadata": {},
   "source": [
    "## Analysis: 78% of Subjects Were Male"
   ]
  },
  {
   "cell_type": "markdown",
   "metadata": {},
   "source": [
    "### Date & Time Features"
   ]
  },
  {
   "cell_type": "code",
   "execution_count": 36,
   "metadata": {},
   "outputs": [
    {
     "name": "stdout",
     "output_type": "stream",
     "text": [
      "0    2015-10-16T00:00:00\n",
      "1    2015-03-19T00:00:00\n",
      "Name: Reported Date, dtype: object\n"
     ]
    },
    {
     "data": {
      "text/plain": [
       "0    11:32:00\n",
       "1    07:59:00\n",
       "Name: Reported Time, dtype: object"
      ]
     },
     "execution_count": 36,
     "metadata": {},
     "output_type": "execute_result"
    }
   ],
   "source": [
    "# checking date and time columns\n",
    "print(df['Reported Date'][:2])\n",
    "df['Reported Time'][:2]"
   ]
  },
  {
   "cell_type": "markdown",
   "metadata": {},
   "source": [
    "### Converting Date & Time Columns to Datetime Types"
   ]
  },
  {
   "cell_type": "code",
   "execution_count": 37,
   "metadata": {},
   "outputs": [],
   "source": [
    "# converting date & time columns to datetime types\n",
    "df = df.astype({'Reported Time':'datetime64', 'Reported Date':'datetime64'})"
   ]
  },
  {
   "cell_type": "markdown",
   "metadata": {},
   "source": [
    "### Creating Year, Month, DOM, DOW, and Hour Features"
   ]
  },
  {
   "cell_type": "code",
   "execution_count": 38,
   "metadata": {},
   "outputs": [],
   "source": [
    "#  getting year, month, day of month, day of week, and hour features\n",
    "df['Reported Year'] = df['Reported Date'].dt.year\n",
    "df['Reported Month'] = df['Reported Date'].dt.month\n",
    "df['Day of Month'] = df['Reported Date'].dt.day\n",
    "\n",
    "# Monday = 0, Sunday = 6\n",
    "df['Day of Week'] = df['Reported Date'].dt.weekday\n",
    "df['Reported Hour'] = df['Reported Time'].dt.hour"
   ]
  },
  {
   "cell_type": "code",
   "execution_count": 39,
   "metadata": {},
   "outputs": [
    {
     "data": {
      "text/html": [
       "<div>\n",
       "<style scoped>\n",
       "    .dataframe tbody tr th:only-of-type {\n",
       "        vertical-align: middle;\n",
       "    }\n",
       "\n",
       "    .dataframe tbody tr th {\n",
       "        vertical-align: top;\n",
       "    }\n",
       "\n",
       "    .dataframe thead th {\n",
       "        text-align: right;\n",
       "    }\n",
       "</style>\n",
       "<table border=\"1\" class=\"dataframe\">\n",
       "  <thead>\n",
       "    <tr style=\"text-align: right;\">\n",
       "      <th></th>\n",
       "      <th>Target</th>\n",
       "      <th>Subject Age Group</th>\n",
       "      <th>Subject ID</th>\n",
       "      <th>GO / SC Num</th>\n",
       "      <th>Terry Stop ID</th>\n",
       "      <th>Stop Resolution</th>\n",
       "      <th>Weapon Type</th>\n",
       "      <th>Officer ID</th>\n",
       "      <th>Officer YOB</th>\n",
       "      <th>Officer Gender</th>\n",
       "      <th>...</th>\n",
       "      <th>Frisk Flag</th>\n",
       "      <th>Precinct</th>\n",
       "      <th>Sector</th>\n",
       "      <th>Beat</th>\n",
       "      <th>Weapon Flag</th>\n",
       "      <th>Reported Year</th>\n",
       "      <th>Reported Month</th>\n",
       "      <th>Day of Month</th>\n",
       "      <th>Day of Week</th>\n",
       "      <th>Reported Hour</th>\n",
       "    </tr>\n",
       "  </thead>\n",
       "  <tbody>\n",
       "    <tr>\n",
       "      <th>0</th>\n",
       "      <td>1</td>\n",
       "      <td>NA</td>\n",
       "      <td>-1</td>\n",
       "      <td>20140000120677</td>\n",
       "      <td>92317</td>\n",
       "      <td>Arrest</td>\n",
       "      <td>None</td>\n",
       "      <td>7500</td>\n",
       "      <td>1984</td>\n",
       "      <td>M</td>\n",
       "      <td>...</td>\n",
       "      <td>N</td>\n",
       "      <td>South</td>\n",
       "      <td>O</td>\n",
       "      <td>O2</td>\n",
       "      <td>0</td>\n",
       "      <td>2015</td>\n",
       "      <td>10</td>\n",
       "      <td>16</td>\n",
       "      <td>4</td>\n",
       "      <td>11</td>\n",
       "    </tr>\n",
       "    <tr>\n",
       "      <th>39233</th>\n",
       "      <td>0</td>\n",
       "      <td>46 - 55</td>\n",
       "      <td>-1</td>\n",
       "      <td>20150000218351</td>\n",
       "      <td>58128</td>\n",
       "      <td>Referred for Prosecution</td>\n",
       "      <td>None</td>\n",
       "      <td>7459</td>\n",
       "      <td>1973</td>\n",
       "      <td>M</td>\n",
       "      <td>...</td>\n",
       "      <td>Y</td>\n",
       "      <td>North</td>\n",
       "      <td>B</td>\n",
       "      <td>B1</td>\n",
       "      <td>0</td>\n",
       "      <td>2015</td>\n",
       "      <td>6</td>\n",
       "      <td>28</td>\n",
       "      <td>6</td>\n",
       "      <td>5</td>\n",
       "    </tr>\n",
       "  </tbody>\n",
       "</table>\n",
       "<p>2 rows × 30 columns</p>\n",
       "</div>"
      ],
      "text/plain": [
       "       Target Subject Age Group  Subject ID     GO / SC Num  Terry Stop ID  \\\n",
       "0           1                NA          -1  20140000120677          92317   \n",
       "39233       0           46 - 55          -1  20150000218351          58128   \n",
       "\n",
       "                Stop Resolution Weapon Type Officer ID  Officer YOB  \\\n",
       "0                        Arrest        None       7500         1984   \n",
       "39233  Referred for Prosecution        None       7459         1973   \n",
       "\n",
       "      Officer Gender  ... Frisk Flag Precinct  Sector    Beat Weapon Flag  \\\n",
       "0                  M  ...          N    South  O       O2               0   \n",
       "39233              M  ...          Y    North  B       B1               0   \n",
       "\n",
       "      Reported Year Reported Month Day of Month Day of Week Reported Hour  \n",
       "0              2015             10           16           4            11  \n",
       "39233          2015              6           28           6             5  \n",
       "\n",
       "[2 rows x 30 columns]"
      ]
     },
     "execution_count": 39,
     "metadata": {},
     "output_type": "execute_result"
    }
   ],
   "source": [
    "# checking work\n",
    "df.sort_values(by='Reported Year').head(2)"
   ]
  },
  {
   "cell_type": "code",
   "execution_count": 40,
   "metadata": {},
   "outputs": [],
   "source": [
    "# dropping date and time columns\n",
    "df.drop(['Reported Date', 'Reported Time'], axis=1, inplace=True)"
   ]
  },
  {
   "cell_type": "markdown",
   "metadata": {},
   "source": [
    "### Checking Call Type Feature Value Counts"
   ]
  },
  {
   "cell_type": "markdown",
   "metadata": {},
   "source": [
    "### Initial Call Feature"
   ]
  },
  {
   "cell_type": "code",
   "execution_count": 41,
   "metadata": {},
   "outputs": [
    {
     "data": {
      "text/plain": [
       "NA                                                    13162\n",
       "SUSPICIOUS STOP - OFFICER INITIATED ONVIEW             3165\n",
       "SUSPICIOUS PERSON, VEHICLE OR INCIDENT                 2994\n",
       "DISTURBANCE, MISCELLANEOUS/OTHER                       2429\n",
       "ASLT - IP/JO - WITH OR W/O WPNS (NO SHOOTINGS)         2007\n",
       "TRESPASS                                               1903\n",
       "THEFT (DOES NOT INCLUDE SHOPLIFT OR SVCS)              1398\n",
       "SHOPLIFT - THEFT                                       1366\n",
       "FIGHT - IP - PHYSICAL (NO WEAPONS)                     1282\n",
       "WEAPN-IP/JO-GUN,DEADLY WPN (NO THRT/ASLT/DIST)         1150\n",
       "ROBBERY - IP/JO (INCLUDES STRONG ARM)                   903\n",
       "BURG - IP/JO - RES (INCL UNOCC STRUCTURES)              803\n",
       "THREATS (INCLS IN-PERSON/BY PHONE/IN WRITING)           739\n",
       "DIST - IP/JO - DV DIST - NO ASLT                        705\n",
       "PROPERTY - DAMAGE                                       699\n",
       "NARCOTICS - VIOLATIONS (LOITER, USE, SELL, NARS)        698\n",
       "AUTO RECOVERY                                           666\n",
       "ASLT - IP/JO - DV                                       662\n",
       "TRAFFIC STOP - OFFICER INITIATED ONVIEW                 659\n",
       "BURG - IP/JO - COMM BURG (INCLUDES SCHOOLS)             526\n",
       "ASLT - WITH OR W/O WEAPONS (NO SHOOTINGS)               522\n",
       "WARRANT - FELONY PICKUP                                 439\n",
       "ASLT - IP/JO - PERSON SHOT OR SHOT AT                   387\n",
       "DIST - DV - NO ASLT                                     372\n",
       "NUISANCE - MISCHIEF                                     338\n",
       "UNKNOWN - COMPLAINT OF UNKNOWN NATURE                   293\n",
       "FIGHT - VERBAL/ORAL (NO WEAPONS)                        283\n",
       "DOWN - CHECK FOR PERSON DOWN                            282\n",
       "SHOTS - IP/JO - INCLUDES HEARD/NO ASSAULT               266\n",
       "ALARM - COMM, SILENT/AUD BURG (INCL BANKS)              255\n",
       "PROWLER - IP/JO                                         251\n",
       "BURG - COMM BURGLARY (INCLUDES SCHOOLS)                 241\n",
       "BURG - RES (INCL UNOCC STRUCTURES ON PROP)              221\n",
       "ROBBERY (INCLUDES STRONG ARM)                           216\n",
       "FIGHT - IP/JO - WITH WEAPONS                            205\n",
       "WEAPN - GUN,DEADLY WPN (NO THRTS/ASLT/DIST)             191\n",
       "PERSON IN BEHAVIORAL/EMOTIONAL CRISIS                   186\n",
       "WARRANT - MISD WARRANT PICKUP                           173\n",
       "PREMISE CHECK, OFFICER INITIATED ONVIEW ONLY            171\n",
       "LEWD -  (EXPOSING, FLASHING)                            166\n",
       "DUI - DRIVING UNDER INFLUENCE                           156\n",
       "SFD - ASSIST ON FIRE OR MEDIC RESPONSE                  151\n",
       "FIGHT - JO - PHYSICAL (NO WEAPONS)                      150\n",
       "HAZ - POTENTIAL THRT TO PHYS SAFETY (NO HAZMAT)         149\n",
       "MVC - HIT AND RUN (NON INJURY), INCLUDES IP/JO          147\n",
       "MVC - WITH INJURIES (INCLUDES HIT AND RUN)              125\n",
       "ASLT - DV                                               123\n",
       "SUICIDE - IP/JO SUICIDAL PERSON AND ATTEMPTS            113\n",
       "FRAUD - FORGERY,BUNCO, SCAMS, ID THEFT, ETC             111\n",
       "ARSON - IP/JO                                           110\n",
       "ASSIST OTHER AGENCY - ROUTINE SERVICE                    99\n",
       "UNKNOWN - ANI/ALI - WRLS PHNS (INCL OPEN LINE)           96\n",
       "FOLLOW UP                                                94\n",
       "SEX IN PUBLIC PLACE/VIEW (INCL MASTURBATION)             90\n",
       "ORDER - IP - VIOLATION OF DV COURT ORDER                 87\n",
       "BURN - RECKLESS BURNING                                  78\n",
       "AUTO THEFT-IP/JO - VEHICLE, PLATES, TABS                 77\n",
       "SERVICE - WELFARE CHECK                                  75\n",
       "THEFT OF SERVICES                                        75\n",
       "UNDERCOVER OPS, CAUTION (INCLUDES STAKEOUTS)             72\n",
       "LIQUOR VIOLATIONS - ADULT                                64\n",
       "AUTO THEFT - VEH THEFT OR THEFT & RECOVERY               60\n",
       "DOWN - CHECK FOR DOWN PERSON                             59\n",
       "HARAS - NO BIAS, THREATS OR MALICIOUSNESS                57\n",
       "ORDER - VIOLATING DV COURT ORDER                         56\n",
       "MVC - REPORT, NON INJ/NON BLKG OR AFTER FACT INJ         51\n",
       "UNKNOWN - ANI/ALI - LANDLINE (INCLUDES OPEN LINE)        47\n",
       "THREATS - DV - NO ASSAULT                                47\n",
       "OVERDOSE - DRUG RELATED CASUALTY                         45\n",
       "ASLT - MOLESTED ADULT (GROPED, FONDLED, ETC.)            43\n",
       "WARRANT - SEARCH. EXECUTED, SECURED                      40\n",
       "ASSIST PUBLIC - NO WELFARE CHK OR DV ORDER SERVICE       40\n",
       "PROWLER                                                  39\n",
       "MVC - NON INJURY, BLOCKING                               38\n",
       "MVC - UNK INJURIES                                       37\n",
       "RAPE - IP/JO                                             36\n",
       "VICE - PROSTITUTION                                      36\n",
       "WARRANT - SEARCH. CAUTION (EXCL NARCOTICS)               34\n",
       "CHILD - IP/JO - ABAND, ABUSE, MOLEST, NEGLECT            30\n",
       "ASSIST OTHER AGENCY - EMERGENCY SERVICE                  30\n",
       "TRAFFIC - ROAD RAGE                                      29\n",
       "CARJACKING - IP/JO - ROBBERY                             27\n",
       "ORDER - VIOLATION OF COURT ORDER (NON DV)                26\n",
       "PURSE SNATCH - IP/JO - ROBBERY                           25\n",
       "RAPE                                                     25\n",
       "PANHANDLING, AGGRESSIVE                                  24\n",
       "ALARM - RESIDENTIAL - BURGLARY, SILENT/AUDIBLE           24\n",
       "ARSON - REPORT                                           23\n",
       "FOOT - ELUDING POLICE                                    23\n",
       "TRAFFIC - BLOCKING ROADWAY                               22\n",
       "TRAFFIC - MOVING VIOLATION                               22\n",
       "OPEN - BUILDING, DOOR, ETC.                              21\n",
       "LIQUOR VIOLATIONS - MINOR                                19\n",
       "BIAS -RACIAL, POLITICAL, SEXUAL MOTIVATION               19\n",
       "PEACE-STANDBY TO ASSURE (NO COURT ORDR SVC)              18\n",
       "CHILD - ABAND, ABUSED, MOLESTED, NEGLECTED               18\n",
       "NARCOTICS WARRANT SERVICE - EXECUTED, SECURED            18\n",
       "NOISE - DISTURBANCE (PARTY, ETC)                         18\n",
       "ALARM - BANK (HOLD-UP)                                   17\n",
       "SHOTS -DELAY/INCLUDES HEARD/NO ASSAULT                   16\n",
       "ILLEGAL DUMPING                                          16\n",
       "ANIMAL - INJURED, DEAD HAZARD, OTHER                     16\n",
       "PEDESTRIAN VIOLATIONS                                    15\n",
       "NOISE - DIST, GENERAL (CONST, RESID, BALL PLAY)          15\n",
       "BOMB THREATS - IP/JO                                     14\n",
       "PARKING VIOLATION (EXCEPT ABANDONED CAR)                 12\n",
       "PROPERTY - FOUND                                         11\n",
       "TRAF - ELUDING POLICE                                    11\n",
       "FOUND - PERSON                                           11\n",
       "HELP THE OFFICER                                         11\n",
       "AUTO - THEFT/LOSS, PLATES AND/OR TAB                     10\n",
       "FIGHT - WITH WEAPONS                                     10\n",
       "PURSE SNATCH - ROBBERY                                    9\n",
       "FIREWORKS - NUISANCE (NO HAZARD)                          9\n",
       "NARCOTICS WARRANT SERVICE                                 9\n",
       "JUVENILE - RUNAWAY                                        9\n",
       "JUVENILE - RUNAWAY PICKUP                                 8\n",
       "ASLT - PERSON SHOT OR SHOT AT                             8\n",
       "SUICIDE, SUICIDAL PERSON AND ATTEMPTS                     8\n",
       "DIRECTED PATROL ACTIVITY                                  7\n",
       "NARCOTICS - FOUND                                         7\n",
       "ASSIST SPD - ROUTINE SERVICE                              6\n",
       "DOA - CASUALTY, DEAD BODY                                 6\n",
       "-ASSIGNED DUTY - FOOT BEAT (FROM ASSIGNED CAR)            6\n",
       "CHILD - IP/JO - LURING                                    6\n",
       "HAZ - IMMINENT THRT TO PHYS SAFETY (NO HAZ MAT)           5\n",
       "PARKS VIOLATIONS/CITES (INCLUDES EXCLUSIONS)              5\n",
       "ALARM - COMM, HOLD-UP/PANIC (EXCEPT BANKS)                4\n",
       "MISSING - CHILD                                           4\n",
       "SUSPICIOUS PACKAGE                                        4\n",
       "CHILD -  LURING                                           4\n",
       "TRU - THEFT                                               4\n",
       "INJURED - IP/JO - PERSON/INDUSTRIAL ACCIDENT              3\n",
       "SICK PERSON                                               3\n",
       "CARJACKING - ROBBERY                                      3\n",
       "OFF DUTY EMPLOYMENT                                       3\n",
       "TRAFFIC - ASSIST MOTORIST                                 3\n",
       "EXPLOSION - IP/JO                                         3\n",
       "ALARM - AUDIBLE AUTOMOBILE (UNOCC/ANTI-THEFT)             3\n",
       "AWOL - ADULT OR JUVENILE                                  2\n",
       "ANIMAL - IP/JO - BITE                                     2\n",
       "PROPERTY - DAMAGE (GUN RELATED)                           2\n",
       "SLEEPER ABOARD BUS/COMMUTER TRAIN                         2\n",
       "ORDER  - SERVICE OF DV COURT ORDER                        2\n",
       "LITTERING                                                 2\n",
       "URINATING, DEFECATING IN PUBLIC                           2\n",
       "ASSIST SPD - URGENT SERVICE                               2\n",
       "GAMBLING                                                  2\n",
       "UNKNOWN - ANI/ALI - PAY PHNS (INCL OPEN LINE)             1\n",
       "ESCAPE - PRISONER                                         1\n",
       "ALARM - RESIDENTIAL - SILENT/AUD PANIC/DURESS             1\n",
       "REQUEST TO WATCH                                          1\n",
       "-ASSIGNED DUTY - STAKEOUT                                 1\n",
       "MISSING - ADULT                                           1\n",
       "PHONE - OBSCENE OR NUISANCE PHONE CALLS                   1\n",
       "PROPERTY - FOUND GUN, SHELLCASINGS                        1\n",
       "KNOWN KIDNAPPNG                                           1\n",
       "ANIMAL, REPORT - BITE                                     1\n",
       "TRACKING ALARM                                            1\n",
       "VICE - PORNOGRAPHY                                        1\n",
       "ALARM - ATM MACHINE, FREE STANDING                        1\n",
       "HARBOR - WATER EMERGENCIES                                1\n",
       "INJURED -  PERSON/INDUSTRIAL ACCIDENT                     1\n",
       "MISSING - (ALZHEIMER, ENDANGERED, ELDERLY)                1\n",
       "WARRANT PICKUP - FROM OTHER AGENCY                        1\n",
       "DEMONSTRATIONS                                            1\n",
       "ORDER - ASSIST DV VIC W/SRVC OF COURT ORDER               1\n",
       "Name: Initial Call Type, dtype: int64"
      ]
     },
     "execution_count": 41,
     "metadata": {},
     "output_type": "execute_result"
    }
   ],
   "source": [
    "df['Initial Call Type'].value_counts()"
   ]
  },
  {
   "cell_type": "code",
   "execution_count": 42,
   "metadata": {},
   "outputs": [
    {
     "data": {
      "text/plain": [
       "NA                                                    0.278779\n",
       "SUSPICIOUS STOP - OFFICER INITIATED ONVIEW            0.067037\n",
       "SUSPICIOUS PERSON, VEHICLE OR INCIDENT                0.063415\n",
       "DISTURBANCE, MISCELLANEOUS/OTHER                      0.051448\n",
       "ASLT - IP/JO - WITH OR W/O WPNS (NO SHOOTINGS)        0.042509\n",
       "TRESPASS                                              0.040307\n",
       "THEFT (DOES NOT INCLUDE SHOPLIFT OR SVCS)             0.029610\n",
       "SHOPLIFT - THEFT                                      0.028933\n",
       "FIGHT - IP - PHYSICAL (NO WEAPONS)                    0.027154\n",
       "WEAPN-IP/JO-GUN,DEADLY WPN (NO THRT/ASLT/DIST)        0.024358\n",
       "ROBBERY - IP/JO (INCLUDES STRONG ARM)                 0.019126\n",
       "BURG - IP/JO - RES (INCL UNOCC STRUCTURES)            0.017008\n",
       "THREATS (INCLS IN-PERSON/BY PHONE/IN WRITING)         0.015652\n",
       "DIST - IP/JO - DV DIST - NO ASLT                      0.014932\n",
       "PROPERTY - DAMAGE                                     0.014805\n",
       "NARCOTICS - VIOLATIONS (LOITER, USE, SELL, NARS)      0.014784\n",
       "AUTO RECOVERY                                         0.014106\n",
       "ASLT - IP/JO - DV                                     0.014022\n",
       "TRAFFIC STOP - OFFICER INITIATED ONVIEW               0.013958\n",
       "BURG - IP/JO - COMM BURG (INCLUDES SCHOOLS)           0.011141\n",
       "ASLT - WITH OR W/O WEAPONS (NO SHOOTINGS)             0.011056\n",
       "WARRANT - FELONY PICKUP                               0.009298\n",
       "ASLT - IP/JO - PERSON SHOT OR SHOT AT                 0.008197\n",
       "DIST - DV - NO ASLT                                   0.007879\n",
       "NUISANCE - MISCHIEF                                   0.007159\n",
       "UNKNOWN - COMPLAINT OF UNKNOWN NATURE                 0.006206\n",
       "FIGHT - VERBAL/ORAL (NO WEAPONS)                      0.005994\n",
       "DOWN - CHECK FOR PERSON DOWN                          0.005973\n",
       "SHOTS - IP/JO - INCLUDES HEARD/NO ASSAULT             0.005634\n",
       "ALARM - COMM, SILENT/AUD BURG (INCL BANKS)            0.005401\n",
       "PROWLER - IP/JO                                       0.005316\n",
       "BURG - COMM BURGLARY (INCLUDES SCHOOLS)               0.005105\n",
       "BURG - RES (INCL UNOCC STRUCTURES ON PROP)            0.004681\n",
       "ROBBERY (INCLUDES STRONG ARM)                         0.004575\n",
       "FIGHT - IP/JO - WITH WEAPONS                          0.004342\n",
       "WEAPN - GUN,DEADLY WPN (NO THRTS/ASLT/DIST)           0.004045\n",
       "PERSON IN BEHAVIORAL/EMOTIONAL CRISIS                 0.003940\n",
       "WARRANT - MISD WARRANT PICKUP                         0.003664\n",
       "PREMISE CHECK, OFFICER INITIATED ONVIEW ONLY          0.003622\n",
       "LEWD -  (EXPOSING, FLASHING)                          0.003516\n",
       "DUI - DRIVING UNDER INFLUENCE                         0.003304\n",
       "SFD - ASSIST ON FIRE OR MEDIC RESPONSE                0.003198\n",
       "FIGHT - JO - PHYSICAL (NO WEAPONS)                    0.003177\n",
       "HAZ - POTENTIAL THRT TO PHYS SAFETY (NO HAZMAT)       0.003156\n",
       "MVC - HIT AND RUN (NON INJURY), INCLUDES IP/JO        0.003114\n",
       "MVC - WITH INJURIES (INCLUDES HIT AND RUN)            0.002648\n",
       "ASLT - DV                                             0.002605\n",
       "SUICIDE - IP/JO SUICIDAL PERSON AND ATTEMPTS          0.002393\n",
       "FRAUD - FORGERY,BUNCO, SCAMS, ID THEFT, ETC           0.002351\n",
       "ARSON - IP/JO                                         0.002330\n",
       "ASSIST OTHER AGENCY - ROUTINE SERVICE                 0.002097\n",
       "UNKNOWN - ANI/ALI - WRLS PHNS (INCL OPEN LINE)        0.002033\n",
       "FOLLOW UP                                             0.001991\n",
       "SEX IN PUBLIC PLACE/VIEW (INCL MASTURBATION)          0.001906\n",
       "ORDER - IP - VIOLATION OF DV COURT ORDER              0.001843\n",
       "BURN - RECKLESS BURNING                               0.001652\n",
       "AUTO THEFT-IP/JO - VEHICLE, PLATES, TABS              0.001631\n",
       "SERVICE - WELFARE CHECK                               0.001589\n",
       "THEFT OF SERVICES                                     0.001589\n",
       "UNDERCOVER OPS, CAUTION (INCLUDES STAKEOUTS)          0.001525\n",
       "LIQUOR VIOLATIONS - ADULT                             0.001356\n",
       "AUTO THEFT - VEH THEFT OR THEFT & RECOVERY            0.001271\n",
       "DOWN - CHECK FOR DOWN PERSON                          0.001250\n",
       "HARAS - NO BIAS, THREATS OR MALICIOUSNESS             0.001207\n",
       "ORDER - VIOLATING DV COURT ORDER                      0.001186\n",
       "MVC - REPORT, NON INJ/NON BLKG OR AFTER FACT INJ      0.001080\n",
       "UNKNOWN - ANI/ALI - LANDLINE (INCLUDES OPEN LINE)     0.000995\n",
       "THREATS - DV - NO ASSAULT                             0.000995\n",
       "OVERDOSE - DRUG RELATED CASUALTY                      0.000953\n",
       "ASLT - MOLESTED ADULT (GROPED, FONDLED, ETC.)         0.000911\n",
       "WARRANT - SEARCH. EXECUTED, SECURED                   0.000847\n",
       "ASSIST PUBLIC - NO WELFARE CHK OR DV ORDER SERVICE    0.000847\n",
       "PROWLER                                               0.000826\n",
       "MVC - NON INJURY, BLOCKING                            0.000805\n",
       "MVC - UNK INJURIES                                    0.000784\n",
       "RAPE - IP/JO                                          0.000763\n",
       "VICE - PROSTITUTION                                   0.000763\n",
       "WARRANT - SEARCH. CAUTION (EXCL NARCOTICS)            0.000720\n",
       "CHILD - IP/JO - ABAND, ABUSE, MOLEST, NEGLECT         0.000635\n",
       "ASSIST OTHER AGENCY - EMERGENCY SERVICE               0.000635\n",
       "TRAFFIC - ROAD RAGE                                   0.000614\n",
       "CARJACKING - IP/JO - ROBBERY                          0.000572\n",
       "ORDER - VIOLATION OF COURT ORDER (NON DV)             0.000551\n",
       "PURSE SNATCH - IP/JO - ROBBERY                        0.000530\n",
       "RAPE                                                  0.000530\n",
       "PANHANDLING, AGGRESSIVE                               0.000508\n",
       "ALARM - RESIDENTIAL - BURGLARY, SILENT/AUDIBLE        0.000508\n",
       "ARSON - REPORT                                        0.000487\n",
       "FOOT - ELUDING POLICE                                 0.000487\n",
       "TRAFFIC - BLOCKING ROADWAY                            0.000466\n",
       "TRAFFIC - MOVING VIOLATION                            0.000466\n",
       "OPEN - BUILDING, DOOR, ETC.                           0.000445\n",
       "LIQUOR VIOLATIONS - MINOR                             0.000402\n",
       "BIAS -RACIAL, POLITICAL, SEXUAL MOTIVATION            0.000402\n",
       "PEACE-STANDBY TO ASSURE (NO COURT ORDR SVC)           0.000381\n",
       "CHILD - ABAND, ABUSED, MOLESTED, NEGLECTED            0.000381\n",
       "NARCOTICS WARRANT SERVICE - EXECUTED, SECURED         0.000381\n",
       "NOISE - DISTURBANCE (PARTY, ETC)                      0.000381\n",
       "ALARM - BANK (HOLD-UP)                                0.000360\n",
       "SHOTS -DELAY/INCLUDES HEARD/NO ASSAULT                0.000339\n",
       "ILLEGAL DUMPING                                       0.000339\n",
       "ANIMAL - INJURED, DEAD HAZARD, OTHER                  0.000339\n",
       "PEDESTRIAN VIOLATIONS                                 0.000318\n",
       "NOISE - DIST, GENERAL (CONST, RESID, BALL PLAY)       0.000318\n",
       "BOMB THREATS - IP/JO                                  0.000297\n",
       "PARKING VIOLATION (EXCEPT ABANDONED CAR)              0.000254\n",
       "PROPERTY - FOUND                                      0.000233\n",
       "TRAF - ELUDING POLICE                                 0.000233\n",
       "FOUND - PERSON                                        0.000233\n",
       "HELP THE OFFICER                                      0.000233\n",
       "AUTO - THEFT/LOSS, PLATES AND/OR TAB                  0.000212\n",
       "FIGHT - WITH WEAPONS                                  0.000212\n",
       "PURSE SNATCH - ROBBERY                                0.000191\n",
       "FIREWORKS - NUISANCE (NO HAZARD)                      0.000191\n",
       "NARCOTICS WARRANT SERVICE                             0.000191\n",
       "JUVENILE - RUNAWAY                                    0.000191\n",
       "JUVENILE - RUNAWAY PICKUP                             0.000169\n",
       "ASLT - PERSON SHOT OR SHOT AT                         0.000169\n",
       "SUICIDE, SUICIDAL PERSON AND ATTEMPTS                 0.000169\n",
       "DIRECTED PATROL ACTIVITY                              0.000148\n",
       "NARCOTICS - FOUND                                     0.000148\n",
       "ASSIST SPD - ROUTINE SERVICE                          0.000127\n",
       "DOA - CASUALTY, DEAD BODY                             0.000127\n",
       "-ASSIGNED DUTY - FOOT BEAT (FROM ASSIGNED CAR)        0.000127\n",
       "CHILD - IP/JO - LURING                                0.000127\n",
       "HAZ - IMMINENT THRT TO PHYS SAFETY (NO HAZ MAT)       0.000106\n",
       "PARKS VIOLATIONS/CITES (INCLUDES EXCLUSIONS)          0.000106\n",
       "ALARM - COMM, HOLD-UP/PANIC (EXCEPT BANKS)            0.000085\n",
       "MISSING - CHILD                                       0.000085\n",
       "SUSPICIOUS PACKAGE                                    0.000085\n",
       "CHILD -  LURING                                       0.000085\n",
       "TRU - THEFT                                           0.000085\n",
       "INJURED - IP/JO - PERSON/INDUSTRIAL ACCIDENT          0.000064\n",
       "SICK PERSON                                           0.000064\n",
       "CARJACKING - ROBBERY                                  0.000064\n",
       "OFF DUTY EMPLOYMENT                                   0.000064\n",
       "TRAFFIC - ASSIST MOTORIST                             0.000064\n",
       "EXPLOSION - IP/JO                                     0.000064\n",
       "ALARM - AUDIBLE AUTOMOBILE (UNOCC/ANTI-THEFT)         0.000064\n",
       "AWOL - ADULT OR JUVENILE                              0.000042\n",
       "ANIMAL - IP/JO - BITE                                 0.000042\n",
       "PROPERTY - DAMAGE (GUN RELATED)                       0.000042\n",
       "SLEEPER ABOARD BUS/COMMUTER TRAIN                     0.000042\n",
       "ORDER  - SERVICE OF DV COURT ORDER                    0.000042\n",
       "LITTERING                                             0.000042\n",
       "URINATING, DEFECATING IN PUBLIC                       0.000042\n",
       "ASSIST SPD - URGENT SERVICE                           0.000042\n",
       "GAMBLING                                              0.000042\n",
       "UNKNOWN - ANI/ALI - PAY PHNS (INCL OPEN LINE)         0.000021\n",
       "ESCAPE - PRISONER                                     0.000021\n",
       "ALARM - RESIDENTIAL - SILENT/AUD PANIC/DURESS         0.000021\n",
       "REQUEST TO WATCH                                      0.000021\n",
       "-ASSIGNED DUTY - STAKEOUT                             0.000021\n",
       "MISSING - ADULT                                       0.000021\n",
       "PHONE - OBSCENE OR NUISANCE PHONE CALLS               0.000021\n",
       "PROPERTY - FOUND GUN, SHELLCASINGS                    0.000021\n",
       "KNOWN KIDNAPPNG                                       0.000021\n",
       "ANIMAL, REPORT - BITE                                 0.000021\n",
       "TRACKING ALARM                                        0.000021\n",
       "VICE - PORNOGRAPHY                                    0.000021\n",
       "ALARM - ATM MACHINE, FREE STANDING                    0.000021\n",
       "HARBOR - WATER EMERGENCIES                            0.000021\n",
       "INJURED -  PERSON/INDUSTRIAL ACCIDENT                 0.000021\n",
       "MISSING - (ALZHEIMER, ENDANGERED, ELDERLY)            0.000021\n",
       "WARRANT PICKUP - FROM OTHER AGENCY                    0.000021\n",
       "DEMONSTRATIONS                                        0.000021\n",
       "ORDER - ASSIST DV VIC W/SRVC OF COURT ORDER           0.000021\n",
       "Name: Initial Call Type, dtype: float64"
      ]
     },
     "execution_count": 42,
     "metadata": {},
     "output_type": "execute_result"
    }
   ],
   "source": [
    "df['Initial Call Type'].value_counts(normalize=True)"
   ]
  },
  {
   "cell_type": "markdown",
   "metadata": {},
   "source": [
    "## Analysis `NA` is Largest Category at 28% "
   ]
  },
  {
   "cell_type": "markdown",
   "metadata": {},
   "source": [
    "### Final Call Feature"
   ]
  },
  {
   "cell_type": "code",
   "execution_count": 43,
   "metadata": {},
   "outputs": [
    {
     "data": {
      "text/plain": [
       "NA                                              13162\n",
       "--SUSPICIOUS CIRCUM. - SUSPICIOUS PERSON         3772\n",
       "--PROWLER - TRESPASS                             3330\n",
       "--DISTURBANCE - OTHER                            2719\n",
       "--ASSAULTS, OTHER                                2297\n",
       "--WARRANT SERVICES - FELONY                      1674\n",
       "--DV - ARGUMENTS, DISTURBANCE (NO ARREST)        1303\n",
       "--THEFT - SHOPLIFT                               1235\n",
       "--DV - DOMESTIC VIOL/ASLT (ARREST MANDATORY)     1190\n",
       "--ASSAULTS - HARASSMENT, THREATS                 1049\n",
       "--WARRANT SERVICES - MISDEMEANOR                 1043\n",
       "--NARCOTICS - OTHER                               897\n",
       "--SUSPICIOUS CIRCUM. - SUSPICIOUS VEHICLE         896\n",
       "--CRISIS COMPLAINT - GENERAL                      892\n",
       "--THEFT - ALL OTHER                               801\n",
       "--PROPERTY DEST (DAMG)                            737\n",
       "--ROBBERY - STRONG ARM                            629\n",
       "--TRAFFIC - D.U.I.                                574\n",
       "--BURGLARY - NON RESIDENTIAL/COMMERCIAL           560\n",
       "--AUTOMOBILES - RECOVERY (THEFT)                  539\n",
       "--DISTURBANCE - FIGHT                             503\n",
       "--THEFT - CAR PROWL                               501\n",
       "--WEAPON, PERSON WITH - GUN                       488\n",
       "--ROBBERY - ARMED                                 481\n",
       "--WEAPON,PERSON WITH - OTHER WEAPON               401\n",
       "Name: Final Call Type, dtype: int64"
      ]
     },
     "execution_count": 43,
     "metadata": {},
     "output_type": "execute_result"
    }
   ],
   "source": [
    "df['Final Call Type'].value_counts()[:25]"
   ]
  },
  {
   "cell_type": "code",
   "execution_count": 44,
   "metadata": {},
   "outputs": [
    {
     "data": {
      "text/plain": [
       "NA                                              0.278779\n",
       "--SUSPICIOUS CIRCUM. - SUSPICIOUS PERSON        0.079893\n",
       "--PROWLER - TRESPASS                            0.070531\n",
       "--DISTURBANCE - OTHER                           0.057590\n",
       "--ASSAULTS, OTHER                               0.048652\n",
       "--WARRANT SERVICES - FELONY                     0.035456\n",
       "--DV - ARGUMENTS, DISTURBANCE (NO ARREST)       0.027598\n",
       "--THEFT - SHOPLIFT                              0.026158\n",
       "--DV - DOMESTIC VIOL/ASLT (ARREST MANDATORY)    0.025205\n",
       "--ASSAULTS - HARASSMENT, THREATS                0.022218\n",
       "--WARRANT SERVICES - MISDEMEANOR                0.022091\n",
       "--NARCOTICS - OTHER                             0.018999\n",
       "--SUSPICIOUS CIRCUM. - SUSPICIOUS VEHICLE       0.018978\n",
       "--CRISIS COMPLAINT - GENERAL                    0.018893\n",
       "--THEFT - ALL OTHER                             0.016966\n",
       "--PROPERTY DEST (DAMG)                          0.015610\n",
       "--ROBBERY - STRONG ARM                          0.013323\n",
       "--TRAFFIC - D.U.I.                              0.012158\n",
       "--BURGLARY - NON RESIDENTIAL/COMMERCIAL         0.011861\n",
       "--AUTOMOBILES - RECOVERY (THEFT)                0.011416\n",
       "--DISTURBANCE - FIGHT                           0.010654\n",
       "--THEFT - CAR PROWL                             0.010611\n",
       "--WEAPON, PERSON WITH - GUN                     0.010336\n",
       "--ROBBERY - ARMED                               0.010188\n",
       "--WEAPON,PERSON WITH - OTHER WEAPON             0.008493\n",
       "Name: Final Call Type, dtype: float64"
      ]
     },
     "execution_count": 44,
     "metadata": {},
     "output_type": "execute_result"
    }
   ],
   "source": [
    "df['Final Call Type'].value_counts(normalize=True)[:25]"
   ]
  },
  {
   "cell_type": "markdown",
   "metadata": {},
   "source": [
    "## Analysis: `NA` is Largest Category at 28%"
   ]
  },
  {
   "cell_type": "markdown",
   "metadata": {},
   "source": [
    "### Checking Call Origination Feature"
   ]
  },
  {
   "cell_type": "code",
   "execution_count": 45,
   "metadata": {},
   "outputs": [
    {
     "name": "stdout",
     "output_type": "stream",
     "text": [
      "911                              21284\n",
      "NA                               13162\n",
      "ONVIEW                            9110\n",
      "TELEPHONE OTHER, NOT 911          3309\n",
      "ALARM CALL (NOT POLICE ALARM)      340\n",
      "TEXT MESSAGE                         7\n",
      "SCHEDULED EVENT (RECURRING)          1\n",
      "Name: Call Type, dtype: int64\n"
     ]
    },
    {
     "data": {
      "text/plain": [
       "911                              0.450808\n",
       "NA                               0.278779\n",
       "ONVIEW                           0.192955\n",
       "TELEPHONE OTHER, NOT 911         0.070087\n",
       "ALARM CALL (NOT POLICE ALARM)    0.007201\n",
       "TEXT MESSAGE                     0.000148\n",
       "SCHEDULED EVENT (RECURRING)      0.000021\n",
       "Name: Call Type, dtype: float64"
      ]
     },
     "execution_count": 45,
     "metadata": {},
     "output_type": "execute_result"
    }
   ],
   "source": [
    "print(df['Call Type'].value_counts())\n",
    "df['Call Type'].value_counts(normalize=True)"
   ]
  },
  {
   "cell_type": "markdown",
   "metadata": {},
   "source": [
    "## Analysis: Call Type\n",
    "- 45% of the stops began as 911 calls.\n",
    "- 28% are of unknown origin.\n",
    "- 19% were officer initiated based on officer observation. \n",
    "\n",
    "`Call Type` seems to be a potentially important feature moving forward."
   ]
  },
  {
   "cell_type": "markdown",
   "metadata": {},
   "source": [
    "### Officer Squad Feature"
   ]
  },
  {
   "cell_type": "code",
   "execution_count": 46,
   "metadata": {},
   "outputs": [
    {
     "data": {
      "text/plain": [
       "TRAINING - FIELD TRAINING SQUAD                        5098\n",
       "WEST PCT 1ST W - DAVID/MARY                            1546\n",
       "WEST PCT 2ND W - D/M RELIEF                            1020\n",
       "SOUTHWEST PCT 2ND W - FRANK                             970\n",
       "NORTH PCT 2ND WATCH - NORTH BEATS                       885\n",
       "WEST PCT 1ST W - KING/QUEEN                             834\n",
       "EAST PCT 3RD W - E/G RELIEF                             816\n",
       "WEST PCT 3RD W - DAVID                                  816\n",
       "WEST PCT 1ST W - KQ/DM RELIEF                           809\n",
       "EAST PCT 1ST W - E/G RELIEF (CHARLIE)                   768\n",
       "NORTH PCT 3RD W - B/N RELIEF                            758\n",
       "EAST PCT 3RD W - EDWARD                                 748\n",
       "WEST PCT 2ND W - KING                                   731\n",
       "NORTH PCT 2ND W - NORA                                  718\n",
       "WEST PCT 3RD W - KING                                   706\n",
       "EAST PCT 2ND W - CHARLIE RELIEF                         675\n",
       "WEST PCT 3RD W - MARY                                   673\n",
       "SOUTH PCT 1ST W - R/S RELIEF                            666\n",
       "WEST PCT 2ND W - MARY BEATS                             631\n",
       "WEST PCT 3RD W - QUEEN                                  630\n",
       "NORTH PCT 3RD W - NORA                                  611\n",
       "WEST PCT 3RD W - D/M RELIEF                             610\n",
       "NA                                                      604\n",
       "WEST PCT 2ND W - K/Q RELIEF                             585\n",
       "NORTH PCT 2ND W - JOHN RELIEF                           585\n",
       "NORTH PCT 1ST W - LINCOLN                               577\n",
       "NORTH PCT 3RD W - UNION                                 576\n",
       "SOUTHWEST PCT 2ND W - WILLIAM                           566\n",
       "WEST PCT 2ND W - DAVID                                  553\n",
       "WEST PCT 3RD W - K/Q RELIEF                             548\n",
       "NORTH PCT 3RD W - BOY                                   546\n",
       "SOUTH PCT 1ST W - SAM                                   534\n",
       "NORTH PCT 2ND W - JOHN                                  528\n",
       "SOUTH PCT 2ND W - R/S RELIEF                            516\n",
       "SOUTH PCT 3RD W - SAM                                   512\n",
       "SOUTH PCT 2ND W - ROBERT                                489\n",
       "NORTH PCT 3RD W - L/U RELIEF                            485\n",
       "NORTH PCT 1ST W - BOY (JOHN)                            476\n",
       "WEST PCT 3RD W - DAVID BEATS                            476\n",
       "SOUTHWEST PCT 2ND WATCH - F/W RELIEF                    452\n",
       "NORTH PCT 3RD W - JOHN RELIEF                           446\n",
       "SOUTHWEST PCT - 1ST WATCH - F/W RELIEF                  443\n",
       "NORTH PCT 2ND W - LINCOLN                               440\n",
       "NORTH PCT 3RD W - LINCOLN                               438\n",
       "SOUTH PCT 3RD W - ROBERT                                426\n",
       "EAST PCT 2ND W - CHARLIE                                422\n",
       "EAST PCT 1ST W - EDWARD (CHARLIE)                       421\n",
       "SOUTH PCT 1ST W - ROBERT                                418\n",
       "SOUTH PCT 2ND W - SAM                                   406\n",
       "WEST PCT 2ND W - DAVID BEATS                            383\n",
       "EAST PCT 2ND W - GEORGE                                 371\n",
       "EAST PCT 2ND W - EDWARD                                 363\n",
       "EAST PCT 3RD W - CHARLIE                                353\n",
       "WEST PCT 2ND W - MARY                                   352\n",
       "NORTH PCT OPS - ACT DAY                                 348\n",
       "NORTH PCT 2ND WATCH - B/N RELIEF                        348\n",
       "NORTH PCT 2ND W - L/U RELIEF                            348\n",
       "NORTH PCT 1ST W - B/N RELIEF (JOHN)                     344\n",
       "NORTH PCT 1ST W - UNION                                 343\n",
       "EAST PCT 2ND W - E/G RELIEF                             329\n",
       "SOUTH PCT 2ND W - OCEAN                                 323\n",
       "EAST PCT 3RD WATCH - CHARLIE RELIEF                     322\n",
       "SOUTH PCT 3RD W - OCEAN                                 314\n",
       "SOUTH PCT 1ST W - OCEAN                                 311\n",
       "WEST PCT 2ND W - QUEEN                                  309\n",
       "EAST PCT 3RD W - GEORGE                                 308\n",
       "SOUTHWEST PCT 3RD W - WILLIAM                           304\n",
       "SOUTH PCT 2ND W - OCEAN RELIEF                          300\n",
       "SOUTHWEST PCT - 3RD WATCH - F/W RELIEF                  290\n",
       "SOUTH PCT OPS - DAY ACT                                 288\n",
       "NORTH PCT 1ST W - L/U RELIEF                            272\n",
       "NORTH PCT 3RD W - JOHN                                  270\n",
       "EAST PCT 1ST W - GEORGE (CHARLIE)                       261\n",
       "SOUTHWEST PCT 3RD W - FRANK                             253\n",
       "NORTH PCT 2ND W - BOY                                   249\n",
       "SOUTHWEST PCT 1ST W - FRANK                             223\n",
       "NORTH PCT 1ST W - NORA (JOHN)                           216\n",
       "WEST PCT OPS - ACT NIGHT                                216\n",
       "SOUTHWEST PCT 1ST W - WILLIAM                           211\n",
       "WEST PCT 2ND W - KING BEATS                             200\n",
       "SOUTH PCT 3RD W - R/S RELIEF                            199\n",
       "NORTH PCT OPS - CPT                                     195\n",
       "SOUTHWEST PCT 2ND W - SOUTHWEST BEATS                   170\n",
       "EAST PCT 3RD W - EAST BEATS                             163\n",
       "NORTH PCT 2ND W - UNION                                 163\n",
       "SOUTH PCT 3RD W - OCEAN RELIEF                          161\n",
       "WEST PCT 2ND W - SPECIAL BEATS                          119\n",
       "SOUTH PCT OPS - NIGHT ACT                               119\n",
       "EAST PCT 2ND W - BEATS                                  108\n",
       "SOUTHWEST PCT OPS - NIGHT ACT                            88\n",
       "TRAF - DUI SQUAD                                         76\n",
       "EAST PCT OPS - NIGHT ACT                                 76\n",
       "WEST PCT OPS - CPT                                       75\n",
       "CRG - SQUAD 81B                                          73\n",
       "SOUTH PCT 2ND W - SAM BEATS                              68\n",
       "SOUTHWEST PCT OPS - CPT                                  68\n",
       "CRISIS RESPONSE SQUAD                                    52\n",
       "CRG - SQUAD 81C                                          43\n",
       "GANG SQUAD C                                             42\n",
       "CRG - SQUAD 81D                                          38\n",
       "CRG - SQUAD 82D                                          33\n",
       "CRG - SQUAD 81A                                          33\n",
       "CRG - SQUAD 82A                                          31\n",
       "CCI - MAJOR CRIMES TASK FORCE                            29\n",
       "CRG - SQUAD 82E                                          28\n",
       "CRG - SQUAD 82C                                          26\n",
       "SOUTH PCT OPS - CPT                                      24\n",
       "GANG SQUAD B                                             21\n",
       "CANINE - SQUAD C                                         21\n",
       "CRG - SQUAD 81E                                          21\n",
       "GANG SQUAD A                                             21\n",
       "CRISIS INTERVENTION COORDINATION SQUAD                   21\n",
       "MAJOR CRIMES TASK FORCE                                  18\n",
       "SAU SQUAD A                                              16\n",
       "CANINE - SQUAD A                                         16\n",
       "HARBOR - SQUAD A                                         13\n",
       "SWAT - NIGHT SQUAD 2                                     12\n",
       "HR - DEPARTMENT UNAVAILABLE PERSONNEL                    11\n",
       "CRG - SQUAD 82B                                          11\n",
       "SOUTH PCT OPS - BURG/THEFT                               11\n",
       "EAST PCT OPS - CPT                                       10\n",
       "WEST PCT OPS - SEA CTR                                   10\n",
       "WEST PCT OPS - BURG/THEFT                                 9\n",
       "WEST PCT OPS - MOUNTED PATROL                             9\n",
       "SWAT - NIGHT SQUAD 1                                      8\n",
       "ROBBERY SQUAD A                                           8\n",
       "AUTO THEFT                                                8\n",
       "CANINE - NIGHT SQUAD                                      7\n",
       "TRAF - PM ENFORCEMENT                                     6\n",
       "HR - HUMAN RESOURCES  - DEPT UNAVAIL PERSONNEL            6\n",
       "JOINT ENFORCEMENT TEAM                                    6\n",
       "BURG/THEFT/JUV - SOUTH                                    6\n",
       "TRAF - AM ENFORCEMENT                                     6\n",
       "COMMUNITY OUTREACH UNIT                                   5\n",
       "SWAT - DAY SQUAD 2                                        5\n",
       "NARC - PROACTIVE SQUAD C                                  5\n",
       "BURG/THEFT/JUV - EAST                                     5\n",
       "NAVIGATION TEAM - SQUAD A                                 5\n",
       "TRAF - MOTORCYCLE UNIT - T4 SQUAD                         4\n",
       "TRAF - COLLISION INVESTIGATION                            4\n",
       "JOINT ENFORCEMENT TEAM (JET)                              4\n",
       "SWAT - DAY SQUAD 1                                        4\n",
       "DV SQUAD A - INVESTIGATIONS                               4\n",
       "DV SQUAD C - ELDER ABUSE                                  4\n",
       "OPS BUREAU - SPECIAL ASSIGNMENTS                          3\n",
       "HARBOR - SQUAD D                                          3\n",
       "PAWN DETAIL                                               3\n",
       "NORTH PCT 2ND W - PCT SUPPORT                             2\n",
       "PUBLIC AFFAIRS SQUAD                                      2\n",
       "SAU SQUAD B                                               2\n",
       "SOUTHWEST PCT OPS - DAY ACT                               2\n",
       "EAST PCT OPS - BURG/THEFT                                 2\n",
       "COMMUNITY OUTREACH - YOUTH VIOLENCE-SCHOOLS DETAIL        2\n",
       "NAVIGATION TEAM - SQUAD B                                 2\n",
       "NORTH PCT OPS - BURG/THEFT                                2\n",
       "BURG/THEFT/JUV - WEST                                     1\n",
       "HR - BLEA - ACADEMY RECRUITS                              1\n",
       "WEST PCT OPS - COMMERCIAL SEC                             1\n",
       "TRAF - MOTORCYCLE UNIT - T2 SQUAD                         1\n",
       "BURG/THEFT/JUV - NORTH                                    1\n",
       "ZOLD CRIME ANALYSIS UNIT - ANALYSTS                       1\n",
       "RECORDS - DAY SHIFT                                       1\n",
       "DV SQUAD D - ORDER SERVICE                                1\n",
       "TRAF - MOTORCYCLE UNIT - T3 SQUAD                         1\n",
       "TRAINING - ADVANCED - SQUAD C                             1\n",
       "CANINE - DAY SQUAD                                        1\n",
       "COMMUNITY OUTREACH - YOUTH VIOLENCE -SCHOOLS DETAIL       1\n",
       "COMM - INTERNET AND TELEPHONE REPORTING (ITRU)            1\n",
       "VICE - GENERAL INVESTIGATIONS SQUAD                       1\n",
       "ROBBERY SQUAD B                                           1\n",
       "COMMUNITY OUTREACH - SPECIAL PROJECTS DETAIL              1\n",
       "TRAINING - LEARNING MANAGEMENT SYSTEM                     1\n",
       "SOUTHWEST PCT OPS - BURG/THEFT                            1\n",
       "Name: Officer Squad, dtype: int64"
      ]
     },
     "execution_count": 46,
     "metadata": {},
     "output_type": "execute_result"
    }
   ],
   "source": [
    "df['Officer Squad'].value_counts()"
   ]
  },
  {
   "cell_type": "code",
   "execution_count": 47,
   "metadata": {},
   "outputs": [
    {
     "data": {
      "text/plain": [
       "TRAINING - FIELD TRAINING SQUAD                        0.107979\n",
       "WEST PCT 1ST W - DAVID/MARY                            0.032745\n",
       "WEST PCT 2ND W - D/M RELIEF                            0.021604\n",
       "SOUTHWEST PCT 2ND W - FRANK                            0.020545\n",
       "NORTH PCT 2ND WATCH - NORTH BEATS                      0.018745\n",
       "WEST PCT 1ST W - KING/QUEEN                            0.017665\n",
       "EAST PCT 3RD W - E/G RELIEF                            0.017283\n",
       "WEST PCT 3RD W - DAVID                                 0.017283\n",
       "WEST PCT 1ST W - KQ/DM RELIEF                          0.017135\n",
       "EAST PCT 1ST W - E/G RELIEF (CHARLIE)                  0.016267\n",
       "NORTH PCT 3RD W - B/N RELIEF                           0.016055\n",
       "EAST PCT 3RD W - EDWARD                                0.015843\n",
       "WEST PCT 2ND W - KING                                  0.015483\n",
       "NORTH PCT 2ND W - NORA                                 0.015208\n",
       "WEST PCT 3RD W - KING                                  0.014954\n",
       "EAST PCT 2ND W - CHARLIE RELIEF                        0.014297\n",
       "WEST PCT 3RD W - MARY                                  0.014255\n",
       "SOUTH PCT 1ST W - R/S RELIEF                           0.014106\n",
       "WEST PCT 2ND W - MARY BEATS                            0.013365\n",
       "WEST PCT 3RD W - QUEEN                                 0.013344\n",
       "NORTH PCT 3RD W - NORA                                 0.012941\n",
       "WEST PCT 3RD W - D/M RELIEF                            0.012920\n",
       "NA                                                     0.012793\n",
       "WEST PCT 2ND W - K/Q RELIEF                            0.012391\n",
       "NORTH PCT 2ND W - JOHN RELIEF                          0.012391\n",
       "NORTH PCT 1ST W - LINCOLN                              0.012221\n",
       "NORTH PCT 3RD W - UNION                                0.012200\n",
       "SOUTHWEST PCT 2ND W - WILLIAM                          0.011988\n",
       "WEST PCT 2ND W - DAVID                                 0.011713\n",
       "WEST PCT 3RD W - K/Q RELIEF                            0.011607\n",
       "NORTH PCT 3RD W - BOY                                  0.011565\n",
       "SOUTH PCT 1ST W - SAM                                  0.011310\n",
       "NORTH PCT 2ND W - JOHN                                 0.011183\n",
       "SOUTH PCT 2ND W - R/S RELIEF                           0.010929\n",
       "SOUTH PCT 3RD W - SAM                                  0.010844\n",
       "SOUTH PCT 2ND W - ROBERT                               0.010357\n",
       "NORTH PCT 3RD W - L/U RELIEF                           0.010273\n",
       "NORTH PCT 1ST W - BOY (JOHN)                           0.010082\n",
       "WEST PCT 3RD W - DAVID BEATS                           0.010082\n",
       "SOUTHWEST PCT 2ND WATCH - F/W RELIEF                   0.009574\n",
       "NORTH PCT 3RD W - JOHN RELIEF                          0.009447\n",
       "SOUTHWEST PCT - 1ST WATCH - F/W RELIEF                 0.009383\n",
       "NORTH PCT 2ND W - LINCOLN                              0.009319\n",
       "NORTH PCT 3RD W - LINCOLN                              0.009277\n",
       "SOUTH PCT 3RD W - ROBERT                               0.009023\n",
       "EAST PCT 2ND W - CHARLIE                               0.008938\n",
       "EAST PCT 1ST W - EDWARD (CHARLIE)                      0.008917\n",
       "SOUTH PCT 1ST W - ROBERT                               0.008853\n",
       "SOUTH PCT 2ND W - SAM                                  0.008599\n",
       "WEST PCT 2ND W - DAVID BEATS                           0.008112\n",
       "EAST PCT 2ND W - GEORGE                                0.007858\n",
       "EAST PCT 2ND W - EDWARD                                0.007689\n",
       "EAST PCT 3RD W - CHARLIE                               0.007477\n",
       "WEST PCT 2ND W - MARY                                  0.007456\n",
       "NORTH PCT OPS - ACT DAY                                0.007371\n",
       "NORTH PCT 2ND WATCH - B/N RELIEF                       0.007371\n",
       "NORTH PCT 2ND W - L/U RELIEF                           0.007371\n",
       "NORTH PCT 1ST W - B/N RELIEF (JOHN)                    0.007286\n",
       "NORTH PCT 1ST W - UNION                                0.007265\n",
       "EAST PCT 2ND W - E/G RELIEF                            0.006968\n",
       "SOUTH PCT 2ND W - OCEAN                                0.006841\n",
       "EAST PCT 3RD WATCH - CHARLIE RELIEF                    0.006820\n",
       "SOUTH PCT 3RD W - OCEAN                                0.006651\n",
       "SOUTH PCT 1ST W - OCEAN                                0.006587\n",
       "WEST PCT 2ND W - QUEEN                                 0.006545\n",
       "EAST PCT 3RD W - GEORGE                                0.006524\n",
       "SOUTHWEST PCT 3RD W - WILLIAM                          0.006439\n",
       "SOUTH PCT 2ND W - OCEAN RELIEF                         0.006354\n",
       "SOUTHWEST PCT - 3RD WATCH - F/W RELIEF                 0.006142\n",
       "SOUTH PCT OPS - DAY ACT                                0.006100\n",
       "NORTH PCT 1ST W - L/U RELIEF                           0.005761\n",
       "NORTH PCT 3RD W - JOHN                                 0.005719\n",
       "EAST PCT 1ST W - GEORGE (CHARLIE)                      0.005528\n",
       "SOUTHWEST PCT 3RD W - FRANK                            0.005359\n",
       "NORTH PCT 2ND W - BOY                                  0.005274\n",
       "SOUTHWEST PCT 1ST W - FRANK                            0.004723\n",
       "NORTH PCT 1ST W - NORA (JOHN)                          0.004575\n",
       "WEST PCT OPS - ACT NIGHT                               0.004575\n",
       "SOUTHWEST PCT 1ST W - WILLIAM                          0.004469\n",
       "WEST PCT 2ND W - KING BEATS                            0.004236\n",
       "SOUTH PCT 3RD W - R/S RELIEF                           0.004215\n",
       "NORTH PCT OPS - CPT                                    0.004130\n",
       "SOUTHWEST PCT 2ND W - SOUTHWEST BEATS                  0.003601\n",
       "EAST PCT 3RD W - EAST BEATS                            0.003452\n",
       "NORTH PCT 2ND W - UNION                                0.003452\n",
       "SOUTH PCT 3RD W - OCEAN RELIEF                         0.003410\n",
       "WEST PCT 2ND W - SPECIAL BEATS                         0.002520\n",
       "SOUTH PCT OPS - NIGHT ACT                              0.002520\n",
       "EAST PCT 2ND W - BEATS                                 0.002288\n",
       "SOUTHWEST PCT OPS - NIGHT ACT                          0.001864\n",
       "TRAF - DUI SQUAD                                       0.001610\n",
       "EAST PCT OPS - NIGHT ACT                               0.001610\n",
       "WEST PCT OPS - CPT                                     0.001589\n",
       "CRG - SQUAD 81B                                        0.001546\n",
       "SOUTH PCT 2ND W - SAM BEATS                            0.001440\n",
       "SOUTHWEST PCT OPS - CPT                                0.001440\n",
       "CRISIS RESPONSE SQUAD                                  0.001101\n",
       "CRG - SQUAD 81C                                        0.000911\n",
       "GANG SQUAD C                                           0.000890\n",
       "CRG - SQUAD 81D                                        0.000805\n",
       "CRG - SQUAD 82D                                        0.000699\n",
       "CRG - SQUAD 81A                                        0.000699\n",
       "CRG - SQUAD 82A                                        0.000657\n",
       "CCI - MAJOR CRIMES TASK FORCE                          0.000614\n",
       "CRG - SQUAD 82E                                        0.000593\n",
       "CRG - SQUAD 82C                                        0.000551\n",
       "SOUTH PCT OPS - CPT                                    0.000508\n",
       "GANG SQUAD B                                           0.000445\n",
       "CANINE - SQUAD C                                       0.000445\n",
       "CRG - SQUAD 81E                                        0.000445\n",
       "GANG SQUAD A                                           0.000445\n",
       "CRISIS INTERVENTION COORDINATION SQUAD                 0.000445\n",
       "MAJOR CRIMES TASK FORCE                                0.000381\n",
       "SAU SQUAD A                                            0.000339\n",
       "CANINE - SQUAD A                                       0.000339\n",
       "HARBOR - SQUAD A                                       0.000275\n",
       "SWAT - NIGHT SQUAD 2                                   0.000254\n",
       "HR - DEPARTMENT UNAVAILABLE PERSONNEL                  0.000233\n",
       "CRG - SQUAD 82B                                        0.000233\n",
       "SOUTH PCT OPS - BURG/THEFT                             0.000233\n",
       "EAST PCT OPS - CPT                                     0.000212\n",
       "WEST PCT OPS - SEA CTR                                 0.000212\n",
       "WEST PCT OPS - BURG/THEFT                              0.000191\n",
       "WEST PCT OPS - MOUNTED PATROL                          0.000191\n",
       "SWAT - NIGHT SQUAD 1                                   0.000169\n",
       "ROBBERY SQUAD A                                        0.000169\n",
       "AUTO THEFT                                             0.000169\n",
       "CANINE - NIGHT SQUAD                                   0.000148\n",
       "TRAF - PM ENFORCEMENT                                  0.000127\n",
       "HR - HUMAN RESOURCES  - DEPT UNAVAIL PERSONNEL         0.000127\n",
       "JOINT ENFORCEMENT TEAM                                 0.000127\n",
       "BURG/THEFT/JUV - SOUTH                                 0.000127\n",
       "TRAF - AM ENFORCEMENT                                  0.000127\n",
       "COMMUNITY OUTREACH UNIT                                0.000106\n",
       "SWAT - DAY SQUAD 2                                     0.000106\n",
       "NARC - PROACTIVE SQUAD C                               0.000106\n",
       "BURG/THEFT/JUV - EAST                                  0.000106\n",
       "NAVIGATION TEAM - SQUAD A                              0.000106\n",
       "TRAF - MOTORCYCLE UNIT - T4 SQUAD                      0.000085\n",
       "TRAF - COLLISION INVESTIGATION                         0.000085\n",
       "JOINT ENFORCEMENT TEAM (JET)                           0.000085\n",
       "SWAT - DAY SQUAD 1                                     0.000085\n",
       "DV SQUAD A - INVESTIGATIONS                            0.000085\n",
       "DV SQUAD C - ELDER ABUSE                               0.000085\n",
       "OPS BUREAU - SPECIAL ASSIGNMENTS                       0.000064\n",
       "HARBOR - SQUAD D                                       0.000064\n",
       "PAWN DETAIL                                            0.000064\n",
       "NORTH PCT 2ND W - PCT SUPPORT                          0.000042\n",
       "PUBLIC AFFAIRS SQUAD                                   0.000042\n",
       "SAU SQUAD B                                            0.000042\n",
       "SOUTHWEST PCT OPS - DAY ACT                            0.000042\n",
       "EAST PCT OPS - BURG/THEFT                              0.000042\n",
       "COMMUNITY OUTREACH - YOUTH VIOLENCE-SCHOOLS DETAIL     0.000042\n",
       "NAVIGATION TEAM - SQUAD B                              0.000042\n",
       "NORTH PCT OPS - BURG/THEFT                             0.000042\n",
       "BURG/THEFT/JUV - WEST                                  0.000021\n",
       "HR - BLEA - ACADEMY RECRUITS                           0.000021\n",
       "WEST PCT OPS - COMMERCIAL SEC                          0.000021\n",
       "TRAF - MOTORCYCLE UNIT - T2 SQUAD                      0.000021\n",
       "BURG/THEFT/JUV - NORTH                                 0.000021\n",
       "ZOLD CRIME ANALYSIS UNIT - ANALYSTS                    0.000021\n",
       "RECORDS - DAY SHIFT                                    0.000021\n",
       "DV SQUAD D - ORDER SERVICE                             0.000021\n",
       "TRAF - MOTORCYCLE UNIT - T3 SQUAD                      0.000021\n",
       "TRAINING - ADVANCED - SQUAD C                          0.000021\n",
       "CANINE - DAY SQUAD                                     0.000021\n",
       "COMMUNITY OUTREACH - YOUTH VIOLENCE -SCHOOLS DETAIL    0.000021\n",
       "COMM - INTERNET AND TELEPHONE REPORTING (ITRU)         0.000021\n",
       "VICE - GENERAL INVESTIGATIONS SQUAD                    0.000021\n",
       "ROBBERY SQUAD B                                        0.000021\n",
       "COMMUNITY OUTREACH - SPECIAL PROJECTS DETAIL           0.000021\n",
       "TRAINING - LEARNING MANAGEMENT SYSTEM                  0.000021\n",
       "SOUTHWEST PCT OPS - BURG/THEFT                         0.000021\n",
       "Name: Officer Squad, dtype: float64"
      ]
     },
     "execution_count": 47,
     "metadata": {},
     "output_type": "execute_result"
    }
   ],
   "source": [
    "df['Officer Squad'].value_counts(normalize=True)"
   ]
  },
  {
   "cell_type": "markdown",
   "metadata": {},
   "source": [
    "### Focusing on the Training Squad\n",
    "It seems that a fair number of stops come from the `TRAINING - FIELD TRAINING SQUAD`. Checking if there are more training squads."
   ]
  },
  {
   "cell_type": "code",
   "execution_count": 48,
   "metadata": {},
   "outputs": [],
   "source": [
    "squad = df['Officer Squad'].unique()\n",
    "training = [x for x in squad if 'TRAINING' in x]"
   ]
  },
  {
   "cell_type": "markdown",
   "metadata": {},
   "source": [
    "### Other Training Squads\n",
    "Checking the number of stops from all of the training squads."
   ]
  },
  {
   "cell_type": "code",
   "execution_count": 49,
   "metadata": {},
   "outputs": [
    {
     "data": {
      "text/plain": [
       "TRAINING - FIELD TRAINING SQUAD          5098\n",
       "TRAINING - LEARNING MANAGEMENT SYSTEM       1\n",
       "TRAINING - ADVANCED - SQUAD C               1\n",
       "Name: Officer Squad, dtype: int64"
      ]
     },
     "execution_count": 49,
     "metadata": {},
     "output_type": "execute_result"
    }
   ],
   "source": [
    "df['Officer Squad'].value_counts()[training]"
   ]
  },
  {
   "cell_type": "code",
   "execution_count": 50,
   "metadata": {},
   "outputs": [
    {
     "data": {
      "text/plain": [
       "TRAINING - FIELD TRAINING SQUAD           0.107979\n",
       "WEST PCT 1ST W - DAVID/MARY               0.032745\n",
       "WEST PCT 2ND W - D/M RELIEF               0.021604\n",
       "SOUTHWEST PCT 2ND W - FRANK               0.020545\n",
       "NORTH PCT 2ND WATCH - NORTH BEATS         0.018745\n",
       "WEST PCT 1ST W - KING/QUEEN               0.017665\n",
       "EAST PCT 3RD W - E/G RELIEF               0.017283\n",
       "WEST PCT 3RD W - DAVID                    0.017283\n",
       "WEST PCT 1ST W - KQ/DM RELIEF             0.017135\n",
       "EAST PCT 1ST W - E/G RELIEF (CHARLIE)     0.016267\n",
       "NORTH PCT 3RD W - B/N RELIEF              0.016055\n",
       "EAST PCT 3RD W - EDWARD                   0.015843\n",
       "WEST PCT 2ND W - KING                     0.015483\n",
       "NORTH PCT 2ND W - NORA                    0.015208\n",
       "WEST PCT 3RD W - KING                     0.014954\n",
       "EAST PCT 2ND W - CHARLIE RELIEF           0.014297\n",
       "WEST PCT 3RD W - MARY                     0.014255\n",
       "SOUTH PCT 1ST W - R/S RELIEF              0.014106\n",
       "WEST PCT 2ND W - MARY BEATS               0.013365\n",
       "WEST PCT 3RD W - QUEEN                    0.013344\n",
       "NORTH PCT 3RD W - NORA                    0.012941\n",
       "WEST PCT 3RD W - D/M RELIEF               0.012920\n",
       "NA                                        0.012793\n",
       "WEST PCT 2ND W - K/Q RELIEF               0.012391\n",
       "NORTH PCT 2ND W - JOHN RELIEF             0.012391\n",
       "NORTH PCT 1ST W - LINCOLN                 0.012221\n",
       "NORTH PCT 3RD W - UNION                   0.012200\n",
       "SOUTHWEST PCT 2ND W - WILLIAM             0.011988\n",
       "WEST PCT 2ND W - DAVID                    0.011713\n",
       "WEST PCT 3RD W - K/Q RELIEF               0.011607\n",
       "NORTH PCT 3RD W - BOY                     0.011565\n",
       "SOUTH PCT 1ST W - SAM                     0.011310\n",
       "NORTH PCT 2ND W - JOHN                    0.011183\n",
       "SOUTH PCT 2ND W - R/S RELIEF              0.010929\n",
       "SOUTH PCT 3RD W - SAM                     0.010844\n",
       "SOUTH PCT 2ND W - ROBERT                  0.010357\n",
       "NORTH PCT 3RD W - L/U RELIEF              0.010273\n",
       "NORTH PCT 1ST W - BOY (JOHN)              0.010082\n",
       "WEST PCT 3RD W - DAVID BEATS              0.010082\n",
       "SOUTHWEST PCT 2ND WATCH - F/W RELIEF      0.009574\n",
       "NORTH PCT 3RD W - JOHN RELIEF             0.009447\n",
       "SOUTHWEST PCT - 1ST WATCH - F/W RELIEF    0.009383\n",
       "NORTH PCT 2ND W - LINCOLN                 0.009319\n",
       "NORTH PCT 3RD W - LINCOLN                 0.009277\n",
       "SOUTH PCT 3RD W - ROBERT                  0.009023\n",
       "EAST PCT 2ND W - CHARLIE                  0.008938\n",
       "EAST PCT 1ST W - EDWARD (CHARLIE)         0.008917\n",
       "SOUTH PCT 1ST W - ROBERT                  0.008853\n",
       "SOUTH PCT 2ND W - SAM                     0.008599\n",
       "WEST PCT 2ND W - DAVID BEATS              0.008112\n",
       "EAST PCT 2ND W - GEORGE                   0.007858\n",
       "EAST PCT 2ND W - EDWARD                   0.007689\n",
       "EAST PCT 3RD W - CHARLIE                  0.007477\n",
       "WEST PCT 2ND W - MARY                     0.007456\n",
       "NORTH PCT OPS - ACT DAY                   0.007371\n",
       "NORTH PCT 2ND WATCH - B/N RELIEF          0.007371\n",
       "NORTH PCT 2ND W - L/U RELIEF              0.007371\n",
       "NORTH PCT 1ST W - B/N RELIEF (JOHN)       0.007286\n",
       "NORTH PCT 1ST W - UNION                   0.007265\n",
       "EAST PCT 2ND W - E/G RELIEF               0.006968\n",
       "SOUTH PCT 2ND W - OCEAN                   0.006841\n",
       "EAST PCT 3RD WATCH - CHARLIE RELIEF       0.006820\n",
       "SOUTH PCT 3RD W - OCEAN                   0.006651\n",
       "SOUTH PCT 1ST W - OCEAN                   0.006587\n",
       "WEST PCT 2ND W - QUEEN                    0.006545\n",
       "EAST PCT 3RD W - GEORGE                   0.006524\n",
       "SOUTHWEST PCT 3RD W - WILLIAM             0.006439\n",
       "SOUTH PCT 2ND W - OCEAN RELIEF            0.006354\n",
       "SOUTHWEST PCT - 3RD WATCH - F/W RELIEF    0.006142\n",
       "SOUTH PCT OPS - DAY ACT                   0.006100\n",
       "NORTH PCT 1ST W - L/U RELIEF              0.005761\n",
       "NORTH PCT 3RD W - JOHN                    0.005719\n",
       "EAST PCT 1ST W - GEORGE (CHARLIE)         0.005528\n",
       "SOUTHWEST PCT 3RD W - FRANK               0.005359\n",
       "NORTH PCT 2ND W - BOY                     0.005274\n",
       "SOUTHWEST PCT 1ST W - FRANK               0.004723\n",
       "NORTH PCT 1ST W - NORA (JOHN)             0.004575\n",
       "WEST PCT OPS - ACT NIGHT                  0.004575\n",
       "SOUTHWEST PCT 1ST W - WILLIAM             0.004469\n",
       "WEST PCT 2ND W - KING BEATS               0.004236\n",
       "SOUTH PCT 3RD W - R/S RELIEF              0.004215\n",
       "NORTH PCT OPS - CPT                       0.004130\n",
       "SOUTHWEST PCT 2ND W - SOUTHWEST BEATS     0.003601\n",
       "EAST PCT 3RD W - EAST BEATS               0.003452\n",
       "NORTH PCT 2ND W - UNION                   0.003452\n",
       "SOUTH PCT 3RD W - OCEAN RELIEF            0.003410\n",
       "WEST PCT 2ND W - SPECIAL BEATS            0.002520\n",
       "SOUTH PCT OPS - NIGHT ACT                 0.002520\n",
       "EAST PCT 2ND W - BEATS                    0.002288\n",
       "SOUTHWEST PCT OPS - NIGHT ACT             0.001864\n",
       "TRAF - DUI SQUAD                          0.001610\n",
       "EAST PCT OPS - NIGHT ACT                  0.001610\n",
       "WEST PCT OPS - CPT                        0.001589\n",
       "CRG - SQUAD 81B                           0.001546\n",
       "SOUTH PCT 2ND W - SAM BEATS               0.001440\n",
       "SOUTHWEST PCT OPS - CPT                   0.001440\n",
       "CRISIS RESPONSE SQUAD                     0.001101\n",
       "CRG - SQUAD 81C                           0.000911\n",
       "GANG SQUAD C                              0.000890\n",
       "CRG - SQUAD 81D                           0.000805\n",
       "Name: Officer Squad, dtype: float64"
      ]
     },
     "execution_count": 50,
     "metadata": {},
     "output_type": "execute_result"
    }
   ],
   "source": [
    "df['Officer Squad'].value_counts(normalize=True)[:100]"
   ]
  },
  {
   "cell_type": "markdown",
   "metadata": {},
   "source": [
    "## Analysis: Training Accounts for 11% of Stops\n",
    "This is three times more than the next category."
   ]
  },
  {
   "cell_type": "markdown",
   "metadata": {},
   "source": [
    "### Binarizing the Arrest Flag"
   ]
  },
  {
   "cell_type": "code",
   "execution_count": 51,
   "metadata": {},
   "outputs": [
    {
     "data": {
      "text/plain": [
       "N    43754\n",
       "Y     3459\n",
       "Name: Arrest Flag, dtype: int64"
      ]
     },
     "execution_count": 51,
     "metadata": {},
     "output_type": "execute_result"
    }
   ],
   "source": [
    "df['Arrest Flag'].value_counts()"
   ]
  },
  {
   "cell_type": "code",
   "execution_count": 52,
   "metadata": {},
   "outputs": [],
   "source": [
    "#  binarizing arrest flag\n",
    "df['Arrest Flag'] = df['Arrest Flag'].replace('Y', 1)\n",
    "df['Arrest Flag'] = df['Arrest Flag'].map(lambda x: 0 if x!=1 else 1)"
   ]
  },
  {
   "cell_type": "code",
   "execution_count": 53,
   "metadata": {},
   "outputs": [
    {
     "data": {
      "text/plain": [
       "0    43754\n",
       "1     3459\n",
       "Name: Arrest Flag, dtype: int64"
      ]
     },
     "execution_count": 53,
     "metadata": {},
     "output_type": "execute_result"
    }
   ],
   "source": [
    "df['Arrest Flag'].value_counts()"
   ]
  },
  {
   "cell_type": "code",
   "execution_count": 54,
   "metadata": {},
   "outputs": [
    {
     "data": {
      "text/plain": [
       "0    35546\n",
       "1    11667\n",
       "Name: Target, dtype: int64"
      ]
     },
     "execution_count": 54,
     "metadata": {},
     "output_type": "execute_result"
    }
   ],
   "source": [
    "df['Target'].value_counts()"
   ]
  },
  {
   "cell_type": "code",
   "execution_count": 55,
   "metadata": {},
   "outputs": [
    {
     "data": {
      "text/plain": [
       "0    0.926736\n",
       "1    0.073264\n",
       "Name: Arrest Flag, dtype: float64"
      ]
     },
     "execution_count": 55,
     "metadata": {},
     "output_type": "execute_result"
    }
   ],
   "source": [
    "df['Arrest Flag'].value_counts(normalize=True)"
   ]
  },
  {
   "cell_type": "code",
   "execution_count": 56,
   "metadata": {},
   "outputs": [
    {
     "data": {
      "text/plain": [
       "0    0.752886\n",
       "1    0.247114\n",
       "Name: Target, dtype: float64"
      ]
     },
     "execution_count": 56,
     "metadata": {},
     "output_type": "execute_result"
    }
   ],
   "source": [
    "df['Target'].value_counts(normalize=True)"
   ]
  },
  {
   "cell_type": "markdown",
   "metadata": {},
   "source": [
    "## Analysis: Discrepancy Between Arrest Flag and Target\n",
    "Oddly, the arrest flag counts are much lower than arrest (target) counts."
   ]
  },
  {
   "cell_type": "markdown",
   "metadata": {},
   "source": [
    "## Dropping Arrest Flag"
   ]
  },
  {
   "cell_type": "code",
   "execution_count": 57,
   "metadata": {},
   "outputs": [],
   "source": [
    "df.drop('Arrest Flag', axis=1, inplace=True)"
   ]
  },
  {
   "cell_type": "markdown",
   "metadata": {},
   "source": [
    "### Binarizing the Frisk Flag"
   ]
  },
  {
   "cell_type": "code",
   "execution_count": 58,
   "metadata": {
    "tags": []
   },
   "outputs": [
    {
     "data": {
      "text/plain": [
       "N     36147\n",
       "Y     10588\n",
       "NA      478\n",
       "Name: Frisk Flag, dtype: int64"
      ]
     },
     "execution_count": 58,
     "metadata": {},
     "output_type": "execute_result"
    }
   ],
   "source": [
    "df['Frisk Flag'].value_counts()"
   ]
  },
  {
   "cell_type": "code",
   "execution_count": 59,
   "metadata": {},
   "outputs": [],
   "source": [
    "#  binarizing frisk flag\n",
    "df['Frisk Flag'] = df['Frisk Flag'].replace('Y', 1)\n",
    "df['Frisk Flag'] = df['Frisk Flag'].map(lambda x: 0 if x!=1 else 1)"
   ]
  },
  {
   "cell_type": "code",
   "execution_count": 60,
   "metadata": {},
   "outputs": [
    {
     "data": {
      "text/plain": [
       "0    36625\n",
       "1    10588\n",
       "Name: Frisk Flag, dtype: int64"
      ]
     },
     "execution_count": 60,
     "metadata": {},
     "output_type": "execute_result"
    }
   ],
   "source": [
    "df['Frisk Flag'].value_counts()"
   ]
  },
  {
   "cell_type": "code",
   "execution_count": 61,
   "metadata": {},
   "outputs": [
    {
     "data": {
      "text/plain": [
       "0    0.77574\n",
       "1    0.22426\n",
       "Name: Frisk Flag, dtype: float64"
      ]
     },
     "execution_count": 61,
     "metadata": {},
     "output_type": "execute_result"
    }
   ],
   "source": [
    "df['Frisk Flag'].value_counts(normalize=True)"
   ]
  },
  {
   "cell_type": "markdown",
   "metadata": {},
   "source": [
    "### Checking the Precinct Feature"
   ]
  },
  {
   "cell_type": "code",
   "execution_count": 62,
   "metadata": {},
   "outputs": [
    {
     "data": {
      "text/plain": [
       "array(['South', 'NA', 'East', 'North', 'West', 'Southwest', 'Unknown',\n",
       "       'SouthWest', 'OOJ', 'FK ERROR'], dtype=object)"
      ]
     },
     "execution_count": 62,
     "metadata": {},
     "output_type": "execute_result"
    }
   ],
   "source": [
    "df['Precinct'].unique()"
   ]
  },
  {
   "cell_type": "code",
   "execution_count": 63,
   "metadata": {},
   "outputs": [
    {
     "data": {
      "text/plain": [
       "West         11432\n",
       "North        10385\n",
       "NA            9859\n",
       "East          6213\n",
       "South         5653\n",
       "Southwest     2320\n",
       "SouthWest     1098\n",
       "Unknown        200\n",
       "OOJ             33\n",
       "FK ERROR        20\n",
       "Name: Precinct, dtype: int64"
      ]
     },
     "execution_count": 63,
     "metadata": {},
     "output_type": "execute_result"
    }
   ],
   "source": [
    "df['Precinct'].value_counts()"
   ]
  },
  {
   "cell_type": "code",
   "execution_count": 64,
   "metadata": {},
   "outputs": [],
   "source": [
    "# fixing Southwest precinct\n",
    "df['Precinct'] = df['Precinct'].replace('SouthWest', 'Southwest')"
   ]
  },
  {
   "cell_type": "code",
   "execution_count": 65,
   "metadata": {},
   "outputs": [],
   "source": [
    "drop_list = ['Unknown', 'OOJ', 'FK ERROR']\n",
    "df = df[~df['Precinct'].isin(drop_list)]"
   ]
  },
  {
   "cell_type": "code",
   "execution_count": 66,
   "metadata": {},
   "outputs": [
    {
     "data": {
      "text/plain": [
       "West         11432\n",
       "North        10385\n",
       "NA            9859\n",
       "East          6213\n",
       "South         5653\n",
       "Southwest     3418\n",
       "Name: Precinct, dtype: int64"
      ]
     },
     "execution_count": 66,
     "metadata": {},
     "output_type": "execute_result"
    }
   ],
   "source": [
    "df['Precinct'].value_counts()"
   ]
  },
  {
   "cell_type": "code",
   "execution_count": 67,
   "metadata": {},
   "outputs": [
    {
     "data": {
      "text/plain": [
       "West         0.243441\n",
       "North        0.221146\n",
       "NA           0.209945\n",
       "East         0.132304\n",
       "South        0.120379\n",
       "Southwest    0.072785\n",
       "Name: Precinct, dtype: float64"
      ]
     },
     "execution_count": 67,
     "metadata": {},
     "output_type": "execute_result"
    }
   ],
   "source": [
    "df['Precinct'].value_counts(normalize=True)"
   ]
  },
  {
   "cell_type": "markdown",
   "metadata": {},
   "source": [
    "## Analysis: `NA` is Third Largest Category at 20%"
   ]
  },
  {
   "cell_type": "markdown",
   "metadata": {},
   "source": [
    "### Checking the Sector Feature"
   ]
  },
  {
   "cell_type": "code",
   "execution_count": 68,
   "metadata": {},
   "outputs": [
    {
     "data": {
      "text/plain": [
       "NA        9865\n",
       "E         2337\n",
       "M         2270\n",
       "N         2191\n",
       "K         1762\n",
       "K         1725\n",
       "B         1658\n",
       "L         1639\n",
       "D         1512\n",
       "R         1455\n",
       "F         1378\n",
       "S         1348\n",
       "U         1302\n",
       "M         1254\n",
       "O         1161\n",
       "D         1144\n",
       "J         1119\n",
       "G         1087\n",
       "C         1037\n",
       "Q          967\n",
       "W          941\n",
       "E          925\n",
       "Q          794\n",
       "N          694\n",
       "F          669\n",
       "R          616\n",
       "O          598\n",
       "B          518\n",
       "S          476\n",
       "U          453\n",
       "G          442\n",
       "W          428\n",
       "L          416\n",
       "J          395\n",
       "C          384\n",
       "Name: Sector, dtype: int64"
      ]
     },
     "execution_count": 68,
     "metadata": {},
     "output_type": "execute_result"
    }
   ],
   "source": [
    "df['Sector'].value_counts()"
   ]
  },
  {
   "cell_type": "code",
   "execution_count": 69,
   "metadata": {},
   "outputs": [
    {
     "data": {
      "text/plain": [
       "NA        0.210072\n",
       "E         0.049766\n",
       "M         0.048339\n",
       "N         0.046657\n",
       "K         0.037521\n",
       "K         0.036733\n",
       "B         0.035307\n",
       "L         0.034902\n",
       "D         0.032198\n",
       "R         0.030984\n",
       "F         0.029344\n",
       "S         0.028705\n",
       "U         0.027726\n",
       "M         0.026704\n",
       "O         0.024723\n",
       "D         0.024361\n",
       "J         0.023829\n",
       "G         0.023147\n",
       "C         0.022083\n",
       "Q         0.020592\n",
       "W         0.020038\n",
       "E         0.019698\n",
       "Q         0.016908\n",
       "N         0.014779\n",
       "F         0.014246\n",
       "R         0.013118\n",
       "O         0.012734\n",
       "B         0.011031\n",
       "S         0.010136\n",
       "U         0.009647\n",
       "G         0.009412\n",
       "W         0.009114\n",
       "L         0.008859\n",
       "J         0.008411\n",
       "C         0.008177\n",
       "Name: Sector, dtype: float64"
      ]
     },
     "execution_count": 69,
     "metadata": {},
     "output_type": "execute_result"
    }
   ],
   "source": [
    "df['Sector'].value_counts(normalize=True)"
   ]
  },
  {
   "cell_type": "markdown",
   "metadata": {},
   "source": [
    "## Analysis: `NA` is Largest at 21%\n",
    "Four times larger than the next largest category."
   ]
  },
  {
   "cell_type": "markdown",
   "metadata": {},
   "source": [
    "### Checking the Beat Feature"
   ]
  },
  {
   "cell_type": "code",
   "execution_count": 70,
   "metadata": {},
   "outputs": [
    {
     "data": {
      "text/plain": [
       "NA        9859\n",
       "N3        1175\n",
       "E2        1092\n",
       "K3         964\n",
       "M2         852\n",
       "M3         792\n",
       "K3         752\n",
       "E1         730\n",
       "N2         709\n",
       "R2         669\n",
       "B1         643\n",
       "U2         636\n",
       "M1         626\n",
       "F2         624\n",
       "M3         592\n",
       "B2         583\n",
       "D1         576\n",
       "L1         569\n",
       "K2         562\n",
       "L2         536\n",
       "L3         534\n",
       "S2         532\n",
       "D2         530\n",
       "E3         515\n",
       "O1         491\n",
       "S3         486\n",
       "D1         464\n",
       "D2         457\n",
       "Q3         449\n",
       "K1         448\n",
       "J1         443\n",
       "B3         432\n",
       "G2         431\n",
       "F3         422\n",
       "M1         421\n",
       "K2         410\n",
       "U1         409\n",
       "R1         406\n",
       "D3         406\n",
       "Q3         399\n",
       "G3         386\n",
       "W2         385\n",
       "R3         380\n",
       "C1         379\n",
       "J3         376\n",
       "C3         375\n",
       "K1         351\n",
       "O2         341\n",
       "F1         332\n",
       "S1         330\n",
       "O3         329\n",
       "W1         328\n",
       "E2         322\n",
       "E1         321\n",
       "N3         320\n",
       "Q2         314\n",
       "N1         307\n",
       "N2         301\n",
       "J2         300\n",
       "C2         283\n",
       "E3         281\n",
       "R2         275\n",
       "O1         270\n",
       "G1         270\n",
       "U3         257\n",
       "M2         245\n",
       "F1         239\n",
       "W3         228\n",
       "F2         227\n",
       "D3         223\n",
       "Q2         217\n",
       "R1         210\n",
       "Q1         204\n",
       "B2         204\n",
       "F3         203\n",
       "U2         201\n",
       "J3         198\n",
       "W2         197\n",
       "S2         193\n",
       "B1         192\n",
       "O3         189\n",
       "Q1         178\n",
       "C1         167\n",
       "U1         167\n",
       "G1         165\n",
       "S1         159\n",
       "L3         146\n",
       "O2         139\n",
       "G3         138\n",
       "G2         138\n",
       "L1         137\n",
       "L2         133\n",
       "C3         131\n",
       "R3         131\n",
       "S3         124\n",
       "J1         122\n",
       "B3         122\n",
       "W1         122\n",
       "W3         110\n",
       "C2          87\n",
       "U3          85\n",
       "J2          75\n",
       "N1          73\n",
       "99           2\n",
       "Name: Beat, dtype: int64"
      ]
     },
     "execution_count": 70,
     "metadata": {},
     "output_type": "execute_result"
    }
   ],
   "source": [
    "df['Beat'].value_counts()"
   ]
  },
  {
   "cell_type": "code",
   "execution_count": 71,
   "metadata": {},
   "outputs": [
    {
     "data": {
      "text/plain": [
       "NA        0.209945\n",
       "N3        0.025021\n",
       "E2        0.023254\n",
       "K3        0.020528\n",
       "M2        0.018143\n",
       "M3        0.016865\n",
       "K3        0.016014\n",
       "E1        0.015545\n",
       "N2        0.015098\n",
       "R2        0.014246\n",
       "B1        0.013693\n",
       "U2        0.013543\n",
       "M1        0.013330\n",
       "F2        0.013288\n",
       "M3        0.012606\n",
       "B2        0.012415\n",
       "D1        0.012266\n",
       "L1        0.012117\n",
       "K2        0.011968\n",
       "L2        0.011414\n",
       "L3        0.011371\n",
       "S2        0.011329\n",
       "D2        0.011286\n",
       "E3        0.010967\n",
       "O1        0.010456\n",
       "S3        0.010349\n",
       "D1        0.009881\n",
       "D2        0.009732\n",
       "Q3        0.009561\n",
       "K1        0.009540\n",
       "J1        0.009434\n",
       "B3        0.009199\n",
       "G2        0.009178\n",
       "F3        0.008986\n",
       "M1        0.008965\n",
       "K2        0.008731\n",
       "U1        0.008710\n",
       "R1        0.008646\n",
       "D3        0.008646\n",
       "Q3        0.008497\n",
       "G3        0.008220\n",
       "W2        0.008198\n",
       "R3        0.008092\n",
       "C1        0.008071\n",
       "J3        0.008007\n",
       "C3        0.007986\n",
       "K1        0.007474\n",
       "O2        0.007261\n",
       "F1        0.007070\n",
       "S1        0.007027\n",
       "O3        0.007006\n",
       "W1        0.006985\n",
       "E2        0.006857\n",
       "E1        0.006836\n",
       "N3        0.006814\n",
       "Q2        0.006687\n",
       "N1        0.006537\n",
       "N2        0.006410\n",
       "J2        0.006388\n",
       "C2        0.006026\n",
       "E3        0.005984\n",
       "R2        0.005856\n",
       "O1        0.005750\n",
       "G1        0.005750\n",
       "U3        0.005473\n",
       "M2        0.005217\n",
       "F1        0.005089\n",
       "W3        0.004855\n",
       "F2        0.004834\n",
       "D3        0.004749\n",
       "Q2        0.004621\n",
       "R1        0.004472\n",
       "Q1        0.004344\n",
       "B2        0.004344\n",
       "F3        0.004323\n",
       "U2        0.004280\n",
       "J3        0.004216\n",
       "W2        0.004195\n",
       "S2        0.004110\n",
       "B1        0.004089\n",
       "O3        0.004025\n",
       "Q1        0.003790\n",
       "C1        0.003556\n",
       "U1        0.003556\n",
       "G1        0.003514\n",
       "S1        0.003386\n",
       "L3        0.003109\n",
       "O2        0.002960\n",
       "G3        0.002939\n",
       "G2        0.002939\n",
       "L1        0.002917\n",
       "L2        0.002832\n",
       "C3        0.002790\n",
       "R3        0.002790\n",
       "S3        0.002641\n",
       "J1        0.002598\n",
       "B3        0.002598\n",
       "W1        0.002598\n",
       "W3        0.002342\n",
       "C2        0.001853\n",
       "U3        0.001810\n",
       "J2        0.001597\n",
       "N1        0.001555\n",
       "99        0.000043\n",
       "Name: Beat, dtype: float64"
      ]
     },
     "execution_count": 71,
     "metadata": {},
     "output_type": "execute_result"
    }
   ],
   "source": [
    "df['Beat'].value_counts(normalize=True)"
   ]
  },
  {
   "cell_type": "markdown",
   "metadata": {},
   "source": [
    "## Analysis: `NA` is largest Category at 21%\n",
    "`NA` is over 8 times larger that the next largest category."
   ]
  },
  {
   "cell_type": "markdown",
   "metadata": {},
   "source": [
    "### Creating a Beat Flag\n",
    "Creating a binary flag where 1 indicates that a beat was entered into the record."
   ]
  },
  {
   "cell_type": "code",
   "execution_count": 72,
   "metadata": {},
   "outputs": [],
   "source": [
    "# creating beat flag\n",
    "df['Beat Flag'] = df['Beat']\n",
    "\n",
    "df['Beat Flag'] = df['Beat Flag'].replace('NA', 0)\n",
    "df['Beat Flag'] = df['Beat Flag'].map(lambda x: 1 if x!=0 else 0)"
   ]
  },
  {
   "cell_type": "code",
   "execution_count": 73,
   "metadata": {},
   "outputs": [
    {
     "data": {
      "text/plain": [
       "1    37101\n",
       "0     9859\n",
       "Name: Beat Flag, dtype: int64"
      ]
     },
     "execution_count": 73,
     "metadata": {},
     "output_type": "execute_result"
    }
   ],
   "source": [
    "df['Beat Flag'].value_counts()"
   ]
  },
  {
   "cell_type": "code",
   "execution_count": 74,
   "metadata": {},
   "outputs": [
    {
     "data": {
      "text/plain": [
       "1    0.790055\n",
       "0    0.209945\n",
       "Name: Beat Flag, dtype: float64"
      ]
     },
     "execution_count": 74,
     "metadata": {},
     "output_type": "execute_result"
    }
   ],
   "source": [
    "df['Beat Flag'].value_counts(normalize=True)"
   ]
  },
  {
   "cell_type": "code",
   "execution_count": 75,
   "metadata": {},
   "outputs": [],
   "source": [
    "df.drop('Beat', axis=1, inplace=True)"
   ]
  },
  {
   "cell_type": "markdown",
   "metadata": {},
   "source": [
    "## Analysis: 21% of Stops Have no Beat Information"
   ]
  },
  {
   "cell_type": "markdown",
   "metadata": {},
   "source": [
    "## Beat, Sector & Precinct Have Similar Rates of Nulls "
   ]
  },
  {
   "cell_type": "markdown",
   "metadata": {},
   "source": [
    "## Dropping Sector"
   ]
  },
  {
   "cell_type": "code",
   "execution_count": 76,
   "metadata": {},
   "outputs": [],
   "source": [
    "df.drop('Sector', axis=1, inplace=True)"
   ]
  },
  {
   "cell_type": "markdown",
   "metadata": {},
   "source": [
    "### Checking Work So Far"
   ]
  },
  {
   "cell_type": "code",
   "execution_count": 77,
   "metadata": {},
   "outputs": [
    {
     "name": "stdout",
     "output_type": "stream",
     "text": [
      "<class 'pandas.core.frame.DataFrame'>\n",
      "Int64Index: 46960 entries, 0 to 47212\n",
      "Data columns (total 26 columns):\n",
      " #   Column                    Non-Null Count  Dtype \n",
      "---  ------                    --------------  ----- \n",
      " 0   Target                    46960 non-null  int64 \n",
      " 1   Subject Age Group         46960 non-null  object\n",
      " 2   Subject ID                46960 non-null  int64 \n",
      " 3   GO / SC Num               46960 non-null  int64 \n",
      " 4   Terry Stop ID             46960 non-null  int64 \n",
      " 5   Stop Resolution           46960 non-null  object\n",
      " 6   Weapon Type               46960 non-null  object\n",
      " 7   Officer ID                46960 non-null  object\n",
      " 8   Officer YOB               46960 non-null  int64 \n",
      " 9   Officer Gender            46960 non-null  object\n",
      " 10  Officer Race              46960 non-null  object\n",
      " 11  Subject Perceived Race    46960 non-null  object\n",
      " 12  Subject Perceived Gender  46960 non-null  object\n",
      " 13  Initial Call Type         46960 non-null  object\n",
      " 14  Final Call Type           46960 non-null  object\n",
      " 15  Call Type                 46960 non-null  object\n",
      " 16  Officer Squad             46960 non-null  object\n",
      " 17  Frisk Flag                46960 non-null  int64 \n",
      " 18  Precinct                  46960 non-null  object\n",
      " 19  Weapon Flag               46960 non-null  int64 \n",
      " 20  Reported Year             46960 non-null  int64 \n",
      " 21  Reported Month            46960 non-null  int64 \n",
      " 22  Day of Month              46960 non-null  int64 \n",
      " 23  Day of Week               46960 non-null  int64 \n",
      " 24  Reported Hour             46960 non-null  int64 \n",
      " 25  Beat Flag                 46960 non-null  int64 \n",
      "dtypes: int64(13), object(13)\n",
      "memory usage: 9.7+ MB\n"
     ]
    }
   ],
   "source": [
    "df.info()"
   ]
  },
  {
   "cell_type": "code",
   "execution_count": 78,
   "metadata": {},
   "outputs": [
    {
     "data": {
      "text/plain": [
       "Index(['Target', 'Subject Age Group', 'Subject ID', 'GO / SC Num',\n",
       "       'Terry Stop ID', 'Stop Resolution', 'Weapon Type', 'Officer ID',\n",
       "       'Officer YOB', 'Officer Gender', 'Officer Race',\n",
       "       'Subject Perceived Race', 'Subject Perceived Gender',\n",
       "       'Initial Call Type', 'Final Call Type', 'Call Type', 'Officer Squad',\n",
       "       'Frisk Flag', 'Precinct', 'Weapon Flag', 'Reported Year',\n",
       "       'Reported Month', 'Day of Month', 'Day of Week', 'Reported Hour',\n",
       "       'Beat Flag'],\n",
       "      dtype='object')"
      ]
     },
     "execution_count": 78,
     "metadata": {},
     "output_type": "execute_result"
    }
   ],
   "source": [
    "# checking columns\n",
    "df.columns"
   ]
  },
  {
   "cell_type": "markdown",
   "metadata": {},
   "source": [
    "### Dropping Extraneous Columns"
   ]
  },
  {
   "cell_type": "code",
   "execution_count": 79,
   "metadata": {},
   "outputs": [],
   "source": [
    "# dropping columns\n",
    "df.drop(['Subject ID', 'GO / SC Num',\n",
    "         'Terry Stop ID'], axis=1, inplace=True)"
   ]
  },
  {
   "cell_type": "markdown",
   "metadata": {},
   "source": [
    "## Exporting Data for EDA "
   ]
  },
  {
   "cell_type": "markdown",
   "metadata": {},
   "source": [
    "### Stop Resolution Remix"
   ]
  },
  {
   "cell_type": "code",
   "execution_count": 80,
   "metadata": {},
   "outputs": [
    {
     "data": {
      "text/plain": [
       "{'Field Contact': 18915,\n",
       " 'Offense Report': 15534,\n",
       " 'Arrest': 11611,\n",
       " 'Referred for Prosecution': 722,\n",
       " 'Citation / Infraction': 178}"
      ]
     },
     "execution_count": 80,
     "metadata": {},
     "output_type": "execute_result"
    }
   ],
   "source": [
    "# checking uniques\n",
    "df['Stop Resolution'].value_counts().to_dict()"
   ]
  },
  {
   "cell_type": "code",
   "execution_count": 81,
   "metadata": {},
   "outputs": [],
   "source": [
    "remix = {'Field Contact': 0,\n",
    " 'Offense Report': 1,\n",
    " 'Arrest': 1,\n",
    " 'Referred for Prosecution': 1,\n",
    " 'Citation / Infraction': 0}"
   ]
  },
  {
   "cell_type": "markdown",
   "metadata": {},
   "source": [
    "### Creating the  Remixed Target Feature\n",
    "Creating a binary feature where a value of 1 means an major outcome (Offense Report, Arrest, Referred for Prosecution), a value of 0 means a minor outcome (Field Contact, Citation/Infraction), and then moving it to the front of the data frame. "
   ]
  },
  {
   "cell_type": "code",
   "execution_count": 82,
   "metadata": {},
   "outputs": [],
   "source": [
    "# creating and binarizing the target feature\n",
    "df['Target Remixed'] = df['Stop Resolution']\n",
    "\n",
    "\n",
    "df['Target Remixed'] = df['Target Remixed'].map(remix)"
   ]
  },
  {
   "cell_type": "code",
   "execution_count": 83,
   "metadata": {},
   "outputs": [],
   "source": [
    "# moving target to the front of the data frame\n",
    "column_name = 'Target Remixed'\n",
    "first_column = df.pop(column_name)\n",
    "df.insert(0, column_name, first_column)"
   ]
  },
  {
   "cell_type": "code",
   "execution_count": 84,
   "metadata": {},
   "outputs": [
    {
     "data": {
      "text/plain": [
       "1    27867\n",
       "0    19093\n",
       "Name: Target Remixed, dtype: int64"
      ]
     },
     "execution_count": 84,
     "metadata": {},
     "output_type": "execute_result"
    }
   ],
   "source": [
    "df['Target Remixed'].value_counts()"
   ]
  },
  {
   "cell_type": "code",
   "execution_count": 85,
   "metadata": {},
   "outputs": [
    {
     "data": {
      "text/plain": [
       "1    0.59342\n",
       "0    0.40658\n",
       "Name: Target Remixed, dtype: float64"
      ]
     },
     "execution_count": 85,
     "metadata": {},
     "output_type": "execute_result"
    }
   ],
   "source": [
    "df['Target Remixed'].value_counts(normalize=True)"
   ]
  },
  {
   "cell_type": "code",
   "execution_count": 86,
   "metadata": {},
   "outputs": [
    {
     "data": {
      "text/html": [
       "<div>\n",
       "<style scoped>\n",
       "    .dataframe tbody tr th:only-of-type {\n",
       "        vertical-align: middle;\n",
       "    }\n",
       "\n",
       "    .dataframe tbody tr th {\n",
       "        vertical-align: top;\n",
       "    }\n",
       "\n",
       "    .dataframe thead th {\n",
       "        text-align: right;\n",
       "    }\n",
       "</style>\n",
       "<table border=\"1\" class=\"dataframe\">\n",
       "  <thead>\n",
       "    <tr style=\"text-align: right;\">\n",
       "      <th></th>\n",
       "      <th>Target Remixed</th>\n",
       "      <th>Target</th>\n",
       "      <th>Subject Age Group</th>\n",
       "      <th>Stop Resolution</th>\n",
       "      <th>Weapon Type</th>\n",
       "      <th>Officer ID</th>\n",
       "      <th>Officer YOB</th>\n",
       "      <th>Officer Gender</th>\n",
       "      <th>Officer Race</th>\n",
       "      <th>Subject Perceived Race</th>\n",
       "      <th>...</th>\n",
       "      <th>Officer Squad</th>\n",
       "      <th>Frisk Flag</th>\n",
       "      <th>Precinct</th>\n",
       "      <th>Weapon Flag</th>\n",
       "      <th>Reported Year</th>\n",
       "      <th>Reported Month</th>\n",
       "      <th>Day of Month</th>\n",
       "      <th>Day of Week</th>\n",
       "      <th>Reported Hour</th>\n",
       "      <th>Beat Flag</th>\n",
       "    </tr>\n",
       "  </thead>\n",
       "  <tbody>\n",
       "    <tr>\n",
       "      <th>0</th>\n",
       "      <td>1</td>\n",
       "      <td>1</td>\n",
       "      <td>NA</td>\n",
       "      <td>Arrest</td>\n",
       "      <td>None</td>\n",
       "      <td>7500</td>\n",
       "      <td>1984</td>\n",
       "      <td>M</td>\n",
       "      <td>Black</td>\n",
       "      <td>Asian</td>\n",
       "      <td>...</td>\n",
       "      <td>SOUTH PCT 1ST W - ROBERT</td>\n",
       "      <td>0</td>\n",
       "      <td>South</td>\n",
       "      <td>0</td>\n",
       "      <td>2015</td>\n",
       "      <td>10</td>\n",
       "      <td>16</td>\n",
       "      <td>4</td>\n",
       "      <td>11</td>\n",
       "      <td>1</td>\n",
       "    </tr>\n",
       "    <tr>\n",
       "      <th>1</th>\n",
       "      <td>0</td>\n",
       "      <td>0</td>\n",
       "      <td>NA</td>\n",
       "      <td>Field Contact</td>\n",
       "      <td>None</td>\n",
       "      <td>5670</td>\n",
       "      <td>1965</td>\n",
       "      <td>M</td>\n",
       "      <td>White</td>\n",
       "      <td>NA</td>\n",
       "      <td>...</td>\n",
       "      <td>NA</td>\n",
       "      <td>0</td>\n",
       "      <td>NA</td>\n",
       "      <td>0</td>\n",
       "      <td>2015</td>\n",
       "      <td>3</td>\n",
       "      <td>19</td>\n",
       "      <td>3</td>\n",
       "      <td>7</td>\n",
       "      <td>0</td>\n",
       "    </tr>\n",
       "    <tr>\n",
       "      <th>2</th>\n",
       "      <td>0</td>\n",
       "      <td>0</td>\n",
       "      <td>NA</td>\n",
       "      <td>Field Contact</td>\n",
       "      <td>None</td>\n",
       "      <td>4844</td>\n",
       "      <td>1961</td>\n",
       "      <td>M</td>\n",
       "      <td>White</td>\n",
       "      <td>White</td>\n",
       "      <td>...</td>\n",
       "      <td>NA</td>\n",
       "      <td>0</td>\n",
       "      <td>NA</td>\n",
       "      <td>0</td>\n",
       "      <td>2015</td>\n",
       "      <td>3</td>\n",
       "      <td>21</td>\n",
       "      <td>5</td>\n",
       "      <td>19</td>\n",
       "      <td>0</td>\n",
       "    </tr>\n",
       "    <tr>\n",
       "      <th>3</th>\n",
       "      <td>0</td>\n",
       "      <td>0</td>\n",
       "      <td>NA</td>\n",
       "      <td>Field Contact</td>\n",
       "      <td>None</td>\n",
       "      <td>7539</td>\n",
       "      <td>1963</td>\n",
       "      <td>M</td>\n",
       "      <td>White</td>\n",
       "      <td>NA</td>\n",
       "      <td>...</td>\n",
       "      <td>NA</td>\n",
       "      <td>0</td>\n",
       "      <td>NA</td>\n",
       "      <td>0</td>\n",
       "      <td>2015</td>\n",
       "      <td>4</td>\n",
       "      <td>1</td>\n",
       "      <td>2</td>\n",
       "      <td>4</td>\n",
       "      <td>0</td>\n",
       "    </tr>\n",
       "    <tr>\n",
       "      <th>4</th>\n",
       "      <td>0</td>\n",
       "      <td>0</td>\n",
       "      <td>NA</td>\n",
       "      <td>Field Contact</td>\n",
       "      <td>None</td>\n",
       "      <td>6973</td>\n",
       "      <td>1977</td>\n",
       "      <td>M</td>\n",
       "      <td>White</td>\n",
       "      <td>Black</td>\n",
       "      <td>...</td>\n",
       "      <td>NA</td>\n",
       "      <td>0</td>\n",
       "      <td>NA</td>\n",
       "      <td>0</td>\n",
       "      <td>2015</td>\n",
       "      <td>4</td>\n",
       "      <td>3</td>\n",
       "      <td>4</td>\n",
       "      <td>0</td>\n",
       "      <td>0</td>\n",
       "    </tr>\n",
       "  </tbody>\n",
       "</table>\n",
       "<p>5 rows × 24 columns</p>\n",
       "</div>"
      ],
      "text/plain": [
       "   Target Remixed  Target Subject Age Group Stop Resolution Weapon Type  \\\n",
       "0               1       1                NA          Arrest        None   \n",
       "1               0       0                NA   Field Contact        None   \n",
       "2               0       0                NA   Field Contact        None   \n",
       "3               0       0                NA   Field Contact        None   \n",
       "4               0       0                NA   Field Contact        None   \n",
       "\n",
       "  Officer ID  Officer YOB Officer Gender Officer Race Subject Perceived Race  \\\n",
       "0       7500         1984              M        Black                  Asian   \n",
       "1       5670         1965              M        White                     NA   \n",
       "2       4844         1961              M        White                  White   \n",
       "3       7539         1963              M        White                     NA   \n",
       "4       6973         1977              M        White                  Black   \n",
       "\n",
       "   ...             Officer Squad Frisk Flag Precinct Weapon Flag  \\\n",
       "0  ...  SOUTH PCT 1ST W - ROBERT          0    South           0   \n",
       "1  ...                        NA          0       NA           0   \n",
       "2  ...                        NA          0       NA           0   \n",
       "3  ...                        NA          0       NA           0   \n",
       "4  ...                        NA          0       NA           0   \n",
       "\n",
       "  Reported Year  Reported Month Day of Month  Day of Week  Reported Hour  \\\n",
       "0          2015              10           16            4             11   \n",
       "1          2015               3           19            3              7   \n",
       "2          2015               3           21            5             19   \n",
       "3          2015               4            1            2              4   \n",
       "4          2015               4            3            4              0   \n",
       "\n",
       "   Beat Flag  \n",
       "0          1  \n",
       "1          0  \n",
       "2          0  \n",
       "3          0  \n",
       "4          0  \n",
       "\n",
       "[5 rows x 24 columns]"
      ]
     },
     "execution_count": 86,
     "metadata": {},
     "output_type": "execute_result"
    }
   ],
   "source": [
    "df.head()"
   ]
  },
  {
   "cell_type": "code",
   "execution_count": 87,
   "metadata": {},
   "outputs": [],
   "source": [
    "# # cleaned data with stop resolution column for eda\n",
    "# path2 = os.path.join(gparent, 'data/processed', 'eda.csv')\n",
    "# df.to_csv(path2, index=False, na_rep='NA')"
   ]
  },
  {
   "cell_type": "code",
   "execution_count": 88,
   "metadata": {},
   "outputs": [],
   "source": [
    "# # cleaned data with stop resolution column for eda\n",
    "# path2 = os.path.join(gparent, 'data/processed', 'eda_remixed.csv')\n",
    "# df.to_csv(path2, index=False, na_rep='NA')"
   ]
  },
  {
   "cell_type": "markdown",
   "metadata": {},
   "source": [
    "## Dropping Stop Resolution \n",
    "`Stop Resolution` contains target feature data and must be dropped for modeling purposes."
   ]
  },
  {
   "cell_type": "code",
   "execution_count": 89,
   "metadata": {},
   "outputs": [],
   "source": [
    "df.drop('Stop Resolution', axis=1, inplace=True)"
   ]
  },
  {
   "cell_type": "markdown",
   "metadata": {},
   "source": [
    "## Exporting Data for Modeling"
   ]
  },
  {
   "cell_type": "code",
   "execution_count": 90,
   "metadata": {},
   "outputs": [],
   "source": [
    "# # cleaned data without stop resolution for modeling\n",
    "# path2 = os.path.join(gparent, 'data/processed', 'modeling.csv')\n",
    "# df.to_csv(path2, index=False, na_rep='NA')"
   ]
  },
  {
   "cell_type": "code",
   "execution_count": 91,
   "metadata": {},
   "outputs": [],
   "source": [
    "df.drop('Target', axis=1, inplace=True)"
   ]
  },
  {
   "cell_type": "code",
   "execution_count": 92,
   "metadata": {},
   "outputs": [],
   "source": [
    "# # cleaned data without stop resolution or original target for modeling\n",
    "# path2 = os.path.join(gparent, 'data/processed', 'modeling_remixed.csv')\n",
    "# df.to_csv(path2, index=False, na_rep='NA')"
   ]
  },
  {
   "cell_type": "code",
   "execution_count": null,
   "metadata": {},
   "outputs": [],
   "source": []
  },
  {
   "cell_type": "code",
   "execution_count": null,
   "metadata": {},
   "outputs": [],
   "source": []
  },
  {
   "cell_type": "code",
   "execution_count": null,
   "metadata": {},
   "outputs": [],
   "source": []
  },
  {
   "cell_type": "code",
   "execution_count": null,
   "metadata": {},
   "outputs": [],
   "source": []
  },
  {
   "cell_type": "code",
   "execution_count": null,
   "metadata": {},
   "outputs": [],
   "source": []
  },
  {
   "cell_type": "code",
   "execution_count": null,
   "metadata": {},
   "outputs": [],
   "source": []
  },
  {
   "cell_type": "code",
   "execution_count": null,
   "metadata": {},
   "outputs": [],
   "source": []
  }
 ],
 "metadata": {
  "kernelspec": {
   "display_name": "terry_stops",
   "language": "python",
   "name": "terry_stops"
  },
  "language_info": {
   "codemirror_mode": {
    "name": "ipython",
    "version": 3
   },
   "file_extension": ".py",
   "mimetype": "text/x-python",
   "name": "python",
   "nbconvert_exporter": "python",
   "pygments_lexer": "ipython3",
   "version": "3.9.4"
  }
 },
 "nbformat": 4,
 "nbformat_minor": 4
}
