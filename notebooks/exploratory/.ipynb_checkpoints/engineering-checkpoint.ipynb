{
 "cells": [
  {
   "cell_type": "code",
   "execution_count": null,
   "id": "dec765fd-7cf9-4b53-9647-18921634ffb3",
   "metadata": {},
   "outputs": [],
   "source": [
    "%load_ext autoreload\n",
    "%autoreload 2"
   ]
  },
  {
   "cell_type": "code",
   "execution_count": null,
   "id": "e7e827e0-c324-49a5-9c8a-6acd8a4a32dd",
   "metadata": {},
   "outputs": [],
   "source": [
    "# setting project path\n",
    "import os\n",
    "import sys\n",
    "\n",
    "gparent = os.path.join(os.pardir, os.pardir)\n",
    "sys.path.append(gparent)\n",
    "\n",
    "# imports\n",
    "import pandas as pd\n",
    "import numpy as np\n",
    "\n",
    "from sklearn.model_selection import StratifiedKFold\n",
    "from sklearn.model_selection import train_test_split\n",
    "from sklearn.model_selection import cross_val_score\n",
    "from sklearn.preprocessing import OneHotEncoder\n",
    "from sklearn.preprocessing import StandardScaler\n",
    "from sklearn.preprocessing import MinMaxScaler, PolynomialFeatures\n",
    "from sklearn.compose import make_column_selector\n",
    "from sklearn.compose import make_column_transformer\n",
    "from sklearn.pipeline import make_pipeline \n",
    "from sklearn.metrics import accuracy_score, recall_score, precision_score, f1_score\n",
    "from sklearn.metrics import make_scorer, plot_confusion_matrix\n",
    "from sklearn.linear_model import LogisticRegression\n",
    "from sklearn.neighbors import KNeighborsClassifier\n",
    "from sklearn.base import clone\n",
    "from sklearn.tree import DecisionTreeClassifier\n",
    "from sklearn.ensemble import RandomForestClassifier\n",
    "\n",
    "from imblearn.over_sampling import SMOTE\n",
    "from imblearn.pipeline import make_pipeline as make_sm_pipeline\n",
    "\n",
    "from src import classes as c\n",
    "from src import functions as f\n",
    "import matplotlib.pyplot as plt\n",
    "import seaborn as sns\n",
    "\n",
    "# setting style\n",
    "sns.set_theme('talk')\n",
    "plt.style.use('fivethirtyeight')\n",
    "sns.set_palette(palette='Blues_r')"
   ]
  },
  {
   "cell_type": "markdown",
   "id": "2b7ec8ba-446d-4c17-8aaf-f92dbc62454c",
   "metadata": {},
   "source": [
    "## Importing the Data"
   ]
  },
  {
   "cell_type": "code",
   "execution_count": null,
   "id": "959930a8-49d5-44fa-b4be-6f380b385b05",
   "metadata": {},
   "outputs": [],
   "source": [
    "path = os.path.join(gparent, 'data/processed', 'modeling.csv')\n",
    "df = pd.read_csv(path, keep_default_na=False)"
   ]
  },
  {
   "cell_type": "markdown",
   "id": "89d003b1-9e09-4cb4-b910-d21ec32be028",
   "metadata": {},
   "source": [
    "## Preprocessing and Harness Objects"
   ]
  },
  {
   "cell_type": "code",
   "execution_count": null,
   "id": "3da125bd-dd01-4297-9b59-2d14aa585e74",
   "metadata": {},
   "outputs": [],
   "source": [
    "string_selector = make_column_selector(dtype_include='object')\n",
    "number_selector = make_column_selector(dtype_include='number', dtype_exclude='object')"
   ]
  },
  {
   "cell_type": "code",
   "execution_count": null,
   "id": "ebeb1f01-cf21-40e5-9212-e1d2a6624c8b",
   "metadata": {},
   "outputs": [],
   "source": [
    "preprocessing = make_column_transformer((OneHotEncoder\n",
    "                                         (handle_unknown='ignore'),string_selector),\n",
    "                                          (StandardScaler(), number_selector))"
   ]
  },
  {
   "cell_type": "code",
   "execution_count": null,
   "id": "86e5f7fb-1077-4446-8858-d935ef0f42d8",
   "metadata": {},
   "outputs": [],
   "source": [
    "sm = SMOTE(random_state=2021)"
   ]
  },
  {
   "cell_type": "code",
   "execution_count": null,
   "id": "30b55b51-7e25-4099-ae62-ec44d025cef9",
   "metadata": {},
   "outputs": [],
   "source": [
    "# creating f1 scorer\n",
    "f1 = f.f1"
   ]
  },
  {
   "cell_type": "code",
   "execution_count": null,
   "id": "d1f485cb-e7b7-406f-a812-3e0bff3a083c",
   "metadata": {},
   "outputs": [],
   "source": [
    "modeling = c.Harness(f1)"
   ]
  },
  {
   "cell_type": "markdown",
   "id": "67fc48c6-f67f-4c9b-9c72-107197d495cf",
   "metadata": {},
   "source": [
    "## Baseline Model"
   ]
  },
  {
   "cell_type": "markdown",
   "id": "e9149cb6-8807-4a31-bcfd-38c2007cc30d",
   "metadata": {},
   "source": [
    "Dropping engineered features to establish the baseline score."
   ]
  },
  {
   "cell_type": "code",
   "execution_count": null,
   "id": "aaebf3c2-5022-4427-860c-3f41398fde9d",
   "metadata": {},
   "outputs": [],
   "source": [
    "# features engineered during eda\n",
    "feature_list = ['Weapon Flag', 'Reported Year', 'Reported Month',\n",
    "                'Day of Month', 'Day of Week', 'Reported Hour', 'Beat Flag']"
   ]
  },
  {
   "cell_type": "code",
   "execution_count": null,
   "id": "47512aba-00a7-4890-bb5c-dd72df2992af",
   "metadata": {},
   "outputs": [],
   "source": [
    "excluded = ['Weapon Type', 'Officer ID', 'Initial Call Type', 'Final Call Type',\n",
    "             'Call Type', 'Officer Squad', 'Arrest Flag',\n",
    "             'Frisk Flag',  'Sector', 'Beat', 'Weapon Flag',\n",
    "             'Reported Year', 'Reported Month','Day of Month',\n",
    "             'Day of Week', 'Reported Hour', 'Beat Flag']"
   ]
  },
  {
   "cell_type": "code",
   "execution_count": null,
   "id": "d13534dd-1c86-4fdb-ba31-f7e0022960d7",
   "metadata": {},
   "outputs": [],
   "source": [
    "baseline_df = f.framer(df, [], excluded)"
   ]
  },
  {
   "cell_type": "code",
   "execution_count": null,
   "id": "c56efad5-e786-47a8-aff2-9515bf0dc541",
   "metadata": {},
   "outputs": [],
   "source": [
    "baseline_df.head(2)"
   ]
  },
  {
   "cell_type": "code",
   "execution_count": null,
   "id": "82e9e7d3-180e-44f4-91a9-a5eb80bb1485",
   "metadata": {},
   "outputs": [],
   "source": [
    "baseline_df.info()"
   ]
  },
  {
   "cell_type": "code",
   "execution_count": null,
   "id": "2fda8c57-cd87-448d-adb6-53b3296cb609",
   "metadata": {},
   "outputs": [],
   "source": [
    "X, y = f.Xy(baseline_df)"
   ]
  },
  {
   "cell_type": "code",
   "execution_count": null,
   "id": "af987daf-967a-4f84-9860-2d2ed0879116",
   "metadata": {},
   "outputs": [],
   "source": [
    "X_train, X_test, y_train, y_test = f.splitter(X,y)"
   ]
  },
  {
   "cell_type": "code",
   "execution_count": null,
   "id": "95ba01e3-6930-4229-9148-60db8afa7b0b",
   "metadata": {},
   "outputs": [],
   "source": [
    "preprocessing.fit_transform(X_train)"
   ]
  },
  {
   "cell_type": "code",
   "execution_count": null,
   "id": "9c85f052-308f-4469-817f-37fd6f4b56b1",
   "metadata": {},
   "outputs": [],
   "source": [
    "KNN = KNeighborsClassifier()"
   ]
  },
  {
   "cell_type": "code",
   "execution_count": null,
   "id": "e2035c22-ed61-43c3-a536-dd7085f8646c",
   "metadata": {},
   "outputs": [],
   "source": [
    "baseline = make_pipeline(preprocessing, KNN)"
   ]
  },
  {
   "cell_type": "code",
   "execution_count": null,
   "id": "889b3eab-60f2-4443-b7c1-1917f382cd7d",
   "metadata": {},
   "outputs": [],
   "source": [
    "modeling.report(baseline, X_train, y_train, 'Baseline', 'KNN - Baseline Features')"
   ]
  },
  {
   "cell_type": "code",
   "execution_count": null,
   "id": "8487f04e-23a5-4fe1-b68e-502d97562e28",
   "metadata": {},
   "outputs": [],
   "source": [
    "baseline_sm = make_sm_pipeline(preprocessing, sm, KNN)"
   ]
  },
  {
   "cell_type": "code",
   "execution_count": null,
   "id": "424f7d43-e730-4e99-b20b-3b9f44bcc863",
   "metadata": {},
   "outputs": [],
   "source": [
    "modeling.report(baseline_sm, X_train, y_train, 'Baseline_SM',\\\n",
    "                'Baseline Model w/ SMOTE')"
   ]
  },
  {
   "cell_type": "markdown",
   "id": "62db2984-ee09-451c-85b7-4b103ad9b4e2",
   "metadata": {},
   "source": [
    "With OID:\n",
    "0.4344416 , 0.44728326, 0.44414215, 0.42996076, 0.43894279"
   ]
  },
  {
   "cell_type": "code",
   "execution_count": null,
   "id": "4076d1c9-1db7-4e99-907d-386c4dc15742",
   "metadata": {},
   "outputs": [],
   "source": [
    "# f.confusion(baseline, X_train, y_train)"
   ]
  },
  {
   "cell_type": "code",
   "execution_count": null,
   "id": "144614b4-c385-45f5-9603-b2c63f29626a",
   "metadata": {},
   "outputs": [],
   "source": [
    "# f.confusion(baseline_sm, X_train, y_train)"
   ]
  },
  {
   "cell_type": "code",
   "execution_count": null,
   "id": "f7aa6f15-14ee-4f99-882e-1f54c91e58a0",
   "metadata": {},
   "outputs": [],
   "source": [
    "# modeling.history"
   ]
  },
  {
   "cell_type": "markdown",
   "id": "0a2d32a7-a949-4211-9f1e-c2d2e984c0ad",
   "metadata": {},
   "source": [
    "## KNN With Engineered Features\n",
    "Engineered columns from original EDA:\n",
    "\n",
    "'Weapon Flag', 'Reported Year', 'Reported Month', 'Day of Month', 'Day of Week', 'Reported Hour', 'Beat Flag'"
   ]
  },
  {
   "cell_type": "code",
   "execution_count": null,
   "id": "cd8238f5-f2c5-4481-aab0-5ac24fb0f01e",
   "metadata": {},
   "outputs": [],
   "source": [
    "feature_list1 = ['Sector',\n",
    " 'Beat',\n",
    " 'Weapon Flag',\n",
    " 'Reported Year',\n",
    " 'Reported Month',\n",
    " 'Day of Month',\n",
    " 'Day of Week',\n",
    " 'Reported Hour',\n",
    " 'Beat Flag']"
   ]
  },
  {
   "cell_type": "code",
   "execution_count": null,
   "id": "29480ef3-40c0-43c0-a3c7-597960fe0b31",
   "metadata": {},
   "outputs": [],
   "source": [
    "excluded1 = ['Weapon Type',\n",
    " 'Initial Call Type',\n",
    " 'Final Call Type',\n",
    " 'Call Type',\n",
    " 'Officer Squad',\n",
    " 'Arrest Flag',\n",
    " 'Frisk Flag',]"
   ]
  },
  {
   "cell_type": "code",
   "execution_count": null,
   "id": "afb9cbd4-b31c-4527-893e-774322a4175c",
   "metadata": {},
   "outputs": [],
   "source": [
    "engineered = f.framer(df, feature_list1, excluded1)"
   ]
  },
  {
   "cell_type": "code",
   "execution_count": null,
   "id": "98e2745d-bd08-490a-93c2-01cd4cadcd0e",
   "metadata": {},
   "outputs": [],
   "source": [
    "f.feature_test(engineered, KNN, feature_list1)"
   ]
  },
  {
   "cell_type": "markdown",
   "id": "7e9dfbdd-02ee-44ec-808f-fce7528a37b8",
   "metadata": {},
   "source": [
    "## Logistic Regression Baseline"
   ]
  },
  {
   "cell_type": "code",
   "execution_count": null,
   "id": "33709e2d-ed9a-4e1e-8ee4-f7428966b4df",
   "metadata": {},
   "outputs": [],
   "source": [
    "# features engineered during eda\n",
    "feature_list2 = ['Weapon Flag', 'Reported Year', 'Reported Month',\n",
    "                'Day of Month', 'Day of Week', 'Reported Hour', 'Beat Flag']"
   ]
  },
  {
   "cell_type": "code",
   "execution_count": null,
   "id": "45301df7-d26c-49e2-ab59-4dd0f87bd68c",
   "metadata": {},
   "outputs": [],
   "source": [
    "excluded2 = ['Weapon Type', 'Officer ID', 'Initial Call Type', 'Final Call Type',\n",
    "             'Call Type', 'Officer Squad', 'Arrest Flag',\n",
    "             'Frisk Flag',  'Sector', 'Beat', 'Weapon Flag',\n",
    "             'Reported Year', 'Reported Month','Day of Month',\n",
    "             'Day of Week', 'Reported Hour', 'Beat Flag']"
   ]
  },
  {
   "cell_type": "code",
   "execution_count": null,
   "id": "28c66be7-6fbc-494d-a11d-2481a3c52dd7",
   "metadata": {},
   "outputs": [],
   "source": [
    "baseline_df1 = f.framer(df, [], excluded2)"
   ]
  },
  {
   "cell_type": "code",
   "execution_count": null,
   "id": "ff591614-5dbc-4c45-802a-7fe1683681f9",
   "metadata": {},
   "outputs": [],
   "source": [
    "baseline_df1.head(2)"
   ]
  },
  {
   "cell_type": "code",
   "execution_count": null,
   "id": "2e696736-cffb-432e-a289-c4e0d72f1d3e",
   "metadata": {},
   "outputs": [],
   "source": [
    "X, y = f.Xy(baseline_df1)"
   ]
  },
  {
   "cell_type": "code",
   "execution_count": null,
   "id": "c7330e5e-ae3d-4b42-bd21-79ba9b3e386e",
   "metadata": {},
   "outputs": [],
   "source": [
    "X_train, X_test, y_train, y_test = f.splitter(X,y)"
   ]
  },
  {
   "cell_type": "code",
   "execution_count": null,
   "id": "cc447d23-18ee-4d6a-bb6c-2b0e11f4b620",
   "metadata": {},
   "outputs": [],
   "source": [
    "preprocessing.fit_transform(X_train)"
   ]
  },
  {
   "cell_type": "code",
   "execution_count": null,
   "id": "d4df1dfc-bb09-41b3-9769-58e4ef5c1cd7",
   "metadata": {
    "tags": []
   },
   "outputs": [],
   "source": [
    "LR = LogisticRegression(max_iter=1000)"
   ]
  },
  {
   "cell_type": "code",
   "execution_count": null,
   "id": "8a214aea-96b4-4c6d-8a74-316609d2d1a5",
   "metadata": {},
   "outputs": [],
   "source": [
    "baseline_LR = make_pipeline(preprocessing, LR)"
   ]
  },
  {
   "cell_type": "code",
   "execution_count": null,
   "id": "f77d251c-848a-493a-9b48-7354d1ebd0dd",
   "metadata": {},
   "outputs": [],
   "source": [
    "modeling.report(baseline_LR, X_train, y_train, 'LR Baseline',\\\n",
    "                'Log Reg Baseline')"
   ]
  },
  {
   "cell_type": "code",
   "execution_count": null,
   "id": "7ff4cf42-5fc0-44d5-bbb1-d5df8e211276",
   "metadata": {},
   "outputs": [],
   "source": [
    "lr_smote = make_sm_pipeline(preprocessing, sm, LR)"
   ]
  },
  {
   "cell_type": "code",
   "execution_count": null,
   "id": "54770e9b-12f5-46dd-abe9-fd4b19039382",
   "metadata": {},
   "outputs": [],
   "source": [
    "modeling.report(lr_smote, X_train, y_train, 'LR SMOTE', 'Log Reg w/ SMOTE')"
   ]
  },
  {
   "cell_type": "code",
   "execution_count": null,
   "id": "5885b53c-a4d6-4d46-beed-78baaf354195",
   "metadata": {},
   "outputs": [],
   "source": [
    "f.feature_test(engineered, LR, feature_list1)"
   ]
  },
  {
   "cell_type": "code",
   "execution_count": null,
   "id": "e490ae8e-b8d2-47c1-ada5-cb7bd938ed29",
   "metadata": {},
   "outputs": [],
   "source": [
    "f.confusion(lr_smote, X_train, y_train)"
   ]
  },
  {
   "cell_type": "markdown",
   "id": "4a862a8b-72c6-4e7f-a589-b47e6a4ed0e9",
   "metadata": {},
   "source": [
    "## Adding Polynomial Features"
   ]
  },
  {
   "cell_type": "code",
   "execution_count": null,
   "id": "f6ced270-4431-4f80-a4e0-715a783dc449",
   "metadata": {},
   "outputs": [],
   "source": [
    "preprocessing2 = make_column_transformer((PolynomialFeatures(degree=3), number_selector),\n",
    "                                         (OneHotEncoder(handle_unknown='ignore'),string_selector),\n",
    "                                          (StandardScaler(), number_selector))"
   ]
  },
  {
   "cell_type": "code",
   "execution_count": null,
   "id": "e00afce7-31a7-4364-bca2-7bf3fed95395",
   "metadata": {},
   "outputs": [],
   "source": [
    "preprocessing2.fit_transform(X_train)"
   ]
  },
  {
   "cell_type": "code",
   "execution_count": null,
   "id": "d64e035b-7141-4496-a510-ff1d2eb90fcd",
   "metadata": {},
   "outputs": [],
   "source": [
    "lr_poly = make_sm_pipeline(preprocessing2, sm, LR)"
   ]
  },
  {
   "cell_type": "code",
   "execution_count": null,
   "id": "17e0ba38-d319-4db1-95d0-bfa86b147bae",
   "metadata": {},
   "outputs": [],
   "source": [
    "modeling.report(lr_poly, X_train, y_train, 'LR Poly', 'Log Reg Polys w/ SMOTE')"
   ]
  },
  {
   "cell_type": "code",
   "execution_count": null,
   "id": "5bf1c83a-6acc-4a73-834f-2ee057e7479c",
   "metadata": {},
   "outputs": [],
   "source": [
    "modeling.history"
   ]
  },
  {
   "cell_type": "markdown",
   "id": "b3a790ab-cb93-40cd-8ca6-578748438322",
   "metadata": {},
   "source": [
    "## Decision Tree"
   ]
  },
  {
   "cell_type": "code",
   "execution_count": null,
   "id": "9bdd0143-5106-48bd-8280-580d9c295f67",
   "metadata": {},
   "outputs": [],
   "source": [
    "# features engineered during eda\n",
    "feature_list3 = ['Weapon Flag', 'Reported Year', 'Reported Month',\n",
    "                'Day of Month', 'Day of Week', 'Reported Hour', 'Beat Flag']"
   ]
  },
  {
   "cell_type": "code",
   "execution_count": null,
   "id": "f98bf656-10af-4c92-99f3-2030acc88664",
   "metadata": {},
   "outputs": [],
   "source": [
    "excluded3 = ['Weapon Type', 'Officer ID', 'Initial Call Type', 'Final Call Type',\n",
    "             'Call Type', 'Officer Squad', 'Arrest Flag',\n",
    "             'Frisk Flag',  'Sector', 'Beat', 'Weapon Flag',\n",
    "             'Reported Year', 'Reported Month','Day of Month',\n",
    "             'Day of Week', 'Reported Hour', 'Beat Flag']"
   ]
  },
  {
   "cell_type": "code",
   "execution_count": null,
   "id": "143284ab-87d7-4219-8166-1c7b22afa330",
   "metadata": {},
   "outputs": [],
   "source": [
    "baseline_df2 = f.framer(df, [], excluded3)"
   ]
  },
  {
   "cell_type": "code",
   "execution_count": null,
   "id": "24a10f21-4c42-4135-9222-95f956823e59",
   "metadata": {},
   "outputs": [],
   "source": [
    "baseline_df2.head(2)"
   ]
  },
  {
   "cell_type": "code",
   "execution_count": null,
   "id": "ced75d1a-5006-47bb-8e0c-19a370b993a4",
   "metadata": {},
   "outputs": [],
   "source": [
    "X, y = f.Xy(baseline_df2)"
   ]
  },
  {
   "cell_type": "code",
   "execution_count": null,
   "id": "05901510-a753-4acb-b681-c223d99ca895",
   "metadata": {},
   "outputs": [],
   "source": [
    "X_train, X_test, y_train, y_test = f.splitter(X,y)"
   ]
  },
  {
   "cell_type": "code",
   "execution_count": null,
   "id": "9026f5f9-476d-435f-95a6-a706c48f1ae3",
   "metadata": {},
   "outputs": [],
   "source": [
    "preprocessing.fit_transform(X_train)"
   ]
  },
  {
   "cell_type": "code",
   "execution_count": null,
   "id": "cae5c0f7-67cc-4e0b-925a-8225cfb6874a",
   "metadata": {},
   "outputs": [],
   "source": [
    "DT = DecisionTreeClassifier()"
   ]
  },
  {
   "cell_type": "code",
   "execution_count": null,
   "id": "3a9e9f9e-da93-4449-8680-f9f146478a7e",
   "metadata": {},
   "outputs": [],
   "source": [
    "dt_pipeline = make_sm_pipeline(preprocessing, sm, DT)"
   ]
  },
  {
   "cell_type": "code",
   "execution_count": null,
   "id": "f867e1d2-e1cc-42eb-8701-07dde608cee9",
   "metadata": {},
   "outputs": [],
   "source": [
    "modeling.report(dt_pipeline, X_train, y_train, 'Tree CLF', 'Tree w/ SMOTE')"
   ]
  },
  {
   "cell_type": "markdown",
   "id": "16a4cb62-fb8f-4803-b58c-d86e099e6bc7",
   "metadata": {},
   "source": [
    "## Random Forest"
   ]
  },
  {
   "cell_type": "code",
   "execution_count": null,
   "id": "abc502f0-1740-4487-9a37-803bb6d8295d",
   "metadata": {},
   "outputs": [],
   "source": [
    "RF = RandomForestClassifier()"
   ]
  },
  {
   "cell_type": "code",
   "execution_count": null,
   "id": "9e6e1690-0b38-4ac2-bda3-b0df6fcad256",
   "metadata": {},
   "outputs": [],
   "source": [
    "rf_pipeline = make_sm_pipeline(preprocessing, sm, RF)"
   ]
  },
  {
   "cell_type": "code",
   "execution_count": null,
   "id": "faddb395-619b-4999-8d14-59c53f85d6f9",
   "metadata": {},
   "outputs": [],
   "source": [
    "modeling.report(rf_pipeline, X_train, y_train, 'RandomForest', 'Forest w/ SMOTE')"
   ]
  },
  {
   "cell_type": "code",
   "execution_count": null,
   "id": "8dd8e263-e91a-43e0-8b22-eda268944052",
   "metadata": {},
   "outputs": [],
   "source": [
    "f.confusion(rf_pipeline, X_train, y_train)"
   ]
  },
  {
   "cell_type": "code",
   "execution_count": null,
   "id": "1ca06797-7fec-4360-9d25-ebfcaf7d369c",
   "metadata": {},
   "outputs": [],
   "source": [
    "y_train.value_counts(normalize=True)"
   ]
  },
  {
   "cell_type": "code",
   "execution_count": null,
   "id": "51568106-2090-4fb3-805c-921d8b1c619e",
   "metadata": {},
   "outputs": [],
   "source": [
    "Xs_train, Xs_test, ys_train , ys_test = f.splitter(X_train, y_train)"
   ]
  },
  {
   "cell_type": "code",
   "execution_count": null,
   "id": "6ec4cb99-1a6a-4159-8c22-5467a39c9473",
   "metadata": {},
   "outputs": [],
   "source": [
    "preprocessing.fit_transform(Xs_train)"
   ]
  },
  {
   "cell_type": "code",
   "execution_count": null,
   "id": "eadeb89c-62dd-4fb7-9eb2-35ac23c05c47",
   "metadata": {},
   "outputs": [],
   "source": [
    "sub_pipeline = make_sm_pipeline(preprocessing, sm, RF)"
   ]
  },
  {
   "cell_type": "code",
   "execution_count": null,
   "id": "bfdd5e5b-f232-4ebd-a51c-ecf7315b103f",
   "metadata": {},
   "outputs": [],
   "source": [
    "modeling.report(sub_pipeline, Xs_train, ys_train, 'RandomForest', 'Forest on SubSplit')"
   ]
  },
  {
   "cell_type": "code",
   "execution_count": null,
   "id": "16dcada8-a250-479a-ba73-749d0eae128a",
   "metadata": {},
   "outputs": [],
   "source": [
    "f.confusion(sub_pipeline, Xs_train, ys_train)"
   ]
  },
  {
   "cell_type": "code",
   "execution_count": null,
   "id": "5227aba3-03ad-4ef8-9219-30061b8c940b",
   "metadata": {},
   "outputs": [],
   "source": [
    "modeling.report(sub_pipeline, Xs_test, ys_test, 'RandomForest', 'Forest on SubSplit')"
   ]
  },
  {
   "cell_type": "code",
   "execution_count": null,
   "id": "7ae16db7-8a6a-4a43-8ffb-6722603f8b49",
   "metadata": {},
   "outputs": [],
   "source": [
    "f.confusion(sub_pipeline, Xs_test, ys_test)"
   ]
  },
  {
   "cell_type": "code",
   "execution_count": null,
   "id": "dc2dc881-1a10-4ad9-a636-ed8cca687df4",
   "metadata": {},
   "outputs": [],
   "source": []
  }
 ],
 "metadata": {
  "kernelspec": {
   "display_name": "terry_stops",
   "language": "python",
   "name": "terry_stops"
  },
  "language_info": {
   "codemirror_mode": {
    "name": "ipython",
    "version": 3
   },
   "file_extension": ".py",
   "mimetype": "text/x-python",
   "name": "python",
   "nbconvert_exporter": "python",
   "pygments_lexer": "ipython3",
   "version": "3.9.4"
  }
 },
 "nbformat": 4,
 "nbformat_minor": 5
}
