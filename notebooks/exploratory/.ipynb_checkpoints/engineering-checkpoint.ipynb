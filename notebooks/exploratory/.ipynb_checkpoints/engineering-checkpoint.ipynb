{
 "cells": [
  {
   "cell_type": "code",
   "execution_count": 1,
   "id": "dec765fd-7cf9-4b53-9647-18921634ffb3",
   "metadata": {},
   "outputs": [],
   "source": [
    "%load_ext autoreload\n",
    "%autoreload 2"
   ]
  },
  {
   "cell_type": "code",
   "execution_count": 2,
   "id": "e7e827e0-c324-49a5-9c8a-6acd8a4a32dd",
   "metadata": {},
   "outputs": [],
   "source": [
    "# setting project path\n",
    "import os\n",
    "import sys\n",
    "\n",
    "gparent = os.path.join(os.pardir, os.pardir)\n",
    "sys.path.append(gparent)\n",
    "\n",
    "# imports\n",
    "import pandas as pd\n",
    "import numpy as np\n",
    "\n",
    "from sklearn.model_selection import StratifiedKFold\n",
    "from sklearn.model_selection import train_test_split\n",
    "from sklearn.model_selection import cross_val_score\n",
    "from sklearn.model_selection import GridSearchCV\n",
    "from sklearn.preprocessing import OneHotEncoder\n",
    "from sklearn.preprocessing import StandardScaler\n",
    "from sklearn.preprocessing import MinMaxScaler, PolynomialFeatures\n",
    "from sklearn.compose import make_column_selector\n",
    "from sklearn.compose import make_column_transformer\n",
    "from sklearn.pipeline import make_pipeline \n",
    "from sklearn.metrics import accuracy_score, recall_score, precision_score, f1_score\n",
    "from sklearn.metrics import make_scorer, plot_confusion_matrix\n",
    "from sklearn.linear_model import LogisticRegression\n",
    "from sklearn.neighbors import KNeighborsClassifier\n",
    "from sklearn.base import clone\n",
    "from sklearn.tree import DecisionTreeClassifier\n",
    "from sklearn.ensemble import RandomForestClassifier\n",
    "\n",
    "from imblearn.over_sampling import SMOTE\n",
    "from imblearn.pipeline import make_pipeline as make_sm_pipeline\n",
    "\n",
    "from src import classes as c\n",
    "from src import functions as f\n",
    "import matplotlib.pyplot as plt\n",
    "import seaborn as sns\n",
    "\n",
    "# setting style\n",
    "sns.set_theme('talk')\n",
    "plt.style.use('fivethirtyeight')\n",
    "sns.set_palette(palette='Blues_r')"
   ]
  },
  {
   "cell_type": "markdown",
   "id": "2b7ec8ba-446d-4c17-8aaf-f92dbc62454c",
   "metadata": {},
   "source": [
    "## Importing the Data"
   ]
  },
  {
   "cell_type": "code",
   "execution_count": 3,
   "id": "959930a8-49d5-44fa-b4be-6f380b385b05",
   "metadata": {},
   "outputs": [],
   "source": [
    "path = os.path.join(gparent, 'data/processed', 'modeling.csv')\n",
    "df = pd.read_csv(path, keep_default_na=False)"
   ]
  },
  {
   "cell_type": "markdown",
   "id": "89d003b1-9e09-4cb4-b910-d21ec32be028",
   "metadata": {},
   "source": [
    "## Preprocessing and Harness Objects"
   ]
  },
  {
   "cell_type": "code",
   "execution_count": 4,
   "id": "21082e75-a9f7-4ae6-ace5-81e27c6d4e59",
   "metadata": {},
   "outputs": [],
   "source": [
    "string_selector = make_column_selector(dtype_include='object')\n",
    "number_selector = make_column_selector(dtype_include='number', dtype_exclude='object')\n",
    "\n",
    "preprocessing = make_column_transformer((OneHotEncoder\n",
    "                                         (handle_unknown='ignore'),string_selector),\n",
    "                                          (StandardScaler(), number_selector))\n",
    "\n",
    "sm = SMOTE(random_state=2021)"
   ]
  },
  {
   "cell_type": "code",
   "execution_count": 5,
   "id": "30b55b51-7e25-4099-ae62-ec44d025cef9",
   "metadata": {},
   "outputs": [],
   "source": [
    "# creating f1 scorer\n",
    "f1 = f.f1"
   ]
  },
  {
   "cell_type": "code",
   "execution_count": 6,
   "id": "d1f485cb-e7b7-406f-a812-3e0bff3a083c",
   "metadata": {},
   "outputs": [],
   "source": [
    "modeling = c.Harness(f1)"
   ]
  },
  {
   "cell_type": "markdown",
   "id": "67fc48c6-f67f-4c9b-9c72-107197d495cf",
   "metadata": {},
   "source": [
    "## Baseline Model KNN"
   ]
  },
  {
   "cell_type": "markdown",
   "id": "e9149cb6-8807-4a31-bcfd-38c2007cc30d",
   "metadata": {},
   "source": [
    "Dropping engineered features to establish the baseline score."
   ]
  },
  {
   "cell_type": "code",
   "execution_count": 7,
   "id": "aaebf3c2-5022-4427-860c-3f41398fde9d",
   "metadata": {},
   "outputs": [],
   "source": [
    "# features engineered during eda\n",
    "feature_list = ['Weapon Flag', 'Reported Year', 'Reported Month',\n",
    "                'Day of Month', 'Day of Week', 'Reported Hour', 'Beat Flag']"
   ]
  },
  {
   "cell_type": "code",
   "execution_count": 8,
   "id": "47512aba-00a7-4890-bb5c-dd72df2992af",
   "metadata": {},
   "outputs": [],
   "source": [
    "excluded = ['Weapon Type', 'Officer ID', 'Initial Call Type', 'Final Call Type',\n",
    "             'Call Type', 'Officer Squad', 'Arrest Flag',\n",
    "             'Frisk Flag',  'Sector', 'Beat', 'Weapon Flag',\n",
    "             'Reported Year', 'Reported Month','Day of Month',\n",
    "             'Day of Week', 'Reported Hour', 'Beat Flag']"
   ]
  },
  {
   "cell_type": "code",
   "execution_count": 9,
   "id": "d13534dd-1c86-4fdb-ba31-f7e0022960d7",
   "metadata": {},
   "outputs": [],
   "source": [
    "baseline_df = f.framer(df, [], excluded)"
   ]
  },
  {
   "cell_type": "code",
   "execution_count": 10,
   "id": "c56efad5-e786-47a8-aff2-9515bf0dc541",
   "metadata": {},
   "outputs": [
    {
     "data": {
      "text/html": [
       "<div>\n",
       "<style scoped>\n",
       "    .dataframe tbody tr th:only-of-type {\n",
       "        vertical-align: middle;\n",
       "    }\n",
       "\n",
       "    .dataframe tbody tr th {\n",
       "        vertical-align: top;\n",
       "    }\n",
       "\n",
       "    .dataframe thead th {\n",
       "        text-align: right;\n",
       "    }\n",
       "</style>\n",
       "<table border=\"1\" class=\"dataframe\">\n",
       "  <thead>\n",
       "    <tr style=\"text-align: right;\">\n",
       "      <th></th>\n",
       "      <th>Target</th>\n",
       "      <th>Subject Age Group</th>\n",
       "      <th>Officer YOB</th>\n",
       "      <th>Officer Gender</th>\n",
       "      <th>Officer Race</th>\n",
       "      <th>Subject Perceived Race</th>\n",
       "      <th>Subject Perceived Gender</th>\n",
       "      <th>Precinct</th>\n",
       "    </tr>\n",
       "  </thead>\n",
       "  <tbody>\n",
       "    <tr>\n",
       "      <th>0</th>\n",
       "      <td>1</td>\n",
       "      <td>NA</td>\n",
       "      <td>1984</td>\n",
       "      <td>M</td>\n",
       "      <td>Black</td>\n",
       "      <td>Asian</td>\n",
       "      <td>Male</td>\n",
       "      <td>South</td>\n",
       "    </tr>\n",
       "    <tr>\n",
       "      <th>1</th>\n",
       "      <td>0</td>\n",
       "      <td>NA</td>\n",
       "      <td>1965</td>\n",
       "      <td>M</td>\n",
       "      <td>White</td>\n",
       "      <td>NA</td>\n",
       "      <td>NA</td>\n",
       "      <td>NA</td>\n",
       "    </tr>\n",
       "  </tbody>\n",
       "</table>\n",
       "</div>"
      ],
      "text/plain": [
       "   Target Subject Age Group  Officer YOB Officer Gender Officer Race  \\\n",
       "0       1                NA         1984              M        Black   \n",
       "1       0                NA         1965              M        White   \n",
       "\n",
       "  Subject Perceived Race Subject Perceived Gender Precinct  \n",
       "0                  Asian                     Male    South  \n",
       "1                     NA                       NA       NA  "
      ]
     },
     "execution_count": 10,
     "metadata": {},
     "output_type": "execute_result"
    }
   ],
   "source": [
    "baseline_df.head(2)"
   ]
  },
  {
   "cell_type": "code",
   "execution_count": 11,
   "id": "82e9e7d3-180e-44f4-91a9-a5eb80bb1485",
   "metadata": {},
   "outputs": [
    {
     "name": "stdout",
     "output_type": "stream",
     "text": [
      "<class 'pandas.core.frame.DataFrame'>\n",
      "RangeIndex: 46960 entries, 0 to 46959\n",
      "Data columns (total 8 columns):\n",
      " #   Column                    Non-Null Count  Dtype \n",
      "---  ------                    --------------  ----- \n",
      " 0   Target                    46960 non-null  int64 \n",
      " 1   Subject Age Group         46960 non-null  object\n",
      " 2   Officer YOB               46960 non-null  int64 \n",
      " 3   Officer Gender            46960 non-null  object\n",
      " 4   Officer Race              46960 non-null  object\n",
      " 5   Subject Perceived Race    46960 non-null  object\n",
      " 6   Subject Perceived Gender  46960 non-null  object\n",
      " 7   Precinct                  46960 non-null  object\n",
      "dtypes: int64(2), object(6)\n",
      "memory usage: 2.9+ MB\n"
     ]
    }
   ],
   "source": [
    "baseline_df.info()"
   ]
  },
  {
   "cell_type": "code",
   "execution_count": 12,
   "id": "2fda8c57-cd87-448d-adb6-53b3296cb609",
   "metadata": {},
   "outputs": [],
   "source": [
    "X, y = f.Xy(baseline_df)"
   ]
  },
  {
   "cell_type": "code",
   "execution_count": 13,
   "id": "af987daf-967a-4f84-9860-2d2ed0879116",
   "metadata": {},
   "outputs": [],
   "source": [
    "X_train, X_test, y_train, y_test = f.splitter(X,y)"
   ]
  },
  {
   "cell_type": "code",
   "execution_count": 14,
   "id": "9c85f052-308f-4469-817f-37fd6f4b56b1",
   "metadata": {},
   "outputs": [],
   "source": [
    "KNN = KNeighborsClassifier()"
   ]
  },
  {
   "cell_type": "code",
   "execution_count": 15,
   "id": "e2035c22-ed61-43c3-a536-dd7085f8646c",
   "metadata": {},
   "outputs": [],
   "source": [
    "baseline = make_pipeline(preprocessing, KNN)"
   ]
  },
  {
   "cell_type": "code",
   "execution_count": 16,
   "id": "dd75b3c1-6a8c-4c06-ac9a-64f8688e3dcf",
   "metadata": {},
   "outputs": [
    {
     "data": {
      "text/plain": [
       "Pipeline(steps=[('columntransformer',\n",
       "                 ColumnTransformer(transformers=[('onehotencoder',\n",
       "                                                  OneHotEncoder(handle_unknown='ignore'),\n",
       "                                                  <sklearn.compose._column_transformer.make_column_selector object at 0x7fa5a60c7730>),\n",
       "                                                 ('standardscaler',\n",
       "                                                  StandardScaler(),\n",
       "                                                  <sklearn.compose._column_transformer.make_column_selector object at 0x7fa5a60c7370>)])),\n",
       "                ('kneighborsclassifier', KNeighborsClassifier())])"
      ]
     },
     "execution_count": 16,
     "metadata": {},
     "output_type": "execute_result"
    }
   ],
   "source": [
    "baseline.fit(X_train, y_train)"
   ]
  },
  {
   "cell_type": "code",
   "execution_count": 17,
   "id": "781dbfc6-f51e-4708-b415-7899eaa4e546",
   "metadata": {},
   "outputs": [
    {
     "data": {
      "text/plain": [
       "0.4529761082723381"
      ]
     },
     "execution_count": 17,
     "metadata": {},
     "output_type": "execute_result"
    }
   ],
   "source": [
    "f1_score(baseline.predict(X_train), y_train)"
   ]
  },
  {
   "cell_type": "code",
   "execution_count": 18,
   "id": "889b3eab-60f2-4443-b7c1-1917f382cd7d",
   "metadata": {},
   "outputs": [
    {
     "name": "stdout",
     "output_type": "stream",
     "text": [
      "Baseline has an average F1 of 0.2930510571694175\n"
     ]
    },
    {
     "data": {
      "text/plain": [
       "array([0.29814942, 0.28491425, 0.29144667, 0.30731877, 0.28342618])"
      ]
     },
     "execution_count": 18,
     "metadata": {},
     "output_type": "execute_result"
    }
   ],
   "source": [
    "## checking cross validation scores\n",
    "modeling.report(baseline, X_train, y_train, 'Baseline', 'KNN - Baseline Features')"
   ]
  },
  {
   "cell_type": "markdown",
   "id": "263e0ed6-451f-449e-bce1-874e61a1ce45",
   "metadata": {},
   "source": [
    "## KNN Baseline With SMOTE"
   ]
  },
  {
   "cell_type": "code",
   "execution_count": 19,
   "id": "8487f04e-23a5-4fe1-b68e-502d97562e28",
   "metadata": {
    "tags": []
   },
   "outputs": [],
   "source": [
    "baseline_sm = make_sm_pipeline(preprocessing, sm, KNN)"
   ]
  },
  {
   "cell_type": "code",
   "execution_count": 20,
   "id": "628ade95-4f23-4b11-936c-661fd59f2bbe",
   "metadata": {},
   "outputs": [
    {
     "data": {
      "text/plain": [
       "Pipeline(steps=[('columntransformer',\n",
       "                 ColumnTransformer(transformers=[('onehotencoder',\n",
       "                                                  OneHotEncoder(handle_unknown='ignore'),\n",
       "                                                  <sklearn.compose._column_transformer.make_column_selector object at 0x7fa5a60c7730>),\n",
       "                                                 ('standardscaler',\n",
       "                                                  StandardScaler(),\n",
       "                                                  <sklearn.compose._column_transformer.make_column_selector object at 0x7fa5a60c7370>)])),\n",
       "                ('smote', SMOTE(random_state=2021)),\n",
       "                ('kneighborsclassifier', KNeighborsClassifier())])"
      ]
     },
     "execution_count": 20,
     "metadata": {},
     "output_type": "execute_result"
    }
   ],
   "source": [
    "baseline_sm.fit(X_train, y_train)"
   ]
  },
  {
   "cell_type": "code",
   "execution_count": 21,
   "id": "91934c2e-bb00-4779-953f-1fce32723549",
   "metadata": {},
   "outputs": [
    {
     "data": {
      "text/plain": [
       "0.5744202768290491"
      ]
     },
     "execution_count": 21,
     "metadata": {},
     "output_type": "execute_result"
    }
   ],
   "source": [
    "f1_score(baseline_sm.predict(X_train), y_train)"
   ]
  },
  {
   "cell_type": "code",
   "execution_count": 22,
   "id": "424f7d43-e730-4e99-b20b-3b9f44bcc863",
   "metadata": {},
   "outputs": [
    {
     "name": "stdout",
     "output_type": "stream",
     "text": [
      "KNN SMOTE has an average F1 of 0.4185201782434615\n"
     ]
    },
    {
     "data": {
      "text/plain": [
       "array([0.41236183, 0.41164703, 0.43376213, 0.40610061, 0.42872928])"
      ]
     },
     "execution_count": 22,
     "metadata": {},
     "output_type": "execute_result"
    }
   ],
   "source": [
    "# checking cross validation scores\n",
    "modeling.report(baseline_sm, X_train, y_train, 'KNN SMOTE',\\\n",
    "                'Baseline KNN w/ SMOTE')"
   ]
  },
  {
   "cell_type": "markdown",
   "id": "7e9dfbdd-02ee-44ec-808f-fce7528a37b8",
   "metadata": {},
   "source": [
    "## Logistic Regression"
   ]
  },
  {
   "cell_type": "code",
   "execution_count": 23,
   "id": "d4df1dfc-bb09-41b3-9769-58e4ef5c1cd7",
   "metadata": {
    "tags": []
   },
   "outputs": [],
   "source": [
    "LR = LogisticRegression(max_iter=1000)"
   ]
  },
  {
   "cell_type": "code",
   "execution_count": 24,
   "id": "7ff4cf42-5fc0-44d5-bbb1-d5df8e211276",
   "metadata": {},
   "outputs": [],
   "source": [
    "lr_smote = make_sm_pipeline(preprocessing, sm, LR)"
   ]
  },
  {
   "cell_type": "code",
   "execution_count": 25,
   "id": "57afe0dd-4f0f-42bf-8d74-5f7442754b91",
   "metadata": {},
   "outputs": [
    {
     "data": {
      "text/plain": [
       "Pipeline(steps=[('columntransformer',\n",
       "                 ColumnTransformer(transformers=[('onehotencoder',\n",
       "                                                  OneHotEncoder(handle_unknown='ignore'),\n",
       "                                                  <sklearn.compose._column_transformer.make_column_selector object at 0x7fa5a60c7730>),\n",
       "                                                 ('standardscaler',\n",
       "                                                  StandardScaler(),\n",
       "                                                  <sklearn.compose._column_transformer.make_column_selector object at 0x7fa5a60c7370>)])),\n",
       "                ('smote', SMOTE(random_state=2021)),\n",
       "                ('logisticregression', LogisticRegression(max_iter=1000))])"
      ]
     },
     "execution_count": 25,
     "metadata": {},
     "output_type": "execute_result"
    }
   ],
   "source": [
    "lr_smote.fit(X_train, y_train)"
   ]
  },
  {
   "cell_type": "code",
   "execution_count": 26,
   "id": "1de1462e-758e-4cd1-96e0-60cf30d187ed",
   "metadata": {},
   "outputs": [
    {
     "data": {
      "text/plain": [
       "0.4809787053089529"
      ]
     },
     "execution_count": 26,
     "metadata": {},
     "output_type": "execute_result"
    }
   ],
   "source": [
    "#scoring the model\n",
    "f1_score(lr_smote.predict(X_train), y_train)"
   ]
  },
  {
   "cell_type": "code",
   "execution_count": 27,
   "id": "54770e9b-12f5-46dd-abe9-fd4b19039382",
   "metadata": {},
   "outputs": [
    {
     "name": "stdout",
     "output_type": "stream",
     "text": [
      "LR SMOTE has an average F1 of 0.4782273316755937\n"
     ]
    },
    {
     "data": {
      "text/plain": [
       "array([0.47928701, 0.47294003, 0.48095002, 0.47984072, 0.47811888])"
      ]
     },
     "execution_count": 27,
     "metadata": {},
     "output_type": "execute_result"
    }
   ],
   "source": [
    "# checking cross val scores\n",
    "modeling.report(lr_smote, X_train, y_train, 'LR SMOTE', 'Log Reg w/ SMOTE')"
   ]
  },
  {
   "cell_type": "markdown",
   "id": "28f9af18-8076-4142-a494-41c686815429",
   "metadata": {},
   "source": [
    "## Sub-Splitting the Training Data"
   ]
  },
  {
   "cell_type": "code",
   "execution_count": 28,
   "id": "0fe2b4d8-0d2f-4b3d-b82c-58772719e3a3",
   "metadata": {},
   "outputs": [],
   "source": [
    "Xs_train, Xs_test, ys_train, ys_test = f.splitter(X_train, y_train)"
   ]
  },
  {
   "cell_type": "code",
   "execution_count": 29,
   "id": "3a1e65f6-d16a-458b-8986-9b5a7d394e02",
   "metadata": {},
   "outputs": [
    {
     "data": {
      "text/plain": [
       "Pipeline(steps=[('columntransformer',\n",
       "                 ColumnTransformer(transformers=[('onehotencoder',\n",
       "                                                  OneHotEncoder(handle_unknown='ignore'),\n",
       "                                                  <sklearn.compose._column_transformer.make_column_selector object at 0x7fa5a60c7730>),\n",
       "                                                 ('standardscaler',\n",
       "                                                  StandardScaler(),\n",
       "                                                  <sklearn.compose._column_transformer.make_column_selector object at 0x7fa5a60c7370>)])),\n",
       "                ('smote', SMOTE(random_state=2021)),\n",
       "                ('logisticregression', LogisticRegression(max_iter=1000))])"
      ]
     },
     "execution_count": 29,
     "metadata": {},
     "output_type": "execute_result"
    }
   ],
   "source": [
    "lr_smote.fit(Xs_train, ys_train)"
   ]
  },
  {
   "cell_type": "code",
   "execution_count": 30,
   "id": "52118131-5af0-4bd7-9479-1629efee5613",
   "metadata": {},
   "outputs": [
    {
     "data": {
      "text/plain": [
       "0.48243213897937026"
      ]
     },
     "execution_count": 30,
     "metadata": {},
     "output_type": "execute_result"
    }
   ],
   "source": [
    "f1_score(lr_smote.predict(Xs_train), ys_train)"
   ]
  },
  {
   "cell_type": "code",
   "execution_count": 31,
   "id": "afc571a4-660a-465c-8fe6-72a7144ab169",
   "metadata": {},
   "outputs": [
    {
     "data": {
      "text/plain": [
       "0.4811271975180973"
      ]
     },
     "execution_count": 31,
     "metadata": {},
     "output_type": "execute_result"
    }
   ],
   "source": [
    "f1_score(lr_smote.predict(Xs_test), ys_test)"
   ]
  },
  {
   "cell_type": "code",
   "execution_count": 32,
   "id": "e490ae8e-b8d2-47c1-ada5-cb7bd938ed29",
   "metadata": {},
   "outputs": [
    {
     "data": {
      "image/png": "[encoded data removed]",
      "text/plain": [
       "<Figure size 504x504 with 2 Axes>"
      ]
     },
     "metadata": {},
     "output_type": "display_data"
    }
   ],
   "source": [
    "f.confusion(lr_smote, Xs_train, ys_train)"
   ]
  },
  {
   "cell_type": "code",
   "execution_count": 33,
   "id": "d482323d-e654-4829-9d08-116f07510457",
   "metadata": {},
   "outputs": [
    {
     "data": {
      "image/png": "[encoded data removed]",
      "text/plain": [
       "<Figure size 504x504 with 2 Axes>"
      ]
     },
     "metadata": {},
     "output_type": "display_data"
    }
   ],
   "source": [
    "f.confusion(lr_smote, Xs_test, ys_test)"
   ]
  },
  {
   "cell_type": "markdown",
   "id": "7decf072-08a5-4a9d-895e-874c4460e6ee",
   "metadata": {},
   "source": [
    "## Investigating the Data More Closely"
   ]
  },
  {
   "cell_type": "code",
   "execution_count": 34,
   "id": "5fc2f5a5-a1e0-4e9e-b252-721512bccf76",
   "metadata": {},
   "outputs": [
    {
     "name": "stdout",
     "output_type": "stream",
     "text": [
      "0    35349\n",
      "1    11611\n",
      "Name: Target, dtype: int64\n",
      "\n",
      "26 - 35         15630\n",
      "36 - 45          9966\n",
      "18 - 25          9409\n",
      "46 - 55          6069\n",
      "56 and Above     2385\n",
      "1 - 17           1971\n",
      "NA               1530\n",
      "Name: Subject Age Group, dtype: int64\n",
      "\n",
      "1986    3300\n",
      "1987    2996\n",
      "1984    2741\n",
      "1991    2686\n",
      "1985    2485\n",
      "1992    2443\n",
      "1990    2231\n",
      "1988    2112\n",
      "1989    1989\n",
      "1982    1847\n",
      "1983    1702\n",
      "1979    1520\n",
      "1993    1464\n",
      "1981    1429\n",
      "1971    1222\n",
      "1995    1173\n",
      "1978    1151\n",
      "1976    1010\n",
      "1977    1003\n",
      "1973     919\n",
      "1994     913\n",
      "1980     806\n",
      "1967     709\n",
      "1996     656\n",
      "1968     621\n",
      "1970     590\n",
      "1974     553\n",
      "1969     541\n",
      "1975     528\n",
      "1962     453\n",
      "1964     426\n",
      "1972     422\n",
      "1997     415\n",
      "1965     414\n",
      "1963     261\n",
      "1966     224\n",
      "1958     215\n",
      "1961     213\n",
      "1959     173\n",
      "1960     160\n",
      "1954      44\n",
      "1957      43\n",
      "1900      35\n",
      "1953      33\n",
      "1998      23\n",
      "1955      21\n",
      "1956      17\n",
      "1948      11\n",
      "1952       9\n",
      "1949       5\n",
      "1946       2\n",
      "1951       1\n",
      "Name: Officer YOB, dtype: int64\n",
      "\n",
      "M    41558\n",
      "F     5373\n",
      "N       29\n",
      "Name: Officer Gender, dtype: int64\n",
      "\n",
      "White           35465\n",
      "Hispanic         2725\n",
      "Multi-Racial     2630\n",
      "Asian            2019\n",
      "Black            1868\n",
      "NA               1447\n",
      "P_Islander        454\n",
      "N_American        317\n",
      "Unknown            35\n",
      "Name: Officer Race, dtype: int64\n",
      "\n",
      "White           22951\n",
      "Black           13985\n",
      "Unknown          2607\n",
      "NA               1870\n",
      "Hispanic         1664\n",
      "Asian            1524\n",
      "N_American       1351\n",
      "Multi-Racial      800\n",
      "Other             152\n",
      "P_Islander         56\n",
      "Name: Subject Perceived Race, dtype: int64\n",
      "\n",
      "Male              36828\n",
      "Female             9509\n",
      "Undetermined        314\n",
      "NA                  278\n",
      "Unknown              25\n",
      "Gender Diverse        6\n",
      "Name: Subject Perceived Gender, dtype: int64\n",
      "\n",
      "West         11432\n",
      "North        10385\n",
      "NA            9859\n",
      "East          6213\n",
      "South         5653\n",
      "Southwest     3418\n",
      "Name: Precinct, dtype: int64\n",
      "\n"
     ]
    }
   ],
   "source": [
    "cols = baseline_df.columns\n",
    "for col in cols:\n",
    "    print(f'{df[col].value_counts()}\\n')"
   ]
  },
  {
   "cell_type": "code",
   "execution_count": 35,
   "id": "70a8aa30-b1ab-4e06-adcf-2b1c6f1b10ef",
   "metadata": {},
   "outputs": [
    {
     "data": {
      "text/plain": [
       "count    46960.000000\n",
       "mean      1982.972764\n",
       "std          9.079240\n",
       "min       1900.000000\n",
       "25%       1978.000000\n",
       "50%       1985.000000\n",
       "75%       1990.000000\n",
       "max       1998.000000\n",
       "Name: Officer YOB, dtype: float64"
      ]
     },
     "execution_count": 35,
     "metadata": {},
     "output_type": "execute_result"
    }
   ],
   "source": [
    "baseline_df['Officer YOB'].describe()"
   ]
  },
  {
   "cell_type": "markdown",
   "id": "5029a665-0ccd-4968-aff3-6c382302e58c",
   "metadata": {},
   "source": [
    "## Creating Age Feature\n",
    "Creating `Officer Age` feature, dropping invalid ages and `Officer YOB` feature."
   ]
  },
  {
   "cell_type": "code",
   "execution_count": 36,
   "id": "c78439b7-1cc0-4547-bac6-348a86945c32",
   "metadata": {},
   "outputs": [],
   "source": [
    "df['Officer Age'] = df['Reported Year'] - df['Officer YOB']\n",
    "df['Officer Age'] = df['Officer Age'].apply(lambda x: np.nan if x > 100 else x)\n",
    "df.dropna(subset = ['Officer Age'], inplace=True)"
   ]
  },
  {
   "cell_type": "code",
   "execution_count": 37,
   "id": "629c39f6-4fb6-4c19-a772-2aa62f4c3066",
   "metadata": {},
   "outputs": [],
   "source": [
    "df.drop('Officer YOB', axis=1, inplace=True)"
   ]
  },
  {
   "cell_type": "markdown",
   "id": "f45f8a4a-f93e-4dcb-9817-4532c801c469",
   "metadata": {},
   "source": [
    "## Testing New Age Feature"
   ]
  },
  {
   "cell_type": "code",
   "execution_count": 38,
   "id": "0098c62f-ca89-49e3-b68c-36a05a69de66",
   "metadata": {},
   "outputs": [],
   "source": [
    "# features engineered during eda\n",
    "feature_list = ['Weapon Flag', 'Reported Year', 'Reported Month',\n",
    "                'Day of Month', 'Day of Week', 'Reported Hour', 'Beat Flag']"
   ]
  },
  {
   "cell_type": "code",
   "execution_count": 39,
   "id": "0d7c26a0-a8fd-4953-9514-ffe682750dd9",
   "metadata": {},
   "outputs": [],
   "source": [
    "excluded = ['Weapon Type', 'Officer ID', 'Initial Call Type', 'Final Call Type',\n",
    "             'Call Type', 'Officer Squad', 'Arrest Flag',\n",
    "             'Frisk Flag',  'Sector', 'Beat', 'Weapon Flag',\n",
    "             'Reported Year', 'Reported Month','Day of Month',\n",
    "             'Day of Week', 'Reported Hour', 'Beat Flag']"
   ]
  },
  {
   "cell_type": "code",
   "execution_count": 40,
   "id": "d1cb2ff2-accd-40bf-b8b3-2fb3341fb014",
   "metadata": {},
   "outputs": [],
   "source": [
    "age_df = f.framer(df, [], excluded)"
   ]
  },
  {
   "cell_type": "code",
   "execution_count": 41,
   "id": "b37aa9a3-3a6f-4ee0-9950-0c6ac572832d",
   "metadata": {},
   "outputs": [
    {
     "data": {
      "text/html": [
       "<div>\n",
       "<style scoped>\n",
       "    .dataframe tbody tr th:only-of-type {\n",
       "        vertical-align: middle;\n",
       "    }\n",
       "\n",
       "    .dataframe tbody tr th {\n",
       "        vertical-align: top;\n",
       "    }\n",
       "\n",
       "    .dataframe thead th {\n",
       "        text-align: right;\n",
       "    }\n",
       "</style>\n",
       "<table border=\"1\" class=\"dataframe\">\n",
       "  <thead>\n",
       "    <tr style=\"text-align: right;\">\n",
       "      <th></th>\n",
       "      <th>Target</th>\n",
       "      <th>Subject Age Group</th>\n",
       "      <th>Officer Gender</th>\n",
       "      <th>Officer Race</th>\n",
       "      <th>Subject Perceived Race</th>\n",
       "      <th>Subject Perceived Gender</th>\n",
       "      <th>Precinct</th>\n",
       "      <th>Officer Age</th>\n",
       "    </tr>\n",
       "  </thead>\n",
       "  <tbody>\n",
       "    <tr>\n",
       "      <th>0</th>\n",
       "      <td>1</td>\n",
       "      <td>NA</td>\n",
       "      <td>M</td>\n",
       "      <td>Black</td>\n",
       "      <td>Asian</td>\n",
       "      <td>Male</td>\n",
       "      <td>South</td>\n",
       "      <td>31.0</td>\n",
       "    </tr>\n",
       "    <tr>\n",
       "      <th>1</th>\n",
       "      <td>0</td>\n",
       "      <td>NA</td>\n",
       "      <td>M</td>\n",
       "      <td>White</td>\n",
       "      <td>NA</td>\n",
       "      <td>NA</td>\n",
       "      <td>NA</td>\n",
       "      <td>50.0</td>\n",
       "    </tr>\n",
       "  </tbody>\n",
       "</table>\n",
       "</div>"
      ],
      "text/plain": [
       "   Target Subject Age Group Officer Gender Officer Race  \\\n",
       "0       1                NA              M        Black   \n",
       "1       0                NA              M        White   \n",
       "\n",
       "  Subject Perceived Race Subject Perceived Gender Precinct  Officer Age  \n",
       "0                  Asian                     Male    South         31.0  \n",
       "1                     NA                       NA       NA         50.0  "
      ]
     },
     "execution_count": 41,
     "metadata": {},
     "output_type": "execute_result"
    }
   ],
   "source": [
    "age_df.head(2)"
   ]
  },
  {
   "cell_type": "code",
   "execution_count": 42,
   "id": "f27baaea-69bf-43ce-9770-ea6e3fdb2f39",
   "metadata": {},
   "outputs": [
    {
     "name": "stdout",
     "output_type": "stream",
     "text": [
      "<class 'pandas.core.frame.DataFrame'>\n",
      "Int64Index: 46925 entries, 0 to 46959\n",
      "Data columns (total 8 columns):\n",
      " #   Column                    Non-Null Count  Dtype  \n",
      "---  ------                    --------------  -----  \n",
      " 0   Target                    46925 non-null  int64  \n",
      " 1   Subject Age Group         46925 non-null  object \n",
      " 2   Officer Gender            46925 non-null  object \n",
      " 3   Officer Race              46925 non-null  object \n",
      " 4   Subject Perceived Race    46925 non-null  object \n",
      " 5   Subject Perceived Gender  46925 non-null  object \n",
      " 6   Precinct                  46925 non-null  object \n",
      " 7   Officer Age               46925 non-null  float64\n",
      "dtypes: float64(1), int64(1), object(6)\n",
      "memory usage: 3.2+ MB\n"
     ]
    }
   ],
   "source": [
    "age_df.info()"
   ]
  },
  {
   "cell_type": "code",
   "execution_count": 43,
   "id": "535acc3b-605d-4f46-8c2b-7432934477a1",
   "metadata": {},
   "outputs": [],
   "source": [
    "X, y = f.Xy(age_df)"
   ]
  },
  {
   "cell_type": "code",
   "execution_count": 44,
   "id": "dd7acb0a-4883-42f0-bfa9-4ab21ce24967",
   "metadata": {},
   "outputs": [],
   "source": [
    "X_train, X_test, y_train, y_test = f.splitter(X,y)"
   ]
  },
  {
   "cell_type": "code",
   "execution_count": 45,
   "id": "ce128cea-dbcc-473f-9d5f-3e8d93174280",
   "metadata": {},
   "outputs": [],
   "source": [
    "lr_smote2 = make_sm_pipeline(preprocessing, sm, LR)"
   ]
  },
  {
   "cell_type": "code",
   "execution_count": 46,
   "id": "72a1d92e-3bdc-43ac-9748-3ffb4a19fe61",
   "metadata": {},
   "outputs": [
    {
     "data": {
      "text/plain": [
       "Pipeline(steps=[('columntransformer',\n",
       "                 ColumnTransformer(transformers=[('onehotencoder',\n",
       "                                                  OneHotEncoder(handle_unknown='ignore'),\n",
       "                                                  <sklearn.compose._column_transformer.make_column_selector object at 0x7fa5a60c7730>),\n",
       "                                                 ('standardscaler',\n",
       "                                                  StandardScaler(),\n",
       "                                                  <sklearn.compose._column_transformer.make_column_selector object at 0x7fa5a60c7370>)])),\n",
       "                ('smote', SMOTE(random_state=2021)),\n",
       "                ('logisticregression', LogisticRegression(max_iter=1000))])"
      ]
     },
     "execution_count": 46,
     "metadata": {},
     "output_type": "execute_result"
    }
   ],
   "source": [
    "lr_smote2.fit(X_train, y_train)"
   ]
  },
  {
   "cell_type": "code",
   "execution_count": 47,
   "id": "b6c062cb-e12d-45c7-9941-1fd6776fa87a",
   "metadata": {},
   "outputs": [
    {
     "data": {
      "text/plain": [
       "0.48102994245586655"
      ]
     },
     "execution_count": 47,
     "metadata": {},
     "output_type": "execute_result"
    }
   ],
   "source": [
    "#scoring the model\n",
    "f1_score(lr_smote2.predict(X_train), y_train)"
   ]
  },
  {
   "cell_type": "code",
   "execution_count": 48,
   "id": "1f20eeb9-5396-4234-bd47-070f61907e97",
   "metadata": {},
   "outputs": [
    {
     "name": "stdout",
     "output_type": "stream",
     "text": [
      "LR SMOTE has an average F1 of 0.47841404674257293\n"
     ]
    },
    {
     "data": {
      "text/plain": [
       "array([0.47879083, 0.47780127, 0.48304113, 0.47769116, 0.47474584])"
      ]
     },
     "execution_count": 48,
     "metadata": {},
     "output_type": "execute_result"
    }
   ],
   "source": [
    "# checking cross val scores\n",
    "modeling.report(lr_smote2, X_train, y_train, 'LR SMOTE', 'Added Officer Age')"
   ]
  },
  {
   "cell_type": "code",
   "execution_count": 49,
   "id": "504b23a6-b727-4fea-9562-1e21b42d7299",
   "metadata": {},
   "outputs": [
    {
     "data": {
      "text/html": [
       "<div>\n",
       "<style scoped>\n",
       "    .dataframe tbody tr th:only-of-type {\n",
       "        vertical-align: middle;\n",
       "    }\n",
       "\n",
       "    .dataframe tbody tr th {\n",
       "        vertical-align: top;\n",
       "    }\n",
       "\n",
       "    .dataframe thead th {\n",
       "        text-align: right;\n",
       "    }\n",
       "</style>\n",
       "<table border=\"1\" class=\"dataframe\">\n",
       "  <thead>\n",
       "    <tr style=\"text-align: right;\">\n",
       "      <th></th>\n",
       "      <th>Name</th>\n",
       "      <th>Accuracy</th>\n",
       "      <th>Notes</th>\n",
       "    </tr>\n",
       "  </thead>\n",
       "  <tbody>\n",
       "    <tr>\n",
       "      <th>0</th>\n",
       "      <td>Baseline</td>\n",
       "      <td>0.293051</td>\n",
       "      <td>KNN - Baseline Features</td>\n",
       "    </tr>\n",
       "    <tr>\n",
       "      <th>1</th>\n",
       "      <td>KNN SMOTE</td>\n",
       "      <td>0.418520</td>\n",
       "      <td>Baseline KNN w/ SMOTE</td>\n",
       "    </tr>\n",
       "    <tr>\n",
       "      <th>2</th>\n",
       "      <td>LR SMOTE</td>\n",
       "      <td>0.478227</td>\n",
       "      <td>Log Reg w/ SMOTE</td>\n",
       "    </tr>\n",
       "    <tr>\n",
       "      <th>3</th>\n",
       "      <td>LR SMOTE</td>\n",
       "      <td>0.478414</td>\n",
       "      <td>Added Officer Age</td>\n",
       "    </tr>\n",
       "  </tbody>\n",
       "</table>\n",
       "</div>"
      ],
      "text/plain": [
       "        Name  Accuracy                    Notes\n",
       "0   Baseline  0.293051  KNN - Baseline Features\n",
       "1  KNN SMOTE  0.418520    Baseline KNN w/ SMOTE\n",
       "2   LR SMOTE  0.478227         Log Reg w/ SMOTE\n",
       "3   LR SMOTE  0.478414        Added Officer Age"
      ]
     },
     "execution_count": 49,
     "metadata": {},
     "output_type": "execute_result"
    }
   ],
   "source": [
    "modeling.history"
   ]
  },
  {
   "cell_type": "code",
   "execution_count": 50,
   "id": "b940470a-928b-4de5-82f9-226fb1397b72",
   "metadata": {},
   "outputs": [
    {
     "data": {
      "text/html": [
       "<div>\n",
       "<style scoped>\n",
       "    .dataframe tbody tr th:only-of-type {\n",
       "        vertical-align: middle;\n",
       "    }\n",
       "\n",
       "    .dataframe tbody tr th {\n",
       "        vertical-align: top;\n",
       "    }\n",
       "\n",
       "    .dataframe thead th {\n",
       "        text-align: right;\n",
       "    }\n",
       "</style>\n",
       "<table border=\"1\" class=\"dataframe\">\n",
       "  <thead>\n",
       "    <tr style=\"text-align: right;\">\n",
       "      <th></th>\n",
       "      <th>Target</th>\n",
       "      <th>Subject Age Group</th>\n",
       "      <th>Weapon Type</th>\n",
       "      <th>Officer ID</th>\n",
       "      <th>Officer Gender</th>\n",
       "      <th>Officer Race</th>\n",
       "      <th>Subject Perceived Race</th>\n",
       "      <th>Subject Perceived Gender</th>\n",
       "      <th>Initial Call Type</th>\n",
       "      <th>Final Call Type</th>\n",
       "      <th>...</th>\n",
       "      <th>Sector</th>\n",
       "      <th>Beat</th>\n",
       "      <th>Weapon Flag</th>\n",
       "      <th>Reported Year</th>\n",
       "      <th>Reported Month</th>\n",
       "      <th>Day of Month</th>\n",
       "      <th>Day of Week</th>\n",
       "      <th>Reported Hour</th>\n",
       "      <th>Beat Flag</th>\n",
       "      <th>Officer Age</th>\n",
       "    </tr>\n",
       "  </thead>\n",
       "  <tbody>\n",
       "    <tr>\n",
       "      <th>0</th>\n",
       "      <td>1</td>\n",
       "      <td>NA</td>\n",
       "      <td>None</td>\n",
       "      <td>7500</td>\n",
       "      <td>M</td>\n",
       "      <td>Black</td>\n",
       "      <td>Asian</td>\n",
       "      <td>Male</td>\n",
       "      <td>NA</td>\n",
       "      <td>NA</td>\n",
       "      <td>...</td>\n",
       "      <td>O</td>\n",
       "      <td>O2</td>\n",
       "      <td>0</td>\n",
       "      <td>2015</td>\n",
       "      <td>10</td>\n",
       "      <td>16</td>\n",
       "      <td>4</td>\n",
       "      <td>11</td>\n",
       "      <td>1</td>\n",
       "      <td>31.0</td>\n",
       "    </tr>\n",
       "    <tr>\n",
       "      <th>1</th>\n",
       "      <td>0</td>\n",
       "      <td>NA</td>\n",
       "      <td>None</td>\n",
       "      <td>5670</td>\n",
       "      <td>M</td>\n",
       "      <td>White</td>\n",
       "      <td>NA</td>\n",
       "      <td>NA</td>\n",
       "      <td>NA</td>\n",
       "      <td>NA</td>\n",
       "      <td>...</td>\n",
       "      <td>NA</td>\n",
       "      <td>NA</td>\n",
       "      <td>0</td>\n",
       "      <td>2015</td>\n",
       "      <td>3</td>\n",
       "      <td>19</td>\n",
       "      <td>3</td>\n",
       "      <td>7</td>\n",
       "      <td>0</td>\n",
       "      <td>50.0</td>\n",
       "    </tr>\n",
       "    <tr>\n",
       "      <th>2</th>\n",
       "      <td>0</td>\n",
       "      <td>NA</td>\n",
       "      <td>None</td>\n",
       "      <td>4844</td>\n",
       "      <td>M</td>\n",
       "      <td>White</td>\n",
       "      <td>White</td>\n",
       "      <td>Male</td>\n",
       "      <td>NA</td>\n",
       "      <td>NA</td>\n",
       "      <td>...</td>\n",
       "      <td>NA</td>\n",
       "      <td>NA</td>\n",
       "      <td>0</td>\n",
       "      <td>2015</td>\n",
       "      <td>3</td>\n",
       "      <td>21</td>\n",
       "      <td>5</td>\n",
       "      <td>19</td>\n",
       "      <td>0</td>\n",
       "      <td>54.0</td>\n",
       "    </tr>\n",
       "  </tbody>\n",
       "</table>\n",
       "<p>3 rows × 25 columns</p>\n",
       "</div>"
      ],
      "text/plain": [
       "   Target Subject Age Group Weapon Type Officer ID Officer Gender  \\\n",
       "0       1                NA        None       7500              M   \n",
       "1       0                NA        None       5670              M   \n",
       "2       0                NA        None       4844              M   \n",
       "\n",
       "  Officer Race Subject Perceived Race Subject Perceived Gender  \\\n",
       "0        Black                  Asian                     Male   \n",
       "1        White                     NA                       NA   \n",
       "2        White                  White                     Male   \n",
       "\n",
       "  Initial Call Type Final Call Type  ...  Sector    Beat  Weapon Flag  \\\n",
       "0                NA              NA  ...  O       O2                0   \n",
       "1                NA              NA  ...      NA      NA            0   \n",
       "2                NA              NA  ...      NA      NA            0   \n",
       "\n",
       "   Reported Year Reported Month Day of Month Day of Week  Reported Hour  \\\n",
       "0           2015             10           16           4             11   \n",
       "1           2015              3           19           3              7   \n",
       "2           2015              3           21           5             19   \n",
       "\n",
       "   Beat Flag  Officer Age  \n",
       "0          1         31.0  \n",
       "1          0         50.0  \n",
       "2          0         54.0  \n",
       "\n",
       "[3 rows x 25 columns]"
      ]
     },
     "execution_count": 50,
     "metadata": {},
     "output_type": "execute_result"
    }
   ],
   "source": [
    "df.head(3)"
   ]
  },
  {
   "cell_type": "markdown",
   "id": "1026d8d5-0fe9-44fb-8ef2-902104d44b2e",
   "metadata": {},
   "source": [
    "## Creating Gender & Racial Affinity Features"
   ]
  },
  {
   "cell_type": "code",
   "execution_count": 51,
   "id": "3489e0d5-8302-46e9-849e-a78d3d3a7fbe",
   "metadata": {},
   "outputs": [],
   "source": [
    "df['Racial Affinity'] = [1 if df['Subject Perceived Race'][row]\\\n",
    "                         == df['Officer Race'][row] else 0 for row in df.index]"
   ]
  },
  {
   "cell_type": "code",
   "execution_count": 52,
   "id": "6bc6098a-0a11-402c-a1aa-1aa0665b0219",
   "metadata": {},
   "outputs": [
    {
     "data": {
      "text/plain": [
       "M    41552\n",
       "F     5373\n",
       "Name: Officer Gender, dtype: int64"
      ]
     },
     "execution_count": 52,
     "metadata": {},
     "output_type": "execute_result"
    }
   ],
   "source": [
    "df['Officer Gender'].value_counts()"
   ]
  },
  {
   "cell_type": "code",
   "execution_count": 53,
   "id": "7082758a-0607-42e5-99ef-90175d7b7e64",
   "metadata": {},
   "outputs": [],
   "source": [
    "df['Officer Gender'] = df['Officer Gender'].apply(lambda x: 'Male' if x=='M' else 'Female')"
   ]
  },
  {
   "cell_type": "code",
   "execution_count": 54,
   "id": "d90429b5-e65e-4507-95c1-c889ff582847",
   "metadata": {},
   "outputs": [],
   "source": [
    "df['Gender Affinity'] = [1 if df['Subject Perceived Gender'][row]\\\n",
    "                         == df['Officer Gender'][row] else 0 for row in df.index]"
   ]
  },
  {
   "cell_type": "code",
   "execution_count": 55,
   "id": "a74b4d6e-78ba-456f-a573-0d00c1a833a4",
   "metadata": {},
   "outputs": [
    {
     "data": {
      "text/html": [
       "<div>\n",
       "<style scoped>\n",
       "    .dataframe tbody tr th:only-of-type {\n",
       "        vertical-align: middle;\n",
       "    }\n",
       "\n",
       "    .dataframe tbody tr th {\n",
       "        vertical-align: top;\n",
       "    }\n",
       "\n",
       "    .dataframe thead th {\n",
       "        text-align: right;\n",
       "    }\n",
       "</style>\n",
       "<table border=\"1\" class=\"dataframe\">\n",
       "  <thead>\n",
       "    <tr style=\"text-align: right;\">\n",
       "      <th></th>\n",
       "      <th>Target</th>\n",
       "      <th>Subject Age Group</th>\n",
       "      <th>Weapon Type</th>\n",
       "      <th>Officer ID</th>\n",
       "      <th>Officer Gender</th>\n",
       "      <th>Officer Race</th>\n",
       "      <th>Subject Perceived Race</th>\n",
       "      <th>Subject Perceived Gender</th>\n",
       "      <th>Initial Call Type</th>\n",
       "      <th>Final Call Type</th>\n",
       "      <th>...</th>\n",
       "      <th>Weapon Flag</th>\n",
       "      <th>Reported Year</th>\n",
       "      <th>Reported Month</th>\n",
       "      <th>Day of Month</th>\n",
       "      <th>Day of Week</th>\n",
       "      <th>Reported Hour</th>\n",
       "      <th>Beat Flag</th>\n",
       "      <th>Officer Age</th>\n",
       "      <th>Racial Affinity</th>\n",
       "      <th>Gender Affinity</th>\n",
       "    </tr>\n",
       "  </thead>\n",
       "  <tbody>\n",
       "    <tr>\n",
       "      <th>0</th>\n",
       "      <td>1</td>\n",
       "      <td>NA</td>\n",
       "      <td>None</td>\n",
       "      <td>7500</td>\n",
       "      <td>Male</td>\n",
       "      <td>Black</td>\n",
       "      <td>Asian</td>\n",
       "      <td>Male</td>\n",
       "      <td>NA</td>\n",
       "      <td>NA</td>\n",
       "      <td>...</td>\n",
       "      <td>0</td>\n",
       "      <td>2015</td>\n",
       "      <td>10</td>\n",
       "      <td>16</td>\n",
       "      <td>4</td>\n",
       "      <td>11</td>\n",
       "      <td>1</td>\n",
       "      <td>31.0</td>\n",
       "      <td>0</td>\n",
       "      <td>1</td>\n",
       "    </tr>\n",
       "    <tr>\n",
       "      <th>1</th>\n",
       "      <td>0</td>\n",
       "      <td>NA</td>\n",
       "      <td>None</td>\n",
       "      <td>5670</td>\n",
       "      <td>Male</td>\n",
       "      <td>White</td>\n",
       "      <td>NA</td>\n",
       "      <td>NA</td>\n",
       "      <td>NA</td>\n",
       "      <td>NA</td>\n",
       "      <td>...</td>\n",
       "      <td>0</td>\n",
       "      <td>2015</td>\n",
       "      <td>3</td>\n",
       "      <td>19</td>\n",
       "      <td>3</td>\n",
       "      <td>7</td>\n",
       "      <td>0</td>\n",
       "      <td>50.0</td>\n",
       "      <td>0</td>\n",
       "      <td>0</td>\n",
       "    </tr>\n",
       "    <tr>\n",
       "      <th>2</th>\n",
       "      <td>0</td>\n",
       "      <td>NA</td>\n",
       "      <td>None</td>\n",
       "      <td>4844</td>\n",
       "      <td>Male</td>\n",
       "      <td>White</td>\n",
       "      <td>White</td>\n",
       "      <td>Male</td>\n",
       "      <td>NA</td>\n",
       "      <td>NA</td>\n",
       "      <td>...</td>\n",
       "      <td>0</td>\n",
       "      <td>2015</td>\n",
       "      <td>3</td>\n",
       "      <td>21</td>\n",
       "      <td>5</td>\n",
       "      <td>19</td>\n",
       "      <td>0</td>\n",
       "      <td>54.0</td>\n",
       "      <td>1</td>\n",
       "      <td>1</td>\n",
       "    </tr>\n",
       "  </tbody>\n",
       "</table>\n",
       "<p>3 rows × 27 columns</p>\n",
       "</div>"
      ],
      "text/plain": [
       "   Target Subject Age Group Weapon Type Officer ID Officer Gender  \\\n",
       "0       1                NA        None       7500           Male   \n",
       "1       0                NA        None       5670           Male   \n",
       "2       0                NA        None       4844           Male   \n",
       "\n",
       "  Officer Race Subject Perceived Race Subject Perceived Gender  \\\n",
       "0        Black                  Asian                     Male   \n",
       "1        White                     NA                       NA   \n",
       "2        White                  White                     Male   \n",
       "\n",
       "  Initial Call Type Final Call Type  ... Weapon Flag Reported Year  \\\n",
       "0                NA              NA  ...           0          2015   \n",
       "1                NA              NA  ...           0          2015   \n",
       "2                NA              NA  ...           0          2015   \n",
       "\n",
       "   Reported Month  Day of Month Day of Week Reported Hour Beat Flag  \\\n",
       "0              10            16           4            11         1   \n",
       "1               3            19           3             7         0   \n",
       "2               3            21           5            19         0   \n",
       "\n",
       "   Officer Age  Racial Affinity  Gender Affinity  \n",
       "0         31.0                0                1  \n",
       "1         50.0                0                0  \n",
       "2         54.0                1                1  \n",
       "\n",
       "[3 rows x 27 columns]"
      ]
     },
     "execution_count": 55,
     "metadata": {},
     "output_type": "execute_result"
    }
   ],
   "source": [
    "df.head(3)"
   ]
  },
  {
   "cell_type": "markdown",
   "id": "2e15e7a1-a3b8-4f80-ab90-8b252cfc0e1e",
   "metadata": {},
   "source": [
    "## Testing New Features"
   ]
  },
  {
   "cell_type": "code",
   "execution_count": 56,
   "id": "0cdda664-e08b-4ea0-bdc6-e2cd16a1e32b",
   "metadata": {},
   "outputs": [],
   "source": [
    "# features engineered during eda\n",
    "feature_list = ['Weapon Flag', 'Reported Year', 'Reported Month',\n",
    "                'Day of Month', 'Day of Week', 'Reported Hour', 'Beat Flag']"
   ]
  },
  {
   "cell_type": "code",
   "execution_count": 57,
   "id": "62349432-6e34-40ac-9654-0203b6d6224d",
   "metadata": {},
   "outputs": [],
   "source": [
    "excluded = ['Weapon Type', 'Officer ID', 'Initial Call Type', 'Final Call Type',\n",
    "             'Call Type', 'Officer Squad', 'Arrest Flag',\n",
    "             'Frisk Flag',  'Sector', 'Beat', 'Weapon Flag',\n",
    "             'Reported Year', 'Reported Month','Day of Month',\n",
    "             'Day of Week', 'Reported Hour', 'Beat Flag']"
   ]
  },
  {
   "cell_type": "code",
   "execution_count": 58,
   "id": "dbdc290c-0807-4e08-8fa4-9edbd3236290",
   "metadata": {},
   "outputs": [],
   "source": [
    "df_3 = f.framer(df, [], excluded)"
   ]
  },
  {
   "cell_type": "code",
   "execution_count": 59,
   "id": "62c058b8-f147-43e5-be5b-7ba965d66f69",
   "metadata": {},
   "outputs": [
    {
     "data": {
      "text/html": [
       "<div>\n",
       "<style scoped>\n",
       "    .dataframe tbody tr th:only-of-type {\n",
       "        vertical-align: middle;\n",
       "    }\n",
       "\n",
       "    .dataframe tbody tr th {\n",
       "        vertical-align: top;\n",
       "    }\n",
       "\n",
       "    .dataframe thead th {\n",
       "        text-align: right;\n",
       "    }\n",
       "</style>\n",
       "<table border=\"1\" class=\"dataframe\">\n",
       "  <thead>\n",
       "    <tr style=\"text-align: right;\">\n",
       "      <th></th>\n",
       "      <th>Target</th>\n",
       "      <th>Subject Age Group</th>\n",
       "      <th>Officer Gender</th>\n",
       "      <th>Officer Race</th>\n",
       "      <th>Subject Perceived Race</th>\n",
       "      <th>Subject Perceived Gender</th>\n",
       "      <th>Precinct</th>\n",
       "      <th>Officer Age</th>\n",
       "      <th>Racial Affinity</th>\n",
       "      <th>Gender Affinity</th>\n",
       "    </tr>\n",
       "  </thead>\n",
       "  <tbody>\n",
       "    <tr>\n",
       "      <th>0</th>\n",
       "      <td>1</td>\n",
       "      <td>NA</td>\n",
       "      <td>Male</td>\n",
       "      <td>Black</td>\n",
       "      <td>Asian</td>\n",
       "      <td>Male</td>\n",
       "      <td>South</td>\n",
       "      <td>31.0</td>\n",
       "      <td>0</td>\n",
       "      <td>1</td>\n",
       "    </tr>\n",
       "    <tr>\n",
       "      <th>1</th>\n",
       "      <td>0</td>\n",
       "      <td>NA</td>\n",
       "      <td>Male</td>\n",
       "      <td>White</td>\n",
       "      <td>NA</td>\n",
       "      <td>NA</td>\n",
       "      <td>NA</td>\n",
       "      <td>50.0</td>\n",
       "      <td>0</td>\n",
       "      <td>0</td>\n",
       "    </tr>\n",
       "  </tbody>\n",
       "</table>\n",
       "</div>"
      ],
      "text/plain": [
       "   Target Subject Age Group Officer Gender Officer Race  \\\n",
       "0       1                NA           Male        Black   \n",
       "1       0                NA           Male        White   \n",
       "\n",
       "  Subject Perceived Race Subject Perceived Gender Precinct  Officer Age  \\\n",
       "0                  Asian                     Male    South         31.0   \n",
       "1                     NA                       NA       NA         50.0   \n",
       "\n",
       "   Racial Affinity  Gender Affinity  \n",
       "0                0                1  \n",
       "1                0                0  "
      ]
     },
     "execution_count": 59,
     "metadata": {},
     "output_type": "execute_result"
    }
   ],
   "source": [
    "df_3.head(2)"
   ]
  },
  {
   "cell_type": "code",
   "execution_count": 60,
   "id": "f44ae46a-fa34-4f33-bca5-92c260220c42",
   "metadata": {},
   "outputs": [
    {
     "name": "stdout",
     "output_type": "stream",
     "text": [
      "<class 'pandas.core.frame.DataFrame'>\n",
      "Int64Index: 46925 entries, 0 to 46959\n",
      "Data columns (total 10 columns):\n",
      " #   Column                    Non-Null Count  Dtype  \n",
      "---  ------                    --------------  -----  \n",
      " 0   Target                    46925 non-null  int64  \n",
      " 1   Subject Age Group         46925 non-null  object \n",
      " 2   Officer Gender            46925 non-null  object \n",
      " 3   Officer Race              46925 non-null  object \n",
      " 4   Subject Perceived Race    46925 non-null  object \n",
      " 5   Subject Perceived Gender  46925 non-null  object \n",
      " 6   Precinct                  46925 non-null  object \n",
      " 7   Officer Age               46925 non-null  float64\n",
      " 8   Racial Affinity           46925 non-null  int64  \n",
      " 9   Gender Affinity           46925 non-null  int64  \n",
      "dtypes: float64(1), int64(3), object(6)\n",
      "memory usage: 4.9+ MB\n"
     ]
    }
   ],
   "source": [
    "df_3.info()"
   ]
  },
  {
   "cell_type": "code",
   "execution_count": 61,
   "id": "ada2f49e-26ed-442d-8bbf-bef381cf9e3b",
   "metadata": {},
   "outputs": [],
   "source": [
    "X, y = f.Xy(df_3)"
   ]
  },
  {
   "cell_type": "code",
   "execution_count": 62,
   "id": "0b6a8f3a-17f6-433a-be2f-50bdd4111e07",
   "metadata": {},
   "outputs": [],
   "source": [
    "X_train, X_test, y_train, y_test = f.splitter(X,y)"
   ]
  },
  {
   "cell_type": "code",
   "execution_count": 63,
   "id": "40c7c930-cc01-468c-9a9a-4fbb19c15585",
   "metadata": {},
   "outputs": [],
   "source": [
    "lr_smote3 = make_sm_pipeline(preprocessing, sm, LR)"
   ]
  },
  {
   "cell_type": "code",
   "execution_count": 64,
   "id": "b834c750-824e-4056-b2dc-fa8c929c14f6",
   "metadata": {},
   "outputs": [
    {
     "data": {
      "text/plain": [
       "Pipeline(steps=[('columntransformer',\n",
       "                 ColumnTransformer(transformers=[('onehotencoder',\n",
       "                                                  OneHotEncoder(handle_unknown='ignore'),\n",
       "                                                  <sklearn.compose._column_transformer.make_column_selector object at 0x7fa5a60c7730>),\n",
       "                                                 ('standardscaler',\n",
       "                                                  StandardScaler(),\n",
       "                                                  <sklearn.compose._column_transformer.make_column_selector object at 0x7fa5a60c7370>)])),\n",
       "                ('smote', SMOTE(random_state=2021)),\n",
       "                ('logisticregression', LogisticRegression(max_iter=1000))])"
      ]
     },
     "execution_count": 64,
     "metadata": {},
     "output_type": "execute_result"
    }
   ],
   "source": [
    "lr_smote3.fit(X_train, y_train)"
   ]
  },
  {
   "cell_type": "code",
   "execution_count": 65,
   "id": "dd1522f7-51a1-4515-b496-77b24fabff48",
   "metadata": {},
   "outputs": [
    {
     "data": {
      "text/plain": [
       "0.4806282042961905"
      ]
     },
     "execution_count": 65,
     "metadata": {},
     "output_type": "execute_result"
    }
   ],
   "source": [
    "#scoring the model\n",
    "f1_score(lr_smote3.predict(X_train), y_train)"
   ]
  },
  {
   "cell_type": "code",
   "execution_count": 66,
   "id": "1f9e1e40-a992-41b2-9106-969003ab7630",
   "metadata": {},
   "outputs": [
    {
     "name": "stdout",
     "output_type": "stream",
     "text": [
      "LR SMOTE  has an average F1 of 0.47895087789493695\n"
     ]
    },
    {
     "data": {
      "text/plain": [
       "array([0.47853556, 0.47915653, 0.48387625, 0.47711878, 0.47606727])"
      ]
     },
     "execution_count": 66,
     "metadata": {},
     "output_type": "execute_result"
    }
   ],
   "source": [
    "# checking cross val scores\n",
    "modeling.report(lr_smote3, X_train, y_train, 'LR SMOTE ', 'Log Reg w/ New Age, Race, Gender Features')"
   ]
  },
  {
   "cell_type": "code",
   "execution_count": 67,
   "id": "75dfb21c-958f-4df1-a45a-bb283fc31e13",
   "metadata": {},
   "outputs": [
    {
     "data": {
      "text/html": [
       "<div>\n",
       "<style scoped>\n",
       "    .dataframe tbody tr th:only-of-type {\n",
       "        vertical-align: middle;\n",
       "    }\n",
       "\n",
       "    .dataframe tbody tr th {\n",
       "        vertical-align: top;\n",
       "    }\n",
       "\n",
       "    .dataframe thead th {\n",
       "        text-align: right;\n",
       "    }\n",
       "</style>\n",
       "<table border=\"1\" class=\"dataframe\">\n",
       "  <thead>\n",
       "    <tr style=\"text-align: right;\">\n",
       "      <th></th>\n",
       "      <th>Name</th>\n",
       "      <th>Accuracy</th>\n",
       "      <th>Notes</th>\n",
       "    </tr>\n",
       "  </thead>\n",
       "  <tbody>\n",
       "    <tr>\n",
       "      <th>0</th>\n",
       "      <td>Baseline</td>\n",
       "      <td>0.293051</td>\n",
       "      <td>KNN - Baseline Features</td>\n",
       "    </tr>\n",
       "    <tr>\n",
       "      <th>1</th>\n",
       "      <td>KNN SMOTE</td>\n",
       "      <td>0.418520</td>\n",
       "      <td>Baseline KNN w/ SMOTE</td>\n",
       "    </tr>\n",
       "    <tr>\n",
       "      <th>2</th>\n",
       "      <td>LR SMOTE</td>\n",
       "      <td>0.478227</td>\n",
       "      <td>Log Reg w/ SMOTE</td>\n",
       "    </tr>\n",
       "    <tr>\n",
       "      <th>3</th>\n",
       "      <td>LR SMOTE</td>\n",
       "      <td>0.478414</td>\n",
       "      <td>Added Officer Age</td>\n",
       "    </tr>\n",
       "    <tr>\n",
       "      <th>4</th>\n",
       "      <td>LR SMOTE</td>\n",
       "      <td>0.478951</td>\n",
       "      <td>Log Reg w/ New Age, Race, Gender Features</td>\n",
       "    </tr>\n",
       "  </tbody>\n",
       "</table>\n",
       "</div>"
      ],
      "text/plain": [
       "        Name  Accuracy                                      Notes\n",
       "0   Baseline  0.293051                    KNN - Baseline Features\n",
       "1  KNN SMOTE  0.418520                      Baseline KNN w/ SMOTE\n",
       "2   LR SMOTE  0.478227                           Log Reg w/ SMOTE\n",
       "3   LR SMOTE  0.478414                          Added Officer Age\n",
       "4  LR SMOTE   0.478951  Log Reg w/ New Age, Race, Gender Features"
      ]
     },
     "execution_count": 67,
     "metadata": {},
     "output_type": "execute_result"
    }
   ],
   "source": [
    "modeling.history"
   ]
  },
  {
   "cell_type": "markdown",
   "id": "fae8c0a3-b7b3-4669-b878-18db7e9b1aa7",
   "metadata": {},
   "source": [
    "## Testing Dropping Nulls\n",
    "Droppin Subject Race Nulls"
   ]
  },
  {
   "cell_type": "code",
   "execution_count": 68,
   "id": "2217128f-e9d1-46ec-857d-974ac9a909cc",
   "metadata": {},
   "outputs": [],
   "source": [
    "dropd = df[(df['Subject Perceived Race']!='NA')]"
   ]
  },
  {
   "cell_type": "code",
   "execution_count": 69,
   "id": "b5ae4922-a24a-4162-86d9-e0cedd201746",
   "metadata": {},
   "outputs": [],
   "source": [
    "# features engineered during eda\n",
    "feature_list = ['Weapon Flag', 'Reported Year', 'Reported Month',\n",
    "                'Day of Month', 'Day of Week', 'Reported Hour', 'Beat Flag']"
   ]
  },
  {
   "cell_type": "code",
   "execution_count": 70,
   "id": "589dda43-4874-42b1-808e-8547131e85ed",
   "metadata": {},
   "outputs": [],
   "source": [
    "excluded = ['Weapon Type', 'Officer ID', 'Initial Call Type', 'Final Call Type',\n",
    "             'Call Type', 'Officer Squad', 'Arrest Flag',\n",
    "             'Frisk Flag',  'Sector', 'Beat', 'Weapon Flag',\n",
    "             'Reported Year', 'Reported Month','Day of Month',\n",
    "             'Day of Week', 'Reported Hour', 'Beat Flag']"
   ]
  },
  {
   "cell_type": "code",
   "execution_count": 71,
   "id": "06e5f4c2-2285-4bc8-9e43-4905e62fa11c",
   "metadata": {},
   "outputs": [],
   "source": [
    "df_4 = f.framer(dropd, [], excluded)"
   ]
  },
  {
   "cell_type": "code",
   "execution_count": 72,
   "id": "89e078af-d96e-43a7-93fd-732f53cd8820",
   "metadata": {},
   "outputs": [],
   "source": [
    "X, y = f.Xy(df_4)"
   ]
  },
  {
   "cell_type": "code",
   "execution_count": 73,
   "id": "f90de63c-a9d3-43b4-8735-a75c4510483e",
   "metadata": {},
   "outputs": [],
   "source": [
    "X_train, X_test, y_train, y_test = f.splitter(X,y)"
   ]
  },
  {
   "cell_type": "code",
   "execution_count": 74,
   "id": "078813e0-50b3-4bc8-882a-33e871a84ad1",
   "metadata": {},
   "outputs": [],
   "source": [
    "lr_smote4 = make_sm_pipeline(preprocessing, sm, LR)"
   ]
  },
  {
   "cell_type": "code",
   "execution_count": 75,
   "id": "9b27301f-ff35-48f5-8731-8c4579389812",
   "metadata": {},
   "outputs": [
    {
     "data": {
      "text/plain": [
       "Pipeline(steps=[('columntransformer',\n",
       "                 ColumnTransformer(transformers=[('onehotencoder',\n",
       "                                                  OneHotEncoder(handle_unknown='ignore'),\n",
       "                                                  <sklearn.compose._column_transformer.make_column_selector object at 0x7fa5a60c7730>),\n",
       "                                                 ('standardscaler',\n",
       "                                                  StandardScaler(),\n",
       "                                                  <sklearn.compose._column_transformer.make_column_selector object at 0x7fa5a60c7370>)])),\n",
       "                ('smote', SMOTE(random_state=2021)),\n",
       "                ('logisticregression', LogisticRegression(max_iter=1000))])"
      ]
     },
     "execution_count": 75,
     "metadata": {},
     "output_type": "execute_result"
    }
   ],
   "source": [
    "lr_smote4.fit(X_train, y_train)"
   ]
  },
  {
   "cell_type": "code",
   "execution_count": 76,
   "id": "d782a584-2c41-49a5-b6c4-69a28c2f6ca4",
   "metadata": {},
   "outputs": [
    {
     "data": {
      "text/plain": [
       "0.48488685973272905"
      ]
     },
     "execution_count": 76,
     "metadata": {},
     "output_type": "execute_result"
    }
   ],
   "source": [
    "#scoring the model\n",
    "f1_score(lr_smote4.predict(X_train), y_train)"
   ]
  },
  {
   "cell_type": "code",
   "execution_count": 77,
   "id": "16c823b8-6b71-4ffa-bd1a-99517d2e8def",
   "metadata": {},
   "outputs": [
    {
     "name": "stdout",
     "output_type": "stream",
     "text": [
      "LR SMOTE New Age, Race, Gender Features has an average F1 of 0.4811326781046031\n"
     ]
    },
    {
     "data": {
      "text/plain": [
       "array([0.48147522, 0.48009329, 0.48106379, 0.48140117, 0.48162993])"
      ]
     },
     "execution_count": 77,
     "metadata": {},
     "output_type": "execute_result"
    }
   ],
   "source": [
    "# checking cross val scores\n",
    "modeling.report(lr_smote4, X_train, y_train, 'LR SMOTE New Age, Race, Gender Features', 'Dropped Subject Race NA')"
   ]
  },
  {
   "cell_type": "code",
   "execution_count": 78,
   "id": "e201f850-ec4b-4073-9c1d-5280ad8c3d9d",
   "metadata": {},
   "outputs": [
    {
     "data": {
      "text/html": [
       "<div>\n",
       "<style scoped>\n",
       "    .dataframe tbody tr th:only-of-type {\n",
       "        vertical-align: middle;\n",
       "    }\n",
       "\n",
       "    .dataframe tbody tr th {\n",
       "        vertical-align: top;\n",
       "    }\n",
       "\n",
       "    .dataframe thead th {\n",
       "        text-align: right;\n",
       "    }\n",
       "</style>\n",
       "<table border=\"1\" class=\"dataframe\">\n",
       "  <thead>\n",
       "    <tr style=\"text-align: right;\">\n",
       "      <th></th>\n",
       "      <th>Name</th>\n",
       "      <th>Accuracy</th>\n",
       "      <th>Notes</th>\n",
       "    </tr>\n",
       "  </thead>\n",
       "  <tbody>\n",
       "    <tr>\n",
       "      <th>0</th>\n",
       "      <td>Baseline</td>\n",
       "      <td>0.293051</td>\n",
       "      <td>KNN - Baseline Features</td>\n",
       "    </tr>\n",
       "    <tr>\n",
       "      <th>1</th>\n",
       "      <td>KNN SMOTE</td>\n",
       "      <td>0.418520</td>\n",
       "      <td>Baseline KNN w/ SMOTE</td>\n",
       "    </tr>\n",
       "    <tr>\n",
       "      <th>2</th>\n",
       "      <td>LR SMOTE</td>\n",
       "      <td>0.478227</td>\n",
       "      <td>Log Reg w/ SMOTE</td>\n",
       "    </tr>\n",
       "    <tr>\n",
       "      <th>3</th>\n",
       "      <td>LR SMOTE</td>\n",
       "      <td>0.478414</td>\n",
       "      <td>Added Officer Age</td>\n",
       "    </tr>\n",
       "    <tr>\n",
       "      <th>4</th>\n",
       "      <td>LR SMOTE</td>\n",
       "      <td>0.478951</td>\n",
       "      <td>Log Reg w/ New Age, Race, Gender Features</td>\n",
       "    </tr>\n",
       "    <tr>\n",
       "      <th>5</th>\n",
       "      <td>LR SMOTE New Age, Race, Gender Features</td>\n",
       "      <td>0.481133</td>\n",
       "      <td>Dropped Subject Race NA</td>\n",
       "    </tr>\n",
       "  </tbody>\n",
       "</table>\n",
       "</div>"
      ],
      "text/plain": [
       "                                      Name  Accuracy  \\\n",
       "0                                 Baseline  0.293051   \n",
       "1                                KNN SMOTE  0.418520   \n",
       "2                                 LR SMOTE  0.478227   \n",
       "3                                 LR SMOTE  0.478414   \n",
       "4                                LR SMOTE   0.478951   \n",
       "5  LR SMOTE New Age, Race, Gender Features  0.481133   \n",
       "\n",
       "                                       Notes  \n",
       "0                    KNN - Baseline Features  \n",
       "1                      Baseline KNN w/ SMOTE  \n",
       "2                           Log Reg w/ SMOTE  \n",
       "3                          Added Officer Age  \n",
       "4  Log Reg w/ New Age, Race, Gender Features  \n",
       "5                    Dropped Subject Race NA  "
      ]
     },
     "execution_count": 78,
     "metadata": {},
     "output_type": "execute_result"
    }
   ],
   "source": [
    "modeling.history"
   ]
  },
  {
   "cell_type": "markdown",
   "id": "f3b4fa38-b75a-4c9c-8d26-d323774bbec0",
   "metadata": {},
   "source": [
    "## Dropping Officer Race Nulls"
   ]
  },
  {
   "cell_type": "code",
   "execution_count": 79,
   "id": "4b54af27-eaf6-4fa5-9419-b1b91c1aa352",
   "metadata": {},
   "outputs": [],
   "source": [
    "dropd2 = df[(df['Subject Perceived Race']!='NA') &\\\n",
    "           (df['Officer Race']!='NA')]"
   ]
  },
  {
   "cell_type": "code",
   "execution_count": 80,
   "id": "0e1ab006-73f2-4990-9634-6a728ff637f0",
   "metadata": {},
   "outputs": [],
   "source": [
    "# features engineered during eda\n",
    "feature_list = ['Weapon Flag', 'Reported Year', 'Reported Month',\n",
    "                'Day of Month', 'Day of Week', 'Reported Hour', 'Beat Flag']"
   ]
  },
  {
   "cell_type": "code",
   "execution_count": 81,
   "id": "9934739e-a753-4dbe-87b6-e3343d9ffcb4",
   "metadata": {},
   "outputs": [],
   "source": [
    "excluded = ['Weapon Type', 'Officer ID', 'Initial Call Type', 'Final Call Type',\n",
    "             'Call Type', 'Officer Squad', 'Arrest Flag',\n",
    "             'Frisk Flag',  'Sector', 'Beat', 'Weapon Flag',\n",
    "             'Reported Year', 'Reported Month','Day of Month',\n",
    "             'Day of Week', 'Reported Hour', 'Beat Flag']"
   ]
  },
  {
   "cell_type": "code",
   "execution_count": 82,
   "id": "0f8ae42e-e736-4caa-93e8-50d062c67582",
   "metadata": {},
   "outputs": [],
   "source": [
    "df_5 = f.framer(dropd2, [], excluded)"
   ]
  },
  {
   "cell_type": "code",
   "execution_count": 83,
   "id": "7ceb4039-b20b-45d7-9627-9ab99cdaeff1",
   "metadata": {},
   "outputs": [
    {
     "data": {
      "text/html": [
       "<div>\n",
       "<style scoped>\n",
       "    .dataframe tbody tr th:only-of-type {\n",
       "        vertical-align: middle;\n",
       "    }\n",
       "\n",
       "    .dataframe tbody tr th {\n",
       "        vertical-align: top;\n",
       "    }\n",
       "\n",
       "    .dataframe thead th {\n",
       "        text-align: right;\n",
       "    }\n",
       "</style>\n",
       "<table border=\"1\" class=\"dataframe\">\n",
       "  <thead>\n",
       "    <tr style=\"text-align: right;\">\n",
       "      <th></th>\n",
       "      <th>Target</th>\n",
       "      <th>Subject Age Group</th>\n",
       "      <th>Officer Gender</th>\n",
       "      <th>Officer Race</th>\n",
       "      <th>Subject Perceived Race</th>\n",
       "      <th>Subject Perceived Gender</th>\n",
       "      <th>Precinct</th>\n",
       "      <th>Officer Age</th>\n",
       "      <th>Racial Affinity</th>\n",
       "      <th>Gender Affinity</th>\n",
       "    </tr>\n",
       "  </thead>\n",
       "  <tbody>\n",
       "    <tr>\n",
       "      <th>0</th>\n",
       "      <td>1</td>\n",
       "      <td>NA</td>\n",
       "      <td>Male</td>\n",
       "      <td>Black</td>\n",
       "      <td>Asian</td>\n",
       "      <td>Male</td>\n",
       "      <td>South</td>\n",
       "      <td>31.0</td>\n",
       "      <td>0</td>\n",
       "      <td>1</td>\n",
       "    </tr>\n",
       "    <tr>\n",
       "      <th>2</th>\n",
       "      <td>0</td>\n",
       "      <td>NA</td>\n",
       "      <td>Male</td>\n",
       "      <td>White</td>\n",
       "      <td>White</td>\n",
       "      <td>Male</td>\n",
       "      <td>NA</td>\n",
       "      <td>54.0</td>\n",
       "      <td>1</td>\n",
       "      <td>1</td>\n",
       "    </tr>\n",
       "  </tbody>\n",
       "</table>\n",
       "</div>"
      ],
      "text/plain": [
       "   Target Subject Age Group Officer Gender Officer Race  \\\n",
       "0       1                NA           Male        Black   \n",
       "2       0                NA           Male        White   \n",
       "\n",
       "  Subject Perceived Race Subject Perceived Gender Precinct  Officer Age  \\\n",
       "0                  Asian                     Male    South         31.0   \n",
       "2                  White                     Male       NA         54.0   \n",
       "\n",
       "   Racial Affinity  Gender Affinity  \n",
       "0                0                1  \n",
       "2                1                1  "
      ]
     },
     "execution_count": 83,
     "metadata": {},
     "output_type": "execute_result"
    }
   ],
   "source": [
    "df_5.head(2)"
   ]
  },
  {
   "cell_type": "code",
   "execution_count": 84,
   "id": "2f3b70e6-c7e4-43c6-b43c-994950f3ae6b",
   "metadata": {},
   "outputs": [
    {
     "name": "stdout",
     "output_type": "stream",
     "text": [
      "<class 'pandas.core.frame.DataFrame'>\n",
      "Int64Index: 43660 entries, 0 to 46959\n",
      "Data columns (total 10 columns):\n",
      " #   Column                    Non-Null Count  Dtype  \n",
      "---  ------                    --------------  -----  \n",
      " 0   Target                    43660 non-null  int64  \n",
      " 1   Subject Age Group         43660 non-null  object \n",
      " 2   Officer Gender            43660 non-null  object \n",
      " 3   Officer Race              43660 non-null  object \n",
      " 4   Subject Perceived Race    43660 non-null  object \n",
      " 5   Subject Perceived Gender  43660 non-null  object \n",
      " 6   Precinct                  43660 non-null  object \n",
      " 7   Officer Age               43660 non-null  float64\n",
      " 8   Racial Affinity           43660 non-null  int64  \n",
      " 9   Gender Affinity           43660 non-null  int64  \n",
      "dtypes: float64(1), int64(3), object(6)\n",
      "memory usage: 3.7+ MB\n"
     ]
    }
   ],
   "source": [
    "df_5.info()"
   ]
  },
  {
   "cell_type": "code",
   "execution_count": 85,
   "id": "d8972502-7f9c-403a-be4d-da8c2e10c7b6",
   "metadata": {},
   "outputs": [],
   "source": [
    "X, y = f.Xy(df_5)"
   ]
  },
  {
   "cell_type": "code",
   "execution_count": 86,
   "id": "b751967b-da61-4775-af64-278c8afa527e",
   "metadata": {},
   "outputs": [],
   "source": [
    "X_train, X_test, y_train, y_test = f.splitter(X,y)"
   ]
  },
  {
   "cell_type": "code",
   "execution_count": 87,
   "id": "85797c6f-babb-4310-a68d-ed0b16a7f2bc",
   "metadata": {},
   "outputs": [],
   "source": [
    "lr_smote5 = make_sm_pipeline(preprocessing, sm, LR)"
   ]
  },
  {
   "cell_type": "code",
   "execution_count": 88,
   "id": "50ec89d5-e0a3-4644-b910-c43a6171ed81",
   "metadata": {},
   "outputs": [
    {
     "data": {
      "text/plain": [
       "Pipeline(steps=[('columntransformer',\n",
       "                 ColumnTransformer(transformers=[('onehotencoder',\n",
       "                                                  OneHotEncoder(handle_unknown='ignore'),\n",
       "                                                  <sklearn.compose._column_transformer.make_column_selector object at 0x7fa5a60c7730>),\n",
       "                                                 ('standardscaler',\n",
       "                                                  StandardScaler(),\n",
       "                                                  <sklearn.compose._column_transformer.make_column_selector object at 0x7fa5a60c7370>)])),\n",
       "                ('smote', SMOTE(random_state=2021)),\n",
       "                ('logisticregression', LogisticRegression(max_iter=1000))])"
      ]
     },
     "execution_count": 88,
     "metadata": {},
     "output_type": "execute_result"
    }
   ],
   "source": [
    "lr_smote5.fit(X_train, y_train)"
   ]
  },
  {
   "cell_type": "code",
   "execution_count": 89,
   "id": "0328ac6e-d245-4eae-b288-0ac1716fdb5a",
   "metadata": {},
   "outputs": [
    {
     "data": {
      "text/plain": [
       "0.48557940801488586"
      ]
     },
     "execution_count": 89,
     "metadata": {},
     "output_type": "execute_result"
    }
   ],
   "source": [
    "#scoring the model\n",
    "f1_score(lr_smote5.predict(X_train), y_train)"
   ]
  },
  {
   "cell_type": "code",
   "execution_count": 90,
   "id": "7a7920a6-3cc0-4127-b443-168bdbdbdff3",
   "metadata": {},
   "outputs": [
    {
     "name": "stdout",
     "output_type": "stream",
     "text": [
      "LR SMOTE New Age, Race, Gender Features has an average F1 of 0.481091946995653\n"
     ]
    },
    {
     "data": {
      "text/plain": [
       "array([0.48892734, 0.47634014, 0.48507981, 0.48401668, 0.47109577])"
      ]
     },
     "execution_count": 90,
     "metadata": {},
     "output_type": "execute_result"
    }
   ],
   "source": [
    "# checking cross val scores\n",
    "modeling.report(lr_smote5, X_train, y_train, 'LR SMOTE New Age, Race, Gender Features', 'Drpd S Race, O Race NA')"
   ]
  },
  {
   "cell_type": "code",
   "execution_count": 91,
   "id": "f2ab38c2-38f9-47d2-9c11-bc1f3ebef749",
   "metadata": {},
   "outputs": [
    {
     "data": {
      "text/html": [
       "<div>\n",
       "<style scoped>\n",
       "    .dataframe tbody tr th:only-of-type {\n",
       "        vertical-align: middle;\n",
       "    }\n",
       "\n",
       "    .dataframe tbody tr th {\n",
       "        vertical-align: top;\n",
       "    }\n",
       "\n",
       "    .dataframe thead th {\n",
       "        text-align: right;\n",
       "    }\n",
       "</style>\n",
       "<table border=\"1\" class=\"dataframe\">\n",
       "  <thead>\n",
       "    <tr style=\"text-align: right;\">\n",
       "      <th></th>\n",
       "      <th>Name</th>\n",
       "      <th>Accuracy</th>\n",
       "      <th>Notes</th>\n",
       "    </tr>\n",
       "  </thead>\n",
       "  <tbody>\n",
       "    <tr>\n",
       "      <th>0</th>\n",
       "      <td>Baseline</td>\n",
       "      <td>0.293051</td>\n",
       "      <td>KNN - Baseline Features</td>\n",
       "    </tr>\n",
       "    <tr>\n",
       "      <th>1</th>\n",
       "      <td>KNN SMOTE</td>\n",
       "      <td>0.418520</td>\n",
       "      <td>Baseline KNN w/ SMOTE</td>\n",
       "    </tr>\n",
       "    <tr>\n",
       "      <th>2</th>\n",
       "      <td>LR SMOTE</td>\n",
       "      <td>0.478227</td>\n",
       "      <td>Log Reg w/ SMOTE</td>\n",
       "    </tr>\n",
       "    <tr>\n",
       "      <th>3</th>\n",
       "      <td>LR SMOTE</td>\n",
       "      <td>0.478414</td>\n",
       "      <td>Added Officer Age</td>\n",
       "    </tr>\n",
       "    <tr>\n",
       "      <th>4</th>\n",
       "      <td>LR SMOTE</td>\n",
       "      <td>0.478951</td>\n",
       "      <td>Log Reg w/ New Age, Race, Gender Features</td>\n",
       "    </tr>\n",
       "    <tr>\n",
       "      <th>6</th>\n",
       "      <td>LR SMOTE New Age, Race, Gender Features</td>\n",
       "      <td>0.481092</td>\n",
       "      <td>Drpd S Race, O Race NA</td>\n",
       "    </tr>\n",
       "    <tr>\n",
       "      <th>5</th>\n",
       "      <td>LR SMOTE New Age, Race, Gender Features</td>\n",
       "      <td>0.481133</td>\n",
       "      <td>Dropped Subject Race NA</td>\n",
       "    </tr>\n",
       "  </tbody>\n",
       "</table>\n",
       "</div>"
      ],
      "text/plain": [
       "                                      Name  Accuracy  \\\n",
       "0                                 Baseline  0.293051   \n",
       "1                                KNN SMOTE  0.418520   \n",
       "2                                 LR SMOTE  0.478227   \n",
       "3                                 LR SMOTE  0.478414   \n",
       "4                                LR SMOTE   0.478951   \n",
       "6  LR SMOTE New Age, Race, Gender Features  0.481092   \n",
       "5  LR SMOTE New Age, Race, Gender Features  0.481133   \n",
       "\n",
       "                                       Notes  \n",
       "0                    KNN - Baseline Features  \n",
       "1                      Baseline KNN w/ SMOTE  \n",
       "2                           Log Reg w/ SMOTE  \n",
       "3                          Added Officer Age  \n",
       "4  Log Reg w/ New Age, Race, Gender Features  \n",
       "6                     Drpd S Race, O Race NA  \n",
       "5                    Dropped Subject Race NA  "
      ]
     },
     "execution_count": 91,
     "metadata": {},
     "output_type": "execute_result"
    }
   ],
   "source": [
    "modeling.history"
   ]
  },
  {
   "cell_type": "markdown",
   "id": "162d61fa-d731-4b6a-b804-2915aac010bb",
   "metadata": {},
   "source": [
    "## Dropping Subject Age Nulls"
   ]
  },
  {
   "cell_type": "code",
   "execution_count": 92,
   "id": "56c56db4-9262-4987-819f-f02334bef844",
   "metadata": {},
   "outputs": [],
   "source": [
    "dropd3 = df[(df['Subject Perceived Race']!='NA') &\\\n",
    "            (df['Officer Race']!='NA')&\\\n",
    "            (df['Subject Age Group']!='NA')]"
   ]
  },
  {
   "cell_type": "code",
   "execution_count": 93,
   "id": "c7e1439f-1c66-4e3d-8d14-d47117513f87",
   "metadata": {},
   "outputs": [],
   "source": [
    "# features engineered during eda\n",
    "feature_list = ['Weapon Flag', 'Reported Year', 'Reported Month',\n",
    "                'Day of Month', 'Day of Week', 'Reported Hour', 'Beat Flag']"
   ]
  },
  {
   "cell_type": "code",
   "execution_count": 94,
   "id": "eb75d01c-8841-4657-8e9b-21b516be1ca6",
   "metadata": {},
   "outputs": [],
   "source": [
    "excluded = ['Weapon Type', 'Officer ID', 'Initial Call Type', 'Final Call Type',\n",
    "             'Call Type', 'Officer Squad', 'Arrest Flag',\n",
    "             'Frisk Flag',  'Sector', 'Beat', 'Weapon Flag',\n",
    "             'Reported Year', 'Reported Month','Day of Month',\n",
    "             'Day of Week', 'Reported Hour', 'Beat Flag']"
   ]
  },
  {
   "cell_type": "code",
   "execution_count": 95,
   "id": "85406180-20ea-4bd9-957e-78d8d3335746",
   "metadata": {},
   "outputs": [],
   "source": [
    "df_6 = f.framer(dropd3, [], excluded)"
   ]
  },
  {
   "cell_type": "code",
   "execution_count": 96,
   "id": "c9c0749e-9254-456f-871d-bbf98e702612",
   "metadata": {},
   "outputs": [
    {
     "data": {
      "text/html": [
       "<div>\n",
       "<style scoped>\n",
       "    .dataframe tbody tr th:only-of-type {\n",
       "        vertical-align: middle;\n",
       "    }\n",
       "\n",
       "    .dataframe tbody tr th {\n",
       "        vertical-align: top;\n",
       "    }\n",
       "\n",
       "    .dataframe thead th {\n",
       "        text-align: right;\n",
       "    }\n",
       "</style>\n",
       "<table border=\"1\" class=\"dataframe\">\n",
       "  <thead>\n",
       "    <tr style=\"text-align: right;\">\n",
       "      <th></th>\n",
       "      <th>Target</th>\n",
       "      <th>Subject Age Group</th>\n",
       "      <th>Officer Gender</th>\n",
       "      <th>Officer Race</th>\n",
       "      <th>Subject Perceived Race</th>\n",
       "      <th>Subject Perceived Gender</th>\n",
       "      <th>Precinct</th>\n",
       "      <th>Officer Age</th>\n",
       "      <th>Racial Affinity</th>\n",
       "      <th>Gender Affinity</th>\n",
       "    </tr>\n",
       "  </thead>\n",
       "  <tbody>\n",
       "    <tr>\n",
       "      <th>214</th>\n",
       "      <td>0</td>\n",
       "      <td>1 - 17</td>\n",
       "      <td>Male</td>\n",
       "      <td>White</td>\n",
       "      <td>White</td>\n",
       "      <td>Male</td>\n",
       "      <td>NA</td>\n",
       "      <td>27.0</td>\n",
       "      <td>1</td>\n",
       "      <td>1</td>\n",
       "    </tr>\n",
       "    <tr>\n",
       "      <th>328</th>\n",
       "      <td>0</td>\n",
       "      <td>36 - 45</td>\n",
       "      <td>Male</td>\n",
       "      <td>White</td>\n",
       "      <td>Asian</td>\n",
       "      <td>Male</td>\n",
       "      <td>NA</td>\n",
       "      <td>37.0</td>\n",
       "      <td>0</td>\n",
       "      <td>1</td>\n",
       "    </tr>\n",
       "  </tbody>\n",
       "</table>\n",
       "</div>"
      ],
      "text/plain": [
       "     Target Subject Age Group Officer Gender Officer Race  \\\n",
       "214       0            1 - 17           Male        White   \n",
       "328       0           36 - 45           Male        White   \n",
       "\n",
       "    Subject Perceived Race Subject Perceived Gender Precinct  Officer Age  \\\n",
       "214                  White                     Male       NA         27.0   \n",
       "328                  Asian                     Male       NA         37.0   \n",
       "\n",
       "     Racial Affinity  Gender Affinity  \n",
       "214                1                1  \n",
       "328                0                1  "
      ]
     },
     "execution_count": 96,
     "metadata": {},
     "output_type": "execute_result"
    }
   ],
   "source": [
    "df_6.head(2)"
   ]
  },
  {
   "cell_type": "code",
   "execution_count": 97,
   "id": "11f479f7-4580-411c-9245-11a65d78c160",
   "metadata": {},
   "outputs": [
    {
     "name": "stdout",
     "output_type": "stream",
     "text": [
      "<class 'pandas.core.frame.DataFrame'>\n",
      "Int64Index: 42589 entries, 214 to 46959\n",
      "Data columns (total 10 columns):\n",
      " #   Column                    Non-Null Count  Dtype  \n",
      "---  ------                    --------------  -----  \n",
      " 0   Target                    42589 non-null  int64  \n",
      " 1   Subject Age Group         42589 non-null  object \n",
      " 2   Officer Gender            42589 non-null  object \n",
      " 3   Officer Race              42589 non-null  object \n",
      " 4   Subject Perceived Race    42589 non-null  object \n",
      " 5   Subject Perceived Gender  42589 non-null  object \n",
      " 6   Precinct                  42589 non-null  object \n",
      " 7   Officer Age               42589 non-null  float64\n",
      " 8   Racial Affinity           42589 non-null  int64  \n",
      " 9   Gender Affinity           42589 non-null  int64  \n",
      "dtypes: float64(1), int64(3), object(6)\n",
      "memory usage: 3.6+ MB\n"
     ]
    }
   ],
   "source": [
    "df_6.info()"
   ]
  },
  {
   "cell_type": "code",
   "execution_count": 98,
   "id": "b034c192-01f4-42a1-87fd-a909d036555f",
   "metadata": {},
   "outputs": [],
   "source": [
    "X, y = f.Xy(df_6)"
   ]
  },
  {
   "cell_type": "code",
   "execution_count": 99,
   "id": "ad71f114-bc1e-4e08-86bb-08c5bddced0a",
   "metadata": {},
   "outputs": [],
   "source": [
    "X_train, X_test, y_train, y_test = f.splitter(X,y)"
   ]
  },
  {
   "cell_type": "code",
   "execution_count": 100,
   "id": "c0bbe889-2d6d-433f-8ce0-5b24df599bb0",
   "metadata": {},
   "outputs": [],
   "source": [
    "lr_smote6 = make_sm_pipeline(preprocessing, sm, LR)"
   ]
  },
  {
   "cell_type": "code",
   "execution_count": 101,
   "id": "3a1c3490-b387-4915-9325-bec384219c73",
   "metadata": {},
   "outputs": [
    {
     "data": {
      "text/plain": [
       "Pipeline(steps=[('columntransformer',\n",
       "                 ColumnTransformer(transformers=[('onehotencoder',\n",
       "                                                  OneHotEncoder(handle_unknown='ignore'),\n",
       "                                                  <sklearn.compose._column_transformer.make_column_selector object at 0x7fa5a60c7730>),\n",
       "                                                 ('standardscaler',\n",
       "                                                  StandardScaler(),\n",
       "                                                  <sklearn.compose._column_transformer.make_column_selector object at 0x7fa5a60c7370>)])),\n",
       "                ('smote', SMOTE(random_state=2021)),\n",
       "                ('logisticregression', LogisticRegression(max_iter=1000))])"
      ]
     },
     "execution_count": 101,
     "metadata": {},
     "output_type": "execute_result"
    }
   ],
   "source": [
    "lr_smote6.fit(X_train, y_train)"
   ]
  },
  {
   "cell_type": "code",
   "execution_count": 102,
   "id": "529df46c-0093-4ba3-92ba-2fc82e81de95",
   "metadata": {},
   "outputs": [
    {
     "data": {
      "text/plain": [
       "0.4878168152420906"
      ]
     },
     "execution_count": 102,
     "metadata": {},
     "output_type": "execute_result"
    }
   ],
   "source": [
    "#scoring the model\n",
    "f1_score(lr_smote6.predict(X_train), y_train)"
   ]
  },
  {
   "cell_type": "code",
   "execution_count": 103,
   "id": "2d34fd8e-6708-4dbf-b5f3-87b996ee2944",
   "metadata": {},
   "outputs": [
    {
     "name": "stdout",
     "output_type": "stream",
     "text": [
      "LR SMOTE New Age, Race, Gender Features has an average F1 of 0.4842117986791896\n"
     ]
    },
    {
     "data": {
      "text/plain": [
       "array([0.48774423, 0.48220924, 0.48576389, 0.47667485, 0.48866679])"
      ]
     },
     "execution_count": 103,
     "metadata": {},
     "output_type": "execute_result"
    }
   ],
   "source": [
    "# checking cross val scores\n",
    "modeling.report(lr_smote6, X_train, y_train, 'LR SMOTE New Age, Race, Gender Features', 'Dpd Nulls S Race, O Race NA, S Age')"
   ]
  },
  {
   "cell_type": "code",
   "execution_count": 104,
   "id": "d55b2dad-0277-4c38-a059-5feffb2724e5",
   "metadata": {},
   "outputs": [
    {
     "data": {
      "text/html": [
       "<div>\n",
       "<style scoped>\n",
       "    .dataframe tbody tr th:only-of-type {\n",
       "        vertical-align: middle;\n",
       "    }\n",
       "\n",
       "    .dataframe tbody tr th {\n",
       "        vertical-align: top;\n",
       "    }\n",
       "\n",
       "    .dataframe thead th {\n",
       "        text-align: right;\n",
       "    }\n",
       "</style>\n",
       "<table border=\"1\" class=\"dataframe\">\n",
       "  <thead>\n",
       "    <tr style=\"text-align: right;\">\n",
       "      <th></th>\n",
       "      <th>Name</th>\n",
       "      <th>Accuracy</th>\n",
       "      <th>Notes</th>\n",
       "    </tr>\n",
       "  </thead>\n",
       "  <tbody>\n",
       "    <tr>\n",
       "      <th>0</th>\n",
       "      <td>Baseline</td>\n",
       "      <td>0.293051</td>\n",
       "      <td>KNN - Baseline Features</td>\n",
       "    </tr>\n",
       "    <tr>\n",
       "      <th>1</th>\n",
       "      <td>KNN SMOTE</td>\n",
       "      <td>0.418520</td>\n",
       "      <td>Baseline KNN w/ SMOTE</td>\n",
       "    </tr>\n",
       "    <tr>\n",
       "      <th>2</th>\n",
       "      <td>LR SMOTE</td>\n",
       "      <td>0.478227</td>\n",
       "      <td>Log Reg w/ SMOTE</td>\n",
       "    </tr>\n",
       "    <tr>\n",
       "      <th>3</th>\n",
       "      <td>LR SMOTE</td>\n",
       "      <td>0.478414</td>\n",
       "      <td>Added Officer Age</td>\n",
       "    </tr>\n",
       "    <tr>\n",
       "      <th>4</th>\n",
       "      <td>LR SMOTE</td>\n",
       "      <td>0.478951</td>\n",
       "      <td>Log Reg w/ New Age, Race, Gender Features</td>\n",
       "    </tr>\n",
       "    <tr>\n",
       "      <th>5</th>\n",
       "      <td>LR SMOTE New Age, Race, Gender Features</td>\n",
       "      <td>0.481092</td>\n",
       "      <td>Drpd S Race, O Race NA</td>\n",
       "    </tr>\n",
       "    <tr>\n",
       "      <th>6</th>\n",
       "      <td>LR SMOTE New Age, Race, Gender Features</td>\n",
       "      <td>0.481133</td>\n",
       "      <td>Dropped Subject Race NA</td>\n",
       "    </tr>\n",
       "    <tr>\n",
       "      <th>7</th>\n",
       "      <td>LR SMOTE New Age, Race, Gender Features</td>\n",
       "      <td>0.484212</td>\n",
       "      <td>Dpd Nulls S Race, O Race NA, S Age</td>\n",
       "    </tr>\n",
       "  </tbody>\n",
       "</table>\n",
       "</div>"
      ],
      "text/plain": [
       "                                      Name  Accuracy  \\\n",
       "0                                 Baseline  0.293051   \n",
       "1                                KNN SMOTE  0.418520   \n",
       "2                                 LR SMOTE  0.478227   \n",
       "3                                 LR SMOTE  0.478414   \n",
       "4                                LR SMOTE   0.478951   \n",
       "5  LR SMOTE New Age, Race, Gender Features  0.481092   \n",
       "6  LR SMOTE New Age, Race, Gender Features  0.481133   \n",
       "7  LR SMOTE New Age, Race, Gender Features  0.484212   \n",
       "\n",
       "                                       Notes  \n",
       "0                    KNN - Baseline Features  \n",
       "1                      Baseline KNN w/ SMOTE  \n",
       "2                           Log Reg w/ SMOTE  \n",
       "3                          Added Officer Age  \n",
       "4  Log Reg w/ New Age, Race, Gender Features  \n",
       "5                     Drpd S Race, O Race NA  \n",
       "6                    Dropped Subject Race NA  \n",
       "7         Dpd Nulls S Race, O Race NA, S Age  "
      ]
     },
     "execution_count": 104,
     "metadata": {},
     "output_type": "execute_result"
    }
   ],
   "source": [
    "modeling.history"
   ]
  },
  {
   "cell_type": "markdown",
   "id": "546d8a2e-f5b7-4e73-baae-93838a1d3a9a",
   "metadata": {},
   "source": [
    "## Testing on Sub-Splits"
   ]
  },
  {
   "cell_type": "code",
   "execution_count": 105,
   "id": "ddf1492b-20b4-44ae-a6a4-bb5d425a3a42",
   "metadata": {},
   "outputs": [],
   "source": [
    "Xs_train, Xs_test, ys_train, ys_test = f.splitter(X_train, y_train)"
   ]
  },
  {
   "cell_type": "code",
   "execution_count": 106,
   "id": "4da2fea0-2885-418f-98d1-5c48e2537dcf",
   "metadata": {},
   "outputs": [
    {
     "data": {
      "text/plain": [
       "Pipeline(steps=[('columntransformer',\n",
       "                 ColumnTransformer(transformers=[('onehotencoder',\n",
       "                                                  OneHotEncoder(handle_unknown='ignore'),\n",
       "                                                  <sklearn.compose._column_transformer.make_column_selector object at 0x7fa5a60c7730>),\n",
       "                                                 ('standardscaler',\n",
       "                                                  StandardScaler(),\n",
       "                                                  <sklearn.compose._column_transformer.make_column_selector object at 0x7fa5a60c7370>)])),\n",
       "                ('smote', SMOTE(random_state=2021)),\n",
       "                ('logisticregression', LogisticRegression(max_iter=1000))])"
      ]
     },
     "execution_count": 106,
     "metadata": {},
     "output_type": "execute_result"
    }
   ],
   "source": [
    "lr_smote6.fit(Xs_train, ys_train)"
   ]
  },
  {
   "cell_type": "code",
   "execution_count": 107,
   "id": "e3e58c31-cb04-430e-b782-c0b00674e921",
   "metadata": {},
   "outputs": [
    {
     "data": {
      "text/plain": [
       "0.48880754610727856"
      ]
     },
     "execution_count": 107,
     "metadata": {},
     "output_type": "execute_result"
    }
   ],
   "source": [
    "f1_score(lr_smote6.predict(Xs_train), ys_train)"
   ]
  },
  {
   "cell_type": "code",
   "execution_count": 108,
   "id": "c2073c77-c7d4-45d4-aaa5-1ccc701da0df",
   "metadata": {},
   "outputs": [
    {
     "data": {
      "text/plain": [
       "0.48309859154929585"
      ]
     },
     "execution_count": 108,
     "metadata": {},
     "output_type": "execute_result"
    }
   ],
   "source": [
    "f1_score(lr_smote6.predict(Xs_test), ys_test)"
   ]
  },
  {
   "cell_type": "code",
   "execution_count": 109,
   "id": "630459ac-9525-4861-8452-61bf6b1c93c6",
   "metadata": {},
   "outputs": [
    {
     "data": {
      "image/png": "[encoded data removed]",
      "text/plain": [
       "<Figure size 504x504 with 2 Axes>"
      ]
     },
     "metadata": {},
     "output_type": "display_data"
    }
   ],
   "source": [
    "f.confusion(lr_smote6, Xs_train, ys_train)"
   ]
  },
  {
   "cell_type": "code",
   "execution_count": 110,
   "id": "72121162-51c4-40f0-ae6f-0184b8ca55df",
   "metadata": {},
   "outputs": [
    {
     "data": {
      "image/png": "[encoded data removed]",
      "text/plain": [
       "<Figure size 504x504 with 2 Axes>"
      ]
     },
     "metadata": {},
     "output_type": "display_data"
    }
   ],
   "source": [
    "f.confusion(lr_smote6, Xs_test, ys_test)"
   ]
  },
  {
   "cell_type": "markdown",
   "id": "0456c77b-3bc6-4709-bd5d-ef4f7426b8ac",
   "metadata": {},
   "source": [
    "## Balanced Class Weights"
   ]
  },
  {
   "cell_type": "code",
   "execution_count": 111,
   "id": "e0c711d4-85f7-4acb-ac3d-b15df3ab06e8",
   "metadata": {},
   "outputs": [],
   "source": [
    "LR_bal = LogisticRegression(class_weight='balanced', max_iter=1000)"
   ]
  },
  {
   "cell_type": "code",
   "execution_count": 112,
   "id": "4e59abfc-d616-42f4-9dd1-5a9e9de2bf97",
   "metadata": {},
   "outputs": [],
   "source": [
    "lr_smote7 = make_sm_pipeline(preprocessing, sm, LR_bal)"
   ]
  },
  {
   "cell_type": "code",
   "execution_count": 113,
   "id": "2acd5b04-cc19-4279-b088-6d76259852c4",
   "metadata": {},
   "outputs": [
    {
     "data": {
      "text/plain": [
       "Pipeline(steps=[('columntransformer',\n",
       "                 ColumnTransformer(transformers=[('onehotencoder',\n",
       "                                                  OneHotEncoder(handle_unknown='ignore'),\n",
       "                                                  <sklearn.compose._column_transformer.make_column_selector object at 0x7fa5a60c7730>),\n",
       "                                                 ('standardscaler',\n",
       "                                                  StandardScaler(),\n",
       "                                                  <sklearn.compose._column_transformer.make_column_selector object at 0x7fa5a60c7370>)])),\n",
       "                ('smote', SMOTE(random_state=2021)),\n",
       "                ('logisticregression',\n",
       "                 LogisticRegression(class_weight='balanced', max_iter=1000))])"
      ]
     },
     "execution_count": 113,
     "metadata": {},
     "output_type": "execute_result"
    }
   ],
   "source": [
    "lr_smote7.fit(X_train, y_train)"
   ]
  },
  {
   "cell_type": "code",
   "execution_count": 114,
   "id": "b6393ce0-e63c-4eaa-a3a7-469d377b89cd",
   "metadata": {},
   "outputs": [
    {
     "data": {
      "text/plain": [
       "0.4878168152420906"
      ]
     },
     "execution_count": 114,
     "metadata": {},
     "output_type": "execute_result"
    }
   ],
   "source": [
    "#scoring the model\n",
    "f1_score(lr_smote7.predict(X_train), y_train)"
   ]
  },
  {
   "cell_type": "code",
   "execution_count": 115,
   "id": "98af7fc5-1a0e-46c8-ac49-6227a6993bf4",
   "metadata": {},
   "outputs": [
    {
     "name": "stdout",
     "output_type": "stream",
     "text": [
      "LR_bal has an average F1 of 0.4842117986791896\n"
     ]
    },
    {
     "data": {
      "text/plain": [
       "array([0.48774423, 0.48220924, 0.48576389, 0.47667485, 0.48866679])"
      ]
     },
     "execution_count": 115,
     "metadata": {},
     "output_type": "execute_result"
    }
   ],
   "source": [
    "# checking cross val scores\n",
    "modeling.report(lr_smote7, X_train, y_train, 'LR_bal', 'Dpd Nulls S Race, O Race NA, S Age')"
   ]
  },
  {
   "cell_type": "code",
   "execution_count": 116,
   "id": "4439fc76-1821-49df-aaae-f38c6caca2b0",
   "metadata": {},
   "outputs": [
    {
     "data": {
      "text/html": [
       "<div>\n",
       "<style scoped>\n",
       "    .dataframe tbody tr th:only-of-type {\n",
       "        vertical-align: middle;\n",
       "    }\n",
       "\n",
       "    .dataframe tbody tr th {\n",
       "        vertical-align: top;\n",
       "    }\n",
       "\n",
       "    .dataframe thead th {\n",
       "        text-align: right;\n",
       "    }\n",
       "</style>\n",
       "<table border=\"1\" class=\"dataframe\">\n",
       "  <thead>\n",
       "    <tr style=\"text-align: right;\">\n",
       "      <th></th>\n",
       "      <th>Name</th>\n",
       "      <th>Accuracy</th>\n",
       "      <th>Notes</th>\n",
       "    </tr>\n",
       "  </thead>\n",
       "  <tbody>\n",
       "    <tr>\n",
       "      <th>0</th>\n",
       "      <td>Baseline</td>\n",
       "      <td>0.293051</td>\n",
       "      <td>KNN - Baseline Features</td>\n",
       "    </tr>\n",
       "    <tr>\n",
       "      <th>1</th>\n",
       "      <td>KNN SMOTE</td>\n",
       "      <td>0.418520</td>\n",
       "      <td>Baseline KNN w/ SMOTE</td>\n",
       "    </tr>\n",
       "    <tr>\n",
       "      <th>2</th>\n",
       "      <td>LR SMOTE</td>\n",
       "      <td>0.478227</td>\n",
       "      <td>Log Reg w/ SMOTE</td>\n",
       "    </tr>\n",
       "    <tr>\n",
       "      <th>3</th>\n",
       "      <td>LR SMOTE</td>\n",
       "      <td>0.478414</td>\n",
       "      <td>Added Officer Age</td>\n",
       "    </tr>\n",
       "    <tr>\n",
       "      <th>4</th>\n",
       "      <td>LR SMOTE</td>\n",
       "      <td>0.478951</td>\n",
       "      <td>Log Reg w/ New Age, Race, Gender Features</td>\n",
       "    </tr>\n",
       "    <tr>\n",
       "      <th>5</th>\n",
       "      <td>LR SMOTE New Age, Race, Gender Features</td>\n",
       "      <td>0.481092</td>\n",
       "      <td>Drpd S Race, O Race NA</td>\n",
       "    </tr>\n",
       "    <tr>\n",
       "      <th>6</th>\n",
       "      <td>LR SMOTE New Age, Race, Gender Features</td>\n",
       "      <td>0.481133</td>\n",
       "      <td>Dropped Subject Race NA</td>\n",
       "    </tr>\n",
       "    <tr>\n",
       "      <th>7</th>\n",
       "      <td>LR SMOTE New Age, Race, Gender Features</td>\n",
       "      <td>0.484212</td>\n",
       "      <td>Dpd Nulls S Race, O Race NA, S Age</td>\n",
       "    </tr>\n",
       "    <tr>\n",
       "      <th>8</th>\n",
       "      <td>LR_bal</td>\n",
       "      <td>0.484212</td>\n",
       "      <td>Dpd Nulls S Race, O Race NA, S Age</td>\n",
       "    </tr>\n",
       "  </tbody>\n",
       "</table>\n",
       "</div>"
      ],
      "text/plain": [
       "                                      Name  Accuracy  \\\n",
       "0                                 Baseline  0.293051   \n",
       "1                                KNN SMOTE  0.418520   \n",
       "2                                 LR SMOTE  0.478227   \n",
       "3                                 LR SMOTE  0.478414   \n",
       "4                                LR SMOTE   0.478951   \n",
       "5  LR SMOTE New Age, Race, Gender Features  0.481092   \n",
       "6  LR SMOTE New Age, Race, Gender Features  0.481133   \n",
       "7  LR SMOTE New Age, Race, Gender Features  0.484212   \n",
       "8                                   LR_bal  0.484212   \n",
       "\n",
       "                                       Notes  \n",
       "0                    KNN - Baseline Features  \n",
       "1                      Baseline KNN w/ SMOTE  \n",
       "2                           Log Reg w/ SMOTE  \n",
       "3                          Added Officer Age  \n",
       "4  Log Reg w/ New Age, Race, Gender Features  \n",
       "5                     Drpd S Race, O Race NA  \n",
       "6                    Dropped Subject Race NA  \n",
       "7         Dpd Nulls S Race, O Race NA, S Age  \n",
       "8         Dpd Nulls S Race, O Race NA, S Age  "
      ]
     },
     "execution_count": 116,
     "metadata": {},
     "output_type": "execute_result"
    }
   ],
   "source": [
    "modeling.history"
   ]
  },
  {
   "cell_type": "markdown",
   "id": "b3be7593-1c11-468e-bc81-85bbdce2f77d",
   "metadata": {},
   "source": [
    "## Checking C Values"
   ]
  },
  {
   "cell_type": "markdown",
   "id": "501d6661-a30c-452d-ad49-487e3d18604d",
   "metadata": {},
   "source": [
    "## Rough Estimate By Hand"
   ]
  },
  {
   "cell_type": "code",
   "execution_count": 117,
   "id": "e8707d41-d6ed-4ba7-9b84-2aa6f0ae9093",
   "metadata": {},
   "outputs": [],
   "source": [
    "# # preprocessing\n",
    "# string_selector = make_column_selector(dtype_include='object')\n",
    "# number_selector = make_column_selector(dtype_include='number', dtype_exclude='object')\n",
    "# preprocessing = make_column_transformer((OneHotEncoder\n",
    "#                                          (handle_unknown='ignore'),string_selector),\n",
    "#                                           (StandardScaler(), number_selector))\n",
    "# # C = [0.001,.009,0.01,.09,1,5,10,25]\n",
    "# C = np.logspace(-3, 3, 7)\n",
    "# for c in C:\n",
    "#     LR_clf = LogisticRegression(class_weight='balanced', C=c, max_iter=1000)\n",
    "#     # make_pipeline from imblearn\n",
    "#     sm = SMOTE(random_state=2021) \n",
    "#     pipeline  = make_sm_pipeline(preprocessing, sm, LR_clf)\n",
    "#     pipeline.fit(X_train, y_train)\n",
    "#     modeling.report(pipeline, X_train, y_train, 'LR_bal', f'C={c}')\n",
    "# f1_score(pipeline.predict(X_train), y_train)"
   ]
  },
  {
   "cell_type": "code",
   "execution_count": 118,
   "id": "602ca658-88f8-4277-a7a5-5d7f96531fad",
   "metadata": {},
   "outputs": [
    {
     "data": {
      "text/html": [
       "<div>\n",
       "<style scoped>\n",
       "    .dataframe tbody tr th:only-of-type {\n",
       "        vertical-align: middle;\n",
       "    }\n",
       "\n",
       "    .dataframe tbody tr th {\n",
       "        vertical-align: top;\n",
       "    }\n",
       "\n",
       "    .dataframe thead th {\n",
       "        text-align: right;\n",
       "    }\n",
       "</style>\n",
       "<table border=\"1\" class=\"dataframe\">\n",
       "  <thead>\n",
       "    <tr style=\"text-align: right;\">\n",
       "      <th></th>\n",
       "      <th>Name</th>\n",
       "      <th>Accuracy</th>\n",
       "      <th>Notes</th>\n",
       "    </tr>\n",
       "  </thead>\n",
       "  <tbody>\n",
       "    <tr>\n",
       "      <th>0</th>\n",
       "      <td>Baseline</td>\n",
       "      <td>0.293051</td>\n",
       "      <td>KNN - Baseline Features</td>\n",
       "    </tr>\n",
       "    <tr>\n",
       "      <th>1</th>\n",
       "      <td>KNN SMOTE</td>\n",
       "      <td>0.418520</td>\n",
       "      <td>Baseline KNN w/ SMOTE</td>\n",
       "    </tr>\n",
       "    <tr>\n",
       "      <th>2</th>\n",
       "      <td>LR SMOTE</td>\n",
       "      <td>0.478227</td>\n",
       "      <td>Log Reg w/ SMOTE</td>\n",
       "    </tr>\n",
       "    <tr>\n",
       "      <th>3</th>\n",
       "      <td>LR SMOTE</td>\n",
       "      <td>0.478414</td>\n",
       "      <td>Added Officer Age</td>\n",
       "    </tr>\n",
       "    <tr>\n",
       "      <th>4</th>\n",
       "      <td>LR SMOTE</td>\n",
       "      <td>0.478951</td>\n",
       "      <td>Log Reg w/ New Age, Race, Gender Features</td>\n",
       "    </tr>\n",
       "    <tr>\n",
       "      <th>5</th>\n",
       "      <td>LR SMOTE New Age, Race, Gender Features</td>\n",
       "      <td>0.481092</td>\n",
       "      <td>Drpd S Race, O Race NA</td>\n",
       "    </tr>\n",
       "    <tr>\n",
       "      <th>6</th>\n",
       "      <td>LR SMOTE New Age, Race, Gender Features</td>\n",
       "      <td>0.481133</td>\n",
       "      <td>Dropped Subject Race NA</td>\n",
       "    </tr>\n",
       "    <tr>\n",
       "      <th>7</th>\n",
       "      <td>LR SMOTE New Age, Race, Gender Features</td>\n",
       "      <td>0.484212</td>\n",
       "      <td>Dpd Nulls S Race, O Race NA, S Age</td>\n",
       "    </tr>\n",
       "    <tr>\n",
       "      <th>8</th>\n",
       "      <td>LR_bal</td>\n",
       "      <td>0.484212</td>\n",
       "      <td>Dpd Nulls S Race, O Race NA, S Age</td>\n",
       "    </tr>\n",
       "  </tbody>\n",
       "</table>\n",
       "</div>"
      ],
      "text/plain": [
       "                                      Name  Accuracy  \\\n",
       "0                                 Baseline  0.293051   \n",
       "1                                KNN SMOTE  0.418520   \n",
       "2                                 LR SMOTE  0.478227   \n",
       "3                                 LR SMOTE  0.478414   \n",
       "4                                LR SMOTE   0.478951   \n",
       "5  LR SMOTE New Age, Race, Gender Features  0.481092   \n",
       "6  LR SMOTE New Age, Race, Gender Features  0.481133   \n",
       "7  LR SMOTE New Age, Race, Gender Features  0.484212   \n",
       "8                                   LR_bal  0.484212   \n",
       "\n",
       "                                       Notes  \n",
       "0                    KNN - Baseline Features  \n",
       "1                      Baseline KNN w/ SMOTE  \n",
       "2                           Log Reg w/ SMOTE  \n",
       "3                          Added Officer Age  \n",
       "4  Log Reg w/ New Age, Race, Gender Features  \n",
       "5                     Drpd S Race, O Race NA  \n",
       "6                    Dropped Subject Race NA  \n",
       "7         Dpd Nulls S Race, O Race NA, S Age  \n",
       "8         Dpd Nulls S Race, O Race NA, S Age  "
      ]
     },
     "execution_count": 118,
     "metadata": {},
     "output_type": "execute_result"
    }
   ],
   "source": [
    "modeling.history"
   ]
  },
  {
   "cell_type": "markdown",
   "id": "1e67d07c-cf9e-4c47-9a6f-aeecab68de0a",
   "metadata": {},
   "source": [
    "## Grid Searching Parameters"
   ]
  },
  {
   "cell_type": "code",
   "execution_count": 119,
   "id": "aa0cd39d-881f-49e7-8250-bd4997b7d69f",
   "metadata": {},
   "outputs": [],
   "source": [
    "# LR_clf = LogisticRegression(class_weight='balanced', max_iter=1000, random_state=2021)\n",
    "\n",
    "# pipeline  = make_sm_pipeline(preprocessing, sm, LR_clf)\n",
    "# pipeline.fit(X_train, y_train)\n",
    "\n",
    "# C = np.logspace(-3, 3, 7)\n",
    "# penalty = ['l1', 'l2']\n",
    "# solver = ['liblinear', 'saga']\n",
    "\n",
    "# grid_values = {'logisticregression__C':C, \n",
    "#                'logisticregression__penalty':penalty,\n",
    "#                'logisticregression__solver':solver }\n",
    "\n",
    "# grid_clf_f1 = GridSearchCV(pipeline, param_grid = grid_values, scoring = 'f1')\n",
    "# grid_clf_f1.fit(X_train, y_train)"
   ]
  },
  {
   "cell_type": "code",
   "execution_count": 120,
   "id": "2f4744d9-9ca9-4d2b-945d-bfe5223216d2",
   "metadata": {},
   "outputs": [],
   "source": [
    "# print('Best C:', grid_clf_f1.best_estimator_.get_params()['logisticregression__C'])\n",
    "# print('Best penalty:', grid_clf_f1.best_estimator_.get_params()['logisticregression__penalty'])\n",
    "# print('Best solver:', grid_clf_f1.best_estimator_.get_params()['logisticregression__solver'])"
   ]
  },
  {
   "cell_type": "code",
   "execution_count": 121,
   "id": "50b6ef28-c0a4-4d13-a01f-03cbea84bf1a",
   "metadata": {},
   "outputs": [
    {
     "name": "stdout",
     "output_type": "stream",
     "text": [
      "LR_tuned has an average F1 of 0.4863318684765906\n"
     ]
    },
    {
     "data": {
      "text/plain": [
       "array([0.48685753, 0.48447205, 0.48424163, 0.48632619, 0.48976194])"
      ]
     },
     "execution_count": 121,
     "metadata": {},
     "output_type": "execute_result"
    }
   ],
   "source": [
    "LR_tuned = LogisticRegression(class_weight='balanced', C=.01,\n",
    "                            solver='liblinear', penalty='l1',\n",
    "                            max_iter=1000, random_state=2021)\n",
    "\n",
    "pipeline  = make_sm_pipeline(preprocessing, sm, LR_tuned)\n",
    "pipeline.fit(X_train, y_train)\n",
    "f1_score(pipeline.predict(X_train), y_train)\n",
    "modeling.report(pipeline, X_train, y_train, 'LR_tuned', 'C=.01, solver=liblinear, penalty=l1')"
   ]
  },
  {
   "cell_type": "code",
   "execution_count": 122,
   "id": "829d5cff-9038-4983-8a4e-50520c33abb3",
   "metadata": {},
   "outputs": [
    {
     "data": {
      "text/html": [
       "<div>\n",
       "<style scoped>\n",
       "    .dataframe tbody tr th:only-of-type {\n",
       "        vertical-align: middle;\n",
       "    }\n",
       "\n",
       "    .dataframe tbody tr th {\n",
       "        vertical-align: top;\n",
       "    }\n",
       "\n",
       "    .dataframe thead th {\n",
       "        text-align: right;\n",
       "    }\n",
       "</style>\n",
       "<table border=\"1\" class=\"dataframe\">\n",
       "  <thead>\n",
       "    <tr style=\"text-align: right;\">\n",
       "      <th></th>\n",
       "      <th>Name</th>\n",
       "      <th>Accuracy</th>\n",
       "      <th>Notes</th>\n",
       "    </tr>\n",
       "  </thead>\n",
       "  <tbody>\n",
       "    <tr>\n",
       "      <th>0</th>\n",
       "      <td>Baseline</td>\n",
       "      <td>0.293051</td>\n",
       "      <td>KNN - Baseline Features</td>\n",
       "    </tr>\n",
       "    <tr>\n",
       "      <th>1</th>\n",
       "      <td>KNN SMOTE</td>\n",
       "      <td>0.418520</td>\n",
       "      <td>Baseline KNN w/ SMOTE</td>\n",
       "    </tr>\n",
       "    <tr>\n",
       "      <th>2</th>\n",
       "      <td>LR SMOTE</td>\n",
       "      <td>0.478227</td>\n",
       "      <td>Log Reg w/ SMOTE</td>\n",
       "    </tr>\n",
       "    <tr>\n",
       "      <th>3</th>\n",
       "      <td>LR SMOTE</td>\n",
       "      <td>0.478414</td>\n",
       "      <td>Added Officer Age</td>\n",
       "    </tr>\n",
       "    <tr>\n",
       "      <th>4</th>\n",
       "      <td>LR SMOTE</td>\n",
       "      <td>0.478951</td>\n",
       "      <td>Log Reg w/ New Age, Race, Gender Features</td>\n",
       "    </tr>\n",
       "    <tr>\n",
       "      <th>5</th>\n",
       "      <td>LR SMOTE New Age, Race, Gender Features</td>\n",
       "      <td>0.481092</td>\n",
       "      <td>Drpd S Race, O Race NA</td>\n",
       "    </tr>\n",
       "    <tr>\n",
       "      <th>6</th>\n",
       "      <td>LR SMOTE New Age, Race, Gender Features</td>\n",
       "      <td>0.481133</td>\n",
       "      <td>Dropped Subject Race NA</td>\n",
       "    </tr>\n",
       "    <tr>\n",
       "      <th>7</th>\n",
       "      <td>LR SMOTE New Age, Race, Gender Features</td>\n",
       "      <td>0.484212</td>\n",
       "      <td>Dpd Nulls S Race, O Race NA, S Age</td>\n",
       "    </tr>\n",
       "    <tr>\n",
       "      <th>8</th>\n",
       "      <td>LR_bal</td>\n",
       "      <td>0.484212</td>\n",
       "      <td>Dpd Nulls S Race, O Race NA, S Age</td>\n",
       "    </tr>\n",
       "    <tr>\n",
       "      <th>9</th>\n",
       "      <td>LR_tuned</td>\n",
       "      <td>0.486332</td>\n",
       "      <td>C=.01, solver=liblinear, penalty=l1</td>\n",
       "    </tr>\n",
       "  </tbody>\n",
       "</table>\n",
       "</div>"
      ],
      "text/plain": [
       "                                      Name  Accuracy  \\\n",
       "0                                 Baseline  0.293051   \n",
       "1                                KNN SMOTE  0.418520   \n",
       "2                                 LR SMOTE  0.478227   \n",
       "3                                 LR SMOTE  0.478414   \n",
       "4                                LR SMOTE   0.478951   \n",
       "5  LR SMOTE New Age, Race, Gender Features  0.481092   \n",
       "6  LR SMOTE New Age, Race, Gender Features  0.481133   \n",
       "7  LR SMOTE New Age, Race, Gender Features  0.484212   \n",
       "8                                   LR_bal  0.484212   \n",
       "9                                 LR_tuned  0.486332   \n",
       "\n",
       "                                       Notes  \n",
       "0                    KNN - Baseline Features  \n",
       "1                      Baseline KNN w/ SMOTE  \n",
       "2                           Log Reg w/ SMOTE  \n",
       "3                          Added Officer Age  \n",
       "4  Log Reg w/ New Age, Race, Gender Features  \n",
       "5                     Drpd S Race, O Race NA  \n",
       "6                    Dropped Subject Race NA  \n",
       "7         Dpd Nulls S Race, O Race NA, S Age  \n",
       "8         Dpd Nulls S Race, O Race NA, S Age  \n",
       "9        C=.01, solver=liblinear, penalty=l1  "
      ]
     },
     "execution_count": 122,
     "metadata": {},
     "output_type": "execute_result"
    }
   ],
   "source": [
    "modeling.history"
   ]
  },
  {
   "cell_type": "markdown",
   "id": "71f5de19-b91e-4efb-8a3f-58112c8f43aa",
   "metadata": {},
   "source": [
    "## Testing Tuned Model on Sub-Splits"
   ]
  },
  {
   "cell_type": "code",
   "execution_count": 123,
   "id": "93965c98-7c34-4ee9-a1b2-cad95324cba8",
   "metadata": {},
   "outputs": [],
   "source": [
    "Xs_train, Xs_test, ys_train, ys_test = f.splitter(X_train, y_train)"
   ]
  },
  {
   "cell_type": "code",
   "execution_count": 124,
   "id": "bea33602-d9af-4fda-b61e-a0b967c0816e",
   "metadata": {},
   "outputs": [
    {
     "data": {
      "text/plain": [
       "Pipeline(steps=[('columntransformer',\n",
       "                 ColumnTransformer(transformers=[('onehotencoder',\n",
       "                                                  OneHotEncoder(handle_unknown='ignore'),\n",
       "                                                  <sklearn.compose._column_transformer.make_column_selector object at 0x7fa5a60c7730>),\n",
       "                                                 ('standardscaler',\n",
       "                                                  StandardScaler(),\n",
       "                                                  <sklearn.compose._column_transformer.make_column_selector object at 0x7fa5a60c7370>)])),\n",
       "                ('smote', SMOTE(random_state=2021)),\n",
       "                ('logisticregression',\n",
       "                 LogisticRegression(C=0.01, class_weight='balanced',\n",
       "                                    max_iter=1000, penalty='l1',\n",
       "                                    random_state=2021, solver='liblinear'))])"
      ]
     },
     "execution_count": 124,
     "metadata": {},
     "output_type": "execute_result"
    }
   ],
   "source": [
    "pipeline  = make_sm_pipeline(preprocessing, sm, LR_tuned)\n",
    "pipeline.fit(Xs_train, ys_train)"
   ]
  },
  {
   "cell_type": "code",
   "execution_count": 125,
   "id": "8133bf6d-29ce-4fc5-8969-84842778e230",
   "metadata": {},
   "outputs": [
    {
     "data": {
      "text/plain": [
       "0.48625811616116704"
      ]
     },
     "execution_count": 125,
     "metadata": {},
     "output_type": "execute_result"
    }
   ],
   "source": [
    "f1_score(pipeline.predict(Xs_train), ys_train)"
   ]
  },
  {
   "cell_type": "code",
   "execution_count": 126,
   "id": "afb44e15-9823-4407-84f4-f398514e7754",
   "metadata": {},
   "outputs": [
    {
     "data": {
      "text/plain": [
       "0.4835900870730073"
      ]
     },
     "execution_count": 126,
     "metadata": {},
     "output_type": "execute_result"
    }
   ],
   "source": [
    "f1_score(pipeline.predict(Xs_test), ys_test)"
   ]
  },
  {
   "cell_type": "code",
   "execution_count": 127,
   "id": "03f3169e-5bc7-404d-8185-823e4df45b64",
   "metadata": {},
   "outputs": [
    {
     "data": {
      "image/png": "[encoded data removed]",
      "text/plain": [
       "<Figure size 504x504 with 2 Axes>"
      ]
     },
     "metadata": {},
     "output_type": "display_data"
    }
   ],
   "source": [
    "f.confusion(pipeline, Xs_train, ys_train)"
   ]
  },
  {
   "cell_type": "code",
   "execution_count": 128,
   "id": "06c436ab-7ff5-40f2-9afc-c9e48005f1fe",
   "metadata": {},
   "outputs": [
    {
     "data": {
      "image/png": "[encoded data removed]",
      "text/plain": [
       "<Figure size 504x504 with 2 Axes>"
      ]
     },
     "metadata": {},
     "output_type": "display_data"
    }
   ],
   "source": [
    "f.confusion(pipeline, Xs_test, ys_test)"
   ]
  },
  {
   "cell_type": "markdown",
   "id": "4a862a8b-72c6-4e7f-a589-b47e6a4ed0e9",
   "metadata": {},
   "source": [
    "## Adding Polynomial Features"
   ]
  },
  {
   "cell_type": "code",
   "execution_count": 129,
   "id": "f6ced270-4431-4f80-a4e0-715a783dc449",
   "metadata": {},
   "outputs": [],
   "source": [
    "preprocessing2 = make_column_transformer((PolynomialFeatures(degree=5, interaction_only=True), number_selector),\n",
    "                                         (OneHotEncoder(handle_unknown='ignore'),string_selector),\n",
    "                                          (StandardScaler(), number_selector))"
   ]
  },
  {
   "cell_type": "code",
   "execution_count": 130,
   "id": "e00afce7-31a7-4364-bca2-7bf3fed95395",
   "metadata": {},
   "outputs": [],
   "source": [
    "preprocessing2.fit_transform(X_train);"
   ]
  },
  {
   "cell_type": "code",
   "execution_count": 131,
   "id": "d64e035b-7141-4496-a510-ff1d2eb90fcd",
   "metadata": {},
   "outputs": [],
   "source": [
    "lr_poly = make_sm_pipeline(preprocessing2, sm, LR_tuned)"
   ]
  },
  {
   "cell_type": "code",
   "execution_count": 132,
   "id": "095bdc90-f2e2-4a53-b00d-57d6580437e1",
   "metadata": {},
   "outputs": [
    {
     "data": {
      "text/plain": [
       "Pipeline(steps=[('columntransformer',\n",
       "                 ColumnTransformer(transformers=[('polynomialfeatures',\n",
       "                                                  PolynomialFeatures(degree=5,\n",
       "                                                                     interaction_only=True),\n",
       "                                                  <sklearn.compose._column_transformer.make_column_selector object at 0x7fa5a60c7370>),\n",
       "                                                 ('onehotencoder',\n",
       "                                                  OneHotEncoder(handle_unknown='ignore'),\n",
       "                                                  <sklearn.compose._column_transformer.make_column_selector object at 0x7fa5a60c7730>),\n",
       "                                                 ('standardscaler',\n",
       "                                                  StandardScaler(),\n",
       "                                                  <sklearn.compose._column_transformer.make_column_selector object at 0x7fa5a60c7370>)])),\n",
       "                ('smote', SMOTE(random_state=2021)),\n",
       "                ('logisticregression',\n",
       "                 LogisticRegression(C=0.01, class_weight='balanced',\n",
       "                                    max_iter=1000, penalty='l1',\n",
       "                                    random_state=2021, solver='liblinear'))])"
      ]
     },
     "execution_count": 132,
     "metadata": {},
     "output_type": "execute_result"
    }
   ],
   "source": [
    "lr_poly.fit(X_train, y_train)"
   ]
  },
  {
   "cell_type": "code",
   "execution_count": 133,
   "id": "3b4fbc61-935b-4b03-85d6-96f4305e6c13",
   "metadata": {},
   "outputs": [
    {
     "data": {
      "text/plain": [
       "0.48725616801468086"
      ]
     },
     "execution_count": 133,
     "metadata": {},
     "output_type": "execute_result"
    }
   ],
   "source": [
    "f1_score(lr_poly.predict(X_train), y_train)"
   ]
  },
  {
   "cell_type": "code",
   "execution_count": 134,
   "id": "17e0ba38-d319-4db1-95d0-bfa86b147bae",
   "metadata": {},
   "outputs": [
    {
     "name": "stdout",
     "output_type": "stream",
     "text": [
      "LR_tuned Poly has an average F1 of 0.48643532433321857\n"
     ]
    },
    {
     "data": {
      "text/plain": [
       "array([0.48940533, 0.48635744, 0.48328877, 0.48204607, 0.49107901])"
      ]
     },
     "execution_count": 134,
     "metadata": {},
     "output_type": "execute_result"
    }
   ],
   "source": [
    "modeling.report(lr_poly, X_train, y_train, 'LR_tuned Poly', 'LR Polys: d=5, interaction_only=True')"
   ]
  },
  {
   "cell_type": "code",
   "execution_count": 135,
   "id": "5bf1c83a-6acc-4a73-834f-2ee057e7479c",
   "metadata": {},
   "outputs": [
    {
     "data": {
      "text/html": [
       "<div>\n",
       "<style scoped>\n",
       "    .dataframe tbody tr th:only-of-type {\n",
       "        vertical-align: middle;\n",
       "    }\n",
       "\n",
       "    .dataframe tbody tr th {\n",
       "        vertical-align: top;\n",
       "    }\n",
       "\n",
       "    .dataframe thead th {\n",
       "        text-align: right;\n",
       "    }\n",
       "</style>\n",
       "<table border=\"1\" class=\"dataframe\">\n",
       "  <thead>\n",
       "    <tr style=\"text-align: right;\">\n",
       "      <th></th>\n",
       "      <th>Name</th>\n",
       "      <th>Accuracy</th>\n",
       "      <th>Notes</th>\n",
       "    </tr>\n",
       "  </thead>\n",
       "  <tbody>\n",
       "    <tr>\n",
       "      <th>0</th>\n",
       "      <td>Baseline</td>\n",
       "      <td>0.293051</td>\n",
       "      <td>KNN - Baseline Features</td>\n",
       "    </tr>\n",
       "    <tr>\n",
       "      <th>1</th>\n",
       "      <td>KNN SMOTE</td>\n",
       "      <td>0.418520</td>\n",
       "      <td>Baseline KNN w/ SMOTE</td>\n",
       "    </tr>\n",
       "    <tr>\n",
       "      <th>2</th>\n",
       "      <td>LR SMOTE</td>\n",
       "      <td>0.478227</td>\n",
       "      <td>Log Reg w/ SMOTE</td>\n",
       "    </tr>\n",
       "    <tr>\n",
       "      <th>3</th>\n",
       "      <td>LR SMOTE</td>\n",
       "      <td>0.478414</td>\n",
       "      <td>Added Officer Age</td>\n",
       "    </tr>\n",
       "    <tr>\n",
       "      <th>4</th>\n",
       "      <td>LR SMOTE</td>\n",
       "      <td>0.478951</td>\n",
       "      <td>Log Reg w/ New Age, Race, Gender Features</td>\n",
       "    </tr>\n",
       "    <tr>\n",
       "      <th>5</th>\n",
       "      <td>LR SMOTE New Age, Race, Gender Features</td>\n",
       "      <td>0.481092</td>\n",
       "      <td>Drpd S Race, O Race NA</td>\n",
       "    </tr>\n",
       "    <tr>\n",
       "      <th>6</th>\n",
       "      <td>LR SMOTE New Age, Race, Gender Features</td>\n",
       "      <td>0.481133</td>\n",
       "      <td>Dropped Subject Race NA</td>\n",
       "    </tr>\n",
       "    <tr>\n",
       "      <th>7</th>\n",
       "      <td>LR SMOTE New Age, Race, Gender Features</td>\n",
       "      <td>0.484212</td>\n",
       "      <td>Dpd Nulls S Race, O Race NA, S Age</td>\n",
       "    </tr>\n",
       "    <tr>\n",
       "      <th>8</th>\n",
       "      <td>LR_bal</td>\n",
       "      <td>0.484212</td>\n",
       "      <td>Dpd Nulls S Race, O Race NA, S Age</td>\n",
       "    </tr>\n",
       "    <tr>\n",
       "      <th>9</th>\n",
       "      <td>LR_tuned</td>\n",
       "      <td>0.486332</td>\n",
       "      <td>C=.01, solver=liblinear, penalty=l1</td>\n",
       "    </tr>\n",
       "    <tr>\n",
       "      <th>10</th>\n",
       "      <td>LR_tuned Poly</td>\n",
       "      <td>0.486435</td>\n",
       "      <td>LR Polys: d=5, interaction_only=True</td>\n",
       "    </tr>\n",
       "  </tbody>\n",
       "</table>\n",
       "</div>"
      ],
      "text/plain": [
       "                                       Name  Accuracy  \\\n",
       "0                                  Baseline  0.293051   \n",
       "1                                 KNN SMOTE  0.418520   \n",
       "2                                  LR SMOTE  0.478227   \n",
       "3                                  LR SMOTE  0.478414   \n",
       "4                                 LR SMOTE   0.478951   \n",
       "5   LR SMOTE New Age, Race, Gender Features  0.481092   \n",
       "6   LR SMOTE New Age, Race, Gender Features  0.481133   \n",
       "7   LR SMOTE New Age, Race, Gender Features  0.484212   \n",
       "8                                    LR_bal  0.484212   \n",
       "9                                  LR_tuned  0.486332   \n",
       "10                            LR_tuned Poly  0.486435   \n",
       "\n",
       "                                        Notes  \n",
       "0                     KNN - Baseline Features  \n",
       "1                       Baseline KNN w/ SMOTE  \n",
       "2                            Log Reg w/ SMOTE  \n",
       "3                           Added Officer Age  \n",
       "4   Log Reg w/ New Age, Race, Gender Features  \n",
       "5                      Drpd S Race, O Race NA  \n",
       "6                     Dropped Subject Race NA  \n",
       "7          Dpd Nulls S Race, O Race NA, S Age  \n",
       "8          Dpd Nulls S Race, O Race NA, S Age  \n",
       "9         C=.01, solver=liblinear, penalty=l1  \n",
       "10       LR Polys: d=5, interaction_only=True  "
      ]
     },
     "execution_count": 135,
     "metadata": {},
     "output_type": "execute_result"
    }
   ],
   "source": [
    "modeling.history"
   ]
  },
  {
   "cell_type": "markdown",
   "id": "755e6807-210a-400c-a1b7-d860bfabaf98",
   "metadata": {
    "tags": []
   },
   "source": [
    "## Testing Tuned Model on Sub-Splits"
   ]
  },
  {
   "cell_type": "code",
   "execution_count": 136,
   "id": "6982aea2-2cf8-4070-90e7-5fed8b0e5c88",
   "metadata": {},
   "outputs": [],
   "source": [
    "Xs_train, Xs_test, ys_train, ys_test = f.splitter(X_train, y_train)"
   ]
  },
  {
   "cell_type": "code",
   "execution_count": 137,
   "id": "1ec8a8df-b151-41b5-b9ea-df56a52007e2",
   "metadata": {},
   "outputs": [
    {
     "data": {
      "text/plain": [
       "Pipeline(steps=[('columntransformer',\n",
       "                 ColumnTransformer(transformers=[('polynomialfeatures',\n",
       "                                                  PolynomialFeatures(degree=5,\n",
       "                                                                     interaction_only=True),\n",
       "                                                  <sklearn.compose._column_transformer.make_column_selector object at 0x7fa5a60c7370>),\n",
       "                                                 ('onehotencoder',\n",
       "                                                  OneHotEncoder(handle_unknown='ignore'),\n",
       "                                                  <sklearn.compose._column_transformer.make_column_selector object at 0x7fa5a60c7730>),\n",
       "                                                 ('standardscaler',\n",
       "                                                  StandardScaler(),\n",
       "                                                  <sklearn.compose._column_transformer.make_column_selector object at 0x7fa5a60c7370>)])),\n",
       "                ('smote', SMOTE(random_state=2021)),\n",
       "                ('logisticregression',\n",
       "                 LogisticRegression(C=0.01, class_weight='balanced',\n",
       "                                    max_iter=1000, penalty='l1',\n",
       "                                    random_state=2021, solver='liblinear'))])"
      ]
     },
     "execution_count": 137,
     "metadata": {},
     "output_type": "execute_result"
    }
   ],
   "source": [
    "pipeline  = make_sm_pipeline(preprocessing2, sm, LR_tuned)\n",
    "pipeline.fit(Xs_train, ys_train)"
   ]
  },
  {
   "cell_type": "code",
   "execution_count": 138,
   "id": "bf5fc9c0-87e9-4246-a857-1b6c748b54cf",
   "metadata": {},
   "outputs": [
    {
     "data": {
      "text/plain": [
       "0.4875338753387534"
      ]
     },
     "execution_count": 138,
     "metadata": {},
     "output_type": "execute_result"
    }
   ],
   "source": [
    "f1_score(pipeline.predict(Xs_train), ys_train)"
   ]
  },
  {
   "cell_type": "code",
   "execution_count": 139,
   "id": "3b2ecb1b-8d18-4d78-8bd8-62d968aee2c4",
   "metadata": {},
   "outputs": [
    {
     "data": {
      "text/plain": [
       "0.4824489795918367"
      ]
     },
     "execution_count": 139,
     "metadata": {},
     "output_type": "execute_result"
    }
   ],
   "source": [
    "f1_score(pipeline.predict(Xs_test), ys_test)"
   ]
  },
  {
   "cell_type": "code",
   "execution_count": 140,
   "id": "a57bf03f-b27f-477a-a73a-7023e4420ccb",
   "metadata": {},
   "outputs": [
    {
     "data": {
      "image/png": "[encoded data removed]",
      "text/plain": [
       "<Figure size 504x504 with 2 Axes>"
      ]
     },
     "metadata": {},
     "output_type": "display_data"
    }
   ],
   "source": [
    "f.confusion(pipeline, Xs_train, ys_train)"
   ]
  },
  {
   "cell_type": "code",
   "execution_count": 141,
   "id": "5bb7856b-ad8b-47f9-bcd9-d0ba8ad08706",
   "metadata": {},
   "outputs": [
    {
     "data": {
      "image/png": "[encoded data removed]",
      "text/plain": [
       "<Figure size 504x504 with 2 Axes>"
      ]
     },
     "metadata": {},
     "output_type": "display_data"
    }
   ],
   "source": [
    "f.confusion(pipeline, Xs_test, ys_test)"
   ]
  },
  {
   "cell_type": "markdown",
   "id": "4d43847e-4d80-44c8-bd2a-fdb5214a3ed0",
   "metadata": {
    "tags": []
   },
   "source": [
    "## Tuning Polys Model without SMOTE"
   ]
  },
  {
   "cell_type": "code",
   "execution_count": 142,
   "id": "b6086603-6379-43b6-9804-78c21e5eb49f",
   "metadata": {},
   "outputs": [
    {
     "name": "stdout",
     "output_type": "stream",
     "text": [
      "LR_unbal has an average F1 of 0.0\n"
     ]
    },
    {
     "data": {
      "text/plain": [
       "array([0., 0., 0., 0., 0.])"
      ]
     },
     "execution_count": 142,
     "metadata": {},
     "output_type": "execute_result"
    }
   ],
   "source": [
    "LR_unbal = LogisticRegression(max_iter=1000, random_state=2021)\n",
    "\n",
    "pipeline  = make_pipeline(preprocessing2, LR_unbal)\n",
    "pipeline.fit(X_train, y_train)\n",
    "f1_score(pipeline.predict(X_train), y_train)\n",
    "modeling.report(pipeline, X_train, y_train, 'LR_unbal',\n",
    "                'polys w/ no smote')"
   ]
  },
  {
   "cell_type": "code",
   "execution_count": 143,
   "id": "1bd5dcab-28fb-4535-a86c-f4052e11d482",
   "metadata": {},
   "outputs": [],
   "source": [
    "# C = np.logspace(-3, 3, 7)\n",
    "# penalty = ['l1', 'l2']\n",
    "# solver = ['liblinear', 'saga']\n",
    "# weight = [None, 'balanced']\n",
    "\n",
    "# grid_values = {'logisticregression__C':C, \n",
    "#                'logisticregression__penalty':penalty,\n",
    "#                'logisticregression__solver':solver,\n",
    "#               'logisticregression__class_weight':weight}\n",
    "\n",
    "# grid_clf_f1 = GridSearchCV(pipeline, param_grid = grid_values, scoring = 'f1')\n",
    "# grid_clf_f1.fit(X_train, y_train)"
   ]
  },
  {
   "cell_type": "code",
   "execution_count": 144,
   "id": "a96cee46-1f5d-4815-99f9-858d6dcbdb4c",
   "metadata": {},
   "outputs": [],
   "source": [
    "# print('Best C:', grid_clf_f1.best_estimator_.get_params()['logisticregression__C'])\n",
    "# print('Best penalty:', grid_clf_f1.best_estimator_.get_params()['logisticregression__penalty'])\n",
    "# print('Best solver:', grid_clf_f1.best_estimator_.get_params()['logisticregression__solver'])\n",
    "# print('Best class weight:', grid_clf_f1.best_estimator_.get_params()['logisticregression__class_weight'])"
   ]
  },
  {
   "cell_type": "code",
   "execution_count": 145,
   "id": "ff352370-7cf7-4292-b383-94cb4a638eb7",
   "metadata": {},
   "outputs": [
    {
     "name": "stdout",
     "output_type": "stream",
     "text": [
      "LR_utuned has an average F1 of 0.4866432358478141\n"
     ]
    },
    {
     "data": {
      "text/plain": [
       "array([0.48885048, 0.48364203, 0.48762165, 0.48121863, 0.4918834 ])"
      ]
     },
     "execution_count": 145,
     "metadata": {},
     "output_type": "execute_result"
    }
   ],
   "source": [
    "LR_utuned = LogisticRegression(max_iter=1000, C=1, penalty='l1',\n",
    "                               solver='liblinear',\n",
    "                               class_weight='balanced',\n",
    "                               random_state=2021)\n",
    "\n",
    "pipeline  = make_pipeline(preprocessing2, LR_utuned)\n",
    "pipeline.fit(X_train, y_train)\n",
    "f1_score(pipeline.predict(X_train), y_train)\n",
    "modeling.report(pipeline, X_train, y_train, 'LR_utuned',\n",
    "                'tuned w/ no smote')"
   ]
  },
  {
   "cell_type": "code",
   "execution_count": 146,
   "id": "b021f3a4-d527-41e5-98f3-b10d208ccc74",
   "metadata": {},
   "outputs": [
    {
     "data": {
      "text/html": [
       "<div>\n",
       "<style scoped>\n",
       "    .dataframe tbody tr th:only-of-type {\n",
       "        vertical-align: middle;\n",
       "    }\n",
       "\n",
       "    .dataframe tbody tr th {\n",
       "        vertical-align: top;\n",
       "    }\n",
       "\n",
       "    .dataframe thead th {\n",
       "        text-align: right;\n",
       "    }\n",
       "</style>\n",
       "<table border=\"1\" class=\"dataframe\">\n",
       "  <thead>\n",
       "    <tr style=\"text-align: right;\">\n",
       "      <th></th>\n",
       "      <th>Name</th>\n",
       "      <th>Accuracy</th>\n",
       "      <th>Notes</th>\n",
       "    </tr>\n",
       "  </thead>\n",
       "  <tbody>\n",
       "    <tr>\n",
       "      <th>0</th>\n",
       "      <td>LR_unbal</td>\n",
       "      <td>0.000000</td>\n",
       "      <td>polys w/ no smote</td>\n",
       "    </tr>\n",
       "    <tr>\n",
       "      <th>1</th>\n",
       "      <td>Baseline</td>\n",
       "      <td>0.293051</td>\n",
       "      <td>KNN - Baseline Features</td>\n",
       "    </tr>\n",
       "    <tr>\n",
       "      <th>2</th>\n",
       "      <td>KNN SMOTE</td>\n",
       "      <td>0.418520</td>\n",
       "      <td>Baseline KNN w/ SMOTE</td>\n",
       "    </tr>\n",
       "    <tr>\n",
       "      <th>3</th>\n",
       "      <td>LR SMOTE</td>\n",
       "      <td>0.478227</td>\n",
       "      <td>Log Reg w/ SMOTE</td>\n",
       "    </tr>\n",
       "    <tr>\n",
       "      <th>4</th>\n",
       "      <td>LR SMOTE</td>\n",
       "      <td>0.478414</td>\n",
       "      <td>Added Officer Age</td>\n",
       "    </tr>\n",
       "    <tr>\n",
       "      <th>5</th>\n",
       "      <td>LR SMOTE</td>\n",
       "      <td>0.478951</td>\n",
       "      <td>Log Reg w/ New Age, Race, Gender Features</td>\n",
       "    </tr>\n",
       "    <tr>\n",
       "      <th>6</th>\n",
       "      <td>LR SMOTE New Age, Race, Gender Features</td>\n",
       "      <td>0.481092</td>\n",
       "      <td>Drpd S Race, O Race NA</td>\n",
       "    </tr>\n",
       "    <tr>\n",
       "      <th>7</th>\n",
       "      <td>LR SMOTE New Age, Race, Gender Features</td>\n",
       "      <td>0.481133</td>\n",
       "      <td>Dropped Subject Race NA</td>\n",
       "    </tr>\n",
       "    <tr>\n",
       "      <th>8</th>\n",
       "      <td>LR SMOTE New Age, Race, Gender Features</td>\n",
       "      <td>0.484212</td>\n",
       "      <td>Dpd Nulls S Race, O Race NA, S Age</td>\n",
       "    </tr>\n",
       "    <tr>\n",
       "      <th>9</th>\n",
       "      <td>LR_bal</td>\n",
       "      <td>0.484212</td>\n",
       "      <td>Dpd Nulls S Race, O Race NA, S Age</td>\n",
       "    </tr>\n",
       "    <tr>\n",
       "      <th>10</th>\n",
       "      <td>LR_tuned</td>\n",
       "      <td>0.486332</td>\n",
       "      <td>C=.01, solver=liblinear, penalty=l1</td>\n",
       "    </tr>\n",
       "    <tr>\n",
       "      <th>11</th>\n",
       "      <td>LR_tuned Poly</td>\n",
       "      <td>0.486435</td>\n",
       "      <td>LR Polys: d=5, interaction_only=True</td>\n",
       "    </tr>\n",
       "    <tr>\n",
       "      <th>12</th>\n",
       "      <td>LR_utuned</td>\n",
       "      <td>0.486643</td>\n",
       "      <td>tuned w/ no smote</td>\n",
       "    </tr>\n",
       "  </tbody>\n",
       "</table>\n",
       "</div>"
      ],
      "text/plain": [
       "                                       Name  Accuracy  \\\n",
       "0                                  LR_unbal  0.000000   \n",
       "1                                  Baseline  0.293051   \n",
       "2                                 KNN SMOTE  0.418520   \n",
       "3                                  LR SMOTE  0.478227   \n",
       "4                                  LR SMOTE  0.478414   \n",
       "5                                 LR SMOTE   0.478951   \n",
       "6   LR SMOTE New Age, Race, Gender Features  0.481092   \n",
       "7   LR SMOTE New Age, Race, Gender Features  0.481133   \n",
       "8   LR SMOTE New Age, Race, Gender Features  0.484212   \n",
       "9                                    LR_bal  0.484212   \n",
       "10                                 LR_tuned  0.486332   \n",
       "11                            LR_tuned Poly  0.486435   \n",
       "12                                LR_utuned  0.486643   \n",
       "\n",
       "                                        Notes  \n",
       "0                           polys w/ no smote  \n",
       "1                     KNN - Baseline Features  \n",
       "2                       Baseline KNN w/ SMOTE  \n",
       "3                            Log Reg w/ SMOTE  \n",
       "4                           Added Officer Age  \n",
       "5   Log Reg w/ New Age, Race, Gender Features  \n",
       "6                      Drpd S Race, O Race NA  \n",
       "7                     Dropped Subject Race NA  \n",
       "8          Dpd Nulls S Race, O Race NA, S Age  \n",
       "9          Dpd Nulls S Race, O Race NA, S Age  \n",
       "10        C=.01, solver=liblinear, penalty=l1  \n",
       "11       LR Polys: d=5, interaction_only=True  \n",
       "12                          tuned w/ no smote  "
      ]
     },
     "execution_count": 146,
     "metadata": {},
     "output_type": "execute_result"
    }
   ],
   "source": [
    "modeling.history"
   ]
  },
  {
   "cell_type": "markdown",
   "id": "e8b2134f-736a-435d-869e-173afb77f19d",
   "metadata": {},
   "source": [
    "## Tuning no SMOTE, No Polys"
   ]
  },
  {
   "cell_type": "code",
   "execution_count": 147,
   "id": "1bf68949-97d3-446e-99fc-66f668f1d1d7",
   "metadata": {},
   "outputs": [
    {
     "name": "stdout",
     "output_type": "stream",
     "text": [
      "LR_unbal has an average F1 of 0.0\n"
     ]
    },
    {
     "data": {
      "text/plain": [
       "array([0., 0., 0., 0., 0.])"
      ]
     },
     "execution_count": 147,
     "metadata": {},
     "output_type": "execute_result"
    }
   ],
   "source": [
    "LR_unbal = LogisticRegression(max_iter=1000, random_state=2021)\n",
    "\n",
    "pipeline  = make_pipeline(preprocessing, LR_unbal)\n",
    "pipeline.fit(X_train, y_train)\n",
    "f1_score(pipeline.predict(X_train), y_train)\n",
    "modeling.report(pipeline, X_train, y_train, 'LR_unbal',\n",
    "                'no polys, no smote')"
   ]
  },
  {
   "cell_type": "code",
   "execution_count": 148,
   "id": "dfa8c5b6-315b-4a19-8a11-e1674f943018",
   "metadata": {},
   "outputs": [],
   "source": [
    "# C = np.logspace(-3, 3, 7)\n",
    "# penalty = ['l1', 'l2']\n",
    "# solver = ['liblinear', 'saga']\n",
    "# weight = [None, 'balanced']\n",
    "\n",
    "# grid_values = {'logisticregression__C':C, \n",
    "#                'logisticregression__penalty':penalty,\n",
    "#                'logisticregression__solver':solver,\n",
    "#               'logisticregression__class_weight':weight}\n",
    "\n",
    "# grid_clf_f1 = GridSearchCV(pipeline, param_grid = grid_values, scoring = 'f1')\n",
    "# grid_clf_f1.fit(X_train, y_train)"
   ]
  },
  {
   "cell_type": "code",
   "execution_count": 149,
   "id": "875b4532-3119-48dd-9c34-04320c79ff18",
   "metadata": {},
   "outputs": [],
   "source": [
    "# print('Best C:', grid_clf_f1.best_estimator_.get_params()['logisticregression__C'])\n",
    "# print('Best penalty:', grid_clf_f1.best_estimator_.get_params()['logisticregression__penalty'])\n",
    "# print('Best solver:', grid_clf_f1.best_estimator_.get_params()['logisticregression__solver'])\n",
    "# print('Best class weight:', grid_clf_f1.best_estimator_.get_params()['logisticregression__class_weight'])"
   ]
  },
  {
   "cell_type": "code",
   "execution_count": 150,
   "id": "ff912bc4-1805-4135-9a57-10ba13f17e19",
   "metadata": {},
   "outputs": [
    {
     "name": "stdout",
     "output_type": "stream",
     "text": [
      "LR_utuned has an average F1 of 0.48643390229220174\n"
     ]
    },
    {
     "data": {
      "text/plain": [
       "array([0.48956551, 0.48408739, 0.486158  , 0.48121585, 0.49114276])"
      ]
     },
     "execution_count": 150,
     "metadata": {},
     "output_type": "execute_result"
    }
   ],
   "source": [
    "LR_utuned = LogisticRegression(max_iter=1000, C=.1, penalty='l1',\n",
    "                               solver='liblinear',\n",
    "                               class_weight='balanced',\n",
    "                               random_state=2021)\n",
    "\n",
    "pipeline  = make_pipeline(preprocessing, LR_utuned)\n",
    "pipeline.fit(X_train, y_train)\n",
    "f1_score(pipeline.predict(X_train), y_train)\n",
    "modeling.report(pipeline, X_train, y_train, 'LR_utuned',\n",
    "                'tuned no polys, no smote')"
   ]
  },
  {
   "cell_type": "code",
   "execution_count": 151,
   "id": "78c10835-cf36-4f25-be92-0cf4b8f0edc3",
   "metadata": {},
   "outputs": [
    {
     "data": {
      "text/html": [
       "<div>\n",
       "<style scoped>\n",
       "    .dataframe tbody tr th:only-of-type {\n",
       "        vertical-align: middle;\n",
       "    }\n",
       "\n",
       "    .dataframe tbody tr th {\n",
       "        vertical-align: top;\n",
       "    }\n",
       "\n",
       "    .dataframe thead th {\n",
       "        text-align: right;\n",
       "    }\n",
       "</style>\n",
       "<table border=\"1\" class=\"dataframe\">\n",
       "  <thead>\n",
       "    <tr style=\"text-align: right;\">\n",
       "      <th></th>\n",
       "      <th>Name</th>\n",
       "      <th>Accuracy</th>\n",
       "      <th>Notes</th>\n",
       "    </tr>\n",
       "  </thead>\n",
       "  <tbody>\n",
       "    <tr>\n",
       "      <th>0</th>\n",
       "      <td>LR_unbal</td>\n",
       "      <td>0.000000</td>\n",
       "      <td>polys w/ no smote</td>\n",
       "    </tr>\n",
       "    <tr>\n",
       "      <th>1</th>\n",
       "      <td>LR_unbal</td>\n",
       "      <td>0.000000</td>\n",
       "      <td>no polys, no smote</td>\n",
       "    </tr>\n",
       "    <tr>\n",
       "      <th>2</th>\n",
       "      <td>Baseline</td>\n",
       "      <td>0.293051</td>\n",
       "      <td>KNN - Baseline Features</td>\n",
       "    </tr>\n",
       "    <tr>\n",
       "      <th>3</th>\n",
       "      <td>KNN SMOTE</td>\n",
       "      <td>0.418520</td>\n",
       "      <td>Baseline KNN w/ SMOTE</td>\n",
       "    </tr>\n",
       "    <tr>\n",
       "      <th>4</th>\n",
       "      <td>LR SMOTE</td>\n",
       "      <td>0.478227</td>\n",
       "      <td>Log Reg w/ SMOTE</td>\n",
       "    </tr>\n",
       "    <tr>\n",
       "      <th>5</th>\n",
       "      <td>LR SMOTE</td>\n",
       "      <td>0.478414</td>\n",
       "      <td>Added Officer Age</td>\n",
       "    </tr>\n",
       "    <tr>\n",
       "      <th>6</th>\n",
       "      <td>LR SMOTE</td>\n",
       "      <td>0.478951</td>\n",
       "      <td>Log Reg w/ New Age, Race, Gender Features</td>\n",
       "    </tr>\n",
       "    <tr>\n",
       "      <th>7</th>\n",
       "      <td>LR SMOTE New Age, Race, Gender Features</td>\n",
       "      <td>0.481092</td>\n",
       "      <td>Drpd S Race, O Race NA</td>\n",
       "    </tr>\n",
       "    <tr>\n",
       "      <th>8</th>\n",
       "      <td>LR SMOTE New Age, Race, Gender Features</td>\n",
       "      <td>0.481133</td>\n",
       "      <td>Dropped Subject Race NA</td>\n",
       "    </tr>\n",
       "    <tr>\n",
       "      <th>9</th>\n",
       "      <td>LR SMOTE New Age, Race, Gender Features</td>\n",
       "      <td>0.484212</td>\n",
       "      <td>Dpd Nulls S Race, O Race NA, S Age</td>\n",
       "    </tr>\n",
       "    <tr>\n",
       "      <th>10</th>\n",
       "      <td>LR_bal</td>\n",
       "      <td>0.484212</td>\n",
       "      <td>Dpd Nulls S Race, O Race NA, S Age</td>\n",
       "    </tr>\n",
       "    <tr>\n",
       "      <th>11</th>\n",
       "      <td>LR_tuned</td>\n",
       "      <td>0.486332</td>\n",
       "      <td>C=.01, solver=liblinear, penalty=l1</td>\n",
       "    </tr>\n",
       "    <tr>\n",
       "      <th>14</th>\n",
       "      <td>LR_utuned</td>\n",
       "      <td>0.486434</td>\n",
       "      <td>tuned no polys, no smote</td>\n",
       "    </tr>\n",
       "    <tr>\n",
       "      <th>12</th>\n",
       "      <td>LR_tuned Poly</td>\n",
       "      <td>0.486435</td>\n",
       "      <td>LR Polys: d=5, interaction_only=True</td>\n",
       "    </tr>\n",
       "    <tr>\n",
       "      <th>13</th>\n",
       "      <td>LR_utuned</td>\n",
       "      <td>0.486643</td>\n",
       "      <td>tuned w/ no smote</td>\n",
       "    </tr>\n",
       "  </tbody>\n",
       "</table>\n",
       "</div>"
      ],
      "text/plain": [
       "                                       Name  Accuracy  \\\n",
       "0                                  LR_unbal  0.000000   \n",
       "1                                  LR_unbal  0.000000   \n",
       "2                                  Baseline  0.293051   \n",
       "3                                 KNN SMOTE  0.418520   \n",
       "4                                  LR SMOTE  0.478227   \n",
       "5                                  LR SMOTE  0.478414   \n",
       "6                                 LR SMOTE   0.478951   \n",
       "7   LR SMOTE New Age, Race, Gender Features  0.481092   \n",
       "8   LR SMOTE New Age, Race, Gender Features  0.481133   \n",
       "9   LR SMOTE New Age, Race, Gender Features  0.484212   \n",
       "10                                   LR_bal  0.484212   \n",
       "11                                 LR_tuned  0.486332   \n",
       "14                                LR_utuned  0.486434   \n",
       "12                            LR_tuned Poly  0.486435   \n",
       "13                                LR_utuned  0.486643   \n",
       "\n",
       "                                        Notes  \n",
       "0                           polys w/ no smote  \n",
       "1                          no polys, no smote  \n",
       "2                     KNN - Baseline Features  \n",
       "3                       Baseline KNN w/ SMOTE  \n",
       "4                            Log Reg w/ SMOTE  \n",
       "5                           Added Officer Age  \n",
       "6   Log Reg w/ New Age, Race, Gender Features  \n",
       "7                      Drpd S Race, O Race NA  \n",
       "8                     Dropped Subject Race NA  \n",
       "9          Dpd Nulls S Race, O Race NA, S Age  \n",
       "10         Dpd Nulls S Race, O Race NA, S Age  \n",
       "11        C=.01, solver=liblinear, penalty=l1  \n",
       "14                   tuned no polys, no smote  \n",
       "12       LR Polys: d=5, interaction_only=True  \n",
       "13                          tuned w/ no smote  "
      ]
     },
     "execution_count": 151,
     "metadata": {},
     "output_type": "execute_result"
    }
   ],
   "source": [
    "modeling.history"
   ]
  },
  {
   "cell_type": "code",
   "execution_count": 152,
   "id": "91b9b06d-bb30-40ed-a4d5-5b046f020fba",
   "metadata": {},
   "outputs": [],
   "source": [
    "Xs_train, Xs_test, ys_train, ys_test = f.splitter(X_train, y_train)"
   ]
  },
  {
   "cell_type": "code",
   "execution_count": 153,
   "id": "4715064f-3827-47ca-a43c-591c8a1c285c",
   "metadata": {},
   "outputs": [
    {
     "data": {
      "text/plain": [
       "Pipeline(steps=[('columntransformer',\n",
       "                 ColumnTransformer(transformers=[('polynomialfeatures',\n",
       "                                                  PolynomialFeatures(degree=5,\n",
       "                                                                     interaction_only=True),\n",
       "                                                  <sklearn.compose._column_transformer.make_column_selector object at 0x7fa5a60c7370>),\n",
       "                                                 ('onehotencoder',\n",
       "                                                  OneHotEncoder(handle_unknown='ignore'),\n",
       "                                                  <sklearn.compose._column_transformer.make_column_selector object at 0x7fa5a60c7730>),\n",
       "                                                 ('standardscaler',\n",
       "                                                  StandardScaler(),\n",
       "                                                  <sklearn.compose._column_transformer.make_column_selector object at 0x7fa5a60c7370>)])),\n",
       "                ('logisticregression',\n",
       "                 LogisticRegression(C=0.01, class_weight='balanced',\n",
       "                                    max_iter=1000, penalty='l1',\n",
       "                                    random_state=2021, solver='liblinear'))])"
      ]
     },
     "execution_count": 153,
     "metadata": {},
     "output_type": "execute_result"
    }
   ],
   "source": [
    "pipeline  = make_pipeline(preprocessing2, LR_tuned)\n",
    "pipeline.fit(Xs_train, ys_train)"
   ]
  },
  {
   "cell_type": "code",
   "execution_count": 154,
   "id": "0577fa2a-71b4-4bee-89c9-9f4c356cb7e3",
   "metadata": {},
   "outputs": [
    {
     "data": {
      "text/plain": [
       "0.48603668365790964"
      ]
     },
     "execution_count": 154,
     "metadata": {},
     "output_type": "execute_result"
    }
   ],
   "source": [
    "f1_score(pipeline.predict(Xs_train), ys_train)"
   ]
  },
  {
   "cell_type": "code",
   "execution_count": 155,
   "id": "b799f865-e51c-4488-9e49-a0b8c4afd1f6",
   "metadata": {},
   "outputs": [
    {
     "data": {
      "text/plain": [
       "0.48650065530799474"
      ]
     },
     "execution_count": 155,
     "metadata": {},
     "output_type": "execute_result"
    }
   ],
   "source": [
    "f1_score(pipeline.predict(Xs_test), ys_test)"
   ]
  },
  {
   "cell_type": "code",
   "execution_count": 156,
   "id": "cf311886-27aa-4a5b-88d0-099745d7ff70",
   "metadata": {},
   "outputs": [
    {
     "data": {
      "image/png": "[encoded data removed]",
      "text/plain": [
       "<Figure size 504x504 with 2 Axes>"
      ]
     },
     "metadata": {},
     "output_type": "display_data"
    }
   ],
   "source": [
    "f.confusion(pipeline, Xs_train, ys_train)"
   ]
  },
  {
   "cell_type": "code",
   "execution_count": 157,
   "id": "c7269d42-5c80-4d5a-99a8-690d8bc2091c",
   "metadata": {},
   "outputs": [
    {
     "data": {
      "image/png": "[encoded data removed]",
      "text/plain": [
       "<Figure size 504x504 with 2 Axes>"
      ]
     },
     "metadata": {},
     "output_type": "display_data"
    }
   ],
   "source": [
    "f.confusion(pipeline, Xs_test, ys_test)"
   ]
  },
  {
   "cell_type": "markdown",
   "id": "b3a790ab-cb93-40cd-8ca6-578748438322",
   "metadata": {},
   "source": [
    "## Decision Tree"
   ]
  },
  {
   "cell_type": "code",
   "execution_count": 158,
   "id": "9bdd0143-5106-48bd-8280-580d9c295f67",
   "metadata": {},
   "outputs": [],
   "source": [
    "# features engineered during eda\n",
    "feature_list3 = ['Weapon Flag', 'Reported Year', 'Reported Month',\n",
    "                'Day of Month', 'Day of Week', 'Reported Hour', 'Beat Flag']"
   ]
  },
  {
   "cell_type": "code",
   "execution_count": 159,
   "id": "f98bf656-10af-4c92-99f3-2030acc88664",
   "metadata": {},
   "outputs": [],
   "source": [
    "excluded3 = ['Weapon Type', 'Officer ID', 'Initial Call Type', 'Final Call Type',\n",
    "             'Call Type', 'Officer Squad', 'Arrest Flag',\n",
    "             'Frisk Flag',  'Sector', 'Beat', 'Weapon Flag',\n",
    "             'Reported Year', 'Reported Month','Day of Month',\n",
    "             'Day of Week', 'Reported Hour', 'Beat Flag']"
   ]
  },
  {
   "cell_type": "code",
   "execution_count": 160,
   "id": "143284ab-87d7-4219-8166-1c7b22afa330",
   "metadata": {},
   "outputs": [],
   "source": [
    "baseline_df2 = f.framer(df, [], excluded3)"
   ]
  },
  {
   "cell_type": "code",
   "execution_count": 161,
   "id": "24a10f21-4c42-4135-9222-95f956823e59",
   "metadata": {},
   "outputs": [
    {
     "data": {
      "text/html": [
       "<div>\n",
       "<style scoped>\n",
       "    .dataframe tbody tr th:only-of-type {\n",
       "        vertical-align: middle;\n",
       "    }\n",
       "\n",
       "    .dataframe tbody tr th {\n",
       "        vertical-align: top;\n",
       "    }\n",
       "\n",
       "    .dataframe thead th {\n",
       "        text-align: right;\n",
       "    }\n",
       "</style>\n",
       "<table border=\"1\" class=\"dataframe\">\n",
       "  <thead>\n",
       "    <tr style=\"text-align: right;\">\n",
       "      <th></th>\n",
       "      <th>Target</th>\n",
       "      <th>Subject Age Group</th>\n",
       "      <th>Officer Gender</th>\n",
       "      <th>Officer Race</th>\n",
       "      <th>Subject Perceived Race</th>\n",
       "      <th>Subject Perceived Gender</th>\n",
       "      <th>Precinct</th>\n",
       "      <th>Officer Age</th>\n",
       "      <th>Racial Affinity</th>\n",
       "      <th>Gender Affinity</th>\n",
       "    </tr>\n",
       "  </thead>\n",
       "  <tbody>\n",
       "    <tr>\n",
       "      <th>0</th>\n",
       "      <td>1</td>\n",
       "      <td>NA</td>\n",
       "      <td>Male</td>\n",
       "      <td>Black</td>\n",
       "      <td>Asian</td>\n",
       "      <td>Male</td>\n",
       "      <td>South</td>\n",
       "      <td>31.0</td>\n",
       "      <td>0</td>\n",
       "      <td>1</td>\n",
       "    </tr>\n",
       "    <tr>\n",
       "      <th>1</th>\n",
       "      <td>0</td>\n",
       "      <td>NA</td>\n",
       "      <td>Male</td>\n",
       "      <td>White</td>\n",
       "      <td>NA</td>\n",
       "      <td>NA</td>\n",
       "      <td>NA</td>\n",
       "      <td>50.0</td>\n",
       "      <td>0</td>\n",
       "      <td>0</td>\n",
       "    </tr>\n",
       "  </tbody>\n",
       "</table>\n",
       "</div>"
      ],
      "text/plain": [
       "   Target Subject Age Group Officer Gender Officer Race  \\\n",
       "0       1                NA           Male        Black   \n",
       "1       0                NA           Male        White   \n",
       "\n",
       "  Subject Perceived Race Subject Perceived Gender Precinct  Officer Age  \\\n",
       "0                  Asian                     Male    South         31.0   \n",
       "1                     NA                       NA       NA         50.0   \n",
       "\n",
       "   Racial Affinity  Gender Affinity  \n",
       "0                0                1  \n",
       "1                0                0  "
      ]
     },
     "execution_count": 161,
     "metadata": {},
     "output_type": "execute_result"
    }
   ],
   "source": [
    "baseline_df2.head(2)"
   ]
  },
  {
   "cell_type": "code",
   "execution_count": 162,
   "id": "ced75d1a-5006-47bb-8e0c-19a370b993a4",
   "metadata": {},
   "outputs": [],
   "source": [
    "X, y = f.Xy(baseline_df2)"
   ]
  },
  {
   "cell_type": "code",
   "execution_count": 163,
   "id": "05901510-a753-4acb-b681-c223d99ca895",
   "metadata": {},
   "outputs": [],
   "source": [
    "X_train, X_test, y_train, y_test = f.splitter(X,y)"
   ]
  },
  {
   "cell_type": "code",
   "execution_count": 164,
   "id": "9026f5f9-476d-435f-95a6-a706c48f1ae3",
   "metadata": {},
   "outputs": [
    {
     "data": {
      "text/plain": [
       "<35193x42 sparse matrix of type '<class 'numpy.float64'>'\n",
       "\twith 316737 stored elements in Compressed Sparse Row format>"
      ]
     },
     "execution_count": 164,
     "metadata": {},
     "output_type": "execute_result"
    }
   ],
   "source": [
    "preprocessing.fit_transform(X_train)"
   ]
  },
  {
   "cell_type": "code",
   "execution_count": 165,
   "id": "cae5c0f7-67cc-4e0b-925a-8225cfb6874a",
   "metadata": {},
   "outputs": [],
   "source": [
    "DT = DecisionTreeClassifier()"
   ]
  },
  {
   "cell_type": "code",
   "execution_count": 166,
   "id": "3a9e9f9e-da93-4449-8680-f9f146478a7e",
   "metadata": {},
   "outputs": [],
   "source": [
    "dt_pipeline = make_sm_pipeline(preprocessing2, DT)"
   ]
  },
  {
   "cell_type": "code",
   "execution_count": 167,
   "id": "f867e1d2-e1cc-42eb-8701-07dde608cee9",
   "metadata": {},
   "outputs": [
    {
     "name": "stdout",
     "output_type": "stream",
     "text": [
      "Tree CLF has an average F1 of 0.2864887597198786\n"
     ]
    },
    {
     "data": {
      "text/plain": [
       "array([0.27078891, 0.29264957, 0.28361345, 0.28419936, 0.3011925 ])"
      ]
     },
     "execution_count": 167,
     "metadata": {},
     "output_type": "execute_result"
    }
   ],
   "source": [
    "modeling.report(dt_pipeline, X_train, y_train, 'Tree CLF', 'Tree w/o SMOTE')"
   ]
  },
  {
   "cell_type": "markdown",
   "id": "16a4cb62-fb8f-4803-b58c-d86e099e6bc7",
   "metadata": {},
   "source": [
    "## Random Forest"
   ]
  },
  {
   "cell_type": "code",
   "execution_count": 168,
   "id": "abc502f0-1740-4487-9a37-803bb6d8295d",
   "metadata": {},
   "outputs": [],
   "source": [
    "RF = RandomForestClassifier(random_state=2021)"
   ]
  },
  {
   "cell_type": "code",
   "execution_count": 169,
   "id": "9e6e1690-0b38-4ac2-bda3-b0df6fcad256",
   "metadata": {},
   "outputs": [],
   "source": [
    "rf_pipeline = make_pipeline(preprocessing, RF)"
   ]
  },
  {
   "cell_type": "code",
   "execution_count": 170,
   "id": "faddb395-619b-4999-8d14-59c53f85d6f9",
   "metadata": {},
   "outputs": [
    {
     "name": "stdout",
     "output_type": "stream",
     "text": [
      "RandomForest has an average F1 of 0.293585299939841\n"
     ]
    },
    {
     "data": {
      "text/plain": [
       "array([0.28670121, 0.29622132, 0.29989659, 0.28531272, 0.29979466])"
      ]
     },
     "execution_count": 170,
     "metadata": {},
     "output_type": "execute_result"
    }
   ],
   "source": [
    "modeling.report(rf_pipeline, X_train, y_train, 'RandomForest', 'Forest w/o SMOTE')"
   ]
  },
  {
   "cell_type": "code",
   "execution_count": 171,
   "id": "76be55be-3684-4d6a-8a41-c74ee40b2cbc",
   "metadata": {},
   "outputs": [
    {
     "data": {
      "text/plain": [
       "dict_keys(['memory', 'steps', 'verbose', 'columntransformer', 'randomforestclassifier', 'columntransformer__n_jobs', 'columntransformer__remainder', 'columntransformer__sparse_threshold', 'columntransformer__transformer_weights', 'columntransformer__transformers', 'columntransformer__verbose', 'columntransformer__onehotencoder', 'columntransformer__standardscaler', 'columntransformer__onehotencoder__categories', 'columntransformer__onehotencoder__drop', 'columntransformer__onehotencoder__dtype', 'columntransformer__onehotencoder__handle_unknown', 'columntransformer__onehotencoder__sparse', 'columntransformer__standardscaler__copy', 'columntransformer__standardscaler__with_mean', 'columntransformer__standardscaler__with_std', 'randomforestclassifier__bootstrap', 'randomforestclassifier__ccp_alpha', 'randomforestclassifier__class_weight', 'randomforestclassifier__criterion', 'randomforestclassifier__max_depth', 'randomforestclassifier__max_features', 'randomforestclassifier__max_leaf_nodes', 'randomforestclassifier__max_samples', 'randomforestclassifier__min_impurity_decrease', 'randomforestclassifier__min_impurity_split', 'randomforestclassifier__min_samples_leaf', 'randomforestclassifier__min_samples_split', 'randomforestclassifier__min_weight_fraction_leaf', 'randomforestclassifier__n_estimators', 'randomforestclassifier__n_jobs', 'randomforestclassifier__oob_score', 'randomforestclassifier__random_state', 'randomforestclassifier__verbose', 'randomforestclassifier__warm_start'])"
      ]
     },
     "execution_count": 171,
     "metadata": {},
     "output_type": "execute_result"
    }
   ],
   "source": [
    "rf_pipeline.get_params().keys()"
   ]
  },
  {
   "cell_type": "code",
   "execution_count": 172,
   "id": "663902fd-0708-40b7-9ba4-e10183b1deb6",
   "metadata": {},
   "outputs": [],
   "source": [
    "# criterion = ['gini', 'entropy']\n",
    "# max_depth = [2, 3, None]\n",
    "# min_samples_split = [2, 5, 10]\n",
    "# class_weight = ['balanced', 'balanced_subsample']\n",
    "\n",
    "# grid_values = {'randomforestclassifier__criterion':criterion, \n",
    "#                'randomforestclassifier__max_depth':max_depth,\n",
    "#                'randomforestclassifier__min_samples_split':min_samples_split,\n",
    "#               'randomforestclassifier__class_weight':class_weight}\n",
    "\n",
    "# grid_rf_f1 = GridSearchCV(rf_pipeline, param_grid = grid_values, scoring = 'f1')\n",
    "# grid_rf_f1.fit(X_train, y_train)"
   ]
  },
  {
   "cell_type": "code",
   "execution_count": 173,
   "id": "aee76a90-117b-4411-8dc4-1246b38a0959",
   "metadata": {},
   "outputs": [],
   "source": [
    "# print('Best criterion:', grid_rf_f1.best_estimator_.get_params()['randomforestclassifier__criterion'])\n",
    "# print('Best max_depth:', grid_rf_f1.best_estimator_.get_params()['randomforestclassifier__max_depth'])\n",
    "# print('Best min_samples_split:', grid_rf_f1.best_estimator_.get_params()['randomforestclassifier__min_samples_split'])\n",
    "# print('Best class weight:', grid_rf_f1.best_estimator_.get_params()['randomforestclassifier__class_weight'])"
   ]
  },
  {
   "cell_type": "code",
   "execution_count": 174,
   "id": "3a9e1e84-8740-45ba-b89c-580de057d92f",
   "metadata": {},
   "outputs": [],
   "source": [
    "RF = RandomForestClassifier(criterion='gini',\n",
    "                            max_depth=3, min_samples_split=2,\n",
    "                            class_weight='balanced',\n",
    "                            random_state=2021)"
   ]
  },
  {
   "cell_type": "code",
   "execution_count": 175,
   "id": "2c415d54-8e80-490d-8996-67dcc0d89a3f",
   "metadata": {},
   "outputs": [],
   "source": [
    "rf_pipeline = make_pipeline(preprocessing, RF)"
   ]
  },
  {
   "cell_type": "code",
   "execution_count": 176,
   "id": "8a5835b4-eb37-46af-90b2-b6b36121dc86",
   "metadata": {},
   "outputs": [
    {
     "name": "stdout",
     "output_type": "stream",
     "text": [
      "RandomForest has an average F1 of 0.47947849021231403\n"
     ]
    },
    {
     "data": {
      "text/plain": [
       "array([0.47679892, 0.48367313, 0.48026534, 0.47664184, 0.48001321])"
      ]
     },
     "execution_count": 176,
     "metadata": {},
     "output_type": "execute_result"
    }
   ],
   "source": [
    "modeling.report(rf_pipeline, X_train, y_train, 'RandomForest', 'Forest w/o SMOTE')"
   ]
  },
  {
   "cell_type": "code",
   "execution_count": 177,
   "id": "56526bfc-ea33-4aab-94ab-241b00f32c15",
   "metadata": {},
   "outputs": [
    {
     "data": {
      "text/html": [
       "<div>\n",
       "<style scoped>\n",
       "    .dataframe tbody tr th:only-of-type {\n",
       "        vertical-align: middle;\n",
       "    }\n",
       "\n",
       "    .dataframe tbody tr th {\n",
       "        vertical-align: top;\n",
       "    }\n",
       "\n",
       "    .dataframe thead th {\n",
       "        text-align: right;\n",
       "    }\n",
       "</style>\n",
       "<table border=\"1\" class=\"dataframe\">\n",
       "  <thead>\n",
       "    <tr style=\"text-align: right;\">\n",
       "      <th></th>\n",
       "      <th>Name</th>\n",
       "      <th>Accuracy</th>\n",
       "      <th>Notes</th>\n",
       "    </tr>\n",
       "  </thead>\n",
       "  <tbody>\n",
       "    <tr>\n",
       "      <th>0</th>\n",
       "      <td>LR_unbal</td>\n",
       "      <td>0.000000</td>\n",
       "      <td>polys w/ no smote</td>\n",
       "    </tr>\n",
       "    <tr>\n",
       "      <th>1</th>\n",
       "      <td>LR_unbal</td>\n",
       "      <td>0.000000</td>\n",
       "      <td>no polys, no smote</td>\n",
       "    </tr>\n",
       "    <tr>\n",
       "      <th>2</th>\n",
       "      <td>Tree CLF</td>\n",
       "      <td>0.286489</td>\n",
       "      <td>Tree w/o SMOTE</td>\n",
       "    </tr>\n",
       "    <tr>\n",
       "      <th>3</th>\n",
       "      <td>Baseline</td>\n",
       "      <td>0.293051</td>\n",
       "      <td>KNN - Baseline Features</td>\n",
       "    </tr>\n",
       "    <tr>\n",
       "      <th>4</th>\n",
       "      <td>RandomForest</td>\n",
       "      <td>0.293585</td>\n",
       "      <td>Forest w/o SMOTE</td>\n",
       "    </tr>\n",
       "    <tr>\n",
       "      <th>5</th>\n",
       "      <td>KNN SMOTE</td>\n",
       "      <td>0.418520</td>\n",
       "      <td>Baseline KNN w/ SMOTE</td>\n",
       "    </tr>\n",
       "    <tr>\n",
       "      <th>6</th>\n",
       "      <td>LR SMOTE</td>\n",
       "      <td>0.478227</td>\n",
       "      <td>Log Reg w/ SMOTE</td>\n",
       "    </tr>\n",
       "    <tr>\n",
       "      <th>7</th>\n",
       "      <td>LR SMOTE</td>\n",
       "      <td>0.478414</td>\n",
       "      <td>Added Officer Age</td>\n",
       "    </tr>\n",
       "    <tr>\n",
       "      <th>8</th>\n",
       "      <td>LR SMOTE</td>\n",
       "      <td>0.478951</td>\n",
       "      <td>Log Reg w/ New Age, Race, Gender Features</td>\n",
       "    </tr>\n",
       "    <tr>\n",
       "      <th>17</th>\n",
       "      <td>RandomForest</td>\n",
       "      <td>0.479478</td>\n",
       "      <td>Forest w/o SMOTE</td>\n",
       "    </tr>\n",
       "    <tr>\n",
       "      <th>9</th>\n",
       "      <td>LR SMOTE New Age, Race, Gender Features</td>\n",
       "      <td>0.481092</td>\n",
       "      <td>Drpd S Race, O Race NA</td>\n",
       "    </tr>\n",
       "    <tr>\n",
       "      <th>10</th>\n",
       "      <td>LR SMOTE New Age, Race, Gender Features</td>\n",
       "      <td>0.481133</td>\n",
       "      <td>Dropped Subject Race NA</td>\n",
       "    </tr>\n",
       "    <tr>\n",
       "      <th>11</th>\n",
       "      <td>LR SMOTE New Age, Race, Gender Features</td>\n",
       "      <td>0.484212</td>\n",
       "      <td>Dpd Nulls S Race, O Race NA, S Age</td>\n",
       "    </tr>\n",
       "    <tr>\n",
       "      <th>12</th>\n",
       "      <td>LR_bal</td>\n",
       "      <td>0.484212</td>\n",
       "      <td>Dpd Nulls S Race, O Race NA, S Age</td>\n",
       "    </tr>\n",
       "    <tr>\n",
       "      <th>13</th>\n",
       "      <td>LR_tuned</td>\n",
       "      <td>0.486332</td>\n",
       "      <td>C=.01, solver=liblinear, penalty=l1</td>\n",
       "    </tr>\n",
       "    <tr>\n",
       "      <th>14</th>\n",
       "      <td>LR_utuned</td>\n",
       "      <td>0.486434</td>\n",
       "      <td>tuned no polys, no smote</td>\n",
       "    </tr>\n",
       "    <tr>\n",
       "      <th>15</th>\n",
       "      <td>LR_tuned Poly</td>\n",
       "      <td>0.486435</td>\n",
       "      <td>LR Polys: d=5, interaction_only=True</td>\n",
       "    </tr>\n",
       "    <tr>\n",
       "      <th>16</th>\n",
       "      <td>LR_utuned</td>\n",
       "      <td>0.486643</td>\n",
       "      <td>tuned w/ no smote</td>\n",
       "    </tr>\n",
       "  </tbody>\n",
       "</table>\n",
       "</div>"
      ],
      "text/plain": [
       "                                       Name  Accuracy  \\\n",
       "0                                  LR_unbal  0.000000   \n",
       "1                                  LR_unbal  0.000000   \n",
       "2                                  Tree CLF  0.286489   \n",
       "3                                  Baseline  0.293051   \n",
       "4                              RandomForest  0.293585   \n",
       "5                                 KNN SMOTE  0.418520   \n",
       "6                                  LR SMOTE  0.478227   \n",
       "7                                  LR SMOTE  0.478414   \n",
       "8                                 LR SMOTE   0.478951   \n",
       "17                             RandomForest  0.479478   \n",
       "9   LR SMOTE New Age, Race, Gender Features  0.481092   \n",
       "10  LR SMOTE New Age, Race, Gender Features  0.481133   \n",
       "11  LR SMOTE New Age, Race, Gender Features  0.484212   \n",
       "12                                   LR_bal  0.484212   \n",
       "13                                 LR_tuned  0.486332   \n",
       "14                                LR_utuned  0.486434   \n",
       "15                            LR_tuned Poly  0.486435   \n",
       "16                                LR_utuned  0.486643   \n",
       "\n",
       "                                        Notes  \n",
       "0                           polys w/ no smote  \n",
       "1                          no polys, no smote  \n",
       "2                              Tree w/o SMOTE  \n",
       "3                     KNN - Baseline Features  \n",
       "4                            Forest w/o SMOTE  \n",
       "5                       Baseline KNN w/ SMOTE  \n",
       "6                            Log Reg w/ SMOTE  \n",
       "7                           Added Officer Age  \n",
       "8   Log Reg w/ New Age, Race, Gender Features  \n",
       "17                           Forest w/o SMOTE  \n",
       "9                      Drpd S Race, O Race NA  \n",
       "10                    Dropped Subject Race NA  \n",
       "11         Dpd Nulls S Race, O Race NA, S Age  \n",
       "12         Dpd Nulls S Race, O Race NA, S Age  \n",
       "13        C=.01, solver=liblinear, penalty=l1  \n",
       "14                   tuned no polys, no smote  \n",
       "15       LR Polys: d=5, interaction_only=True  \n",
       "16                          tuned w/ no smote  "
      ]
     },
     "execution_count": 177,
     "metadata": {},
     "output_type": "execute_result"
    }
   ],
   "source": [
    "modeling.history"
   ]
  },
  {
   "cell_type": "code",
   "execution_count": 180,
   "id": "1f29cf68-e3e9-4a43-a7de-278d9be0099e",
   "metadata": {},
   "outputs": [
    {
     "data": {
      "text/plain": [
       "Pipeline(steps=[('columntransformer',\n",
       "                 ColumnTransformer(transformers=[('onehotencoder',\n",
       "                                                  OneHotEncoder(handle_unknown='ignore'),\n",
       "                                                  <sklearn.compose._column_transformer.make_column_selector object at 0x7fa5a60c7730>),\n",
       "                                                 ('standardscaler',\n",
       "                                                  StandardScaler(),\n",
       "                                                  <sklearn.compose._column_transformer.make_column_selector object at 0x7fa5a60c7370>)])),\n",
       "                ('randomforestclassifier',\n",
       "                 RandomForestClassifier(class_weight='balanced', max_depth=3,\n",
       "                                        random_state=2021))])"
      ]
     },
     "execution_count": 180,
     "metadata": {},
     "output_type": "execute_result"
    }
   ],
   "source": [
    "rf_pipeline.fit(X_train, y_train)"
   ]
  },
  {
   "cell_type": "code",
   "execution_count": 181,
   "id": "8dd8e263-e91a-43e0-8b22-eda268944052",
   "metadata": {},
   "outputs": [
    {
     "data": {
      "image/png": "[encoded data removed]",
      "text/plain": [
       "<Figure size 504x504 with 2 Axes>"
      ]
     },
     "metadata": {},
     "output_type": "display_data"
    }
   ],
   "source": [
    "f.confusion(rf_pipeline, X_train, y_train)"
   ]
  },
  {
   "cell_type": "markdown",
   "id": "1b01282e-dd54-41c3-b7f7-6a67938214b6",
   "metadata": {},
   "source": [
    "## Adding Features\n",
    "### Weapon Flag"
   ]
  },
  {
   "cell_type": "code",
   "execution_count": 182,
   "id": "806e0898-bb36-4034-aa5d-247171fd0fca",
   "metadata": {},
   "outputs": [],
   "source": [
    "dropd4 = df[(df['Subject Perceived Race']!='NA') &\\\n",
    "            (df['Officer Race']!='NA')&\\\n",
    "            (df['Subject Age Group']!='NA')]"
   ]
  },
  {
   "cell_type": "code",
   "execution_count": 183,
   "id": "2e8ad6ea-115d-4015-a3cf-a2c47855d686",
   "metadata": {},
   "outputs": [],
   "source": [
    "# features engineered during eda\n",
    "feature_list = ['Weapon Flag', 'Reported Year', 'Reported Month',\n",
    "                'Day of Month', 'Day of Week', 'Reported Hour', 'Beat Flag']"
   ]
  },
  {
   "cell_type": "code",
   "execution_count": 184,
   "id": "8d169cce-519d-46fb-8db3-8e8227a93fa6",
   "metadata": {},
   "outputs": [],
   "source": [
    "excluded = ['Weapon Type', 'Officer ID', 'Initial Call Type', 'Final Call Type',\n",
    "             'Call Type', 'Officer Squad', 'Arrest Flag',\n",
    "             'Frisk Flag',  'Sector', 'Beat',\n",
    "             'Reported Year', 'Reported Month','Day of Month',\n",
    "             'Day of Week', 'Reported Hour', 'Beat Flag']"
   ]
  },
  {
   "cell_type": "code",
   "execution_count": 185,
   "id": "f0e2c635-ced6-4149-830a-0cfde3c6b11b",
   "metadata": {},
   "outputs": [],
   "source": [
    "# including weapon flag\n",
    "df_7 = f.framer(dropd4, [], excluded)"
   ]
  },
  {
   "cell_type": "code",
   "execution_count": 186,
   "id": "045c5147-100b-4b25-90d8-e465688d7093",
   "metadata": {},
   "outputs": [
    {
     "data": {
      "text/html": [
       "<div>\n",
       "<style scoped>\n",
       "    .dataframe tbody tr th:only-of-type {\n",
       "        vertical-align: middle;\n",
       "    }\n",
       "\n",
       "    .dataframe tbody tr th {\n",
       "        vertical-align: top;\n",
       "    }\n",
       "\n",
       "    .dataframe thead th {\n",
       "        text-align: right;\n",
       "    }\n",
       "</style>\n",
       "<table border=\"1\" class=\"dataframe\">\n",
       "  <thead>\n",
       "    <tr style=\"text-align: right;\">\n",
       "      <th></th>\n",
       "      <th>Target</th>\n",
       "      <th>Subject Age Group</th>\n",
       "      <th>Officer Gender</th>\n",
       "      <th>Officer Race</th>\n",
       "      <th>Subject Perceived Race</th>\n",
       "      <th>Subject Perceived Gender</th>\n",
       "      <th>Precinct</th>\n",
       "      <th>Weapon Flag</th>\n",
       "      <th>Officer Age</th>\n",
       "      <th>Racial Affinity</th>\n",
       "      <th>Gender Affinity</th>\n",
       "    </tr>\n",
       "  </thead>\n",
       "  <tbody>\n",
       "    <tr>\n",
       "      <th>214</th>\n",
       "      <td>0</td>\n",
       "      <td>1 - 17</td>\n",
       "      <td>Male</td>\n",
       "      <td>White</td>\n",
       "      <td>White</td>\n",
       "      <td>Male</td>\n",
       "      <td>NA</td>\n",
       "      <td>0</td>\n",
       "      <td>27.0</td>\n",
       "      <td>1</td>\n",
       "      <td>1</td>\n",
       "    </tr>\n",
       "    <tr>\n",
       "      <th>328</th>\n",
       "      <td>0</td>\n",
       "      <td>36 - 45</td>\n",
       "      <td>Male</td>\n",
       "      <td>White</td>\n",
       "      <td>Asian</td>\n",
       "      <td>Male</td>\n",
       "      <td>NA</td>\n",
       "      <td>0</td>\n",
       "      <td>37.0</td>\n",
       "      <td>0</td>\n",
       "      <td>1</td>\n",
       "    </tr>\n",
       "  </tbody>\n",
       "</table>\n",
       "</div>"
      ],
      "text/plain": [
       "     Target Subject Age Group Officer Gender Officer Race  \\\n",
       "214       0            1 - 17           Male        White   \n",
       "328       0           36 - 45           Male        White   \n",
       "\n",
       "    Subject Perceived Race Subject Perceived Gender Precinct  Weapon Flag  \\\n",
       "214                  White                     Male       NA            0   \n",
       "328                  Asian                     Male       NA            0   \n",
       "\n",
       "     Officer Age  Racial Affinity  Gender Affinity  \n",
       "214         27.0                1                1  \n",
       "328         37.0                0                1  "
      ]
     },
     "execution_count": 186,
     "metadata": {},
     "output_type": "execute_result"
    }
   ],
   "source": [
    "df_7.head(2)"
   ]
  },
  {
   "cell_type": "code",
   "execution_count": 187,
   "id": "d5211780-5318-4527-b617-3a5b06a5412f",
   "metadata": {},
   "outputs": [
    {
     "name": "stdout",
     "output_type": "stream",
     "text": [
      "<class 'pandas.core.frame.DataFrame'>\n",
      "Int64Index: 42589 entries, 214 to 46959\n",
      "Data columns (total 11 columns):\n",
      " #   Column                    Non-Null Count  Dtype  \n",
      "---  ------                    --------------  -----  \n",
      " 0   Target                    42589 non-null  int64  \n",
      " 1   Subject Age Group         42589 non-null  object \n",
      " 2   Officer Gender            42589 non-null  object \n",
      " 3   Officer Race              42589 non-null  object \n",
      " 4   Subject Perceived Race    42589 non-null  object \n",
      " 5   Subject Perceived Gender  42589 non-null  object \n",
      " 6   Precinct                  42589 non-null  object \n",
      " 7   Weapon Flag               42589 non-null  int64  \n",
      " 8   Officer Age               42589 non-null  float64\n",
      " 9   Racial Affinity           42589 non-null  int64  \n",
      " 10  Gender Affinity           42589 non-null  int64  \n",
      "dtypes: float64(1), int64(4), object(6)\n",
      "memory usage: 3.9+ MB\n"
     ]
    }
   ],
   "source": [
    "df_7.info()"
   ]
  },
  {
   "cell_type": "code",
   "execution_count": 188,
   "id": "4e60abf0-8c6c-4afd-9424-2aae6b01ad24",
   "metadata": {},
   "outputs": [],
   "source": [
    "X, y = f.Xy(df_7)"
   ]
  },
  {
   "cell_type": "code",
   "execution_count": 189,
   "id": "3b19a132-c684-4f61-b1b5-3913517e21c6",
   "metadata": {},
   "outputs": [],
   "source": [
    "X_train, X_test, y_train, y_test = f.splitter(X,y)"
   ]
  },
  {
   "cell_type": "code",
   "execution_count": 190,
   "id": "b3dfff33-0f05-4a37-9991-9c19baf01559",
   "metadata": {},
   "outputs": [],
   "source": [
    "precinct = make_pipeline(preprocessing2, LR_utuned)"
   ]
  },
  {
   "cell_type": "code",
   "execution_count": 191,
   "id": "d976dca5-0631-4391-ab15-53a79e037c49",
   "metadata": {},
   "outputs": [
    {
     "data": {
      "text/plain": [
       "Pipeline(steps=[('columntransformer',\n",
       "                 ColumnTransformer(transformers=[('polynomialfeatures',\n",
       "                                                  PolynomialFeatures(degree=5,\n",
       "                                                                     interaction_only=True),\n",
       "                                                  <sklearn.compose._column_transformer.make_column_selector object at 0x7fa5a60c7370>),\n",
       "                                                 ('onehotencoder',\n",
       "                                                  OneHotEncoder(handle_unknown='ignore'),\n",
       "                                                  <sklearn.compose._column_transformer.make_column_selector object at 0x7fa5a60c7730>),\n",
       "                                                 ('standardscaler',\n",
       "                                                  StandardScaler(),\n",
       "                                                  <sklearn.compose._column_transformer.make_column_selector object at 0x7fa5a60c7370>)])),\n",
       "                ('logisticregression',\n",
       "                 LogisticRegression(C=0.1, class_weight='balanced',\n",
       "                                    max_iter=1000, penalty='l1',\n",
       "                                    random_state=2021, solver='liblinear'))])"
      ]
     },
     "execution_count": 191,
     "metadata": {},
     "output_type": "execute_result"
    }
   ],
   "source": [
    "precinct.fit(X_train, y_train)"
   ]
  },
  {
   "cell_type": "code",
   "execution_count": 192,
   "id": "e994ca0c-922b-4e71-bb50-bfe8953d8a3a",
   "metadata": {},
   "outputs": [
    {
     "data": {
      "text/plain": [
       "0.4901048143542369"
      ]
     },
     "execution_count": 192,
     "metadata": {},
     "output_type": "execute_result"
    }
   ],
   "source": [
    "#scoring the model\n",
    "f1_score(precinct.predict(X_train), y_train)"
   ]
  },
  {
   "cell_type": "code",
   "execution_count": 193,
   "id": "0036ca1c-801d-4ab8-81b7-f7697b40e0fb",
   "metadata": {},
   "outputs": [
    {
     "name": "stdout",
     "output_type": "stream",
     "text": [
      "LR+polys, no smote has an average F1 of 0.4886063081525423\n"
     ]
    },
    {
     "data": {
      "text/plain": [
       "array([0.49026549, 0.48639032, 0.48563877, 0.48543689, 0.49530007])"
      ]
     },
     "execution_count": 193,
     "metadata": {},
     "output_type": "execute_result"
    }
   ],
   "source": [
    "# checking cross val scores\n",
    "modeling.report(precinct, X_train, y_train, 'LR+polys, no smote', 'Added Weapon Flag')"
   ]
  },
  {
   "cell_type": "code",
   "execution_count": 194,
   "id": "bb234734-7ae2-4378-a3fb-eedec249f3de",
   "metadata": {},
   "outputs": [
    {
     "data": {
      "text/html": [
       "<div>\n",
       "<style scoped>\n",
       "    .dataframe tbody tr th:only-of-type {\n",
       "        vertical-align: middle;\n",
       "    }\n",
       "\n",
       "    .dataframe tbody tr th {\n",
       "        vertical-align: top;\n",
       "    }\n",
       "\n",
       "    .dataframe thead th {\n",
       "        text-align: right;\n",
       "    }\n",
       "</style>\n",
       "<table border=\"1\" class=\"dataframe\">\n",
       "  <thead>\n",
       "    <tr style=\"text-align: right;\">\n",
       "      <th></th>\n",
       "      <th>Name</th>\n",
       "      <th>Accuracy</th>\n",
       "      <th>Notes</th>\n",
       "    </tr>\n",
       "  </thead>\n",
       "  <tbody>\n",
       "    <tr>\n",
       "      <th>0</th>\n",
       "      <td>LR_unbal</td>\n",
       "      <td>0.000000</td>\n",
       "      <td>polys w/ no smote</td>\n",
       "    </tr>\n",
       "    <tr>\n",
       "      <th>1</th>\n",
       "      <td>LR_unbal</td>\n",
       "      <td>0.000000</td>\n",
       "      <td>no polys, no smote</td>\n",
       "    </tr>\n",
       "    <tr>\n",
       "      <th>2</th>\n",
       "      <td>Tree CLF</td>\n",
       "      <td>0.286489</td>\n",
       "      <td>Tree w/o SMOTE</td>\n",
       "    </tr>\n",
       "    <tr>\n",
       "      <th>3</th>\n",
       "      <td>Baseline</td>\n",
       "      <td>0.293051</td>\n",
       "      <td>KNN - Baseline Features</td>\n",
       "    </tr>\n",
       "    <tr>\n",
       "      <th>4</th>\n",
       "      <td>RandomForest</td>\n",
       "      <td>0.293585</td>\n",
       "      <td>Forest w/o SMOTE</td>\n",
       "    </tr>\n",
       "    <tr>\n",
       "      <th>5</th>\n",
       "      <td>KNN SMOTE</td>\n",
       "      <td>0.418520</td>\n",
       "      <td>Baseline KNN w/ SMOTE</td>\n",
       "    </tr>\n",
       "    <tr>\n",
       "      <th>6</th>\n",
       "      <td>LR SMOTE</td>\n",
       "      <td>0.478227</td>\n",
       "      <td>Log Reg w/ SMOTE</td>\n",
       "    </tr>\n",
       "    <tr>\n",
       "      <th>7</th>\n",
       "      <td>LR SMOTE</td>\n",
       "      <td>0.478414</td>\n",
       "      <td>Added Officer Age</td>\n",
       "    </tr>\n",
       "    <tr>\n",
       "      <th>8</th>\n",
       "      <td>LR SMOTE</td>\n",
       "      <td>0.478951</td>\n",
       "      <td>Log Reg w/ New Age, Race, Gender Features</td>\n",
       "    </tr>\n",
       "    <tr>\n",
       "      <th>9</th>\n",
       "      <td>RandomForest</td>\n",
       "      <td>0.479478</td>\n",
       "      <td>Forest w/o SMOTE</td>\n",
       "    </tr>\n",
       "    <tr>\n",
       "      <th>10</th>\n",
       "      <td>LR SMOTE New Age, Race, Gender Features</td>\n",
       "      <td>0.481092</td>\n",
       "      <td>Drpd S Race, O Race NA</td>\n",
       "    </tr>\n",
       "    <tr>\n",
       "      <th>11</th>\n",
       "      <td>LR SMOTE New Age, Race, Gender Features</td>\n",
       "      <td>0.481133</td>\n",
       "      <td>Dropped Subject Race NA</td>\n",
       "    </tr>\n",
       "    <tr>\n",
       "      <th>12</th>\n",
       "      <td>LR SMOTE New Age, Race, Gender Features</td>\n",
       "      <td>0.484212</td>\n",
       "      <td>Dpd Nulls S Race, O Race NA, S Age</td>\n",
       "    </tr>\n",
       "    <tr>\n",
       "      <th>13</th>\n",
       "      <td>LR_bal</td>\n",
       "      <td>0.484212</td>\n",
       "      <td>Dpd Nulls S Race, O Race NA, S Age</td>\n",
       "    </tr>\n",
       "    <tr>\n",
       "      <th>14</th>\n",
       "      <td>LR_tuned</td>\n",
       "      <td>0.486332</td>\n",
       "      <td>C=.01, solver=liblinear, penalty=l1</td>\n",
       "    </tr>\n",
       "    <tr>\n",
       "      <th>15</th>\n",
       "      <td>LR_utuned</td>\n",
       "      <td>0.486434</td>\n",
       "      <td>tuned no polys, no smote</td>\n",
       "    </tr>\n",
       "    <tr>\n",
       "      <th>16</th>\n",
       "      <td>LR_tuned Poly</td>\n",
       "      <td>0.486435</td>\n",
       "      <td>LR Polys: d=5, interaction_only=True</td>\n",
       "    </tr>\n",
       "    <tr>\n",
       "      <th>17</th>\n",
       "      <td>LR_utuned</td>\n",
       "      <td>0.486643</td>\n",
       "      <td>tuned w/ no smote</td>\n",
       "    </tr>\n",
       "    <tr>\n",
       "      <th>18</th>\n",
       "      <td>LR+polys, no smote</td>\n",
       "      <td>0.488606</td>\n",
       "      <td>Added Weapon Flag</td>\n",
       "    </tr>\n",
       "  </tbody>\n",
       "</table>\n",
       "</div>"
      ],
      "text/plain": [
       "                                       Name  Accuracy  \\\n",
       "0                                  LR_unbal  0.000000   \n",
       "1                                  LR_unbal  0.000000   \n",
       "2                                  Tree CLF  0.286489   \n",
       "3                                  Baseline  0.293051   \n",
       "4                              RandomForest  0.293585   \n",
       "5                                 KNN SMOTE  0.418520   \n",
       "6                                  LR SMOTE  0.478227   \n",
       "7                                  LR SMOTE  0.478414   \n",
       "8                                 LR SMOTE   0.478951   \n",
       "9                              RandomForest  0.479478   \n",
       "10  LR SMOTE New Age, Race, Gender Features  0.481092   \n",
       "11  LR SMOTE New Age, Race, Gender Features  0.481133   \n",
       "12  LR SMOTE New Age, Race, Gender Features  0.484212   \n",
       "13                                   LR_bal  0.484212   \n",
       "14                                 LR_tuned  0.486332   \n",
       "15                                LR_utuned  0.486434   \n",
       "16                            LR_tuned Poly  0.486435   \n",
       "17                                LR_utuned  0.486643   \n",
       "18                       LR+polys, no smote  0.488606   \n",
       "\n",
       "                                        Notes  \n",
       "0                           polys w/ no smote  \n",
       "1                          no polys, no smote  \n",
       "2                              Tree w/o SMOTE  \n",
       "3                     KNN - Baseline Features  \n",
       "4                            Forest w/o SMOTE  \n",
       "5                       Baseline KNN w/ SMOTE  \n",
       "6                            Log Reg w/ SMOTE  \n",
       "7                           Added Officer Age  \n",
       "8   Log Reg w/ New Age, Race, Gender Features  \n",
       "9                            Forest w/o SMOTE  \n",
       "10                     Drpd S Race, O Race NA  \n",
       "11                    Dropped Subject Race NA  \n",
       "12         Dpd Nulls S Race, O Race NA, S Age  \n",
       "13         Dpd Nulls S Race, O Race NA, S Age  \n",
       "14        C=.01, solver=liblinear, penalty=l1  \n",
       "15                   tuned no polys, no smote  \n",
       "16       LR Polys: d=5, interaction_only=True  \n",
       "17                          tuned w/ no smote  \n",
       "18                          Added Weapon Flag  "
      ]
     },
     "execution_count": 194,
     "metadata": {},
     "output_type": "execute_result"
    }
   ],
   "source": [
    "modeling.history"
   ]
  },
  {
   "cell_type": "markdown",
   "id": "e3d048b5-bdcc-4c1e-a23d-51b4d8de5fdd",
   "metadata": {},
   "source": [
    "## Sector Flag"
   ]
  },
  {
   "cell_type": "code",
   "execution_count": 195,
   "id": "5c8a1bfa-5f8e-4914-8d91-7d07bff77ea4",
   "metadata": {},
   "outputs": [],
   "source": [
    "excluded = ['Weapon Type', 'Officer ID', 'Initial Call Type', 'Final Call Type',\n",
    "             'Call Type', 'Officer Squad', 'Arrest Flag',\n",
    "             'Frisk Flag', 'Beat',\n",
    "             'Reported Year', 'Reported Month','Day of Month',\n",
    "             'Day of Week', 'Reported Hour', 'Beat Flag']"
   ]
  },
  {
   "cell_type": "code",
   "execution_count": 196,
   "id": "928ec4f6-204e-440a-ba06-2b3580d8dd7e",
   "metadata": {},
   "outputs": [],
   "source": [
    "# including weapon flag\n",
    "df_8 = f.framer(dropd4, [], excluded)"
   ]
  },
  {
   "cell_type": "code",
   "execution_count": 197,
   "id": "79c6ccce-c1a9-4906-946b-277500b0574d",
   "metadata": {},
   "outputs": [
    {
     "data": {
      "text/html": [
       "<div>\n",
       "<style scoped>\n",
       "    .dataframe tbody tr th:only-of-type {\n",
       "        vertical-align: middle;\n",
       "    }\n",
       "\n",
       "    .dataframe tbody tr th {\n",
       "        vertical-align: top;\n",
       "    }\n",
       "\n",
       "    .dataframe thead th {\n",
       "        text-align: right;\n",
       "    }\n",
       "</style>\n",
       "<table border=\"1\" class=\"dataframe\">\n",
       "  <thead>\n",
       "    <tr style=\"text-align: right;\">\n",
       "      <th></th>\n",
       "      <th>Target</th>\n",
       "      <th>Subject Age Group</th>\n",
       "      <th>Officer Gender</th>\n",
       "      <th>Officer Race</th>\n",
       "      <th>Subject Perceived Race</th>\n",
       "      <th>Subject Perceived Gender</th>\n",
       "      <th>Precinct</th>\n",
       "      <th>Sector</th>\n",
       "      <th>Weapon Flag</th>\n",
       "      <th>Officer Age</th>\n",
       "      <th>Racial Affinity</th>\n",
       "      <th>Gender Affinity</th>\n",
       "    </tr>\n",
       "  </thead>\n",
       "  <tbody>\n",
       "    <tr>\n",
       "      <th>214</th>\n",
       "      <td>0</td>\n",
       "      <td>1 - 17</td>\n",
       "      <td>Male</td>\n",
       "      <td>White</td>\n",
       "      <td>White</td>\n",
       "      <td>Male</td>\n",
       "      <td>NA</td>\n",
       "      <td>NA</td>\n",
       "      <td>0</td>\n",
       "      <td>27.0</td>\n",
       "      <td>1</td>\n",
       "      <td>1</td>\n",
       "    </tr>\n",
       "    <tr>\n",
       "      <th>328</th>\n",
       "      <td>0</td>\n",
       "      <td>36 - 45</td>\n",
       "      <td>Male</td>\n",
       "      <td>White</td>\n",
       "      <td>Asian</td>\n",
       "      <td>Male</td>\n",
       "      <td>NA</td>\n",
       "      <td>NA</td>\n",
       "      <td>0</td>\n",
       "      <td>37.0</td>\n",
       "      <td>0</td>\n",
       "      <td>1</td>\n",
       "    </tr>\n",
       "  </tbody>\n",
       "</table>\n",
       "</div>"
      ],
      "text/plain": [
       "     Target Subject Age Group Officer Gender Officer Race  \\\n",
       "214       0            1 - 17           Male        White   \n",
       "328       0           36 - 45           Male        White   \n",
       "\n",
       "    Subject Perceived Race Subject Perceived Gender Precinct Sector  \\\n",
       "214                  White                     Male       NA     NA   \n",
       "328                  Asian                     Male       NA     NA   \n",
       "\n",
       "     Weapon Flag  Officer Age  Racial Affinity  Gender Affinity  \n",
       "214            0         27.0                1                1  \n",
       "328            0         37.0                0                1  "
      ]
     },
     "execution_count": 197,
     "metadata": {},
     "output_type": "execute_result"
    }
   ],
   "source": [
    "df_8.head(2)"
   ]
  },
  {
   "cell_type": "code",
   "execution_count": 198,
   "id": "02524bca-fe5a-48dc-9565-2494b1d56f42",
   "metadata": {},
   "outputs": [],
   "source": [
    "X, y = f.Xy(df_8)"
   ]
  },
  {
   "cell_type": "code",
   "execution_count": 199,
   "id": "9e2f2818-7d47-45aa-911b-15fbfdd99f63",
   "metadata": {},
   "outputs": [],
   "source": [
    "X_train, X_test, y_train, y_test = f.splitter(X,y)"
   ]
  },
  {
   "cell_type": "code",
   "execution_count": 200,
   "id": "7fe62a8f-169b-4e82-bba4-5262c2300fb5",
   "metadata": {},
   "outputs": [],
   "source": [
    "sector = make_pipeline(preprocessing2, LR_utuned)"
   ]
  },
  {
   "cell_type": "code",
   "execution_count": 201,
   "id": "4a86b525-b2f6-4db0-a31f-0ece02ecf7b0",
   "metadata": {},
   "outputs": [
    {
     "data": {
      "text/plain": [
       "Pipeline(steps=[('columntransformer',\n",
       "                 ColumnTransformer(transformers=[('polynomialfeatures',\n",
       "                                                  PolynomialFeatures(degree=5,\n",
       "                                                                     interaction_only=True),\n",
       "                                                  <sklearn.compose._column_transformer.make_column_selector object at 0x7fa5a60c7370>),\n",
       "                                                 ('onehotencoder',\n",
       "                                                  OneHotEncoder(handle_unknown='ignore'),\n",
       "                                                  <sklearn.compose._column_transformer.make_column_selector object at 0x7fa5a60c7730>),\n",
       "                                                 ('standardscaler',\n",
       "                                                  StandardScaler(),\n",
       "                                                  <sklearn.compose._column_transformer.make_column_selector object at 0x7fa5a60c7370>)])),\n",
       "                ('logisticregression',\n",
       "                 LogisticRegression(C=0.1, class_weight='balanced',\n",
       "                                    max_iter=1000, penalty='l1',\n",
       "                                    random_state=2021, solver='liblinear'))])"
      ]
     },
     "execution_count": 201,
     "metadata": {},
     "output_type": "execute_result"
    }
   ],
   "source": [
    "sector.fit(X_train, y_train)"
   ]
  },
  {
   "cell_type": "code",
   "execution_count": 202,
   "id": "2fbccd19-7259-4944-888d-0657c904c307",
   "metadata": {},
   "outputs": [
    {
     "data": {
      "text/plain": [
       "0.49085146232531346"
      ]
     },
     "execution_count": 202,
     "metadata": {},
     "output_type": "execute_result"
    }
   ],
   "source": [
    "#scoring the model\n",
    "f1_score(sector.predict(X_train), y_train)"
   ]
  },
  {
   "cell_type": "code",
   "execution_count": 203,
   "id": "d1ffd01f-79da-4be0-b255-3e40252744d2",
   "metadata": {},
   "outputs": [
    {
     "name": "stdout",
     "output_type": "stream",
     "text": [
      "LR+polys, no smote has an average F1 of 0.48877256166330857\n"
     ]
    },
    {
     "data": {
      "text/plain": [
       "array([0.48758546, 0.48566308, 0.48754448, 0.48981779, 0.49325199])"
      ]
     },
     "execution_count": 203,
     "metadata": {},
     "output_type": "execute_result"
    }
   ],
   "source": [
    "# checking cross val scores\n",
    "modeling.report(sector, X_train, y_train, 'LR+polys, no smote', 'Added Sector Flag')"
   ]
  },
  {
   "cell_type": "code",
   "execution_count": 204,
   "id": "0c1902f0-f6f7-4c09-968d-14e631800b0a",
   "metadata": {},
   "outputs": [
    {
     "data": {
      "text/html": [
       "<div>\n",
       "<style scoped>\n",
       "    .dataframe tbody tr th:only-of-type {\n",
       "        vertical-align: middle;\n",
       "    }\n",
       "\n",
       "    .dataframe tbody tr th {\n",
       "        vertical-align: top;\n",
       "    }\n",
       "\n",
       "    .dataframe thead th {\n",
       "        text-align: right;\n",
       "    }\n",
       "</style>\n",
       "<table border=\"1\" class=\"dataframe\">\n",
       "  <thead>\n",
       "    <tr style=\"text-align: right;\">\n",
       "      <th></th>\n",
       "      <th>Name</th>\n",
       "      <th>Accuracy</th>\n",
       "      <th>Notes</th>\n",
       "    </tr>\n",
       "  </thead>\n",
       "  <tbody>\n",
       "    <tr>\n",
       "      <th>0</th>\n",
       "      <td>LR_unbal</td>\n",
       "      <td>0.000000</td>\n",
       "      <td>polys w/ no smote</td>\n",
       "    </tr>\n",
       "    <tr>\n",
       "      <th>1</th>\n",
       "      <td>LR_unbal</td>\n",
       "      <td>0.000000</td>\n",
       "      <td>no polys, no smote</td>\n",
       "    </tr>\n",
       "    <tr>\n",
       "      <th>2</th>\n",
       "      <td>Tree CLF</td>\n",
       "      <td>0.286489</td>\n",
       "      <td>Tree w/o SMOTE</td>\n",
       "    </tr>\n",
       "    <tr>\n",
       "      <th>3</th>\n",
       "      <td>Baseline</td>\n",
       "      <td>0.293051</td>\n",
       "      <td>KNN - Baseline Features</td>\n",
       "    </tr>\n",
       "    <tr>\n",
       "      <th>4</th>\n",
       "      <td>RandomForest</td>\n",
       "      <td>0.293585</td>\n",
       "      <td>Forest w/o SMOTE</td>\n",
       "    </tr>\n",
       "    <tr>\n",
       "      <th>5</th>\n",
       "      <td>KNN SMOTE</td>\n",
       "      <td>0.418520</td>\n",
       "      <td>Baseline KNN w/ SMOTE</td>\n",
       "    </tr>\n",
       "    <tr>\n",
       "      <th>6</th>\n",
       "      <td>LR SMOTE</td>\n",
       "      <td>0.478227</td>\n",
       "      <td>Log Reg w/ SMOTE</td>\n",
       "    </tr>\n",
       "    <tr>\n",
       "      <th>7</th>\n",
       "      <td>LR SMOTE</td>\n",
       "      <td>0.478414</td>\n",
       "      <td>Added Officer Age</td>\n",
       "    </tr>\n",
       "    <tr>\n",
       "      <th>8</th>\n",
       "      <td>LR SMOTE</td>\n",
       "      <td>0.478951</td>\n",
       "      <td>Log Reg w/ New Age, Race, Gender Features</td>\n",
       "    </tr>\n",
       "    <tr>\n",
       "      <th>9</th>\n",
       "      <td>RandomForest</td>\n",
       "      <td>0.479478</td>\n",
       "      <td>Forest w/o SMOTE</td>\n",
       "    </tr>\n",
       "    <tr>\n",
       "      <th>10</th>\n",
       "      <td>LR SMOTE New Age, Race, Gender Features</td>\n",
       "      <td>0.481092</td>\n",
       "      <td>Drpd S Race, O Race NA</td>\n",
       "    </tr>\n",
       "    <tr>\n",
       "      <th>11</th>\n",
       "      <td>LR SMOTE New Age, Race, Gender Features</td>\n",
       "      <td>0.481133</td>\n",
       "      <td>Dropped Subject Race NA</td>\n",
       "    </tr>\n",
       "    <tr>\n",
       "      <th>12</th>\n",
       "      <td>LR SMOTE New Age, Race, Gender Features</td>\n",
       "      <td>0.484212</td>\n",
       "      <td>Dpd Nulls S Race, O Race NA, S Age</td>\n",
       "    </tr>\n",
       "    <tr>\n",
       "      <th>13</th>\n",
       "      <td>LR_bal</td>\n",
       "      <td>0.484212</td>\n",
       "      <td>Dpd Nulls S Race, O Race NA, S Age</td>\n",
       "    </tr>\n",
       "    <tr>\n",
       "      <th>14</th>\n",
       "      <td>LR_tuned</td>\n",
       "      <td>0.486332</td>\n",
       "      <td>C=.01, solver=liblinear, penalty=l1</td>\n",
       "    </tr>\n",
       "    <tr>\n",
       "      <th>15</th>\n",
       "      <td>LR_utuned</td>\n",
       "      <td>0.486434</td>\n",
       "      <td>tuned no polys, no smote</td>\n",
       "    </tr>\n",
       "    <tr>\n",
       "      <th>16</th>\n",
       "      <td>LR_tuned Poly</td>\n",
       "      <td>0.486435</td>\n",
       "      <td>LR Polys: d=5, interaction_only=True</td>\n",
       "    </tr>\n",
       "    <tr>\n",
       "      <th>17</th>\n",
       "      <td>LR_utuned</td>\n",
       "      <td>0.486643</td>\n",
       "      <td>tuned w/ no smote</td>\n",
       "    </tr>\n",
       "    <tr>\n",
       "      <th>18</th>\n",
       "      <td>LR+polys, no smote</td>\n",
       "      <td>0.488606</td>\n",
       "      <td>Added Weapon Flag</td>\n",
       "    </tr>\n",
       "    <tr>\n",
       "      <th>19</th>\n",
       "      <td>LR+polys, no smote</td>\n",
       "      <td>0.488773</td>\n",
       "      <td>Added Sector Flag</td>\n",
       "    </tr>\n",
       "  </tbody>\n",
       "</table>\n",
       "</div>"
      ],
      "text/plain": [
       "                                       Name  Accuracy  \\\n",
       "0                                  LR_unbal  0.000000   \n",
       "1                                  LR_unbal  0.000000   \n",
       "2                                  Tree CLF  0.286489   \n",
       "3                                  Baseline  0.293051   \n",
       "4                              RandomForest  0.293585   \n",
       "5                                 KNN SMOTE  0.418520   \n",
       "6                                  LR SMOTE  0.478227   \n",
       "7                                  LR SMOTE  0.478414   \n",
       "8                                 LR SMOTE   0.478951   \n",
       "9                              RandomForest  0.479478   \n",
       "10  LR SMOTE New Age, Race, Gender Features  0.481092   \n",
       "11  LR SMOTE New Age, Race, Gender Features  0.481133   \n",
       "12  LR SMOTE New Age, Race, Gender Features  0.484212   \n",
       "13                                   LR_bal  0.484212   \n",
       "14                                 LR_tuned  0.486332   \n",
       "15                                LR_utuned  0.486434   \n",
       "16                            LR_tuned Poly  0.486435   \n",
       "17                                LR_utuned  0.486643   \n",
       "18                       LR+polys, no smote  0.488606   \n",
       "19                       LR+polys, no smote  0.488773   \n",
       "\n",
       "                                        Notes  \n",
       "0                           polys w/ no smote  \n",
       "1                          no polys, no smote  \n",
       "2                              Tree w/o SMOTE  \n",
       "3                     KNN - Baseline Features  \n",
       "4                            Forest w/o SMOTE  \n",
       "5                       Baseline KNN w/ SMOTE  \n",
       "6                            Log Reg w/ SMOTE  \n",
       "7                           Added Officer Age  \n",
       "8   Log Reg w/ New Age, Race, Gender Features  \n",
       "9                            Forest w/o SMOTE  \n",
       "10                     Drpd S Race, O Race NA  \n",
       "11                    Dropped Subject Race NA  \n",
       "12         Dpd Nulls S Race, O Race NA, S Age  \n",
       "13         Dpd Nulls S Race, O Race NA, S Age  \n",
       "14        C=.01, solver=liblinear, penalty=l1  \n",
       "15                   tuned no polys, no smote  \n",
       "16       LR Polys: d=5, interaction_only=True  \n",
       "17                          tuned w/ no smote  \n",
       "18                          Added Weapon Flag  \n",
       "19                          Added Sector Flag  "
      ]
     },
     "execution_count": 204,
     "metadata": {},
     "output_type": "execute_result"
    }
   ],
   "source": [
    "modeling.history"
   ]
  },
  {
   "cell_type": "markdown",
   "id": "04cc892f-80dc-46ac-8a3f-77f17442be25",
   "metadata": {},
   "source": [
    "## Beat"
   ]
  },
  {
   "cell_type": "code",
   "execution_count": 205,
   "id": "c4e212ac-12bb-4f1b-a1a1-4a959fd9577d",
   "metadata": {},
   "outputs": [],
   "source": [
    "excluded = ['Weapon Type', 'Officer ID', 'Initial Call Type', 'Final Call Type',\n",
    "             'Call Type', 'Officer Squad', 'Arrest Flag',\n",
    "             'Frisk Flag',\n",
    "             'Reported Year', 'Reported Month','Day of Month',\n",
    "             'Day of Week', 'Reported Hour', 'Beat Flag']"
   ]
  },
  {
   "cell_type": "code",
   "execution_count": 206,
   "id": "488cba85-c03a-43fd-8808-4241cd38b5e4",
   "metadata": {},
   "outputs": [],
   "source": [
    "# including weapon flag\n",
    "df_9 = f.framer(dropd4, [], excluded)"
   ]
  },
  {
   "cell_type": "code",
   "execution_count": 207,
   "id": "45b14dfd-651a-4839-a204-ff9de6c9c7c2",
   "metadata": {},
   "outputs": [
    {
     "data": {
      "text/html": [
       "<div>\n",
       "<style scoped>\n",
       "    .dataframe tbody tr th:only-of-type {\n",
       "        vertical-align: middle;\n",
       "    }\n",
       "\n",
       "    .dataframe tbody tr th {\n",
       "        vertical-align: top;\n",
       "    }\n",
       "\n",
       "    .dataframe thead th {\n",
       "        text-align: right;\n",
       "    }\n",
       "</style>\n",
       "<table border=\"1\" class=\"dataframe\">\n",
       "  <thead>\n",
       "    <tr style=\"text-align: right;\">\n",
       "      <th></th>\n",
       "      <th>Target</th>\n",
       "      <th>Subject Age Group</th>\n",
       "      <th>Officer Gender</th>\n",
       "      <th>Officer Race</th>\n",
       "      <th>Subject Perceived Race</th>\n",
       "      <th>Subject Perceived Gender</th>\n",
       "      <th>Precinct</th>\n",
       "      <th>Sector</th>\n",
       "      <th>Beat</th>\n",
       "      <th>Weapon Flag</th>\n",
       "      <th>Officer Age</th>\n",
       "      <th>Racial Affinity</th>\n",
       "      <th>Gender Affinity</th>\n",
       "    </tr>\n",
       "  </thead>\n",
       "  <tbody>\n",
       "    <tr>\n",
       "      <th>214</th>\n",
       "      <td>0</td>\n",
       "      <td>1 - 17</td>\n",
       "      <td>Male</td>\n",
       "      <td>White</td>\n",
       "      <td>White</td>\n",
       "      <td>Male</td>\n",
       "      <td>NA</td>\n",
       "      <td>NA</td>\n",
       "      <td>NA</td>\n",
       "      <td>0</td>\n",
       "      <td>27.0</td>\n",
       "      <td>1</td>\n",
       "      <td>1</td>\n",
       "    </tr>\n",
       "    <tr>\n",
       "      <th>328</th>\n",
       "      <td>0</td>\n",
       "      <td>36 - 45</td>\n",
       "      <td>Male</td>\n",
       "      <td>White</td>\n",
       "      <td>Asian</td>\n",
       "      <td>Male</td>\n",
       "      <td>NA</td>\n",
       "      <td>NA</td>\n",
       "      <td>NA</td>\n",
       "      <td>0</td>\n",
       "      <td>37.0</td>\n",
       "      <td>0</td>\n",
       "      <td>1</td>\n",
       "    </tr>\n",
       "  </tbody>\n",
       "</table>\n",
       "</div>"
      ],
      "text/plain": [
       "     Target Subject Age Group Officer Gender Officer Race  \\\n",
       "214       0            1 - 17           Male        White   \n",
       "328       0           36 - 45           Male        White   \n",
       "\n",
       "    Subject Perceived Race Subject Perceived Gender Precinct Sector Beat  \\\n",
       "214                  White                     Male       NA     NA   NA   \n",
       "328                  Asian                     Male       NA     NA   NA   \n",
       "\n",
       "     Weapon Flag  Officer Age  Racial Affinity  Gender Affinity  \n",
       "214            0         27.0                1                1  \n",
       "328            0         37.0                0                1  "
      ]
     },
     "execution_count": 207,
     "metadata": {},
     "output_type": "execute_result"
    }
   ],
   "source": [
    "df_9.head(2)"
   ]
  },
  {
   "cell_type": "code",
   "execution_count": 208,
   "id": "777ea8f6-94f7-466a-a5c8-0c075bec8ccf",
   "metadata": {},
   "outputs": [],
   "source": [
    "X, y = f.Xy(df_9)"
   ]
  },
  {
   "cell_type": "code",
   "execution_count": 209,
   "id": "3b7e4f3b-dbbd-430f-b918-1c3b8d496984",
   "metadata": {},
   "outputs": [],
   "source": [
    "X_train, X_test, y_train, y_test = f.splitter(X,y)"
   ]
  },
  {
   "cell_type": "code",
   "execution_count": 210,
   "id": "ebdbdbe0-35e0-4348-ac5a-8b887983e417",
   "metadata": {},
   "outputs": [],
   "source": [
    "beat = make_pipeline(preprocessing2, LR_utuned)"
   ]
  },
  {
   "cell_type": "code",
   "execution_count": 211,
   "id": "ae1e73b5-9034-4519-885a-c04b3b39f80c",
   "metadata": {},
   "outputs": [
    {
     "data": {
      "text/plain": [
       "Pipeline(steps=[('columntransformer',\n",
       "                 ColumnTransformer(transformers=[('polynomialfeatures',\n",
       "                                                  PolynomialFeatures(degree=5,\n",
       "                                                                     interaction_only=True),\n",
       "                                                  <sklearn.compose._column_transformer.make_column_selector object at 0x7fa5a60c7370>),\n",
       "                                                 ('onehotencoder',\n",
       "                                                  OneHotEncoder(handle_unknown='ignore'),\n",
       "                                                  <sklearn.compose._column_transformer.make_column_selector object at 0x7fa5a60c7730>),\n",
       "                                                 ('standardscaler',\n",
       "                                                  StandardScaler(),\n",
       "                                                  <sklearn.compose._column_transformer.make_column_selector object at 0x7fa5a60c7370>)])),\n",
       "                ('logisticregression',\n",
       "                 LogisticRegression(C=0.1, class_weight='balanced',\n",
       "                                    max_iter=1000, penalty='l1',\n",
       "                                    random_state=2021, solver='liblinear'))])"
      ]
     },
     "execution_count": 211,
     "metadata": {},
     "output_type": "execute_result"
    }
   ],
   "source": [
    "beat.fit(X_train, y_train)"
   ]
  },
  {
   "cell_type": "code",
   "execution_count": 212,
   "id": "3205338e-3434-4f04-9c19-cb14f382fcee",
   "metadata": {},
   "outputs": [
    {
     "data": {
      "text/plain": [
       "0.49252705098975863"
      ]
     },
     "execution_count": 212,
     "metadata": {},
     "output_type": "execute_result"
    }
   ],
   "source": [
    "#scoring the model\n",
    "f1_score(beat.predict(X_train), y_train)"
   ]
  },
  {
   "cell_type": "code",
   "execution_count": 213,
   "id": "b373ccb0-cedb-48d5-8a36-b19f1cdc2fd5",
   "metadata": {},
   "outputs": [
    {
     "name": "stdout",
     "output_type": "stream",
     "text": [
      "LR+polys, no smote has an average F1 of 0.4888316198454178\n"
     ]
    },
    {
     "data": {
      "text/plain": [
       "array([0.48789302, 0.48591423, 0.48875402, 0.48931202, 0.49228481])"
      ]
     },
     "execution_count": 213,
     "metadata": {},
     "output_type": "execute_result"
    }
   ],
   "source": [
    "# checking cross val scores\n",
    "modeling.report(beat, X_train, y_train, 'LR+polys, no smote', 'Added Beat')"
   ]
  },
  {
   "cell_type": "code",
   "execution_count": 214,
   "id": "806c078d-b5f8-4bd4-8230-442dc1538b59",
   "metadata": {},
   "outputs": [
    {
     "data": {
      "text/html": [
       "<div>\n",
       "<style scoped>\n",
       "    .dataframe tbody tr th:only-of-type {\n",
       "        vertical-align: middle;\n",
       "    }\n",
       "\n",
       "    .dataframe tbody tr th {\n",
       "        vertical-align: top;\n",
       "    }\n",
       "\n",
       "    .dataframe thead th {\n",
       "        text-align: right;\n",
       "    }\n",
       "</style>\n",
       "<table border=\"1\" class=\"dataframe\">\n",
       "  <thead>\n",
       "    <tr style=\"text-align: right;\">\n",
       "      <th></th>\n",
       "      <th>Name</th>\n",
       "      <th>Accuracy</th>\n",
       "      <th>Notes</th>\n",
       "    </tr>\n",
       "  </thead>\n",
       "  <tbody>\n",
       "    <tr>\n",
       "      <th>0</th>\n",
       "      <td>LR_unbal</td>\n",
       "      <td>0.000000</td>\n",
       "      <td>polys w/ no smote</td>\n",
       "    </tr>\n",
       "    <tr>\n",
       "      <th>1</th>\n",
       "      <td>LR_unbal</td>\n",
       "      <td>0.000000</td>\n",
       "      <td>no polys, no smote</td>\n",
       "    </tr>\n",
       "    <tr>\n",
       "      <th>2</th>\n",
       "      <td>Tree CLF</td>\n",
       "      <td>0.286489</td>\n",
       "      <td>Tree w/o SMOTE</td>\n",
       "    </tr>\n",
       "    <tr>\n",
       "      <th>3</th>\n",
       "      <td>Baseline</td>\n",
       "      <td>0.293051</td>\n",
       "      <td>KNN - Baseline Features</td>\n",
       "    </tr>\n",
       "    <tr>\n",
       "      <th>4</th>\n",
       "      <td>RandomForest</td>\n",
       "      <td>0.293585</td>\n",
       "      <td>Forest w/o SMOTE</td>\n",
       "    </tr>\n",
       "    <tr>\n",
       "      <th>5</th>\n",
       "      <td>KNN SMOTE</td>\n",
       "      <td>0.418520</td>\n",
       "      <td>Baseline KNN w/ SMOTE</td>\n",
       "    </tr>\n",
       "    <tr>\n",
       "      <th>6</th>\n",
       "      <td>LR SMOTE</td>\n",
       "      <td>0.478227</td>\n",
       "      <td>Log Reg w/ SMOTE</td>\n",
       "    </tr>\n",
       "    <tr>\n",
       "      <th>7</th>\n",
       "      <td>LR SMOTE</td>\n",
       "      <td>0.478414</td>\n",
       "      <td>Added Officer Age</td>\n",
       "    </tr>\n",
       "    <tr>\n",
       "      <th>8</th>\n",
       "      <td>LR SMOTE</td>\n",
       "      <td>0.478951</td>\n",
       "      <td>Log Reg w/ New Age, Race, Gender Features</td>\n",
       "    </tr>\n",
       "    <tr>\n",
       "      <th>9</th>\n",
       "      <td>RandomForest</td>\n",
       "      <td>0.479478</td>\n",
       "      <td>Forest w/o SMOTE</td>\n",
       "    </tr>\n",
       "    <tr>\n",
       "      <th>10</th>\n",
       "      <td>LR SMOTE New Age, Race, Gender Features</td>\n",
       "      <td>0.481092</td>\n",
       "      <td>Drpd S Race, O Race NA</td>\n",
       "    </tr>\n",
       "    <tr>\n",
       "      <th>11</th>\n",
       "      <td>LR SMOTE New Age, Race, Gender Features</td>\n",
       "      <td>0.481133</td>\n",
       "      <td>Dropped Subject Race NA</td>\n",
       "    </tr>\n",
       "    <tr>\n",
       "      <th>12</th>\n",
       "      <td>LR SMOTE New Age, Race, Gender Features</td>\n",
       "      <td>0.484212</td>\n",
       "      <td>Dpd Nulls S Race, O Race NA, S Age</td>\n",
       "    </tr>\n",
       "    <tr>\n",
       "      <th>13</th>\n",
       "      <td>LR_bal</td>\n",
       "      <td>0.484212</td>\n",
       "      <td>Dpd Nulls S Race, O Race NA, S Age</td>\n",
       "    </tr>\n",
       "    <tr>\n",
       "      <th>14</th>\n",
       "      <td>LR_tuned</td>\n",
       "      <td>0.486332</td>\n",
       "      <td>C=.01, solver=liblinear, penalty=l1</td>\n",
       "    </tr>\n",
       "    <tr>\n",
       "      <th>15</th>\n",
       "      <td>LR_utuned</td>\n",
       "      <td>0.486434</td>\n",
       "      <td>tuned no polys, no smote</td>\n",
       "    </tr>\n",
       "    <tr>\n",
       "      <th>16</th>\n",
       "      <td>LR_tuned Poly</td>\n",
       "      <td>0.486435</td>\n",
       "      <td>LR Polys: d=5, interaction_only=True</td>\n",
       "    </tr>\n",
       "    <tr>\n",
       "      <th>17</th>\n",
       "      <td>LR_utuned</td>\n",
       "      <td>0.486643</td>\n",
       "      <td>tuned w/ no smote</td>\n",
       "    </tr>\n",
       "    <tr>\n",
       "      <th>18</th>\n",
       "      <td>LR+polys, no smote</td>\n",
       "      <td>0.488606</td>\n",
       "      <td>Added Weapon Flag</td>\n",
       "    </tr>\n",
       "    <tr>\n",
       "      <th>19</th>\n",
       "      <td>LR+polys, no smote</td>\n",
       "      <td>0.488773</td>\n",
       "      <td>Added Sector Flag</td>\n",
       "    </tr>\n",
       "    <tr>\n",
       "      <th>20</th>\n",
       "      <td>LR+polys, no smote</td>\n",
       "      <td>0.488832</td>\n",
       "      <td>Added Beat</td>\n",
       "    </tr>\n",
       "  </tbody>\n",
       "</table>\n",
       "</div>"
      ],
      "text/plain": [
       "                                       Name  Accuracy  \\\n",
       "0                                  LR_unbal  0.000000   \n",
       "1                                  LR_unbal  0.000000   \n",
       "2                                  Tree CLF  0.286489   \n",
       "3                                  Baseline  0.293051   \n",
       "4                              RandomForest  0.293585   \n",
       "5                                 KNN SMOTE  0.418520   \n",
       "6                                  LR SMOTE  0.478227   \n",
       "7                                  LR SMOTE  0.478414   \n",
       "8                                 LR SMOTE   0.478951   \n",
       "9                              RandomForest  0.479478   \n",
       "10  LR SMOTE New Age, Race, Gender Features  0.481092   \n",
       "11  LR SMOTE New Age, Race, Gender Features  0.481133   \n",
       "12  LR SMOTE New Age, Race, Gender Features  0.484212   \n",
       "13                                   LR_bal  0.484212   \n",
       "14                                 LR_tuned  0.486332   \n",
       "15                                LR_utuned  0.486434   \n",
       "16                            LR_tuned Poly  0.486435   \n",
       "17                                LR_utuned  0.486643   \n",
       "18                       LR+polys, no smote  0.488606   \n",
       "19                       LR+polys, no smote  0.488773   \n",
       "20                       LR+polys, no smote  0.488832   \n",
       "\n",
       "                                        Notes  \n",
       "0                           polys w/ no smote  \n",
       "1                          no polys, no smote  \n",
       "2                              Tree w/o SMOTE  \n",
       "3                     KNN - Baseline Features  \n",
       "4                            Forest w/o SMOTE  \n",
       "5                       Baseline KNN w/ SMOTE  \n",
       "6                            Log Reg w/ SMOTE  \n",
       "7                           Added Officer Age  \n",
       "8   Log Reg w/ New Age, Race, Gender Features  \n",
       "9                            Forest w/o SMOTE  \n",
       "10                     Drpd S Race, O Race NA  \n",
       "11                    Dropped Subject Race NA  \n",
       "12         Dpd Nulls S Race, O Race NA, S Age  \n",
       "13         Dpd Nulls S Race, O Race NA, S Age  \n",
       "14        C=.01, solver=liblinear, penalty=l1  \n",
       "15                   tuned no polys, no smote  \n",
       "16       LR Polys: d=5, interaction_only=True  \n",
       "17                          tuned w/ no smote  \n",
       "18                          Added Weapon Flag  \n",
       "19                          Added Sector Flag  \n",
       "20                                 Added Beat  "
      ]
     },
     "execution_count": 214,
     "metadata": {},
     "output_type": "execute_result"
    }
   ],
   "source": [
    "modeling.history"
   ]
  },
  {
   "cell_type": "markdown",
   "id": "4605ce79-ba01-4148-be05-59f249540661",
   "metadata": {},
   "source": [
    "## Testing on SubSplits"
   ]
  },
  {
   "cell_type": "code",
   "execution_count": 215,
   "id": "51568106-2090-4fb3-805c-921d8b1c619e",
   "metadata": {},
   "outputs": [],
   "source": [
    "Xs_train, Xs_test, ys_train , ys_test = f.splitter(X_train, y_train)"
   ]
  },
  {
   "cell_type": "code",
   "execution_count": 216,
   "id": "6ec4cb99-1a6a-4159-8c22-5467a39c9473",
   "metadata": {},
   "outputs": [
    {
     "data": {
      "text/plain": [
       "<23955x195 sparse matrix of type '<class 'numpy.float64'>'\n",
       "\twith 413348 stored elements in Compressed Sparse Row format>"
      ]
     },
     "execution_count": 216,
     "metadata": {},
     "output_type": "execute_result"
    }
   ],
   "source": [
    "preprocessing2.fit_transform(Xs_train)"
   ]
  },
  {
   "cell_type": "code",
   "execution_count": 217,
   "id": "eadeb89c-62dd-4fb7-9eb2-35ac23c05c47",
   "metadata": {},
   "outputs": [],
   "source": [
    "sub_pipeline = make_pipeline(preprocessing2, LR_utuned)"
   ]
  },
  {
   "cell_type": "code",
   "execution_count": 218,
   "id": "39e957eb-38c3-4954-8739-f952f1df50ff",
   "metadata": {},
   "outputs": [
    {
     "data": {
      "text/plain": [
       "Pipeline(steps=[('columntransformer',\n",
       "                 ColumnTransformer(transformers=[('polynomialfeatures',\n",
       "                                                  PolynomialFeatures(degree=5,\n",
       "                                                                     interaction_only=True),\n",
       "                                                  <sklearn.compose._column_transformer.make_column_selector object at 0x7fa5a60c7370>),\n",
       "                                                 ('onehotencoder',\n",
       "                                                  OneHotEncoder(handle_unknown='ignore'),\n",
       "                                                  <sklearn.compose._column_transformer.make_column_selector object at 0x7fa5a60c7730>),\n",
       "                                                 ('standardscaler',\n",
       "                                                  StandardScaler(),\n",
       "                                                  <sklearn.compose._column_transformer.make_column_selector object at 0x7fa5a60c7370>)])),\n",
       "                ('logisticregression',\n",
       "                 LogisticRegression(C=0.1, class_weight='balanced',\n",
       "                                    max_iter=1000, penalty='l1',\n",
       "                                    random_state=2021, solver='liblinear'))])"
      ]
     },
     "execution_count": 218,
     "metadata": {},
     "output_type": "execute_result"
    }
   ],
   "source": [
    "sub_pipeline.fit(Xs_train, ys_train)"
   ]
  },
  {
   "cell_type": "code",
   "execution_count": 219,
   "id": "fcb68c11-afab-4ea3-8bfe-a07cb5478926",
   "metadata": {},
   "outputs": [
    {
     "data": {
      "text/plain": [
       "0.49353780864197533"
      ]
     },
     "execution_count": 219,
     "metadata": {},
     "output_type": "execute_result"
    }
   ],
   "source": [
    "f1_score(sub_pipeline.predict(Xs_train), ys_train)"
   ]
  },
  {
   "cell_type": "code",
   "execution_count": 220,
   "id": "3a624ccc-d1ab-4884-8bdd-43a0f7a08fea",
   "metadata": {},
   "outputs": [
    {
     "data": {
      "text/plain": [
       "0.4843659525188187"
      ]
     },
     "execution_count": 220,
     "metadata": {},
     "output_type": "execute_result"
    }
   ],
   "source": [
    "f1_score(sub_pipeline.predict(Xs_test), ys_test)"
   ]
  },
  {
   "cell_type": "code",
   "execution_count": 221,
   "id": "bfdd5e5b-f232-4ebd-a51c-ecf7315b103f",
   "metadata": {},
   "outputs": [
    {
     "name": "stdout",
     "output_type": "stream",
     "text": [
      "LR Polys has an average F1 of 0.48857302110636047\n"
     ]
    },
    {
     "data": {
      "text/plain": [
       "array([0.48829431, 0.48626506, 0.48609432, 0.49508747, 0.48712395])"
      ]
     },
     "execution_count": 221,
     "metadata": {},
     "output_type": "execute_result"
    }
   ],
   "source": [
    "modeling.report(sub_pipeline, Xs_train, ys_train, 'LR Polys', 'more features  training')"
   ]
  },
  {
   "cell_type": "code",
   "execution_count": 222,
   "id": "16dcada8-a250-479a-ba73-749d0eae128a",
   "metadata": {},
   "outputs": [
    {
     "data": {
      "image/png": "[encoded data removed]",
      "text/plain": [
       "<Figure size 504x504 with 2 Axes>"
      ]
     },
     "metadata": {},
     "output_type": "display_data"
    }
   ],
   "source": [
    "f.confusion(sub_pipeline, Xs_train, ys_train)"
   ]
  },
  {
   "cell_type": "code",
   "execution_count": 223,
   "id": "5227aba3-03ad-4ef8-9219-30061b8c940b",
   "metadata": {},
   "outputs": [
    {
     "name": "stdout",
     "output_type": "stream",
     "text": [
      "LR_Polys has an average F1 of 0.48801506594159927\n"
     ]
    },
    {
     "data": {
      "text/plain": [
       "array([0.50105263, 0.489301  , 0.47142857, 0.48825623, 0.4900369 ])"
      ]
     },
     "execution_count": 223,
     "metadata": {},
     "output_type": "execute_result"
    }
   ],
   "source": [
    "modeling.report(sub_pipeline, Xs_test, ys_test, 'LR_Polys', 'More Features testing')"
   ]
  },
  {
   "cell_type": "code",
   "execution_count": 224,
   "id": "7ae16db7-8a6a-4a43-8ffb-6722603f8b49",
   "metadata": {},
   "outputs": [
    {
     "data": {
      "image/png": "[encoded data removed]",
      "text/plain": [
       "<Figure size 504x504 with 2 Axes>"
      ]
     },
     "metadata": {},
     "output_type": "display_data"
    }
   ],
   "source": [
    "f.confusion(sub_pipeline, Xs_test, ys_test)"
   ]
  },
  {
   "cell_type": "code",
   "execution_count": 225,
   "id": "dc2dc881-1a10-4ad9-a636-ed8cca687df4",
   "metadata": {},
   "outputs": [
    {
     "data": {
      "text/html": [
       "<div>\n",
       "<style scoped>\n",
       "    .dataframe tbody tr th:only-of-type {\n",
       "        vertical-align: middle;\n",
       "    }\n",
       "\n",
       "    .dataframe tbody tr th {\n",
       "        vertical-align: top;\n",
       "    }\n",
       "\n",
       "    .dataframe thead th {\n",
       "        text-align: right;\n",
       "    }\n",
       "</style>\n",
       "<table border=\"1\" class=\"dataframe\">\n",
       "  <thead>\n",
       "    <tr style=\"text-align: right;\">\n",
       "      <th></th>\n",
       "      <th>Name</th>\n",
       "      <th>Accuracy</th>\n",
       "      <th>Notes</th>\n",
       "    </tr>\n",
       "  </thead>\n",
       "  <tbody>\n",
       "    <tr>\n",
       "      <th>0</th>\n",
       "      <td>LR_unbal</td>\n",
       "      <td>0.000000</td>\n",
       "      <td>polys w/ no smote</td>\n",
       "    </tr>\n",
       "    <tr>\n",
       "      <th>1</th>\n",
       "      <td>LR_unbal</td>\n",
       "      <td>0.000000</td>\n",
       "      <td>no polys, no smote</td>\n",
       "    </tr>\n",
       "    <tr>\n",
       "      <th>2</th>\n",
       "      <td>Tree CLF</td>\n",
       "      <td>0.286489</td>\n",
       "      <td>Tree w/o SMOTE</td>\n",
       "    </tr>\n",
       "    <tr>\n",
       "      <th>3</th>\n",
       "      <td>Baseline</td>\n",
       "      <td>0.293051</td>\n",
       "      <td>KNN - Baseline Features</td>\n",
       "    </tr>\n",
       "    <tr>\n",
       "      <th>4</th>\n",
       "      <td>RandomForest</td>\n",
       "      <td>0.293585</td>\n",
       "      <td>Forest w/o SMOTE</td>\n",
       "    </tr>\n",
       "    <tr>\n",
       "      <th>5</th>\n",
       "      <td>KNN SMOTE</td>\n",
       "      <td>0.418520</td>\n",
       "      <td>Baseline KNN w/ SMOTE</td>\n",
       "    </tr>\n",
       "    <tr>\n",
       "      <th>6</th>\n",
       "      <td>LR SMOTE</td>\n",
       "      <td>0.478227</td>\n",
       "      <td>Log Reg w/ SMOTE</td>\n",
       "    </tr>\n",
       "    <tr>\n",
       "      <th>7</th>\n",
       "      <td>LR SMOTE</td>\n",
       "      <td>0.478414</td>\n",
       "      <td>Added Officer Age</td>\n",
       "    </tr>\n",
       "    <tr>\n",
       "      <th>8</th>\n",
       "      <td>LR SMOTE</td>\n",
       "      <td>0.478951</td>\n",
       "      <td>Log Reg w/ New Age, Race, Gender Features</td>\n",
       "    </tr>\n",
       "    <tr>\n",
       "      <th>9</th>\n",
       "      <td>RandomForest</td>\n",
       "      <td>0.479478</td>\n",
       "      <td>Forest w/o SMOTE</td>\n",
       "    </tr>\n",
       "    <tr>\n",
       "      <th>10</th>\n",
       "      <td>LR SMOTE New Age, Race, Gender Features</td>\n",
       "      <td>0.481092</td>\n",
       "      <td>Drpd S Race, O Race NA</td>\n",
       "    </tr>\n",
       "    <tr>\n",
       "      <th>11</th>\n",
       "      <td>LR SMOTE New Age, Race, Gender Features</td>\n",
       "      <td>0.481133</td>\n",
       "      <td>Dropped Subject Race NA</td>\n",
       "    </tr>\n",
       "    <tr>\n",
       "      <th>12</th>\n",
       "      <td>LR SMOTE New Age, Race, Gender Features</td>\n",
       "      <td>0.484212</td>\n",
       "      <td>Dpd Nulls S Race, O Race NA, S Age</td>\n",
       "    </tr>\n",
       "    <tr>\n",
       "      <th>13</th>\n",
       "      <td>LR_bal</td>\n",
       "      <td>0.484212</td>\n",
       "      <td>Dpd Nulls S Race, O Race NA, S Age</td>\n",
       "    </tr>\n",
       "    <tr>\n",
       "      <th>14</th>\n",
       "      <td>LR_tuned</td>\n",
       "      <td>0.486332</td>\n",
       "      <td>C=.01, solver=liblinear, penalty=l1</td>\n",
       "    </tr>\n",
       "    <tr>\n",
       "      <th>15</th>\n",
       "      <td>LR_utuned</td>\n",
       "      <td>0.486434</td>\n",
       "      <td>tuned no polys, no smote</td>\n",
       "    </tr>\n",
       "    <tr>\n",
       "      <th>16</th>\n",
       "      <td>LR_tuned Poly</td>\n",
       "      <td>0.486435</td>\n",
       "      <td>LR Polys: d=5, interaction_only=True</td>\n",
       "    </tr>\n",
       "    <tr>\n",
       "      <th>17</th>\n",
       "      <td>LR_utuned</td>\n",
       "      <td>0.486643</td>\n",
       "      <td>tuned w/ no smote</td>\n",
       "    </tr>\n",
       "    <tr>\n",
       "      <th>22</th>\n",
       "      <td>LR_Polys</td>\n",
       "      <td>0.488015</td>\n",
       "      <td>More Features testing</td>\n",
       "    </tr>\n",
       "    <tr>\n",
       "      <th>18</th>\n",
       "      <td>LR Polys</td>\n",
       "      <td>0.488573</td>\n",
       "      <td>more features  training</td>\n",
       "    </tr>\n",
       "    <tr>\n",
       "      <th>19</th>\n",
       "      <td>LR+polys, no smote</td>\n",
       "      <td>0.488606</td>\n",
       "      <td>Added Weapon Flag</td>\n",
       "    </tr>\n",
       "    <tr>\n",
       "      <th>20</th>\n",
       "      <td>LR+polys, no smote</td>\n",
       "      <td>0.488773</td>\n",
       "      <td>Added Sector Flag</td>\n",
       "    </tr>\n",
       "    <tr>\n",
       "      <th>21</th>\n",
       "      <td>LR+polys, no smote</td>\n",
       "      <td>0.488832</td>\n",
       "      <td>Added Beat</td>\n",
       "    </tr>\n",
       "  </tbody>\n",
       "</table>\n",
       "</div>"
      ],
      "text/plain": [
       "                                       Name  Accuracy  \\\n",
       "0                                  LR_unbal  0.000000   \n",
       "1                                  LR_unbal  0.000000   \n",
       "2                                  Tree CLF  0.286489   \n",
       "3                                  Baseline  0.293051   \n",
       "4                              RandomForest  0.293585   \n",
       "5                                 KNN SMOTE  0.418520   \n",
       "6                                  LR SMOTE  0.478227   \n",
       "7                                  LR SMOTE  0.478414   \n",
       "8                                 LR SMOTE   0.478951   \n",
       "9                              RandomForest  0.479478   \n",
       "10  LR SMOTE New Age, Race, Gender Features  0.481092   \n",
       "11  LR SMOTE New Age, Race, Gender Features  0.481133   \n",
       "12  LR SMOTE New Age, Race, Gender Features  0.484212   \n",
       "13                                   LR_bal  0.484212   \n",
       "14                                 LR_tuned  0.486332   \n",
       "15                                LR_utuned  0.486434   \n",
       "16                            LR_tuned Poly  0.486435   \n",
       "17                                LR_utuned  0.486643   \n",
       "22                                 LR_Polys  0.488015   \n",
       "18                                 LR Polys  0.488573   \n",
       "19                       LR+polys, no smote  0.488606   \n",
       "20                       LR+polys, no smote  0.488773   \n",
       "21                       LR+polys, no smote  0.488832   \n",
       "\n",
       "                                        Notes  \n",
       "0                           polys w/ no smote  \n",
       "1                          no polys, no smote  \n",
       "2                              Tree w/o SMOTE  \n",
       "3                     KNN - Baseline Features  \n",
       "4                            Forest w/o SMOTE  \n",
       "5                       Baseline KNN w/ SMOTE  \n",
       "6                            Log Reg w/ SMOTE  \n",
       "7                           Added Officer Age  \n",
       "8   Log Reg w/ New Age, Race, Gender Features  \n",
       "9                            Forest w/o SMOTE  \n",
       "10                     Drpd S Race, O Race NA  \n",
       "11                    Dropped Subject Race NA  \n",
       "12         Dpd Nulls S Race, O Race NA, S Age  \n",
       "13         Dpd Nulls S Race, O Race NA, S Age  \n",
       "14        C=.01, solver=liblinear, penalty=l1  \n",
       "15                   tuned no polys, no smote  \n",
       "16       LR Polys: d=5, interaction_only=True  \n",
       "17                          tuned w/ no smote  \n",
       "22                      More Features testing  \n",
       "18                    more features  training  \n",
       "19                          Added Weapon Flag  \n",
       "20                          Added Sector Flag  \n",
       "21                                 Added Beat  "
      ]
     },
     "execution_count": 225,
     "metadata": {},
     "output_type": "execute_result"
    }
   ],
   "source": [
    "modeling.history"
   ]
  }
 ],
 "metadata": {
  "kernelspec": {
   "display_name": "terry_stops",
   "language": "python",
   "name": "terry_stops"
  },
  "language_info": {
   "codemirror_mode": {
    "name": "ipython",
    "version": 3
   },
   "file_extension": ".py",
   "mimetype": "text/x-python",
   "name": "python",
   "nbconvert_exporter": "python",
   "pygments_lexer": "ipython3",
   "version": "3.9.4"
  }
 },
 "nbformat": 4,
 "nbformat_minor": 5
}
