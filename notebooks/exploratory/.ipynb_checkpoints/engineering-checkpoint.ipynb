{
 "cells": [
  {
   "cell_type": "code",
   "execution_count": null,
   "id": "dec765fd-7cf9-4b53-9647-18921634ffb3",
   "metadata": {},
   "outputs": [],
   "source": [
    "%load_ext autoreload\n",
    "%autoreload 2"
   ]
  },
  {
   "cell_type": "markdown",
   "id": "d5f0aa29-e754-4817-885f-28b1c75a673c",
   "metadata": {},
   "source": [
    "## Package Imports & Setup "
   ]
  },
  {
   "cell_type": "code",
   "execution_count": null,
   "id": "e7e827e0-c324-49a5-9c8a-6acd8a4a32dd",
   "metadata": {},
   "outputs": [],
   "source": [
    "# setting project path\n",
    "import os\n",
    "import sys\n",
    "\n",
    "gparent = os.path.join(os.pardir, os.pardir)\n",
    "sys.path.append(gparent)\n",
    "\n",
    "# imports\n",
    "import pandas as pd\n",
    "import numpy as np\n",
    "\n",
    "from sklearn.model_selection import StratifiedKFold\n",
    "from sklearn.model_selection import train_test_split\n",
    "from sklearn.model_selection import cross_val_score\n",
    "from sklearn.model_selection import GridSearchCV\n",
    "from sklearn.preprocessing import OneHotEncoder\n",
    "from sklearn.preprocessing import StandardScaler\n",
    "from sklearn.preprocessing import MinMaxScaler, PolynomialFeatures\n",
    "from sklearn.compose import make_column_selector\n",
    "from sklearn.compose import make_column_transformer\n",
    "from sklearn.pipeline import make_pipeline \n",
    "from sklearn.metrics import accuracy_score, recall_score, precision_score, f1_score\n",
    "from sklearn.metrics import make_scorer, plot_confusion_matrix\n",
    "from sklearn.linear_model import LogisticRegression\n",
    "from sklearn.neighbors import KNeighborsClassifier\n",
    "from sklearn.base import clone\n",
    "from sklearn.tree import DecisionTreeClassifier\n",
    "from sklearn.ensemble import RandomForestClassifier\n",
    "\n",
    "from imblearn.over_sampling import SMOTE\n",
    "from imblearn.pipeline import make_pipeline as make_sm_pipeline\n",
    "\n",
    "from boruta import BorutaPy\n",
    "\n",
    "from src import classes as c\n",
    "from src import functions as f\n",
    "import matplotlib.pyplot as plt\n",
    "import seaborn as sns\n",
    "\n",
    "# setting style\n",
    "sns.set_theme('talk')\n",
    "plt.style.use('fivethirtyeight')\n",
    "sns.set_palette(palette='Blues_r')"
   ]
  },
  {
   "cell_type": "markdown",
   "id": "2b7ec8ba-446d-4c17-8aaf-f92dbc62454c",
   "metadata": {},
   "source": [
    "## Importing the Data"
   ]
  },
  {
   "cell_type": "code",
   "execution_count": null,
   "id": "959930a8-49d5-44fa-b4be-6f380b385b05",
   "metadata": {},
   "outputs": [],
   "source": [
    "path = os.path.join(gparent, 'data/processed', 'modeling.csv')\n",
    "df = pd.read_csv(path, keep_default_na=False)"
   ]
  },
  {
   "cell_type": "markdown",
   "id": "89d003b1-9e09-4cb4-b910-d21ec32be028",
   "metadata": {},
   "source": [
    "## Preprocessing and Harness Objects"
   ]
  },
  {
   "cell_type": "code",
   "execution_count": null,
   "id": "21082e75-a9f7-4ae6-ace5-81e27c6d4e59",
   "metadata": {},
   "outputs": [],
   "source": [
    "string_selector = make_column_selector(dtype_include='object')\n",
    "number_selector = make_column_selector(dtype_include='number', dtype_exclude='object')\n",
    "\n",
    "preprocessing = make_column_transformer((OneHotEncoder\n",
    "                                         (handle_unknown='ignore'),string_selector),\n",
    "                                          (StandardScaler(), number_selector))\n",
    "\n",
    "sm = SMOTE(random_state=2021)"
   ]
  },
  {
   "cell_type": "code",
   "execution_count": null,
   "id": "30b55b51-7e25-4099-ae62-ec44d025cef9",
   "metadata": {},
   "outputs": [],
   "source": [
    "# creating f1 scorer\n",
    "f1 = f.f1"
   ]
  },
  {
   "cell_type": "code",
   "execution_count": null,
   "id": "d1f485cb-e7b7-406f-a812-3e0bff3a083c",
   "metadata": {},
   "outputs": [],
   "source": [
    "modeling = c.Harness(f1)"
   ]
  },
  {
   "cell_type": "markdown",
   "id": "67fc48c6-f67f-4c9b-9c72-107197d495cf",
   "metadata": {},
   "source": [
    "## Baseline Model KNN"
   ]
  },
  {
   "cell_type": "markdown",
   "id": "e9149cb6-8807-4a31-bcfd-38c2007cc30d",
   "metadata": {},
   "source": [
    "Dropping engineered features to establish the baseline score."
   ]
  },
  {
   "cell_type": "code",
   "execution_count": null,
   "id": "aaebf3c2-5022-4427-860c-3f41398fde9d",
   "metadata": {},
   "outputs": [],
   "source": [
    "# features engineered during eda\n",
    "feature_list = ['Weapon Flag', 'Reported Year', 'Reported Month',\n",
    "                'Day of Month', 'Day of Week', 'Reported Hour', 'Beat Flag']"
   ]
  },
  {
   "cell_type": "code",
   "execution_count": null,
   "id": "431ae8bc-42ef-4b0c-8535-b7b0f17cbd4e",
   "metadata": {},
   "outputs": [],
   "source": [
    "# excluded = ['Weapon Type', 'Officer ID', 'Initial Call Type', 'Final Call Type',\n",
    "#              'Call Type', 'Officer Squad', 'Frisk Flag', 'Weapon Flag',\n",
    "#              'Reported Year', 'Reported Month','Day of Month',\n",
    "#              'Day of Week', 'Reported Hour', 'Beat Flag']"
   ]
  },
  {
   "cell_type": "code",
   "execution_count": null,
   "id": "47512aba-00a7-4890-bb5c-dd72df2992af",
   "metadata": {},
   "outputs": [],
   "source": [
    "excluded = ['Officer ID','Frisk Flag','Weapon Flag',\n",
    "             'Reported Year', 'Reported Month','Day of Month',\n",
    "             'Day of Week', 'Reported Hour', 'Beat Flag']"
   ]
  },
  {
   "cell_type": "code",
   "execution_count": null,
   "id": "d13534dd-1c86-4fdb-ba31-f7e0022960d7",
   "metadata": {},
   "outputs": [],
   "source": [
    "baseline_df = f.framer(df, [], excluded)"
   ]
  },
  {
   "cell_type": "code",
   "execution_count": null,
   "id": "c56efad5-e786-47a8-aff2-9515bf0dc541",
   "metadata": {},
   "outputs": [],
   "source": [
    "baseline_df.head(2)"
   ]
  },
  {
   "cell_type": "code",
   "execution_count": null,
   "id": "82e9e7d3-180e-44f4-91a9-a5eb80bb1485",
   "metadata": {},
   "outputs": [],
   "source": [
    "baseline_df.info()"
   ]
  },
  {
   "cell_type": "code",
   "execution_count": null,
   "id": "2fda8c57-cd87-448d-adb6-53b3296cb609",
   "metadata": {},
   "outputs": [],
   "source": [
    "X, y = f.Xy(baseline_df)"
   ]
  },
  {
   "cell_type": "code",
   "execution_count": null,
   "id": "af987daf-967a-4f84-9860-2d2ed0879116",
   "metadata": {},
   "outputs": [],
   "source": [
    "X_train, X_test, y_train, y_test = f.splitter(X,y)"
   ]
  },
  {
   "cell_type": "code",
   "execution_count": null,
   "id": "9c85f052-308f-4469-817f-37fd6f4b56b1",
   "metadata": {},
   "outputs": [],
   "source": [
    "KNN = KNeighborsClassifier()"
   ]
  },
  {
   "cell_type": "code",
   "execution_count": null,
   "id": "e2035c22-ed61-43c3-a536-dd7085f8646c",
   "metadata": {},
   "outputs": [],
   "source": [
    "# baseline = make_pipeline(preprocessing, KNN)"
   ]
  },
  {
   "cell_type": "code",
   "execution_count": null,
   "id": "dd75b3c1-6a8c-4c06-ac9a-64f8688e3dcf",
   "metadata": {},
   "outputs": [],
   "source": [
    "# baseline.fit(X_train, y_train)"
   ]
  },
  {
   "cell_type": "code",
   "execution_count": null,
   "id": "781dbfc6-f51e-4708-b415-7899eaa4e546",
   "metadata": {},
   "outputs": [],
   "source": [
    "# f1_score(baseline.predict(X_train), y_train)"
   ]
  },
  {
   "cell_type": "code",
   "execution_count": null,
   "id": "889b3eab-60f2-4443-b7c1-1917f382cd7d",
   "metadata": {},
   "outputs": [],
   "source": [
    "## checking cross validation scores\n",
    "# modeling.report(baseline, X_train, y_train, 'Baseline', 'KNN - Baseline Features')"
   ]
  },
  {
   "cell_type": "markdown",
   "id": "263e0ed6-451f-449e-bce1-874e61a1ce45",
   "metadata": {},
   "source": [
    "## KNN Baseline With SMOTE"
   ]
  },
  {
   "cell_type": "code",
   "execution_count": null,
   "id": "8487f04e-23a5-4fe1-b68e-502d97562e28",
   "metadata": {
    "tags": []
   },
   "outputs": [],
   "source": [
    "baseline_sm = make_sm_pipeline(preprocessing, sm, KNN)"
   ]
  },
  {
   "cell_type": "code",
   "execution_count": null,
   "id": "628ade95-4f23-4b11-936c-661fd59f2bbe",
   "metadata": {},
   "outputs": [],
   "source": [
    "# baseline_sm.fit(X_train, y_train)"
   ]
  },
  {
   "cell_type": "code",
   "execution_count": null,
   "id": "91934c2e-bb00-4779-953f-1fce32723549",
   "metadata": {},
   "outputs": [],
   "source": [
    "# f1_score(baseline_sm.predict(X_train), y_train)"
   ]
  },
  {
   "cell_type": "code",
   "execution_count": null,
   "id": "424f7d43-e730-4e99-b20b-3b9f44bcc863",
   "metadata": {},
   "outputs": [],
   "source": [
    "# # checking cross validation scores\n",
    "# modeling.report(baseline_sm, X_train, y_train, 'KNN SMOTE',\\\n",
    "#                 'Baseline KNN w/ SMOTE')"
   ]
  },
  {
   "cell_type": "markdown",
   "id": "7e9dfbdd-02ee-44ec-808f-fce7528a37b8",
   "metadata": {},
   "source": [
    "## Logistic Regression"
   ]
  },
  {
   "cell_type": "code",
   "execution_count": null,
   "id": "d4df1dfc-bb09-41b3-9769-58e4ef5c1cd7",
   "metadata": {
    "tags": []
   },
   "outputs": [],
   "source": [
    "LR = LogisticRegression(max_iter=1000)"
   ]
  },
  {
   "cell_type": "code",
   "execution_count": null,
   "id": "7ff4cf42-5fc0-44d5-bbb1-d5df8e211276",
   "metadata": {},
   "outputs": [],
   "source": [
    "lr_smote = make_sm_pipeline(preprocessing, sm, LR)"
   ]
  },
  {
   "cell_type": "code",
   "execution_count": null,
   "id": "57afe0dd-4f0f-42bf-8d74-5f7442754b91",
   "metadata": {},
   "outputs": [],
   "source": [
    "lr_smote.fit(X_train, y_train)"
   ]
  },
  {
   "cell_type": "code",
   "execution_count": null,
   "id": "1de1462e-758e-4cd1-96e0-60cf30d187ed",
   "metadata": {},
   "outputs": [],
   "source": [
    "#scoring the model\n",
    "f1_score(lr_smote.predict(X_train), y_train)"
   ]
  },
  {
   "cell_type": "code",
   "execution_count": null,
   "id": "54770e9b-12f5-46dd-abe9-fd4b19039382",
   "metadata": {},
   "outputs": [],
   "source": [
    "# checking cross val scores\n",
    "modeling.report(lr_smote, X_train, y_train, 'LR SMOTE', 'Log Reg w/ SMOTE')"
   ]
  },
  {
   "cell_type": "markdown",
   "id": "28f9af18-8076-4142-a494-41c686815429",
   "metadata": {},
   "source": [
    "## Sub-Splitting the Training Data"
   ]
  },
  {
   "cell_type": "code",
   "execution_count": null,
   "id": "0fe2b4d8-0d2f-4b3d-b82c-58772719e3a3",
   "metadata": {},
   "outputs": [],
   "source": [
    "Xs_train, Xs_test, ys_train, ys_test = f.splitter(X_train, y_train)"
   ]
  },
  {
   "cell_type": "code",
   "execution_count": null,
   "id": "3a1e65f6-d16a-458b-8986-9b5a7d394e02",
   "metadata": {},
   "outputs": [],
   "source": [
    "lr_smote.fit(Xs_train, ys_train)"
   ]
  },
  {
   "cell_type": "code",
   "execution_count": null,
   "id": "52118131-5af0-4bd7-9479-1629efee5613",
   "metadata": {},
   "outputs": [],
   "source": [
    "f1_score(lr_smote.predict(Xs_train), ys_train)"
   ]
  },
  {
   "cell_type": "code",
   "execution_count": null,
   "id": "afc571a4-660a-465c-8fe6-72a7144ab169",
   "metadata": {},
   "outputs": [],
   "source": [
    "f1_score(lr_smote.predict(Xs_test), ys_test)"
   ]
  },
  {
   "cell_type": "code",
   "execution_count": null,
   "id": "e490ae8e-b8d2-47c1-ada5-cb7bd938ed29",
   "metadata": {},
   "outputs": [],
   "source": [
    "f.confusion(lr_smote, Xs_train, ys_train)"
   ]
  },
  {
   "cell_type": "code",
   "execution_count": null,
   "id": "d482323d-e654-4829-9d08-116f07510457",
   "metadata": {},
   "outputs": [],
   "source": [
    "f.confusion(lr_smote, Xs_test, ys_test)"
   ]
  },
  {
   "cell_type": "markdown",
   "id": "7decf072-08a5-4a9d-895e-874c4460e6ee",
   "metadata": {},
   "source": [
    "## Investigating the Data More Closely"
   ]
  },
  {
   "cell_type": "code",
   "execution_count": null,
   "id": "5fc2f5a5-a1e0-4e9e-b252-721512bccf76",
   "metadata": {},
   "outputs": [],
   "source": [
    "cols = baseline_df.columns\n",
    "for col in cols:\n",
    "    print(f'{df[col].value_counts()}\\n')"
   ]
  },
  {
   "cell_type": "code",
   "execution_count": null,
   "id": "70a8aa30-b1ab-4e06-adcf-2b1c6f1b10ef",
   "metadata": {},
   "outputs": [],
   "source": [
    "baseline_df['Officer YOB'].describe()"
   ]
  },
  {
   "cell_type": "markdown",
   "id": "5029a665-0ccd-4968-aff3-6c382302e58c",
   "metadata": {},
   "source": [
    "## Creating Age Feature\n",
    "Creating `Officer Age` feature, dropping invalid ages and `Officer YOB` feature."
   ]
  },
  {
   "cell_type": "code",
   "execution_count": null,
   "id": "c78439b7-1cc0-4547-bac6-348a86945c32",
   "metadata": {},
   "outputs": [],
   "source": [
    "df['Officer Age'] = df['Reported Year'] - df['Officer YOB']\n",
    "df['Officer Age'] = df['Officer Age'].apply(lambda x: np.nan if x > 100 else x)\n",
    "df.dropna(subset = ['Officer Age'], inplace=True)"
   ]
  },
  {
   "cell_type": "code",
   "execution_count": null,
   "id": "629c39f6-4fb6-4c19-a772-2aa62f4c3066",
   "metadata": {},
   "outputs": [],
   "source": [
    "df.drop('Officer YOB', axis=1, inplace=True)"
   ]
  },
  {
   "cell_type": "markdown",
   "id": "f45f8a4a-f93e-4dcb-9817-4532c801c469",
   "metadata": {},
   "source": [
    "## Testing Age Feature"
   ]
  },
  {
   "cell_type": "code",
   "execution_count": null,
   "id": "0098c62f-ca89-49e3-b68c-36a05a69de66",
   "metadata": {},
   "outputs": [],
   "source": [
    "# features engineered during eda\n",
    "feature_list = ['Weapon Flag', 'Reported Year', 'Reported Month',\n",
    "                'Day of Month', 'Day of Week', 'Reported Hour', 'Beat Flag']"
   ]
  },
  {
   "cell_type": "code",
   "execution_count": null,
   "id": "0d7c26a0-a8fd-4953-9514-ffe682750dd9",
   "metadata": {},
   "outputs": [],
   "source": [
    "excluded = excluded = ['Officer ID','Frisk Flag','Weapon Flag',\n",
    "             'Reported Year', 'Reported Month','Day of Month',\n",
    "             'Day of Week', 'Reported Hour', 'Beat Flag']"
   ]
  },
  {
   "cell_type": "code",
   "execution_count": null,
   "id": "d1cb2ff2-accd-40bf-b8b3-2fb3341fb014",
   "metadata": {},
   "outputs": [],
   "source": [
    "age_df = f.framer(df, [], excluded)"
   ]
  },
  {
   "cell_type": "code",
   "execution_count": null,
   "id": "b37aa9a3-3a6f-4ee0-9950-0c6ac572832d",
   "metadata": {},
   "outputs": [],
   "source": [
    "age_df.head(2)"
   ]
  },
  {
   "cell_type": "code",
   "execution_count": null,
   "id": "f27baaea-69bf-43ce-9770-ea6e3fdb2f39",
   "metadata": {},
   "outputs": [],
   "source": [
    "age_df.info()"
   ]
  },
  {
   "cell_type": "code",
   "execution_count": null,
   "id": "535acc3b-605d-4f46-8c2b-7432934477a1",
   "metadata": {},
   "outputs": [],
   "source": [
    "X, y = f.Xy(age_df)"
   ]
  },
  {
   "cell_type": "code",
   "execution_count": null,
   "id": "dd7acb0a-4883-42f0-bfa9-4ab21ce24967",
   "metadata": {},
   "outputs": [],
   "source": [
    "X_train, X_test, y_train, y_test = f.splitter(X,y)"
   ]
  },
  {
   "cell_type": "code",
   "execution_count": null,
   "id": "ce128cea-dbcc-473f-9d5f-3e8d93174280",
   "metadata": {},
   "outputs": [],
   "source": [
    "lr_smote2 = make_sm_pipeline(preprocessing, sm, LR)"
   ]
  },
  {
   "cell_type": "code",
   "execution_count": null,
   "id": "72a1d92e-3bdc-43ac-9748-3ffb4a19fe61",
   "metadata": {},
   "outputs": [],
   "source": [
    "lr_smote2.fit(X_train, y_train)"
   ]
  },
  {
   "cell_type": "code",
   "execution_count": null,
   "id": "b6c062cb-e12d-45c7-9941-1fd6776fa87a",
   "metadata": {},
   "outputs": [],
   "source": [
    "#scoring the model\n",
    "f1_score(lr_smote2.predict(X_train), y_train)"
   ]
  },
  {
   "cell_type": "code",
   "execution_count": null,
   "id": "1f20eeb9-5396-4234-bd47-070f61907e97",
   "metadata": {},
   "outputs": [],
   "source": [
    "# checking cross val scores\n",
    "modeling.report(lr_smote2, X_train, y_train, 'LR SMOTE', 'Added Officer Age')"
   ]
  },
  {
   "cell_type": "code",
   "execution_count": null,
   "id": "504b23a6-b727-4fea-9562-1e21b42d7299",
   "metadata": {},
   "outputs": [],
   "source": [
    "modeling.history"
   ]
  },
  {
   "cell_type": "markdown",
   "id": "1026d8d5-0fe9-44fb-8ef2-902104d44b2e",
   "metadata": {},
   "source": [
    "## Creating Gender & Racial Affinity Features"
   ]
  },
  {
   "cell_type": "code",
   "execution_count": null,
   "id": "3489e0d5-8302-46e9-849e-a78d3d3a7fbe",
   "metadata": {},
   "outputs": [],
   "source": [
    "df['Racial Affinity'] = [1 if df['Subject Perceived Race'][row]\\\n",
    "                         == df['Officer Race'][row] else 0 for row in df.index]"
   ]
  },
  {
   "cell_type": "code",
   "execution_count": null,
   "id": "6bc6098a-0a11-402c-a1aa-1aa0665b0219",
   "metadata": {},
   "outputs": [],
   "source": [
    "df['Officer Gender'].value_counts()"
   ]
  },
  {
   "cell_type": "code",
   "execution_count": null,
   "id": "7082758a-0607-42e5-99ef-90175d7b7e64",
   "metadata": {},
   "outputs": [],
   "source": [
    "df['Officer Gender'] = df['Officer Gender'].apply(lambda x: 'Male' if x=='M' else 'Female')"
   ]
  },
  {
   "cell_type": "code",
   "execution_count": null,
   "id": "d90429b5-e65e-4507-95c1-c889ff582847",
   "metadata": {},
   "outputs": [],
   "source": [
    "df['Gender Affinity'] = [1 if df['Subject Perceived Gender'][row]\\\n",
    "                         == df['Officer Gender'][row] else 0 for row in df.index]"
   ]
  },
  {
   "cell_type": "code",
   "execution_count": null,
   "id": "a74b4d6e-78ba-456f-a573-0d00c1a833a4",
   "metadata": {},
   "outputs": [],
   "source": [
    "df.head(3)"
   ]
  },
  {
   "cell_type": "markdown",
   "id": "2e15e7a1-a3b8-4f80-ab90-8b252cfc0e1e",
   "metadata": {},
   "source": [
    "## Testing New Features"
   ]
  },
  {
   "cell_type": "code",
   "execution_count": null,
   "id": "0cdda664-e08b-4ea0-bdc6-e2cd16a1e32b",
   "metadata": {},
   "outputs": [],
   "source": [
    "# features engineered during eda\n",
    "feature_list = ['Weapon Flag', 'Reported Year', 'Reported Month',\n",
    "                'Day of Month', 'Day of Week', 'Reported Hour', 'Beat Flag']"
   ]
  },
  {
   "cell_type": "code",
   "execution_count": null,
   "id": "62349432-6e34-40ac-9654-0203b6d6224d",
   "metadata": {},
   "outputs": [],
   "source": [
    "excluded = excluded = excluded = ['Officer ID','Frisk Flag','Weapon Flag',\n",
    "             'Reported Year', 'Reported Month','Day of Month',\n",
    "             'Day of Week', 'Reported Hour', 'Beat Flag']"
   ]
  },
  {
   "cell_type": "code",
   "execution_count": null,
   "id": "dbdc290c-0807-4e08-8fa4-9edbd3236290",
   "metadata": {},
   "outputs": [],
   "source": [
    "df_3 = f.framer(df, [], excluded)"
   ]
  },
  {
   "cell_type": "code",
   "execution_count": null,
   "id": "62c058b8-f147-43e5-be5b-7ba965d66f69",
   "metadata": {},
   "outputs": [],
   "source": [
    "df_3.head(2)"
   ]
  },
  {
   "cell_type": "code",
   "execution_count": null,
   "id": "f44ae46a-fa34-4f33-bca5-92c260220c42",
   "metadata": {},
   "outputs": [],
   "source": [
    "df_3.info()"
   ]
  },
  {
   "cell_type": "code",
   "execution_count": null,
   "id": "ada2f49e-26ed-442d-8bbf-bef381cf9e3b",
   "metadata": {},
   "outputs": [],
   "source": [
    "X, y = f.Xy(df_3)"
   ]
  },
  {
   "cell_type": "code",
   "execution_count": null,
   "id": "0b6a8f3a-17f6-433a-be2f-50bdd4111e07",
   "metadata": {},
   "outputs": [],
   "source": [
    "X_train, X_test, y_train, y_test = f.splitter(X,y)"
   ]
  },
  {
   "cell_type": "code",
   "execution_count": null,
   "id": "40c7c930-cc01-468c-9a9a-4fbb19c15585",
   "metadata": {},
   "outputs": [],
   "source": [
    "lr_smote3 = make_sm_pipeline(preprocessing, sm, LR)"
   ]
  },
  {
   "cell_type": "code",
   "execution_count": null,
   "id": "b834c750-824e-4056-b2dc-fa8c929c14f6",
   "metadata": {},
   "outputs": [],
   "source": [
    "lr_smote3.fit(X_train, y_train)"
   ]
  },
  {
   "cell_type": "code",
   "execution_count": null,
   "id": "dd1522f7-51a1-4515-b496-77b24fabff48",
   "metadata": {},
   "outputs": [],
   "source": [
    "#scoring the model\n",
    "f1_score(lr_smote3.predict(X_train), y_train)"
   ]
  },
  {
   "cell_type": "code",
   "execution_count": null,
   "id": "1f9e1e40-a992-41b2-9106-969003ab7630",
   "metadata": {},
   "outputs": [],
   "source": [
    "# checking cross val scores\n",
    "modeling.report(lr_smote3, X_train, y_train, 'LR SMOTE ', 'Log Reg w/ New Age, Race, Gender Features')"
   ]
  },
  {
   "cell_type": "code",
   "execution_count": null,
   "id": "75dfb21c-958f-4df1-a45a-bb283fc31e13",
   "metadata": {},
   "outputs": [],
   "source": [
    "modeling.history"
   ]
  },
  {
   "cell_type": "markdown",
   "id": "fae8c0a3-b7b3-4669-b878-18db7e9b1aa7",
   "metadata": {},
   "source": [
    "## Testing Dropping Nulls\n",
    "Droppin Subject Race Nulls"
   ]
  },
  {
   "cell_type": "code",
   "execution_count": null,
   "id": "2217128f-e9d1-46ec-857d-974ac9a909cc",
   "metadata": {},
   "outputs": [],
   "source": [
    "dropd = df[(df['Subject Perceived Race']!='NA')]"
   ]
  },
  {
   "cell_type": "code",
   "execution_count": null,
   "id": "b5ae4922-a24a-4162-86d9-e0cedd201746",
   "metadata": {},
   "outputs": [],
   "source": [
    "# features engineered during eda\n",
    "feature_list = ['Weapon Flag', 'Reported Year', 'Reported Month',\n",
    "                'Day of Month', 'Day of Week', 'Reported Hour', 'Beat Flag']"
   ]
  },
  {
   "cell_type": "code",
   "execution_count": null,
   "id": "589dda43-4874-42b1-808e-8547131e85ed",
   "metadata": {},
   "outputs": [],
   "source": [
    "excluded = excluded = ['Officer ID','Frisk Flag','Weapon Flag',\n",
    "             'Reported Year', 'Reported Month','Day of Month',\n",
    "             'Day of Week', 'Reported Hour', 'Beat Flag']"
   ]
  },
  {
   "cell_type": "code",
   "execution_count": null,
   "id": "06e5f4c2-2285-4bc8-9e43-4905e62fa11c",
   "metadata": {},
   "outputs": [],
   "source": [
    "df_4 = f.framer(dropd, [], excluded)"
   ]
  },
  {
   "cell_type": "code",
   "execution_count": null,
   "id": "89e078af-d96e-43a7-93fd-732f53cd8820",
   "metadata": {},
   "outputs": [],
   "source": [
    "X, y = f.Xy(df_4)"
   ]
  },
  {
   "cell_type": "code",
   "execution_count": null,
   "id": "f90de63c-a9d3-43b4-8735-a75c4510483e",
   "metadata": {},
   "outputs": [],
   "source": [
    "X_train, X_test, y_train, y_test = f.splitter(X,y)"
   ]
  },
  {
   "cell_type": "code",
   "execution_count": null,
   "id": "078813e0-50b3-4bc8-882a-33e871a84ad1",
   "metadata": {},
   "outputs": [],
   "source": [
    "lr_smote4 = make_sm_pipeline(preprocessing, sm, LR)"
   ]
  },
  {
   "cell_type": "code",
   "execution_count": null,
   "id": "9b27301f-ff35-48f5-8731-8c4579389812",
   "metadata": {},
   "outputs": [],
   "source": [
    "lr_smote4.fit(X_train, y_train)"
   ]
  },
  {
   "cell_type": "code",
   "execution_count": null,
   "id": "d782a584-2c41-49a5-b6c4-69a28c2f6ca4",
   "metadata": {},
   "outputs": [],
   "source": [
    "#scoring the model\n",
    "f1_score(lr_smote4.predict(X_train), y_train)"
   ]
  },
  {
   "cell_type": "code",
   "execution_count": null,
   "id": "16c823b8-6b71-4ffa-bd1a-99517d2e8def",
   "metadata": {},
   "outputs": [],
   "source": [
    "# checking cross val scores\n",
    "modeling.report(lr_smote4, X_train, y_train, 'LR SMOTE New Age, Race, Gender Features', 'Dropped Subject Race NA')"
   ]
  },
  {
   "cell_type": "code",
   "execution_count": null,
   "id": "e201f850-ec4b-4073-9c1d-5280ad8c3d9d",
   "metadata": {},
   "outputs": [],
   "source": [
    "modeling.history"
   ]
  },
  {
   "cell_type": "markdown",
   "id": "f3b4fa38-b75a-4c9c-8d26-d323774bbec0",
   "metadata": {},
   "source": [
    "## Dropping Officer Race Nulls"
   ]
  },
  {
   "cell_type": "code",
   "execution_count": null,
   "id": "4b54af27-eaf6-4fa5-9419-b1b91c1aa352",
   "metadata": {},
   "outputs": [],
   "source": [
    "dropd2 = df[(df['Subject Perceived Race']!='NA') &\\\n",
    "           (df['Officer Race']!='NA')]"
   ]
  },
  {
   "cell_type": "code",
   "execution_count": null,
   "id": "0e1ab006-73f2-4990-9634-6a728ff637f0",
   "metadata": {},
   "outputs": [],
   "source": [
    "# features engineered during eda\n",
    "feature_list = ['Weapon Flag', 'Reported Year', 'Reported Month',\n",
    "                'Day of Month', 'Day of Week', 'Reported Hour', 'Beat Flag']"
   ]
  },
  {
   "cell_type": "code",
   "execution_count": null,
   "id": "9934739e-a753-4dbe-87b6-e3343d9ffcb4",
   "metadata": {},
   "outputs": [],
   "source": [
    "excluded = excluded = ['Officer ID','Frisk Flag','Weapon Flag',\n",
    "             'Reported Year', 'Reported Month','Day of Month',\n",
    "             'Day of Week', 'Reported Hour', 'Beat Flag']"
   ]
  },
  {
   "cell_type": "code",
   "execution_count": null,
   "id": "0f8ae42e-e736-4caa-93e8-50d062c67582",
   "metadata": {},
   "outputs": [],
   "source": [
    "df_5 = f.framer(dropd2, [], excluded)"
   ]
  },
  {
   "cell_type": "code",
   "execution_count": null,
   "id": "7ceb4039-b20b-45d7-9627-9ab99cdaeff1",
   "metadata": {},
   "outputs": [],
   "source": [
    "df_5.head(2)"
   ]
  },
  {
   "cell_type": "code",
   "execution_count": null,
   "id": "2f3b70e6-c7e4-43c6-b43c-994950f3ae6b",
   "metadata": {},
   "outputs": [],
   "source": [
    "df_5.info()"
   ]
  },
  {
   "cell_type": "code",
   "execution_count": null,
   "id": "d8972502-7f9c-403a-be4d-da8c2e10c7b6",
   "metadata": {},
   "outputs": [],
   "source": [
    "X, y = f.Xy(df_5)"
   ]
  },
  {
   "cell_type": "code",
   "execution_count": null,
   "id": "b751967b-da61-4775-af64-278c8afa527e",
   "metadata": {},
   "outputs": [],
   "source": [
    "X_train, X_test, y_train, y_test = f.splitter(X,y)"
   ]
  },
  {
   "cell_type": "code",
   "execution_count": null,
   "id": "85797c6f-babb-4310-a68d-ed0b16a7f2bc",
   "metadata": {},
   "outputs": [],
   "source": [
    "lr_smote5 = make_sm_pipeline(preprocessing, sm, LR)"
   ]
  },
  {
   "cell_type": "code",
   "execution_count": null,
   "id": "50ec89d5-e0a3-4644-b910-c43a6171ed81",
   "metadata": {},
   "outputs": [],
   "source": [
    "lr_smote5.fit(X_train, y_train)"
   ]
  },
  {
   "cell_type": "code",
   "execution_count": null,
   "id": "0328ac6e-d245-4eae-b288-0ac1716fdb5a",
   "metadata": {},
   "outputs": [],
   "source": [
    "#scoring the model\n",
    "f1_score(lr_smote5.predict(X_train), y_train)"
   ]
  },
  {
   "cell_type": "code",
   "execution_count": null,
   "id": "7a7920a6-3cc0-4127-b443-168bdbdbdff3",
   "metadata": {},
   "outputs": [],
   "source": [
    "# checking cross val scores\n",
    "modeling.report(lr_smote5, X_train, y_train, 'LR SMOTE New Age, Race, Gender Features', 'Drpd S Race, O Race NA')"
   ]
  },
  {
   "cell_type": "code",
   "execution_count": null,
   "id": "f2ab38c2-38f9-47d2-9c11-bc1f3ebef749",
   "metadata": {},
   "outputs": [],
   "source": [
    "modeling.history"
   ]
  },
  {
   "cell_type": "markdown",
   "id": "162d61fa-d731-4b6a-b804-2915aac010bb",
   "metadata": {},
   "source": [
    "## Dropping Subject Age Nulls"
   ]
  },
  {
   "cell_type": "code",
   "execution_count": null,
   "id": "56c56db4-9262-4987-819f-f02334bef844",
   "metadata": {},
   "outputs": [],
   "source": [
    "dropd3 = df[(df['Subject Perceived Race']!='NA') &\\\n",
    "            (df['Officer Race']!='NA')&\\\n",
    "            (df['Subject Age Group']!='NA')]"
   ]
  },
  {
   "cell_type": "code",
   "execution_count": null,
   "id": "c7e1439f-1c66-4e3d-8d14-d47117513f87",
   "metadata": {},
   "outputs": [],
   "source": [
    "# features engineered during eda\n",
    "feature_list = ['Weapon Flag', 'Reported Year', 'Reported Month',\n",
    "                'Day of Month', 'Day of Week', 'Reported Hour', 'Beat Flag']"
   ]
  },
  {
   "cell_type": "code",
   "execution_count": null,
   "id": "eb75d01c-8841-4657-8e9b-21b516be1ca6",
   "metadata": {},
   "outputs": [],
   "source": [
    "excluded = excluded = ['Officer ID','Frisk Flag','Weapon Flag',\n",
    "             'Reported Year', 'Reported Month','Day of Month',\n",
    "             'Day of Week', 'Reported Hour', 'Beat Flag']"
   ]
  },
  {
   "cell_type": "code",
   "execution_count": null,
   "id": "85406180-20ea-4bd9-957e-78d8d3335746",
   "metadata": {},
   "outputs": [],
   "source": [
    "df_6 = f.framer(dropd3, [], excluded)"
   ]
  },
  {
   "cell_type": "code",
   "execution_count": null,
   "id": "c9c0749e-9254-456f-871d-bbf98e702612",
   "metadata": {},
   "outputs": [],
   "source": [
    "df_6.head(2)"
   ]
  },
  {
   "cell_type": "code",
   "execution_count": null,
   "id": "11f479f7-4580-411c-9245-11a65d78c160",
   "metadata": {},
   "outputs": [],
   "source": [
    "df_6.info()"
   ]
  },
  {
   "cell_type": "code",
   "execution_count": null,
   "id": "b034c192-01f4-42a1-87fd-a909d036555f",
   "metadata": {},
   "outputs": [],
   "source": [
    "X, y = f.Xy(df_6)"
   ]
  },
  {
   "cell_type": "code",
   "execution_count": null,
   "id": "ad71f114-bc1e-4e08-86bb-08c5bddced0a",
   "metadata": {},
   "outputs": [],
   "source": [
    "X_train, X_test, y_train, y_test = f.splitter(X,y)"
   ]
  },
  {
   "cell_type": "code",
   "execution_count": null,
   "id": "c0bbe889-2d6d-433f-8ce0-5b24df599bb0",
   "metadata": {},
   "outputs": [],
   "source": [
    "lr_smote6 = make_sm_pipeline(preprocessing, sm, LR)"
   ]
  },
  {
   "cell_type": "code",
   "execution_count": null,
   "id": "3a1c3490-b387-4915-9325-bec384219c73",
   "metadata": {},
   "outputs": [],
   "source": [
    "lr_smote6.fit(X_train, y_train)"
   ]
  },
  {
   "cell_type": "code",
   "execution_count": null,
   "id": "529df46c-0093-4ba3-92ba-2fc82e81de95",
   "metadata": {},
   "outputs": [],
   "source": [
    "#scoring the model\n",
    "f1_score(lr_smote6.predict(X_train), y_train)"
   ]
  },
  {
   "cell_type": "code",
   "execution_count": null,
   "id": "2d34fd8e-6708-4dbf-b5f3-87b996ee2944",
   "metadata": {},
   "outputs": [],
   "source": [
    "# checking cross val scores\n",
    "modeling.report(lr_smote6, X_train, y_train,\\\n",
    "                'LR SMOTE New Age, Race, Gender Features',\\\n",
    "                'Dpd Nulls S Race, O Race NA, S Age')"
   ]
  },
  {
   "cell_type": "code",
   "execution_count": null,
   "id": "d55b2dad-0277-4c38-a059-5feffb2724e5",
   "metadata": {},
   "outputs": [],
   "source": [
    "modeling.history"
   ]
  },
  {
   "cell_type": "markdown",
   "id": "546d8a2e-f5b7-4e73-baae-93838a1d3a9a",
   "metadata": {},
   "source": [
    "## Testing on Sub-Splits"
   ]
  },
  {
   "cell_type": "code",
   "execution_count": null,
   "id": "ddf1492b-20b4-44ae-a6a4-bb5d425a3a42",
   "metadata": {},
   "outputs": [],
   "source": [
    "Xs_train, Xs_test, ys_train, ys_test = f.splitter(X_train, y_train)"
   ]
  },
  {
   "cell_type": "code",
   "execution_count": null,
   "id": "4da2fea0-2885-418f-98d1-5c48e2537dcf",
   "metadata": {},
   "outputs": [],
   "source": [
    "lr_smote6.fit(Xs_train, ys_train)"
   ]
  },
  {
   "cell_type": "code",
   "execution_count": null,
   "id": "e3e58c31-cb04-430e-b782-c0b00674e921",
   "metadata": {},
   "outputs": [],
   "source": [
    "f1_score(lr_smote6.predict(Xs_train), ys_train)"
   ]
  },
  {
   "cell_type": "code",
   "execution_count": null,
   "id": "c2073c77-c7d4-45d4-aaa5-1ccc701da0df",
   "metadata": {},
   "outputs": [],
   "source": [
    "f1_score(lr_smote6.predict(Xs_test), ys_test)"
   ]
  },
  {
   "cell_type": "code",
   "execution_count": null,
   "id": "630459ac-9525-4861-8452-61bf6b1c93c6",
   "metadata": {},
   "outputs": [],
   "source": [
    "f.confusion(lr_smote6, Xs_train, ys_train)"
   ]
  },
  {
   "cell_type": "code",
   "execution_count": null,
   "id": "72121162-51c4-40f0-ae6f-0184b8ca55df",
   "metadata": {},
   "outputs": [],
   "source": [
    "f.confusion(lr_smote6, Xs_test, ys_test)"
   ]
  },
  {
   "cell_type": "markdown",
   "id": "0456c77b-3bc6-4709-bd5d-ef4f7426b8ac",
   "metadata": {},
   "source": [
    "## Balanced Class Weights"
   ]
  },
  {
   "cell_type": "code",
   "execution_count": null,
   "id": "e0c711d4-85f7-4acb-ac3d-b15df3ab06e8",
   "metadata": {},
   "outputs": [],
   "source": [
    "LR_bal = LogisticRegression(class_weight='balanced', max_iter=1000)"
   ]
  },
  {
   "cell_type": "code",
   "execution_count": null,
   "id": "4e59abfc-d616-42f4-9dd1-5a9e9de2bf97",
   "metadata": {},
   "outputs": [],
   "source": [
    "lr_smote7 = make_sm_pipeline(preprocessing, sm, LR_bal)"
   ]
  },
  {
   "cell_type": "code",
   "execution_count": null,
   "id": "2acd5b04-cc19-4279-b088-6d76259852c4",
   "metadata": {},
   "outputs": [],
   "source": [
    "lr_smote7.fit(X_train, y_train)"
   ]
  },
  {
   "cell_type": "code",
   "execution_count": null,
   "id": "b6393ce0-e63c-4eaa-a3a7-469d377b89cd",
   "metadata": {},
   "outputs": [],
   "source": [
    "#scoring the model\n",
    "f1_score(lr_smote7.predict(X_train), y_train)"
   ]
  },
  {
   "cell_type": "code",
   "execution_count": null,
   "id": "98af7fc5-1a0e-46c8-ac49-6227a6993bf4",
   "metadata": {},
   "outputs": [],
   "source": [
    "# checking cross val scores\n",
    "modeling.report(lr_smote7, X_train, y_train, 'LR_bal', 'Dpd Nulls S Race, O Race NA, S Age')"
   ]
  },
  {
   "cell_type": "code",
   "execution_count": null,
   "id": "4439fc76-1821-49df-aaae-f38c6caca2b0",
   "metadata": {},
   "outputs": [],
   "source": [
    "modeling.history"
   ]
  },
  {
   "cell_type": "markdown",
   "id": "b3be7593-1c11-468e-bc81-85bbdce2f77d",
   "metadata": {},
   "source": [
    "## Checking C Values"
   ]
  },
  {
   "cell_type": "markdown",
   "id": "501d6661-a30c-452d-ad49-487e3d18604d",
   "metadata": {},
   "source": [
    "## Rough Estimate By Hand"
   ]
  },
  {
   "cell_type": "code",
   "execution_count": null,
   "id": "e8707d41-d6ed-4ba7-9b84-2aa6f0ae9093",
   "metadata": {},
   "outputs": [],
   "source": [
    "# # preprocessing\n",
    "# string_selector = make_column_selector(dtype_include='object')\n",
    "# number_selector = make_column_selector(dtype_include='number', dtype_exclude='object')\n",
    "# preprocessing = make_column_transformer((OneHotEncoder\n",
    "#                                          (handle_unknown='ignore'),string_selector),\n",
    "#                                           (StandardScaler(), number_selector))\n",
    "# # C = [0.001,.009,0.01,.09,1,5,10,25]\n",
    "# C = np.logspace(-3, 3, 7)\n",
    "# for c in C:\n",
    "#     LR_clf = LogisticRegression(class_weight='balanced', C=c, max_iter=1000)\n",
    "#     # make_pipeline from imblearn\n",
    "#     sm = SMOTE(random_state=2021) \n",
    "#     pipeline  = make_sm_pipeline(preprocessing, sm, LR_clf)\n",
    "#     pipeline.fit(X_train, y_train)\n",
    "#     modeling.report(pipeline, X_train, y_train, 'LR_bal', f'C={c}')\n",
    "# f1_score(pipeline.predict(X_train), y_train)"
   ]
  },
  {
   "cell_type": "code",
   "execution_count": null,
   "id": "602ca658-88f8-4277-a7a5-5d7f96531fad",
   "metadata": {},
   "outputs": [],
   "source": [
    "modeling.history"
   ]
  },
  {
   "cell_type": "markdown",
   "id": "1e67d07c-cf9e-4c47-9a6f-aeecab68de0a",
   "metadata": {},
   "source": [
    "## Grid Searching Parameters"
   ]
  },
  {
   "cell_type": "code",
   "execution_count": null,
   "id": "aa0cd39d-881f-49e7-8250-bd4997b7d69f",
   "metadata": {},
   "outputs": [],
   "source": [
    "LR_clf = LogisticRegression(class_weight='balanced', max_iter=1000, random_state=2021)\n",
    "\n",
    "pipeline  = make_sm_pipeline(preprocessing, sm, LR_clf)\n",
    "pipeline.fit(X_train, y_train)\n",
    "\n",
    "C = np.logspace(-3, 3, 7)\n",
    "penalty = ['l1', 'l2']\n",
    "solver = ['liblinear', 'saga']\n",
    "\n",
    "grid_values = {'logisticregression__C':C, \n",
    "               'logisticregression__penalty':penalty,\n",
    "               'logisticregression__solver':solver }\n",
    "\n",
    "grid_clf_f1 = GridSearchCV(pipeline, param_grid = grid_values, n_jobs=-1, scoring = 'f1')\n",
    "grid_clf_f1.fit(X_train, y_train)"
   ]
  },
  {
   "cell_type": "code",
   "execution_count": null,
   "id": "2f4744d9-9ca9-4d2b-945d-bfe5223216d2",
   "metadata": {},
   "outputs": [],
   "source": [
    "print('Best C:', grid_clf_f1.best_estimator_.get_params()['logisticregression__C'])\n",
    "print('Best penalty:', grid_clf_f1.best_estimator_.get_params()['logisticregression__penalty'])\n",
    "print('Best solver:', grid_clf_f1.best_estimator_.get_params()['logisticregression__solver'])"
   ]
  },
  {
   "cell_type": "code",
   "execution_count": null,
   "id": "50b6ef28-c0a4-4d13-a01f-03cbea84bf1a",
   "metadata": {},
   "outputs": [],
   "source": [
    "LR_tuned = LogisticRegression(class_weight='balanced', C=.001,\n",
    "                            solver='liblinear', penalty='l2',\n",
    "                            max_iter=1000, random_state=2021)\n",
    "\n",
    "pipeline  = make_sm_pipeline(preprocessing, sm, LR_tuned)\n",
    "pipeline.fit(X_train, y_train)\n",
    "f1_score(pipeline.predict(X_train), y_train)\n",
    "modeling.report(pipeline, X_train, y_train, 'LR_tuned', 'C=.01, solver=liblinear, penalty=l1')"
   ]
  },
  {
   "cell_type": "code",
   "execution_count": null,
   "id": "829d5cff-9038-4983-8a4e-50520c33abb3",
   "metadata": {},
   "outputs": [],
   "source": [
    "modeling.history"
   ]
  },
  {
   "cell_type": "markdown",
   "id": "71f5de19-b91e-4efb-8a3f-58112c8f43aa",
   "metadata": {},
   "source": [
    "## Testing Tuned Model on Sub-Splits"
   ]
  },
  {
   "cell_type": "code",
   "execution_count": null,
   "id": "93965c98-7c34-4ee9-a1b2-cad95324cba8",
   "metadata": {},
   "outputs": [],
   "source": [
    "Xs_train, Xs_test, ys_train, ys_test = f.splitter(X_train, y_train)"
   ]
  },
  {
   "cell_type": "code",
   "execution_count": null,
   "id": "bea33602-d9af-4fda-b61e-a0b967c0816e",
   "metadata": {},
   "outputs": [],
   "source": [
    "pipeline  = make_sm_pipeline(preprocessing, sm, LR_tuned)\n",
    "pipeline.fit(Xs_train, ys_train)"
   ]
  },
  {
   "cell_type": "code",
   "execution_count": null,
   "id": "8133bf6d-29ce-4fc5-8969-84842778e230",
   "metadata": {},
   "outputs": [],
   "source": [
    "f1_score(pipeline.predict(Xs_train), ys_train)"
   ]
  },
  {
   "cell_type": "code",
   "execution_count": null,
   "id": "afb44e15-9823-4407-84f4-f398514e7754",
   "metadata": {},
   "outputs": [],
   "source": [
    "f1_score(pipeline.predict(Xs_test), ys_test)"
   ]
  },
  {
   "cell_type": "code",
   "execution_count": null,
   "id": "03f3169e-5bc7-404d-8185-823e4df45b64",
   "metadata": {},
   "outputs": [],
   "source": [
    "f.confusion(pipeline, Xs_train, ys_train)"
   ]
  },
  {
   "cell_type": "code",
   "execution_count": null,
   "id": "06c436ab-7ff5-40f2-9afc-c9e48005f1fe",
   "metadata": {},
   "outputs": [],
   "source": [
    "f.confusion(pipeline, Xs_test, ys_test)"
   ]
  },
  {
   "cell_type": "markdown",
   "id": "4a862a8b-72c6-4e7f-a589-b47e6a4ed0e9",
   "metadata": {},
   "source": [
    "## Adding Polynomial Features"
   ]
  },
  {
   "cell_type": "code",
   "execution_count": null,
   "id": "f6ced270-4431-4f80-a4e0-715a783dc449",
   "metadata": {},
   "outputs": [],
   "source": [
    "preprocessing2 = make_column_transformer((PolynomialFeatures(degree=5, interaction_only=True), number_selector),\n",
    "                                         (OneHotEncoder(handle_unknown='ignore'),string_selector),\n",
    "                                          (StandardScaler(), number_selector))"
   ]
  },
  {
   "cell_type": "code",
   "execution_count": null,
   "id": "e00afce7-31a7-4364-bca2-7bf3fed95395",
   "metadata": {},
   "outputs": [],
   "source": [
    "preprocessing2.fit_transform(X_train);"
   ]
  },
  {
   "cell_type": "code",
   "execution_count": null,
   "id": "d64e035b-7141-4496-a510-ff1d2eb90fcd",
   "metadata": {},
   "outputs": [],
   "source": [
    "lr_poly = make_sm_pipeline(preprocessing2, sm, LR_tuned)"
   ]
  },
  {
   "cell_type": "code",
   "execution_count": null,
   "id": "095bdc90-f2e2-4a53-b00d-57d6580437e1",
   "metadata": {},
   "outputs": [],
   "source": [
    "lr_poly.fit(X_train, y_train)"
   ]
  },
  {
   "cell_type": "code",
   "execution_count": null,
   "id": "3b4fbc61-935b-4b03-85d6-96f4305e6c13",
   "metadata": {},
   "outputs": [],
   "source": [
    "f1_score(lr_poly.predict(X_train), y_train)"
   ]
  },
  {
   "cell_type": "code",
   "execution_count": null,
   "id": "17e0ba38-d319-4db1-95d0-bfa86b147bae",
   "metadata": {},
   "outputs": [],
   "source": [
    "modeling.report(lr_poly, X_train, y_train, 'LR_tuned Poly', 'LR Polys: d=5, interaction_only=True')"
   ]
  },
  {
   "cell_type": "code",
   "execution_count": null,
   "id": "5bf1c83a-6acc-4a73-834f-2ee057e7479c",
   "metadata": {},
   "outputs": [],
   "source": [
    "modeling.history"
   ]
  },
  {
   "cell_type": "markdown",
   "id": "755e6807-210a-400c-a1b7-d860bfabaf98",
   "metadata": {
    "tags": []
   },
   "source": [
    "## Testing Tuned Model on Sub-Splits"
   ]
  },
  {
   "cell_type": "code",
   "execution_count": null,
   "id": "6982aea2-2cf8-4070-90e7-5fed8b0e5c88",
   "metadata": {},
   "outputs": [],
   "source": [
    "Xs_train, Xs_test, ys_train, ys_test = f.splitter(X_train, y_train)"
   ]
  },
  {
   "cell_type": "code",
   "execution_count": null,
   "id": "1ec8a8df-b151-41b5-b9ea-df56a52007e2",
   "metadata": {},
   "outputs": [],
   "source": [
    "pipeline  = make_sm_pipeline(preprocessing2, sm, LR_tuned)\n",
    "pipeline.fit(Xs_train, ys_train)"
   ]
  },
  {
   "cell_type": "code",
   "execution_count": null,
   "id": "bf5fc9c0-87e9-4246-a857-1b6c748b54cf",
   "metadata": {},
   "outputs": [],
   "source": [
    "f1_score(pipeline.predict(Xs_train), ys_train)"
   ]
  },
  {
   "cell_type": "code",
   "execution_count": null,
   "id": "3b2ecb1b-8d18-4d78-8bd8-62d968aee2c4",
   "metadata": {},
   "outputs": [],
   "source": [
    "f1_score(pipeline.predict(Xs_test), ys_test)"
   ]
  },
  {
   "cell_type": "code",
   "execution_count": null,
   "id": "a57bf03f-b27f-477a-a73a-7023e4420ccb",
   "metadata": {},
   "outputs": [],
   "source": [
    "f.confusion(pipeline, Xs_train, ys_train)"
   ]
  },
  {
   "cell_type": "code",
   "execution_count": null,
   "id": "5bb7856b-ad8b-47f9-bcd9-d0ba8ad08706",
   "metadata": {},
   "outputs": [],
   "source": [
    "f.confusion(pipeline, Xs_test, ys_test)"
   ]
  },
  {
   "cell_type": "markdown",
   "id": "4d43847e-4d80-44c8-bd2a-fdb5214a3ed0",
   "metadata": {
    "tags": []
   },
   "source": [
    "## Tuning Polys Model without SMOTE"
   ]
  },
  {
   "cell_type": "code",
   "execution_count": null,
   "id": "b6086603-6379-43b6-9804-78c21e5eb49f",
   "metadata": {},
   "outputs": [],
   "source": [
    "# LR_unbal = LogisticRegression(max_iter=1000, random_state=2021)\n",
    "\n",
    "# pipeline  = make_pipeline(preprocessing2, LR_unbal)\n",
    "# pipeline.fit(X_train, y_train)\n",
    "# f1_score(pipeline.predict(X_train), y_train)\n",
    "# modeling.report(pipeline, X_train, y_train, 'LR_unbal',\n",
    "#                 'polys w/ no smote')"
   ]
  },
  {
   "cell_type": "code",
   "execution_count": null,
   "id": "1bd5dcab-28fb-4535-a86c-f4052e11d482",
   "metadata": {
    "tags": []
   },
   "outputs": [],
   "source": [
    "# C = np.logspace(-3, 3, 7)\n",
    "# penalty = ['l1', 'l2']\n",
    "# solver = ['liblinear', 'saga']\n",
    "# weight = [None, 'balanced']\n",
    "\n",
    "# grid_values = {'logisticregression__C':C, \n",
    "#                'logisticregression__penalty':penalty,\n",
    "#                'logisticregression__solver':solver,\n",
    "#               'logisticregression__class_weight':weight}\n",
    "\n",
    "# grid_clf_f1 = GridSearchCV(pipeline, param_grid = grid_values, n_jobs=-1, verbose=3, scoring = 'f1')\n",
    "# grid_clf_f1.fit(X_train, y_train)"
   ]
  },
  {
   "cell_type": "code",
   "execution_count": null,
   "id": "a96cee46-1f5d-4815-99f9-858d6dcbdb4c",
   "metadata": {
    "tags": []
   },
   "outputs": [],
   "source": [
    "# print('Best C:', grid_clf_f1.best_estimator_.get_params()['logisticregression__C'])\n",
    "# print('Best penalty:', grid_clf_f1.best_estimator_.get_params()['logisticregression__penalty'])\n",
    "# print('Best solver:', grid_clf_f1.best_estimator_.get_params()['logisticregression__solver'])\n",
    "# print('Best class weight:', grid_clf_f1.best_estimator_.get_params()['logisticregression__class_weight'])"
   ]
  },
  {
   "cell_type": "code",
   "execution_count": null,
   "id": "ff352370-7cf7-4292-b383-94cb4a638eb7",
   "metadata": {},
   "outputs": [],
   "source": [
    "# LR_utuned = LogisticRegression(max_iter=1000, C=1, penalty='l1',\n",
    "#                                solver='liblinear',\n",
    "#                                class_weight='balanced',\n",
    "#                                random_state=2021)\n",
    "\n",
    "# pipeline  = make_pipeline(preprocessing2, LR_utuned)\n",
    "# pipeline.fit(X_train, y_train)\n",
    "# f1_score(pipeline.predict(X_train), y_train)\n",
    "# modeling.report(pipeline, X_train, y_train, 'LR_utuned',\n",
    "#                 'tuned w/ no smote')"
   ]
  },
  {
   "cell_type": "code",
   "execution_count": null,
   "id": "b021f3a4-d527-41e5-98f3-b10d208ccc74",
   "metadata": {},
   "outputs": [],
   "source": [
    "# modeling.history"
   ]
  },
  {
   "cell_type": "markdown",
   "id": "e8b2134f-736a-435d-869e-173afb77f19d",
   "metadata": {},
   "source": [
    "## Tuning no SMOTE, No Polys"
   ]
  },
  {
   "cell_type": "code",
   "execution_count": null,
   "id": "1bf68949-97d3-446e-99fc-66f668f1d1d7",
   "metadata": {},
   "outputs": [],
   "source": [
    "# LR_unbal = LogisticRegression(max_iter=1000, random_state=2021)\n",
    "\n",
    "# pipeline  = make_pipeline(preprocessing, LR_unbal)\n",
    "# pipeline.fit(X_train, y_train)\n",
    "# f1_score(pipeline.predict(X_train), y_train)\n",
    "# modeling.report(pipeline, X_train, y_train, 'LR_unbal',\n",
    "#                 'no polys, no smote')"
   ]
  },
  {
   "cell_type": "code",
   "execution_count": null,
   "id": "dfa8c5b6-315b-4a19-8a11-e1674f943018",
   "metadata": {},
   "outputs": [],
   "source": [
    "# C = np.logspace(-3, 3, 7)\n",
    "# penalty = ['l1', 'l2']\n",
    "# solver = ['liblinear', 'saga']\n",
    "# weight = [None, 'balanced']\n",
    "\n",
    "# grid_values = {'logisticregression__C':C, \n",
    "#                'logisticregression__penalty':penalty,\n",
    "#                'logisticregression__solver':solver,\n",
    "#               'logisticregression__class_weight':weight}\n",
    "\n",
    "# grid_clf_f1 = GridSearchCV(pipeline, param_grid = grid_values, scoring = 'f1')\n",
    "# grid_clf_f1.fit(X_train, y_train)"
   ]
  },
  {
   "cell_type": "code",
   "execution_count": null,
   "id": "875b4532-3119-48dd-9c34-04320c79ff18",
   "metadata": {},
   "outputs": [],
   "source": [
    "# print('Best C:', grid_clf_f1.best_estimator_.get_params()['logisticregression__C'])\n",
    "# print('Best penalty:', grid_clf_f1.best_estimator_.get_params()['logisticregression__penalty'])\n",
    "# print('Best solver:', grid_clf_f1.best_estimator_.get_params()['logisticregression__solver'])\n",
    "# print('Best class weight:', grid_clf_f1.best_estimator_.get_params()['logisticregression__class_weight'])"
   ]
  },
  {
   "cell_type": "code",
   "execution_count": null,
   "id": "ff912bc4-1805-4135-9a57-10ba13f17e19",
   "metadata": {},
   "outputs": [],
   "source": [
    "# LR_utuned = LogisticRegression(max_iter=1000, C=.1, penalty='l1',\n",
    "#                                solver='liblinear',\n",
    "#                                class_weight='balanced',\n",
    "#                                random_state=2021)\n",
    "\n",
    "# pipeline  = make_pipeline(preprocessing, LR_utuned)\n",
    "# pipeline.fit(X_train, y_train)\n",
    "# f1_score(pipeline.predict(X_train), y_train)\n",
    "# modeling.report(pipeline, X_train, y_train, 'LR_utuned',\n",
    "#                 'tuned no polys, no smote')"
   ]
  },
  {
   "cell_type": "code",
   "execution_count": null,
   "id": "78c10835-cf36-4f25-be92-0cf4b8f0edc3",
   "metadata": {},
   "outputs": [],
   "source": [
    "# modeling.history"
   ]
  },
  {
   "cell_type": "code",
   "execution_count": null,
   "id": "91b9b06d-bb30-40ed-a4d5-5b046f020fba",
   "metadata": {},
   "outputs": [],
   "source": [
    "# Xs_train, Xs_test, ys_train, ys_test = f.splitter(X_train, y_train)"
   ]
  },
  {
   "cell_type": "code",
   "execution_count": null,
   "id": "4715064f-3827-47ca-a43c-591c8a1c285c",
   "metadata": {},
   "outputs": [],
   "source": [
    "# pipeline  = make_pipeline(preprocessing2, LR_tuned)\n",
    "# pipeline.fit(Xs_train, ys_train)"
   ]
  },
  {
   "cell_type": "code",
   "execution_count": null,
   "id": "0577fa2a-71b4-4bee-89c9-9f4c356cb7e3",
   "metadata": {},
   "outputs": [],
   "source": [
    "# f1_score(pipeline.predict(Xs_train), ys_train)"
   ]
  },
  {
   "cell_type": "code",
   "execution_count": null,
   "id": "b799f865-e51c-4488-9e49-a0b8c4afd1f6",
   "metadata": {},
   "outputs": [],
   "source": [
    "# f1_score(pipeline.predict(Xs_test), ys_test)"
   ]
  },
  {
   "cell_type": "code",
   "execution_count": null,
   "id": "cf311886-27aa-4a5b-88d0-099745d7ff70",
   "metadata": {},
   "outputs": [],
   "source": [
    "# f.confusion(pipeline, Xs_train, ys_train)"
   ]
  },
  {
   "cell_type": "code",
   "execution_count": null,
   "id": "c7269d42-5c80-4d5a-99a8-690d8bc2091c",
   "metadata": {},
   "outputs": [],
   "source": [
    "# f.confusion(pipeline, Xs_test, ys_test)"
   ]
  },
  {
   "cell_type": "markdown",
   "id": "1b01282e-dd54-41c3-b7f7-6a67938214b6",
   "metadata": {},
   "source": [
    "## Feature Selection"
   ]
  },
  {
   "cell_type": "code",
   "execution_count": null,
   "id": "806e0898-bb36-4034-aa5d-247171fd0fca",
   "metadata": {},
   "outputs": [],
   "source": [
    "dropd4 = df[(df['Subject Perceived Race']!='NA') &\\\n",
    "            (df['Officer Race']!='NA')&\\\n",
    "            (df['Subject Age Group']!='NA')]"
   ]
  },
  {
   "cell_type": "code",
   "execution_count": null,
   "id": "2e8ad6ea-115d-4015-a3cf-a2c47855d686",
   "metadata": {},
   "outputs": [],
   "source": [
    "# \n",
    "feature_list = ['Weapon Type', 'Officer ID', 'Initial Call Type', 'Final Call Type',\n",
    "                'Call Type', 'Officer Squad', 'Arrest Flag',\n",
    "                'Frisk Flag',  'Sector', 'Beat', 'Weapon Flag',\n",
    "                'Reported Year', 'Reported Month',\n",
    "                'Day of Month', 'Day of Week', 'Reported Hour', 'Beat Flag']"
   ]
  },
  {
   "cell_type": "code",
   "execution_count": null,
   "id": "8d169cce-519d-46fb-8db3-8e8227a93fa6",
   "metadata": {},
   "outputs": [],
   "source": [
    "excluded = excluded = ['Officer ID','Frisk Flag','Weapon Flag',\n",
    "             'Reported Year', 'Reported Month','Day of Month',\n",
    "             'Day of Week', 'Reported Hour', 'Beat Flag']"
   ]
  },
  {
   "cell_type": "code",
   "execution_count": null,
   "id": "e8d0a9fe-95bd-44bd-a4ae-a5543d2db84e",
   "metadata": {},
   "outputs": [],
   "source": [
    "f.feature_test(dropd4, LR_tuned, feature_list)"
   ]
  },
  {
   "cell_type": "code",
   "execution_count": null,
   "id": "4b5b10c1-77b0-4d0b-9c21-8afb3961b209",
   "metadata": {},
   "outputs": [],
   "source": [
    "dropd4.columns"
   ]
  },
  {
   "cell_type": "code",
   "execution_count": null,
   "id": "ab64938c-d4ca-4d04-8a6e-eb1fe591bddf",
   "metadata": {},
   "outputs": [],
   "source": [
    "select_list = ['Target', 'Subject Age Group', 'Weapon Type', 'Officer ID',\n",
    "               'Officer Gender', 'Officer Race', 'Subject Perceived Race',\n",
    "               'Subject Perceived Gender','Initial Call Type', 'Precinct',\n",
    "               'Weapon Flag', 'Beat Flag', 'Officer Age',\n",
    "               'Racial Affinity', 'Gender Affinity']"
   ]
  },
  {
   "cell_type": "code",
   "execution_count": null,
   "id": "25aa0cdb-333e-4256-8070-7bef678bdaf2",
   "metadata": {},
   "outputs": [],
   "source": [
    "df_7 = dropd4[select_list]"
   ]
  },
  {
   "cell_type": "code",
   "execution_count": null,
   "id": "045c5147-100b-4b25-90d8-e465688d7093",
   "metadata": {},
   "outputs": [],
   "source": [
    "df_7.head(2)"
   ]
  },
  {
   "cell_type": "code",
   "execution_count": null,
   "id": "d5211780-5318-4527-b617-3a5b06a5412f",
   "metadata": {},
   "outputs": [],
   "source": [
    "df_7.info()"
   ]
  },
  {
   "cell_type": "code",
   "execution_count": null,
   "id": "4e60abf0-8c6c-4afd-9424-2aae6b01ad24",
   "metadata": {},
   "outputs": [],
   "source": [
    "X, y = f.Xy(df_7)"
   ]
  },
  {
   "cell_type": "code",
   "execution_count": null,
   "id": "93b0ad95-c2a4-4964-87b8-df15a9d79a36",
   "metadata": {},
   "outputs": [],
   "source": [
    "X_train, X_test, y_train, y_test = f.splitter(X,y)"
   ]
  },
  {
   "cell_type": "code",
   "execution_count": null,
   "id": "e32b1133-b2af-4c7c-bf2e-c363066a744a",
   "metadata": {},
   "outputs": [],
   "source": [
    "selector = make_pipeline(preprocessing2, LR_tuned)"
   ]
  },
  {
   "cell_type": "code",
   "execution_count": null,
   "id": "fbc8cb6f-d096-4960-9556-3f61c51012aa",
   "metadata": {},
   "outputs": [],
   "source": [
    "selector.fit(X_train, y_train)"
   ]
  },
  {
   "cell_type": "code",
   "execution_count": null,
   "id": "bec2a11a-1a81-4d6a-9583-ad3706774981",
   "metadata": {},
   "outputs": [],
   "source": [
    "#scoring the model\n",
    "f1_score(selector.predict(X_train), y_train)"
   ]
  },
  {
   "cell_type": "code",
   "execution_count": null,
   "id": "89794e31-427b-420a-86b1-b3f578cd1b4d",
   "metadata": {},
   "outputs": [],
   "source": [
    "# checking cross val scores\n",
    "modeling.report(selector, X_train, y_train, 'LR+polys, no smote', 'Top Features Selected')"
   ]
  },
  {
   "cell_type": "code",
   "execution_count": null,
   "id": "b81171c5-b60b-4472-bc9c-e17c81b56683",
   "metadata": {},
   "outputs": [],
   "source": [
    "modeling.history"
   ]
  },
  {
   "cell_type": "markdown",
   "id": "a0855640-32d3-4363-bcb7-80bc2cbc5ba8",
   "metadata": {},
   "source": [
    "## Re-Tuning on Selected Features"
   ]
  },
  {
   "cell_type": "code",
   "execution_count": null,
   "id": "19746915-4522-4248-8be7-8ea5cf83d563",
   "metadata": {},
   "outputs": [],
   "source": [
    "LR_Select = LogisticRegression(max_iter=500, random_state=2021)\n",
    "\n",
    "pipeline  = make_pipeline(preprocessing2, LR_Select)\n",
    "pipeline.fit(X_train, y_train)\n",
    "f1_score(pipeline.predict(X_train), y_train)\n",
    "modeling.report(pipeline, X_train, y_train, 'LR_Select',\n",
    "                'polys, no smote')"
   ]
  },
  {
   "cell_type": "code",
   "execution_count": null,
   "id": "e973aca8-eec9-40b0-8b36-2c9b4bbec14c",
   "metadata": {
    "tags": []
   },
   "outputs": [],
   "source": [
    "# C = np.logspace(-3, 3, 7)\n",
    "# penalty = ['l1', 'l2']\n",
    "# solver = ['liblinear', 'saga']\n",
    "# weight = [None, 'balanced']\n",
    "\n",
    "# grid_values = {'logisticregression__C':C, \n",
    "#                'logisticregression__penalty':penalty,\n",
    "#                'logisticregression__solver':solver,\n",
    "#               'logisticregression__class_weight':weight}\n",
    "\n",
    "# grid_clf_f1 = GridSearchCV(pipeline, param_grid = grid_values, scoring = 'f1')\n",
    "# grid_clf_f1.fit(X_train, y_train)"
   ]
  },
  {
   "cell_type": "code",
   "execution_count": null,
   "id": "f6e19376-34e9-45ea-a45e-5fc5a7669d6e",
   "metadata": {
    "tags": []
   },
   "outputs": [],
   "source": [
    "print('Best C:', grid_clf_f1.best_estimator_.get_params()['logisticregression__C'])\n",
    "print('Best penalty:', grid_clf_f1.best_estimator_.get_params()['logisticregression__penalty'])\n",
    "print('Best solver:', grid_clf_f1.best_estimator_.get_params()['logisticregression__solver'])\n",
    "print('Best class weight:', grid_clf_f1.best_estimator_.get_params()['logisticregression__class_weight'])"
   ]
  },
  {
   "cell_type": "code",
   "execution_count": null,
   "id": "b6303e8f-116c-46d7-83e2-52138e7eedb0",
   "metadata": {},
   "outputs": [],
   "source": [
    "LR_seltuned = LogisticRegression(max_iter=500, C=1, penalty='l1',\n",
    "                               solver='liblinear',\n",
    "                               class_weight='balanced',\n",
    "                               random_state=2021)\n",
    "\n",
    "pipeline  = make_pipeline(preprocessing2, LR_seltuned)\n",
    "pipeline.fit(X_train, y_train)\n",
    "f1_score(pipeline.predict(X_train), y_train)\n",
    "modeling.report(pipeline, X_train, y_train, 'LR_seltuned',\n",
    "                'polys, no smote, selected features')"
   ]
  },
  {
   "cell_type": "code",
   "execution_count": null,
   "id": "c4982cdc-6f16-40ca-9441-98b2df2314ae",
   "metadata": {},
   "outputs": [],
   "source": [
    "modeling.history"
   ]
  },
  {
   "cell_type": "markdown",
   "id": "4605ce79-ba01-4148-be05-59f249540661",
   "metadata": {},
   "source": [
    "## Testing on SubSplits"
   ]
  },
  {
   "cell_type": "code",
   "execution_count": null,
   "id": "51568106-2090-4fb3-805c-921d8b1c619e",
   "metadata": {},
   "outputs": [],
   "source": [
    "Xs_train, Xs_test, ys_train , ys_test = f.splitter(X_train, y_train)"
   ]
  },
  {
   "cell_type": "code",
   "execution_count": null,
   "id": "6ec4cb99-1a6a-4159-8c22-5467a39c9473",
   "metadata": {},
   "outputs": [],
   "source": [
    "preprocessing2.fit_transform(Xs_train)"
   ]
  },
  {
   "cell_type": "code",
   "execution_count": null,
   "id": "eadeb89c-62dd-4fb7-9eb2-35ac23c05c47",
   "metadata": {},
   "outputs": [],
   "source": [
    "sub_pipeline = make_pipeline(preprocessing2, LR_seltuned)"
   ]
  },
  {
   "cell_type": "code",
   "execution_count": null,
   "id": "39e957eb-38c3-4954-8739-f952f1df50ff",
   "metadata": {},
   "outputs": [],
   "source": [
    "sub_pipeline.fit(Xs_train, ys_train)"
   ]
  },
  {
   "cell_type": "code",
   "execution_count": null,
   "id": "fcb68c11-afab-4ea3-8bfe-a07cb5478926",
   "metadata": {},
   "outputs": [],
   "source": [
    "f1_score(sub_pipeline.predict(Xs_train), ys_train)"
   ]
  },
  {
   "cell_type": "code",
   "execution_count": null,
   "id": "3a624ccc-d1ab-4884-8bdd-43a0f7a08fea",
   "metadata": {},
   "outputs": [],
   "source": [
    "f1_score(sub_pipeline.predict(Xs_test), ys_test)"
   ]
  },
  {
   "cell_type": "code",
   "execution_count": null,
   "id": "bfdd5e5b-f232-4ebd-a51c-ecf7315b103f",
   "metadata": {},
   "outputs": [],
   "source": [
    "modeling.report(sub_pipeline, Xs_train, ys_train, 'LR Polys', 'tuned select features  training')"
   ]
  },
  {
   "cell_type": "code",
   "execution_count": null,
   "id": "16dcada8-a250-479a-ba73-749d0eae128a",
   "metadata": {},
   "outputs": [],
   "source": [
    "f.confusion(sub_pipeline, Xs_train, ys_train)"
   ]
  },
  {
   "cell_type": "code",
   "execution_count": null,
   "id": "5227aba3-03ad-4ef8-9219-30061b8c940b",
   "metadata": {},
   "outputs": [],
   "source": [
    "modeling.report(sub_pipeline, Xs_test, ys_test, 'LR_Polys', 'tuned select Features testing')"
   ]
  },
  {
   "cell_type": "code",
   "execution_count": null,
   "id": "7ae16db7-8a6a-4a43-8ffb-6722603f8b49",
   "metadata": {},
   "outputs": [],
   "source": [
    "f.confusion(sub_pipeline, Xs_test, ys_test)"
   ]
  },
  {
   "cell_type": "code",
   "execution_count": null,
   "id": "dc2dc881-1a10-4ad9-a636-ed8cca687df4",
   "metadata": {},
   "outputs": [],
   "source": [
    "modeling.history"
   ]
  },
  {
   "cell_type": "markdown",
   "id": "36df491d-2673-4adc-94a0-d1214be3041d",
   "metadata": {},
   "source": [
    "## Boruta "
   ]
  },
  {
   "cell_type": "code",
   "execution_count": null,
   "id": "3e3de1dd-429e-4fb6-999e-029e7839354b",
   "metadata": {},
   "outputs": [],
   "source": [
    "X, y = f.Xy()"
   ]
  },
  {
   "cell_type": "code",
   "execution_count": null,
   "id": "4d965a6a-59c6-4ef8-a00a-04b19c321c6c",
   "metadata": {},
   "outputs": [],
   "source": [
    "X.head()"
   ]
  },
  {
   "cell_type": "code",
   "execution_count": null,
   "id": "b1ace925-e310-46cc-bed2-6256a55b749f",
   "metadata": {
    "tags": []
   },
   "outputs": [],
   "source": [
    "num_cols = X.columns[X.dtypes.apply(lambda c: np.issubdtype(c, np.number))]"
   ]
  },
  {
   "cell_type": "code",
   "execution_count": null,
   "id": "e957c81c-e42d-43c4-85be-620c268832c9",
   "metadata": {
    "tags": []
   },
   "outputs": [],
   "source": [
    "ss = StandardScaler()\n",
    "\n",
    "X[num_cols] = ss.fit_transform(X[num_cols])"
   ]
  },
  {
   "cell_type": "code",
   "execution_count": null,
   "id": "cc492427-fed0-40f5-a7aa-df9962d4ae4c",
   "metadata": {},
   "outputs": [],
   "source": [
    "X.head(2)"
   ]
  },
  {
   "cell_type": "code",
   "execution_count": null,
   "id": "8b7007e4-78b2-4897-8c93-888082cb9d2b",
   "metadata": {},
   "outputs": [],
   "source": [
    "X = pd.get_dummies(X)"
   ]
  },
  {
   "cell_type": "code",
   "execution_count": null,
   "id": "007c4ec5-9126-4075-a8bc-c7658999f979",
   "metadata": {},
   "outputs": [],
   "source": [
    "rf = RandomForestClassifier(n_jobs=-1, class_weight='balanced', max_depth=5)\n",
    "\n",
    "# define Boruta feature selection method\n",
    "feat_selector = BorutaPy(rf, n_estimators='auto', verbose=2, random_state=2021)\n",
    "\n",
    "# find all relevant features - 5 features should be selected\n",
    "feat_selector.fit(X.values, y.values)\n",
    "\n",
    "# check selected features - first 5 features are selected\n",
    "feat_selector.support_\n",
    "\n",
    "# check ranking of features\n",
    "feat_selector.ranking_"
   ]
  },
  {
   "cell_type": "code",
   "execution_count": null,
   "id": "f888713e-4291-44fc-8aef-564f9cb74831",
   "metadata": {},
   "outputs": [],
   "source": [
    "# call transform() on X to filter it down to selected features\n",
    "X_filtered = feat_selector.transform(X.values)\n",
    "\n",
    "green_area = X.columns[feat_selector.support_].to_list()\n",
    "blue_area = X.columns[feat_selector.support_weak_].to_list()\n",
    "print('features in the green area:', green_area)\n",
    "print('features in the blue area:', blue_area)"
   ]
  },
  {
   "cell_type": "code",
   "execution_count": null,
   "id": "4349a71d-cefc-4662-884c-ea008b328d62",
   "metadata": {},
   "outputs": [],
   "source": [
    "X.columns[feat_selector.ranking_].sort_values(ascending=False).to_list()"
   ]
  },
  {
   "cell_type": "code",
   "execution_count": null,
   "id": "945ee716-67d4-4952-8e4e-c868f497d06d",
   "metadata": {},
   "outputs": [],
   "source": [
    "X_filtered = feat_selector.transform(X.values)"
   ]
  },
  {
   "cell_type": "code",
   "execution_count": null,
   "id": "98498550-25d9-4fd4-b209-fc70002a3120",
   "metadata": {},
   "outputs": [],
   "source": [
    "boruta = pd.DataFrame(X_filtered)"
   ]
  },
  {
   "cell_type": "code",
   "execution_count": null,
   "id": "3b19a132-c684-4f61-b1b5-3913517e21c6",
   "metadata": {},
   "outputs": [],
   "source": [
    "X_train, X_test, y_train, y_test = f.splitter(boruta, y)"
   ]
  },
  {
   "cell_type": "code",
   "execution_count": null,
   "id": "b3dfff33-0f05-4a37-9991-9c19baf01559",
   "metadata": {
    "tags": []
   },
   "outputs": [],
   "source": [
    "boruta_selected = make_pipeline(preprocessing2, LR_utuned)"
   ]
  },
  {
   "cell_type": "code",
   "execution_count": null,
   "id": "d976dca5-0631-4391-ab15-53a79e037c49",
   "metadata": {},
   "outputs": [],
   "source": [
    "boruta_selected.fit(X_train, y_train)"
   ]
  },
  {
   "cell_type": "code",
   "execution_count": null,
   "id": "e994ca0c-922b-4e71-bb50-bfe8953d8a3a",
   "metadata": {},
   "outputs": [],
   "source": [
    "#scoring the model\n",
    "f1_score(boruta_selected.predict(X_train), y_train)"
   ]
  },
  {
   "cell_type": "code",
   "execution_count": null,
   "id": "0036ca1c-801d-4ab8-81b7-f7697b40e0fb",
   "metadata": {},
   "outputs": [],
   "source": [
    "# checking cross val scores\n",
    "modeling.report(boruta_selected, X_train, y_train, 'LR+polys, no smote', 'Boruta Selected')"
   ]
  },
  {
   "cell_type": "code",
   "execution_count": null,
   "id": "bb234734-7ae2-4378-a3fb-eedec249f3de",
   "metadata": {},
   "outputs": [],
   "source": [
    "modeling.history"
   ]
  },
  {
   "cell_type": "markdown",
   "id": "b3a790ab-cb93-40cd-8ca6-578748438322",
   "metadata": {},
   "source": [
    "## Decision Tree"
   ]
  },
  {
   "cell_type": "code",
   "execution_count": null,
   "id": "9bdd0143-5106-48bd-8280-580d9c295f67",
   "metadata": {},
   "outputs": [],
   "source": [
    "# features engineered during eda\n",
    "feature_list3 = ['Weapon Flag', 'Reported Year', 'Reported Month',\n",
    "                'Day of Month', 'Day of Week', 'Reported Hour', 'Beat Flag']"
   ]
  },
  {
   "cell_type": "code",
   "execution_count": null,
   "id": "f98bf656-10af-4c92-99f3-2030acc88664",
   "metadata": {},
   "outputs": [],
   "source": [
    "excluded = ['Officer ID','Frisk Flag','Weapon Flag',\n",
    "             'Reported Year', 'Reported Month','Day of Month',\n",
    "             'Day of Week', 'Reported Hour']"
   ]
  },
  {
   "cell_type": "code",
   "execution_count": null,
   "id": "143284ab-87d7-4219-8166-1c7b22afa330",
   "metadata": {},
   "outputs": [],
   "source": [
    "baseline_df2 = f.framer(df, [], excluded)"
   ]
  },
  {
   "cell_type": "code",
   "execution_count": null,
   "id": "24a10f21-4c42-4135-9222-95f956823e59",
   "metadata": {},
   "outputs": [],
   "source": [
    "baseline_df2.head(2)"
   ]
  },
  {
   "cell_type": "code",
   "execution_count": null,
   "id": "ced75d1a-5006-47bb-8e0c-19a370b993a4",
   "metadata": {},
   "outputs": [],
   "source": [
    "X, y = f.Xy(baseline_df2)"
   ]
  },
  {
   "cell_type": "code",
   "execution_count": null,
   "id": "05901510-a753-4acb-b681-c223d99ca895",
   "metadata": {},
   "outputs": [],
   "source": [
    "X_train, X_test, y_train, y_test = f.splitter(X,y)"
   ]
  },
  {
   "cell_type": "code",
   "execution_count": null,
   "id": "9026f5f9-476d-435f-95a6-a706c48f1ae3",
   "metadata": {},
   "outputs": [],
   "source": [
    "preprocessing.fit_transform(X_train)"
   ]
  },
  {
   "cell_type": "code",
   "execution_count": null,
   "id": "cae5c0f7-67cc-4e0b-925a-8225cfb6874a",
   "metadata": {},
   "outputs": [],
   "source": [
    "DT = DecisionTreeClassifier()"
   ]
  },
  {
   "cell_type": "code",
   "execution_count": null,
   "id": "3a9e9f9e-da93-4449-8680-f9f146478a7e",
   "metadata": {},
   "outputs": [],
   "source": [
    "dt_pipeline = make_sm_pipeline(preprocessing2, DT)"
   ]
  },
  {
   "cell_type": "code",
   "execution_count": null,
   "id": "f867e1d2-e1cc-42eb-8701-07dde608cee9",
   "metadata": {},
   "outputs": [],
   "source": [
    "modeling.report(dt_pipeline, X_train, y_train, 'Tree CLF', 'Tree w/o SMOTE')"
   ]
  },
  {
   "cell_type": "markdown",
   "id": "16a4cb62-fb8f-4803-b58c-d86e099e6bc7",
   "metadata": {},
   "source": [
    "## Random Forest"
   ]
  },
  {
   "cell_type": "code",
   "execution_count": null,
   "id": "abc502f0-1740-4487-9a37-803bb6d8295d",
   "metadata": {},
   "outputs": [],
   "source": [
    "RF = RandomForestClassifier(random_state=2021)"
   ]
  },
  {
   "cell_type": "code",
   "execution_count": null,
   "id": "9e6e1690-0b38-4ac2-bda3-b0df6fcad256",
   "metadata": {},
   "outputs": [],
   "source": [
    "rf_pipeline = make_pipeline(preprocessing, RF)"
   ]
  },
  {
   "cell_type": "code",
   "execution_count": null,
   "id": "faddb395-619b-4999-8d14-59c53f85d6f9",
   "metadata": {},
   "outputs": [],
   "source": [
    "modeling.report(rf_pipeline, X_train, y_train, 'RandomForest', 'Forest w/o SMOTE')"
   ]
  },
  {
   "cell_type": "code",
   "execution_count": null,
   "id": "76be55be-3684-4d6a-8a41-c74ee40b2cbc",
   "metadata": {},
   "outputs": [],
   "source": [
    "rf_pipeline.get_params().keys()"
   ]
  },
  {
   "cell_type": "code",
   "execution_count": null,
   "id": "663902fd-0708-40b7-9ba4-e10183b1deb6",
   "metadata": {},
   "outputs": [],
   "source": [
    "# criterion = ['gini', 'entropy']\n",
    "# max_depth = [2, 3, None]\n",
    "# min_samples_split = [2, 5, 10]\n",
    "# class_weight = ['balanced', 'balanced_subsample']\n",
    "\n",
    "# grid_values = {'randomforestclassifier__criterion':criterion, \n",
    "#                'randomforestclassifier__max_depth':max_depth,\n",
    "#                'randomforestclassifier__min_samples_split':min_samples_split,\n",
    "#               'randomforestclassifier__class_weight':class_weight}\n",
    "\n",
    "# grid_rf_f1 = GridSearchCV(rf_pipeline, param_grid = grid_values, scoring = 'f1')\n",
    "# grid_rf_f1.fit(X_train, y_train)"
   ]
  },
  {
   "cell_type": "code",
   "execution_count": null,
   "id": "aee76a90-117b-4411-8dc4-1246b38a0959",
   "metadata": {},
   "outputs": [],
   "source": [
    "# print('Best criterion:', grid_rf_f1.best_estimator_.get_params()['randomforestclassifier__criterion'])\n",
    "# print('Best max_depth:', grid_rf_f1.best_estimator_.get_params()['randomforestclassifier__max_depth'])\n",
    "# print('Best min_samples_split:', grid_rf_f1.best_estimator_.get_params()['randomforestclassifier__min_samples_split'])\n",
    "# print('Best class weight:', grid_rf_f1.best_estimator_.get_params()['randomforestclassifier__class_weight'])"
   ]
  },
  {
   "cell_type": "code",
   "execution_count": null,
   "id": "3a9e1e84-8740-45ba-b89c-580de057d92f",
   "metadata": {},
   "outputs": [],
   "source": [
    "RF = RandomForestClassifier(criterion='gini',\n",
    "                            max_depth=3, min_samples_split=2,\n",
    "                            class_weight='balanced',\n",
    "                            random_state=2021)"
   ]
  },
  {
   "cell_type": "code",
   "execution_count": null,
   "id": "2c415d54-8e80-490d-8996-67dcc0d89a3f",
   "metadata": {},
   "outputs": [],
   "source": [
    "rf_pipeline = make_pipeline(preprocessing, RF)"
   ]
  },
  {
   "cell_type": "code",
   "execution_count": null,
   "id": "8a5835b4-eb37-46af-90b2-b6b36121dc86",
   "metadata": {},
   "outputs": [],
   "source": [
    "modeling.report(rf_pipeline, X_train, y_train, 'RandomForest', 'Forest w/o SMOTE')"
   ]
  },
  {
   "cell_type": "code",
   "execution_count": null,
   "id": "56526bfc-ea33-4aab-94ab-241b00f32c15",
   "metadata": {},
   "outputs": [],
   "source": [
    "modeling.history"
   ]
  },
  {
   "cell_type": "code",
   "execution_count": null,
   "id": "1f29cf68-e3e9-4a43-a7de-278d9be0099e",
   "metadata": {},
   "outputs": [],
   "source": [
    "rf_pipeline.fit(X_train, y_train)"
   ]
  },
  {
   "cell_type": "code",
   "execution_count": null,
   "id": "8dd8e263-e91a-43e0-8b22-eda268944052",
   "metadata": {},
   "outputs": [],
   "source": [
    "f.confusion(rf_pipeline, X_train, y_train)"
   ]
  },
  {
   "cell_type": "code",
   "execution_count": null,
   "id": "cd307d32-7dc8-4842-93de-58408ced8485",
   "metadata": {},
   "outputs": [],
   "source": []
  }
 ],
 "metadata": {
  "kernelspec": {
   "display_name": "terry_stops",
   "language": "python",
   "name": "terry_stops"
  },
  "language_info": {
   "codemirror_mode": {
    "name": "ipython",
    "version": 3
   },
   "file_extension": ".py",
   "mimetype": "text/x-python",
   "name": "python",
   "nbconvert_exporter": "python",
   "pygments_lexer": "ipython3",
   "version": "3.9.4"
  }
 },
 "nbformat": 4,
 "nbformat_minor": 5
}
