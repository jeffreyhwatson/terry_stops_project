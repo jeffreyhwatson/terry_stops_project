{
 "cells": [
  {
   "cell_type": "code",
   "execution_count": 1,
   "metadata": {},
   "outputs": [],
   "source": [
    "%load_ext autoreload\n",
    "%autoreload 2"
   ]
  },
  {
   "cell_type": "code",
   "execution_count": 2,
   "metadata": {},
   "outputs": [],
   "source": [
    "# setting project path\n",
    "import os\n",
    "import sys\n",
    "\n",
    "gparent = os.path.join(os.pardir, os.pardir)\n",
    "sys.path.append(gparent)\n",
    "\n",
    "# imports\n",
    "import pandas as pd\n",
    "import numpy as np\n",
    "\n",
    "from sklearn.model_selection import train_test_split\n",
    "from sklearn.model_selection import cross_val_score\n",
    "from sklearn.preprocessing import StandardScaler\n",
    "from sklearn.preprocessing import MinMaxScaler\n",
    "from sklearn.compose import make_column_selector\n",
    "from sklearn.compose import make_column_transformer\n",
    "from sklearn.preprocessing import OneHotEncoder\n",
    "from sklearn.pipeline import make_pipeline\n",
    "from sklearn.linear_model import LogisticRegression\n",
    "from sklearn.metrics import accuracy_score, recall_score, precision_score, f1_score\n",
    "\n",
    "from imblearn.over_sampling import SMOTE\n",
    "from imblearn.pipeline import make_pipeline\n",
    "\n",
    "import matplotlib.pyplot as plt\n",
    "import seaborn as sns\n",
    "\n",
    "# setting style\n",
    "sns.set_theme('talk')\n",
    "plt.style.use('fivethirtyeight')\n",
    "sns.set_palette(palette='Blues_r')"
   ]
  },
  {
   "cell_type": "code",
   "execution_count": 3,
   "metadata": {},
   "outputs": [],
   "source": [
    "path = os.path.join(gparent, 'data/processed', 'cleaned1.csv')\n",
    "df = pd.read_csv(path, keep_default_na=False)"
   ]
  },
  {
   "cell_type": "code",
   "execution_count": 4,
   "metadata": {},
   "outputs": [
    {
     "data": {
      "text/html": [
       "<div>\n",
       "<style scoped>\n",
       "    .dataframe tbody tr th:only-of-type {\n",
       "        vertical-align: middle;\n",
       "    }\n",
       "\n",
       "    .dataframe tbody tr th {\n",
       "        vertical-align: top;\n",
       "    }\n",
       "\n",
       "    .dataframe thead th {\n",
       "        text-align: right;\n",
       "    }\n",
       "</style>\n",
       "<table border=\"1\" class=\"dataframe\">\n",
       "  <thead>\n",
       "    <tr style=\"text-align: right;\">\n",
       "      <th></th>\n",
       "      <th>Target</th>\n",
       "      <th>Subject Age Group</th>\n",
       "      <th>Stop Resolution</th>\n",
       "      <th>Weapon Type</th>\n",
       "      <th>Officer ID</th>\n",
       "      <th>Officer YOB</th>\n",
       "      <th>Officer Gender</th>\n",
       "      <th>Officer Race</th>\n",
       "      <th>Subject Perceived Race</th>\n",
       "      <th>Subject Perceived Gender</th>\n",
       "      <th>...</th>\n",
       "      <th>Precinct</th>\n",
       "      <th>Sector</th>\n",
       "      <th>Beat</th>\n",
       "      <th>Weapon Flag</th>\n",
       "      <th>Reported Year</th>\n",
       "      <th>Reported Month</th>\n",
       "      <th>Day of Month</th>\n",
       "      <th>Day of Week</th>\n",
       "      <th>Reported Hour</th>\n",
       "      <th>Beat Flag</th>\n",
       "    </tr>\n",
       "  </thead>\n",
       "  <tbody>\n",
       "    <tr>\n",
       "      <th>0</th>\n",
       "      <td>1</td>\n",
       "      <td>NA</td>\n",
       "      <td>Arrest</td>\n",
       "      <td>None</td>\n",
       "      <td>7500</td>\n",
       "      <td>1984</td>\n",
       "      <td>M</td>\n",
       "      <td>Black</td>\n",
       "      <td>Asian</td>\n",
       "      <td>Male</td>\n",
       "      <td>...</td>\n",
       "      <td>South</td>\n",
       "      <td>O</td>\n",
       "      <td>O2</td>\n",
       "      <td>0</td>\n",
       "      <td>2015</td>\n",
       "      <td>10</td>\n",
       "      <td>16</td>\n",
       "      <td>4</td>\n",
       "      <td>11</td>\n",
       "      <td>1</td>\n",
       "    </tr>\n",
       "    <tr>\n",
       "      <th>1</th>\n",
       "      <td>0</td>\n",
       "      <td>NA</td>\n",
       "      <td>Field Contact</td>\n",
       "      <td>None</td>\n",
       "      <td>5670</td>\n",
       "      <td>1965</td>\n",
       "      <td>M</td>\n",
       "      <td>White</td>\n",
       "      <td>NA</td>\n",
       "      <td>NA</td>\n",
       "      <td>...</td>\n",
       "      <td>NA</td>\n",
       "      <td>NA</td>\n",
       "      <td>NA</td>\n",
       "      <td>0</td>\n",
       "      <td>2015</td>\n",
       "      <td>3</td>\n",
       "      <td>19</td>\n",
       "      <td>3</td>\n",
       "      <td>7</td>\n",
       "      <td>0</td>\n",
       "    </tr>\n",
       "  </tbody>\n",
       "</table>\n",
       "<p>2 rows × 26 columns</p>\n",
       "</div>"
      ],
      "text/plain": [
       "   Target Subject Age Group Stop Resolution Weapon Type Officer ID  \\\n",
       "0       1                NA          Arrest        None       7500   \n",
       "1       0                NA   Field Contact        None       5670   \n",
       "\n",
       "   Officer YOB Officer Gender Officer Race Subject Perceived Race  \\\n",
       "0         1984              M        Black                  Asian   \n",
       "1         1965              M        White                     NA   \n",
       "\n",
       "  Subject Perceived Gender  ... Precinct  Sector    Beat Weapon Flag  \\\n",
       "0                     Male  ...    South  O       O2               0   \n",
       "1                       NA  ...       NA      NA      NA           0   \n",
       "\n",
       "   Reported Year  Reported Month Day of Month Day of Week Reported Hour  \\\n",
       "0           2015              10           16           4            11   \n",
       "1           2015               3           19           3             7   \n",
       "\n",
       "   Beat Flag  \n",
       "0          1  \n",
       "1          0  \n",
       "\n",
       "[2 rows x 26 columns]"
      ]
     },
     "execution_count": 4,
     "metadata": {},
     "output_type": "execute_result"
    }
   ],
   "source": [
    "df.head(2)"
   ]
  },
  {
   "cell_type": "code",
   "execution_count": 5,
   "metadata": {},
   "outputs": [
    {
     "name": "stdout",
     "output_type": "stream",
     "text": [
      "<class 'pandas.core.frame.DataFrame'>\n",
      "RangeIndex: 46960 entries, 0 to 46959\n",
      "Data columns (total 26 columns):\n",
      " #   Column                    Non-Null Count  Dtype \n",
      "---  ------                    --------------  ----- \n",
      " 0   Target                    46960 non-null  int64 \n",
      " 1   Subject Age Group         46960 non-null  object\n",
      " 2   Stop Resolution           46960 non-null  object\n",
      " 3   Weapon Type               46960 non-null  object\n",
      " 4   Officer ID                46960 non-null  object\n",
      " 5   Officer YOB               46960 non-null  int64 \n",
      " 6   Officer Gender            46960 non-null  object\n",
      " 7   Officer Race              46960 non-null  object\n",
      " 8   Subject Perceived Race    46960 non-null  object\n",
      " 9   Subject Perceived Gender  46960 non-null  object\n",
      " 10  Initial Call Type         46960 non-null  object\n",
      " 11  Final Call Type           46960 non-null  object\n",
      " 12  Call Type                 46960 non-null  object\n",
      " 13  Officer Squad             46960 non-null  object\n",
      " 14  Arrest Flag               46960 non-null  int64 \n",
      " 15  Frisk Flag                46960 non-null  int64 \n",
      " 16  Precinct                  46960 non-null  object\n",
      " 17  Sector                    46960 non-null  object\n",
      " 18  Beat                      46960 non-null  object\n",
      " 19  Weapon Flag               46960 non-null  int64 \n",
      " 20  Reported Year             46960 non-null  int64 \n",
      " 21  Reported Month            46960 non-null  int64 \n",
      " 22  Day of Month              46960 non-null  int64 \n",
      " 23  Day of Week               46960 non-null  int64 \n",
      " 24  Reported Hour             46960 non-null  int64 \n",
      " 25  Beat Flag                 46960 non-null  int64 \n",
      "dtypes: int64(11), object(15)\n",
      "memory usage: 9.3+ MB\n"
     ]
    }
   ],
   "source": [
    "df.info()"
   ]
  },
  {
   "cell_type": "code",
   "execution_count": 6,
   "metadata": {},
   "outputs": [],
   "source": [
    "column_list = df.columns\n",
    "excluded = ['Stop Resolution', 'Weapon Type', 'Officer ID',\n",
    "          'Initial Call Type', 'Final Call Type', 'Officer Squad',\n",
    "            'Precinct', 'Sector', 'Beat']\n",
    "cols = [x for x in column_list if x not in excluded]"
   ]
  },
  {
   "cell_type": "code",
   "execution_count": 7,
   "metadata": {},
   "outputs": [
    {
     "data": {
      "text/plain": [
       "['Target',\n",
       " 'Subject Age Group',\n",
       " 'Officer YOB',\n",
       " 'Officer Gender',\n",
       " 'Officer Race',\n",
       " 'Subject Perceived Race',\n",
       " 'Subject Perceived Gender',\n",
       " 'Call Type',\n",
       " 'Arrest Flag',\n",
       " 'Frisk Flag',\n",
       " 'Weapon Flag',\n",
       " 'Reported Year',\n",
       " 'Reported Month',\n",
       " 'Day of Month',\n",
       " 'Day of Week',\n",
       " 'Reported Hour',\n",
       " 'Beat Flag']"
      ]
     },
     "execution_count": 7,
     "metadata": {},
     "output_type": "execute_result"
    }
   ],
   "source": [
    "cols"
   ]
  },
  {
   "cell_type": "code",
   "execution_count": 8,
   "metadata": {},
   "outputs": [],
   "source": [
    "test_df = df[cols]"
   ]
  },
  {
   "cell_type": "code",
   "execution_count": 9,
   "metadata": {},
   "outputs": [
    {
     "data": {
      "text/html": [
       "<div>\n",
       "<style scoped>\n",
       "    .dataframe tbody tr th:only-of-type {\n",
       "        vertical-align: middle;\n",
       "    }\n",
       "\n",
       "    .dataframe tbody tr th {\n",
       "        vertical-align: top;\n",
       "    }\n",
       "\n",
       "    .dataframe thead th {\n",
       "        text-align: right;\n",
       "    }\n",
       "</style>\n",
       "<table border=\"1\" class=\"dataframe\">\n",
       "  <thead>\n",
       "    <tr style=\"text-align: right;\">\n",
       "      <th></th>\n",
       "      <th>Target</th>\n",
       "      <th>Subject Age Group</th>\n",
       "      <th>Officer YOB</th>\n",
       "      <th>Officer Gender</th>\n",
       "      <th>Officer Race</th>\n",
       "      <th>Subject Perceived Race</th>\n",
       "      <th>Subject Perceived Gender</th>\n",
       "      <th>Call Type</th>\n",
       "      <th>Arrest Flag</th>\n",
       "      <th>Frisk Flag</th>\n",
       "      <th>Weapon Flag</th>\n",
       "      <th>Reported Year</th>\n",
       "      <th>Reported Month</th>\n",
       "      <th>Day of Month</th>\n",
       "      <th>Day of Week</th>\n",
       "      <th>Reported Hour</th>\n",
       "      <th>Beat Flag</th>\n",
       "    </tr>\n",
       "  </thead>\n",
       "  <tbody>\n",
       "    <tr>\n",
       "      <th>0</th>\n",
       "      <td>1</td>\n",
       "      <td>NA</td>\n",
       "      <td>1984</td>\n",
       "      <td>M</td>\n",
       "      <td>Black</td>\n",
       "      <td>Asian</td>\n",
       "      <td>Male</td>\n",
       "      <td>NA</td>\n",
       "      <td>0</td>\n",
       "      <td>0</td>\n",
       "      <td>0</td>\n",
       "      <td>2015</td>\n",
       "      <td>10</td>\n",
       "      <td>16</td>\n",
       "      <td>4</td>\n",
       "      <td>11</td>\n",
       "      <td>1</td>\n",
       "    </tr>\n",
       "    <tr>\n",
       "      <th>1</th>\n",
       "      <td>0</td>\n",
       "      <td>NA</td>\n",
       "      <td>1965</td>\n",
       "      <td>M</td>\n",
       "      <td>White</td>\n",
       "      <td>NA</td>\n",
       "      <td>NA</td>\n",
       "      <td>NA</td>\n",
       "      <td>0</td>\n",
       "      <td>0</td>\n",
       "      <td>0</td>\n",
       "      <td>2015</td>\n",
       "      <td>3</td>\n",
       "      <td>19</td>\n",
       "      <td>3</td>\n",
       "      <td>7</td>\n",
       "      <td>0</td>\n",
       "    </tr>\n",
       "    <tr>\n",
       "      <th>2</th>\n",
       "      <td>0</td>\n",
       "      <td>NA</td>\n",
       "      <td>1961</td>\n",
       "      <td>M</td>\n",
       "      <td>White</td>\n",
       "      <td>White</td>\n",
       "      <td>Male</td>\n",
       "      <td>NA</td>\n",
       "      <td>0</td>\n",
       "      <td>0</td>\n",
       "      <td>0</td>\n",
       "      <td>2015</td>\n",
       "      <td>3</td>\n",
       "      <td>21</td>\n",
       "      <td>5</td>\n",
       "      <td>19</td>\n",
       "      <td>0</td>\n",
       "    </tr>\n",
       "    <tr>\n",
       "      <th>3</th>\n",
       "      <td>0</td>\n",
       "      <td>NA</td>\n",
       "      <td>1963</td>\n",
       "      <td>M</td>\n",
       "      <td>White</td>\n",
       "      <td>NA</td>\n",
       "      <td>NA</td>\n",
       "      <td>NA</td>\n",
       "      <td>0</td>\n",
       "      <td>0</td>\n",
       "      <td>0</td>\n",
       "      <td>2015</td>\n",
       "      <td>4</td>\n",
       "      <td>1</td>\n",
       "      <td>2</td>\n",
       "      <td>4</td>\n",
       "      <td>0</td>\n",
       "    </tr>\n",
       "    <tr>\n",
       "      <th>4</th>\n",
       "      <td>0</td>\n",
       "      <td>NA</td>\n",
       "      <td>1977</td>\n",
       "      <td>M</td>\n",
       "      <td>White</td>\n",
       "      <td>Black</td>\n",
       "      <td>Male</td>\n",
       "      <td>NA</td>\n",
       "      <td>0</td>\n",
       "      <td>0</td>\n",
       "      <td>0</td>\n",
       "      <td>2015</td>\n",
       "      <td>4</td>\n",
       "      <td>3</td>\n",
       "      <td>4</td>\n",
       "      <td>0</td>\n",
       "      <td>0</td>\n",
       "    </tr>\n",
       "  </tbody>\n",
       "</table>\n",
       "</div>"
      ],
      "text/plain": [
       "   Target Subject Age Group  Officer YOB Officer Gender Officer Race  \\\n",
       "0       1                NA         1984              M        Black   \n",
       "1       0                NA         1965              M        White   \n",
       "2       0                NA         1961              M        White   \n",
       "3       0                NA         1963              M        White   \n",
       "4       0                NA         1977              M        White   \n",
       "\n",
       "  Subject Perceived Race Subject Perceived Gender Call Type  Arrest Flag  \\\n",
       "0                  Asian                     Male        NA            0   \n",
       "1                     NA                       NA        NA            0   \n",
       "2                  White                     Male        NA            0   \n",
       "3                     NA                       NA        NA            0   \n",
       "4                  Black                     Male        NA            0   \n",
       "\n",
       "   Frisk Flag  Weapon Flag  Reported Year  Reported Month  Day of Month  \\\n",
       "0           0            0           2015              10            16   \n",
       "1           0            0           2015               3            19   \n",
       "2           0            0           2015               3            21   \n",
       "3           0            0           2015               4             1   \n",
       "4           0            0           2015               4             3   \n",
       "\n",
       "   Day of Week  Reported Hour  Beat Flag  \n",
       "0            4             11          1  \n",
       "1            3              7          0  \n",
       "2            5             19          0  \n",
       "3            2              4          0  \n",
       "4            4              0          0  "
      ]
     },
     "execution_count": 9,
     "metadata": {},
     "output_type": "execute_result"
    }
   ],
   "source": [
    "test_df.head()"
   ]
  },
  {
   "cell_type": "code",
   "execution_count": 10,
   "metadata": {},
   "outputs": [],
   "source": [
    "X = test_df.drop('Target', axis=1)\n",
    "y = test_df['Target']"
   ]
  },
  {
   "cell_type": "code",
   "execution_count": 11,
   "metadata": {},
   "outputs": [],
   "source": [
    "X_train, X_test, y_train, y_test = train_test_split(X, y,\n",
    "                                                    random_state=2021,\n",
    "                                                    stratify=y\n",
    "                                                   )"
   ]
  },
  {
   "cell_type": "code",
   "execution_count": 12,
   "metadata": {},
   "outputs": [],
   "source": [
    "string_selector = make_column_selector(dtype_include='object')\n",
    "number_selector = make_column_selector(dtype_include='number', dtype_exclude='object')"
   ]
  },
  {
   "cell_type": "code",
   "execution_count": 13,
   "metadata": {},
   "outputs": [],
   "source": [
    "preprocessing = make_column_transformer((OneHotEncoder\n",
    "                                         (handle_unknown='ignore'),string_selector),\n",
    "                                          (MinMaxScaler(), number_selector))"
   ]
  },
  {
   "cell_type": "code",
   "execution_count": 14,
   "metadata": {},
   "outputs": [
    {
     "data": {
      "text/plain": [
       "array([[0.        , 1.        , 0.        , ..., 0.5       , 0.08695652,\n",
       "        1.        ],\n",
       "       [1.        , 0.        , 0.        , ..., 1.        , 0.73913043,\n",
       "        1.        ],\n",
       "       [0.        , 0.        , 0.        , ..., 1.        , 0.43478261,\n",
       "        1.        ],\n",
       "       ...,\n",
       "       [0.        , 0.        , 0.        , ..., 0.5       , 0.13043478,\n",
       "        1.        ],\n",
       "       [0.        , 0.        , 0.        , ..., 1.        , 0.7826087 ,\n",
       "        1.        ],\n",
       "       [0.        , 0.        , 0.        , ..., 0.5       , 0.04347826,\n",
       "        0.        ]])"
      ]
     },
     "execution_count": 14,
     "metadata": {},
     "output_type": "execute_result"
    }
   ],
   "source": [
    "preprocessing.fit_transform(X_train)"
   ]
  },
  {
   "cell_type": "code",
   "execution_count": 15,
   "metadata": {},
   "outputs": [
    {
     "data": {
      "text/plain": [
       "array(['x0_1 - 17', 'x0_18 - 25', 'x0_26 - 35', 'x0_36 - 45',\n",
       "       'x0_46 - 55', 'x0_56 and Above', 'x0_NA', 'x1_F', 'x1_M', 'x1_N',\n",
       "       'x2_Asian', 'x2_Black', 'x2_Hispanic', 'x2_Multi-Racial', 'x2_NA',\n",
       "       'x2_N_American', 'x2_P_Islander', 'x2_Unknown', 'x2_White',\n",
       "       'x3_Asian', 'x3_Black', 'x3_Hispanic', 'x3_Multi-Racial', 'x3_NA',\n",
       "       'x3_N_American', 'x3_Other', 'x3_P_Islander', 'x3_Unknown',\n",
       "       'x3_White', 'x4_Female', 'x4_Gender Diverse', 'x4_Male', 'x4_NA',\n",
       "       'x4_Undetermined', 'x4_Unknown', 'x5_911',\n",
       "       'x5_ALARM CALL (NOT POLICE ALARM)', 'x5_NA', 'x5_ONVIEW',\n",
       "       'x5_TELEPHONE OTHER, NOT 911', 'x5_TEXT MESSAGE'], dtype=object)"
      ]
     },
     "execution_count": 15,
     "metadata": {},
     "output_type": "execute_result"
    }
   ],
   "source": [
    "preprocessing.transformers_[0][1].get_feature_names()"
   ]
  },
  {
   "cell_type": "code",
   "execution_count": 16,
   "metadata": {},
   "outputs": [],
   "source": [
    "sm = SMOTE(random_state=2021, sampling_strategy=.5)\n",
    "clf = LogisticRegression()\n",
    "pipeline = make_pipeline(preprocessing, sm, clf)"
   ]
  },
  {
   "cell_type": "code",
   "execution_count": 30,
   "metadata": {},
   "outputs": [
    {
     "name": "stderr",
     "output_type": "stream",
     "text": [
      "/Users/dsbox/opt/anaconda3/envs/terry_stops/lib/python3.9/site-packages/sklearn/linear_model/_logistic.py:763: ConvergenceWarning: lbfgs failed to converge (status=1):\n",
      "STOP: TOTAL NO. of ITERATIONS REACHED LIMIT.\n",
      "\n",
      "Increase the number of iterations (max_iter) or scale the data as shown in:\n",
      "    https://scikit-learn.org/stable/modules/preprocessing.html\n",
      "Please also refer to the documentation for alternative solver options:\n",
      "    https://scikit-learn.org/stable/modules/linear_model.html#logistic-regression\n",
      "  n_iter_i = _check_optimize_result(\n",
      "/Users/dsbox/opt/anaconda3/envs/terry_stops/lib/python3.9/site-packages/sklearn/linear_model/_logistic.py:763: ConvergenceWarning: lbfgs failed to converge (status=1):\n",
      "STOP: TOTAL NO. of ITERATIONS REACHED LIMIT.\n",
      "\n",
      "Increase the number of iterations (max_iter) or scale the data as shown in:\n",
      "    https://scikit-learn.org/stable/modules/preprocessing.html\n",
      "Please also refer to the documentation for alternative solver options:\n",
      "    https://scikit-learn.org/stable/modules/linear_model.html#logistic-regression\n",
      "  n_iter_i = _check_optimize_result(\n",
      "/Users/dsbox/opt/anaconda3/envs/terry_stops/lib/python3.9/site-packages/sklearn/linear_model/_logistic.py:763: ConvergenceWarning: lbfgs failed to converge (status=1):\n",
      "STOP: TOTAL NO. of ITERATIONS REACHED LIMIT.\n",
      "\n",
      "Increase the number of iterations (max_iter) or scale the data as shown in:\n",
      "    https://scikit-learn.org/stable/modules/preprocessing.html\n",
      "Please also refer to the documentation for alternative solver options:\n",
      "    https://scikit-learn.org/stable/modules/linear_model.html#logistic-regression\n",
      "  n_iter_i = _check_optimize_result(\n",
      "/Users/dsbox/opt/anaconda3/envs/terry_stops/lib/python3.9/site-packages/sklearn/linear_model/_logistic.py:763: ConvergenceWarning: lbfgs failed to converge (status=1):\n",
      "STOP: TOTAL NO. of ITERATIONS REACHED LIMIT.\n",
      "\n",
      "Increase the number of iterations (max_iter) or scale the data as shown in:\n",
      "    https://scikit-learn.org/stable/modules/preprocessing.html\n",
      "Please also refer to the documentation for alternative solver options:\n",
      "    https://scikit-learn.org/stable/modules/linear_model.html#logistic-regression\n",
      "  n_iter_i = _check_optimize_result(\n",
      "/Users/dsbox/opt/anaconda3/envs/terry_stops/lib/python3.9/site-packages/sklearn/linear_model/_logistic.py:763: ConvergenceWarning: lbfgs failed to converge (status=1):\n",
      "STOP: TOTAL NO. of ITERATIONS REACHED LIMIT.\n",
      "\n",
      "Increase the number of iterations (max_iter) or scale the data as shown in:\n",
      "    https://scikit-learn.org/stable/modules/preprocessing.html\n",
      "Please also refer to the documentation for alternative solver options:\n",
      "    https://scikit-learn.org/stable/modules/linear_model.html#logistic-regression\n",
      "  n_iter_i = _check_optimize_result(\n"
     ]
    },
    {
     "data": {
      "text/plain": [
       "array([0.66882591, 0.65571076, 0.65080645, 0.66013072, 0.64855967])"
      ]
     },
     "execution_count": 30,
     "metadata": {},
     "output_type": "execute_result"
    }
   ],
   "source": [
    "cross_val_score( pipeline, X_train, y_train, scoring='precision')"
   ]
  },
  {
   "cell_type": "code",
   "execution_count": 18,
   "metadata": {},
   "outputs": [],
   "source": [
    "preprocessing2 = make_column_transformer((OneHotEncoder\n",
    "                                         (handle_unknown='ignore'),string_selector),\n",
    "                                          (StandardScaler(), number_selector))"
   ]
  },
  {
   "cell_type": "code",
   "execution_count": 19,
   "metadata": {},
   "outputs": [],
   "source": [
    "pipeline2 = make_pipeline(preprocessing2, sm, clf)"
   ]
  },
  {
   "cell_type": "code",
   "execution_count": 31,
   "metadata": {},
   "outputs": [
    {
     "name": "stderr",
     "output_type": "stream",
     "text": [
      "/Users/dsbox/opt/anaconda3/envs/terry_stops/lib/python3.9/site-packages/sklearn/linear_model/_logistic.py:763: ConvergenceWarning: lbfgs failed to converge (status=1):\n",
      "STOP: TOTAL NO. of ITERATIONS REACHED LIMIT.\n",
      "\n",
      "Increase the number of iterations (max_iter) or scale the data as shown in:\n",
      "    https://scikit-learn.org/stable/modules/preprocessing.html\n",
      "Please also refer to the documentation for alternative solver options:\n",
      "    https://scikit-learn.org/stable/modules/linear_model.html#logistic-regression\n",
      "  n_iter_i = _check_optimize_result(\n",
      "/Users/dsbox/opt/anaconda3/envs/terry_stops/lib/python3.9/site-packages/sklearn/linear_model/_logistic.py:763: ConvergenceWarning: lbfgs failed to converge (status=1):\n",
      "STOP: TOTAL NO. of ITERATIONS REACHED LIMIT.\n",
      "\n",
      "Increase the number of iterations (max_iter) or scale the data as shown in:\n",
      "    https://scikit-learn.org/stable/modules/preprocessing.html\n",
      "Please also refer to the documentation for alternative solver options:\n",
      "    https://scikit-learn.org/stable/modules/linear_model.html#logistic-regression\n",
      "  n_iter_i = _check_optimize_result(\n",
      "/Users/dsbox/opt/anaconda3/envs/terry_stops/lib/python3.9/site-packages/sklearn/linear_model/_logistic.py:763: ConvergenceWarning: lbfgs failed to converge (status=1):\n",
      "STOP: TOTAL NO. of ITERATIONS REACHED LIMIT.\n",
      "\n",
      "Increase the number of iterations (max_iter) or scale the data as shown in:\n",
      "    https://scikit-learn.org/stable/modules/preprocessing.html\n",
      "Please also refer to the documentation for alternative solver options:\n",
      "    https://scikit-learn.org/stable/modules/linear_model.html#logistic-regression\n",
      "  n_iter_i = _check_optimize_result(\n",
      "/Users/dsbox/opt/anaconda3/envs/terry_stops/lib/python3.9/site-packages/sklearn/linear_model/_logistic.py:763: ConvergenceWarning: lbfgs failed to converge (status=1):\n",
      "STOP: TOTAL NO. of ITERATIONS REACHED LIMIT.\n",
      "\n",
      "Increase the number of iterations (max_iter) or scale the data as shown in:\n",
      "    https://scikit-learn.org/stable/modules/preprocessing.html\n",
      "Please also refer to the documentation for alternative solver options:\n",
      "    https://scikit-learn.org/stable/modules/linear_model.html#logistic-regression\n",
      "  n_iter_i = _check_optimize_result(\n",
      "/Users/dsbox/opt/anaconda3/envs/terry_stops/lib/python3.9/site-packages/sklearn/linear_model/_logistic.py:763: ConvergenceWarning: lbfgs failed to converge (status=1):\n",
      "STOP: TOTAL NO. of ITERATIONS REACHED LIMIT.\n",
      "\n",
      "Increase the number of iterations (max_iter) or scale the data as shown in:\n",
      "    https://scikit-learn.org/stable/modules/preprocessing.html\n",
      "Please also refer to the documentation for alternative solver options:\n",
      "    https://scikit-learn.org/stable/modules/linear_model.html#logistic-regression\n",
      "  n_iter_i = _check_optimize_result(\n"
     ]
    },
    {
     "data": {
      "text/plain": [
       "array([0.66587302, 0.64331723, 0.64743083, 0.66235864, 0.63555913])"
      ]
     },
     "execution_count": 31,
     "metadata": {},
     "output_type": "execute_result"
    }
   ],
   "source": [
    "cross_val_score(pipeline2, X_train, y_train, scoring='precision')"
   ]
  },
  {
   "cell_type": "code",
   "execution_count": 21,
   "metadata": {},
   "outputs": [],
   "source": [
    "clf2 = LogisticRegression(max_iter=275)"
   ]
  },
  {
   "cell_type": "code",
   "execution_count": 22,
   "metadata": {},
   "outputs": [],
   "source": [
    "pipeline3 = make_pipeline(preprocessing, sm, clf2)"
   ]
  },
  {
   "cell_type": "code",
   "execution_count": 29,
   "metadata": {},
   "outputs": [
    {
     "data": {
      "text/plain": [
       "array([0.67017828, 0.65571076, 0.65028203, 0.6593317 , 0.64696223])"
      ]
     },
     "execution_count": 29,
     "metadata": {},
     "output_type": "execute_result"
    }
   ],
   "source": [
    "cross_val_score(pipeline3, X_train, y_train, scoring='precision')"
   ]
  },
  {
   "cell_type": "code",
   "execution_count": 32,
   "metadata": {},
   "outputs": [],
   "source": [
    "pipeline4 = make_pipeline(preprocessing2, sm, clf2)"
   ]
  },
  {
   "cell_type": "code",
   "execution_count": 33,
   "metadata": {},
   "outputs": [
    {
     "data": {
      "text/plain": [
       "array([0.66587302, 0.64331723, 0.64822134, 0.66235864, 0.63555913])"
      ]
     },
     "execution_count": 33,
     "metadata": {},
     "output_type": "execute_result"
    }
   ],
   "source": [
    "cross_val_score(pipeline4, X_train, y_train, scoring='precision')"
   ]
  },
  {
   "cell_type": "markdown",
   "metadata": {},
   "source": [
    "## Validating on the Testing Data "
   ]
  },
  {
   "cell_type": "code",
   "execution_count": 34,
   "metadata": {},
   "outputs": [
    {
     "data": {
      "text/plain": [
       "array([0.66101695, 0.58458244, 0.6617284 , 0.67810026, 0.68280872])"
      ]
     },
     "execution_count": 34,
     "metadata": {},
     "output_type": "execute_result"
    }
   ],
   "source": [
    "cross_val_score(pipeline4, X_test, y_test, scoring='precision')"
   ]
  },
  {
   "cell_type": "code",
   "execution_count": null,
   "metadata": {},
   "outputs": [],
   "source": []
  }
 ],
 "metadata": {
  "kernelspec": {
   "display_name": "terry_stops",
   "language": "python",
   "name": "terry_stops"
  },
  "language_info": {
   "codemirror_mode": {
    "name": "ipython",
    "version": 3
   },
   "file_extension": ".py",
   "mimetype": "text/x-python",
   "name": "python",
   "nbconvert_exporter": "python",
   "pygments_lexer": "ipython3",
   "version": "3.9.4"
  }
 },
 "nbformat": 4,
 "nbformat_minor": 5
}
