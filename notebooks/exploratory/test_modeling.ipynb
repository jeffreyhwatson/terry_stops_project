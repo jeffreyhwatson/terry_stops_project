{
 "cells": [
  {
   "cell_type": "code",
   "execution_count": 1,
   "id": "7bad0711",
   "metadata": {},
   "outputs": [],
   "source": [
    "%load_ext autoreload\n",
    "%autoreload 2"
   ]
  },
  {
   "cell_type": "code",
   "execution_count": 2,
   "id": "68f71e54",
   "metadata": {},
   "outputs": [],
   "source": [
    "# setting project path\n",
    "import os\n",
    "import sys\n",
    "\n",
    "gparent = os.path.join(os.pardir, os.pardir)\n",
    "sys.path.append(gparent)\n",
    "\n",
    "# imports\n",
    "import pandas as pd\n",
    "import numpy as np\n",
    "\n",
    "from sklearn.model_selection import train_test_split\n",
    "from sklearn.model_selection import cross_val_score\n",
    "from sklearn.preprocessing import StandardScaler\n",
    "from sklearn.preprocessing import MinMaxScaler\n",
    "from sklearn.compose import make_column_selector\n",
    "from sklearn.compose import make_column_transformer\n",
    "from sklearn.preprocessing import OneHotEncoder\n",
    "from sklearn.pipeline import make_pipeline \n",
    "from sklearn.metrics import accuracy_score, recall_score, precision_score, f1_score, make_scorer\n",
    "from sklearn.linear_model import LogisticRegression\n",
    "from sklearn.neighbors import KNeighborsClassifier\n",
    "from sklearn.model_selection import StratifiedKFold\n",
    "from sklearn.base import clone\n",
    "\n",
    "from imblearn.over_sampling import SMOTE\n",
    "from imblearn.pipeline import make_pipeline as make_sm_pipeline\n",
    "\n",
    "import matplotlib.pyplot as plt\n",
    "import seaborn as sns\n",
    "\n",
    "# setting style\n",
    "sns.set_theme('talk')\n",
    "plt.style.use('fivethirtyeight')\n",
    "sns.set_palette(palette='Blues_r')"
   ]
  },
  {
   "cell_type": "code",
   "execution_count": 3,
   "id": "46b0e2b5",
   "metadata": {},
   "outputs": [],
   "source": [
    "path = os.path.join(gparent, 'data/processed', 'cleaned.csv')\n",
    "test_df = pd.read_csv(path, keep_default_na=False)"
   ]
  },
  {
   "cell_type": "code",
   "execution_count": 4,
   "id": "1593ff2f",
   "metadata": {},
   "outputs": [
    {
     "data": {
      "text/html": [
       "<div>\n",
       "<style scoped>\n",
       "    .dataframe tbody tr th:only-of-type {\n",
       "        vertical-align: middle;\n",
       "    }\n",
       "\n",
       "    .dataframe tbody tr th {\n",
       "        vertical-align: top;\n",
       "    }\n",
       "\n",
       "    .dataframe thead th {\n",
       "        text-align: right;\n",
       "    }\n",
       "</style>\n",
       "<table border=\"1\" class=\"dataframe\">\n",
       "  <thead>\n",
       "    <tr style=\"text-align: right;\">\n",
       "      <th></th>\n",
       "      <th>Target</th>\n",
       "      <th>Subject Age Group</th>\n",
       "      <th>Stop Resolution</th>\n",
       "      <th>Weapon Type</th>\n",
       "      <th>Officer ID</th>\n",
       "      <th>Officer YOB</th>\n",
       "      <th>Officer Gender</th>\n",
       "      <th>Officer Race</th>\n",
       "      <th>Subject Perceived Race</th>\n",
       "      <th>Subject Perceived Gender</th>\n",
       "      <th>Initial Call Type</th>\n",
       "      <th>Final Call Type</th>\n",
       "      <th>Call Type</th>\n",
       "      <th>Officer Squad</th>\n",
       "      <th>Arrest Flag</th>\n",
       "      <th>Frisk Flag</th>\n",
       "      <th>Precinct</th>\n",
       "      <th>Sector</th>\n",
       "      <th>Beat</th>\n",
       "    </tr>\n",
       "  </thead>\n",
       "  <tbody>\n",
       "    <tr>\n",
       "      <th>0</th>\n",
       "      <td>1</td>\n",
       "      <td>NA</td>\n",
       "      <td>Arrest</td>\n",
       "      <td>None</td>\n",
       "      <td>7500</td>\n",
       "      <td>1984</td>\n",
       "      <td>M</td>\n",
       "      <td>Black</td>\n",
       "      <td>Asian</td>\n",
       "      <td>Male</td>\n",
       "      <td>NA</td>\n",
       "      <td>NA</td>\n",
       "      <td>NA</td>\n",
       "      <td>SOUTH PCT 1ST W - ROBERT</td>\n",
       "      <td>0</td>\n",
       "      <td>0</td>\n",
       "      <td>South</td>\n",
       "      <td>O</td>\n",
       "      <td>O2</td>\n",
       "    </tr>\n",
       "    <tr>\n",
       "      <th>1</th>\n",
       "      <td>0</td>\n",
       "      <td>NA</td>\n",
       "      <td>Field Contact</td>\n",
       "      <td>None</td>\n",
       "      <td>5670</td>\n",
       "      <td>1965</td>\n",
       "      <td>M</td>\n",
       "      <td>White</td>\n",
       "      <td>NA</td>\n",
       "      <td>NA</td>\n",
       "      <td>NA</td>\n",
       "      <td>NA</td>\n",
       "      <td>NA</td>\n",
       "      <td>NA</td>\n",
       "      <td>0</td>\n",
       "      <td>0</td>\n",
       "      <td>NA</td>\n",
       "      <td>NA</td>\n",
       "      <td>NA</td>\n",
       "    </tr>\n",
       "  </tbody>\n",
       "</table>\n",
       "</div>"
      ],
      "text/plain": [
       "   Target Subject Age Group Stop Resolution Weapon Type Officer ID  \\\n",
       "0       1                NA          Arrest        None       7500   \n",
       "1       0                NA   Field Contact        None       5670   \n",
       "\n",
       "   Officer YOB Officer Gender Officer Race Subject Perceived Race  \\\n",
       "0         1984              M        Black                  Asian   \n",
       "1         1965              M        White                     NA   \n",
       "\n",
       "  Subject Perceived Gender Initial Call Type Final Call Type Call Type  \\\n",
       "0                     Male                NA              NA        NA   \n",
       "1                       NA                NA              NA        NA   \n",
       "\n",
       "              Officer Squad  Arrest Flag  Frisk Flag Precinct  Sector    Beat  \n",
       "0  SOUTH PCT 1ST W - ROBERT            0           0    South  O       O2      \n",
       "1                        NA            0           0       NA      NA      NA  "
      ]
     },
     "execution_count": 4,
     "metadata": {},
     "output_type": "execute_result"
    }
   ],
   "source": [
    "test_df.head(2)"
   ]
  },
  {
   "cell_type": "code",
   "execution_count": 5,
   "id": "ee296833",
   "metadata": {},
   "outputs": [
    {
     "name": "stdout",
     "output_type": "stream",
     "text": [
      "<class 'pandas.core.frame.DataFrame'>\n",
      "RangeIndex: 46960 entries, 0 to 46959\n",
      "Data columns (total 19 columns):\n",
      " #   Column                    Non-Null Count  Dtype \n",
      "---  ------                    --------------  ----- \n",
      " 0   Target                    46960 non-null  int64 \n",
      " 1   Subject Age Group         46960 non-null  object\n",
      " 2   Stop Resolution           46960 non-null  object\n",
      " 3   Weapon Type               46960 non-null  object\n",
      " 4   Officer ID                46960 non-null  object\n",
      " 5   Officer YOB               46960 non-null  int64 \n",
      " 6   Officer Gender            46960 non-null  object\n",
      " 7   Officer Race              46960 non-null  object\n",
      " 8   Subject Perceived Race    46960 non-null  object\n",
      " 9   Subject Perceived Gender  46960 non-null  object\n",
      " 10  Initial Call Type         46960 non-null  object\n",
      " 11  Final Call Type           46960 non-null  object\n",
      " 12  Call Type                 46960 non-null  object\n",
      " 13  Officer Squad             46960 non-null  object\n",
      " 14  Arrest Flag               46960 non-null  int64 \n",
      " 15  Frisk Flag                46960 non-null  int64 \n",
      " 16  Precinct                  46960 non-null  object\n",
      " 17  Sector                    46960 non-null  object\n",
      " 18  Beat                      46960 non-null  object\n",
      "dtypes: int64(4), object(15)\n",
      "memory usage: 6.8+ MB\n"
     ]
    }
   ],
   "source": [
    "test_df.info()"
   ]
  },
  {
   "cell_type": "code",
   "execution_count": 6,
   "id": "617929d8",
   "metadata": {},
   "outputs": [],
   "source": [
    "column_list = test_df.columns\n",
    "excluded = ['Stop Resolution', 'Weapon Type', 'Officer ID',\n",
    "          'Initial Call Type', 'Final Call Type', 'Officer Squad',\n",
    "            'Precinct', 'Sector', 'Call Type', 'Arrest Flag', \n",
    "            'Frisk Flag', 'Beat']\n",
    "cols = [x for x in column_list if x not in excluded]"
   ]
  },
  {
   "cell_type": "code",
   "execution_count": 7,
   "id": "e3afc209",
   "metadata": {},
   "outputs": [
    {
     "data": {
      "text/plain": [
       "['Target',\n",
       " 'Subject Age Group',\n",
       " 'Officer YOB',\n",
       " 'Officer Gender',\n",
       " 'Officer Race',\n",
       " 'Subject Perceived Race',\n",
       " 'Subject Perceived Gender']"
      ]
     },
     "execution_count": 7,
     "metadata": {},
     "output_type": "execute_result"
    }
   ],
   "source": [
    "cols"
   ]
  },
  {
   "cell_type": "code",
   "execution_count": 8,
   "id": "ba6c8aef",
   "metadata": {},
   "outputs": [],
   "source": [
    "test_df = test_df[cols]"
   ]
  },
  {
   "cell_type": "code",
   "execution_count": 9,
   "id": "537bdbe9",
   "metadata": {},
   "outputs": [
    {
     "data": {
      "text/html": [
       "<div>\n",
       "<style scoped>\n",
       "    .dataframe tbody tr th:only-of-type {\n",
       "        vertical-align: middle;\n",
       "    }\n",
       "\n",
       "    .dataframe tbody tr th {\n",
       "        vertical-align: top;\n",
       "    }\n",
       "\n",
       "    .dataframe thead th {\n",
       "        text-align: right;\n",
       "    }\n",
       "</style>\n",
       "<table border=\"1\" class=\"dataframe\">\n",
       "  <thead>\n",
       "    <tr style=\"text-align: right;\">\n",
       "      <th></th>\n",
       "      <th>Target</th>\n",
       "      <th>Subject Age Group</th>\n",
       "      <th>Officer YOB</th>\n",
       "      <th>Officer Gender</th>\n",
       "      <th>Officer Race</th>\n",
       "      <th>Subject Perceived Race</th>\n",
       "      <th>Subject Perceived Gender</th>\n",
       "    </tr>\n",
       "  </thead>\n",
       "  <tbody>\n",
       "    <tr>\n",
       "      <th>0</th>\n",
       "      <td>1</td>\n",
       "      <td>NA</td>\n",
       "      <td>1984</td>\n",
       "      <td>M</td>\n",
       "      <td>Black</td>\n",
       "      <td>Asian</td>\n",
       "      <td>Male</td>\n",
       "    </tr>\n",
       "    <tr>\n",
       "      <th>1</th>\n",
       "      <td>0</td>\n",
       "      <td>NA</td>\n",
       "      <td>1965</td>\n",
       "      <td>M</td>\n",
       "      <td>White</td>\n",
       "      <td>NA</td>\n",
       "      <td>NA</td>\n",
       "    </tr>\n",
       "    <tr>\n",
       "      <th>2</th>\n",
       "      <td>0</td>\n",
       "      <td>NA</td>\n",
       "      <td>1961</td>\n",
       "      <td>M</td>\n",
       "      <td>White</td>\n",
       "      <td>White</td>\n",
       "      <td>Male</td>\n",
       "    </tr>\n",
       "    <tr>\n",
       "      <th>3</th>\n",
       "      <td>0</td>\n",
       "      <td>NA</td>\n",
       "      <td>1963</td>\n",
       "      <td>M</td>\n",
       "      <td>White</td>\n",
       "      <td>NA</td>\n",
       "      <td>NA</td>\n",
       "    </tr>\n",
       "    <tr>\n",
       "      <th>4</th>\n",
       "      <td>0</td>\n",
       "      <td>NA</td>\n",
       "      <td>1977</td>\n",
       "      <td>M</td>\n",
       "      <td>White</td>\n",
       "      <td>Black</td>\n",
       "      <td>Male</td>\n",
       "    </tr>\n",
       "  </tbody>\n",
       "</table>\n",
       "</div>"
      ],
      "text/plain": [
       "   Target Subject Age Group  Officer YOB Officer Gender Officer Race  \\\n",
       "0       1                NA         1984              M        Black   \n",
       "1       0                NA         1965              M        White   \n",
       "2       0                NA         1961              M        White   \n",
       "3       0                NA         1963              M        White   \n",
       "4       0                NA         1977              M        White   \n",
       "\n",
       "  Subject Perceived Race Subject Perceived Gender  \n",
       "0                  Asian                     Male  \n",
       "1                     NA                       NA  \n",
       "2                  White                     Male  \n",
       "3                     NA                       NA  \n",
       "4                  Black                     Male  "
      ]
     },
     "execution_count": 9,
     "metadata": {},
     "output_type": "execute_result"
    }
   ],
   "source": [
    "test_df.head()"
   ]
  },
  {
   "cell_type": "code",
   "execution_count": 10,
   "id": "accb8784",
   "metadata": {},
   "outputs": [],
   "source": [
    "X = test_df.drop('Target', axis=1)\n",
    "y = test_df['Target']"
   ]
  },
  {
   "cell_type": "code",
   "execution_count": 11,
   "id": "5597462d",
   "metadata": {},
   "outputs": [],
   "source": [
    "X_train, X_test, y_train, y_test = train_test_split(X, y,\n",
    "                                                    random_state=2021,\n",
    "                                                    stratify=y\n",
    "                                                   )"
   ]
  },
  {
   "cell_type": "code",
   "execution_count": 12,
   "id": "49621771",
   "metadata": {},
   "outputs": [],
   "source": [
    "string_selector = make_column_selector(dtype_include='object')\n",
    "number_selector = make_column_selector(dtype_include='number', dtype_exclude='object')"
   ]
  },
  {
   "cell_type": "code",
   "execution_count": 13,
   "id": "9f913529",
   "metadata": {},
   "outputs": [],
   "source": [
    "preprocessing = make_column_transformer((OneHotEncoder\n",
    "                                         (handle_unknown='ignore'),string_selector),\n",
    "                                          (MinMaxScaler(), number_selector))"
   ]
  },
  {
   "cell_type": "code",
   "execution_count": 14,
   "id": "2f0f4a96",
   "metadata": {},
   "outputs": [
    {
     "data": {
      "text/plain": [
       "<35220x36 sparse matrix of type '<class 'numpy.float64'>'\n",
       "\twith 211291 stored elements in Compressed Sparse Row format>"
      ]
     },
     "execution_count": 14,
     "metadata": {},
     "output_type": "execute_result"
    }
   ],
   "source": [
    "preprocessing.fit_transform(X_train)"
   ]
  },
  {
   "cell_type": "code",
   "execution_count": 15,
   "id": "fc6413ac",
   "metadata": {},
   "outputs": [
    {
     "data": {
      "text/plain": [
       "array(['x0_1 - 17', 'x0_18 - 25', 'x0_26 - 35', 'x0_36 - 45',\n",
       "       'x0_46 - 55', 'x0_56 and Above', 'x0_NA', 'x1_F', 'x1_M', 'x1_N',\n",
       "       'x2_Asian', 'x2_Black', 'x2_Hispanic', 'x2_Multi-Racial', 'x2_NA',\n",
       "       'x2_N_American', 'x2_P_Islander', 'x2_Unknown', 'x2_White',\n",
       "       'x3_Asian', 'x3_Black', 'x3_Hispanic', 'x3_Multi-Racial', 'x3_NA',\n",
       "       'x3_N_American', 'x3_Other', 'x3_P_Islander', 'x3_Unknown',\n",
       "       'x3_White', 'x4_Female', 'x4_Gender Diverse', 'x4_Male', 'x4_NA',\n",
       "       'x4_Undetermined', 'x4_Unknown'], dtype=object)"
      ]
     },
     "execution_count": 15,
     "metadata": {},
     "output_type": "execute_result"
    }
   ],
   "source": [
    "preprocessing.transformers_[0][1].get_feature_names()"
   ]
  },
  {
   "cell_type": "code",
   "execution_count": 16,
   "id": "897f4664",
   "metadata": {},
   "outputs": [],
   "source": [
    "clf = LogisticRegression()\n",
    "pipeline = make_pipeline(preprocessing, clf)"
   ]
  },
  {
   "cell_type": "code",
   "execution_count": 17,
   "id": "b407222b",
   "metadata": {},
   "outputs": [
    {
     "name": "stderr",
     "output_type": "stream",
     "text": [
      "/Users/dsbox/opt/anaconda3/envs/terry_stops/lib/python3.9/site-packages/sklearn/linear_model/_logistic.py:763: ConvergenceWarning: lbfgs failed to converge (status=1):\n",
      "STOP: TOTAL NO. of ITERATIONS REACHED LIMIT.\n",
      "\n",
      "Increase the number of iterations (max_iter) or scale the data as shown in:\n",
      "    https://scikit-learn.org/stable/modules/preprocessing.html\n",
      "Please also refer to the documentation for alternative solver options:\n",
      "    https://scikit-learn.org/stable/modules/linear_model.html#logistic-regression\n",
      "  n_iter_i = _check_optimize_result(\n",
      "/Users/dsbox/opt/anaconda3/envs/terry_stops/lib/python3.9/site-packages/sklearn/metrics/_classification.py:1245: UndefinedMetricWarning: Precision is ill-defined and being set to 0.0 due to no predicted samples. Use `zero_division` parameter to control this behavior.\n",
      "  _warn_prf(average, modifier, msg_start, len(result))\n",
      "/Users/dsbox/opt/anaconda3/envs/terry_stops/lib/python3.9/site-packages/sklearn/linear_model/_logistic.py:763: ConvergenceWarning: lbfgs failed to converge (status=1):\n",
      "STOP: TOTAL NO. of ITERATIONS REACHED LIMIT.\n",
      "\n",
      "Increase the number of iterations (max_iter) or scale the data as shown in:\n",
      "    https://scikit-learn.org/stable/modules/preprocessing.html\n",
      "Please also refer to the documentation for alternative solver options:\n",
      "    https://scikit-learn.org/stable/modules/linear_model.html#logistic-regression\n",
      "  n_iter_i = _check_optimize_result(\n",
      "/Users/dsbox/opt/anaconda3/envs/terry_stops/lib/python3.9/site-packages/sklearn/metrics/_classification.py:1245: UndefinedMetricWarning: Precision is ill-defined and being set to 0.0 due to no predicted samples. Use `zero_division` parameter to control this behavior.\n",
      "  _warn_prf(average, modifier, msg_start, len(result))\n",
      "/Users/dsbox/opt/anaconda3/envs/terry_stops/lib/python3.9/site-packages/sklearn/linear_model/_logistic.py:763: ConvergenceWarning: lbfgs failed to converge (status=1):\n",
      "STOP: TOTAL NO. of ITERATIONS REACHED LIMIT.\n",
      "\n",
      "Increase the number of iterations (max_iter) or scale the data as shown in:\n",
      "    https://scikit-learn.org/stable/modules/preprocessing.html\n",
      "Please also refer to the documentation for alternative solver options:\n",
      "    https://scikit-learn.org/stable/modules/linear_model.html#logistic-regression\n",
      "  n_iter_i = _check_optimize_result(\n",
      "/Users/dsbox/opt/anaconda3/envs/terry_stops/lib/python3.9/site-packages/sklearn/metrics/_classification.py:1245: UndefinedMetricWarning: Precision is ill-defined and being set to 0.0 due to no predicted samples. Use `zero_division` parameter to control this behavior.\n",
      "  _warn_prf(average, modifier, msg_start, len(result))\n",
      "/Users/dsbox/opt/anaconda3/envs/terry_stops/lib/python3.9/site-packages/sklearn/linear_model/_logistic.py:763: ConvergenceWarning: lbfgs failed to converge (status=1):\n",
      "STOP: TOTAL NO. of ITERATIONS REACHED LIMIT.\n",
      "\n",
      "Increase the number of iterations (max_iter) or scale the data as shown in:\n",
      "    https://scikit-learn.org/stable/modules/preprocessing.html\n",
      "Please also refer to the documentation for alternative solver options:\n",
      "    https://scikit-learn.org/stable/modules/linear_model.html#logistic-regression\n",
      "  n_iter_i = _check_optimize_result(\n",
      "/Users/dsbox/opt/anaconda3/envs/terry_stops/lib/python3.9/site-packages/sklearn/metrics/_classification.py:1245: UndefinedMetricWarning: Precision is ill-defined and being set to 0.0 due to no predicted samples. Use `zero_division` parameter to control this behavior.\n",
      "  _warn_prf(average, modifier, msg_start, len(result))\n",
      "/Users/dsbox/opt/anaconda3/envs/terry_stops/lib/python3.9/site-packages/sklearn/linear_model/_logistic.py:763: ConvergenceWarning: lbfgs failed to converge (status=1):\n",
      "STOP: TOTAL NO. of ITERATIONS REACHED LIMIT.\n",
      "\n",
      "Increase the number of iterations (max_iter) or scale the data as shown in:\n",
      "    https://scikit-learn.org/stable/modules/preprocessing.html\n",
      "Please also refer to the documentation for alternative solver options:\n",
      "    https://scikit-learn.org/stable/modules/linear_model.html#logistic-regression\n",
      "  n_iter_i = _check_optimize_result(\n",
      "/Users/dsbox/opt/anaconda3/envs/terry_stops/lib/python3.9/site-packages/sklearn/metrics/_classification.py:1245: UndefinedMetricWarning: Precision is ill-defined and being set to 0.0 due to no predicted samples. Use `zero_division` parameter to control this behavior.\n",
      "  _warn_prf(average, modifier, msg_start, len(result))\n"
     ]
    },
    {
     "data": {
      "text/plain": [
       "array([0., 0., 0., 0., 0.])"
      ]
     },
     "execution_count": 17,
     "metadata": {},
     "output_type": "execute_result"
    }
   ],
   "source": [
    "cross_val_score( pipeline, X_train, y_train, scoring='precision')"
   ]
  },
  {
   "cell_type": "code",
   "execution_count": 18,
   "id": "f47e9554-2395-43c3-b96d-419e02f62883",
   "metadata": {},
   "outputs": [],
   "source": [
    "sm = SMOTE(random_state=2021)"
   ]
  },
  {
   "cell_type": "code",
   "execution_count": 19,
   "id": "43c094df",
   "metadata": {},
   "outputs": [],
   "source": [
    "pipeline2 = make_sm_pipeline(preprocessing, sm, clf)"
   ]
  },
  {
   "cell_type": "code",
   "execution_count": 20,
   "id": "ba61dc26",
   "metadata": {},
   "outputs": [
    {
     "name": "stderr",
     "output_type": "stream",
     "text": [
      "/Users/dsbox/opt/anaconda3/envs/terry_stops/lib/python3.9/site-packages/sklearn/linear_model/_logistic.py:763: ConvergenceWarning: lbfgs failed to converge (status=1):\n",
      "STOP: TOTAL NO. of ITERATIONS REACHED LIMIT.\n",
      "\n",
      "Increase the number of iterations (max_iter) or scale the data as shown in:\n",
      "    https://scikit-learn.org/stable/modules/preprocessing.html\n",
      "Please also refer to the documentation for alternative solver options:\n",
      "    https://scikit-learn.org/stable/modules/linear_model.html#logistic-regression\n",
      "  n_iter_i = _check_optimize_result(\n",
      "/Users/dsbox/opt/anaconda3/envs/terry_stops/lib/python3.9/site-packages/sklearn/linear_model/_logistic.py:763: ConvergenceWarning: lbfgs failed to converge (status=1):\n",
      "STOP: TOTAL NO. of ITERATIONS REACHED LIMIT.\n",
      "\n",
      "Increase the number of iterations (max_iter) or scale the data as shown in:\n",
      "    https://scikit-learn.org/stable/modules/preprocessing.html\n",
      "Please also refer to the documentation for alternative solver options:\n",
      "    https://scikit-learn.org/stable/modules/linear_model.html#logistic-regression\n",
      "  n_iter_i = _check_optimize_result(\n",
      "/Users/dsbox/opt/anaconda3/envs/terry_stops/lib/python3.9/site-packages/sklearn/linear_model/_logistic.py:763: ConvergenceWarning: lbfgs failed to converge (status=1):\n",
      "STOP: TOTAL NO. of ITERATIONS REACHED LIMIT.\n",
      "\n",
      "Increase the number of iterations (max_iter) or scale the data as shown in:\n",
      "    https://scikit-learn.org/stable/modules/preprocessing.html\n",
      "Please also refer to the documentation for alternative solver options:\n",
      "    https://scikit-learn.org/stable/modules/linear_model.html#logistic-regression\n",
      "  n_iter_i = _check_optimize_result(\n",
      "/Users/dsbox/opt/anaconda3/envs/terry_stops/lib/python3.9/site-packages/sklearn/linear_model/_logistic.py:763: ConvergenceWarning: lbfgs failed to converge (status=1):\n",
      "STOP: TOTAL NO. of ITERATIONS REACHED LIMIT.\n",
      "\n",
      "Increase the number of iterations (max_iter) or scale the data as shown in:\n",
      "    https://scikit-learn.org/stable/modules/preprocessing.html\n",
      "Please also refer to the documentation for alternative solver options:\n",
      "    https://scikit-learn.org/stable/modules/linear_model.html#logistic-regression\n",
      "  n_iter_i = _check_optimize_result(\n",
      "/Users/dsbox/opt/anaconda3/envs/terry_stops/lib/python3.9/site-packages/sklearn/linear_model/_logistic.py:763: ConvergenceWarning: lbfgs failed to converge (status=1):\n",
      "STOP: TOTAL NO. of ITERATIONS REACHED LIMIT.\n",
      "\n",
      "Increase the number of iterations (max_iter) or scale the data as shown in:\n",
      "    https://scikit-learn.org/stable/modules/preprocessing.html\n",
      "Please also refer to the documentation for alternative solver options:\n",
      "    https://scikit-learn.org/stable/modules/linear_model.html#logistic-regression\n",
      "  n_iter_i = _check_optimize_result(\n"
     ]
    },
    {
     "data": {
      "text/plain": [
       "array([0.29624872, 0.28493365, 0.29127726, 0.28791037, 0.29413305])"
      ]
     },
     "execution_count": 20,
     "metadata": {},
     "output_type": "execute_result"
    }
   ],
   "source": [
    "cross_val_score(pipeline2, X_train, y_train, scoring='precision')"
   ]
  },
  {
   "cell_type": "code",
   "execution_count": 21,
   "id": "b58c5ab8",
   "metadata": {},
   "outputs": [],
   "source": [
    "clf2 = LogisticRegression(max_iter=275)"
   ]
  },
  {
   "cell_type": "code",
   "execution_count": 22,
   "id": "e78e2e81",
   "metadata": {},
   "outputs": [],
   "source": [
    "pipeline3 = make_sm_pipeline(preprocessing, sm, clf2)"
   ]
  },
  {
   "cell_type": "code",
   "execution_count": 23,
   "id": "e8485dec",
   "metadata": {},
   "outputs": [
    {
     "data": {
      "text/plain": [
       "array([0.29632485, 0.28426528, 0.29127726, 0.28764982, 0.29416383])"
      ]
     },
     "execution_count": 23,
     "metadata": {},
     "output_type": "execute_result"
    }
   ],
   "source": [
    "cross_val_score(pipeline3, X_train, y_train, scoring='precision')"
   ]
  },
  {
   "cell_type": "code",
   "execution_count": 24,
   "id": "9bfaeb58",
   "metadata": {},
   "outputs": [],
   "source": [
    "preprocessing2 = make_column_transformer((OneHotEncoder\n",
    "                                         (handle_unknown='ignore'),string_selector),\n",
    "                                          (StandardScaler(), number_selector))"
   ]
  },
  {
   "cell_type": "code",
   "execution_count": 25,
   "id": "3b67a308",
   "metadata": {},
   "outputs": [],
   "source": [
    "pipeline4 = make_sm_pipeline(preprocessing2, sm, clf2)"
   ]
  },
  {
   "cell_type": "code",
   "execution_count": 26,
   "id": "f43e1244",
   "metadata": {},
   "outputs": [
    {
     "data": {
      "text/plain": [
       "array([0.29623905, 0.28489434, 0.29041451, 0.28754244, 0.29485505])"
      ]
     },
     "execution_count": 26,
     "metadata": {},
     "output_type": "execute_result"
    }
   ],
   "source": [
    "cross_val_score(pipeline4, X_train, y_train, scoring='precision')"
   ]
  },
  {
   "cell_type": "code",
   "execution_count": 27,
   "id": "571cc61e-c4d8-4718-94ae-db98180e4e63",
   "metadata": {},
   "outputs": [],
   "source": [
    "def pre_score(y_true, y_pred):\n",
    "    \n",
    "    precision = precision_score(y_true, y_pred)\n",
    "\n",
    "    return precision\n",
    "\n",
    "precision = make_scorer(pre_score)\n",
    "\n",
    "class HarnessCCV:\n",
    "    \n",
    "    def __init__(self, scorer, random_state=2021):\n",
    "        self.scorer = scorer\n",
    "        self.history = pd.DataFrame(columns=['Name', 'Accuracy', 'Notes'])\n",
    "\n",
    "    def report(self, estimator, X, y, name, notes=''):\n",
    "        # Create a list to hold the scores from each fold\n",
    "        kfold_val_scores = np.ndarray(5)\n",
    "        kfold_train_scores = np.ndarray(5)\n",
    "\n",
    "        # Instantiate a splitter object and loop over its result\n",
    "        kfold = StratifiedKFold(n_splits=5)\n",
    "        for fold, (train_index, val_index) in enumerate(kfold.split(X, y)):\n",
    "            # Extract train and validation subsets using the provided indices\n",
    "            X_t, X_val = X.iloc[train_index], X.iloc[val_index]\n",
    "            y_t, y_val = y.iloc[train_index], y.iloc[val_index]\n",
    "        \n",
    "            # Instantiate StandardScaler\n",
    "            scaler = StandardScaler()\n",
    "            # Fit and transform X_t\n",
    "            X_t_scaled = scaler.fit_transform(X_t)\n",
    "            # Transform X_val\n",
    "            X_val_scaled = scaler.transform(X_val)\n",
    "        \n",
    "            # Instantiate SMOTE\n",
    "            sm = SMOTE(random_state=2021)\n",
    "            # Fit and transform X_t_scaled and y_t using sm\n",
    "            X_t_oversampled, y_t_oversampled = sm.fit_resample(X_t_scaled, y_t)\n",
    "        \n",
    "            # Clone the provided model and fit it on the train subset\n",
    "            temp_model = clone(estimator)\n",
    "            temp_model.fit(X_t_oversampled, y_t_oversampled)\n",
    "        \n",
    "            # Evaluate the model on the validation subsets\n",
    "            score_train = precision_score(temp_model.predict(X_t_oversampled), y_t_oversampled)\n",
    "            scores_val = precision_score(temp_model.predict(X_val_scaled), y_val)\n",
    "            kfold_train_scores[fold] = score_train\n",
    "            kfold_val_scores[fold] = scores_val\n",
    "        \n",
    "        frame = pd.DataFrame([[name, scores_val.mean(), notes]], columns=['Name', 'Accuracy', 'Notes'])\n",
    "        self.history = self.history.append(frame)\n",
    "        self.history = self.history.reset_index(drop=True)\n",
    "        self.history = self.history.sort_values('Accuracy')\n",
    "        self.print_error(name, scores_val.mean())\n",
    "        print(kfold_val_scores)\n",
    "                               \n",
    "        return kfold_train_scores, kfold_val_scores \n",
    "\n",
    "    def print_error(self, name, Accuracy):\n",
    "        print(f'{name} has an average percision of {Accuracy}')"
   ]
  },
  {
   "cell_type": "code",
   "execution_count": 28,
   "id": "39ffb2b7-5c34-4875-b21c-283fb1c2160c",
   "metadata": {},
   "outputs": [],
   "source": [
    "modeling = HarnessCCV(precision)"
   ]
  },
  {
   "cell_type": "code",
   "execution_count": 29,
   "id": "af451eb2-5743-4a7e-9c64-5c9c162562db",
   "metadata": {},
   "outputs": [],
   "source": [
    "clf3 = KNeighborsClassifier()"
   ]
  },
  {
   "cell_type": "code",
   "execution_count": 30,
   "id": "5f88990c-55e9-4fa0-99d1-f3b41c243bcb",
   "metadata": {},
   "outputs": [],
   "source": [
    "pipeline5 = make_sm_pipeline(preprocessing2, sm, clf3)"
   ]
  },
  {
   "cell_type": "code",
   "execution_count": 31,
   "id": "22f14c9d-eea9-4eb5-b6d0-0df1ba99b49e",
   "metadata": {},
   "outputs": [],
   "source": [
    "FE = X_train.copy()"
   ]
  },
  {
   "cell_type": "code",
   "execution_count": 32,
   "id": "e8485c8a-8969-4213-aef3-c208e1c9f445",
   "metadata": {},
   "outputs": [],
   "source": [
    "FE = FE.reset_index(drop=True)\n",
    "FE = pd.get_dummies(FE)"
   ]
  },
  {
   "cell_type": "code",
   "execution_count": 33,
   "id": "620da626-6e67-4e09-8ceb-63286df901ca",
   "metadata": {},
   "outputs": [
    {
     "name": "stdout",
     "output_type": "stream",
     "text": [
      "KNN has an average percision of 0.48105625717566014\n",
      "[0.4606548  0.46927053 0.42365098 0.47359357 0.48105626]\n"
     ]
    },
    {
     "data": {
      "text/plain": [
       "(array([0.69494083, 0.72087321, 0.64780764, 0.68882603, 0.66850542]),\n",
       " array([0.4606548 , 0.46927053, 0.42365098, 0.47359357, 0.48105626]))"
      ]
     },
     "execution_count": 33,
     "metadata": {},
     "output_type": "execute_result"
    }
   ],
   "source": [
    "modeling.report(clf3, FE, y_train, 'KNN')"
   ]
  },
  {
   "cell_type": "code",
   "execution_count": 34,
   "id": "dd42bf5d-1da6-44e2-951e-19ead79a1d19",
   "metadata": {},
   "outputs": [
    {
     "data": {
      "text/html": [
       "<div>\n",
       "<style scoped>\n",
       "    .dataframe tbody tr th:only-of-type {\n",
       "        vertical-align: middle;\n",
       "    }\n",
       "\n",
       "    .dataframe tbody tr th {\n",
       "        vertical-align: top;\n",
       "    }\n",
       "\n",
       "    .dataframe thead th {\n",
       "        text-align: right;\n",
       "    }\n",
       "</style>\n",
       "<table border=\"1\" class=\"dataframe\">\n",
       "  <thead>\n",
       "    <tr style=\"text-align: right;\">\n",
       "      <th></th>\n",
       "      <th>Name</th>\n",
       "      <th>Accuracy</th>\n",
       "      <th>Notes</th>\n",
       "    </tr>\n",
       "  </thead>\n",
       "  <tbody>\n",
       "    <tr>\n",
       "      <th>0</th>\n",
       "      <td>KNN</td>\n",
       "      <td>0.481056</td>\n",
       "      <td></td>\n",
       "    </tr>\n",
       "  </tbody>\n",
       "</table>\n",
       "</div>"
      ],
      "text/plain": [
       "  Name  Accuracy Notes\n",
       "0  KNN  0.481056      "
      ]
     },
     "execution_count": 34,
     "metadata": {},
     "output_type": "execute_result"
    }
   ],
   "source": [
    "modeling.history"
   ]
  },
  {
   "cell_type": "code",
   "execution_count": null,
   "id": "738589c4-e413-43c6-9502-2400f8f92299",
   "metadata": {},
   "outputs": [],
   "source": []
  },
  {
   "cell_type": "code",
   "execution_count": null,
   "id": "21d6638e-099a-4868-a234-793698f74ba2",
   "metadata": {},
   "outputs": [],
   "source": []
  },
  {
   "cell_type": "code",
   "execution_count": null,
   "id": "2d2ceab9-b106-48bf-bed8-df398e536851",
   "metadata": {},
   "outputs": [],
   "source": []
  }
 ],
 "metadata": {
  "kernelspec": {
   "display_name": "terry_stops",
   "language": "python",
   "name": "terry_stops"
  },
  "language_info": {
   "codemirror_mode": {
    "name": "ipython",
    "version": 3
   },
   "file_extension": ".py",
   "mimetype": "text/x-python",
   "name": "python",
   "nbconvert_exporter": "python",
   "pygments_lexer": "ipython3",
   "version": "3.9.4"
  }
 },
 "nbformat": 4,
 "nbformat_minor": 5
}
