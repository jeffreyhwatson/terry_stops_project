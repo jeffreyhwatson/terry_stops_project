{
 "cells": [
  {
   "cell_type": "code",
   "execution_count": 2,
   "metadata": {},
   "outputs": [],
   "source": [
    "%load_ext autoreload\n",
    "%autoreload 2"
   ]
  },
  {
   "cell_type": "code",
   "execution_count": 3,
   "metadata": {},
   "outputs": [],
   "source": [
    "# setting project path\n",
    "import os\n",
    "import sys\n",
    "\n",
    "gparent = os.path.join(os.pardir, os.pardir)\n",
    "sys.path.append(gparent)\n",
    "\n",
    "# imports\n",
    "import pandas as pd\n",
    "import numpy as np\n",
    "\n",
    "\n",
    "# setting style\n",
    "# sns.set_theme('talk')\n",
    "# plt.style.use('fivethirtyeight')\n",
    "# sns.set_palette(palette='Blues_r')"
   ]
  },
  {
   "cell_type": "markdown",
   "metadata": {},
   "source": [
    "## Background Information\n",
    "\n",
    "This projects aims to create and train a predictive model on a dataset of Seattle Terry Stops Data. The initial data was obtain as a .csv file of 47,213 rows and 23 columns Terry Stops Data.\n",
    "\n",
    "Data set obtained from:\n",
    "[Link](https://catalog.data.gov/dataset/terry-stops)\n",
    "\n",
    "Data Columns Explanations:\n",
    "[Link](https://data.seattle.gov/Public-Safety/Terry-Stops/28ny-9ts8)"
   ]
  },
  {
   "cell_type": "markdown",
   "metadata": {},
   "source": [
    "## Data Cleaning"
   ]
  },
  {
   "cell_type": "markdown",
   "metadata": {},
   "source": [
    "### Initial Steps\n",
    "Loading the data, checking the info."
   ]
  },
  {
   "cell_type": "code",
   "execution_count": 4,
   "metadata": {},
   "outputs": [],
   "source": [
    "# creating path to data\n",
    "path = os.path.join(gparent, 'data/raw', 'Terry_Stops.csv')\n",
    "df = pd.read_csv(path)"
   ]
  },
  {
   "cell_type": "code",
   "execution_count": 5,
   "metadata": {},
   "outputs": [
    {
     "data": {
      "text/html": [
       "<div>\n",
       "<style scoped>\n",
       "    .dataframe tbody tr th:only-of-type {\n",
       "        vertical-align: middle;\n",
       "    }\n",
       "\n",
       "    .dataframe tbody tr th {\n",
       "        vertical-align: top;\n",
       "    }\n",
       "\n",
       "    .dataframe thead th {\n",
       "        text-align: right;\n",
       "    }\n",
       "</style>\n",
       "<table border=\"1\" class=\"dataframe\">\n",
       "  <thead>\n",
       "    <tr style=\"text-align: right;\">\n",
       "      <th></th>\n",
       "      <th>Subject Age Group</th>\n",
       "      <th>Subject ID</th>\n",
       "      <th>GO / SC Num</th>\n",
       "      <th>Terry Stop ID</th>\n",
       "      <th>Stop Resolution</th>\n",
       "      <th>Weapon Type</th>\n",
       "      <th>Officer ID</th>\n",
       "      <th>Officer YOB</th>\n",
       "      <th>Officer Gender</th>\n",
       "      <th>Officer Race</th>\n",
       "      <th>...</th>\n",
       "      <th>Reported Time</th>\n",
       "      <th>Initial Call Type</th>\n",
       "      <th>Final Call Type</th>\n",
       "      <th>Call Type</th>\n",
       "      <th>Officer Squad</th>\n",
       "      <th>Arrest Flag</th>\n",
       "      <th>Frisk Flag</th>\n",
       "      <th>Precinct</th>\n",
       "      <th>Sector</th>\n",
       "      <th>Beat</th>\n",
       "    </tr>\n",
       "  </thead>\n",
       "  <tbody>\n",
       "    <tr>\n",
       "      <th>0</th>\n",
       "      <td>-</td>\n",
       "      <td>-1</td>\n",
       "      <td>20140000120677</td>\n",
       "      <td>92317</td>\n",
       "      <td>Arrest</td>\n",
       "      <td>None</td>\n",
       "      <td>7500</td>\n",
       "      <td>1984</td>\n",
       "      <td>M</td>\n",
       "      <td>Black or African American</td>\n",
       "      <td>...</td>\n",
       "      <td>11:32:00</td>\n",
       "      <td>-</td>\n",
       "      <td>-</td>\n",
       "      <td>-</td>\n",
       "      <td>SOUTH PCT 1ST W - ROBERT</td>\n",
       "      <td>N</td>\n",
       "      <td>N</td>\n",
       "      <td>South</td>\n",
       "      <td>O</td>\n",
       "      <td>O2</td>\n",
       "    </tr>\n",
       "    <tr>\n",
       "      <th>1</th>\n",
       "      <td>-</td>\n",
       "      <td>-1</td>\n",
       "      <td>20150000001463</td>\n",
       "      <td>28806</td>\n",
       "      <td>Field Contact</td>\n",
       "      <td>None</td>\n",
       "      <td>5670</td>\n",
       "      <td>1965</td>\n",
       "      <td>M</td>\n",
       "      <td>White</td>\n",
       "      <td>...</td>\n",
       "      <td>07:59:00</td>\n",
       "      <td>-</td>\n",
       "      <td>-</td>\n",
       "      <td>-</td>\n",
       "      <td>NaN</td>\n",
       "      <td>N</td>\n",
       "      <td>N</td>\n",
       "      <td>-</td>\n",
       "      <td>-</td>\n",
       "      <td>-</td>\n",
       "    </tr>\n",
       "    <tr>\n",
       "      <th>2</th>\n",
       "      <td>-</td>\n",
       "      <td>-1</td>\n",
       "      <td>20150000001516</td>\n",
       "      <td>29599</td>\n",
       "      <td>Field Contact</td>\n",
       "      <td>None</td>\n",
       "      <td>4844</td>\n",
       "      <td>1961</td>\n",
       "      <td>M</td>\n",
       "      <td>White</td>\n",
       "      <td>...</td>\n",
       "      <td>19:12:00</td>\n",
       "      <td>-</td>\n",
       "      <td>-</td>\n",
       "      <td>-</td>\n",
       "      <td>NaN</td>\n",
       "      <td>N</td>\n",
       "      <td>-</td>\n",
       "      <td>-</td>\n",
       "      <td>-</td>\n",
       "      <td>-</td>\n",
       "    </tr>\n",
       "    <tr>\n",
       "      <th>3</th>\n",
       "      <td>-</td>\n",
       "      <td>-1</td>\n",
       "      <td>20150000001670</td>\n",
       "      <td>32260</td>\n",
       "      <td>Field Contact</td>\n",
       "      <td>None</td>\n",
       "      <td>7539</td>\n",
       "      <td>1963</td>\n",
       "      <td>M</td>\n",
       "      <td>White</td>\n",
       "      <td>...</td>\n",
       "      <td>04:55:00</td>\n",
       "      <td>-</td>\n",
       "      <td>-</td>\n",
       "      <td>-</td>\n",
       "      <td>NaN</td>\n",
       "      <td>N</td>\n",
       "      <td>N</td>\n",
       "      <td>-</td>\n",
       "      <td>-</td>\n",
       "      <td>-</td>\n",
       "    </tr>\n",
       "    <tr>\n",
       "      <th>4</th>\n",
       "      <td>-</td>\n",
       "      <td>-1</td>\n",
       "      <td>20150000001739</td>\n",
       "      <td>33155</td>\n",
       "      <td>Field Contact</td>\n",
       "      <td>None</td>\n",
       "      <td>6973</td>\n",
       "      <td>1977</td>\n",
       "      <td>M</td>\n",
       "      <td>White</td>\n",
       "      <td>...</td>\n",
       "      <td>00:41:00</td>\n",
       "      <td>-</td>\n",
       "      <td>-</td>\n",
       "      <td>-</td>\n",
       "      <td>NaN</td>\n",
       "      <td>N</td>\n",
       "      <td>N</td>\n",
       "      <td>-</td>\n",
       "      <td>-</td>\n",
       "      <td>-</td>\n",
       "    </tr>\n",
       "  </tbody>\n",
       "</table>\n",
       "<p>5 rows × 23 columns</p>\n",
       "</div>"
      ],
      "text/plain": [
       "  Subject Age Group  Subject ID     GO / SC Num  Terry Stop ID  \\\n",
       "0                 -          -1  20140000120677          92317   \n",
       "1                 -          -1  20150000001463          28806   \n",
       "2                 -          -1  20150000001516          29599   \n",
       "3                 -          -1  20150000001670          32260   \n",
       "4                 -          -1  20150000001739          33155   \n",
       "\n",
       "  Stop Resolution Weapon Type Officer ID  Officer YOB Officer Gender  \\\n",
       "0          Arrest        None     7500           1984              M   \n",
       "1   Field Contact        None     5670           1965              M   \n",
       "2   Field Contact        None     4844           1961              M   \n",
       "3   Field Contact        None     7539           1963              M   \n",
       "4   Field Contact        None     6973           1977              M   \n",
       "\n",
       "                Officer Race  ... Reported Time Initial Call Type  \\\n",
       "0  Black or African American  ...      11:32:00                 -   \n",
       "1                      White  ...      07:59:00                 -   \n",
       "2                      White  ...      19:12:00                 -   \n",
       "3                      White  ...      04:55:00                 -   \n",
       "4                      White  ...      00:41:00                 -   \n",
       "\n",
       "  Final Call Type Call Type             Officer Squad Arrest Flag Frisk Flag  \\\n",
       "0               -         -  SOUTH PCT 1ST W - ROBERT           N          N   \n",
       "1               -         -                       NaN           N          N   \n",
       "2               -         -                       NaN           N          -   \n",
       "3               -         -                       NaN           N          N   \n",
       "4               -         -                       NaN           N          N   \n",
       "\n",
       "  Precinct  Sector    Beat  \n",
       "0    South  O       O2      \n",
       "1        -       -       -  \n",
       "2        -       -       -  \n",
       "3        -       -       -  \n",
       "4        -       -       -  \n",
       "\n",
       "[5 rows x 23 columns]"
      ]
     },
     "execution_count": 5,
     "metadata": {},
     "output_type": "execute_result"
    }
   ],
   "source": [
    "# checking first few rows\n",
    "df.head()"
   ]
  },
  {
   "cell_type": "code",
   "execution_count": 6,
   "metadata": {},
   "outputs": [
    {
     "name": "stdout",
     "output_type": "stream",
     "text": [
      "<class 'pandas.core.frame.DataFrame'>\n",
      "RangeIndex: 47213 entries, 0 to 47212\n",
      "Data columns (total 23 columns):\n",
      " #   Column                    Non-Null Count  Dtype \n",
      "---  ------                    --------------  ----- \n",
      " 0   Subject Age Group         47213 non-null  object\n",
      " 1   Subject ID                47213 non-null  int64 \n",
      " 2   GO / SC Num               47213 non-null  int64 \n",
      " 3   Terry Stop ID             47213 non-null  int64 \n",
      " 4   Stop Resolution           47213 non-null  object\n",
      " 5   Weapon Type               47213 non-null  object\n",
      " 6   Officer ID                47213 non-null  object\n",
      " 7   Officer YOB               47213 non-null  int64 \n",
      " 8   Officer Gender            47213 non-null  object\n",
      " 9   Officer Race              47213 non-null  object\n",
      " 10  Subject Perceived Race    47213 non-null  object\n",
      " 11  Subject Perceived Gender  47213 non-null  object\n",
      " 12  Reported Date             47213 non-null  object\n",
      " 13  Reported Time             47213 non-null  object\n",
      " 14  Initial Call Type         47213 non-null  object\n",
      " 15  Final Call Type           47213 non-null  object\n",
      " 16  Call Type                 47213 non-null  object\n",
      " 17  Officer Squad             46609 non-null  object\n",
      " 18  Arrest Flag               47213 non-null  object\n",
      " 19  Frisk Flag                47213 non-null  object\n",
      " 20  Precinct                  47213 non-null  object\n",
      " 21  Sector                    47213 non-null  object\n",
      " 22  Beat                      47213 non-null  object\n",
      "dtypes: int64(4), object(19)\n",
      "memory usage: 8.3+ MB\n"
     ]
    }
   ],
   "source": [
    "#  checking info\n",
    "df.info()"
   ]
  },
  {
   "cell_type": "markdown",
   "metadata": {},
   "source": [
    "## Checking for Nulls"
   ]
  },
  {
   "cell_type": "code",
   "execution_count": 7,
   "metadata": {},
   "outputs": [
    {
     "data": {
      "text/plain": [
       "Subject Age Group             0\n",
       "Subject ID                    0\n",
       "GO / SC Num                   0\n",
       "Terry Stop ID                 0\n",
       "Stop Resolution               0\n",
       "Weapon Type                   0\n",
       "Officer ID                    0\n",
       "Officer YOB                   0\n",
       "Officer Gender                0\n",
       "Officer Race                  0\n",
       "Subject Perceived Race        0\n",
       "Subject Perceived Gender      0\n",
       "Reported Date                 0\n",
       "Reported Time                 0\n",
       "Initial Call Type             0\n",
       "Final Call Type               0\n",
       "Call Type                     0\n",
       "Officer Squad               604\n",
       "Arrest Flag                   0\n",
       "Frisk Flag                    0\n",
       "Precinct                      0\n",
       "Sector                        0\n",
       "Beat                          0\n",
       "dtype: int64"
      ]
     },
     "execution_count": 7,
     "metadata": {},
     "output_type": "execute_result"
    }
   ],
   "source": [
    "# checking for nulls\n",
    "df.isna().sum()"
   ]
  },
  {
   "cell_type": "markdown",
   "metadata": {},
   "source": [
    "## Handling Nulls\n",
    "It appears that there 604 null values, but there is also a placeholder value of `'-'` that we need to deal with as well. Replacing both with the string `'NA'`."
   ]
  },
  {
   "cell_type": "code",
   "execution_count": 8,
   "metadata": {},
   "outputs": [],
   "source": [
    "# filling nulls and replacing - values\n",
    "df['Officer Squad'].fillna('NA', inplace=True)\n",
    "df.replace('-', 'NA', inplace=True)"
   ]
  },
  {
   "cell_type": "code",
   "execution_count": 9,
   "metadata": {},
   "outputs": [
    {
     "data": {
      "text/plain": [
       "Subject Age Group           0\n",
       "Subject ID                  0\n",
       "GO / SC Num                 0\n",
       "Terry Stop ID               0\n",
       "Stop Resolution             0\n",
       "Weapon Type                 0\n",
       "Officer ID                  0\n",
       "Officer YOB                 0\n",
       "Officer Gender              0\n",
       "Officer Race                0\n",
       "Subject Perceived Race      0\n",
       "Subject Perceived Gender    0\n",
       "Reported Date               0\n",
       "Reported Time               0\n",
       "Initial Call Type           0\n",
       "Final Call Type             0\n",
       "Call Type                   0\n",
       "Officer Squad               0\n",
       "Arrest Flag                 0\n",
       "Frisk Flag                  0\n",
       "Precinct                    0\n",
       "Sector                      0\n",
       "Beat                        0\n",
       "dtype: int64"
      ]
     },
     "execution_count": 9,
     "metadata": {},
     "output_type": "execute_result"
    }
   ],
   "source": [
    "#  checking work\n",
    "df.isna().sum()"
   ]
  },
  {
   "cell_type": "markdown",
   "metadata": {},
   "source": [
    "## Checking Feature Columns\n",
    "Checking out the data, looking for any patterns & problems."
   ]
  },
  {
   "cell_type": "markdown",
   "metadata": {},
   "source": [
    "### Stop Resolution"
   ]
  },
  {
   "cell_type": "code",
   "execution_count": 10,
   "metadata": {},
   "outputs": [
    {
     "data": {
      "text/plain": [
       "array(['Arrest', 'Field Contact', 'Citation / Infraction',\n",
       "       'Offense Report', 'Referred for Prosecution'], dtype=object)"
      ]
     },
     "execution_count": 10,
     "metadata": {},
     "output_type": "execute_result"
    }
   ],
   "source": [
    "# checking uniques\n",
    "df['Stop Resolution'].unique()"
   ]
  },
  {
   "cell_type": "markdown",
   "metadata": {},
   "source": [
    "## Creating the Target Feature\n",
    "Creating a binary feature where a value of 1 means an arrest occurred and moving it to the front of the data frame. "
   ]
  },
  {
   "cell_type": "code",
   "execution_count": 11,
   "metadata": {},
   "outputs": [],
   "source": [
    "# creating and binarizing the target feature\n",
    "df['Target'] = df['Stop Resolution']\n",
    "\n",
    "df['Target'] = df['Target'].replace('Arrest', 1)\n",
    "df['Target'] = df['Target'].map(lambda x: 0 if (x!=1) else 1)"
   ]
  },
  {
   "cell_type": "code",
   "execution_count": 12,
   "metadata": {},
   "outputs": [],
   "source": [
    "# moving target to the front of the data frame\n",
    "column_name = 'Target'\n",
    "first_column = df.pop(column_name)\n",
    "df.insert(0, column_name, first_column)"
   ]
  },
  {
   "cell_type": "markdown",
   "metadata": {},
   "source": [
    "### Weapon Type"
   ]
  },
  {
   "cell_type": "code",
   "execution_count": 13,
   "metadata": {},
   "outputs": [
    {
     "data": {
      "text/plain": [
       "array(['None', 'Firearm Other', 'Lethal Cutting Instrument', 'Handgun',\n",
       "       'NA', 'Club, Blackjack, Brass Knuckles',\n",
       "       'Knife/Cutting/Stabbing Instrument', 'Other Firearm', 'Rifle',\n",
       "       'Fire/Incendiary Device', 'Blunt Object/Striking Implement',\n",
       "       'Firearm (unk type)', 'Mace/Pepper Spray', 'None/Not Applicable',\n",
       "       'Club', 'Firearm', 'Taser/Stun Gun', 'Shotgun', 'Brass Knuckles',\n",
       "       'Automatic Handgun', 'Blackjack',\n",
       "       'Personal Weapons (hands, feet, etc.)'], dtype=object)"
      ]
     },
     "execution_count": 13,
     "metadata": {},
     "output_type": "execute_result"
    }
   ],
   "source": [
    "# checking weapon types\n",
    "df['Weapon Type'].unique()"
   ]
  },
  {
   "cell_type": "markdown",
   "metadata": {},
   "source": [
    "## Creating a Weapons Flag\n",
    "Creating a feature that flags if a weapon was found during the stop."
   ]
  },
  {
   "cell_type": "code",
   "execution_count": 14,
   "metadata": {
    "tags": []
   },
   "outputs": [],
   "source": [
    "# creating weapons flag\n",
    "df['Weapon Flag'] = df['Weapon Type']\n",
    "\n",
    "df['Weapon Flag'] = df['Weapon Flag'].replace(['None', 'NA', 'None/Not Applicable'], [0,0,0])\n",
    "df['Weapon Flag'] = df['Weapon Flag'].map(lambda x: 1 if x!=0 else 0)"
   ]
  },
  {
   "cell_type": "markdown",
   "metadata": {},
   "source": [
    "### Officer ID"
   ]
  },
  {
   "cell_type": "code",
   "execution_count": 15,
   "metadata": {},
   "outputs": [
    {
     "data": {
      "text/plain": [
       "array(['7500  ', '5670  ', '4844  ', ..., '6237  ', '6983  ', '5917  '],\n",
       "      dtype=object)"
      ]
     },
     "execution_count": 15,
     "metadata": {},
     "output_type": "execute_result"
    }
   ],
   "source": [
    "# checking uniques\n",
    "df['Officer ID'].unique()"
   ]
  },
  {
   "cell_type": "markdown",
   "metadata": {},
   "source": [
    "## Fixing the Officer ID Column\n",
    "Stripping whitespaces from the IDs."
   ]
  },
  {
   "cell_type": "code",
   "execution_count": 16,
   "metadata": {},
   "outputs": [],
   "source": [
    "# stripping whitespaces\n",
    "df['Officer ID']= df['Officer ID'].apply(lambda x: x.strip())"
   ]
  },
  {
   "cell_type": "markdown",
   "metadata": {},
   "source": [
    "### Officer Race"
   ]
  },
  {
   "cell_type": "code",
   "execution_count": 17,
   "metadata": {},
   "outputs": [
    {
     "data": {
      "text/plain": [
       "array(['Black or African American', 'White', 'Hispanic or Latino',\n",
       "       'Asian', 'American Indian/Alaska Native', 'Two or More Races',\n",
       "       'Not Specified', 'Nat Hawaiian/Oth Pac Islander', 'Unknown'],\n",
       "      dtype=object)"
      ]
     },
     "execution_count": 17,
     "metadata": {},
     "output_type": "execute_result"
    }
   ],
   "source": [
    "#  checking uniques\n",
    "df['Officer Race'].unique()"
   ]
  },
  {
   "cell_type": "markdown",
   "metadata": {},
   "source": [
    "## Renaming Officer Race Categories for Brevity"
   ]
  },
  {
   "cell_type": "code",
   "execution_count": 18,
   "metadata": {},
   "outputs": [],
   "source": [
    "# renaming categories for brevity\n",
    "officer_race_list = ['Black or African American', 'White', 'Hispanic or Latino',\n",
    "       'Asian', 'American Indian/Alaska Native', 'Two or More Races',\n",
    "       'Not Specified', 'Nat Hawaiian/Oth Pac Islander', 'Unknown']\n",
    "\n",
    "officer_replace_list = race_list = ['Black', 'White', 'Hispanic',\n",
    "       'Asian', 'N_American', 'Multi-Racial',\n",
    "       'NA', 'P_Islander', 'Unknown']\n",
    "\n",
    "df['Officer Race'] = df['Officer Race'].replace(officer_race_list, officer_replace_list)"
   ]
  },
  {
   "cell_type": "markdown",
   "metadata": {},
   "source": [
    "### Officer Gender"
   ]
  },
  {
   "cell_type": "code",
   "execution_count": 19,
   "metadata": {},
   "outputs": [
    {
     "data": {
      "text/plain": [
       "array(['M', 'F', 'N'], dtype=object)"
      ]
     },
     "execution_count": 19,
     "metadata": {},
     "output_type": "execute_result"
    }
   ],
   "source": [
    "# checking uniques\n",
    "df['Officer Gender'].unique()"
   ]
  },
  {
   "cell_type": "markdown",
   "metadata": {},
   "source": [
    "### Subject Race"
   ]
  },
  {
   "cell_type": "code",
   "execution_count": 20,
   "metadata": {},
   "outputs": [
    {
     "data": {
      "text/plain": [
       "array(['Asian', 'NA', 'White', 'Black or African American', 'Other',\n",
       "       'Unknown', 'American Indian or Alaska Native', 'Hispanic',\n",
       "       'Multi-Racial', 'Native Hawaiian or Other Pacific Islander'],\n",
       "      dtype=object)"
      ]
     },
     "execution_count": 20,
     "metadata": {},
     "output_type": "execute_result"
    }
   ],
   "source": [
    "# checking uniques\n",
    "df['Subject Perceived Race'].unique()"
   ]
  },
  {
   "cell_type": "markdown",
   "metadata": {},
   "source": [
    "## Renaming Subject Race Categories for Brevity\n",
    "Renaming, checking value counts and proportions."
   ]
  },
  {
   "cell_type": "code",
   "execution_count": 21,
   "metadata": {},
   "outputs": [],
   "source": [
    "# renaming categories for brevity\n",
    "race_list = ['Asian', 'NA', 'White', 'Black or African American', 'Other',\n",
    "       'Unknown', 'American Indian or Alaska Native', 'Hispanic',\n",
    "       'Multi-Racial', 'Native Hawaiian or Other Pacific Islander']\n",
    "\n",
    "replace_list =['Asian', 'NA', 'White', 'Black', 'Other',\n",
    "       'Unknown', 'N_American', 'Hispanic',\n",
    "       'Multi-Racial', 'P_Islander']\n",
    "\n",
    "df['Subject Perceived Race'] = df['Subject Perceived Race']\\\n",
    "                                 .replace(race_list, replace_list)"
   ]
  },
  {
   "cell_type": "code",
   "execution_count": 22,
   "metadata": {},
   "outputs": [
    {
     "name": "stdout",
     "output_type": "stream",
     "text": [
      "White           23052\n",
      "Black           14046\n",
      "Unknown          2626\n",
      "NA               1893\n",
      "Hispanic         1684\n",
      "Asian            1536\n",
      "N_American       1359\n",
      "Multi-Racial      809\n",
      "Other             152\n",
      "P_Islander         56\n",
      "Name: Subject Perceived Race, dtype: int64\n"
     ]
    },
    {
     "data": {
      "text/plain": [
       "White           0.488255\n",
       "Black           0.297503\n",
       "Unknown         0.055620\n",
       "NA              0.040095\n",
       "Hispanic        0.035668\n",
       "Asian           0.032533\n",
       "N_American      0.028784\n",
       "Multi-Racial    0.017135\n",
       "Other           0.003219\n",
       "P_Islander      0.001186\n",
       "Name: Subject Perceived Race, dtype: float64"
      ]
     },
     "execution_count": 22,
     "metadata": {},
     "output_type": "execute_result"
    }
   ],
   "source": [
    "print(df['Subject Perceived Race'].value_counts())\n",
    "df['Subject Perceived Race'].value_counts(normalize=True)"
   ]
  },
  {
   "cell_type": "markdown",
   "metadata": {},
   "source": [
    "### Subject Gender"
   ]
  },
  {
   "cell_type": "code",
   "execution_count": 30,
   "metadata": {},
   "outputs": [
    {
     "data": {
      "text/plain": [
       "array(['Male', 'NA', 'Female', 'Unable to Determine', 'Unknown',\n",
       "       'Gender Diverse (gender non-conforming and/or transgender)'],\n",
       "      dtype=object)"
      ]
     },
     "execution_count": 30,
     "metadata": {},
     "output_type": "execute_result"
    }
   ],
   "source": [
    "# checking uniques\n",
    "df['Subject Perceived Gender'].unique()"
   ]
  },
  {
   "cell_type": "markdown",
   "metadata": {},
   "source": [
    "## Renaming Subject Gender Categories"
   ]
  },
  {
   "cell_type": "code",
   "execution_count": null,
   "metadata": {},
   "outputs": [],
   "source": [
    "# renaming categories for brevity\n",
    "gender_list = ['Male', 'NA', 'Female', 'Unable to Determine', 'Unknown',\n",
    "       'Gender Diverse (gender non-conforming and/or transgender)']\n",
    "\n",
    "gender_replace = ['Male', 'NA', 'Female', 'Undetermined', 'Unknown',\n",
    "       'Gender Diverse']\n",
    "\n",
    "df['Subject Perceived Gender'] = df['Subject Perceived Gender'].replace(gender_list, gender_replace)"
   ]
  },
  {
   "cell_type": "markdown",
   "metadata": {},
   "source": [
    "### Date & Time Features"
   ]
  },
  {
   "cell_type": "code",
   "execution_count": 32,
   "metadata": {},
   "outputs": [
    {
     "name": "stdout",
     "output_type": "stream",
     "text": [
      "0    2015-10-16T00:00:00\n",
      "1    2015-03-19T00:00:00\n",
      "Name: Reported Date, dtype: object\n"
     ]
    },
    {
     "data": {
      "text/plain": [
       "0    11:32:00\n",
       "1    07:59:00\n",
       "Name: Reported Time, dtype: object"
      ]
     },
     "execution_count": 32,
     "metadata": {},
     "output_type": "execute_result"
    }
   ],
   "source": [
    "# checking date and time columns\n",
    "print(df['Reported Date'][:2])\n",
    "df['Reported Time'][:2]"
   ]
  },
  {
   "cell_type": "markdown",
   "metadata": {},
   "source": [
    "## Converting Date & Time Columns to Datetime Types"
   ]
  },
  {
   "cell_type": "code",
   "execution_count": 33,
   "metadata": {},
   "outputs": [],
   "source": [
    "# converting date & time columns to datetime types\n",
    "df = df.astype({'Reported Time':'datetime64', 'Reported Date':'datetime64'})"
   ]
  },
  {
   "cell_type": "markdown",
   "metadata": {},
   "source": [
    "## Creating Year, Month, DOM, DOW, and Hour Features"
   ]
  },
  {
   "cell_type": "code",
   "execution_count": null,
   "metadata": {},
   "outputs": [],
   "source": [
    "#  getting year, month, day of month, day of week, and hour features\n",
    "df['Reported Year'] = df['Reported Date'].dt.year\n",
    "df['Reported Month'] = df['Reported Date'].dt.month\n",
    "df['Day of Month'] = df['Reported Date'].dt.day\n",
    "\n",
    "# Monday = 0, Sunday = 6\n",
    "df['Day of Week'] = df['Reported Date'].dt.weekday\n",
    "df['Reported Hour'] = df['Reported Time'].dt.hour"
   ]
  },
  {
   "cell_type": "code",
   "execution_count": null,
   "metadata": {},
   "outputs": [],
   "source": [
    "# checking work\n",
    "df.sort_values(by='Reported Year').head(2)"
   ]
  },
  {
   "cell_type": "code",
   "execution_count": null,
   "metadata": {},
   "outputs": [],
   "source": [
    "# dropping date and time columns\n",
    "df.drop(['Reported Date', 'Reported Time'], axis=1, inplace=True)"
   ]
  },
  {
   "cell_type": "markdown",
   "metadata": {},
   "source": [
    "### Checking Call Type Value Counts"
   ]
  },
  {
   "cell_type": "code",
   "execution_count": 34,
   "metadata": {},
   "outputs": [
    {
     "data": {
      "text/plain": [
       "NA                                                13162\n",
       "SUSPICIOUS STOP - OFFICER INITIATED ONVIEW         3165\n",
       "SUSPICIOUS PERSON, VEHICLE OR INCIDENT             2994\n",
       "DISTURBANCE, MISCELLANEOUS/OTHER                   2429\n",
       "ASLT - IP/JO - WITH OR W/O WPNS (NO SHOOTINGS)     2007\n",
       "                                                  ...  \n",
       "VICE - PORNOGRAPHY                                    1\n",
       "DEMONSTRATIONS                                        1\n",
       "ORDER - ASSIST DV VIC W/SRVC OF COURT ORDER           1\n",
       "ALARM - RESIDENTIAL - SILENT/AUD PANIC/DURESS         1\n",
       "ANIMAL, REPORT - BITE                                 1\n",
       "Name: Initial Call Type, Length: 167, dtype: int64"
      ]
     },
     "execution_count": 34,
     "metadata": {},
     "output_type": "execute_result"
    }
   ],
   "source": [
    "df['Initial Call Type'].value_counts()"
   ]
  },
  {
   "cell_type": "code",
   "execution_count": 35,
   "metadata": {},
   "outputs": [
    {
     "data": {
      "text/plain": [
       "NA                                                   13162\n",
       "--SUSPICIOUS CIRCUM. - SUSPICIOUS PERSON              3772\n",
       "--PROWLER - TRESPASS                                  3330\n",
       "--DISTURBANCE - OTHER                                 2719\n",
       "--ASSAULTS, OTHER                                     2297\n",
       "                                                     ...  \n",
       "BIAS -RACIAL, POLITICAL, SEXUAL MOTIVATION               1\n",
       "MVC - REPORT, NON INJ/NON BLKG OR AFTER FACT INJ         1\n",
       "--COMMERCIAL SEXUAL EXPLOITATION OF MINORS (CSEC)        1\n",
       "NARCOTICS WARRANT SERVICE                                1\n",
       "ORDER - VIOLATING DV COURT ORDER                         1\n",
       "Name: Final Call Type, Length: 207, dtype: int64"
      ]
     },
     "execution_count": 35,
     "metadata": {},
     "output_type": "execute_result"
    }
   ],
   "source": [
    "df['Final Call Type'].value_counts()"
   ]
  },
  {
   "cell_type": "markdown",
   "metadata": {},
   "source": [
    "## Checking Call Origination Feature"
   ]
  },
  {
   "cell_type": "code",
   "execution_count": 38,
   "metadata": {},
   "outputs": [
    {
     "name": "stdout",
     "output_type": "stream",
     "text": [
      "911                              21284\n",
      "NA                               13162\n",
      "ONVIEW                            9110\n",
      "TELEPHONE OTHER, NOT 911          3309\n",
      "ALARM CALL (NOT POLICE ALARM)      340\n",
      "TEXT MESSAGE                         7\n",
      "SCHEDULED EVENT (RECURRING)          1\n",
      "Name: Call Type, dtype: int64\n"
     ]
    },
    {
     "data": {
      "text/plain": [
       "911                              0.450808\n",
       "NA                               0.278779\n",
       "ONVIEW                           0.192955\n",
       "TELEPHONE OTHER, NOT 911         0.070087\n",
       "ALARM CALL (NOT POLICE ALARM)    0.007201\n",
       "TEXT MESSAGE                     0.000148\n",
       "SCHEDULED EVENT (RECURRING)      0.000021\n",
       "Name: Call Type, dtype: float64"
      ]
     },
     "execution_count": 38,
     "metadata": {},
     "output_type": "execute_result"
    }
   ],
   "source": [
    "print(df['Call Type'].value_counts())\n",
    "df['Call Type'].value_counts(normalize=True)"
   ]
  },
  {
   "cell_type": "markdown",
   "metadata": {},
   "source": [
    "## Call Type Analysis\n",
    "- 45% of the calls came in as 911 calls.\n",
    "- 28% are of unknown origin.\n",
    "- 19% of the stops were based on officer observation. \n",
    "\n",
    "`Call Type` seems to be a potentially important feature moving forward."
   ]
  },
  {
   "cell_type": "code",
   "execution_count": null,
   "metadata": {},
   "outputs": [],
   "source": [
    "df['Officer Squad'].value_counts()"
   ]
  },
  {
   "cell_type": "code",
   "execution_count": null,
   "metadata": {},
   "outputs": [],
   "source": [
    "df['Officer Squad'].unique()"
   ]
  },
  {
   "cell_type": "code",
   "execution_count": null,
   "metadata": {},
   "outputs": [],
   "source": [
    "df['Arrest Flag'].value_counts()"
   ]
  },
  {
   "cell_type": "code",
   "execution_count": null,
   "metadata": {},
   "outputs": [],
   "source": [
    "#  binarizing arrest flag\n",
    "df['Arrest Flag'] = df['Arrest Flag'].replace('Y', 1)\n",
    "df['Arrest Flag'] = df['Arrest Flag'].map(lambda x: 0 if x!=1 else 1)"
   ]
  },
  {
   "cell_type": "code",
   "execution_count": null,
   "metadata": {},
   "outputs": [],
   "source": [
    "df['Arrest Flag'].value_counts()"
   ]
  },
  {
   "cell_type": "code",
   "execution_count": null,
   "metadata": {
    "tags": []
   },
   "outputs": [],
   "source": [
    "df['Frisk Flag'].value_counts()"
   ]
  },
  {
   "cell_type": "code",
   "execution_count": null,
   "metadata": {},
   "outputs": [],
   "source": [
    "#  binarizing frisk flag\n",
    "df['Frisk Flag'] = df['Frisk Flag'].replace('Y', 1)\n",
    "df['Frisk Flag'] = df['Frisk Flag'].map(lambda x: 0 if x!=1 else 1)"
   ]
  },
  {
   "cell_type": "code",
   "execution_count": null,
   "metadata": {},
   "outputs": [],
   "source": [
    "df['Frisk Flag'].value_counts()"
   ]
  },
  {
   "cell_type": "code",
   "execution_count": null,
   "metadata": {},
   "outputs": [],
   "source": [
    "df['Precinct'].unique()"
   ]
  },
  {
   "cell_type": "code",
   "execution_count": null,
   "metadata": {},
   "outputs": [],
   "source": [
    "df['Precinct'].value_counts()"
   ]
  },
  {
   "cell_type": "code",
   "execution_count": null,
   "metadata": {},
   "outputs": [],
   "source": [
    "# fixing Southwest precinct\n",
    "df['Precinct'] = df['Precinct'].replace('SouthWest', 'Southwest')"
   ]
  },
  {
   "cell_type": "code",
   "execution_count": null,
   "metadata": {},
   "outputs": [],
   "source": [
    "drop_list = ['Unknown', 'OOJ', 'FK ERROR']\n",
    "df = df[~df['Precinct'].isin(drop_list)]"
   ]
  },
  {
   "cell_type": "code",
   "execution_count": null,
   "metadata": {},
   "outputs": [],
   "source": [
    "df['Precinct'].value_counts()"
   ]
  },
  {
   "cell_type": "code",
   "execution_count": null,
   "metadata": {},
   "outputs": [],
   "source": [
    "df['Sector'].value_counts()"
   ]
  },
  {
   "cell_type": "code",
   "execution_count": null,
   "metadata": {},
   "outputs": [],
   "source": [
    "df['Beat'].value_counts()"
   ]
  },
  {
   "cell_type": "code",
   "execution_count": null,
   "metadata": {},
   "outputs": [],
   "source": [
    "# creating beat flag\n",
    "df['Beat Flag'] = df['Beat']\n",
    "\n",
    "df['Beat Flag'] = df['Beat Flag'].replace('NA', 0)\n",
    "df['Beat Flag'] = df['Beat Flag'].map(lambda x: 1 if x!=0 else 0)"
   ]
  },
  {
   "cell_type": "code",
   "execution_count": null,
   "metadata": {},
   "outputs": [],
   "source": [
    "df['Beat Flag'].value_counts()"
   ]
  },
  {
   "cell_type": "code",
   "execution_count": null,
   "metadata": {},
   "outputs": [],
   "source": [
    "df.info()"
   ]
  },
  {
   "cell_type": "code",
   "execution_count": null,
   "metadata": {},
   "outputs": [],
   "source": [
    "# checking columns\n",
    "df.columns"
   ]
  },
  {
   "cell_type": "code",
   "execution_count": null,
   "metadata": {},
   "outputs": [],
   "source": [
    "# dropping columns\n",
    "df.drop(['Subject ID', 'GO / SC Num',\n",
    "         'Terry Stop ID'], axis=1, inplace=True)"
   ]
  },
  {
   "cell_type": "code",
   "execution_count": null,
   "metadata": {},
   "outputs": [],
   "source": [
    "# path2 = os.path.join(gparent, 'data/processed', 'cleaned1.csv')\n",
    "# df.to_csv(path2, index=False, na_rep='NA')"
   ]
  },
  {
   "cell_type": "code",
   "execution_count": null,
   "metadata": {},
   "outputs": [],
   "source": []
  }
 ],
 "metadata": {
  "kernelspec": {
   "display_name": "terry_stops",
   "language": "python",
   "name": "terry_stops"
  },
  "language_info": {
   "codemirror_mode": {
    "name": "ipython",
    "version": 3
   },
   "file_extension": ".py",
   "mimetype": "text/x-python",
   "name": "python",
   "nbconvert_exporter": "python",
   "pygments_lexer": "ipython3",
   "version": "3.9.4"
  }
 },
 "nbformat": 4,
 "nbformat_minor": 4
}
