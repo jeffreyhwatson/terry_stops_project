{
 "cells": [
  {
   "cell_type": "code",
   "execution_count": 1,
   "metadata": {},
   "outputs": [],
   "source": [
    "%load_ext autoreload\n",
    "%autoreload 2"
   ]
  },
  {
   "cell_type": "code",
   "execution_count": 2,
   "metadata": {},
   "outputs": [],
   "source": [
    "# setting project path\n",
    "import os\n",
    "import sys\n",
    "\n",
    "gparent = os.path.join(os.pardir, os.pardir)\n",
    "sys.path.append(gparent)\n",
    "\n",
    "# imports\n",
    "import pandas as pd\n",
    "import numpy as np\n",
    "from sklearn.model_selection import train_test_split\n",
    "from sklearn.preprocessing import StandardScaler\n",
    "from imblearn.over_sampling import SMOTE\n",
    "\n",
    "import matplotlib.pyplot as plt\n",
    "import seaborn as sns\n",
    "\n",
    "# setting style\n",
    "sns.set_theme('talk')\n",
    "plt.style.use('fivethirtyeight')\n",
    "sns.set_palette(palette='Blues_r')"
   ]
  },
  {
   "cell_type": "markdown",
   "metadata": {},
   "source": [
    "## Initial Data Cleaning"
   ]
  },
  {
   "cell_type": "code",
   "execution_count": 3,
   "metadata": {},
   "outputs": [],
   "source": [
    "# creating path to data\n",
    "path = os.path.join(gparent, 'data/raw', 'Terry_Stops.csv')\n",
    "df = pd.read_csv(path)"
   ]
  },
  {
   "cell_type": "code",
   "execution_count": 4,
   "metadata": {},
   "outputs": [
    {
     "data": {
      "text/html": [
       "<div>\n",
       "<style scoped>\n",
       "    .dataframe tbody tr th:only-of-type {\n",
       "        vertical-align: middle;\n",
       "    }\n",
       "\n",
       "    .dataframe tbody tr th {\n",
       "        vertical-align: top;\n",
       "    }\n",
       "\n",
       "    .dataframe thead th {\n",
       "        text-align: right;\n",
       "    }\n",
       "</style>\n",
       "<table border=\"1\" class=\"dataframe\">\n",
       "  <thead>\n",
       "    <tr style=\"text-align: right;\">\n",
       "      <th></th>\n",
       "      <th>Subject Age Group</th>\n",
       "      <th>Subject ID</th>\n",
       "      <th>GO / SC Num</th>\n",
       "      <th>Terry Stop ID</th>\n",
       "      <th>Stop Resolution</th>\n",
       "      <th>Weapon Type</th>\n",
       "      <th>Officer ID</th>\n",
       "      <th>Officer YOB</th>\n",
       "      <th>Officer Gender</th>\n",
       "      <th>Officer Race</th>\n",
       "      <th>...</th>\n",
       "      <th>Reported Time</th>\n",
       "      <th>Initial Call Type</th>\n",
       "      <th>Final Call Type</th>\n",
       "      <th>Call Type</th>\n",
       "      <th>Officer Squad</th>\n",
       "      <th>Arrest Flag</th>\n",
       "      <th>Frisk Flag</th>\n",
       "      <th>Precinct</th>\n",
       "      <th>Sector</th>\n",
       "      <th>Beat</th>\n",
       "    </tr>\n",
       "  </thead>\n",
       "  <tbody>\n",
       "    <tr>\n",
       "      <th>0</th>\n",
       "      <td>-</td>\n",
       "      <td>-1</td>\n",
       "      <td>20140000120677</td>\n",
       "      <td>92317</td>\n",
       "      <td>Arrest</td>\n",
       "      <td>None</td>\n",
       "      <td>7500</td>\n",
       "      <td>1984</td>\n",
       "      <td>M</td>\n",
       "      <td>Black or African American</td>\n",
       "      <td>...</td>\n",
       "      <td>11:32:00</td>\n",
       "      <td>-</td>\n",
       "      <td>-</td>\n",
       "      <td>-</td>\n",
       "      <td>SOUTH PCT 1ST W - ROBERT</td>\n",
       "      <td>N</td>\n",
       "      <td>N</td>\n",
       "      <td>South</td>\n",
       "      <td>O</td>\n",
       "      <td>O2</td>\n",
       "    </tr>\n",
       "    <tr>\n",
       "      <th>1</th>\n",
       "      <td>-</td>\n",
       "      <td>-1</td>\n",
       "      <td>20150000001463</td>\n",
       "      <td>28806</td>\n",
       "      <td>Field Contact</td>\n",
       "      <td>None</td>\n",
       "      <td>5670</td>\n",
       "      <td>1965</td>\n",
       "      <td>M</td>\n",
       "      <td>White</td>\n",
       "      <td>...</td>\n",
       "      <td>07:59:00</td>\n",
       "      <td>-</td>\n",
       "      <td>-</td>\n",
       "      <td>-</td>\n",
       "      <td>NaN</td>\n",
       "      <td>N</td>\n",
       "      <td>N</td>\n",
       "      <td>-</td>\n",
       "      <td>-</td>\n",
       "      <td>-</td>\n",
       "    </tr>\n",
       "    <tr>\n",
       "      <th>2</th>\n",
       "      <td>-</td>\n",
       "      <td>-1</td>\n",
       "      <td>20150000001516</td>\n",
       "      <td>29599</td>\n",
       "      <td>Field Contact</td>\n",
       "      <td>None</td>\n",
       "      <td>4844</td>\n",
       "      <td>1961</td>\n",
       "      <td>M</td>\n",
       "      <td>White</td>\n",
       "      <td>...</td>\n",
       "      <td>19:12:00</td>\n",
       "      <td>-</td>\n",
       "      <td>-</td>\n",
       "      <td>-</td>\n",
       "      <td>NaN</td>\n",
       "      <td>N</td>\n",
       "      <td>-</td>\n",
       "      <td>-</td>\n",
       "      <td>-</td>\n",
       "      <td>-</td>\n",
       "    </tr>\n",
       "    <tr>\n",
       "      <th>3</th>\n",
       "      <td>-</td>\n",
       "      <td>-1</td>\n",
       "      <td>20150000001670</td>\n",
       "      <td>32260</td>\n",
       "      <td>Field Contact</td>\n",
       "      <td>None</td>\n",
       "      <td>7539</td>\n",
       "      <td>1963</td>\n",
       "      <td>M</td>\n",
       "      <td>White</td>\n",
       "      <td>...</td>\n",
       "      <td>04:55:00</td>\n",
       "      <td>-</td>\n",
       "      <td>-</td>\n",
       "      <td>-</td>\n",
       "      <td>NaN</td>\n",
       "      <td>N</td>\n",
       "      <td>N</td>\n",
       "      <td>-</td>\n",
       "      <td>-</td>\n",
       "      <td>-</td>\n",
       "    </tr>\n",
       "    <tr>\n",
       "      <th>4</th>\n",
       "      <td>-</td>\n",
       "      <td>-1</td>\n",
       "      <td>20150000001739</td>\n",
       "      <td>33155</td>\n",
       "      <td>Field Contact</td>\n",
       "      <td>None</td>\n",
       "      <td>6973</td>\n",
       "      <td>1977</td>\n",
       "      <td>M</td>\n",
       "      <td>White</td>\n",
       "      <td>...</td>\n",
       "      <td>00:41:00</td>\n",
       "      <td>-</td>\n",
       "      <td>-</td>\n",
       "      <td>-</td>\n",
       "      <td>NaN</td>\n",
       "      <td>N</td>\n",
       "      <td>N</td>\n",
       "      <td>-</td>\n",
       "      <td>-</td>\n",
       "      <td>-</td>\n",
       "    </tr>\n",
       "  </tbody>\n",
       "</table>\n",
       "<p>5 rows × 23 columns</p>\n",
       "</div>"
      ],
      "text/plain": [
       "  Subject Age Group  Subject ID     GO / SC Num  Terry Stop ID  \\\n",
       "0                 -          -1  20140000120677          92317   \n",
       "1                 -          -1  20150000001463          28806   \n",
       "2                 -          -1  20150000001516          29599   \n",
       "3                 -          -1  20150000001670          32260   \n",
       "4                 -          -1  20150000001739          33155   \n",
       "\n",
       "  Stop Resolution Weapon Type Officer ID  Officer YOB Officer Gender  \\\n",
       "0          Arrest        None     7500           1984              M   \n",
       "1   Field Contact        None     5670           1965              M   \n",
       "2   Field Contact        None     4844           1961              M   \n",
       "3   Field Contact        None     7539           1963              M   \n",
       "4   Field Contact        None     6973           1977              M   \n",
       "\n",
       "                Officer Race  ... Reported Time Initial Call Type  \\\n",
       "0  Black or African American  ...      11:32:00                 -   \n",
       "1                      White  ...      07:59:00                 -   \n",
       "2                      White  ...      19:12:00                 -   \n",
       "3                      White  ...      04:55:00                 -   \n",
       "4                      White  ...      00:41:00                 -   \n",
       "\n",
       "  Final Call Type Call Type             Officer Squad Arrest Flag Frisk Flag  \\\n",
       "0               -         -  SOUTH PCT 1ST W - ROBERT           N          N   \n",
       "1               -         -                       NaN           N          N   \n",
       "2               -         -                       NaN           N          -   \n",
       "3               -         -                       NaN           N          N   \n",
       "4               -         -                       NaN           N          N   \n",
       "\n",
       "  Precinct  Sector    Beat  \n",
       "0    South  O       O2      \n",
       "1        -       -       -  \n",
       "2        -       -       -  \n",
       "3        -       -       -  \n",
       "4        -       -       -  \n",
       "\n",
       "[5 rows x 23 columns]"
      ]
     },
     "execution_count": 4,
     "metadata": {},
     "output_type": "execute_result"
    }
   ],
   "source": [
    "# checking first few rows\n",
    "df.head()"
   ]
  },
  {
   "cell_type": "code",
   "execution_count": 5,
   "metadata": {},
   "outputs": [
    {
     "name": "stdout",
     "output_type": "stream",
     "text": [
      "<class 'pandas.core.frame.DataFrame'>\n",
      "RangeIndex: 47213 entries, 0 to 47212\n",
      "Data columns (total 23 columns):\n",
      " #   Column                    Non-Null Count  Dtype \n",
      "---  ------                    --------------  ----- \n",
      " 0   Subject Age Group         47213 non-null  object\n",
      " 1   Subject ID                47213 non-null  int64 \n",
      " 2   GO / SC Num               47213 non-null  int64 \n",
      " 3   Terry Stop ID             47213 non-null  int64 \n",
      " 4   Stop Resolution           47213 non-null  object\n",
      " 5   Weapon Type               47213 non-null  object\n",
      " 6   Officer ID                47213 non-null  object\n",
      " 7   Officer YOB               47213 non-null  int64 \n",
      " 8   Officer Gender            47213 non-null  object\n",
      " 9   Officer Race              47213 non-null  object\n",
      " 10  Subject Perceived Race    47213 non-null  object\n",
      " 11  Subject Perceived Gender  47213 non-null  object\n",
      " 12  Reported Date             47213 non-null  object\n",
      " 13  Reported Time             47213 non-null  object\n",
      " 14  Initial Call Type         47213 non-null  object\n",
      " 15  Final Call Type           47213 non-null  object\n",
      " 16  Call Type                 47213 non-null  object\n",
      " 17  Officer Squad             46609 non-null  object\n",
      " 18  Arrest Flag               47213 non-null  object\n",
      " 19  Frisk Flag                47213 non-null  object\n",
      " 20  Precinct                  47213 non-null  object\n",
      " 21  Sector                    47213 non-null  object\n",
      " 22  Beat                      47213 non-null  object\n",
      "dtypes: int64(4), object(19)\n",
      "memory usage: 8.3+ MB\n"
     ]
    }
   ],
   "source": [
    "#  checking info\n",
    "df.info()"
   ]
  },
  {
   "cell_type": "code",
   "execution_count": 6,
   "metadata": {},
   "outputs": [
    {
     "data": {
      "text/plain": [
       "Subject Age Group             0\n",
       "Subject ID                    0\n",
       "GO / SC Num                   0\n",
       "Terry Stop ID                 0\n",
       "Stop Resolution               0\n",
       "Weapon Type                   0\n",
       "Officer ID                    0\n",
       "Officer YOB                   0\n",
       "Officer Gender                0\n",
       "Officer Race                  0\n",
       "Subject Perceived Race        0\n",
       "Subject Perceived Gender      0\n",
       "Reported Date                 0\n",
       "Reported Time                 0\n",
       "Initial Call Type             0\n",
       "Final Call Type               0\n",
       "Call Type                     0\n",
       "Officer Squad               604\n",
       "Arrest Flag                   0\n",
       "Frisk Flag                    0\n",
       "Precinct                      0\n",
       "Sector                        0\n",
       "Beat                          0\n",
       "dtype: int64"
      ]
     },
     "execution_count": 6,
     "metadata": {},
     "output_type": "execute_result"
    }
   ],
   "source": [
    "# checking for nulls\n",
    "df.isna().sum()"
   ]
  },
  {
   "cell_type": "code",
   "execution_count": 7,
   "metadata": {},
   "outputs": [],
   "source": [
    "# filling nulls and replacing - values\n",
    "df['Officer Squad'].fillna('NA', inplace=True)\n",
    "df.replace('-', 'NA', inplace=True)"
   ]
  },
  {
   "cell_type": "code",
   "execution_count": 8,
   "metadata": {},
   "outputs": [
    {
     "data": {
      "text/plain": [
       "Subject Age Group           0\n",
       "Subject ID                  0\n",
       "GO / SC Num                 0\n",
       "Terry Stop ID               0\n",
       "Stop Resolution             0\n",
       "Weapon Type                 0\n",
       "Officer ID                  0\n",
       "Officer YOB                 0\n",
       "Officer Gender              0\n",
       "Officer Race                0\n",
       "Subject Perceived Race      0\n",
       "Subject Perceived Gender    0\n",
       "Reported Date               0\n",
       "Reported Time               0\n",
       "Initial Call Type           0\n",
       "Final Call Type             0\n",
       "Call Type                   0\n",
       "Officer Squad               0\n",
       "Arrest Flag                 0\n",
       "Frisk Flag                  0\n",
       "Precinct                    0\n",
       "Sector                      0\n",
       "Beat                        0\n",
       "dtype: int64"
      ]
     },
     "execution_count": 8,
     "metadata": {},
     "output_type": "execute_result"
    }
   ],
   "source": [
    "#  checking work\n",
    "df.isna().sum()"
   ]
  },
  {
   "cell_type": "code",
   "execution_count": 9,
   "metadata": {},
   "outputs": [
    {
     "data": {
      "text/plain": [
       "array(['Arrest', 'Field Contact', 'Citation / Infraction',\n",
       "       'Offense Report', 'Referred for Prosecution'], dtype=object)"
      ]
     },
     "execution_count": 9,
     "metadata": {},
     "output_type": "execute_result"
    }
   ],
   "source": [
    "# checking uniques\n",
    "df['Stop Resolution'].unique()"
   ]
  },
  {
   "cell_type": "code",
   "execution_count": 10,
   "metadata": {},
   "outputs": [
    {
     "data": {
      "text/plain": [
       "array(['None', 'Firearm Other', 'Lethal Cutting Instrument', 'Handgun',\n",
       "       'NA', 'Club, Blackjack, Brass Knuckles',\n",
       "       'Knife/Cutting/Stabbing Instrument', 'Other Firearm', 'Rifle',\n",
       "       'Fire/Incendiary Device', 'Blunt Object/Striking Implement',\n",
       "       'Firearm (unk type)', 'Mace/Pepper Spray', 'None/Not Applicable',\n",
       "       'Club', 'Firearm', 'Taser/Stun Gun', 'Shotgun', 'Brass Knuckles',\n",
       "       'Automatic Handgun', 'Blackjack',\n",
       "       'Personal Weapons (hands, feet, etc.)'], dtype=object)"
      ]
     },
     "execution_count": 10,
     "metadata": {},
     "output_type": "execute_result"
    }
   ],
   "source": [
    "# checking weapon types\n",
    "df['Weapon Type'].unique()"
   ]
  },
  {
   "cell_type": "code",
   "execution_count": 11,
   "metadata": {
    "tags": []
   },
   "outputs": [],
   "source": [
    "# creating weapons flag\n",
    "df['Weapon Flag'] = df['Weapon Type']\n",
    "\n",
    "df['Weapon Flag'] = df['Weapon Flag'].replace(['None', 'NA', 'None/Not Applicable'], [0,0,0])\n",
    "df['Weapon Flag'] = df['Weapon Flag'].map(lambda x: 1 if x!=0 else 0)"
   ]
  },
  {
   "cell_type": "code",
   "execution_count": 12,
   "metadata": {},
   "outputs": [
    {
     "data": {
      "text/plain": [
       "array(['7500  ', '5670  ', '4844  ', ..., '6237  ', '6983  ', '5917  '],\n",
       "      dtype=object)"
      ]
     },
     "execution_count": 12,
     "metadata": {},
     "output_type": "execute_result"
    }
   ],
   "source": [
    "# checking uniques\n",
    "df['Officer ID'].unique()"
   ]
  },
  {
   "cell_type": "code",
   "execution_count": 13,
   "metadata": {},
   "outputs": [],
   "source": [
    "# stripping white spaces\n",
    "df['Officer ID']= df['Officer ID'].apply(lambda x: x.strip())"
   ]
  },
  {
   "cell_type": "code",
   "execution_count": 14,
   "metadata": {},
   "outputs": [
    {
     "data": {
      "text/plain": [
       "array(['Black or African American', 'White', 'Hispanic or Latino',\n",
       "       'Asian', 'American Indian/Alaska Native', 'Two or More Races',\n",
       "       'Not Specified', 'Nat Hawaiian/Oth Pac Islander', 'Unknown'],\n",
       "      dtype=object)"
      ]
     },
     "execution_count": 14,
     "metadata": {},
     "output_type": "execute_result"
    }
   ],
   "source": [
    "#  checking uniques\n",
    "df['Officer Race'].unique()"
   ]
  },
  {
   "cell_type": "code",
   "execution_count": 15,
   "metadata": {},
   "outputs": [],
   "source": [
    "# renaming categories for brevity\n",
    "officer_race_list = ['Black or African American', 'White', 'Hispanic or Latino',\n",
    "       'Asian', 'American Indian/Alaska Native', 'Two or More Races',\n",
    "       'Not Specified', 'Nat Hawaiian/Oth Pac Islander', 'Unknown']\n",
    "\n",
    "officer_replace_list = race_list = ['Black', 'White', 'Hispanic',\n",
    "       'Asian', 'N_American', 'Multi-Racial',\n",
    "       'NA', 'P_Islander', 'Unknown']\n",
    "\n",
    "df['Officer Race'] = df['Officer Race'].replace(officer_race_list, officer_replace_list)"
   ]
  },
  {
   "cell_type": "code",
   "execution_count": 16,
   "metadata": {},
   "outputs": [
    {
     "data": {
      "text/plain": [
       "array(['M', 'F', 'N'], dtype=object)"
      ]
     },
     "execution_count": 16,
     "metadata": {},
     "output_type": "execute_result"
    }
   ],
   "source": [
    "# checking uniques\n",
    "df['Officer Gender'].unique()"
   ]
  },
  {
   "cell_type": "code",
   "execution_count": 17,
   "metadata": {},
   "outputs": [
    {
     "data": {
      "text/plain": [
       "array(['Asian', 'NA', 'White', 'Black or African American', 'Other',\n",
       "       'Unknown', 'American Indian or Alaska Native', 'Hispanic',\n",
       "       'Multi-Racial', 'Native Hawaiian or Other Pacific Islander'],\n",
       "      dtype=object)"
      ]
     },
     "execution_count": 17,
     "metadata": {},
     "output_type": "execute_result"
    }
   ],
   "source": [
    "# checking uniques\n",
    "df['Subject Perceived Race'].unique()"
   ]
  },
  {
   "cell_type": "code",
   "execution_count": 18,
   "metadata": {},
   "outputs": [],
   "source": [
    "# renaming categories for brevity\n",
    "race_list = ['Asian', 'NA', 'White', 'Black or African American', 'Other',\n",
    "       'Unknown', 'American Indian or Alaska Native', 'Hispanic',\n",
    "       'Multi-Racial', 'Native Hawaiian or Other Pacific Islander']\n",
    "\n",
    "replace_list =['Asian', 'NA', 'White', 'Black', 'Other',\n",
    "       'Unknown', 'N_American', 'Hispanic',\n",
    "       'Multi-Racial', 'P_Islander']\n",
    "\n",
    "df['Subject Perceived Race'] = df['Subject Perceived Race'].replace(race_list, replace_list)"
   ]
  },
  {
   "cell_type": "code",
   "execution_count": 19,
   "metadata": {},
   "outputs": [
    {
     "data": {
      "text/plain": [
       "array(['Male', 'NA', 'Female', 'Unable to Determine', 'Unknown',\n",
       "       'Gender Diverse (gender non-conforming and/or transgender)'],\n",
       "      dtype=object)"
      ]
     },
     "execution_count": 19,
     "metadata": {},
     "output_type": "execute_result"
    }
   ],
   "source": [
    "# checking uniques\n",
    "df['Subject Perceived Gender'].unique()"
   ]
  },
  {
   "cell_type": "code",
   "execution_count": 20,
   "metadata": {},
   "outputs": [],
   "source": [
    "# renaming categories for brevity\n",
    "gender_list = ['Male', 'NA', 'Female', 'Unable to Determine', 'Unknown',\n",
    "       'Gender Diverse (gender non-conforming and/or transgender)']\n",
    "\n",
    "gender_replace = ['Male', 'NA', 'Female', 'Undetermined', 'Unknown',\n",
    "       'Gender Diverse']\n",
    "\n",
    "df['Subject Perceived Gender'] = df['Subject Perceived Gender'].replace(gender_list, gender_replace)"
   ]
  },
  {
   "cell_type": "code",
   "execution_count": 21,
   "metadata": {},
   "outputs": [
    {
     "name": "stdout",
     "output_type": "stream",
     "text": [
      "0    2015-10-16T00:00:00\n",
      "1    2015-03-19T00:00:00\n",
      "2    2015-03-21T00:00:00\n",
      "3    2015-04-01T00:00:00\n",
      "4    2015-04-03T00:00:00\n",
      "Name: Reported Date, dtype: object\n"
     ]
    },
    {
     "data": {
      "text/plain": [
       "0    11:32:00\n",
       "1    07:59:00\n",
       "2    19:12:00\n",
       "3    04:55:00\n",
       "4    00:41:00\n",
       "Name: Reported Time, dtype: object"
      ]
     },
     "execution_count": 21,
     "metadata": {},
     "output_type": "execute_result"
    }
   ],
   "source": [
    "# checking date and time columns\n",
    "print(df['Reported Date'][:5])\n",
    "df['Reported Time'][:5]"
   ]
  },
  {
   "cell_type": "code",
   "execution_count": 22,
   "metadata": {},
   "outputs": [],
   "source": [
    "# converting date & time columns to datetime types\n",
    "df = df.astype({'Reported Time':'datetime64', 'Reported Date':'datetime64'})"
   ]
  },
  {
   "cell_type": "code",
   "execution_count": 23,
   "metadata": {},
   "outputs": [],
   "source": [
    "#  getting year, month, day of month, day of week, and hour features\n",
    "df['Reported Year'] = df['Reported Date'].dt.year\n",
    "df['Reported Month'] = df['Reported Date'].dt.month\n",
    "df['Day of Month'] = df['Reported Date'].dt.day\n",
    "\n",
    "# Monday = 0, Sunday = 6\n",
    "df['Day of Week'] = df['Reported Date'].dt.weekday\n",
    "df['Reported Hour'] = df['Reported Time'].dt.hour"
   ]
  },
  {
   "cell_type": "code",
   "execution_count": 24,
   "metadata": {},
   "outputs": [
    {
     "data": {
      "text/html": [
       "<div>\n",
       "<style scoped>\n",
       "    .dataframe tbody tr th:only-of-type {\n",
       "        vertical-align: middle;\n",
       "    }\n",
       "\n",
       "    .dataframe tbody tr th {\n",
       "        vertical-align: top;\n",
       "    }\n",
       "\n",
       "    .dataframe thead th {\n",
       "        text-align: right;\n",
       "    }\n",
       "</style>\n",
       "<table border=\"1\" class=\"dataframe\">\n",
       "  <thead>\n",
       "    <tr style=\"text-align: right;\">\n",
       "      <th></th>\n",
       "      <th>Subject Age Group</th>\n",
       "      <th>Subject ID</th>\n",
       "      <th>GO / SC Num</th>\n",
       "      <th>Terry Stop ID</th>\n",
       "      <th>Stop Resolution</th>\n",
       "      <th>Weapon Type</th>\n",
       "      <th>Officer ID</th>\n",
       "      <th>Officer YOB</th>\n",
       "      <th>Officer Gender</th>\n",
       "      <th>Officer Race</th>\n",
       "      <th>...</th>\n",
       "      <th>Frisk Flag</th>\n",
       "      <th>Precinct</th>\n",
       "      <th>Sector</th>\n",
       "      <th>Beat</th>\n",
       "      <th>Weapon Flag</th>\n",
       "      <th>Reported Year</th>\n",
       "      <th>Reported Month</th>\n",
       "      <th>Day of Month</th>\n",
       "      <th>Day of Week</th>\n",
       "      <th>Reported Hour</th>\n",
       "    </tr>\n",
       "  </thead>\n",
       "  <tbody>\n",
       "    <tr>\n",
       "      <th>0</th>\n",
       "      <td>NA</td>\n",
       "      <td>-1</td>\n",
       "      <td>20140000120677</td>\n",
       "      <td>92317</td>\n",
       "      <td>Arrest</td>\n",
       "      <td>None</td>\n",
       "      <td>7500</td>\n",
       "      <td>1984</td>\n",
       "      <td>M</td>\n",
       "      <td>Black</td>\n",
       "      <td>...</td>\n",
       "      <td>N</td>\n",
       "      <td>South</td>\n",
       "      <td>O</td>\n",
       "      <td>O2</td>\n",
       "      <td>0</td>\n",
       "      <td>2015</td>\n",
       "      <td>10</td>\n",
       "      <td>16</td>\n",
       "      <td>4</td>\n",
       "      <td>11</td>\n",
       "    </tr>\n",
       "    <tr>\n",
       "      <th>39233</th>\n",
       "      <td>46 - 55</td>\n",
       "      <td>-1</td>\n",
       "      <td>20150000218351</td>\n",
       "      <td>58128</td>\n",
       "      <td>Referred for Prosecution</td>\n",
       "      <td>None</td>\n",
       "      <td>7459</td>\n",
       "      <td>1973</td>\n",
       "      <td>M</td>\n",
       "      <td>White</td>\n",
       "      <td>...</td>\n",
       "      <td>Y</td>\n",
       "      <td>North</td>\n",
       "      <td>B</td>\n",
       "      <td>B1</td>\n",
       "      <td>0</td>\n",
       "      <td>2015</td>\n",
       "      <td>6</td>\n",
       "      <td>28</td>\n",
       "      <td>6</td>\n",
       "      <td>5</td>\n",
       "    </tr>\n",
       "  </tbody>\n",
       "</table>\n",
       "<p>2 rows × 29 columns</p>\n",
       "</div>"
      ],
      "text/plain": [
       "      Subject Age Group  Subject ID     GO / SC Num  Terry Stop ID  \\\n",
       "0                    NA          -1  20140000120677          92317   \n",
       "39233           46 - 55          -1  20150000218351          58128   \n",
       "\n",
       "                Stop Resolution Weapon Type Officer ID  Officer YOB  \\\n",
       "0                        Arrest        None       7500         1984   \n",
       "39233  Referred for Prosecution        None       7459         1973   \n",
       "\n",
       "      Officer Gender Officer Race  ... Frisk Flag Precinct  Sector    Beat  \\\n",
       "0                  M        Black  ...          N    South  O       O2       \n",
       "39233              M        White  ...          Y    North  B       B1       \n",
       "\n",
       "      Weapon Flag Reported Year Reported Month Day of Month Day of Week  \\\n",
       "0               0          2015             10           16           4   \n",
       "39233           0          2015              6           28           6   \n",
       "\n",
       "      Reported Hour  \n",
       "0                11  \n",
       "39233             5  \n",
       "\n",
       "[2 rows x 29 columns]"
      ]
     },
     "execution_count": 24,
     "metadata": {},
     "output_type": "execute_result"
    }
   ],
   "source": [
    "# checking work\n",
    "df.sort_values(by='Reported Year').head(2)"
   ]
  },
  {
   "cell_type": "code",
   "execution_count": 25,
   "metadata": {},
   "outputs": [],
   "source": [
    "# dropping date and time columns\n",
    "df.drop(['Reported Date', 'Reported Time'], axis=1, inplace=True)"
   ]
  },
  {
   "cell_type": "code",
   "execution_count": 26,
   "metadata": {},
   "outputs": [
    {
     "data": {
      "text/plain": [
       "NA                                                13162\n",
       "SUSPICIOUS STOP - OFFICER INITIATED ONVIEW         3165\n",
       "SUSPICIOUS PERSON, VEHICLE OR INCIDENT             2994\n",
       "DISTURBANCE, MISCELLANEOUS/OTHER                   2429\n",
       "ASLT - IP/JO - WITH OR W/O WPNS (NO SHOOTINGS)     2007\n",
       "                                                  ...  \n",
       "INJURED -  PERSON/INDUSTRIAL ACCIDENT                 1\n",
       "MISSING - (ALZHEIMER, ENDANGERED, ELDERLY)            1\n",
       "VICE - PORNOGRAPHY                                    1\n",
       "REQUEST TO WATCH                                      1\n",
       "HARBOR - WATER EMERGENCIES                            1\n",
       "Name: Initial Call Type, Length: 167, dtype: int64"
      ]
     },
     "execution_count": 26,
     "metadata": {},
     "output_type": "execute_result"
    }
   ],
   "source": [
    "df['Initial Call Type'].value_counts()"
   ]
  },
  {
   "cell_type": "code",
   "execution_count": 27,
   "metadata": {},
   "outputs": [
    {
     "data": {
      "text/plain": [
       "NA                                              13162\n",
       "--SUSPICIOUS CIRCUM. - SUSPICIOUS PERSON         3772\n",
       "--PROWLER - TRESPASS                             3330\n",
       "--DISTURBANCE - OTHER                            2719\n",
       "--ASSAULTS, OTHER                                2297\n",
       "                                                ...  \n",
       "PEACE-STANDBY TO ASSURE (NO COURT ORDR SVC)         1\n",
       "FIGHT - VERBAL/ORAL (NO WEAPONS)                    1\n",
       "TRAFFIC - MOVING VIOLATION                          1\n",
       "UNDERCOVER OPS, CAUTION (INCLUDES STAKEOUTS)        1\n",
       "DOWN - CHECK FOR DOWN PERSON                        1\n",
       "Name: Final Call Type, Length: 207, dtype: int64"
      ]
     },
     "execution_count": 27,
     "metadata": {},
     "output_type": "execute_result"
    }
   ],
   "source": [
    "df['Final Call Type'].value_counts()"
   ]
  },
  {
   "cell_type": "code",
   "execution_count": 28,
   "metadata": {},
   "outputs": [
    {
     "data": {
      "text/plain": [
       "911                              21284\n",
       "NA                               13162\n",
       "ONVIEW                            9110\n",
       "TELEPHONE OTHER, NOT 911          3309\n",
       "ALARM CALL (NOT POLICE ALARM)      340\n",
       "TEXT MESSAGE                         7\n",
       "SCHEDULED EVENT (RECURRING)          1\n",
       "Name: Call Type, dtype: int64"
      ]
     },
     "execution_count": 28,
     "metadata": {},
     "output_type": "execute_result"
    }
   ],
   "source": [
    "df['Call Type'].value_counts()"
   ]
  },
  {
   "cell_type": "code",
   "execution_count": 29,
   "metadata": {},
   "outputs": [
    {
     "data": {
      "text/plain": [
       "TRAINING - FIELD TRAINING SQUAD                 5098\n",
       "WEST PCT 1ST W - DAVID/MARY                     1546\n",
       "WEST PCT 2ND W - D/M RELIEF                     1020\n",
       "SOUTHWEST PCT 2ND W - FRANK                      970\n",
       "NORTH PCT 2ND WATCH - NORTH BEATS                885\n",
       "                                                ... \n",
       "VICE - GENERAL INVESTIGATIONS SQUAD                1\n",
       "SOUTHWEST PCT OPS - BURG/THEFT                     1\n",
       "HR - BLEA - ACADEMY RECRUITS                       1\n",
       "COMMUNITY OUTREACH - SPECIAL PROJECTS DETAIL       1\n",
       "CANINE - DAY SQUAD                                 1\n",
       "Name: Officer Squad, Length: 173, dtype: int64"
      ]
     },
     "execution_count": 29,
     "metadata": {},
     "output_type": "execute_result"
    }
   ],
   "source": [
    "df['Officer Squad'].value_counts()"
   ]
  },
  {
   "cell_type": "code",
   "execution_count": 30,
   "metadata": {},
   "outputs": [
    {
     "data": {
      "text/plain": [
       "array(['SOUTH PCT 1ST W - ROBERT', 'NA', 'WEST PCT 3RD W - MARY',\n",
       "       'SOUTH PCT 1ST W - R/S RELIEF', 'WEST PCT 2ND W - MARY BEATS',\n",
       "       'WEST PCT 2ND W - SPECIAL BEATS',\n",
       "       'TRAINING - FIELD TRAINING SQUAD', 'NORTH PCT 3RD W - LINCOLN',\n",
       "       'SOUTH PCT 3RD W - ROBERT', 'NORTH PCT 2ND W - NORA',\n",
       "       'NORTH PCT 2ND WATCH - B/N RELIEF', 'WEST PCT 3RD W - K/Q RELIEF',\n",
       "       'SOUTHWEST PCT 2ND W - WILLIAM', 'WEST PCT OPS - ACT NIGHT',\n",
       "       'WEST PCT 2ND W - KING', 'SOUTHWEST PCT 3RD W - WILLIAM',\n",
       "       'WEST PCT 2ND W - KING BEATS', 'SOUTH PCT OPS - NIGHT ACT',\n",
       "       'WEST PCT 2ND W - D/M RELIEF', 'NORTH PCT 1ST W - LINCOLN',\n",
       "       'NORTH PCT 1ST W - L/U RELIEF', 'WEST PCT 1ST W - KQ/DM RELIEF',\n",
       "       'SOUTH PCT 2ND W - OCEAN RELIEF', 'NORTH PCT OPS - ACT DAY',\n",
       "       'SOUTH PCT 3RD W - OCEAN', 'NORTH PCT 3RD W - NORA',\n",
       "       'WEST PCT 1ST W - DAVID/MARY', 'EAST PCT 2ND W - EDWARD',\n",
       "       'SOUTHWEST PCT 1ST W - FRANK', 'SOUTH PCT 1ST W - SAM',\n",
       "       'SOUTHWEST PCT 1ST W - WILLIAM', 'WEST PCT 2ND W - QUEEN',\n",
       "       'NORTH PCT 3RD W - JOHN', 'SOUTHWEST PCT 2ND WATCH - F/W RELIEF',\n",
       "       'EAST PCT 1ST W - GEORGE (CHARLIE)',\n",
       "       'WEST PCT 2ND W - DAVID BEATS', 'NORTH PCT 2ND W - L/U RELIEF',\n",
       "       'EAST PCT 3RD W - E/G RELIEF', 'EAST PCT 1ST W - EDWARD (CHARLIE)',\n",
       "       'SOUTH PCT 3RD W - SAM', 'NORTH PCT 3RD W - BOY',\n",
       "       'SOUTH PCT 2ND W - SAM', 'NORTH PCT 3RD W - B/N RELIEF',\n",
       "       'NORTH PCT 1ST W - BOY (JOHN)', 'SOUTH PCT 3RD W - R/S RELIEF',\n",
       "       'NORTH PCT 2ND W - UNION', 'WEST PCT 2ND W - DAVID',\n",
       "       'SOUTH PCT 3RD W - OCEAN RELIEF', 'SOUTH PCT 2ND W - OCEAN',\n",
       "       'NORTH PCT 1ST W - UNION', 'WEST PCT 3RD W - KING',\n",
       "       'SOUTHWEST PCT OPS - NIGHT ACT', 'NORTH PCT 2ND W - LINCOLN',\n",
       "       'EAST PCT 1ST W - E/G RELIEF (CHARLIE)',\n",
       "       'NORTH PCT 1ST W - NORA (JOHN)', 'EAST PCT 3RD W - EDWARD',\n",
       "       'NARC - PROACTIVE SQUAD C', 'NORTH PCT 2ND W - JOHN RELIEF',\n",
       "       'OPS BUREAU - SPECIAL ASSIGNMENTS',\n",
       "       'NORTH PCT 2ND WATCH - NORTH BEATS', 'EAST PCT 2ND W - CHARLIE',\n",
       "       'MAJOR CRIMES TASK FORCE', 'EAST PCT OPS - NIGHT ACT',\n",
       "       'NORTH PCT 1ST W - B/N RELIEF (JOHN)',\n",
       "       'SOUTHWEST PCT 2ND W - FRANK', 'TRAF - DUI SQUAD',\n",
       "       'NORTH PCT 3RD W - UNION', 'EAST PCT 2ND W - E/G RELIEF',\n",
       "       'EAST PCT 3RD W - GEORGE',\n",
       "       'SOUTHWEST PCT - 3RD WATCH - F/W RELIEF', 'NORTH PCT 2ND W - BOY',\n",
       "       'EAST PCT 2ND W - GEORGE', 'WEST PCT 3RD W - DAVID BEATS',\n",
       "       'SOUTHWEST PCT - 1ST WATCH - F/W RELIEF',\n",
       "       'SOUTH PCT OPS - DAY ACT', 'WEST PCT 2ND W - MARY',\n",
       "       'NORTH PCT 2ND W - JOHN', 'GANG SQUAD B',\n",
       "       'EAST PCT 3RD WATCH - CHARLIE RELIEF', 'SOUTH PCT 2ND W - ROBERT',\n",
       "       'EAST PCT 3RD W - CHARLIE', 'NORTH PCT 3RD W - L/U RELIEF',\n",
       "       'SOUTH PCT OPS - CPT', 'SOUTHWEST PCT 2ND W - SOUTHWEST BEATS',\n",
       "       'SOUTHWEST PCT 3RD W - FRANK',\n",
       "       'TRAINING - LEARNING MANAGEMENT SYSTEM',\n",
       "       'WEST PCT 1ST W - KING/QUEEN', 'WEST PCT OPS - CPT',\n",
       "       'SWAT - NIGHT SQUAD 2', 'CANINE - NIGHT SQUAD', 'SAU SQUAD A',\n",
       "       'NORTH PCT OPS - CPT', 'SOUTH PCT 2ND W - R/S RELIEF',\n",
       "       'CANINE - SQUAD C', 'WEST PCT 2ND W - K/Q RELIEF',\n",
       "       'SOUTH PCT 1ST W - OCEAN', 'EAST PCT 2ND W - BEATS',\n",
       "       'WEST PCT 3RD W - D/M RELIEF', 'WEST PCT 3RD W - DAVID',\n",
       "       'ROBBERY SQUAD B', 'SWAT - DAY SQUAD 2',\n",
       "       'NORTH PCT 3RD W - JOHN RELIEF', 'EAST PCT 2ND W - CHARLIE RELIEF',\n",
       "       'GANG SQUAD C', 'WEST PCT 3RD W - QUEEN',\n",
       "       'COMM - INTERNET AND TELEPHONE REPORTING (ITRU)',\n",
       "       'CRG - SQUAD 82D', 'CRG - SQUAD 81D', 'CRG - SQUAD 81A',\n",
       "       'CRG - SQUAD 82E', 'TRAF - MOTORCYCLE UNIT - T3 SQUAD',\n",
       "       'WEST PCT OPS - COMMERCIAL SEC', 'CRG - SQUAD 82B',\n",
       "       'CRISIS RESPONSE SQUAD', 'CCI - MAJOR CRIMES TASK FORCE',\n",
       "       'DV SQUAD D - ORDER SERVICE', 'GANG SQUAD A', 'CRG - SQUAD 81B',\n",
       "       'ROBBERY SQUAD A', 'BURG/THEFT/JUV - SOUTH', 'EAST PCT OPS - CPT',\n",
       "       'WEST PCT OPS - SEA CTR', 'SWAT - DAY SQUAD 1', 'HARBOR - SQUAD A',\n",
       "       'SOUTH PCT 2ND W - SAM BEATS', 'EAST PCT 3RD W - EAST BEATS',\n",
       "       'CANINE - SQUAD A', 'TRAF - AM ENFORCEMENT',\n",
       "       'SOUTH PCT OPS - BURG/THEFT',\n",
       "       'HR - DEPARTMENT UNAVAILABLE PERSONNEL', 'AUTO THEFT',\n",
       "       'COMMUNITY OUTREACH UNIT', 'SOUTHWEST PCT OPS - CPT',\n",
       "       'COMMUNITY OUTREACH - YOUTH VIOLENCE -SCHOOLS DETAIL',\n",
       "       'DV SQUAD A - INVESTIGATIONS',\n",
       "       'COMMUNITY OUTREACH - SPECIAL PROJECTS DETAIL',\n",
       "       'CRISIS INTERVENTION COORDINATION SQUAD',\n",
       "       'HR - HUMAN RESOURCES  - DEPT UNAVAIL PERSONNEL',\n",
       "       'BURG/THEFT/JUV - WEST', 'BURG/THEFT/JUV - NORTH',\n",
       "       'BURG/THEFT/JUV - EAST', 'WEST PCT OPS - MOUNTED PATROL',\n",
       "       'PAWN DETAIL', 'JOINT ENFORCEMENT TEAM',\n",
       "       'SOUTHWEST PCT OPS - DAY ACT', 'SOUTHWEST PCT OPS - BURG/THEFT',\n",
       "       'SWAT - NIGHT SQUAD 1', 'NORTH PCT OPS - BURG/THEFT',\n",
       "       'CRG - SQUAD 81C', 'CRG - SQUAD 81E', 'CRG - SQUAD 82C',\n",
       "       'CRG - SQUAD 82A', 'WEST PCT OPS - BURG/THEFT',\n",
       "       'HR - BLEA - ACADEMY RECRUITS', 'PUBLIC AFFAIRS SQUAD',\n",
       "       'TRAF - PM ENFORCEMENT', 'TRAF - COLLISION INVESTIGATION',\n",
       "       'CANINE - DAY SQUAD', 'JOINT ENFORCEMENT TEAM (JET)',\n",
       "       'COMMUNITY OUTREACH - YOUTH VIOLENCE-SCHOOLS DETAIL',\n",
       "       'EAST PCT OPS - BURG/THEFT', 'DV SQUAD C - ELDER ABUSE',\n",
       "       'SAU SQUAD B', 'NAVIGATION TEAM - SQUAD A', 'HARBOR - SQUAD D',\n",
       "       'TRAF - MOTORCYCLE UNIT - T4 SQUAD', 'RECORDS - DAY SHIFT',\n",
       "       'TRAINING - ADVANCED - SQUAD C', 'NORTH PCT 2ND W - PCT SUPPORT',\n",
       "       'TRAF - MOTORCYCLE UNIT - T2 SQUAD',\n",
       "       'VICE - GENERAL INVESTIGATIONS SQUAD', 'NAVIGATION TEAM - SQUAD B',\n",
       "       'ZOLD CRIME ANALYSIS UNIT - ANALYSTS'], dtype=object)"
      ]
     },
     "execution_count": 30,
     "metadata": {},
     "output_type": "execute_result"
    }
   ],
   "source": [
    "df['Officer Squad'].unique()"
   ]
  },
  {
   "cell_type": "code",
   "execution_count": 31,
   "metadata": {},
   "outputs": [
    {
     "data": {
      "text/plain": [
       "N    43754\n",
       "Y     3459\n",
       "Name: Arrest Flag, dtype: int64"
      ]
     },
     "execution_count": 31,
     "metadata": {},
     "output_type": "execute_result"
    }
   ],
   "source": [
    "df['Arrest Flag'].value_counts()"
   ]
  },
  {
   "cell_type": "code",
   "execution_count": 32,
   "metadata": {},
   "outputs": [],
   "source": [
    "#  binarizing arrest flag\n",
    "df['Arrest Flag'] = df['Arrest Flag'].replace('Y', 1)\n",
    "df['Arrest Flag'] =df['Arrest Flag'].map(lambda x: 0 if x!=1 else 1)"
   ]
  },
  {
   "cell_type": "code",
   "execution_count": 33,
   "metadata": {},
   "outputs": [
    {
     "data": {
      "text/plain": [
       "0    43754\n",
       "1     3459\n",
       "Name: Arrest Flag, dtype: int64"
      ]
     },
     "execution_count": 33,
     "metadata": {},
     "output_type": "execute_result"
    }
   ],
   "source": [
    "df['Arrest Flag'].value_counts()"
   ]
  },
  {
   "cell_type": "code",
   "execution_count": 34,
   "metadata": {
    "tags": []
   },
   "outputs": [
    {
     "data": {
      "text/plain": [
       "N     36147\n",
       "Y     10588\n",
       "NA      478\n",
       "Name: Frisk Flag, dtype: int64"
      ]
     },
     "execution_count": 34,
     "metadata": {},
     "output_type": "execute_result"
    }
   ],
   "source": [
    "df['Frisk Flag'].value_counts()"
   ]
  },
  {
   "cell_type": "code",
   "execution_count": 35,
   "metadata": {},
   "outputs": [],
   "source": [
    "#  binarizing frisk flag\n",
    "df['Frisk Flag'] = df['Frisk Flag'].replace('Y', 1)\n",
    "df['Frisk Flag'] =df['Frisk Flag'].map(lambda x: 0 if x!=1 else 1)"
   ]
  },
  {
   "cell_type": "code",
   "execution_count": 36,
   "metadata": {},
   "outputs": [
    {
     "data": {
      "text/plain": [
       "0    36625\n",
       "1    10588\n",
       "Name: Frisk Flag, dtype: int64"
      ]
     },
     "execution_count": 36,
     "metadata": {},
     "output_type": "execute_result"
    }
   ],
   "source": [
    "df['Frisk Flag'].value_counts()"
   ]
  },
  {
   "cell_type": "code",
   "execution_count": 37,
   "metadata": {},
   "outputs": [
    {
     "data": {
      "text/plain": [
       "array(['South', 'NA', 'East', 'North', 'West', 'Southwest', 'Unknown',\n",
       "       'SouthWest', 'OOJ', 'FK ERROR'], dtype=object)"
      ]
     },
     "execution_count": 37,
     "metadata": {},
     "output_type": "execute_result"
    }
   ],
   "source": [
    "df['Precinct'].unique()"
   ]
  },
  {
   "cell_type": "code",
   "execution_count": 38,
   "metadata": {},
   "outputs": [
    {
     "data": {
      "text/plain": [
       "West         11432\n",
       "North        10385\n",
       "NA            9859\n",
       "East          6213\n",
       "South         5653\n",
       "Southwest     2320\n",
       "SouthWest     1098\n",
       "Unknown        200\n",
       "OOJ             33\n",
       "FK ERROR        20\n",
       "Name: Precinct, dtype: int64"
      ]
     },
     "execution_count": 38,
     "metadata": {},
     "output_type": "execute_result"
    }
   ],
   "source": [
    "df['Precinct'].value_counts()"
   ]
  },
  {
   "cell_type": "code",
   "execution_count": 39,
   "metadata": {},
   "outputs": [],
   "source": [
    "# fixing Southwest precinct\n",
    "df['Precinct'] = df['Precinct'].replace('SouthWest', 'Southwest')"
   ]
  },
  {
   "cell_type": "code",
   "execution_count": 40,
   "metadata": {},
   "outputs": [],
   "source": [
    "drop_list = ['Unknown', 'OOJ', 'FK ERROR']\n",
    "df = df[~df['Precinct'].isin(drop_list)]"
   ]
  },
  {
   "cell_type": "code",
   "execution_count": 41,
   "metadata": {},
   "outputs": [
    {
     "data": {
      "text/plain": [
       "West         11432\n",
       "North        10385\n",
       "NA            9859\n",
       "East          6213\n",
       "South         5653\n",
       "Southwest     3418\n",
       "Name: Precinct, dtype: int64"
      ]
     },
     "execution_count": 41,
     "metadata": {},
     "output_type": "execute_result"
    }
   ],
   "source": [
    "df['Precinct'].value_counts()"
   ]
  },
  {
   "cell_type": "code",
   "execution_count": 42,
   "metadata": {},
   "outputs": [
    {
     "data": {
      "text/plain": [
       "NA        9865\n",
       "E         2337\n",
       "M         2270\n",
       "N         2191\n",
       "K         1762\n",
       "K         1725\n",
       "B         1658\n",
       "L         1639\n",
       "D         1512\n",
       "R         1455\n",
       "F         1378\n",
       "S         1348\n",
       "U         1302\n",
       "M         1254\n",
       "O         1161\n",
       "D         1144\n",
       "J         1119\n",
       "G         1087\n",
       "C         1037\n",
       "Q          967\n",
       "W          941\n",
       "E          925\n",
       "Q          794\n",
       "N          694\n",
       "F          669\n",
       "R          616\n",
       "O          598\n",
       "B          518\n",
       "S          476\n",
       "U          453\n",
       "G          442\n",
       "W          428\n",
       "L          416\n",
       "J          395\n",
       "C          384\n",
       "Name: Sector, dtype: int64"
      ]
     },
     "execution_count": 42,
     "metadata": {},
     "output_type": "execute_result"
    }
   ],
   "source": [
    "df['Sector'].value_counts()"
   ]
  },
  {
   "cell_type": "code",
   "execution_count": 43,
   "metadata": {},
   "outputs": [
    {
     "data": {
      "text/plain": [
       "NA        9859\n",
       "N3        1175\n",
       "E2        1092\n",
       "K3         964\n",
       "M2         852\n",
       "          ... \n",
       "C2          87\n",
       "U3          85\n",
       "J2          75\n",
       "N1          73\n",
       "99           2\n",
       "Name: Beat, Length: 104, dtype: int64"
      ]
     },
     "execution_count": 43,
     "metadata": {},
     "output_type": "execute_result"
    }
   ],
   "source": [
    "df['Beat'].value_counts()"
   ]
  },
  {
   "cell_type": "code",
   "execution_count": 44,
   "metadata": {},
   "outputs": [],
   "source": [
    "# creating beat flag\n",
    "df['Beat Flag'] = df['Beat']\n",
    "\n",
    "df['Beat Flag'] = df['Beat Flag'].replace('NA', 0)\n",
    "df['Beat Flag'] = df['Beat Flag'].map(lambda x: 1 if x!=0 else 0)"
   ]
  },
  {
   "cell_type": "code",
   "execution_count": 45,
   "metadata": {},
   "outputs": [
    {
     "data": {
      "text/plain": [
       "1    37101\n",
       "0     9859\n",
       "Name: Beat Flag, dtype: int64"
      ]
     },
     "execution_count": 45,
     "metadata": {},
     "output_type": "execute_result"
    }
   ],
   "source": [
    "df['Beat Flag'].value_counts()"
   ]
  },
  {
   "cell_type": "code",
   "execution_count": 46,
   "metadata": {},
   "outputs": [
    {
     "name": "stdout",
     "output_type": "stream",
     "text": [
      "<class 'pandas.core.frame.DataFrame'>\n",
      "Int64Index: 46960 entries, 0 to 47212\n",
      "Data columns (total 28 columns):\n",
      " #   Column                    Non-Null Count  Dtype \n",
      "---  ------                    --------------  ----- \n",
      " 0   Subject Age Group         46960 non-null  object\n",
      " 1   Subject ID                46960 non-null  int64 \n",
      " 2   GO / SC Num               46960 non-null  int64 \n",
      " 3   Terry Stop ID             46960 non-null  int64 \n",
      " 4   Stop Resolution           46960 non-null  object\n",
      " 5   Weapon Type               46960 non-null  object\n",
      " 6   Officer ID                46960 non-null  object\n",
      " 7   Officer YOB               46960 non-null  int64 \n",
      " 8   Officer Gender            46960 non-null  object\n",
      " 9   Officer Race              46960 non-null  object\n",
      " 10  Subject Perceived Race    46960 non-null  object\n",
      " 11  Subject Perceived Gender  46960 non-null  object\n",
      " 12  Initial Call Type         46960 non-null  object\n",
      " 13  Final Call Type           46960 non-null  object\n",
      " 14  Call Type                 46960 non-null  object\n",
      " 15  Officer Squad             46960 non-null  object\n",
      " 16  Arrest Flag               46960 non-null  int64 \n",
      " 17  Frisk Flag                46960 non-null  int64 \n",
      " 18  Precinct                  46960 non-null  object\n",
      " 19  Sector                    46960 non-null  object\n",
      " 20  Beat                      46960 non-null  object\n",
      " 21  Weapon Flag               46960 non-null  int64 \n",
      " 22  Reported Year             46960 non-null  int64 \n",
      " 23  Reported Month            46960 non-null  int64 \n",
      " 24  Day of Month              46960 non-null  int64 \n",
      " 25  Day of Week               46960 non-null  int64 \n",
      " 26  Reported Hour             46960 non-null  int64 \n",
      " 27  Beat Flag                 46960 non-null  int64 \n",
      "dtypes: int64(13), object(15)\n",
      "memory usage: 10.4+ MB\n"
     ]
    }
   ],
   "source": [
    "df.info()"
   ]
  },
  {
   "cell_type": "code",
   "execution_count": 47,
   "metadata": {},
   "outputs": [],
   "source": [
    "# creating and binarizing the target feature\n",
    "df['Target'] = df['Stop Resolution']\n",
    "\n",
    "df['Target'] = df['Target'].replace('Arrest', 1)\n",
    "df['Target'] = df['Target'].map(lambda x: 0 if (x!=1) else 1)"
   ]
  },
  {
   "cell_type": "code",
   "execution_count": 48,
   "metadata": {},
   "outputs": [],
   "source": [
    "# moving target to the front of the data frame\n",
    "column_name = 'Target'\n",
    "first_column = df.pop(column_name)\n",
    "df.insert(0, column_name, first_column)"
   ]
  },
  {
   "cell_type": "code",
   "execution_count": 49,
   "metadata": {},
   "outputs": [
    {
     "data": {
      "text/plain": [
       "Index(['Target', 'Subject Age Group', 'Subject ID', 'GO / SC Num',\n",
       "       'Terry Stop ID', 'Stop Resolution', 'Weapon Type', 'Officer ID',\n",
       "       'Officer YOB', 'Officer Gender', 'Officer Race',\n",
       "       'Subject Perceived Race', 'Subject Perceived Gender',\n",
       "       'Initial Call Type', 'Final Call Type', 'Call Type', 'Officer Squad',\n",
       "       'Arrest Flag', 'Frisk Flag', 'Precinct', 'Sector', 'Beat',\n",
       "       'Weapon Flag', 'Reported Year', 'Reported Month', 'Day of Month',\n",
       "       'Day of Week', 'Reported Hour', 'Beat Flag'],\n",
       "      dtype='object')"
      ]
     },
     "execution_count": 49,
     "metadata": {},
     "output_type": "execute_result"
    }
   ],
   "source": [
    "# checking columns\n",
    "df.columns"
   ]
  },
  {
   "cell_type": "code",
   "execution_count": 50,
   "metadata": {},
   "outputs": [],
   "source": [
    "# dropping columns\n",
    "df.drop(['Subject ID', 'GO / SC Num',\n",
    "         'Terry Stop ID'], axis=1, inplace=True)"
   ]
  },
  {
   "cell_type": "code",
   "execution_count": 51,
   "metadata": {},
   "outputs": [],
   "source": [
    "# path2 = os.path.join(gparent, 'data/processed', 'cleaned1.csv')\n",
    "# df.to_csv(path2, index=False, na_rep='NA')"
   ]
  },
  {
   "cell_type": "code",
   "execution_count": null,
   "metadata": {},
   "outputs": [],
   "source": []
  }
 ],
 "metadata": {
  "kernelspec": {
   "display_name": "terry_stops",
   "language": "python",
   "name": "terry_stops"
  },
  "language_info": {
   "codemirror_mode": {
    "name": "ipython",
    "version": 3
   },
   "file_extension": ".py",
   "mimetype": "text/x-python",
   "name": "python",
   "nbconvert_exporter": "python",
   "pygments_lexer": "ipython3",
   "version": "3.9.4"
  }
 },
 "nbformat": 4,
 "nbformat_minor": 4
}
